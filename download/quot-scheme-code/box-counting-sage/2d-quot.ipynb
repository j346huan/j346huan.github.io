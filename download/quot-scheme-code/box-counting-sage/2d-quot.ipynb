{
 "cells": [
  {
   "cell_type": "code",
   "execution_count": 1,
   "metadata": {},
   "outputs": [],
   "source": [
    "reset()\n",
    "%display latex\n",
    "Partitions.options.latex=\"list\"\n",
    "load(\"setup.sage\")\n",
    "\n",
    "KT_vars = ['x','y','z1','z2','z3','z4','z5','v1','v2','v3','v4','v5']\n",
    "KT_ring = LaurentPolynomialRing(QQ, KT_vars)\n",
    "\n",
    "coho_vars = ['t','m','l1','l2','l3','l4','l5','w1','w2','w3','w4','w5']\n",
    "coho_ring = LaurentPolynomialRing(QQ, coho_vars)\n",
    "\n",
    "poly_ring = PolynomialRing(ZZ, coho_vars)\n",
    "\n",
    "\n",
    "x,y,z1,z2,z3,z4,z5,v1,v2,v3,v4,v5=KT_ring.gens()\n",
    "t,m,l1,l2,l3,l4,l5,w1,w2,w3,w4,w5= poly_ring.gens()\n",
    "b=var('b')\n",
    "'''   w=SR.var('w',5)   '''\n",
    "v=[v1,v2,v3,v4,v5]\n",
    "w=[w1,w2,w3,w4,w5]\n",
    "L=var('l')\n",
    "z=[z1,z2,z3,z4,z5]\n",
    "\n",
    "\n",
    "def character(p,x=x,y=y):\n",
    "    return sum(y^(-r) * x^(-c) for r, c in p.cells())\n",
    "\n",
    "def character_vb(p, w,x=x,y=y):\n",
    "    Q = character(p,x,y)\n",
    "    return sum(Q * x^(w[2*i]) * y^(w[2*i+1]) for i in range(len(w)/2))\n",
    "\n",
    "def dual(f):\n",
    "    R = f.parent()\n",
    "    g= R.zero()\n",
    "    for exp, coeff in f.dict().items():\n",
    "        g+= R({exp.emul(-1): coeff})\n",
    "    return g\n",
    "\n",
    "def tangent(p,x=x,y=y):\n",
    "    total=0\n",
    "    for r,c in p.cells():\n",
    "        arm=p[r]-c-1\n",
    "        leg=p.conjugate()[c]-r-1\n",
    "        total+=y^(-leg)*x^(arm+1)+y^(leg+1)*x^(-arm)\n",
    "    return total\n",
    "\n",
    "def canonical_bundle(p,x=x,y=y):\n",
    "    return character_vb(p, (-1,-1),x,y)\n",
    "\n",
    "\n",
    "def structure_sheaf(p,x=x,y=y):\n",
    "    return character_vb(p, (0,0),x,y)\n",
    "\n",
    "def top_chern(f):\n",
    "    numer, denom = 1, [1]\n",
    "    for coeff, mon in list(f):\n",
    "        wt = from_monomial(mon)\n",
    "        #if wt==0:\n",
    "            #continue\n",
    "        if coeff > 0:\n",
    "            numer *= wt^coeff\n",
    "        elif coeff < 0:\n",
    "            denom += (-coeff) * [wt]\n",
    "    return [numer,denom]\n",
    "\n",
    "def determinant(f):\n",
    "    if f in ZZ:\n",
    "        return 1\n",
    "    else:\n",
    "        return prod((mon)^coeff for coeff, mon in f)\n",
    "\n",
    "def from_monomial(m):\n",
    "    return sum(m.degree(KT_ring.gen(i)) * poly_ring.gen(i) for i in range(len(coho_ring.gens())))\n",
    "\n",
    "def from_character(f):\n",
    "    numer, denom = [], []\n",
    "\n",
    "    for coeff, mon in list(f):\n",
    "        wt = from_monomial(mon)\n",
    "        if coeff > 0:\n",
    "            numer += (coeff) * [wt]\n",
    "        elif coeff < 0:\n",
    "            denom += (-coeff) * [wt]\n",
    "    return numer, denom\n",
    "\n",
    "def measure_unsymmetrized(f, inv=True):\n",
    "    \"\"\"\n",
    "    computes 1/(1-x^-1) for K-thy class x. If inv=false, returns 1/(1-x)\n",
    "    \"\"\"\n",
    "    R = f.parent()\n",
    "    \n",
    "    if f.parent() is ZZ:\n",
    "        L = [(ZZ(f), 1)]\n",
    "    else:\n",
    "        L = list(f)\n",
    "\n",
    "    numer, denom = R.one(), R.one()\n",
    "    for coeff, monomial in L:\n",
    "        if inv:\n",
    "            term = 1 - monomial^-1\n",
    "        else:\n",
    "            term = 1 - monomial\n",
    "        if monomial==1:\n",
    "            term = 0\n",
    "        if coeff < 0:\n",
    "            numer *= term ** (-coeff)\n",
    "        elif coeff > 0:\n",
    "            denom *= term ** coeff\n",
    "    return numer / denom\n",
    "\n",
    "\n",
    "\n",
    "def degn(f,n,b=b):\n",
    "    g=f.taylor(b,0,n+2)\n",
    "    L=g.coefficients(b)\n",
    "    for i in range(len(L)):\n",
    "        if L[i][1]==n:\n",
    "            return L[i][0]\n",
    "    return 0\n",
    "\n",
    "    "
   ]
  },
  {
   "cell_type": "code",
   "execution_count": 2,
   "metadata": {
    "scrolled": true
   },
   "outputs": [],
   "source": [
    "def partitions(Sum, K):\n",
    "    '''computes fixed components of Quot by CC^* action.'''\n",
    "    total=[]\n",
    "    def ptn(Sum, K, lst, total):\n",
    "        if K == 0:\n",
    "            if Sum == 0:\n",
    "                total+=[lst]\n",
    "            return\n",
    "        for i in range(0, min(Sum + 1, Sum + 1)):\n",
    "            ptn(Sum - i, K - 1, lst + [i],total)\n",
    "    ptn(Sum,K,[],total)\n",
    "    return total\n",
    "\n",
    "\n",
    "def fixed_locus(n, N):\n",
    "    '''gives list of fixed points of Hilb^n1 x Hilb^n2 x ... x Hilb^nN, input (n1,n2,...,nN)'''\n",
    "    total=[]\n",
    "    ptns=partitions(n,N)\n",
    "    for j in range(len(ptns)):\n",
    "        ptn=ptns[j]\n",
    "        lst=[]\n",
    "        for i in range(N):\n",
    "            lst+=[Partitions(ptn[i]).list()]\n",
    "        total+=[p for p in itertools.product(*lst)]\n",
    "    return total\n",
    "\n",
    "def Nvir(Z):\n",
    "    '''virtual normal bundle of quot scheme at (Z_1,...,Z_N)'''\n",
    "    total=0\n",
    "    for i in range(len(Z)):\n",
    "        for j in range(len(Z)):\n",
    "            total+=(1-character(Z[i],x=x^-1,y=y^-1)*(1-x)*(1-y))*character(Z[j],x=x,y=y)*(z[j]/z[i])\n",
    "    return total\n",
    "\n",
    "\n",
    "def total_chern_quot(Z,rank):\n",
    "    total=1\n",
    "    for i in range(len(Z)):\n",
    "        Q = character(Z[i],x,y)*(z[i])\n",
    "        roots = []\n",
    "        for coeff, mon in list(Q):\n",
    "            wt = from_monomial(mon)\n",
    "            for i in range(rank):\n",
    "                roots += (coeff) * [wt+w[i]]\n",
    "        total *= prod((1+r) for r in roots)\n",
    "    return total\n",
    "\n",
    "def top_chern_quot(Z):\n",
    "    total=1\n",
    "    for i in range(len(Z)):\n",
    "        Q = character(Z[i],x,y)*(z[i])\n",
    "        roots = []\n",
    "        for coeff, mon in list(Q):\n",
    "            wt = from_monomial(mon)\n",
    "            for i in range(rank):\n",
    "                roots += (coeff) * [wt+w[i]]\n",
    "        total *= prod((r) for r in roots)\n",
    "    return total\n",
    "\n",
    "def Chern_Num_quot(n,N,rank):\n",
    "    total=0\n",
    "    for Z in fixed_locus(n,N):\n",
    "        add=top_chern(-Nvir(Z))*total_chern_quot(Z,rank)\n",
    "        total+=add\n",
    "    return total\n",
    "\n",
    "def DT_quot(n,N):\n",
    "    total=0\n",
    "    for Z in fixed_locus(n,N):\n",
    "        add=top_chern(-Nvir(Z))\n",
    "        total+=add\n",
    "    return total\n",
    "\n",
    "def total_segre_quot(Z,rank):\n",
    "    total_denom=[1]\n",
    "    for i in range(len(Z)):\n",
    "        Q = character(Z[i],x,y)*(z[i])\n",
    "        roots = []\n",
    "        for coeff, mon in list(Q):\n",
    "            wt = from_monomial(mon)\n",
    "            for i in range(rank):\n",
    "                roots += (coeff) * [wt+w[i]]\n",
    "        total_denom += [1+r for r in roots]\n",
    "    return [1,total_denom]\n",
    "\n",
    "def Segre_Num_quot(n,N,rank):\n",
    "    total=[0,[1]]\n",
    "    for Z in fixed_locus(n,N):\n",
    "        add=mult_poly(top_chern(-Nvir(Z)),total_segre_quot(Z,rank))\n",
    "        total= add_poly(total,add)\n",
    "    return total\n",
    "\n",
    "def Segre_Num_quot_sym(n,N,rank):\n",
    "    total=[0,[1]]\n",
    "    for Z in fixed_locus(n,rank):\n",
    "        add=mult_poly(top_chern(-Nvir(Z)),total_segre_quot(Z,N))\n",
    "        total= add_poly(total,add)\n",
    "    return total\n",
    "\n",
    "\n",
    "def determinant_quot(Z,n,rank):\n",
    "    det=1\n",
    "    for i in range(len(Z)):\n",
    "        Q = character(Z[i],x,y)*(z[i])\n",
    "        det *= determinant(Q)\n",
    "    return (det^rank)*((prod(v[i] for i in range(rank)))^n)\n",
    "\n",
    "def Verlinde_Num_quot(n,N,rank):\n",
    "    total=0\n",
    "    for Z in fixed_locus(n,N):\n",
    "        add=measure_unsymmetrized(Nvir(Z))*\\\n",
    "            determinant_quot(Z,n,rank)\n",
    "        total+=add\n",
    "    return total\n",
    "\n",
    "def Verlinde_Num_quot_inv(n,N,rank):\n",
    "    total=0\n",
    "    for Z in fixed_locus(n,N):\n",
    "        add=measure_unsymmetrized(Nvir(Z))*\\\n",
    "            (1/determinant_quot(Z,n,rank))\n",
    "    return total\n",
    "\n",
    "\n",
    "def deg0(f):\n",
    "    if f==0: \n",
    "        return 0\n",
    "    return degn(f(t=b*t,m=b*m,\n",
    "                         l1=b*l1,l2=b*l2,l3=b*l3,l4=b*l4,l5=b*l5,\n",
    "                         w1=b*w1,w2=b*w2,w3=b*w3,w4=b*w4,w5=b*w5),0)\n",
    "\n",
    "def deg02(f):\n",
    "    if f==0: \n",
    "        return 0\n",
    "    return pretty(degn(f(t=b*t,m=b*m,w=b*w,v=b*v),0))\n",
    "\n",
    "def set_exp(f):\n",
    "    for i in range(len(KT_vars)):\n",
    "        f=SR(f).subs(KT_ring.gens()[i]==exp(coho_ring.gens()[i]))\n",
    "    return f\n",
    "def simplify_weight(f):\n",
    "    return f(l1=0,l2=l1,l3=2*l1,l4=3*l1,l5=4*l5)\n",
    "\n",
    "def symmetrize(f):\n",
    "    if f in ZZ:\n",
    "        return f\n",
    "    return f(l1=w1,l2=w2,l3=w3,l4=w4,l5=w5,w1=l1,w2=l2,w3=l3,w4=l4,w5=l5)\n",
    "\n",
    "\n",
    "def symmetrizeK(f):\n",
    "    if f in ZZ:\n",
    "        return f\n",
    "    return f(z1=v1,z2=v2,z3=v3,z4=v4,z5=v5,v1=z1,v2=z2,v3=z3,v4=z4,v5=z5)\n",
    "\n",
    "def all_check(start,finish):\n",
    "    with open(\"symmetry2d-segre-checked.txt\") as f:\n",
    "        lines = f.read().splitlines()\n",
    "    if len(lines)==0:\n",
    "        n,N,r=[0,0,0]\n",
    "    else:\n",
    "        last_checked=lines[len(lines)-1]\n",
    "        n,N,r=[int(a) for a in last_checked.split(\",\")]\n",
    "    for i in range(start,finish+1):\n",
    "        for j in range(1,3):\n",
    "            for k in range(1,3):\n",
    "                n,N,r=[i,j,k]\n",
    "                if k<j:\n",
    "                    continue\n",
    "                if j<=k:\n",
    "                    print(\"checking segre sym: n=\"+str(n)+\", N=\"+str(N)+\", r=\"+str(r))\n",
    "                    if str(n)+','+str(N)+','+str(r) in lines:\n",
    "                        print(\"n=\"+str(n)+\", N=\"+str(N)+\", r=\"+str(r)+\" already checked\")\n",
    "                    else:\n",
    "                        S1=Segre_Num_quot(n,N,r)\n",
    "                        S2=Segre_Num_quot_sym(n,N,r)\n",
    "                        diff=S1[0]*prod(S2[1])*(-1)^(n*N)-S2[0]*prod(S1[1])*(-1)^(n*r)\n",
    "                        if diff==0:\n",
    "                            writeline(\"symmetry2d-segre-checked.txt\",str(n)+','+str(N)+','+str(r))\n",
    "                            print(\"checked\")\n",
    "                        else:\n",
    "                            print(\"failed\")\n",
    "        print(\"all checked for: n=\"+str(i))\n",
    "               \n",
    "                        \n",
    "                    \n",
    "def writeline(file,s):\n",
    "    g = open(file, \"a\")\n",
    "    g.write(s+\"\\n\")\n",
    "    g.close()\n",
    "                \n",
    "                \n",
    "def clear_all_files():\n",
    "    open('SV2d-checked.txt', 'w').close()\n",
    "    open('symmetry2d-segre-checked.txt', 'w').close()\n",
    "    open('symmetry2d-Verlinde-checked.txt', 'w').close()\n",
    "    open('verlinde2d-out.txt', 'w').close()\n",
    "    open('segre2d-out.txt', 'w').close()\n",
    "    open('SV2d-out.txt', 'w').close()\n",
    "            \n",
    "def add_poly(f,g):\n",
    "    numer=f[0]*prod(g[1])+g[0]*prod(f[1])\n",
    "    denom=f[1]+g[1]\n",
    "    return [numer,denom]\n",
    "\n",
    "def mult_poly(f,g):\n",
    "    numer=f[0]*g[0]\n",
    "    denom=f[1]+g[1]\n",
    "    return[numer, denom]\n",
    "                                 \n",
    "def symmetrize_poly(f):\n",
    "    denom=[]\n",
    "    for d in f[1]:\n",
    "        if d in ZZ:\n",
    "            denom+=[d]\n",
    "        else:\n",
    "            denom+=[d(l1=w1,l2=w2,l3=w3,l4=w4,l5=w5,w1=l1,w2=l2,w3=l3,w4=l4,w5=l5)]\n",
    "    if f in ZZ:\n",
    "        return f\n",
    "    return [f[0](l1=w1,l2=w2,l3=w3,l4=w4,l5=w5,w1=l1,w2=l2,w3=l3,w4=l4,w5=l5),denom]\n",
    "    "
   ]
  },
  {
   "cell_type": "code",
   "execution_count": null,
   "metadata": {},
   "outputs": [
    {
     "name": "stdout",
     "output_type": "stream",
     "text": [
      "checking segre sym: n=2, N=1, r=1\n",
      "n=2, N=1, r=1 already checked\n",
      "checking segre sym: n=2, N=1, r=2\n",
      "n=2, N=1, r=2 already checked\n",
      "checking segre sym: n=2, N=2, r=2\n"
     ]
    }
   ],
   "source": [
    "all_check(2,2)"
   ]
  },
  {
   "cell_type": "code",
   "execution_count": null,
   "metadata": {},
   "outputs": [
    {
     "name": "stdout",
     "output_type": "stream",
     "text": [
      "checking segre sym: n=1, N=1, r=2\n",
      "n=1, N=1, r=2 already checked\n",
      "checking segre sym: n=1, N=1, r=3\n",
      "n=1, N=1, r=3 already checked\n",
      "checking segre sym: n=1, N=2, r=3\n",
      "n=1, N=2, r=3 already checked\n",
      "all checked for: n=1\n",
      "checking segre sym: n=2, N=1, r=2\n",
      "n=2, N=1, r=2 already checked\n",
      "checking segre sym: n=2, N=1, r=3\n",
      "n=2, N=1, r=3 already checked\n",
      "checking segre sym: n=2, N=2, r=3\n",
      "n=2, N=2, r=3 already checked\n",
      "all checked for: n=2\n",
      "checking segre sym: n=3, N=1, r=2\n",
      "n=3, N=1, r=2 already checked\n",
      "checking segre sym: n=3, N=1, r=3\n",
      "n=3, N=1, r=3 already checked\n",
      "checking segre sym: n=3, N=2, r=3\n"
     ]
    }
   ],
   "source": [
    "all_check(1,3)"
   ]
  },
  {
   "cell_type": "code",
   "execution_count": 76,
   "metadata": {},
   "outputs": [
    {
     "name": "stdout",
     "output_type": "stream",
     "text": [
      "Multivariate Polynomial Ring in t, m, l1, l2, l3, l4, l5, w1, w2, w3, w4, w5 over Integer Ring\n"
     ]
    },
    {
     "data": {
      "text/html": [
       "<html><script type=\"math/tex; mode=display\">\\newcommand{\\Bold}[1]{\\mathbf{#1}}\\left[\\left[1\\right], \\left[1, l_{2} + w_{1} + 1, l_{2} + w_{2} + 1, -m + l_{2} + w_{1} + 1, -m + l_{2} + w_{2} + 1, -t + l_{2} + w_{1} + 1, -t + l_{2} + w_{2} + 1\\right]\\right]</script></html>"
      ],
      "text/latex": [
       "$$\\newcommand{\\Bold}[1]{\\mathbf{#1}}\\left[\\left[1\\right], \\left[1, l_{2} + w_{1} + 1, l_{2} + w_{2} + 1, -m + l_{2} + w_{1} + 1, -m + l_{2} + w_{2} + 1, -t + l_{2} + w_{1} + 1, -t + l_{2} + w_{2} + 1\\right]\\right]$$"
      ],
      "text/plain": [
       "[[1],\n",
       " [1,\n",
       "  l2 + w1 + 1,\n",
       "  l2 + w2 + 1,\n",
       "  -m + l2 + w1 + 1,\n",
       "  -m + l2 + w2 + 1,\n",
       "  -t + l2 + w1 + 1,\n",
       "  -t + l2 + w2 + 1]]"
      ]
     },
     "execution_count": 76,
     "metadata": {},
     "output_type": "execute_result"
    }
   ],
   "source": [
    "total_segre_quot(fixed_locus(3,2)[1],2)"
   ]
  },
  {
   "cell_type": "code",
   "execution_count": 57,
   "metadata": {},
   "outputs": [
    {
     "name": "stdout",
     "output_type": "stream",
     "text": [
      "(l1 - t + w1 + 1)*(l1 - t + w2 + 1)*(l1 + w1 + 1)*(l1 + w2 + 1)\n",
      "(l1 - m + w1 + 1)*(l1 - m + w2 + 1)*(l1 + w1 + 1)*(l1 + w2 + 1)\n",
      "-1/2*(2*m^2 + 3*m*t + t^2)/((m^3*t - m^2*t^2)*(l1 - m + w1 + 1)*(l1 - m + w2 + 1)*(l1 + w1 + 1)*(l1 + w2 + 1)) + 1/2*(m^2 + 3*m*t + 2*t^2)/((m^2*t^2 - m*t^3)*(l1 - t + w1 + 1)*(l1 - t + w2 + 1)*(l1 + w1 + 1)*(l1 + w2 + 1))\n",
      "1\n",
      "(l2 - t + w1 + 1)*(l2 + w1 + 1)\n",
      "1\n",
      "(l2 - m + w1 + 1)*(l2 + w1 + 1)\n",
      "l1 + w1 + 1\n",
      "(l1 + w1 + 1)*(l2 + w1 + 1)\n",
      "(l1 - t + w1 + 1)*(l1 + w1 + 1)\n",
      "(l1 - t + w1 + 1)*(l1 + w1 + 1)\n",
      "(l1 - m + w1 + 1)*(l1 + w1 + 1)\n",
      "(l1 - m + w1 + 1)*(l1 + w1 + 1)\n",
      "-1/2*(2*m^2 + 3*m*t + t^2)/((l1^2*m^3*t - 2*l1*l2*m^3*t + l2^2*m^3*t - l1*m^4*t + l2*m^4*t - l1^2*m^2*t^2 + 2*l1*l2*m^2*t^2 - l2^2*m^2*t^2 + l1*m^3*t^2 - l2*m^3*t^2)*(l1 - m + w1 + 1)*(l1 + w1 + 1)) + 1/2*(m^2 + 3*m*t + 2*t^2)/((l1^2*m^2*t^2 - 2*l1*l2*m^2*t^2 + l2^2*m^2*t^2 - l1^2*m*t^3 + 2*l1*l2*m*t^3 - l2^2*m*t^3 - l1*m^2*t^3 + l2*m^2*t^3 + l1*m*t^4 - l2*m*t^4)*(l1 - t + w1 + 1)*(l1 + w1 + 1)) - (l1^2*m^2 - 2*l1*l2*m^2 + l2^2*m^2 - m^4 + 2*l1^2*m*t - 4*l1*l2*m*t + 2*l2^2*m*t - 4*m^3*t + l1^2*t^2 - 2*l1*l2*t^2 + l2^2*t^2 - 6*m^2*t^2 - 4*m*t^3 - t^4)/((l1^4*m^2*t^2 - 4*l1^3*l2*m^2*t^2 + 6*l1^2*l2^2*m^2*t^2 - 4*l1*l2^3*m^2*t^2 + l2^4*m^2*t^2 - l1^2*m^4*t^2 + 2*l1*l2*m^4*t^2 - l2^2*m^4*t^2 - l1^2*m^2*t^4 + 2*l1*l2*m^2*t^4 - l2^2*m^2*t^4 + m^4*t^4)*(l1 + w1 + 1)*(l2 + w1 + 1)) - 1/2*(2*m^2 + 3*m*t + t^2)/((l1^2*m^3*t - 2*l1*l2*m^3*t + l2^2*m^3*t + l1*m^4*t - l2*m^4*t - l1^2*m^2*t^2 + 2*l1*l2*m^2*t^2 - l2^2*m^2*t^2 - l1*m^3*t^2 + l2*m^3*t^2)*(l2 - m + w1 + 1)*(l2 + w1 + 1)) + 1/2*(m^2 + 3*m*t + 2*t^2)/((l1^2*m^2*t^2 - 2*l1*l2*m^2*t^2 + l2^2*m^2*t^2 - l1^2*m*t^3 + 2*l1*l2*m*t^3 - l2^2*m*t^3 + l1*m^2*t^3 - l2*m^2*t^3 - l1*m*t^4 + l2*m*t^4)*(l2 - t + w1 + 1)*(l2 + w1 + 1))\n"
     ]
    },
    {
     "data": {
      "text/html": [
       "<html><script type=\"math/tex; mode=display\">\\newcommand{\\Bold}[1]{\\mathbf{#1}}\\left\\{\\right\\}</script></html>"
      ],
      "text/latex": [
       "$$\\newcommand{\\Bold}[1]{\\mathbf{#1}}\\left\\{\\right\\}$$"
      ],
      "text/plain": [
       "{}"
      ]
     },
     "execution_count": 57,
     "metadata": {},
     "output_type": "execute_result"
    }
   ],
   "source": [
    "S1=Segre_Num_quot(2,1,2)\n",
    "S2=Segre_Num_quot(2,2,1)\n",
    "diff=S1*(-1)^(2)-symmetrize(S2)*(-1)^(2)\n",
    "\n",
    "\n",
    "B=1\n",
    "B.factor()\n",
    "dict(B.factor())"
   ]
  },
  {
   "cell_type": "code",
   "execution_count": 38,
   "metadata": {},
   "outputs": [
    {
     "name": "stdout",
     "output_type": "stream",
     "text": [
      "-(m + t)/((l1 - l2)*(l2 + w1 + 1)*m*t)\n",
      "(m + t)/((l1 - l2)*(l1 + w1 + 1)*m*t)\n"
     ]
    },
    {
     "data": {
      "text/html": [
       "<html><script type=\"math/tex; mode=display\">\\newcommand{\\Bold}[1]{\\mathbf{#1}}-\\frac{m + t}{{\\left(l_{1} + w_{1} + 1\\right)} {\\left(l_{2} + w_{1} + 1\\right)} m t}</script></html>"
      ],
      "text/latex": [
       "$$\\newcommand{\\Bold}[1]{\\mathbf{#1}}-\\frac{m + t}{{\\left(l_{1} + w_{1} + 1\\right)} {\\left(l_{2} + w_{1} + 1\\right)} m t}$$"
      ],
      "text/plain": [
       "-(m + t)/((l1 + w1 + 1)*(l2 + w1 + 1)*m*t)"
      ]
     },
     "execution_count": 38,
     "metadata": {},
     "output_type": "execute_result"
    }
   ],
   "source": [
    "pretty(Segre_Num_quot(1,2,1))\n"
   ]
  },
  {
   "cell_type": "code",
   "execution_count": 19,
   "metadata": {},
   "outputs": [
    {
     "data": {
      "text/html": [
       "<html><script type=\"math/tex; mode=display\">\\newcommand{\\Bold}[1]{\\mathbf{#1}}\\left([], [2, 1]\\right)</script></html>"
      ],
      "text/latex": [
       "$$\\newcommand{\\Bold}[1]{\\mathbf{#1}}\\left([], [2, 1]\\right)$$"
      ],
      "text/plain": [
       "([], [2, 1])"
      ]
     },
     "execution_count": 19,
     "metadata": {},
     "output_type": "execute_result"
    }
   ],
   "source": [
    "fixed_locus(3,2)[1]"
   ]
  },
  {
   "cell_type": "code",
   "execution_count": 14,
   "metadata": {},
   "outputs": [],
   "source": [
    "open('segre2d-out.txt', 'w').close()"
   ]
  },
  {
   "cell_type": "code",
   "execution_count": null,
   "metadata": {},
   "outputs": [
    {
     "name": "stdout",
     "output_type": "stream",
     "text": [
      "checking segre sym: n=1, N=1, r=2\n",
      "n=1, N=1, r=2 already checked\n",
      "checking segre sym: n=1, N=1, r=3\n",
      "n=1, N=1, r=3 already checked\n",
      "checking segre sym: n=1, N=2, r=3\n",
      "n=1, N=2, r=3 already checked\n",
      "all checked for: n=1\n",
      "checking segre sym: n=2, N=1, r=2\n",
      "n=2, N=1, r=2 already checked\n",
      "checking segre sym: n=2, N=1, r=3\n",
      "n=2, N=1, r=3 already checked\n",
      "checking segre sym: n=2, N=2, r=3\n",
      "n=2, N=2, r=3 already checked\n",
      "all checked for: n=2\n",
      "checking segre sym: n=3, N=1, r=2\n",
      "n=3, N=1, r=2 already checked\n",
      "checking segre sym: n=3, N=1, r=3\n",
      "n=3, N=1, r=3 already checked\n",
      "checking segre sym: n=3, N=2, r=3\n",
      "-1/6*(m + 3*t)*(m + 2*t)*(m + t)/((l1 - l2 + 2*t)*(l1 - l2 + t)*(l1 - l2)*(l2 - t + w1 + 1)*(l2 - t + w2 + 1)*(l2 - t + w3 + 1)*(l2 - 2*t + w1 + 1)*(l2 - 2*t + w2 + 1)*(l2 - 2*t + w3 + 1)*(l2 + w1 + 1)*(l2 + w2 + 1)*(l2 + w3 + 1)*(m - t)*(m - 2*t)*m*t^3)\n",
      "(2*m + t)*(m + 2*t)*(m + t)/((l1 - l2 + m)*(l1 - l2 + t)*(l1 - l2)*(l2 - m + w1 + 1)*(l2 - m + w2 + 1)*(l2 - m + w3 + 1)*(l2 - t + w1 + 1)*(l2 - t + w2 + 1)*(l2 - t + w3 + 1)*(l2 + w1 + 1)*(l2 + w2 + 1)*(l2 + w3 + 1)*(2*m - t)*(m - 2*t)*m^2*t^2)\n",
      "-1/6*(3*m + t)*(2*m + t)*(m + t)/((l1 - l2 + 2*m)*(l1 - l2 + m)*(l1 - l2)*(l2 - m + w1 + 1)*(l2 - m + w2 + 1)*(l2 - m + w3 + 1)*(l2 - 2*m + w1 + 1)*(l2 - 2*m + w2 + 1)*(l2 - 2*m + w3 + 1)*(l2 + w1 + 1)*(l2 + w2 + 1)*(l2 + w3 + 1)*(2*m - t)*(m - t)*m^3*t)\n"
     ]
    }
   ],
   "source": [
    "all_check(1,4)"
   ]
  },
  {
   "cell_type": "code",
   "execution_count": 16,
   "metadata": {},
   "outputs": [
    {
     "name": "stdout",
     "output_type": "stream",
     "text": [
      "checking: n+N+r=4\n",
      "checking segre sym: n=1, N=1, r=2\n",
      "n=1, N=1, r=2 already checked\n",
      "all checked for: n+N+r=4\n"
     ]
    }
   ],
   "source": [
    "\n",
    "all_check(4)"
   ]
  },
  {
   "cell_type": "code",
   "execution_count": 17,
   "metadata": {
    "scrolled": true
   },
   "outputs": [
    {
     "name": "stdout",
     "output_type": "stream",
     "text": [
      "checking: n+N+r=5\n",
      "checking segre sym: n=1, N=1, r=3\n",
      "n=1, N=1, r=3 already checked\n",
      "checking segre sym: n=2, N=1, r=2\n",
      "n=2, N=1, r=2 already checked\n",
      "all checked for: n+N+r=5\n"
     ]
    }
   ],
   "source": [
    "all_check(5)"
   ]
  },
  {
   "cell_type": "code",
   "execution_count": 18,
   "metadata": {},
   "outputs": [
    {
     "name": "stdout",
     "output_type": "stream",
     "text": [
      "checking: n+N+r=6\n",
      "checking segre sym: n=1, N=1, r=4\n",
      "n=1, N=1, r=4 already checked\n",
      "checking segre sym: n=1, N=2, r=3\n",
      "n=1, N=2, r=3 already checked\n",
      "checking segre sym: n=2, N=1, r=3\n",
      "n=2, N=1, r=3 already checked\n",
      "checking segre sym: n=3, N=1, r=2\n",
      "n=3, N=1, r=2 already checked\n",
      "all checked for: n+N+r=6\n"
     ]
    }
   ],
   "source": [
    "all_check(6)"
   ]
  },
  {
   "cell_type": "code",
   "execution_count": 19,
   "metadata": {},
   "outputs": [
    {
     "name": "stdout",
     "output_type": "stream",
     "text": [
      "checking: n+N+r=7\n",
      "checking segre sym: n=1, N=1, r=5\n",
      "n=1, N=1, r=5 already checked\n",
      "checking segre sym: n=1, N=2, r=4\n",
      "n=1, N=2, r=4 already checked\n",
      "checking segre sym: n=2, N=1, r=4\n",
      "n=2, N=1, r=4 already checked\n",
      "checking segre sym: n=2, N=2, r=3\n",
      "n=2, N=2, r=3 already checked\n",
      "checking segre sym: n=3, N=1, r=3\n",
      "n=3, N=1, r=3 already checked\n",
      "checking segre sym: n=4, N=1, r=2\n",
      "n=4, N=1, r=2 already checked\n",
      "all checked for: n+N+r=7\n"
     ]
    }
   ],
   "source": [
    "all_check(7)"
   ]
  },
  {
   "cell_type": "code",
   "execution_count": 4,
   "metadata": {},
   "outputs": [
    {
     "name": "stdout",
     "output_type": "stream",
     "text": [
      "checking: n+N+r=8\n",
      "checking segre sym: n=1, N=2, r=5\n",
      "n=1, N=2, r=5 already checked\n",
      "checking segre sym: n=1, N=3, r=4\n",
      "n=1, N=3, r=4 already checked\n",
      "checking segre sym: n=2, N=1, r=5\n",
      "n=2, N=1, r=5 already checked\n",
      "checking segre sym: n=2, N=2, r=4\n"
     ]
    },
    {
     "ename": "KeyboardInterrupt",
     "evalue": "",
     "output_type": "error",
     "traceback": [
      "\u001b[0;31m---------------------------------------------------------------------------\u001b[0m",
      "\u001b[0;31mKeyboardInterrupt\u001b[0m                         Traceback (most recent call last)",
      "\u001b[0;32m/opt/sagemath-9.3/local/lib/python3.7/site-packages/sage/all_cmdline.py\u001b[0m in \u001b[0;36m<module>\u001b[0;34m\u001b[0m\n\u001b[0;32m----> 1\u001b[0;31m \u001b[0mall_check\u001b[0m\u001b[0;34m(\u001b[0m\u001b[0mInteger\u001b[0m\u001b[0;34m(\u001b[0m\u001b[0;36m8\u001b[0m\u001b[0;34m)\u001b[0m\u001b[0;34m)\u001b[0m\u001b[0;34m\u001b[0m\u001b[0;34m\u001b[0m\u001b[0m\n\u001b[0m",
      "\u001b[0;32m/opt/sagemath-9.3/local/lib/python3.7/site-packages/sage/all_cmdline.py\u001b[0m in \u001b[0;36mall_check\u001b[0;34m(s)\u001b[0m\n\u001b[1;32m    174\u001b[0m                 \u001b[0;32melse\u001b[0m\u001b[0;34m:\u001b[0m\u001b[0;34m\u001b[0m\u001b[0;34m\u001b[0m\u001b[0m\n\u001b[1;32m    175\u001b[0m                     \u001b[0mS1\u001b[0m\u001b[0;34m=\u001b[0m\u001b[0mSegre_Num_quot\u001b[0m\u001b[0;34m(\u001b[0m\u001b[0mn\u001b[0m\u001b[0;34m,\u001b[0m\u001b[0mN\u001b[0m\u001b[0;34m,\u001b[0m\u001b[0mr\u001b[0m\u001b[0;34m)\u001b[0m\u001b[0;34m\u001b[0m\u001b[0;34m\u001b[0m\u001b[0m\n\u001b[0;32m--> 176\u001b[0;31m                     \u001b[0mS2\u001b[0m\u001b[0;34m=\u001b[0m\u001b[0mSegre_Num_quot\u001b[0m\u001b[0;34m(\u001b[0m\u001b[0mn\u001b[0m\u001b[0;34m,\u001b[0m\u001b[0mr\u001b[0m\u001b[0;34m,\u001b[0m\u001b[0mN\u001b[0m\u001b[0;34m)\u001b[0m\u001b[0;34m\u001b[0m\u001b[0;34m\u001b[0m\u001b[0m\n\u001b[0m\u001b[1;32m    177\u001b[0m                     \u001b[0mdiff\u001b[0m\u001b[0;34m=\u001b[0m\u001b[0mS1\u001b[0m\u001b[0;34m*\u001b[0m\u001b[0;34m(\u001b[0m\u001b[0;34m-\u001b[0m\u001b[0mInteger\u001b[0m\u001b[0;34m(\u001b[0m\u001b[0;36m1\u001b[0m\u001b[0;34m)\u001b[0m\u001b[0;34m)\u001b[0m\u001b[0;34m**\u001b[0m\u001b[0;34m(\u001b[0m\u001b[0mn\u001b[0m\u001b[0;34m*\u001b[0m\u001b[0mN\u001b[0m\u001b[0;34m)\u001b[0m\u001b[0;34m-\u001b[0m\u001b[0msymmetrize\u001b[0m\u001b[0;34m(\u001b[0m\u001b[0mS2\u001b[0m\u001b[0;34m)\u001b[0m\u001b[0;34m*\u001b[0m\u001b[0;34m(\u001b[0m\u001b[0;34m-\u001b[0m\u001b[0mInteger\u001b[0m\u001b[0;34m(\u001b[0m\u001b[0;36m1\u001b[0m\u001b[0;34m)\u001b[0m\u001b[0;34m)\u001b[0m\u001b[0;34m**\u001b[0m\u001b[0;34m(\u001b[0m\u001b[0mn\u001b[0m\u001b[0;34m*\u001b[0m\u001b[0mr\u001b[0m\u001b[0;34m)\u001b[0m\u001b[0;34m\u001b[0m\u001b[0;34m\u001b[0m\u001b[0m\n\u001b[1;32m    178\u001b[0m                     \u001b[0;32mif\u001b[0m \u001b[0mdiff\u001b[0m\u001b[0;34m==\u001b[0m\u001b[0mInteger\u001b[0m\u001b[0;34m(\u001b[0m\u001b[0;36m0\u001b[0m\u001b[0;34m)\u001b[0m\u001b[0;34m:\u001b[0m\u001b[0;34m\u001b[0m\u001b[0;34m\u001b[0m\u001b[0m\n",
      "\u001b[0;32m/opt/sagemath-9.3/local/lib/python3.7/site-packages/sage/all_cmdline.py\u001b[0m in \u001b[0;36mSegre_Num_quot\u001b[0;34m(n, N, rank)\u001b[0m\n\u001b[1;32m     88\u001b[0m     \u001b[0;32mfor\u001b[0m \u001b[0mZ\u001b[0m \u001b[0;32min\u001b[0m \u001b[0mfixed_locus\u001b[0m\u001b[0;34m(\u001b[0m\u001b[0mn\u001b[0m\u001b[0;34m,\u001b[0m\u001b[0mN\u001b[0m\u001b[0;34m)\u001b[0m\u001b[0;34m:\u001b[0m\u001b[0;34m\u001b[0m\u001b[0;34m\u001b[0m\u001b[0m\n\u001b[1;32m     89\u001b[0m         \u001b[0madd\u001b[0m\u001b[0;34m=\u001b[0m\u001b[0mtop_chern\u001b[0m\u001b[0;34m(\u001b[0m\u001b[0;34m-\u001b[0m\u001b[0mNvir\u001b[0m\u001b[0;34m(\u001b[0m\u001b[0mZ\u001b[0m\u001b[0;34m)\u001b[0m\u001b[0;34m)\u001b[0m\u001b[0;34m*\u001b[0m\u001b[0mtotal_segre_quot\u001b[0m\u001b[0;34m(\u001b[0m\u001b[0mZ\u001b[0m\u001b[0;34m,\u001b[0m\u001b[0mrank\u001b[0m\u001b[0;34m)\u001b[0m\u001b[0;34m\u001b[0m\u001b[0;34m\u001b[0m\u001b[0m\n\u001b[0;32m---> 90\u001b[0;31m         \u001b[0mtotal\u001b[0m\u001b[0;34m+=\u001b[0m\u001b[0madd\u001b[0m\u001b[0;34m\u001b[0m\u001b[0;34m\u001b[0m\u001b[0m\n\u001b[0m\u001b[1;32m     91\u001b[0m     \u001b[0;32mreturn\u001b[0m \u001b[0mtotal\u001b[0m\u001b[0;34m\u001b[0m\u001b[0;34m\u001b[0m\u001b[0m\n\u001b[1;32m     92\u001b[0m \u001b[0;34m\u001b[0m\u001b[0m\n",
      "\u001b[0;32m/opt/sagemath-9.3/local/lib/python3.7/site-packages/sage/structure/element.pyx\u001b[0m in \u001b[0;36msage.structure.element.Element.__add__ (build/cythonized/sage/structure/element.c:10954)\u001b[0;34m()\u001b[0m\n\u001b[1;32m   1227\u001b[0m         \u001b[0mcdef\u001b[0m \u001b[0mint\u001b[0m \u001b[0mcl\u001b[0m \u001b[0;34m=\u001b[0m \u001b[0mclassify_elements\u001b[0m\u001b[0;34m(\u001b[0m\u001b[0mleft\u001b[0m\u001b[0;34m,\u001b[0m \u001b[0mright\u001b[0m\u001b[0;34m)\u001b[0m\u001b[0;34m\u001b[0m\u001b[0;34m\u001b[0m\u001b[0m\n\u001b[1;32m   1228\u001b[0m         \u001b[0;32mif\u001b[0m \u001b[0mHAVE_SAME_PARENT\u001b[0m\u001b[0;34m(\u001b[0m\u001b[0mcl\u001b[0m\u001b[0;34m)\u001b[0m\u001b[0;34m:\u001b[0m\u001b[0;34m\u001b[0m\u001b[0;34m\u001b[0m\u001b[0m\n\u001b[0;32m-> 1229\u001b[0;31m             \u001b[0;32mreturn\u001b[0m \u001b[0;34m(\u001b[0m\u001b[0;34m<\u001b[0m\u001b[0mElement\u001b[0m\u001b[0;34m>\u001b[0m\u001b[0mleft\u001b[0m\u001b[0;34m)\u001b[0m\u001b[0;34m.\u001b[0m\u001b[0m_add_\u001b[0m\u001b[0;34m(\u001b[0m\u001b[0mright\u001b[0m\u001b[0;34m)\u001b[0m\u001b[0;34m\u001b[0m\u001b[0;34m\u001b[0m\u001b[0m\n\u001b[0m\u001b[1;32m   1230\u001b[0m         \u001b[0;31m# Left and right are Sage elements => use coercion model\u001b[0m\u001b[0;34m\u001b[0m\u001b[0;34m\u001b[0m\u001b[0;34m\u001b[0m\u001b[0m\n\u001b[1;32m   1231\u001b[0m         \u001b[0;32mif\u001b[0m \u001b[0mBOTH_ARE_ELEMENT\u001b[0m\u001b[0;34m(\u001b[0m\u001b[0mcl\u001b[0m\u001b[0;34m)\u001b[0m\u001b[0;34m:\u001b[0m\u001b[0;34m\u001b[0m\u001b[0;34m\u001b[0m\u001b[0m\n",
      "\u001b[0;32m/opt/sagemath-9.3/local/lib/python3.7/site-packages/sage/rings/fraction_field_element.pyx\u001b[0m in \u001b[0;36msage.rings.fraction_field_element.FractionFieldElement._add_ (build/cythonized/sage/rings/fraction_field_element.c:6472)\u001b[0;34m()\u001b[0m\n\u001b[1;32m    593\u001b[0m         \u001b[0;32mif\u001b[0m \u001b[0mself\u001b[0m\u001b[0;34m.\u001b[0m\u001b[0m_parent\u001b[0m\u001b[0;34m.\u001b[0m\u001b[0mis_exact\u001b[0m\u001b[0;34m(\u001b[0m\u001b[0;34m)\u001b[0m\u001b[0;34m:\u001b[0m\u001b[0;34m\u001b[0m\u001b[0;34m\u001b[0m\u001b[0m\n\u001b[1;32m    594\u001b[0m             \u001b[0;32mtry\u001b[0m\u001b[0;34m:\u001b[0m\u001b[0;34m\u001b[0m\u001b[0;34m\u001b[0m\u001b[0m\n\u001b[0;32m--> 595\u001b[0;31m                 \u001b[0md\u001b[0m \u001b[0;34m=\u001b[0m \u001b[0mrden\u001b[0m\u001b[0;34m.\u001b[0m\u001b[0mgcd\u001b[0m\u001b[0;34m(\u001b[0m\u001b[0msden\u001b[0m\u001b[0;34m)\u001b[0m\u001b[0;34m\u001b[0m\u001b[0;34m\u001b[0m\u001b[0m\n\u001b[0m\u001b[1;32m    596\u001b[0m                 \u001b[0;32mif\u001b[0m \u001b[0md\u001b[0m\u001b[0;34m.\u001b[0m\u001b[0mis_unit\u001b[0m\u001b[0;34m(\u001b[0m\u001b[0;34m)\u001b[0m\u001b[0;34m:\u001b[0m\u001b[0;34m\u001b[0m\u001b[0;34m\u001b[0m\u001b[0m\n\u001b[1;32m    597\u001b[0m                     return self.__class__(self._parent, rnum*sden + rden*snum,\n",
      "\u001b[0;32m/opt/sagemath-9.3/local/lib/python3.7/site-packages/sage/structure/element.pyx\u001b[0m in \u001b[0;36msage.structure.element.coerce_binop.new_method (build/cythonized/sage/structure/element.c:28006)\u001b[0;34m()\u001b[0m\n\u001b[1;32m   4410\u001b[0m     \u001b[0;32mdef\u001b[0m \u001b[0mnew_method\u001b[0m\u001b[0;34m(\u001b[0m\u001b[0mself\u001b[0m\u001b[0;34m,\u001b[0m \u001b[0mother\u001b[0m\u001b[0;34m,\u001b[0m \u001b[0;34m*\u001b[0m\u001b[0margs\u001b[0m\u001b[0;34m,\u001b[0m \u001b[0;34m**\u001b[0m\u001b[0mkwargs\u001b[0m\u001b[0;34m)\u001b[0m\u001b[0;34m:\u001b[0m\u001b[0;34m\u001b[0m\u001b[0;34m\u001b[0m\u001b[0m\n\u001b[1;32m   4411\u001b[0m         \u001b[0;32mif\u001b[0m \u001b[0mhave_same_parent\u001b[0m\u001b[0;34m(\u001b[0m\u001b[0mself\u001b[0m\u001b[0;34m,\u001b[0m \u001b[0mother\u001b[0m\u001b[0;34m)\u001b[0m\u001b[0;34m:\u001b[0m\u001b[0;34m\u001b[0m\u001b[0;34m\u001b[0m\u001b[0m\n\u001b[0;32m-> 4412\u001b[0;31m             \u001b[0;32mreturn\u001b[0m \u001b[0mmethod\u001b[0m\u001b[0;34m(\u001b[0m\u001b[0mself\u001b[0m\u001b[0;34m,\u001b[0m \u001b[0mother\u001b[0m\u001b[0;34m,\u001b[0m \u001b[0;34m*\u001b[0m\u001b[0margs\u001b[0m\u001b[0;34m,\u001b[0m \u001b[0;34m**\u001b[0m\u001b[0mkwargs\u001b[0m\u001b[0;34m)\u001b[0m\u001b[0;34m\u001b[0m\u001b[0;34m\u001b[0m\u001b[0m\n\u001b[0m\u001b[1;32m   4413\u001b[0m         \u001b[0;32melse\u001b[0m\u001b[0;34m:\u001b[0m\u001b[0;34m\u001b[0m\u001b[0;34m\u001b[0m\u001b[0m\n\u001b[1;32m   4414\u001b[0m             \u001b[0ma\u001b[0m\u001b[0;34m,\u001b[0m \u001b[0mb\u001b[0m \u001b[0;34m=\u001b[0m \u001b[0mcoercion_model\u001b[0m\u001b[0;34m.\u001b[0m\u001b[0mcanonical_coercion\u001b[0m\u001b[0;34m(\u001b[0m\u001b[0mself\u001b[0m\u001b[0;34m,\u001b[0m \u001b[0mother\u001b[0m\u001b[0;34m)\u001b[0m\u001b[0;34m\u001b[0m\u001b[0;34m\u001b[0m\u001b[0m\n",
      "\u001b[0;32m/opt/sagemath-9.3/local/lib/python3.7/site-packages/sage/rings/polynomial/multi_polynomial_libsingular.pyx\u001b[0m in \u001b[0;36msage.rings.polynomial.multi_polynomial_libsingular.MPolynomial_libsingular.gcd (build/cythonized/sage/rings/polynomial/multi_polynomial_libsingular.cpp:37446)\u001b[0;34m()\u001b[0m\n\u001b[1;32m   4851\u001b[0m             \u001b[0;34m+\u001b[0m \u001b[0msingular_polynomial_length_bounded\u001b[0m\u001b[0;34m(\u001b[0m\u001b[0m_right\u001b[0m\u001b[0;34m.\u001b[0m\u001b[0m_poly\u001b[0m\u001b[0;34m,\u001b[0m\u001b[0;36m20\u001b[0m\u001b[0;34m)\u001b[0m\u001b[0;34m\u001b[0m\u001b[0;34m\u001b[0m\u001b[0m\n\u001b[1;32m   4852\u001b[0m         \u001b[0;32mif\u001b[0m \u001b[0mcount\u001b[0m \u001b[0;34m>=\u001b[0m \u001b[0;36m20\u001b[0m\u001b[0;34m:\u001b[0m\u001b[0;34m\u001b[0m\u001b[0;34m\u001b[0m\u001b[0m\n\u001b[0;32m-> 4853\u001b[0;31m             \u001b[0msig_on\u001b[0m\u001b[0;34m(\u001b[0m\u001b[0;34m)\u001b[0m\u001b[0;34m\u001b[0m\u001b[0;34m\u001b[0m\u001b[0m\n\u001b[0m\u001b[1;32m   4854\u001b[0m         \u001b[0m_res\u001b[0m \u001b[0;34m=\u001b[0m \u001b[0msingclap_gcd\u001b[0m\u001b[0;34m(\u001b[0m\u001b[0mp_Copy\u001b[0m\u001b[0;34m(\u001b[0m\u001b[0mself\u001b[0m\u001b[0;34m.\u001b[0m\u001b[0m_poly\u001b[0m\u001b[0;34m,\u001b[0m \u001b[0m_ring\u001b[0m\u001b[0;34m)\u001b[0m\u001b[0;34m,\u001b[0m \u001b[0mp_Copy\u001b[0m\u001b[0;34m(\u001b[0m\u001b[0m_right\u001b[0m\u001b[0;34m.\u001b[0m\u001b[0m_poly\u001b[0m\u001b[0;34m,\u001b[0m \u001b[0m_ring\u001b[0m\u001b[0;34m)\u001b[0m\u001b[0;34m,\u001b[0m \u001b[0m_ring\u001b[0m \u001b[0;34m)\u001b[0m\u001b[0;34m\u001b[0m\u001b[0;34m\u001b[0m\u001b[0m\n\u001b[1;32m   4855\u001b[0m         \u001b[0;32mif\u001b[0m \u001b[0mcount\u001b[0m \u001b[0;34m>=\u001b[0m \u001b[0;36m20\u001b[0m\u001b[0;34m:\u001b[0m\u001b[0;34m\u001b[0m\u001b[0;34m\u001b[0m\u001b[0m\n",
      "\u001b[0;31mKeyboardInterrupt\u001b[0m: "
     ]
    }
   ],
   "source": [
    "all_check(8)"
   ]
  },
  {
   "cell_type": "code",
   "execution_count": 3,
   "metadata": {},
   "outputs": [
    {
     "name": "stdout",
     "output_type": "stream",
     "text": [
      "checking: n+N+r=9\n",
      "checking segre sym: n=1, N=3, r=5\n",
      "n=1, N=3, r=5 already checked\n",
      "checking segre sym: n=2, N=2, r=5\n"
     ]
    },
    {
     "ename": "KeyboardInterrupt",
     "evalue": "",
     "output_type": "error",
     "traceback": [
      "\u001b[0;31m---------------------------------------------------------------------------\u001b[0m",
      "\u001b[0;31mKeyboardInterrupt\u001b[0m                         Traceback (most recent call last)",
      "\u001b[0;32m/opt/sagemath-9.3/local/lib/python3.7/site-packages/sage/all_cmdline.py\u001b[0m in \u001b[0;36m<module>\u001b[0;34m\u001b[0m\n\u001b[0;32m----> 1\u001b[0;31m \u001b[0mall_check\u001b[0m\u001b[0;34m(\u001b[0m\u001b[0mInteger\u001b[0m\u001b[0;34m(\u001b[0m\u001b[0;36m9\u001b[0m\u001b[0;34m)\u001b[0m\u001b[0;34m)\u001b[0m\u001b[0;34m\u001b[0m\u001b[0;34m\u001b[0m\u001b[0m\n\u001b[0m",
      "\u001b[0;32m/opt/sagemath-9.3/local/lib/python3.7/site-packages/sage/all_cmdline.py\u001b[0m in \u001b[0;36mall_check\u001b[0;34m(s)\u001b[0m\n\u001b[1;32m    173\u001b[0m                     \u001b[0mprint\u001b[0m\u001b[0;34m(\u001b[0m\u001b[0;34m\"n=\"\u001b[0m\u001b[0;34m+\u001b[0m\u001b[0mstr\u001b[0m\u001b[0;34m(\u001b[0m\u001b[0mn\u001b[0m\u001b[0;34m)\u001b[0m\u001b[0;34m+\u001b[0m\u001b[0;34m\", N=\"\u001b[0m\u001b[0;34m+\u001b[0m\u001b[0mstr\u001b[0m\u001b[0;34m(\u001b[0m\u001b[0mN\u001b[0m\u001b[0;34m)\u001b[0m\u001b[0;34m+\u001b[0m\u001b[0;34m\", r=\"\u001b[0m\u001b[0;34m+\u001b[0m\u001b[0mstr\u001b[0m\u001b[0;34m(\u001b[0m\u001b[0mr\u001b[0m\u001b[0;34m)\u001b[0m\u001b[0;34m+\u001b[0m\u001b[0;34m\" already checked\"\u001b[0m\u001b[0;34m)\u001b[0m\u001b[0;34m\u001b[0m\u001b[0;34m\u001b[0m\u001b[0m\n\u001b[1;32m    174\u001b[0m                 \u001b[0;32melse\u001b[0m\u001b[0;34m:\u001b[0m\u001b[0;34m\u001b[0m\u001b[0;34m\u001b[0m\u001b[0m\n\u001b[0;32m--> 175\u001b[0;31m                     \u001b[0mS1\u001b[0m\u001b[0;34m=\u001b[0m\u001b[0mSegre_Num_quot\u001b[0m\u001b[0;34m(\u001b[0m\u001b[0mn\u001b[0m\u001b[0;34m,\u001b[0m\u001b[0mN\u001b[0m\u001b[0;34m,\u001b[0m\u001b[0mr\u001b[0m\u001b[0;34m)\u001b[0m\u001b[0;34m\u001b[0m\u001b[0;34m\u001b[0m\u001b[0m\n\u001b[0m\u001b[1;32m    176\u001b[0m                     \u001b[0mS2\u001b[0m\u001b[0;34m=\u001b[0m\u001b[0mSegre_Num_quot\u001b[0m\u001b[0;34m(\u001b[0m\u001b[0mn\u001b[0m\u001b[0;34m,\u001b[0m\u001b[0mr\u001b[0m\u001b[0;34m,\u001b[0m\u001b[0mN\u001b[0m\u001b[0;34m)\u001b[0m\u001b[0;34m\u001b[0m\u001b[0;34m\u001b[0m\u001b[0m\n\u001b[1;32m    177\u001b[0m                     \u001b[0mdiff\u001b[0m\u001b[0;34m=\u001b[0m\u001b[0mS1\u001b[0m\u001b[0;34m*\u001b[0m\u001b[0;34m(\u001b[0m\u001b[0;34m-\u001b[0m\u001b[0mInteger\u001b[0m\u001b[0;34m(\u001b[0m\u001b[0;36m1\u001b[0m\u001b[0;34m)\u001b[0m\u001b[0;34m)\u001b[0m\u001b[0;34m**\u001b[0m\u001b[0;34m(\u001b[0m\u001b[0mn\u001b[0m\u001b[0;34m*\u001b[0m\u001b[0mN\u001b[0m\u001b[0;34m)\u001b[0m\u001b[0;34m-\u001b[0m\u001b[0msymmetrize\u001b[0m\u001b[0;34m(\u001b[0m\u001b[0mS2\u001b[0m\u001b[0;34m)\u001b[0m\u001b[0;34m*\u001b[0m\u001b[0;34m(\u001b[0m\u001b[0;34m-\u001b[0m\u001b[0mInteger\u001b[0m\u001b[0;34m(\u001b[0m\u001b[0;36m1\u001b[0m\u001b[0;34m)\u001b[0m\u001b[0;34m)\u001b[0m\u001b[0;34m**\u001b[0m\u001b[0;34m(\u001b[0m\u001b[0mn\u001b[0m\u001b[0;34m*\u001b[0m\u001b[0mr\u001b[0m\u001b[0;34m)\u001b[0m\u001b[0;34m\u001b[0m\u001b[0;34m\u001b[0m\u001b[0m\n",
      "\u001b[0;32m/opt/sagemath-9.3/local/lib/python3.7/site-packages/sage/all_cmdline.py\u001b[0m in \u001b[0;36mSegre_Num_quot\u001b[0;34m(n, N, rank)\u001b[0m\n\u001b[1;32m     88\u001b[0m     \u001b[0;32mfor\u001b[0m \u001b[0mZ\u001b[0m \u001b[0;32min\u001b[0m \u001b[0mfixed_locus\u001b[0m\u001b[0;34m(\u001b[0m\u001b[0mn\u001b[0m\u001b[0;34m,\u001b[0m\u001b[0mN\u001b[0m\u001b[0;34m)\u001b[0m\u001b[0;34m:\u001b[0m\u001b[0;34m\u001b[0m\u001b[0;34m\u001b[0m\u001b[0m\n\u001b[1;32m     89\u001b[0m         \u001b[0madd\u001b[0m\u001b[0;34m=\u001b[0m\u001b[0mtop_chern\u001b[0m\u001b[0;34m(\u001b[0m\u001b[0;34m-\u001b[0m\u001b[0mNvir\u001b[0m\u001b[0;34m(\u001b[0m\u001b[0mZ\u001b[0m\u001b[0;34m)\u001b[0m\u001b[0;34m)\u001b[0m\u001b[0;34m*\u001b[0m\u001b[0mtotal_segre_quot\u001b[0m\u001b[0;34m(\u001b[0m\u001b[0mZ\u001b[0m\u001b[0;34m,\u001b[0m\u001b[0mrank\u001b[0m\u001b[0;34m)\u001b[0m\u001b[0;34m\u001b[0m\u001b[0;34m\u001b[0m\u001b[0m\n\u001b[0;32m---> 90\u001b[0;31m         \u001b[0mtotal\u001b[0m\u001b[0;34m+=\u001b[0m\u001b[0madd\u001b[0m\u001b[0;34m\u001b[0m\u001b[0;34m\u001b[0m\u001b[0m\n\u001b[0m\u001b[1;32m     91\u001b[0m     \u001b[0;32mreturn\u001b[0m \u001b[0mtotal\u001b[0m\u001b[0;34m\u001b[0m\u001b[0;34m\u001b[0m\u001b[0m\n\u001b[1;32m     92\u001b[0m \u001b[0;34m\u001b[0m\u001b[0m\n",
      "\u001b[0;32m/opt/sagemath-9.3/local/lib/python3.7/site-packages/sage/structure/element.pyx\u001b[0m in \u001b[0;36msage.structure.element.Element.__add__ (build/cythonized/sage/structure/element.c:10954)\u001b[0;34m()\u001b[0m\n\u001b[1;32m   1227\u001b[0m         \u001b[0mcdef\u001b[0m \u001b[0mint\u001b[0m \u001b[0mcl\u001b[0m \u001b[0;34m=\u001b[0m \u001b[0mclassify_elements\u001b[0m\u001b[0;34m(\u001b[0m\u001b[0mleft\u001b[0m\u001b[0;34m,\u001b[0m \u001b[0mright\u001b[0m\u001b[0;34m)\u001b[0m\u001b[0;34m\u001b[0m\u001b[0;34m\u001b[0m\u001b[0m\n\u001b[1;32m   1228\u001b[0m         \u001b[0;32mif\u001b[0m \u001b[0mHAVE_SAME_PARENT\u001b[0m\u001b[0;34m(\u001b[0m\u001b[0mcl\u001b[0m\u001b[0;34m)\u001b[0m\u001b[0;34m:\u001b[0m\u001b[0;34m\u001b[0m\u001b[0;34m\u001b[0m\u001b[0m\n\u001b[0;32m-> 1229\u001b[0;31m             \u001b[0;32mreturn\u001b[0m \u001b[0;34m(\u001b[0m\u001b[0;34m<\u001b[0m\u001b[0mElement\u001b[0m\u001b[0;34m>\u001b[0m\u001b[0mleft\u001b[0m\u001b[0;34m)\u001b[0m\u001b[0;34m.\u001b[0m\u001b[0m_add_\u001b[0m\u001b[0;34m(\u001b[0m\u001b[0mright\u001b[0m\u001b[0;34m)\u001b[0m\u001b[0;34m\u001b[0m\u001b[0;34m\u001b[0m\u001b[0m\n\u001b[0m\u001b[1;32m   1230\u001b[0m         \u001b[0;31m# Left and right are Sage elements => use coercion model\u001b[0m\u001b[0;34m\u001b[0m\u001b[0;34m\u001b[0m\u001b[0;34m\u001b[0m\u001b[0m\n\u001b[1;32m   1231\u001b[0m         \u001b[0;32mif\u001b[0m \u001b[0mBOTH_ARE_ELEMENT\u001b[0m\u001b[0;34m(\u001b[0m\u001b[0mcl\u001b[0m\u001b[0;34m)\u001b[0m\u001b[0;34m:\u001b[0m\u001b[0;34m\u001b[0m\u001b[0;34m\u001b[0m\u001b[0m\n",
      "\u001b[0;32m/opt/sagemath-9.3/local/lib/python3.7/site-packages/sage/rings/fraction_field_element.pyx\u001b[0m in \u001b[0;36msage.rings.fraction_field_element.FractionFieldElement._add_ (build/cythonized/sage/rings/fraction_field_element.c:6814)\u001b[0;34m()\u001b[0m\n\u001b[1;32m    607\u001b[0m                     \u001b[0;32melse\u001b[0m\u001b[0;34m:\u001b[0m\u001b[0;34m\u001b[0m\u001b[0;34m\u001b[0m\u001b[0m\n\u001b[1;32m    608\u001b[0m                         \u001b[0mtden\u001b[0m \u001b[0;34m=\u001b[0m \u001b[0mself\u001b[0m\u001b[0;34m.\u001b[0m\u001b[0m__denominator\u001b[0m \u001b[0;34m*\u001b[0m \u001b[0msden\u001b[0m\u001b[0;34m\u001b[0m\u001b[0;34m\u001b[0m\u001b[0m\n\u001b[0;32m--> 609\u001b[0;31m                         \u001b[0me\u001b[0m    \u001b[0;34m=\u001b[0m \u001b[0mtnum\u001b[0m\u001b[0;34m.\u001b[0m\u001b[0mgcd\u001b[0m\u001b[0;34m(\u001b[0m\u001b[0md\u001b[0m\u001b[0;34m)\u001b[0m\u001b[0;34m\u001b[0m\u001b[0;34m\u001b[0m\u001b[0m\n\u001b[0m\u001b[1;32m    610\u001b[0m                         \u001b[0;32mif\u001b[0m \u001b[0;32mnot\u001b[0m \u001b[0me\u001b[0m\u001b[0;34m.\u001b[0m\u001b[0mis_unit\u001b[0m\u001b[0;34m(\u001b[0m\u001b[0;34m)\u001b[0m\u001b[0;34m:\u001b[0m\u001b[0;34m\u001b[0m\u001b[0;34m\u001b[0m\u001b[0m\n\u001b[1;32m    611\u001b[0m                             \u001b[0mtnum\u001b[0m \u001b[0;34m=\u001b[0m \u001b[0mtnum\u001b[0m \u001b[0;34m//\u001b[0m \u001b[0me\u001b[0m\u001b[0;34m\u001b[0m\u001b[0;34m\u001b[0m\u001b[0m\n",
      "\u001b[0;32m/opt/sagemath-9.3/local/lib/python3.7/site-packages/sage/structure/element.pyx\u001b[0m in \u001b[0;36msage.structure.element.coerce_binop.new_method (build/cythonized/sage/structure/element.c:28006)\u001b[0;34m()\u001b[0m\n\u001b[1;32m   4410\u001b[0m     \u001b[0;32mdef\u001b[0m \u001b[0mnew_method\u001b[0m\u001b[0;34m(\u001b[0m\u001b[0mself\u001b[0m\u001b[0;34m,\u001b[0m \u001b[0mother\u001b[0m\u001b[0;34m,\u001b[0m \u001b[0;34m*\u001b[0m\u001b[0margs\u001b[0m\u001b[0;34m,\u001b[0m \u001b[0;34m**\u001b[0m\u001b[0mkwargs\u001b[0m\u001b[0;34m)\u001b[0m\u001b[0;34m:\u001b[0m\u001b[0;34m\u001b[0m\u001b[0;34m\u001b[0m\u001b[0m\n\u001b[1;32m   4411\u001b[0m         \u001b[0;32mif\u001b[0m \u001b[0mhave_same_parent\u001b[0m\u001b[0;34m(\u001b[0m\u001b[0mself\u001b[0m\u001b[0;34m,\u001b[0m \u001b[0mother\u001b[0m\u001b[0;34m)\u001b[0m\u001b[0;34m:\u001b[0m\u001b[0;34m\u001b[0m\u001b[0;34m\u001b[0m\u001b[0m\n\u001b[0;32m-> 4412\u001b[0;31m             \u001b[0;32mreturn\u001b[0m \u001b[0mmethod\u001b[0m\u001b[0;34m(\u001b[0m\u001b[0mself\u001b[0m\u001b[0;34m,\u001b[0m \u001b[0mother\u001b[0m\u001b[0;34m,\u001b[0m \u001b[0;34m*\u001b[0m\u001b[0margs\u001b[0m\u001b[0;34m,\u001b[0m \u001b[0;34m**\u001b[0m\u001b[0mkwargs\u001b[0m\u001b[0;34m)\u001b[0m\u001b[0;34m\u001b[0m\u001b[0;34m\u001b[0m\u001b[0m\n\u001b[0m\u001b[1;32m   4413\u001b[0m         \u001b[0;32melse\u001b[0m\u001b[0;34m:\u001b[0m\u001b[0;34m\u001b[0m\u001b[0;34m\u001b[0m\u001b[0m\n\u001b[1;32m   4414\u001b[0m             \u001b[0ma\u001b[0m\u001b[0;34m,\u001b[0m \u001b[0mb\u001b[0m \u001b[0;34m=\u001b[0m \u001b[0mcoercion_model\u001b[0m\u001b[0;34m.\u001b[0m\u001b[0mcanonical_coercion\u001b[0m\u001b[0;34m(\u001b[0m\u001b[0mself\u001b[0m\u001b[0;34m,\u001b[0m \u001b[0mother\u001b[0m\u001b[0;34m)\u001b[0m\u001b[0;34m\u001b[0m\u001b[0;34m\u001b[0m\u001b[0m\n",
      "\u001b[0;32m/opt/sagemath-9.3/local/lib/python3.7/site-packages/sage/rings/polynomial/multi_polynomial_libsingular.pyx\u001b[0m in \u001b[0;36msage.rings.polynomial.multi_polynomial_libsingular.MPolynomial_libsingular.gcd (build/cythonized/sage/rings/polynomial/multi_polynomial_libsingular.cpp:37446)\u001b[0;34m()\u001b[0m\n\u001b[1;32m   4851\u001b[0m             \u001b[0;34m+\u001b[0m \u001b[0msingular_polynomial_length_bounded\u001b[0m\u001b[0;34m(\u001b[0m\u001b[0m_right\u001b[0m\u001b[0;34m.\u001b[0m\u001b[0m_poly\u001b[0m\u001b[0;34m,\u001b[0m\u001b[0;36m20\u001b[0m\u001b[0;34m)\u001b[0m\u001b[0;34m\u001b[0m\u001b[0;34m\u001b[0m\u001b[0m\n\u001b[1;32m   4852\u001b[0m         \u001b[0;32mif\u001b[0m \u001b[0mcount\u001b[0m \u001b[0;34m>=\u001b[0m \u001b[0;36m20\u001b[0m\u001b[0;34m:\u001b[0m\u001b[0;34m\u001b[0m\u001b[0;34m\u001b[0m\u001b[0m\n\u001b[0;32m-> 4853\u001b[0;31m             \u001b[0msig_on\u001b[0m\u001b[0;34m(\u001b[0m\u001b[0;34m)\u001b[0m\u001b[0;34m\u001b[0m\u001b[0;34m\u001b[0m\u001b[0m\n\u001b[0m\u001b[1;32m   4854\u001b[0m         \u001b[0m_res\u001b[0m \u001b[0;34m=\u001b[0m \u001b[0msingclap_gcd\u001b[0m\u001b[0;34m(\u001b[0m\u001b[0mp_Copy\u001b[0m\u001b[0;34m(\u001b[0m\u001b[0mself\u001b[0m\u001b[0;34m.\u001b[0m\u001b[0m_poly\u001b[0m\u001b[0;34m,\u001b[0m \u001b[0m_ring\u001b[0m\u001b[0;34m)\u001b[0m\u001b[0;34m,\u001b[0m \u001b[0mp_Copy\u001b[0m\u001b[0;34m(\u001b[0m\u001b[0m_right\u001b[0m\u001b[0;34m.\u001b[0m\u001b[0m_poly\u001b[0m\u001b[0;34m,\u001b[0m \u001b[0m_ring\u001b[0m\u001b[0;34m)\u001b[0m\u001b[0;34m,\u001b[0m \u001b[0m_ring\u001b[0m \u001b[0;34m)\u001b[0m\u001b[0;34m\u001b[0m\u001b[0;34m\u001b[0m\u001b[0m\n\u001b[1;32m   4855\u001b[0m         \u001b[0;32mif\u001b[0m \u001b[0mcount\u001b[0m \u001b[0;34m>=\u001b[0m \u001b[0;36m20\u001b[0m\u001b[0;34m:\u001b[0m\u001b[0;34m\u001b[0m\u001b[0;34m\u001b[0m\u001b[0m\n",
      "\u001b[0;31mKeyboardInterrupt\u001b[0m: "
     ]
    }
   ],
   "source": [
    "all_check(9)"
   ]
  },
  {
   "cell_type": "code",
   "execution_count": null,
   "metadata": {},
   "outputs": [],
   "source": [
    "all_check(10)"
   ]
  },
  {
   "cell_type": "code",
   "execution_count": null,
   "metadata": {},
   "outputs": [],
   "source": [
    "all_check(11)"
   ]
  },
  {
   "cell_type": "code",
   "execution_count": null,
   "metadata": {},
   "outputs": [],
   "source": [
    "all_check(12)"
   ]
  },
  {
   "cell_type": "code",
   "execution_count": null,
   "metadata": {},
   "outputs": [],
   "source": [
    "all_check(13)"
   ]
  },
  {
   "cell_type": "code",
   "execution_count": null,
   "metadata": {},
   "outputs": [],
   "source": [
    "all_check(14)"
   ]
  },
  {
   "cell_type": "code",
   "execution_count": null,
   "metadata": {},
   "outputs": [],
   "source": [
    "all_check(15)"
   ]
  },
  {
   "cell_type": "code",
   "execution_count": 231,
   "metadata": {},
   "outputs": [
    {
     "data": {
      "text/html": [
       "<html><script type=\"math/tex; mode=display\">\\newcommand{\\Bold}[1]{\\mathbf{#1}}\\left[\\left(m t + 2 \\, w_{1}^{2} - 4 \\, w_{1} w_{2} + 2 \\, w_{2}^{2}, 1\\right), \\left(m + t, 2\\right), \\left(-1, 1\\right)\\right]</script></html>"
      ],
      "text/latex": [
       "$$\\newcommand{\\Bold}[1]{\\mathbf{#1}}\\left[\\left(m t + 2 \\, w_{1}^{2} - 4 \\, w_{1} w_{2} + 2 \\, w_{2}^{2}, 1\\right), \\left(m + t, 2\\right), \\left(-1, 1\\right)\\right]$$"
      ],
      "text/plain": [
       "[(m*t + 2*w1^2 - 4*w1*w2 + 2*w2^2, 1), (m + t, 2), (-1, 1)]"
      ]
     },
     "execution_count": 231,
     "metadata": {},
     "output_type": "execute_result"
    }
   ],
   "source": [
    "deg0(set_exp(Verlinde_Num_quot(2,1,2)-symmetrizeK(Verlinde_Num_quot(2,2,1)))).numerator().factor_list()"
   ]
  },
  {
   "cell_type": "code",
   "execution_count": 188,
   "metadata": {},
   "outputs": [
    {
     "data": {
      "text/html": [
       "<html><script type=\"math/tex; mode=display\">\\newcommand{\\Bold}[1]{\\mathbf{#1}}2</script></html>"
      ],
      "text/latex": [
       "$$\\newcommand{\\Bold}[1]{\\mathbf{#1}}2$$"
      ],
      "text/plain": [
       "2"
      ]
     },
     "execution_count": 188,
     "metadata": {},
     "output_type": "execute_result"
    }
   ],
   "source": [
    "with open(\"symmetry2d-segre-checked.txt\") as f:\n",
    "        lines = f.read().splitlines()\n",
    "len(lines)"
   ]
  },
  {
   "cell_type": "code",
   "execution_count": 298,
   "metadata": {
    "scrolled": true
   },
   "outputs": [
    {
     "data": {
      "text/html": [
       "<html><script type=\"math/tex; mode=display\">\\newcommand{\\Bold}[1]{\\mathbf{#1}}0</script></html>"
      ],
      "text/latex": [
       "$$\\newcommand{\\Bold}[1]{\\mathbf{#1}}0$$"
      ],
      "text/plain": [
       "0"
      ]
     },
     "execution_count": 298,
     "metadata": {},
     "output_type": "execute_result"
    }
   ],
   "source": [
    "Verlinde_Num_quot_inv(3,4)"
   ]
  },
  {
   "cell_type": "code",
   "execution_count": 95,
   "metadata": {},
   "outputs": [
    {
     "data": {
      "text/html": [
       "<html><script type=\"math/tex; mode=display\">\\newcommand{\\Bold}[1]{\\mathbf{#1}}\\frac{{\\left(m + t\\right)}^{2}}{2 \\, m^{2} t^{2}}</script></html>"
      ],
      "text/latex": [
       "$$\\newcommand{\\Bold}[1]{\\mathbf{#1}}\\frac{{\\left(m + t\\right)}^{2}}{2 \\, m^{2} t^{2}}$$"
      ],
      "text/plain": [
       "1/2*(m + t)^2/(m^2*t^2)"
      ]
     },
     "execution_count": 95,
     "metadata": {},
     "output_type": "execute_result"
    }
   ],
   "source": [
    "pretty(Chern_Num_quot(2,2))"
   ]
  },
  {
   "cell_type": "code",
   "execution_count": 70,
   "metadata": {},
   "outputs": [
    {
     "data": {
      "text/html": [
       "<html><script type=\"math/tex; mode=display\">\\newcommand{\\Bold}[1]{\\mathbf{#1}}\\frac{{\\left(m + t\\right)}^{3}}{6 \\, m^{3} t^{3}}</script></html>"
      ],
      "text/latex": [
       "$$\\newcommand{\\Bold}[1]{\\mathbf{#1}}\\frac{{\\left(m + t\\right)}^{3}}{6 \\, m^{3} t^{3}}$$"
      ],
      "text/plain": [
       "1/6*(m + t)^3/(m^3*t^3)"
      ]
     },
     "execution_count": 70,
     "metadata": {},
     "output_type": "execute_result"
    }
   ],
   "source": [
    "pretty(Chern_Num_quot(3,2))"
   ]
  },
  {
   "cell_type": "code",
   "execution_count": 88,
   "metadata": {},
   "outputs": [
    {
     "data": {
      "text/html": [
       "<html><script type=\"math/tex; mode=display\">\\newcommand{\\Bold}[1]{\\mathbf{#1}}\\frac{{\\left(m + t\\right)}^{4}}{24 \\, m^{4} t^{4}}</script></html>"
      ],
      "text/latex": [
       "$$\\newcommand{\\Bold}[1]{\\mathbf{#1}}\\frac{{\\left(m + t\\right)}^{4}}{24 \\, m^{4} t^{4}}$$"
      ],
      "text/plain": [
       "1/24*(m + t)^4/(m^4*t^4)"
      ]
     },
     "execution_count": 88,
     "metadata": {},
     "output_type": "execute_result"
    }
   ],
   "source": [
    "pretty(Chern_Num_quot(4,2))"
   ]
  },
  {
   "cell_type": "code",
   "execution_count": 346,
   "metadata": {},
   "outputs": [
    {
     "data": {
      "text/html": [
       "<html><script type=\"math/tex; mode=display\">\\newcommand{\\Bold}[1]{\\mathbf{#1}}\\frac{m + t}{m t}</script></html>"
      ],
      "text/latex": [
       "$$\\newcommand{\\Bold}[1]{\\mathbf{#1}}\\frac{m + t}{m t}$$"
      ],
      "text/plain": [
       "(m + t)/(m*t)"
      ]
     },
     "execution_count": 346,
     "metadata": {},
     "output_type": "execute_result"
    }
   ],
   "source": [
    "pretty(Chern_Num_quot(1,4,3))"
   ]
  },
  {
   "cell_type": "code",
   "execution_count": 295,
   "metadata": {},
   "outputs": [
    {
     "data": {
      "text/html": [
       "<html><script type=\"math/tex; mode=display\">\\newcommand{\\Bold}[1]{\\mathbf{#1}}\\frac{{\\left(12 \\, m^{4} t^{2} + 22 \\, m^{3} t^{3} + 12 \\, m^{2} t^{4} - 24 \\, m^{3} t^{2} - 24 \\, m^{2} t^{3} - 6 \\, m^{3} t - 2 \\, m^{2} t^{2} - 6 \\, m t^{3} + 6 \\, m^{2} t + 6 \\, m t^{2} + m^{2} + 2 \\, m t + t^{2}\\right)} {\\left(m + t\\right)}}{6 \\, m^{3} t^{3}}</script></html>"
      ],
      "text/latex": [
       "$$\\newcommand{\\Bold}[1]{\\mathbf{#1}}\\frac{{\\left(12 \\, m^{4} t^{2} + 22 \\, m^{3} t^{3} + 12 \\, m^{2} t^{4} - 24 \\, m^{3} t^{2} - 24 \\, m^{2} t^{3} - 6 \\, m^{3} t - 2 \\, m^{2} t^{2} - 6 \\, m t^{3} + 6 \\, m^{2} t + 6 \\, m t^{2} + m^{2} + 2 \\, m t + t^{2}\\right)} {\\left(m + t\\right)}}{6 \\, m^{3} t^{3}}$$"
      ],
      "text/plain": [
       "1/6*(12*m^4*t^2 + 22*m^3*t^3 + 12*m^2*t^4 - 24*m^3*t^2 - 24*m^2*t^3 - 6*m^3*t - 2*m^2*t^2 - 6*m*t^3 + 6*m^2*t + 6*m*t^2 + m^2 + 2*m*t + t^2)*(m + t)/(m^3*t^3)"
      ]
     },
     "execution_count": 295,
     "metadata": {},
     "output_type": "execute_result"
    }
   ],
   "source": [
    "pretty(Chern_Num_quot(3,1)(l1=0,l2=0,w1=0,w2=0))"
   ]
  },
  {
   "cell_type": "code",
   "execution_count": 385,
   "metadata": {},
   "outputs": [
    {
     "name": "stdout",
     "output_type": "stream",
     "text": [
      "([], [3])\n",
      "(l2 - t + w1)*(l2 - 2*t + w1)*(l2 + w1)\n",
      "([], [2, 1])\n",
      "(l2 - m + w1)*(l2 - t + w1)*(l2 + w1)\n",
      "([], [1, 1, 1])\n",
      "(l2 - m + w1)*(l2 - 2*m + w1)*(l2 + w1)\n",
      "([1], [2])\n",
      "(l1 + w1)*(l2 - t + w1)*(l2 + w1)\n",
      "([1], [1, 1])\n",
      "(l1 + w1)*(l2 - m + w1)*(l2 + w1)\n",
      "([2], [1])\n",
      "(l1 - t + w1)*(l1 + w1)*(l2 + w1)\n",
      "([1, 1], [1])\n",
      "(l1 - m + w1)*(l1 + w1)*(l2 + w1)\n",
      "([3], [])\n",
      "(l1 - t + w1)*(l1 - 2*t + w1)*(l1 + w1)\n",
      "([2, 1], [])\n",
      "(l1 - m + w1)*(l1 - t + w1)*(l1 + w1)\n",
      "([1, 1, 1], [])\n",
      "(l1 - m + w1)*(l1 - 2*m + w1)*(l1 + w1)\n"
     ]
    },
    {
     "data": {
      "text/html": [
       "<html><script type=\"math/tex; mode=display\">\\newcommand{\\Bold}[1]{\\mathbf{#1}}\\frac{{\\left(m + t\\right)}^{3}}{6 \\, m^{3} t^{3}}</script></html>"
      ],
      "text/latex": [
       "$$\\newcommand{\\Bold}[1]{\\mathbf{#1}}\\frac{{\\left(m + t\\right)}^{3}}{6 \\, m^{3} t^{3}}$$"
      ],
      "text/plain": [
       "1/6*(m + t)^3/(m^3*t^3)"
      ]
     },
     "execution_count": 385,
     "metadata": {},
     "output_type": "execute_result"
    }
   ],
   "source": [
    "pretty(Chern_Num_quot(3,2))"
   ]
  },
  {
   "cell_type": "markdown",
   "metadata": {},
   "source": [
    "# RANK 2\n"
   ]
  },
  {
   "cell_type": "code",
   "execution_count": 259,
   "metadata": {},
   "outputs": [
    {
     "data": {
      "text/html": [
       "<html><script type=\"math/tex; mode=display\">\\newcommand{\\Bold}[1]{\\mathbf{#1}}-\\frac{v_{1}^{2} v_{2}^{2} z_{1}^{4} {\\left(e^{\\left(3 \\, m\\right)} - e^{\\left(4 \\, m + 2 \\, t\\right)} - e^{\\left(3 \\, m + 3 \\, t\\right)} - e^{\\left(2 \\, m + 4 \\, t\\right)} + e^{\\left(2 \\, m + 2 \\, t\\right)} + e^{\\left(2 \\, m + t\\right)} + e^{\\left(m + 2 \\, t\\right)} - e^{m} + e^{\\left(3 \\, t\\right)} - e^{t}\\right)} {\\left(e^{\\left(m + t\\right)} - 1\\right)} e^{\\left(-2 \\, m - 2 \\, t\\right)}}{{\\left(e^{m} + 1\\right)} {\\left(e^{m} - 1\\right)}^{2} {\\left(e^{t} + 1\\right)} {\\left(e^{t} - 1\\right)}^{2}}</script></html>"
      ],
      "text/latex": [
       "$$\\newcommand{\\Bold}[1]{\\mathbf{#1}}-\\frac{v_{1}^{2} v_{2}^{2} z_{1}^{4} {\\left(e^{\\left(3 \\, m\\right)} - e^{\\left(4 \\, m + 2 \\, t\\right)} - e^{\\left(3 \\, m + 3 \\, t\\right)} - e^{\\left(2 \\, m + 4 \\, t\\right)} + e^{\\left(2 \\, m + 2 \\, t\\right)} + e^{\\left(2 \\, m + t\\right)} + e^{\\left(m + 2 \\, t\\right)} - e^{m} + e^{\\left(3 \\, t\\right)} - e^{t}\\right)} {\\left(e^{\\left(m + t\\right)} - 1\\right)} e^{\\left(-2 \\, m - 2 \\, t\\right)}}{{\\left(e^{m} + 1\\right)} {\\left(e^{m} - 1\\right)}^{2} {\\left(e^{t} + 1\\right)} {\\left(e^{t} - 1\\right)}^{2}}$$"
      ],
      "text/plain": [
       "-v1^2*v2^2*z1^4*(e^(3*m) - e^(4*m + 2*t) - e^(3*m + 3*t) - e^(2*m + 4*t) + e^(2*m + 2*t) + e^(2*m + t) + e^(m + 2*t) - e^m + e^(3*t) - e^t)*(e^(m + t) - 1)*e^(-2*m - 2*t)/((e^m + 1)*(e^m - 1)^2*(e^t + 1)*(e^t - 1)^2)"
      ]
     },
     "execution_count": 259,
     "metadata": {},
     "output_type": "execute_result"
    }
   ],
   "source": [
    "pretty(Verlinde_Num_quot(2,1))(x=exp(t),y=exp(m),z=exp(l))"
   ]
  },
  {
   "cell_type": "code",
   "execution_count": 23,
   "metadata": {},
   "outputs": [
    {
     "data": {
      "text/html": [
       "<html><script type=\"math/tex; mode=display\">\\newcommand{\\Bold}[1]{\\mathbf{#1}}\\frac{{\\left(m t - 6 \\, v^{2} - 6 \\, w^{2}\\right)} {\\left(m + t\\right)}^{2}}{12 \\, m^{2} t^{2}}</script></html>"
      ],
      "text/latex": [
       "$$\\newcommand{\\Bold}[1]{\\mathbf{#1}}\\frac{{\\left(m t - 6 \\, v^{2} - 6 \\, w^{2}\\right)} {\\left(m + t\\right)}^{2}}{12 \\, m^{2} t^{2}}$$"
      ],
      "text/plain": [
       "1/12*(m*t - 6*v^2 - 6*w^2)*(m + t)^2/(m^2*t^2)"
      ]
     },
     "execution_count": 23,
     "metadata": {},
     "output_type": "execute_result"
    }
   ],
   "source": [
    "pretty(deg0(pretty(Verlinde_Num_quot_2(2,1))(x=exp(t),y=exp(m),z=exp(l)))-deg0(pretty(Segre_Num_quot_2(2, 1))))"
   ]
  },
  {
   "cell_type": "code",
   "execution_count": 24,
   "metadata": {},
   "outputs": [
    {
     "data": {
      "text/html": [
       "<html><script type=\"math/tex; mode=display\">\\newcommand{\\Bold}[1]{\\mathbf{#1}}-\\frac{{\\left(2 \\, l^{2} - 3 \\, m t + 12 \\, l v + 14 \\, v^{2} + 12 \\, l w - 4 \\, v w + 14 \\, w^{2}\\right)} {\\left(m + t\\right)}^{2}}{4 \\, m^{2} t^{2}}</script></html>"
      ],
      "text/latex": [
       "$$\\newcommand{\\Bold}[1]{\\mathbf{#1}}-\\frac{{\\left(2 \\, l^{2} - 3 \\, m t + 12 \\, l v + 14 \\, v^{2} + 12 \\, l w - 4 \\, v w + 14 \\, w^{2}\\right)} {\\left(m + t\\right)}^{2}}{4 \\, m^{2} t^{2}}$$"
      ],
      "text/plain": [
       "-1/4*(2*l^2 - 3*m*t + 12*l*v + 14*v^2 + 12*l*w - 4*v*w + 14*w^2)*(m + t)^2/(m^2*t^2)"
      ]
     },
     "execution_count": 24,
     "metadata": {},
     "output_type": "execute_result"
    }
   ],
   "source": [
    "pretty(deg0(pretty(Verlinde_Num_quot_2(2,2))(x=exp(t),y=exp(m),z=exp(l)))-deg0(pretty(Segre_Num_quot_2(2, 2))))"
   ]
  },
  {
   "cell_type": "code",
   "execution_count": 63,
   "metadata": {},
   "outputs": [
    {
     "data": {
      "text/html": [
       "<html><script type=\"math/tex; mode=display\">\\newcommand{\\Bold}[1]{\\mathbf{#1}}-\\frac{3 \\, {\\left(l^{2} - m t + 6 \\, l v + 4 \\, v^{2} + 6 \\, l w - 2 \\, v w + 4 \\, w^{2}\\right)} {\\left(m + t\\right)}^{2}}{m^{2} t^{2}}</script></html>"
      ],
      "text/latex": [
       "$$\\newcommand{\\Bold}[1]{\\mathbf{#1}}-\\frac{3 \\, {\\left(l^{2} - m t + 6 \\, l v + 4 \\, v^{2} + 6 \\, l w - 2 \\, v w + 4 \\, w^{2}\\right)} {\\left(m + t\\right)}^{2}}{m^{2} t^{2}}$$"
      ],
      "text/plain": [
       "-3*(l^2 - m*t + 6*l*v + 4*v^2 + 6*l*w - 2*v*w + 4*w^2)*(m + t)^2/(m^2*t^2)"
      ]
     },
     "execution_count": 63,
     "metadata": {},
     "output_type": "execute_result"
    }
   ],
   "source": [
    "pretty(deg0(pretty(Verlinde_Num_quot_2(2,3))(x=exp(t),y=exp(m),z=exp(l)))-deg0(pretty(Segre_Num_quot_2(2, 3))))"
   ]
  },
  {
   "cell_type": "code",
   "execution_count": 33,
   "metadata": {},
   "outputs": [
    {
     "data": {
      "text/html": [
       "<html><script type=\"math/tex; mode=display\">\\newcommand{\\Bold}[1]{\\mathbf{#1}}-\\frac{{\\left(72 \\, m^{3} t + 83 \\, m^{2} t^{2} + 72 \\, m t^{3} - 150 \\, m^{2} t v - 150 \\, m t^{2} v + 114 \\, m t v^{2} + 44 \\, m v^{3} + 44 \\, t v^{3} - 150 \\, m^{2} t w - 150 \\, m t^{2} w + 36 \\, m t v w + 36 \\, m v^{2} w + 36 \\, t v^{2} w + 114 \\, m t w^{2} + 36 \\, m v w^{2} + 36 \\, t v w^{2} + 44 \\, m w^{3} + 44 \\, t w^{3}\\right)} {\\left(m + t\\right)}^{2}}{48 \\, m^{3} t^{3}}</script></html>"
      ],
      "text/latex": [
       "$$\\newcommand{\\Bold}[1]{\\mathbf{#1}}-\\frac{{\\left(72 \\, m^{3} t + 83 \\, m^{2} t^{2} + 72 \\, m t^{3} - 150 \\, m^{2} t v - 150 \\, m t^{2} v + 114 \\, m t v^{2} + 44 \\, m v^{3} + 44 \\, t v^{3} - 150 \\, m^{2} t w - 150 \\, m t^{2} w + 36 \\, m t v w + 36 \\, m v^{2} w + 36 \\, t v^{2} w + 114 \\, m t w^{2} + 36 \\, m v w^{2} + 36 \\, t v w^{2} + 44 \\, m w^{3} + 44 \\, t w^{3}\\right)} {\\left(m + t\\right)}^{2}}{48 \\, m^{3} t^{3}}$$"
      ],
      "text/plain": [
       "-1/48*(72*m^3*t + 83*m^2*t^2 + 72*m*t^3 - 150*m^2*t*v - 150*m*t^2*v + 114*m*t*v^2 + 44*m*v^3 + 44*t*v^3 - 150*m^2*t*w - 150*m*t^2*w + 36*m*t*v*w + 36*m*v^2*w + 36*t*v^2*w + 114*m*t*w^2 + 36*m*v*w^2 + 36*t*v*w^2 + 44*m*w^3 + 44*t*w^3)*(m + t)^2/(m^3*t^3)"
      ]
     },
     "execution_count": 33,
     "metadata": {},
     "output_type": "execute_result"
    }
   ],
   "source": [
    "pretty(deg0(pretty(Verlinde_Num_quot_2(3,1))(x=exp(t),y=exp(m),z=exp(l)))+deg0(pretty(Segre_Num_quot_2(3,1))))"
   ]
  },
  {
   "cell_type": "code",
   "execution_count": 62,
   "metadata": {},
   "outputs": [
    {
     "data": {
      "text/html": [
       "<html><script type=\"math/tex; mode=display\">\\newcommand{\\Bold}[1]{\\mathbf{#1}}-\\frac{{\\left(2 \\, l^{3} m + 2 \\, l^{3} t + 3 \\, l^{2} m t - 42 \\, l m^{2} t + 12 \\, m^{3} t - 42 \\, l m t^{2} - 7 \\, m^{2} t^{2} + 12 \\, m t^{3} + 24 \\, l^{2} m w + 24 \\, l^{2} t w + 66 \\, l m t w - 84 \\, m^{2} t w - 84 \\, m t^{2} w + 60 \\, l m w^{2} + 60 \\, l t w^{2} + 66 \\, m t w^{2} + 40 \\, m w^{3} + 40 \\, t w^{3}\\right)} {\\left(m + t\\right)}^{2}}{12 \\, m^{3} t^{3}}</script></html>"
      ],
      "text/latex": [
       "$$\\newcommand{\\Bold}[1]{\\mathbf{#1}}-\\frac{{\\left(2 \\, l^{3} m + 2 \\, l^{3} t + 3 \\, l^{2} m t - 42 \\, l m^{2} t + 12 \\, m^{3} t - 42 \\, l m t^{2} - 7 \\, m^{2} t^{2} + 12 \\, m t^{3} + 24 \\, l^{2} m w + 24 \\, l^{2} t w + 66 \\, l m t w - 84 \\, m^{2} t w - 84 \\, m t^{2} w + 60 \\, l m w^{2} + 60 \\, l t w^{2} + 66 \\, m t w^{2} + 40 \\, m w^{3} + 40 \\, t w^{3}\\right)} {\\left(m + t\\right)}^{2}}{12 \\, m^{3} t^{3}}$$"
      ],
      "text/plain": [
       "-1/12*(2*l^3*m + 2*l^3*t + 3*l^2*m*t - 42*l*m^2*t + 12*m^3*t - 42*l*m*t^2 - 7*m^2*t^2 + 12*m*t^3 + 24*l^2*m*w + 24*l^2*t*w + 66*l*m*t*w - 84*m^2*t*w - 84*m*t^2*w + 60*l*m*w^2 + 60*l*t*w^2 + 66*m*t*w^2 + 40*m*w^3 + 40*t*w^3)*(m + t)^2/(m^3*t^3)"
      ]
     },
     "execution_count": 62,
     "metadata": {},
     "output_type": "execute_result"
    }
   ],
   "source": [
    "pretty(deg0(pretty(Verlinde_Num_quot(3,2))(x=exp(t),y=exp(m),z=exp(l)))-deg0(pretty(Segre_Num_quot(3,2))))"
   ]
  },
  {
   "cell_type": "code",
   "execution_count": 394,
   "metadata": {},
   "outputs": [
    {
     "data": {
      "text/html": [
       "<html><script type=\"math/tex; mode=display\">\\newcommand{\\Bold}[1]{\\mathbf{#1}}\\frac{m + t}{m t}</script></html>"
      ],
      "text/latex": [
       "$$\\newcommand{\\Bold}[1]{\\mathbf{#1}}\\frac{m + t}{m t}$$"
      ],
      "text/plain": [
       "(m + t)/(m*t)"
      ]
     },
     "execution_count": 394,
     "metadata": {},
     "output_type": "execute_result"
    }
   ],
   "source": [
    "pretty(Chern_Num_quot(1,3))"
   ]
  },
  {
   "cell_type": "code",
   "execution_count": 269,
   "metadata": {},
   "outputs": [
    {
     "data": {
      "text/html": [
       "<html><script type=\"math/tex; mode=display\">\\newcommand{\\Bold}[1]{\\mathbf{#1}}\\frac{{\\left(m + t\\right)}^{2}}{2 \\, m^{2} t^{2}}</script></html>"
      ],
      "text/latex": [
       "$$\\newcommand{\\Bold}[1]{\\mathbf{#1}}\\frac{{\\left(m + t\\right)}^{2}}{2 \\, m^{2} t^{2}}$$"
      ],
      "text/plain": [
       "1/2*(m + t)^2/(m^2*t^2)"
      ]
     },
     "execution_count": 269,
     "metadata": {},
     "output_type": "execute_result"
    }
   ],
   "source": [
    "pretty(Chern_Num_quot(2,3))"
   ]
  },
  {
   "cell_type": "code",
   "execution_count": 61,
   "metadata": {},
   "outputs": [
    {
     "data": {
      "text/html": [
       "<html><script type=\"math/tex; mode=display\">\\newcommand{\\Bold}[1]{\\mathbf{#1}}\\frac{{\\left(m + t\\right)}^{3}}{6 \\, m^{3} t^{3}}</script></html>"
      ],
      "text/latex": [
       "$$\\newcommand{\\Bold}[1]{\\mathbf{#1}}\\frac{{\\left(m + t\\right)}^{3}}{6 \\, m^{3} t^{3}}$$"
      ],
      "text/plain": [
       "1/6*(m + t)^3/(m^3*t^3)"
      ]
     },
     "execution_count": 61,
     "metadata": {},
     "output_type": "execute_result"
    }
   ],
   "source": [
    "pretty(Chern_Num_quot_2(3,3))"
   ]
  },
  {
   "cell_type": "code",
   "execution_count": 393,
   "metadata": {},
   "outputs": [
    {
     "data": {
      "text/html": [
       "<html><script type=\"math/tex; mode=display\">\\newcommand{\\Bold}[1]{\\mathbf{#1}}0</script></html>"
      ],
      "text/latex": [
       "$$\\newcommand{\\Bold}[1]{\\mathbf{#1}}0$$"
      ],
      "text/plain": [
       "0"
      ]
     },
     "execution_count": 393,
     "metadata": {},
     "output_type": "execute_result"
    }
   ],
   "source": [
    "pretty(Chern_Num_quot(1,4))"
   ]
  },
  {
   "cell_type": "code",
   "execution_count": 397,
   "metadata": {},
   "outputs": [
    {
     "data": {
      "text/html": [
       "<html><script type=\"math/tex; mode=display\">\\newcommand{\\Bold}[1]{\\mathbf{#1}}0</script></html>"
      ],
      "text/latex": [
       "$$\\newcommand{\\Bold}[1]{\\mathbf{#1}}0$$"
      ],
      "text/plain": [
       "0"
      ]
     },
     "execution_count": 397,
     "metadata": {},
     "output_type": "execute_result"
    }
   ],
   "source": [
    "pretty(Chern_Num_quot(1,5))"
   ]
  },
  {
   "cell_type": "code",
   "execution_count": null,
   "metadata": {},
   "outputs": [],
   "source": [
    "with open(\"segre2d-out2.txt\") as f:\n",
    "    lines = f.read().splitlines()\n",
    "A=lines[1]\n",
    "span = 2\n",
    "words1 = A.split(\" \")\n",
    "B= [\" \".join(words1[i:i+span]) for i in range(1, len(words1), span)]\n",
    "AA={-1*SR(term)/9216 for term in B}"
   ]
  },
  {
   "cell_type": "code",
   "execution_count": null,
   "metadata": {},
   "outputs": [],
   "source": [
    "with open(\"segre2d-out1.txt\") as f:\n",
    "    lines = f.read().splitlines()\n",
    "C=lines[1]\n",
    "span = 2\n",
    "words2 = C.split(\" \")\n",
    "D= [\" \".join(words2[i:i+span]) for i in range(1, len(words2), span)]\n",
    "BB={SR(term) for term in D}"
   ]
  }
 ],
 "metadata": {
  "kernelspec": {
   "display_name": "SageMath 9.3",
   "language": "sage",
   "name": "sagemath"
  },
  "language_info": {
   "codemirror_mode": {
    "name": "ipython",
    "version": 3
   },
   "file_extension": ".py",
   "mimetype": "text/x-python",
   "name": "python",
   "nbconvert_exporter": "python",
   "pygments_lexer": "ipython3",
   "version": "3.7.10"
  }
 },
 "nbformat": 4,
 "nbformat_minor": 4
}
