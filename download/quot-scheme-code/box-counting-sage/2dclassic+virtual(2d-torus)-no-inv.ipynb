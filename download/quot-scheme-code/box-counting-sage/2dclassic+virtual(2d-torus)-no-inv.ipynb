{
 "cells": [
  {
   "cell_type": "code",
   "execution_count": 52,
   "metadata": {},
   "outputs": [],
   "source": [
    "reset()\n",
    "%display latex\n",
    "Partitions.options.latex=\"list\"\n",
    "load(\"vertex_2d_no_inv.sage\")\n",
    "\n",
    "def deg0(f):\n",
    "    return pretty(degn(f(t=b*t,m=b*m,w=b*w,v=b*v),0))"
   ]
  },
  {
   "cell_type": "markdown",
   "metadata": {},
   "source": [
    "We compute \n",
    "$$\\int_{S^{[n]}}c_{2n}(\\alpha)=\\int_{S^{[n]}}c_n(V^{[n]})c_n(W^{[n]})$$\n",
    "for $\\alpha=[V\\oplus W]$ for line bundles $V,W$. Here $k=\\text{rank}(\\alpha)=2$. This is related to Verlinde number\n",
    "$$\\chi(S^{[n]},\\det(\\alpha^{[n]}))=\\chi(S^{[n]},\\det(V^{[n]}))$$\n",
    "\n",
    "Applying theorem and get\n",
    "$$\\sum (-q)^n\\int_{S^{[n]}}c_n(V^{[n]})c_n(W^{[n]})=(1-q)^{c_2(\\alpha)}$$\n",
    "Equivariantly \n",
    "$$\\int_{\\mathbb{C}^2} c_2(\\alpha)=\\frac{vw}{tm} $$\n",
    "where $t,m$ are weights for $x,y$.\n",
    "So the coefficient of $q^n$ is \n",
    "$${\\frac{vw}{tm}\\choose n} $$"
   ]
  },
  {
   "cell_type": "code",
   "execution_count": 55,
   "metadata": {},
   "outputs": [
    {
     "data": {
      "text/html": [
       "<html><script type=\"math/tex; mode=display\">\\newcommand{\\Bold}[1]{\\mathbf{#1}}\\frac{v w}{m t}</script></html>"
      ],
      "text/latex": [
       "$$\\newcommand{\\Bold}[1]{\\mathbf{#1}}\\frac{v w}{m t}$$"
      ],
      "text/plain": [
       "v*w/(m*t)"
      ]
     },
     "execution_count": 55,
     "metadata": {},
     "output_type": "execute_result"
    }
   ],
   "source": [
    "A=deg0(Chern_Num_rank_2(1))\n",
    "deg0(Chern_Num_rank_2(1))"
   ]
  },
  {
   "cell_type": "code",
   "execution_count": 39,
   "metadata": {},
   "outputs": [
    {
     "data": {
      "text/html": [
       "<html><script type=\"math/tex; mode=display\">\\newcommand{\\Bold}[1]{\\mathbf{#1}}-\\frac{{\\left(m t - v w\\right)} v w}{2 \\, m^{2} t^{2}}</script></html>"
      ],
      "text/latex": [
       "$$\\newcommand{\\Bold}[1]{\\mathbf{#1}}-\\frac{{\\left(m t - v w\\right)} v w}{2 \\, m^{2} t^{2}}$$"
      ],
      "text/plain": [
       "-1/2*(m*t - v*w)*v*w/(m^2*t^2)"
      ]
     },
     "execution_count": 39,
     "metadata": {},
     "output_type": "execute_result"
    }
   ],
   "source": [
    "deg0(Chern_Num_rank_2(2))"
   ]
  },
  {
   "cell_type": "code",
   "execution_count": 56,
   "metadata": {},
   "outputs": [
    {
     "data": {
      "text/html": [
       "<html><script type=\"math/tex; mode=display\">\\newcommand{\\Bold}[1]{\\mathbf{#1}}\\frac{{\\left(2 \\, m t - v w\\right)} {\\left(m t - v w\\right)} v w}{6 \\, m^{3} t^{3}}</script></html>"
      ],
      "text/latex": [
       "$$\\newcommand{\\Bold}[1]{\\mathbf{#1}}\\frac{{\\left(2 \\, m t - v w\\right)} {\\left(m t - v w\\right)} v w}{6 \\, m^{3} t^{3}}$$"
      ],
      "text/plain": [
       "1/6*(2*m*t - v*w)*(m*t - v*w)*v*w/(m^3*t^3)"
      ]
     },
     "execution_count": 56,
     "metadata": {},
     "output_type": "execute_result"
    }
   ],
   "source": [
    "pretty(A*(A-1)*(A-2)/6)"
   ]
  },
  {
   "cell_type": "code",
   "execution_count": 46,
   "metadata": {},
   "outputs": [
    {
     "data": {
      "text/html": [
       "<html><script type=\"math/tex; mode=display\">\\newcommand{\\Bold}[1]{\\mathbf{#1}}\\frac{{\\left(4 \\, m^{4} t^{2} - 4 \\, m^{3} t^{3} + 4 \\, m^{2} t^{4} + 6 \\, m^{3} t^{2} v + 6 \\, m^{2} t^{3} v + 6 \\, m^{2} t^{2} v^{2} + 6 \\, m^{3} t^{2} w + 6 \\, m^{2} t^{3} w + 27 \\, m^{2} t^{2} v w + 6 \\, m^{2} t v^{2} w + 6 \\, m t^{2} v^{2} w + 6 \\, m^{2} t^{2} w^{2} + 6 \\, m^{2} t v w^{2} + 6 \\, m t^{2} v w^{2} + 2 \\, m^{2} v^{2} w^{2} + m t v^{2} w^{2} + 2 \\, t^{2} v^{2} w^{2}\\right)} v w}{6 \\, {\\left(2 \\, m - t\\right)} {\\left(m - 2 \\, t\\right)} m^{3} t^{3}}</script></html>"
      ],
      "text/latex": [
       "$$\\newcommand{\\Bold}[1]{\\mathbf{#1}}\\frac{{\\left(4 \\, m^{4} t^{2} - 4 \\, m^{3} t^{3} + 4 \\, m^{2} t^{4} + 6 \\, m^{3} t^{2} v + 6 \\, m^{2} t^{3} v + 6 \\, m^{2} t^{2} v^{2} + 6 \\, m^{3} t^{2} w + 6 \\, m^{2} t^{3} w + 27 \\, m^{2} t^{2} v w + 6 \\, m^{2} t v^{2} w + 6 \\, m t^{2} v^{2} w + 6 \\, m^{2} t^{2} w^{2} + 6 \\, m^{2} t v w^{2} + 6 \\, m t^{2} v w^{2} + 2 \\, m^{2} v^{2} w^{2} + m t v^{2} w^{2} + 2 \\, t^{2} v^{2} w^{2}\\right)} v w}{6 \\, {\\left(2 \\, m - t\\right)} {\\left(m - 2 \\, t\\right)} m^{3} t^{3}}$$"
      ],
      "text/plain": [
       "1/6*(4*m^4*t^2 - 4*m^3*t^3 + 4*m^2*t^4 + 6*m^3*t^2*v + 6*m^2*t^3*v + 6*m^2*t^2*v^2 + 6*m^3*t^2*w + 6*m^2*t^3*w + 27*m^2*t^2*v*w + 6*m^2*t*v^2*w + 6*m*t^2*v^2*w + 6*m^2*t^2*w^2 + 6*m^2*t*v*w^2 + 6*m*t^2*v*w^2 + 2*m^2*v^2*w^2 + m*t*v^2*w^2 + 2*t^2*v^2*w^2)*v*w/((2*m - t)*(m - 2*t)*m^3*t^3)"
      ]
     },
     "execution_count": 46,
     "metadata": {},
     "output_type": "execute_result"
    }
   ],
   "source": [
    "deg0(Chern_Num_rank_2(3))"
   ]
  },
  {
   "cell_type": "code",
   "execution_count": 45,
   "metadata": {},
   "outputs": [
    {
     "data": {
      "text/html": [
       "<html><script type=\"math/tex; mode=display\">\\newcommand{\\Bold}[1]{\\mathbf{#1}}\\frac{{\\left(m + v\\right)} {\\left(m + w\\right)} {\\left(t + v\\right)} {\\left(t + w\\right)} v w}{{\\left(2 \\, m - t\\right)} {\\left(m - 2 \\, t\\right)} m^{2} t^{2}}</script></html>"
      ],
      "text/latex": [
       "$$\\newcommand{\\Bold}[1]{\\mathbf{#1}}\\frac{{\\left(m + v\\right)} {\\left(m + w\\right)} {\\left(t + v\\right)} {\\left(t + w\\right)} v w}{{\\left(2 \\, m - t\\right)} {\\left(m - 2 \\, t\\right)} m^{2} t^{2}}$$"
      ],
      "text/plain": [
       "(m + v)*(m + w)*(t + v)*(t + w)*v*w/((2*m - t)*(m - 2*t)*m^2*t^2)"
      ]
     },
     "execution_count": 45,
     "metadata": {},
     "output_type": "execute_result"
    }
   ],
   "source": [
    "pretty(deg0(Chern_Num_rank_2(3))-pretty(A*(A-1)*(A-2)/6))"
   ]
  },
  {
   "cell_type": "markdown",
   "metadata": {},
   "source": [
    "Does not agree at $n=3$, again difference has $tm$ in numerator."
   ]
  },
  {
   "cell_type": "code",
   "execution_count": 50,
   "metadata": {
    "scrolled": true
   },
   "outputs": [
    {
     "data": {
      "text/html": [
       "<html><script type=\"math/tex; mode=display\">\\newcommand{\\Bold}[1]{\\mathbf{#1}}-\\frac{{\\left(4 \\, m^{3} t - 24 \\, m^{2} t^{2} + 4 \\, m t^{3} - 4 \\, m^{2} t v - 4 \\, m t^{2} v - 4 \\, m^{2} t w - 4 \\, m t^{2} w - 3 \\, m^{2} v w + 2 \\, m t v w - 3 \\, t^{2} v w\\right)} {\\left(m + v\\right)} {\\left(m + w\\right)} {\\left(t + v\\right)} {\\left(t + w\\right)} v w}{4 \\, {\\left(3 \\, m - t\\right)} {\\left(m - t\\right)}^{2} {\\left(m - 3 \\, t\\right)} m^{3} t^{3}}</script></html>"
      ],
      "text/latex": [
       "$$\\newcommand{\\Bold}[1]{\\mathbf{#1}}-\\frac{{\\left(4 \\, m^{3} t - 24 \\, m^{2} t^{2} + 4 \\, m t^{3} - 4 \\, m^{2} t v - 4 \\, m t^{2} v - 4 \\, m^{2} t w - 4 \\, m t^{2} w - 3 \\, m^{2} v w + 2 \\, m t v w - 3 \\, t^{2} v w\\right)} {\\left(m + v\\right)} {\\left(m + w\\right)} {\\left(t + v\\right)} {\\left(t + w\\right)} v w}{4 \\, {\\left(3 \\, m - t\\right)} {\\left(m - t\\right)}^{2} {\\left(m - 3 \\, t\\right)} m^{3} t^{3}}$$"
      ],
      "text/plain": [
       "-1/4*(4*m^3*t - 24*m^2*t^2 + 4*m*t^3 - 4*m^2*t*v - 4*m*t^2*v - 4*m^2*t*w - 4*m*t^2*w - 3*m^2*v*w + 2*m*t*v*w - 3*t^2*v*w)*(m + v)*(m + w)*(t + v)*(t + w)*v*w/((3*m - t)*(m - t)^2*(m - 3*t)*m^3*t^3)"
      ]
     },
     "execution_count": 50,
     "metadata": {},
     "output_type": "execute_result"
    }
   ],
   "source": [
    "pretty(deg0(Chern_Num_rank_2(4))-pretty(A*(A-1)*(A-2)*(A-3)/24))"
   ]
  },
  {
   "cell_type": "code",
   "execution_count": 57,
   "metadata": {},
   "outputs": [
    {
     "data": {
      "text/html": [
       "<html><script type=\"math/tex; mode=display\">\\newcommand{\\Bold}[1]{\\mathbf{#1}}\\frac{{\\left(120 \\, m^{6} t^{2} - 1044 \\, m^{5} t^{3} + 2856 \\, m^{4} t^{4} - 1044 \\, m^{3} t^{5} + 120 \\, m^{2} t^{6} - 36 \\, m^{5} t^{2} v + 348 \\, m^{4} t^{3} v + 348 \\, m^{3} t^{4} v - 36 \\, m^{2} t^{5} v + 60 \\, m^{4} t^{2} v^{2} - 24 \\, m^{3} t^{3} v^{2} + 60 \\, m^{2} t^{4} v^{2} - 36 \\, m^{5} t^{2} w + 348 \\, m^{4} t^{3} w + 348 \\, m^{3} t^{4} w - 36 \\, m^{2} t^{5} w - 84 \\, m^{5} t v w + 823 \\, m^{4} t^{2} v w - 1186 \\, m^{3} t^{3} v w + 823 \\, m^{2} t^{4} v w - 84 \\, m t^{5} v w + 60 \\, m^{4} t v^{2} w - 41 \\, m^{3} t^{2} v^{2} w - 41 \\, m^{2} t^{3} v^{2} w + 60 \\, m t^{4} v^{2} w + 60 \\, m^{4} t^{2} w^{2} - 24 \\, m^{3} t^{3} w^{2} + 60 \\, m^{2} t^{4} w^{2} + 60 \\, m^{4} t v w^{2} - 41 \\, m^{3} t^{2} v w^{2} - 41 \\, m^{2} t^{3} v w^{2} + 60 \\, m t^{4} v w^{2} + 24 \\, m^{4} v^{2} w^{2} - 86 \\, m^{3} t v^{2} w^{2} + 134 \\, m^{2} t^{2} v^{2} w^{2} - 86 \\, m t^{3} v^{2} w^{2} + 24 \\, t^{4} v^{2} w^{2}\\right)} {\\left(m + v\\right)} {\\left(m + w\\right)} {\\left(t + v\\right)} {\\left(t + w\\right)} v w}{12 \\, {\\left(4 \\, m - t\\right)} {\\left(3 \\, m - t\\right)} {\\left(2 \\, m - t\\right)} {\\left(m - 2 \\, t\\right)} {\\left(m - 3 \\, t\\right)} {\\left(m - 4 \\, t\\right)} m^{4} t^{4}}</script></html>"
      ],
      "text/latex": [
       "$$\\newcommand{\\Bold}[1]{\\mathbf{#1}}\\frac{{\\left(120 \\, m^{6} t^{2} - 1044 \\, m^{5} t^{3} + 2856 \\, m^{4} t^{4} - 1044 \\, m^{3} t^{5} + 120 \\, m^{2} t^{6} - 36 \\, m^{5} t^{2} v + 348 \\, m^{4} t^{3} v + 348 \\, m^{3} t^{4} v - 36 \\, m^{2} t^{5} v + 60 \\, m^{4} t^{2} v^{2} - 24 \\, m^{3} t^{3} v^{2} + 60 \\, m^{2} t^{4} v^{2} - 36 \\, m^{5} t^{2} w + 348 \\, m^{4} t^{3} w + 348 \\, m^{3} t^{4} w - 36 \\, m^{2} t^{5} w - 84 \\, m^{5} t v w + 823 \\, m^{4} t^{2} v w - 1186 \\, m^{3} t^{3} v w + 823 \\, m^{2} t^{4} v w - 84 \\, m t^{5} v w + 60 \\, m^{4} t v^{2} w - 41 \\, m^{3} t^{2} v^{2} w - 41 \\, m^{2} t^{3} v^{2} w + 60 \\, m t^{4} v^{2} w + 60 \\, m^{4} t^{2} w^{2} - 24 \\, m^{3} t^{3} w^{2} + 60 \\, m^{2} t^{4} w^{2} + 60 \\, m^{4} t v w^{2} - 41 \\, m^{3} t^{2} v w^{2} - 41 \\, m^{2} t^{3} v w^{2} + 60 \\, m t^{4} v w^{2} + 24 \\, m^{4} v^{2} w^{2} - 86 \\, m^{3} t v^{2} w^{2} + 134 \\, m^{2} t^{2} v^{2} w^{2} - 86 \\, m t^{3} v^{2} w^{2} + 24 \\, t^{4} v^{2} w^{2}\\right)} {\\left(m + v\\right)} {\\left(m + w\\right)} {\\left(t + v\\right)} {\\left(t + w\\right)} v w}{12 \\, {\\left(4 \\, m - t\\right)} {\\left(3 \\, m - t\\right)} {\\left(2 \\, m - t\\right)} {\\left(m - 2 \\, t\\right)} {\\left(m - 3 \\, t\\right)} {\\left(m - 4 \\, t\\right)} m^{4} t^{4}}$$"
      ],
      "text/plain": [
       "1/12*(120*m^6*t^2 - 1044*m^5*t^3 + 2856*m^4*t^4 - 1044*m^3*t^5 + 120*m^2*t^6 - 36*m^5*t^2*v + 348*m^4*t^3*v + 348*m^3*t^4*v - 36*m^2*t^5*v + 60*m^4*t^2*v^2 - 24*m^3*t^3*v^2 + 60*m^2*t^4*v^2 - 36*m^5*t^2*w + 348*m^4*t^3*w + 348*m^3*t^4*w - 36*m^2*t^5*w - 84*m^5*t*v*w + 823*m^4*t^2*v*w - 1186*m^3*t^3*v*w + 823*m^2*t^4*v*w - 84*m*t^5*v*w + 60*m^4*t*v^2*w - 41*m^3*t^2*v^2*w - 41*m^2*t^3*v^2*w + 60*m*t^4*v^2*w + 60*m^4*t^2*w^2 - 24*m^3*t^3*w^2 + 60*m^2*t^4*w^2 + 60*m^4*t*v*w^2 - 41*m^3*t^2*v*w^2 - 41*m^2*t^3*v*w^2 + 60*m*t^4*v*w^2 + 24*m^4*v^2*w^2 - 86*m^3*t*v^2*w^2 + 134*m^2*t^2*v^2*w^2 - 86*m*t^3*v^2*w^2 + 24*t^4*v^2*w^2)*(m + v)*(m + w)*(t + v)*(t + w)*v*w/((4*m - t)*(3*m - t)*(2*m - t)*(m - 2*t)*(m - 3*t)*(m - 4*t)*m^4*t^4)"
      ]
     },
     "execution_count": 57,
     "metadata": {},
     "output_type": "execute_result"
    }
   ],
   "source": [
    "pretty(deg0(Chern_Num_rank_2(5))-(A*(A-1)*(A-2)*(A-3)*(A-4)/120))"
   ]
  },
  {
   "cell_type": "code",
   "execution_count": 60,
   "metadata": {},
   "outputs": [],
   "source": [
    "chi=Verlinde_Num(1)"
   ]
  },
  {
   "cell_type": "code",
   "execution_count": 58,
   "metadata": {},
   "outputs": [
    {
     "data": {
      "text/html": [
       "<html><script type=\"math/tex; mode=display\">\\newcommand{\\Bold}[1]{\\mathbf{#1}}\\frac{m^{2} + 3 \\, m t + t^{2} - 6 \\, m w - 6 \\, t w + 6 \\, w^{2}}{12 \\, m t}</script></html>"
      ],
      "text/latex": [
       "$$\\newcommand{\\Bold}[1]{\\mathbf{#1}}\\frac{m^{2} + 3 \\, m t + t^{2} - 6 \\, m w - 6 \\, t w + 6 \\, w^{2}}{12 \\, m t}$$"
      ],
      "text/plain": [
       "1/12*(m^2 + 3*m*t + t^2 - 6*m*w - 6*t*w + 6*w^2)/(m*t)"
      ]
     },
     "execution_count": 58,
     "metadata": {},
     "output_type": "execute_result"
    }
   ],
   "source": [
    "deg0(Verlinde_Num(1)(x=exp(t),y=exp(m)))"
   ]
  },
  {
   "cell_type": "code",
   "execution_count": 61,
   "metadata": {},
   "outputs": [
    {
     "data": {
      "text/html": [
       "<html><script type=\"math/tex; mode=display\">\\newcommand{\\Bold}[1]{\\mathbf{#1}}\\frac{m^{2} + 3 \\, m t + t^{2} - 6 \\, m w - 6 \\, t w + 6 \\, w^{2}}{12 \\, m t}</script></html>"
      ],
      "text/latex": [
       "$$\\newcommand{\\Bold}[1]{\\mathbf{#1}}\\frac{m^{2} + 3 \\, m t + t^{2} - 6 \\, m w - 6 \\, t w + 6 \\, w^{2}}{12 \\, m t}$$"
      ],
      "text/plain": [
       "1/12*(m^2 + 3*m*t + t^2 - 6*m*w - 6*t*w + 6*w^2)/(m*t)"
      ]
     },
     "execution_count": 61,
     "metadata": {},
     "output_type": "execute_result"
    }
   ],
   "source": [
    "deg0(chi(x=exp(t),y=exp(m)))"
   ]
  },
  {
   "cell_type": "code",
   "execution_count": 59,
   "metadata": {},
   "outputs": [
    {
     "data": {
      "text/html": [
       "<html><script type=\"math/tex; mode=display\">\\newcommand{\\Bold}[1]{\\mathbf{#1}}\\frac{3 \\, m^{4} - 55 \\, m^{2} t^{2} + 3 \\, t^{4} - 120 \\, m^{3} w - 240 \\, m^{2} t w - 240 \\, m t^{2} w - 120 \\, t^{3} w + 600 \\, m^{2} w^{2} + 1080 \\, m t w^{2} + 600 \\, t^{2} w^{2} - 960 \\, m w^{3} - 960 \\, t w^{3} + 480 \\, w^{4}}{1440 \\, m^{2} t^{2}}</script></html>"
      ],
      "text/latex": [
       "$$\\newcommand{\\Bold}[1]{\\mathbf{#1}}\\frac{3 \\, m^{4} - 55 \\, m^{2} t^{2} + 3 \\, t^{4} - 120 \\, m^{3} w - 240 \\, m^{2} t w - 240 \\, m t^{2} w - 120 \\, t^{3} w + 600 \\, m^{2} w^{2} + 1080 \\, m t w^{2} + 600 \\, t^{2} w^{2} - 960 \\, m w^{3} - 960 \\, t w^{3} + 480 \\, w^{4}}{1440 \\, m^{2} t^{2}}$$"
      ],
      "text/plain": [
       "1/1440*(3*m^4 - 55*m^2*t^2 + 3*t^4 - 120*m^3*w - 240*m^2*t*w - 240*m*t^2*w - 120*t^3*w + 600*m^2*w^2 + 1080*m*t*w^2 + 600*t^2*w^2 - 960*m*w^3 - 960*t*w^3 + 480*w^4)/(m^2*t^2)"
      ]
     },
     "execution_count": 59,
     "metadata": {},
     "output_type": "execute_result"
    }
   ],
   "source": [
    "deg0(Verlinde_Num(2)(x=exp(t),y=exp(m)))"
   ]
  },
  {
   "cell_type": "code",
   "execution_count": 62,
   "metadata": {
    "scrolled": true
   },
   "outputs": [
    {
     "data": {
      "text/html": [
       "<html><script type=\"math/tex; mode=display\">\\newcommand{\\Bold}[1]{\\mathbf{#1}}\\frac{3 \\, m^{4} - 55 \\, m^{2} t^{2} + 3 \\, t^{4} - 120 \\, m^{3} w - 240 \\, m^{2} t w - 240 \\, m t^{2} w - 120 \\, t^{3} w + 600 \\, m^{2} w^{2} + 1080 \\, m t w^{2} + 600 \\, t^{2} w^{2} - 960 \\, m w^{3} - 960 \\, t w^{3} + 480 \\, w^{4}}{1440 \\, m^{2} t^{2}}</script></html>"
      ],
      "text/latex": [
       "$$\\newcommand{\\Bold}[1]{\\mathbf{#1}}\\frac{3 \\, m^{4} - 55 \\, m^{2} t^{2} + 3 \\, t^{4} - 120 \\, m^{3} w - 240 \\, m^{2} t w - 240 \\, m t^{2} w - 120 \\, t^{3} w + 600 \\, m^{2} w^{2} + 1080 \\, m t w^{2} + 600 \\, t^{2} w^{2} - 960 \\, m w^{3} - 960 \\, t w^{3} + 480 \\, w^{4}}{1440 \\, m^{2} t^{2}}$$"
      ],
      "text/plain": [
       "1/1440*(3*m^4 - 55*m^2*t^2 + 3*t^4 - 120*m^3*w - 240*m^2*t*w - 240*m*t^2*w - 120*t^3*w + 600*m^2*w^2 + 1080*m*t*w^2 + 600*t^2*w^2 - 960*m*w^3 - 960*t*w^3 + 480*w^4)/(m^2*t^2)"
      ]
     },
     "execution_count": 62,
     "metadata": {},
     "output_type": "execute_result"
    }
   ],
   "source": [
    "deg0(((chi)*(chi-1)/2)(x=exp(t),y=exp(m)))"
   ]
  },
  {
   "cell_type": "markdown",
   "metadata": {},
   "source": [
    "They do not match as K-theory invariants, but do match when we convert to cohomological and restrict to degree 0 (i.e. equivariant pushforward to a point)."
   ]
  },
  {
   "cell_type": "code",
   "execution_count": 63,
   "metadata": {},
   "outputs": [
    {
     "data": {
      "text/html": [
       "<html><script type=\"math/tex; mode=display\">\\newcommand{\\Bold}[1]{\\mathbf{#1}}-\\frac{64 \\, m^{6} + 189 \\, m^{5} t + 252 \\, m^{4} t^{2} - 7245 \\, m^{3} t^{3} + 252 \\, m^{2} t^{4} + 189 \\, m t^{5} + 64 \\, t^{6} + 1134 \\, m^{5} w - 8694 \\, m^{4} t w - 22680 \\, m^{3} t^{2} w - 22680 \\, m^{2} t^{3} w - 8694 \\, m t^{4} w + 1134 \\, t^{5} w - 21546 \\, m^{4} w^{2} - 1890 \\, m^{3} t w^{2} + 30240 \\, m^{2} t^{2} w^{2} - 1890 \\, m t^{3} w^{2} - 21546 \\, t^{4} w^{2} + 102060 \\, m^{3} w^{3} + 166320 \\, m^{2} t w^{3} + 166320 \\, m t^{2} w^{3} + 102060 \\, t^{3} w^{3} - 204120 \\, m^{2} w^{4} - 338310 \\, m t w^{4} - 204120 \\, t^{2} w^{4} + 183708 \\, m w^{5} + 183708 \\, t w^{5} - 61236 \\, w^{6}}{362880 \\, m^{3} t^{3}}</script></html>"
      ],
      "text/latex": [
       "$$\\newcommand{\\Bold}[1]{\\mathbf{#1}}-\\frac{64 \\, m^{6} + 189 \\, m^{5} t + 252 \\, m^{4} t^{2} - 7245 \\, m^{3} t^{3} + 252 \\, m^{2} t^{4} + 189 \\, m t^{5} + 64 \\, t^{6} + 1134 \\, m^{5} w - 8694 \\, m^{4} t w - 22680 \\, m^{3} t^{2} w - 22680 \\, m^{2} t^{3} w - 8694 \\, m t^{4} w + 1134 \\, t^{5} w - 21546 \\, m^{4} w^{2} - 1890 \\, m^{3} t w^{2} + 30240 \\, m^{2} t^{2} w^{2} - 1890 \\, m t^{3} w^{2} - 21546 \\, t^{4} w^{2} + 102060 \\, m^{3} w^{3} + 166320 \\, m^{2} t w^{3} + 166320 \\, m t^{2} w^{3} + 102060 \\, t^{3} w^{3} - 204120 \\, m^{2} w^{4} - 338310 \\, m t w^{4} - 204120 \\, t^{2} w^{4} + 183708 \\, m w^{5} + 183708 \\, t w^{5} - 61236 \\, w^{6}}{362880 \\, m^{3} t^{3}}$$"
      ],
      "text/plain": [
       "-1/362880*(64*m^6 + 189*m^5*t + 252*m^4*t^2 - 7245*m^3*t^3 + 252*m^2*t^4 + 189*m*t^5 + 64*t^6 + 1134*m^5*w - 8694*m^4*t*w - 22680*m^3*t^2*w - 22680*m^2*t^3*w - 8694*m*t^4*w + 1134*t^5*w - 21546*m^4*w^2 - 1890*m^3*t*w^2 + 30240*m^2*t^2*w^2 - 1890*m*t^3*w^2 - 21546*t^4*w^2 + 102060*m^3*w^3 + 166320*m^2*t*w^3 + 166320*m*t^2*w^3 + 102060*t^3*w^3 - 204120*m^2*w^4 - 338310*m*t*w^4 - 204120*t^2*w^4 + 183708*m*w^5 + 183708*t*w^5 - 61236*w^6)/(m^3*t^3)"
      ]
     },
     "execution_count": 63,
     "metadata": {},
     "output_type": "execute_result"
    }
   ],
   "source": [
    "deg0((chi*(chi-1)*(chi-2)/6)(x=exp(t),y=exp(m)))"
   ]
  },
  {
   "cell_type": "code",
   "execution_count": 64,
   "metadata": {
    "scrolled": true
   },
   "outputs": [
    {
     "data": {
      "text/html": [
       "<html><script type=\"math/tex; mode=display\">\\newcommand{\\Bold}[1]{\\mathbf{#1}}\\frac{3035 \\, m^{8} - 4640 \\, m^{7} t - 17224 \\, m^{6} t^{2} + 47550 \\, m^{5} t^{3} - 18219 \\, m^{4} t^{4} + 47550 \\, m^{3} t^{5} - 17224 \\, m^{2} t^{6} - 4640 \\, m t^{7} + 3035 \\, t^{8} - 33840 \\, m^{7} w + 302580 \\, m^{6} t w + 559980 \\, m^{5} t^{2} w - 1528020 \\, m^{4} t^{3} w - 1528020 \\, m^{3} t^{4} w + 559980 \\, m^{2} t^{5} w + 302580 \\, m t^{6} w - 33840 \\, t^{7} w + 269460 \\, m^{6} w^{2} - 1398060 \\, m^{5} t w^{2} - 1345140 \\, m^{4} t^{2} w^{2} + 6035580 \\, m^{3} t^{3} w^{2} - 1345140 \\, m^{2} t^{4} w^{2} - 1398060 \\, m t^{5} w^{2} + 269460 \\, t^{6} w^{2} - 1791720 \\, m^{5} w^{3} + 2948400 \\, m^{4} t w^{3} + 1065960 \\, m^{3} t^{2} w^{3} + 1065960 \\, m^{2} t^{3} w^{3} + 2948400 \\, m t^{4} w^{3} - 1791720 \\, t^{5} w^{3} + 4847850 \\, m^{4} w^{4} - 4592700 \\, m^{3} t w^{4} - 5307120 \\, m^{2} t^{2} w^{4} - 4592700 \\, m t^{3} w^{4} + 4847850 \\, t^{4} w^{4} - 4898880 \\, m^{3} w^{5} + 5511240 \\, m^{2} t w^{5} + 5511240 \\, m t^{2} w^{5} - 4898880 \\, t^{3} w^{5} + 612360 \\, m^{2} w^{6} - 4286520 \\, m t w^{6} + 612360 \\, t^{2} w^{6} + 1574640 \\, m w^{7} + 1574640 \\, t w^{7} - 590490 \\, w^{8}}{3628800 \\, {\\left(2 \\, m - t\\right)} {\\left(m - 2 \\, t\\right)} m^{3} t^{3}}</script></html>"
      ],
      "text/latex": [
       "$$\\newcommand{\\Bold}[1]{\\mathbf{#1}}\\frac{3035 \\, m^{8} - 4640 \\, m^{7} t - 17224 \\, m^{6} t^{2} + 47550 \\, m^{5} t^{3} - 18219 \\, m^{4} t^{4} + 47550 \\, m^{3} t^{5} - 17224 \\, m^{2} t^{6} - 4640 \\, m t^{7} + 3035 \\, t^{8} - 33840 \\, m^{7} w + 302580 \\, m^{6} t w + 559980 \\, m^{5} t^{2} w - 1528020 \\, m^{4} t^{3} w - 1528020 \\, m^{3} t^{4} w + 559980 \\, m^{2} t^{5} w + 302580 \\, m t^{6} w - 33840 \\, t^{7} w + 269460 \\, m^{6} w^{2} - 1398060 \\, m^{5} t w^{2} - 1345140 \\, m^{4} t^{2} w^{2} + 6035580 \\, m^{3} t^{3} w^{2} - 1345140 \\, m^{2} t^{4} w^{2} - 1398060 \\, m t^{5} w^{2} + 269460 \\, t^{6} w^{2} - 1791720 \\, m^{5} w^{3} + 2948400 \\, m^{4} t w^{3} + 1065960 \\, m^{3} t^{2} w^{3} + 1065960 \\, m^{2} t^{3} w^{3} + 2948400 \\, m t^{4} w^{3} - 1791720 \\, t^{5} w^{3} + 4847850 \\, m^{4} w^{4} - 4592700 \\, m^{3} t w^{4} - 5307120 \\, m^{2} t^{2} w^{4} - 4592700 \\, m t^{3} w^{4} + 4847850 \\, t^{4} w^{4} - 4898880 \\, m^{3} w^{5} + 5511240 \\, m^{2} t w^{5} + 5511240 \\, m t^{2} w^{5} - 4898880 \\, t^{3} w^{5} + 612360 \\, m^{2} w^{6} - 4286520 \\, m t w^{6} + 612360 \\, t^{2} w^{6} + 1574640 \\, m w^{7} + 1574640 \\, t w^{7} - 590490 \\, w^{8}}{3628800 \\, {\\left(2 \\, m - t\\right)} {\\left(m - 2 \\, t\\right)} m^{3} t^{3}}$$"
      ],
      "text/plain": [
       "1/3628800*(3035*m^8 - 4640*m^7*t - 17224*m^6*t^2 + 47550*m^5*t^3 - 18219*m^4*t^4 + 47550*m^3*t^5 - 17224*m^2*t^6 - 4640*m*t^7 + 3035*t^8 - 33840*m^7*w + 302580*m^6*t*w + 559980*m^5*t^2*w - 1528020*m^4*t^3*w - 1528020*m^3*t^4*w + 559980*m^2*t^5*w + 302580*m*t^6*w - 33840*t^7*w + 269460*m^6*w^2 - 1398060*m^5*t*w^2 - 1345140*m^4*t^2*w^2 + 6035580*m^3*t^3*w^2 - 1345140*m^2*t^4*w^2 - 1398060*m*t^5*w^2 + 269460*t^6*w^2 - 1791720*m^5*w^3 + 2948400*m^4*t*w^3 + 1065960*m^3*t^2*w^3 + 1065960*m^2*t^3*w^3 + 2948400*m*t^4*w^3 - 1791720*t^5*w^3 + 4847850*m^4*w^4 - 4592700*m^3*t*w^4 - 5307120*m^2*t^2*w^4 - 4592700*m*t^3*w^4 + 4847850*t^4*w^4 - 4898880*m^3*w^5 + 5511240*m^2*t*w^5 + 5511240*m*t^2*w^5 - 4898880*t^3*w^5 + 612360*m^2*w^6 - 4286520*m*t*w^6 + 612360*t^2*w^6 + 1574640*m*w^7 + 1574640*t*w^7 - 590490*w^8)/((2*m - t)*(m - 2*t)*m^3*t^3)"
      ]
     },
     "execution_count": 64,
     "metadata": {},
     "output_type": "execute_result"
    }
   ],
   "source": [
    "deg0(Verlinde_Num(3)(x=exp(t),y=exp(m)))"
   ]
  },
  {
   "cell_type": "markdown",
   "metadata": {},
   "source": [
    "No match in $n=3$."
   ]
  },
  {
   "cell_type": "code",
   "execution_count": 66,
   "metadata": {},
   "outputs": [
    {
     "data": {
      "text/html": [
       "<html><script type=\"math/tex; mode=display\">\\newcommand{\\Bold}[1]{\\mathbf{#1}}\\frac{4315 \\, m^{8} - 4060 \\, m^{7} t - 20354 \\, m^{6} t^{2} - 106170 \\, m^{5} t^{3} + 354111 \\, m^{4} t^{4} - 106170 \\, m^{3} t^{5} - 20354 \\, m^{2} t^{6} - 4060 \\, m t^{7} + 4315 \\, t^{8} - 11160 \\, m^{7} w + 72000 \\, m^{6} t w + 563760 \\, m^{5} t^{2} w - 1021500 \\, m^{4} t^{3} w - 1021500 \\, m^{3} t^{4} w + 563760 \\, m^{2} t^{5} w + 72000 \\, m t^{6} w - 11160 \\, t^{7} w - 161460 \\, m^{6} w^{2} - 358560 \\, m^{5} t w^{2} - 1076760 \\, m^{4} t^{2} w^{2} + 4447980 \\, m^{3} t^{3} w^{2} - 1076760 \\, m^{2} t^{4} w^{2} - 358560 \\, m t^{5} w^{2} - 161460 \\, t^{6} w^{2} + 249480 \\, m^{5} w^{3} + 1171800 \\, m^{4} t w^{3} - 1882440 \\, m^{3} t^{2} w^{3} - 1882440 \\, m^{2} t^{3} w^{3} + 1171800 \\, m t^{4} w^{3} + 249480 \\, t^{5} w^{3} + 765450 \\, m^{4} w^{4} - 1152900 \\, m^{3} t w^{4} + 3443580 \\, m^{2} t^{2} w^{4} - 1152900 \\, m t^{3} w^{4} + 765450 \\, t^{4} w^{4} - 1224720 \\, m^{3} w^{5} - 1224720 \\, t^{3} w^{5} - 612360 \\, m^{2} w^{6} - 1224720 \\, m t w^{6} - 612360 \\, t^{2} w^{6} + 1574640 \\, m w^{7} + 1574640 \\, t w^{7} - 590490 \\, w^{8}}{3628800 \\, {\\left(2 \\, m - t\\right)} {\\left(m - 2 \\, t\\right)} m^{3} t^{3}}</script></html>"
      ],
      "text/latex": [
       "$$\\newcommand{\\Bold}[1]{\\mathbf{#1}}\\frac{4315 \\, m^{8} - 4060 \\, m^{7} t - 20354 \\, m^{6} t^{2} - 106170 \\, m^{5} t^{3} + 354111 \\, m^{4} t^{4} - 106170 \\, m^{3} t^{5} - 20354 \\, m^{2} t^{6} - 4060 \\, m t^{7} + 4315 \\, t^{8} - 11160 \\, m^{7} w + 72000 \\, m^{6} t w + 563760 \\, m^{5} t^{2} w - 1021500 \\, m^{4} t^{3} w - 1021500 \\, m^{3} t^{4} w + 563760 \\, m^{2} t^{5} w + 72000 \\, m t^{6} w - 11160 \\, t^{7} w - 161460 \\, m^{6} w^{2} - 358560 \\, m^{5} t w^{2} - 1076760 \\, m^{4} t^{2} w^{2} + 4447980 \\, m^{3} t^{3} w^{2} - 1076760 \\, m^{2} t^{4} w^{2} - 358560 \\, m t^{5} w^{2} - 161460 \\, t^{6} w^{2} + 249480 \\, m^{5} w^{3} + 1171800 \\, m^{4} t w^{3} - 1882440 \\, m^{3} t^{2} w^{3} - 1882440 \\, m^{2} t^{3} w^{3} + 1171800 \\, m t^{4} w^{3} + 249480 \\, t^{5} w^{3} + 765450 \\, m^{4} w^{4} - 1152900 \\, m^{3} t w^{4} + 3443580 \\, m^{2} t^{2} w^{4} - 1152900 \\, m t^{3} w^{4} + 765450 \\, t^{4} w^{4} - 1224720 \\, m^{3} w^{5} - 1224720 \\, t^{3} w^{5} - 612360 \\, m^{2} w^{6} - 1224720 \\, m t w^{6} - 612360 \\, t^{2} w^{6} + 1574640 \\, m w^{7} + 1574640 \\, t w^{7} - 590490 \\, w^{8}}{3628800 \\, {\\left(2 \\, m - t\\right)} {\\left(m - 2 \\, t\\right)} m^{3} t^{3}}$$"
      ],
      "text/plain": [
       "1/3628800*(4315*m^8 - 4060*m^7*t - 20354*m^6*t^2 - 106170*m^5*t^3 + 354111*m^4*t^4 - 106170*m^3*t^5 - 20354*m^2*t^6 - 4060*m*t^7 + 4315*t^8 - 11160*m^7*w + 72000*m^6*t*w + 563760*m^5*t^2*w - 1021500*m^4*t^3*w - 1021500*m^3*t^4*w + 563760*m^2*t^5*w + 72000*m*t^6*w - 11160*t^7*w - 161460*m^6*w^2 - 358560*m^5*t*w^2 - 1076760*m^4*t^2*w^2 + 4447980*m^3*t^3*w^2 - 1076760*m^2*t^4*w^2 - 358560*m*t^5*w^2 - 161460*t^6*w^2 + 249480*m^5*w^3 + 1171800*m^4*t*w^3 - 1882440*m^3*t^2*w^3 - 1882440*m^2*t^3*w^3 + 1171800*m*t^4*w^3 + 249480*t^5*w^3 + 765450*m^4*w^4 - 1152900*m^3*t*w^4 + 3443580*m^2*t^2*w^4 - 1152900*m*t^3*w^4 + 765450*t^4*w^4 - 1224720*m^3*w^5 - 1224720*t^3*w^5 - 612360*m^2*w^6 - 1224720*m*t*w^6 - 612360*t^2*w^6 + 1574640*m*w^7 + 1574640*t*w^7 - 590490*w^8)/((2*m - t)*(m - 2*t)*m^3*t^3)"
      ]
     },
     "execution_count": 66,
     "metadata": {},
     "output_type": "execute_result"
    }
   ],
   "source": [
    "pretty(deg0(Verlinde_Num(3)(x=exp(t),y=exp(m))-(chi*(chi-1)*(chi-2)/6)(x=exp(t),y=exp(m))))"
   ]
  }
 ],
 "metadata": {
  "kernelspec": {
   "display_name": "SageMath 9.3",
   "language": "sage",
   "name": "sagemath"
  },
  "language_info": {
   "codemirror_mode": {
    "name": "ipython",
    "version": 3
   },
   "file_extension": ".py",
   "mimetype": "text/x-python",
   "name": "python",
   "nbconvert_exporter": "python",
   "pygments_lexer": "ipython3",
   "version": "3.7.10"
  }
 },
 "nbformat": 4,
 "nbformat_minor": 4
}
