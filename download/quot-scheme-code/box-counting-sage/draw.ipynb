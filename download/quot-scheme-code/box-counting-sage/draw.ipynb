{
 "cells": [
  {
   "cell_type": "code",
   "execution_count": 41,
   "metadata": {},
   "outputs": [
    {
     "data": {
      "image/png": "[encoded data removed]",
      "text/plain": [
       "Graphics object consisting of 15 graphics primitives"
      ]
     },
     "metadata": {},
     "output_type": "display_data"
    }
   ],
   "source": [
    "from sage.combinat.tableau import *\n",
    "from sage.combinat.partition import Partition\n",
    "\n",
    "p=Partition([3,2,1,1])\n",
    "p.cells()\n",
    "total=[]\n",
    "\n",
    "for i,j in p.cells():\n",
    "    L = [[i,j],[i,j+1],[i+1,j+1],[i+1,j]]\n",
    "    total+=[L]\n",
    "p=polygon2d(L, color=\"white\", edgecolor=\"black\", axes=False)\n",
    "for box in total:\n",
    "    p+=polygon2d(box, color=\"white\", edgecolor=\"black\", axes=False)+text(str(tuple(box[0])),[a+0.5 for a in box[0]],rgbcolor=(0, 0, 0))\n",
    "show(p,figsize=3)"
   ]
  },
  {
   "cell_type": "code",
   "execution_count": 63,
   "metadata": {},
   "outputs": [
    {
     "data": {
      "image/png": "[encoded data removed]",
      "text/plain": [
       "Graphics object consisting of 19 graphics primitives"
      ]
     },
     "metadata": {},
     "output_type": "display_data"
    }
   ],
   "source": [
    "from sage.combinat.tableau import *\n",
    "from sage.combinat.partition import Partition\n",
    "\n",
    "u=Partition([5,4,3,3,2,1,1])\n",
    "total=[]\n",
    "\n",
    "for i,j in u.cells():\n",
    "    L = [[i,j],[i,j+1],[i+1,j+1],[i+1,j]]\n",
    "    total+=[L]\n",
    "box=total[0]\n",
    "p=polygon2d(box, color=\"lightgreen\", edgecolor=\"black\", axes=False)\n",
    "box=total[1]\n",
    "p+=polygon2d(box, color=\"lightgreen\", edgecolor=\"black\", axes=False)\n",
    "box=total[2]\n",
    "p+=polygon2d(box, color=\"lightgreen\", edgecolor=\"black\", axes=False)\n",
    "box=total[3]\n",
    "p+=polygon2d(box, color=\"lightgreen\", edgecolor=\"black\", axes=False)\n",
    "box=total[4]\n",
    "p+=polygon2d(box, color=\"lightgreen\", edgecolor=\"black\", axes=False)\n",
    "box=total[5]\n",
    "p+=polygon2d(box, color=\"lightblue\", edgecolor=\"black\", axes=False)\n",
    "box=total[6]\n",
    "p+=polygon2d(box, color=\"lightblue\", edgecolor=\"black\", axes=False)\n",
    "box=total[7]\n",
    "p+=polygon2d(box, color=\"lightblue\", edgecolor=\"black\", axes=False)\n",
    "box=total[8]\n",
    "p+=polygon2d(box, color=\"lightblue\", edgecolor=\"black\", axes=False)\n",
    "box=total[9]\n",
    "p+=polygon2d(box, color=\"lightgreen\", edgecolor=\"black\", axes=False)\n",
    "box=total[10]\n",
    "p+=polygon2d(box, color=\"lightgreen\", edgecolor=\"black\", axes=False)\n",
    "box=total[11]\n",
    "p+=polygon2d(box, color=\"lightgreen\", edgecolor=\"black\", axes=False)\n",
    "box=total[12]\n",
    "p+=polygon2d(box, color=\"lightyellow\", edgecolor=\"black\", axes=False)\n",
    "box=total[13]\n",
    "p+=polygon2d(box, color=\"lightyellow\", edgecolor=\"black\", axes=False)\n",
    "box=total[14]\n",
    "p+=polygon2d(box, color=\"lightyellow\", edgecolor=\"black\", axes=False)\n",
    "box=total[15]\n",
    "p+=polygon2d(box, color=\"lightyellow\", edgecolor=\"black\", axes=False)\n",
    "box=total[16]\n",
    "p+=polygon2d(box, color=\"lightyellow\", edgecolor=\"black\", axes=False)\n",
    "box=total[17]\n",
    "p+=polygon2d(box, color=\"lightgreen\", edgecolor=\"black\", axes=False)\n",
    "box=total[18]\n",
    "p+=polygon2d(box, color=\"lightblue\", edgecolor=\"black\", axes=False)\n",
    "show(p,figsize=5)"
   ]
  }
 ],
 "metadata": {
  "kernelspec": {
   "display_name": "SageMath 9.3",
   "language": "sage",
   "name": "sagemath"
  },
  "language_info": {
   "codemirror_mode": {
    "name": "ipython",
    "version": 3
   },
   "file_extension": ".py",
   "mimetype": "text/x-python",
   "name": "python",
   "nbconvert_exporter": "python",
   "pygments_lexer": "ipython3",
   "version": "3.7.10"
  }
 },
 "nbformat": 4,
 "nbformat_minor": 4
}
