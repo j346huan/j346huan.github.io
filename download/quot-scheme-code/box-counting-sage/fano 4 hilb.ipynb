{
 "cells": [
  {
   "cell_type": "code",
   "execution_count": 38,
   "metadata": {},
   "outputs": [],
   "source": [
    "reset()\n",
    "%display latex\n",
    "Partitions.options.latex=\"list\"\n",
    "from sage.misc.cachefunc import cached_method, cached_function\n",
    "from sage.structure.unique_representation import UniqueRepresentation\n",
    "from itertools import chain, combinations\n",
    "from collections import deque\n",
    "\n",
    "load(\"partition_4d.sage\")\n",
    "\n",
    "\n",
    "\n",
    "#KT_vars = ['x1','x2','x3','x4','y','u1','u2','u3','u4','w']\n",
    "KT_vars = ['x1','x2','x3','x4','y']\n",
    "KT_ring = LaurentPolynomialRing(QQ, KT_vars)\n",
    "\n",
    "\n",
    "coho_vars = ['t1','t2','t3','t4','m']\n",
    "coho_ring = LaurentPolynomialRing(QQ, coho_vars)\n",
    "\n",
    "\n",
    "#x1,x2,x3,x4,y,u1,u2,u3,u4,w=KT_ring.gens()\n",
    "x1,x2,x3,x4,y=KT_ring.gens()\n",
    "t1,t2,t3,t4,m= coho_ring.gens()\n",
    "b=var('b')\n",
    "\n",
    "pP4ds = Partitions4d()\n",
    "\n",
    "def character(p,w=(x1,x2,x3,x4)):\n",
    "    Nx1, Nx2, Nx3, Nx4 = p._Nx1, p._Nx2, p._Nx3, p._Nx4\n",
    "    return specialize(substitute(sum(x1^(i) * x2^(j) * x3^(k) * x4^(l)\n",
    "           for (i,j,k,l) in p.boxes(Nx1=Nx1, Nx2=Nx2, Nx3=Nx3, Nx4=Nx4)),w))\n",
    "\n",
    "def dual(f):\n",
    "    if f in ZZ:\n",
    "        return f\n",
    "    R = KT_ring\n",
    "    g= R.zero()\n",
    "    for exp, coeff in f.dict().items():\n",
    "        g+= R({exp.emul(-1): coeff})\n",
    "    return g\n",
    "\n",
    "\n",
    "def specialize(f):\n",
    "    if f in ZZ:\n",
    "        return f\n",
    "    return f(x1=x1^2,x2=x2^2,x3=x3^2,x4=x4^2)\n",
    "\n",
    "def degn(f,n,b=b):\n",
    "    g=f.taylor(b,0,n)\n",
    "    L=g.coefficients(b)\n",
    "    for i in range(len(L)):\n",
    "        if L[i][1]==n:\n",
    "            return L[i][0]\n",
    "    return 0\n",
    "\n",
    "def deg0(f):\n",
    "    if f==0: \n",
    "        return 0\n",
    "    return pretty(degn(f(t1=b*t1,t2=b*t2,t3=b*t3,t4=b*t4,m=b*m),0))\n",
    "\n",
    "\n",
    "def fixed_locus(n):\n",
    "    return list(pP4ds.with_num_boxes(n))\n",
    "    \n",
    "    \n",
    "def sqrtK(w):\n",
    "    K=x1*x2*x3*x4\n",
    "    return sqrt(specialize(substitute(K,w)))\n",
    "\n",
    "def determinant(f):\n",
    "    if f in ZZ:\n",
    "        return 1\n",
    "    else:\n",
    "        return prod((mon)^coeff for coeff, mon in f)\n",
    "\n",
    "def Tvir(p,w=(x1,x2,x3,x4)):\n",
    "    Q = character(p,w)\n",
    "    Q_inv =dual(Q)\n",
    "    K=sqrtK(w)\n",
    "    P=(1-x1)*(1-x2)*(1-x3)*(1-x4)\n",
    "    P=specialize(P)\n",
    "    P=substitute(P,w)\n",
    "    T = K*(1-(1-P*Q)*(1-dual(P*Q)))/P\n",
    "    return T\n",
    "    #return T.numerator()*dual(T.denominator())\n",
    "\n",
    "def sqrtTvir(p,w=(x1,x2,x3,x4)):\n",
    "    Q =character(p,w)\n",
    "    Q_inv = dual(Q)\n",
    "    P=(1-x1)*(1-x2)*(1-x3)*(1-x4)\n",
    "    P=specialize(P)\n",
    "    P=substitute(P,w)\n",
    "    P0=substitute(specialize(dual((1-x1)*(1-x2)*(1-x3))),w)\n",
    "    K=sqrtK(w)\n",
    "    sqrtT = K*(Q-P0*Q*Q_inv)\n",
    "    return sqrtT\n",
    "\n",
    "def sqrtmono(f):\n",
    "    numer, denom = 1,1\n",
    "    for exp, coeff in f.dict().items():\n",
    "        items=deque(exp)\n",
    "        items.rotate(len(coho_vars))\n",
    "        term = KT_ring({tuple(list(items)):1})\n",
    "        numer *= term ** (coeff)\n",
    "    return numer\n",
    "\n",
    "def NekBracket(f):\n",
    "    if f.parent()==ZZ:\n",
    "        return 0\n",
    "    R = f.parent()\n",
    "    numer, denom = 1,1\n",
    "    for exp, coeff in f.dict().items():\n",
    "        if exp.is_constant():\n",
    "            term = R.zero()\n",
    "        else:\n",
    "            items=deque(exp)\n",
    "            items.rotate(len(coho_vars))\n",
    "            term = KT_ring({tuple(list(items)):1})*(1-KT_ring({exp.emul(-1):1}))\n",
    "        if coeff > 0:\n",
    "            numer *= term ** (coeff)\n",
    "        elif coeff < 0:\n",
    "            denom *= term ** (-coeff)\n",
    "    return R.fraction_field()(numer) / denom\n",
    "\n",
    "def Nek(n,w=(x1,x2,x3,x4)):\n",
    "    total=0\n",
    "    for SP in fixed_locus(n):\n",
    "        add=SP.sign()*\\\n",
    "        NekBracket(dual(specialize(character(SP,w))*y^(-1))-sqrtTvir(SP,w))\n",
    "        add=add(x1=1,x2=1,x4=1,u1=1,u2=1,u3=1,u4=1)(x3=1)\n",
    "        total+=add\n",
    "    return total\n",
    "\n",
    "def from_monomial(m):\n",
    "    return sum(m.degree(KT_ring.gen(i)) * coho_ring.gen(i) for i in range(len(coho_ring.gens())))\n",
    "\n",
    "def top_chern(f):\n",
    "    numer, denom = [], []\n",
    "    for coeff, mon in list(f):\n",
    "        wt = from_monomial(mon)\n",
    "        if coeff > 0:\n",
    "            numer += (coeff) * [wt]\n",
    "        elif coeff < 0:\n",
    "            denom += (-coeff) * [wt]\n",
    "    return coho_ring.fraction_field()(prod(numer) / prod(denom))\n",
    "\n",
    "def cnkn(n,w=(x1,x2,x3,x4)):\n",
    "    total=0\n",
    "    for SP in fixed_locus(n):\n",
    "        add=SP.sign()*top_chern(character(SP,w)*sqrtK(w))\n",
    "        add=add/top_chern(sqrtTvir(SP,w))\n",
    "        total+=add\n",
    "    return total\n",
    "\n",
    "\n",
    "\n",
    "def F(v=(x1,x2,x3,x4)):\n",
    "    return specialize(substitute((x1^-1+x2^-1+x3^-1+x4^-1-x1-x2-x3-x4)/(1-x1)/(1-x2)/(1-x3)/(1-x4)*NekBracket(y)/(1-b*w)/(1-b*w^-1),v))\n",
    "\n",
    "\n",
    "def F_list(w):\n",
    "    return sum(F(w[i]) for i in range(8))\n",
    "\n",
    "\n",
    "def sqrt_to_original(f):\n",
    "    R = f.parent()\n",
    "    term=0\n",
    "    for exp, coeff in f.dict().items():\n",
    "        newexp=()\n",
    "        for i in range(len(coho_vars)):\n",
    "            newexp+=(exp[i]+exp[i+len(coho_vars)]//2,)\n",
    "        for i in range(len(coho_vars)):\n",
    "            newexp+=(exp[len(coho_vars)+i]%2,)\n",
    "        term +=R({newexp:coeff})\n",
    "    return term\n",
    "    \n",
    "def cut(f):\n",
    "    return sqrt_to_original(f.numerator())/sqrt_to_original(f.denominator())\n",
    "    \n",
    "def substitute(f,w):\n",
    "    return f(x1=w[0],x2=w[1],x3=w[2],x4=w[3])\n",
    "\n",
    "def substitute_coho(f,w):\n",
    "    return f(t1=from_monomial(w[0]),t2=from_monomial(w[1]),t3=from_monomial(w[2]),t4=from_monomial(w[3]))\n",
    "\n",
    "def Nek_list(n,w,sgn):\n",
    "    total=0\n",
    "    for i in range(8):\n",
    "        add=sgn[i]*(Nek(n,w[i]))\n",
    "        total+=add\n",
    "    return total\n",
    "\n",
    "def cn_list(n,w,sgn):\n",
    "    total=0\n",
    "    for i in range(8):\n",
    "        add=sgn[i]*substitute_coho(cnkn(n),w[i])\n",
    "        total+=add\n",
    "    return total\n",
    "\n",
    "\n",
    "def writeline(file,s):\n",
    "    g = open(file, \"a\")\n",
    "    g.write(s+\"\\n\")\n",
    "    g.close()\n",
    "    \n",
    "v=[(x1,x2,x3,x4),\n",
    "   (x1,1/x2,x3/x2,x4/x2),\n",
    "   (x1,1/x3,x2/x3,x4/x3),\n",
    "   (x1,1/x4,x2/x4,x3/x4),\n",
    "   (1/x1,x2,x3,x4),\n",
    "   (1/x1,1/x2,x3/x2,x4/x2),\n",
    "   (1/x1,1/x3,x2/x3,x4/x3),\n",
    "   (1/x1,1/x4,x2/x4,x3/x4),\n",
    "  ]\n",
    "\n",
    "sgn=()\n",
    "\n",
    "def genbin(n, bs=()):\n",
    "    global sgn\n",
    "    if len(bs) == n:\n",
    "        sgn=sgn+(bs, )\n",
    "    else:\n",
    "        genbin(n, bs + (1,))\n",
    "        genbin(n, bs + (-1,))\n",
    "\n",
    "genbin(8,(1,))"
   ]
  },
  {
   "cell_type": "code",
   "execution_count": 19,
   "metadata": {},
   "outputs": [
    {
     "data": {
      "text/html": [
       "<html><script type=\"math/tex; mode=display\">\\newcommand{\\Bold}[1]{\\mathbf{#1}}t_{1} - t_{2}</script></html>"
      ],
      "text/latex": [
       "$$\\newcommand{\\Bold}[1]{\\mathbf{#1}}t_{1} - t_{2}$$"
      ],
      "text/plain": [
       "t1 - t2"
      ]
     },
     "execution_count": 19,
     "metadata": {},
     "output_type": "execute_result"
    }
   ],
   "source": [
    "from_monomial(x1/x2)"
   ]
  },
  {
   "cell_type": "code",
   "execution_count": 53,
   "metadata": {},
   "outputs": [
    {
     "data": {
      "text/html": [
       "<html><script type=\"math/tex; mode=display\">\\newcommand{\\Bold}[1]{\\mathbf{#1}}x_{1} x_{2} x_{3} x_{4} - x_{1} x_{2} x_{3}^{-1} x_{4} - x_{1} x_{2}^{-1} x_{3} x_{4} + x_{1} x_{2}^{-1} x_{3}^{-1} x_{4} + x_{1}^{-1} x_{2} x_{3}^{-1} x_{4} + x_{1}^{-1} x_{2}^{-1} x_{3} x_{4} - x_{1}^{-1} x_{2}^{-1} x_{3}^{-1} x_{4}</script></html>"
      ],
      "text/latex": [
       "$$\\newcommand{\\Bold}[1]{\\mathbf{#1}}x_{1} x_{2} x_{3} x_{4} - x_{1} x_{2} x_{3}^{-1} x_{4} - x_{1} x_{2}^{-1} x_{3} x_{4} + x_{1} x_{2}^{-1} x_{3}^{-1} x_{4} + x_{1}^{-1} x_{2} x_{3}^{-1} x_{4} + x_{1}^{-1} x_{2}^{-1} x_{3} x_{4} - x_{1}^{-1} x_{2}^{-1} x_{3}^{-1} x_{4}$$"
      ],
      "text/plain": [
       "x1*x2*x3*x4 - x1*x2*x3^-1*x4 - x1*x2^-1*x3*x4 + x1*x2^-1*x3^-1*x4 + x1^-1*x2*x3^-1*x4 + x1^-1*x2^-1*x3*x4 - x1^-1*x2^-1*x3^-1*x4"
      ]
     },
     "execution_count": 53,
     "metadata": {},
     "output_type": "execute_result"
    }
   ],
   "source": [
    "sqrtTvir(fixed_locus(1)[0],v[4])"
   ]
  },
  {
   "cell_type": "code",
   "execution_count": 47,
   "metadata": {
    "scrolled": false
   },
   "outputs": [
    {
     "data": {
      "text/html": [
       "t1^14 - 15*t1^12*t2^2 + 69*t1^10*t2^4 - 155*t1^8*t2^6 + 195*t1^6*t2^8 - 141*t1^4*t2^10 + 55*t1^2*t2^12 - 9*t2^14 + 10*t1^12*t2*t3 - 92*t1^10*t2^3*t3 + 310*t1^8*t2^5*t3 - 520*t1^6*t2^7*t3 + 470*t1^4*t2^9*t3 - 220*t1^2*t2^11*t3 + 42*t2^13*t3 - 15*t1^12*t3^2 + 206*t1^10*t2^2*t3^2 - 645*t1^8*t2^4*t3^2 + 820*t1^6*t2^6*t3^2 - 425*t1^4*t2^8*t3^2 + 30*t1^2*t2^10*t3^2 + 29*t2^12*t3^2 - 92*t1^10*t2*t3^3 + 340*t1^8*t2^3*t3^3 - 184*t1^6*t2^5*t3^3 - 568*t1^4*t2^7*t3^3 + 788*t1^2*t2^9*t3^3 - 284*t2^11*t3^3 + 69*t1^10*t3^4 - 645*t1^8*t2^2*t3^4 + 658*t1^6*t2^4*t3^4 + 310*t1^4*t2^6*t3^4 - 359*t1^2*t2^8*t3^4 - 33*t2^10*t3^4 + 310*t1^8*t2*t3^5 - 184*t1^6*t2^3*t3^5 - 316*t1^4*t2^5*t3^5 - 568*t1^2*t2^7*t3^5 + 758*t2^9*t3^5 - 155*t1^8*t3^6 + 820*t1^6*t2^2*t3^6 + 310*t1^4*t2^4*t3^6 + 548*t1^2*t2^6*t3^6 + 13*t2^8*t3^6 - 520*t1^6*t2*t3^7 - 568*t1^4*t2^3*t3^7 - 568*t1^2*t2^5*t3^7 - 1032*t2^7*t3^7 + 195*t1^6*t3^8 - 425*t1^4*t2^2*t3^8 - 359*t1^2*t2^4*t3^8 + 13*t2^6*t3^8 + 470*t1^4*t2*t3^9 + 788*t1^2*t2^3*t3^9 + 758*t2^5*t3^9 - 141*t1^4*t3^10 + 30*t1^2*t2^2*t3^10 - 33*t2^4*t3^10 - 220*t1^2*t2*t3^11 - 284*t2^3*t3^11 + 55*t1^2*t3^12 + 29*t2^2*t3^12 + 42*t2*t3^13 - 9*t3^14 + 10*t1^12*t2*t4 - 92*t1^10*t2^3*t4 + 310*t1^8*t2^5*t4 - 520*t1^6*t2^7*t4 + 470*t1^4*t2^9*t4 - 220*t1^2*t2^11*t4 + 42*t2^13*t4 + 10*t1^12*t3*t4 - 68*t1^10*t2^2*t3*t4 - 130*t1^8*t2^4*t3*t4 + 1000*t1^6*t2^6*t3*t4 - 1690*t1^4*t2^8*t3*t4 + 1180*t1^2*t2^10*t3*t4 - 302*t2^12*t3*t4 - 68*t1^10*t2*t3^2*t4 + 780*t1^8*t2^3*t3^2*t4 - 2184*t1^6*t2^5*t3^2*t4 + 2552*t1^4*t2^7*t3^2*t4 - 1332*t1^2*t2^9*t3^2*t4 + 252*t2^11*t3^2*t4 - 92*t1^10*t3^3*t4 + 780*t1^8*t2^2*t3^3*t4 - 856*t1^6*t2^4*t3^3*t4 + 1368*t1^4*t2^6*t3^3*t4 - 2828*t1^2*t2^8*t3^3*t4 + 1628*t2^10*t3^3*t4 - 130*t1^8*t2*t3^4*t4 - 856*t1^6*t2^3*t3^4*t4 - 140*t1^4*t2^5*t3^4*t4 + 2856*t1^2*t2^7*t3^4*t4 - 1730*t2^9*t3^4*t4 + 310*t1^8*t3^5*t4 - 2184*t1^6*t2^2*t3^5*t4 - 140*t1^4*t2^4*t3^5*t4 + 344*t1^2*t2^6*t3^5*t4 - 3450*t2^8*t3^5*t4 + 1000*t1^6*t2*t3^6*t4 + 1368*t1^4*t2^3*t3^6*t4 + 344*t1^2*t2^5*t3^6*t4 + 3560*t2^7*t3^6*t4 - 520*t1^6*t3^7*t4 + 2552*t1^4*t2^2*t3^7*t4 + 2856*t1^2*t2^4*t3^7*t4 + 3560*t2^6*t3^7*t4 - 1690*t1^4*t2*t3^8*t4 - 2828*t1^2*t2^3*t3^8*t4 - 3450*t2^5*t3^8*t4 + 470*t1^4*t3^9*t4 - 1332*t1^2*t2^2*t3^9*t4 - 1730*t2^4*t3^9*t4 + 1180*t1^2*t2*t3^10*t4 + 1628*t2^3*t3^10*t4 - 220*t1^2*t3^11*t4 + 252*t2^2*t3^11*t4 - 302*t2*t3^12*t4 + 42*t3^13*t4 - 15*t1^12*t4^2 + 206*t1^10*t2^2*t4^2 - 645*t1^8*t2^4*t4^2 + 820*t1^6*t2^6*t4^2 - 425*t1^4*t2^8*t4^2 + 30*t1^2*t2^10*t4^2 + 29*t2^12*t4^2 - 68*t1^10*t2*t3*t4^2 + 780*t1^8*t2^3*t3*t4^2 - 2184*t1^6*t2^5*t3*t4^2 + 2552*t1^4*t2^7*t3*t4^2 - 1332*t1^2*t2^9*t3*t4^2 + 252*t2^11*t3*t4^2 + 206*t1^10*t3^2*t4^2 - 2990*t1^8*t2^2*t3^2*t4^2 + 7884*t1^6*t2^4*t3^2*t4^2 - 9052*t1^4*t2^6*t3^2*t4^2 + 5382*t1^2*t2^8*t3^2*t4^2 - 1430*t2^10*t3^2*t4^2 + 780*t1^8*t2*t3^3*t4^2 - 3824*t1^6*t2^3*t3^3*t4^2 + 5704*t1^4*t2^5*t3^3*t4^2 - 2032*t1^2*t2^7*t3^3*t4^2 - 628*t2^9*t3^3*t4^2 - 645*t1^8*t3^4*t4^2 + 7884*t1^6*t2^2*t3^4*t4^2 - 9590*t1^4*t2^4*t3^4*t4^2 - 4900*t1^2*t2^6*t3^4*t4^2 + 5715*t2^8*t3^4*t4^2 - 2184*t1^6*t2*t3^5*t4^2 + 5704*t1^4*t2^3*t3^5*t4^2 + 7752*t1^2*t2^5*t3^5*t4^2 + 376*t2^7*t3^5*t4^2 + 820*t1^6*t3^6*t4^2 - 9052*t1^4*t2^2*t3^6*t4^2 - 4900*t1^2*t2^4*t3^6*t4^2 - 8628*t2^6*t3^6*t4^2 + 2552*t1^4*t2*t3^7*t4^2 - 2032*t1^2*t2^3*t3^7*t4^2 + 376*t2^5*t3^7*t4^2 - 425*t1^4*t3^8*t4^2 + 5382*t1^2*t2^2*t3^8*t4^2 + 5715*t2^4*t3^8*t4^2 - 1332*t1^2*t2*t3^9*t4^2 - 628*t2^3*t3^9*t4^2 + 30*t1^2*t3^10*t4^2 - 1430*t2^2*t3^10*t4^2 + 252*t2*t3^11*t4^2 + 29*t3^12*t4^2 - 92*t1^10*t2*t4^3 + 340*t1^8*t2^3*t4^3 - 184*t1^6*t2^5*t4^3 - 568*t1^4*t2^7*t4^3 + 788*t1^2*t2^9*t4^3 - 284*t2^11*t4^3 - 92*t1^10*t3*t4^3 + 780*t1^8*t2^2*t3*t4^3 - 856*t1^6*t2^4*t3*t4^3 + 1368*t1^4*t2^6*t3*t4^3 - 2828*t1^2*t2^8*t3*t4^3 + 1628*t2^10*t3*t4^3 + 780*t1^8*t2*t3^2*t4^3 - 3824*t1^6*t2^3*t3^2*t4^3 + 5704*t1^4*t2^5*t3^2*t4^3 - 2032*t1^2*t2^7*t3^2*t4^3 - 628*t2^9*t3^2*t4^3 + 340*t1^8*t3^3*t4^3 - 3824*t1^6*t2^2*t3^3*t4^3 + 2200*t1^4*t2^4*t3^3*t4^3 + 16208*t1^2*t2^6*t3^3*t4^3 - 4684*t2^8*t3^3*t4^3 - 856*t1^6*t2*t3^4*t4^3 + 2200*t1^4*t2^3*t3^4*t4^3 - 17256*t1^2*t2^5*t3^4*t4^3 + 680*t2^7*t3^4*t4^3 - 184*t1^6*t3^5*t4^3 + 5704*t1^4*t2^2*t3^5*t4^3 - 17256*t1^2*t2^4*t3^5*t4^3 + 3288*t2^6*t3^5*t4^3 + 1368*t1^4*t2*t3^6*t4^3 + 16208*t1^2*t2^3*t3^6*t4^3 + 3288*t2^5*t3^6*t4^3 - 568*t1^4*t3^7*t4^3 - 2032*t1^2*t2^2*t3^7*t4^3 + 680*t2^4*t3^7*t4^3 - 2828*t1^2*t2*t3^8*t4^3 - 4684*t2^3*t3^8*t4^3 + 788*t1^2*t3^9*t4^3 - 628*t2^2*t3^9*t4^3 + 1628*t2*t3^10*t4^3 - 284*t3^11*t4^3 + 69*t1^10*t4^4 - 645*t1^8*t2^2*t4^4 + 658*t1^6*t2^4*t4^4 + 310*t1^4*t2^6*t4^4 - 359*t1^2*t2^8*t4^4 - 33*t2^10*t4^4 - 130*t1^8*t2*t3*t4^4 - 856*t1^6*t2^3*t3*t4^4 - 140*t1^4*t2^5*t3*t4^4 + 2856*t1^2*t2^7*t3*t4^4 - 1730*t2^9*t3*t4^4 - 645*t1^8*t3^2*t4^4 + 7884*t1^6*t2^2*t3^2*t4^4 - 9590*t1^4*t2^4*t3^2*t4^4 - 4900*t1^2*t2^6*t3^2*t4^4 + 5715*t2^8*t3^2*t4^4 - 856*t1^6*t2*t3^3*t4^4 + 2200*t1^4*t2^3*t3^3*t4^4 - 17256*t1^2*t2^5*t3^3*t4^4 + 680*t2^7*t3^3*t4^4 + 658*t1^6*t3^4*t4^4 - 9590*t1^4*t2^2*t3^4*t4^4 + 59542*t1^2*t2^4*t3^4*t4^4 - 5938*t2^6*t3^4*t4^4 - 140*t1^4*t2*t3^5*t4^4 - 17256*t1^2*t2^3*t3^5*t4^4 + 1588*t2^5*t3^5*t4^4 + 310*t1^4*t3^6*t4^4 - 4900*t1^2*t2^2*t3^6*t4^4 - 5938*t2^4*t3^6*t4^4 + 2856*t1^2*t2*t3^7*t4^4 + 680*t2^3*t3^7*t4^4 - 359*t1^2*t3^8*t4^4 + 5715*t2^2*t3^8*t4^4 - 1730*t2*t3^9*t4^4 - 33*t3^10*t4^4 + 310*t1^8*t2*t4^5 - 184*t1^6*t2^3*t4^5 - 316*t1^4*t2^5*t4^5 - 568*t1^2*t2^7*t4^5 + 758*t2^9*t4^5 + 310*t1^8*t3*t4^5 - 2184*t1^6*t2^2*t3*t4^5 - 140*t1^4*t2^4*t3*t4^5 + 344*t1^2*t2^6*t3*t4^5 - 3450*t2^8*t3*t4^5 - 2184*t1^6*t2*t3^2*t4^5 + 5704*t1^4*t2^3*t3^2*t4^5 + 7752*t1^2*t2^5*t3^2*t4^5 + 376*t2^7*t3^2*t4^5 - 184*t1^6*t3^3*t4^5 + 5704*t1^4*t2^2*t3^3*t4^5 - 17256*t1^2*t2^4*t3^3*t4^5 + 3288*t2^6*t3^3*t4^5 - 140*t1^4*t2*t3^4*t4^5 - 17256*t1^2*t2^3*t3^4*t4^5 + 1588*t2^5*t3^4*t4^5 - 316*t1^4*t3^5*t4^5 + 7752*t1^2*t2^2*t3^5*t4^5 + 1588*t2^4*t3^5*t4^5 + 344*t1^2*t2*t3^6*t4^5 + 3288*t2^3*t3^6*t4^5 - 568*t1^2*t3^7*t4^5 + 376*t2^2*t3^7*t4^5 - 3450*t2*t3^8*t4^5 + 758*t3^9*t4^5 - 155*t1^8*t4^6 + 820*t1^6*t2^2*t4^6 + 310*t1^4*t2^4*t4^6 + 548*t1^2*t2^6*t4^6 + 13*t2^8*t4^6 + 1000*t1^6*t2*t3*t4^6 + 1368*t1^4*t2^3*t3*t4^6 + 344*t1^2*t2^5*t3*t4^6 + 3560*t2^7*t3*t4^6 + 820*t1^6*t3^2*t4^6 - 9052*t1^4*t2^2*t3^2*t4^6 - 4900*t1^2*t2^4*t3^2*t4^6 - 8628*t2^6*t3^2*t4^6 + 1368*t1^4*t2*t3^3*t4^6 + 16208*t1^2*t2^3*t3^3*t4^6 + 3288*t2^5*t3^3*t4^6 + 310*t1^4*t3^4*t4^6 - 4900*t1^2*t2^2*t3^4*t4^6 - 5938*t2^4*t3^4*t4^6 + 344*t1^2*t2*t3^5*t4^6 + 3288*t2^3*t3^5*t4^6 + 548*t1^2*t3^6*t4^6 - 8628*t2^2*t3^6*t4^6 + 3560*t2*t3^7*t4^6 + 13*t3^8*t4^6 - 520*t1^6*t2*t4^7 - 568*t1^4*t2^3*t4^7 - 568*t1^2*t2^5*t4^7 - 1032*t2^7*t4^7 - 520*t1^6*t3*t4^7 + 2552*t1^4*t2^2*t3*t4^7 + 2856*t1^2*t2^4*t3*t4^7 + 3560*t2^6*t3*t4^7 + 2552*t1^4*t2*t3^2*t4^7 - 2032*t1^2*t2^3*t3^2*t4^7 + 376*t2^5*t3^2*t4^7 - 568*t1^4*t3^3*t4^7 - 2032*t1^2*t2^2*t3^3*t4^7 + 680*t2^4*t3^3*t4^7 + 2856*t1^2*t2*t3^4*t4^7 + 680*t2^3*t3^4*t4^7 - 568*t1^2*t3^5*t4^7 + 376*t2^2*t3^5*t4^7 + 3560*t2*t3^6*t4^7 - 1032*t3^7*t4^7 + 195*t1^6*t4^8 - 425*t1^4*t2^2*t4^8 - 359*t1^2*t2^4*t4^8 + 13*t2^6*t4^8 - 1690*t1^4*t2*t3*t4^8 - 2828*t1^2*t2^3*t3*t4^8 - 3450*t2^5*t3*t4^8 - 425*t1^4*t3^2*t4^8 + 5382*t1^2*t2^2*t3^2*t4^8 + 5715*t2^4*t3^2*t4^8 - 2828*t1^2*t2*t3^3*t4^8 - 4684*t2^3*t3^3*t4^8 - 359*t1^2*t3^4*t4^8 + 5715*t2^2*t3^4*t4^8 - 3450*t2*t3^5*t4^8 + 13*t3^6*t4^8 + 470*t1^4*t2*t4^9 + 788*t1^2*t2^3*t4^9 + 758*t2^5*t4^9 + 470*t1^4*t3*t4^9 - 1332*t1^2*t2^2*t3*t4^9 - 1730*t2^4*t3*t4^9 - 1332*t1^2*t2*t3^2*t4^9 - 628*t2^3*t3^2*t4^9 + 788*t1^2*t3^3*t4^9 - 628*t2^2*t3^3*t4^9 - 1730*t2*t3^4*t4^9 + 758*t3^5*t4^9 - 141*t1^4*t4^10 + 30*t1^2*t2^2*t4^10 - 33*t2^4*t4^10 + 1180*t1^2*t2*t3*t4^10 + 1628*t2^3*t3*t4^10 + 30*t1^2*t3^2*t4^10 - 1430*t2^2*t3^2*t4^10 + 1628*t2*t3^3*t4^10 - 33*t3^4*t4^10 - 220*t1^2*t2*t4^11 - 284*t2^3*t4^11 - 220*t1^2*t3*t4^11 + 252*t2^2*t3*t4^11 + 252*t2*t3^2*t4^11 - 284*t3^3*t4^11 + 55*t1^2*t4^12 + 29*t2^2*t4^12 - 302*t2*t3*t4^12 + 29*t3^2*t4^12 + 42*t2*t4^13 + 42*t3*t4^13 - 9*t4^14"
      ],
      "text/plain": [
       "'t1^14 - 15*t1^12*t2^2 + 69*t1^10*t2^4 - 155*t1^8*t2^6 + 195*t1^6*t2^8 - 141*t1^4*t2^10 + 55*t1^2*t2^12 - 9*t2^14 + 10*t1^12*t2*t3 - 92*t1^10*t2^3*t3 + 310*t1^8*t2^5*t3 - 520*t1^6*t2^7*t3 + 470*t1^4*t2^9*t3 - 220*t1^2*t2^11*t3 + 42*t2^13*t3 - 15*t1^12*t3^2 + 206*t1^10*t2^2*t3^2 - 645*t1^8*t2^4*t3^2 + 820*t1^6*t2^6*t3^2 - 425*t1^4*t2^8*t3^2 + 30*t1^2*t2^10*t3^2 + 29*t2^12*t3^2 - 92*t1^10*t2*t3^3 + 340*t1^8*t2^3*t3^3 - 184*t1^6*t2^5*t3^3 - 568*t1^4*t2^7*t3^3 + 788*t1^2*t2^9*t3^3 - 284*t2^11*t3^3 + 69*t1^10*t3^4 - 645*t1^8*t2^2*t3^4 + 658*t1^6*t2^4*t3^4 + 310*t1^4*t2^6*t3^4 - 359*t1^2*t2^8*t3^4 - 33*t2^10*t3^4 + 310*t1^8*t2*t3^5 - 184*t1^6*t2^3*t3^5 - 316*t1^4*t2^5*t3^5 - 568*t1^2*t2^7*t3^5 + 758*t2^9*t3^5 - 155*t1^8*t3^6 + 820*t1^6*t2^2*t3^6 + 310*t1^4*t2^4*t3^6 + 548*t1^2*t2^6*t3^6 + 13*t2^8*t3^6 - 520*t1^6*t2*t3^7 - 568*t1^4*t2^3*t3^7 - 568*t1^2*t2^5*t3^7 - 1032*t2^7*t3^7 + 195*t1^6*t3^8 - 425*t1^4*t2^2*t3^8 - 359*t1^2*t2^4*t3^8 + 13*t2^6*t3^8 + 470*t1^4*t2*t3^9 + 788*t1^2*t2^3*t3^9 + 758*t2^5*t3^9 - 141*t1^4*t3^10 + 30*t1^2*t2^2*t3^10 - 33*t2^4*t3^10 - 220*t1^2*t2*t3^11 - 284*t2^3*t3^11 + 55*t1^2*t3^12 + 29*t2^2*t3^12 + 42*t2*t3^13 - 9*t3^14 + 10*t1^12*t2*t4 - 92*t1^10*t2^3*t4 + 310*t1^8*t2^5*t4 - 520*t1^6*t2^7*t4 + 470*t1^4*t2^9*t4 - 220*t1^2*t2^11*t4 + 42*t2^13*t4 + 10*t1^12*t3*t4 - 68*t1^10*t2^2*t3*t4 - 130*t1^8*t2^4*t3*t4 + 1000*t1^6*t2^6*t3*t4 - 1690*t1^4*t2^8*t3*t4 + 1180*t1^2*t2^10*t3*t4 - 302*t2^12*t3*t4 - 68*t1^10*t2*t3^2*t4 + 780*t1^8*t2^3*t3^2*t4 - 2184*t1^6*t2^5*t3^2*t4 + 2552*t1^4*t2^7*t3^2*t4 - 1332*t1^2*t2^9*t3^2*t4 + 252*t2^11*t3^2*t4 - 92*t1^10*t3^3*t4 + 780*t1^8*t2^2*t3^3*t4 - 856*t1^6*t2^4*t3^3*t4 + 1368*t1^4*t2^6*t3^3*t4 - 2828*t1^2*t2^8*t3^3*t4 + 1628*t2^10*t3^3*t4 - 130*t1^8*t2*t3^4*t4 - 856*t1^6*t2^3*t3^4*t4 - 140*t1^4*t2^5*t3^4*t4 + 2856*t1^2*t2^7*t3^4*t4 - 1730*t2^9*t3^4*t4 + 310*t1^8*t3^5*t4 - 2184*t1^6*t2^2*t3^5*t4 - 140*t1^4*t2^4*t3^5*t4 + 344*t1^2*t2^6*t3^5*t4 - 3450*t2^8*t3^5*t4 + 1000*t1^6*t2*t3^6*t4 + 1368*t1^4*t2^3*t3^6*t4 + 344*t1^2*t2^5*t3^6*t4 + 3560*t2^7*t3^6*t4 - 520*t1^6*t3^7*t4 + 2552*t1^4*t2^2*t3^7*t4 + 2856*t1^2*t2^4*t3^7*t4 + 3560*t2^6*t3^7*t4 - 1690*t1^4*t2*t3^8*t4 - 2828*t1^2*t2^3*t3^8*t4 - 3450*t2^5*t3^8*t4 + 470*t1^4*t3^9*t4 - 1332*t1^2*t2^2*t3^9*t4 - 1730*t2^4*t3^9*t4 + 1180*t1^2*t2*t3^10*t4 + 1628*t2^3*t3^10*t4 - 220*t1^2*t3^11*t4 + 252*t2^2*t3^11*t4 - 302*t2*t3^12*t4 + 42*t3^13*t4 - 15*t1^12*t4^2 + 206*t1^10*t2^2*t4^2 - 645*t1^8*t2^4*t4^2 + 820*t1^6*t2^6*t4^2 - 425*t1^4*t2^8*t4^2 + 30*t1^2*t2^10*t4^2 + 29*t2^12*t4^2 - 68*t1^10*t2*t3*t4^2 + 780*t1^8*t2^3*t3*t4^2 - 2184*t1^6*t2^5*t3*t4^2 + 2552*t1^4*t2^7*t3*t4^2 - 1332*t1^2*t2^9*t3*t4^2 + 252*t2^11*t3*t4^2 + 206*t1^10*t3^2*t4^2 - 2990*t1^8*t2^2*t3^2*t4^2 + 7884*t1^6*t2^4*t3^2*t4^2 - 9052*t1^4*t2^6*t3^2*t4^2 + 5382*t1^2*t2^8*t3^2*t4^2 - 1430*t2^10*t3^2*t4^2 + 780*t1^8*t2*t3^3*t4^2 - 3824*t1^6*t2^3*t3^3*t4^2 + 5704*t1^4*t2^5*t3^3*t4^2 - 2032*t1^2*t2^7*t3^3*t4^2 - 628*t2^9*t3^3*t4^2 - 645*t1^8*t3^4*t4^2 + 7884*t1^6*t2^2*t3^4*t4^2 - 9590*t1^4*t2^4*t3^4*t4^2 - 4900*t1^2*t2^6*t3^4*t4^2 + 5715*t2^8*t3^4*t4^2 - 2184*t1^6*t2*t3^5*t4^2 + 5704*t1^4*t2^3*t3^5*t4^2 + 7752*t1^2*t2^5*t3^5*t4^2 + 376*t2^7*t3^5*t4^2 + 820*t1^6*t3^6*t4^2 - 9052*t1^4*t2^2*t3^6*t4^2 - 4900*t1^2*t2^4*t3^6*t4^2 - 8628*t2^6*t3^6*t4^2 + 2552*t1^4*t2*t3^7*t4^2 - 2032*t1^2*t2^3*t3^7*t4^2 + 376*t2^5*t3^7*t4^2 - 425*t1^4*t3^8*t4^2 + 5382*t1^2*t2^2*t3^8*t4^2 + 5715*t2^4*t3^8*t4^2 - 1332*t1^2*t2*t3^9*t4^2 - 628*t2^3*t3^9*t4^2 + 30*t1^2*t3^10*t4^2 - 1430*t2^2*t3^10*t4^2 + 252*t2*t3^11*t4^2 + 29*t3^12*t4^2 - 92*t1^10*t2*t4^3 + 340*t1^8*t2^3*t4^3 - 184*t1^6*t2^5*t4^3 - 568*t1^4*t2^7*t4^3 + 788*t1^2*t2^9*t4^3 - 284*t2^11*t4^3 - 92*t1^10*t3*t4^3 + 780*t1^8*t2^2*t3*t4^3 - 856*t1^6*t2^4*t3*t4^3 + 1368*t1^4*t2^6*t3*t4^3 - 2828*t1^2*t2^8*t3*t4^3 + 1628*t2^10*t3*t4^3 + 780*t1^8*t2*t3^2*t4^3 - 3824*t1^6*t2^3*t3^2*t4^3 + 5704*t1^4*t2^5*t3^2*t4^3 - 2032*t1^2*t2^7*t3^2*t4^3 - 628*t2^9*t3^2*t4^3 + 340*t1^8*t3^3*t4^3 - 3824*t1^6*t2^2*t3^3*t4^3 + 2200*t1^4*t2^4*t3^3*t4^3 + 16208*t1^2*t2^6*t3^3*t4^3 - 4684*t2^8*t3^3*t4^3 - 856*t1^6*t2*t3^4*t4^3 + 2200*t1^4*t2^3*t3^4*t4^3 - 17256*t1^2*t2^5*t3^4*t4^3 + 680*t2^7*t3^4*t4^3 - 184*t1^6*t3^5*t4^3 + 5704*t1^4*t2^2*t3^5*t4^3 - 17256*t1^2*t2^4*t3^5*t4^3 + 3288*t2^6*t3^5*t4^3 + 1368*t1^4*t2*t3^6*t4^3 + 16208*t1^2*t2^3*t3^6*t4^3 + 3288*t2^5*t3^6*t4^3 - 568*t1^4*t3^7*t4^3 - 2032*t1^2*t2^2*t3^7*t4^3 + 680*t2^4*t3^7*t4^3 - 2828*t1^2*t2*t3^8*t4^3 - 4684*t2^3*t3^8*t4^3 + 788*t1^2*t3^9*t4^3 - 628*t2^2*t3^9*t4^3 + 1628*t2*t3^10*t4^3 - 284*t3^11*t4^3 + 69*t1^10*t4^4 - 645*t1^8*t2^2*t4^4 + 658*t1^6*t2^4*t4^4 + 310*t1^4*t2^6*t4^4 - 359*t1^2*t2^8*t4^4 - 33*t2^10*t4^4 - 130*t1^8*t2*t3*t4^4 - 856*t1^6*t2^3*t3*t4^4 - 140*t1^4*t2^5*t3*t4^4 + 2856*t1^2*t2^7*t3*t4^4 - 1730*t2^9*t3*t4^4 - 645*t1^8*t3^2*t4^4 + 7884*t1^6*t2^2*t3^2*t4^4 - 9590*t1^4*t2^4*t3^2*t4^4 - 4900*t1^2*t2^6*t3^2*t4^4 + 5715*t2^8*t3^2*t4^4 - 856*t1^6*t2*t3^3*t4^4 + 2200*t1^4*t2^3*t3^3*t4^4 - 17256*t1^2*t2^5*t3^3*t4^4 + 680*t2^7*t3^3*t4^4 + 658*t1^6*t3^4*t4^4 - 9590*t1^4*t2^2*t3^4*t4^4 + 59542*t1^2*t2^4*t3^4*t4^4 - 5938*t2^6*t3^4*t4^4 - 140*t1^4*t2*t3^5*t4^4 - 17256*t1^2*t2^3*t3^5*t4^4 + 1588*t2^5*t3^5*t4^4 + 310*t1^4*t3^6*t4^4 - 4900*t1^2*t2^2*t3^6*t4^4 - 5938*t2^4*t3^6*t4^4 + 2856*t1^2*t2*t3^7*t4^4 + 680*t2^3*t3^7*t4^4 - 359*t1^2*t3^8*t4^4 + 5715*t2^2*t3^8*t4^4 - 1730*t2*t3^9*t4^4 - 33*t3^10*t4^4 + 310*t1^8*t2*t4^5 - 184*t1^6*t2^3*t4^5 - 316*t1^4*t2^5*t4^5 - 568*t1^2*t2^7*t4^5 + 758*t2^9*t4^5 + 310*t1^8*t3*t4^5 - 2184*t1^6*t2^2*t3*t4^5 - 140*t1^4*t2^4*t3*t4^5 + 344*t1^2*t2^6*t3*t4^5 - 3450*t2^8*t3*t4^5 - 2184*t1^6*t2*t3^2*t4^5 + 5704*t1^4*t2^3*t3^2*t4^5 + 7752*t1^2*t2^5*t3^2*t4^5 + 376*t2^7*t3^2*t4^5 - 184*t1^6*t3^3*t4^5 + 5704*t1^4*t2^2*t3^3*t4^5 - 17256*t1^2*t2^4*t3^3*t4^5 + 3288*t2^6*t3^3*t4^5 - 140*t1^4*t2*t3^4*t4^5 - 17256*t1^2*t2^3*t3^4*t4^5 + 1588*t2^5*t3^4*t4^5 - 316*t1^4*t3^5*t4^5 + 7752*t1^2*t2^2*t3^5*t4^5 + 1588*t2^4*t3^5*t4^5 + 344*t1^2*t2*t3^6*t4^5 + 3288*t2^3*t3^6*t4^5 - 568*t1^2*t3^7*t4^5 + 376*t2^2*t3^7*t4^5 - 3450*t2*t3^8*t4^5 + 758*t3^9*t4^5 - 155*t1^8*t4^6 + 820*t1^6*t2^2*t4^6 + 310*t1^4*t2^4*t4^6 + 548*t1^2*t2^6*t4^6 + 13*t2^8*t4^6 + 1000*t1^6*t2*t3*t4^6 + 1368*t1^4*t2^3*t3*t4^6 + 344*t1^2*t2^5*t3*t4^6 + 3560*t2^7*t3*t4^6 + 820*t1^6*t3^2*t4^6 - 9052*t1^4*t2^2*t3^2*t4^6 - 4900*t1^2*t2^4*t3^2*t4^6 - 8628*t2^6*t3^2*t4^6 + 1368*t1^4*t2*t3^3*t4^6 + 16208*t1^2*t2^3*t3^3*t4^6 + 3288*t2^5*t3^3*t4^6 + 310*t1^4*t3^4*t4^6 - 4900*t1^2*t2^2*t3^4*t4^6 - 5938*t2^4*t3^4*t4^6 + 344*t1^2*t2*t3^5*t4^6 + 3288*t2^3*t3^5*t4^6 + 548*t1^2*t3^6*t4^6 - 8628*t2^2*t3^6*t4^6 + 3560*t2*t3^7*t4^6 + 13*t3^8*t4^6 - 520*t1^6*t2*t4^7 - 568*t1^4*t2^3*t4^7 - 568*t1^2*t2^5*t4^7 - 1032*t2^7*t4^7 - 520*t1^6*t3*t4^7 + 2552*t1^4*t2^2*t3*t4^7 + 2856*t1^2*t2^4*t3*t4^7 + 3560*t2^6*t3*t4^7 + 2552*t1^4*t2*t3^2*t4^7 - 2032*t1^2*t2^3*t3^2*t4^7 + 376*t2^5*t3^2*t4^7 - 568*t1^4*t3^3*t4^7 - 2032*t1^2*t2^2*t3^3*t4^7 + 680*t2^4*t3^3*t4^7 + 2856*t1^2*t2*t3^4*t4^7 + 680*t2^3*t3^4*t4^7 - 568*t1^2*t3^5*t4^7 + 376*t2^2*t3^5*t4^7 + 3560*t2*t3^6*t4^7 - 1032*t3^7*t4^7 + 195*t1^6*t4^8 - 425*t1^4*t2^2*t4^8 - 359*t1^2*t2^4*t4^8 + 13*t2^6*t4^8 - 1690*t1^4*t2*t3*t4^8 - 2828*t1^2*t2^3*t3*t4^8 - 3450*t2^5*t3*t4^8 - 425*t1^4*t3^2*t4^8 + 5382*t1^2*t2^2*t3^2*t4^8 + 5715*t2^4*t3^2*t4^8 - 2828*t1^2*t2*t3^3*t4^8 - 4684*t2^3*t3^3*t4^8 - 359*t1^2*t3^4*t4^8 + 5715*t2^2*t3^4*t4^8 - 3450*t2*t3^5*t4^8 + 13*t3^6*t4^8 + 470*t1^4*t2*t4^9 + 788*t1^2*t2^3*t4^9 + 758*t2^5*t4^9 + 470*t1^4*t3*t4^9 - 1332*t1^2*t2^2*t3*t4^9 - 1730*t2^4*t3*t4^9 - 1332*t1^2*t2*t3^2*t4^9 - 628*t2^3*t3^2*t4^9 + 788*t1^2*t3^3*t4^9 - 628*t2^2*t3^3*t4^9 - 1730*t2*t3^4*t4^9 + 758*t3^5*t4^9 - 141*t1^4*t4^10 + 30*t1^2*t2^2*t4^10 - 33*t2^4*t4^10 + 1180*t1^2*t2*t3*t4^10 + 1628*t2^3*t3*t4^10 + 30*t1^2*t3^2*t4^10 - 1430*t2^2*t3^2*t4^10 + 1628*t2*t3^3*t4^10 - 33*t3^4*t4^10 - 220*t1^2*t2*t4^11 - 284*t2^3*t4^11 - 220*t1^2*t3*t4^11 + 252*t2^2*t3*t4^11 + 252*t2*t3^2*t4^11 - 284*t3^3*t4^11 + 55*t1^2*t4^12 + 29*t2^2*t4^12 - 302*t2*t3*t4^12 + 29*t3^2*t4^12 + 42*t2*t4^13 + 42*t3*t4^13 - 9*t4^14'"
      ]
     },
     "execution_count": 47,
     "metadata": {},
     "output_type": "execute_result"
    }
   ],
   "source": [
    "str(denominator(cn_list(1,v,sgn[1])))"
   ]
  },
  {
   "cell_type": "code",
   "execution_count": 42,
   "metadata": {},
   "outputs": [
    {
     "data": {
      "text/html": [
       "x1*x2*x3^-1*x4 + x1*x2^-1*x3*x4 + x1^-1*x2*x3*x4 - x1*x2^-1*x3^-1*x4 - x1^-1*x2*x3^-1*x4 - x1^-1*x2^-1*x3*x4 + x1^-1*x2^-1*x3^-1*x4"
      ],
      "text/plain": [
       "'x1*x2*x3^-1*x4 + x1*x2^-1*x3*x4 + x1^-1*x2*x3*x4 - x1*x2^-1*x3^-1*x4 - x1^-1*x2*x3^-1*x4 - x1^-1*x2^-1*x3*x4 + x1^-1*x2^-1*x3^-1*x4'"
      ]
     },
     "execution_count": 42,
     "metadata": {},
     "output_type": "execute_result"
    }
   ],
   "source": [
    "str(sqrtTvir(fixed_locus(1)[0],w=(x1,x2,x3,x4)))"
   ]
  },
  {
   "cell_type": "code",
   "execution_count": 19,
   "metadata": {},
   "outputs": [
    {
     "data": {
      "text/html": [
       "<html><script type=\"math/tex; mode=display\">\\newcommand{\\Bold}[1]{\\mathbf{#1}}\\left[\\left(1, x_{1}\\right), \\left(1, x_{2}\\right)\\right]</script></html>"
      ],
      "text/latex": [
       "$$\\newcommand{\\Bold}[1]{\\mathbf{#1}}\\left[\\left(1, x_{1}\\right), \\left(1, x_{2}\\right)\\right]$$"
      ],
      "text/plain": [
       "[(1, x1), (1, x2)]"
      ]
     },
     "execution_count": 19,
     "metadata": {},
     "output_type": "execute_result"
    }
   ],
   "source": [
    "list(x1+x2)"
   ]
  },
  {
   "cell_type": "code",
   "execution_count": 21,
   "metadata": {},
   "outputs": [
    {
     "data": {
      "text/html": [
       "<html><script type=\"math/tex; mode=display\">\\newcommand{\\Bold}[1]{\\mathbf{#1}}\\left[\\left(1, x_{2}^{2} x_{3}^{-2}\\right), \\left(1, 1\\right), \\left(1, x_{3}^{-2}\\right), \\left(1, x_{3}^{-4}\\right)\\right]</script></html>"
      ],
      "text/latex": [
       "$$\\newcommand{\\Bold}[1]{\\mathbf{#1}}\\left[\\left(1, x_{2}^{2} x_{3}^{-2}\\right), \\left(1, 1\\right), \\left(1, x_{3}^{-2}\\right), \\left(1, x_{3}^{-4}\\right)\\right]$$"
      ],
      "text/plain": [
       "[(1, x2^2*x3^-2), (1, 1), (1, x3^-2), (1, x3^-4)]"
      ]
     },
     "execution_count": 21,
     "metadata": {},
     "output_type": "execute_result"
    }
   ],
   "source": [
    "list(character(fixed_locus(4)[3],v[2]))"
   ]
  },
  {
   "cell_type": "code",
   "execution_count": 89,
   "metadata": {},
   "outputs": [
    {
     "data": {
      "text/html": [
       "<html><script type=\"math/tex; mode=display\">\\newcommand{\\Bold}[1]{\\mathbf{#1}}\\frac{{\\left(x_{1} x_{2} + 1\\right)} {\\left(x_{1} x_{2} - 1\\right)} {\\left(x_{1} x_{3} + 1\\right)} {\\left(x_{1} x_{3} - 1\\right)} {\\left(x_{2} x_{3} + 1\\right)} {\\left(x_{2} x_{3} - 1\\right)} w {\\left(y - 1\\right)}}{{\\left(x_{1} x_{2} x_{3} + 1\\right)} {\\left(x_{1} x_{2} x_{3} - 1\\right)} {\\left(x_{1} + 1\\right)} {\\left(x_{1} - 1\\right)} {\\left(x_{2} + 1\\right)} {\\left(x_{2} - 1\\right)} {\\left(x_{3} + 1\\right)} {\\left(x_{3} - 1\\right)} y}</script></html>"
      ],
      "text/latex": [
       "$$\\newcommand{\\Bold}[1]{\\mathbf{#1}}\\frac{{\\left(x_{1} x_{2} + 1\\right)} {\\left(x_{1} x_{2} - 1\\right)} {\\left(x_{1} x_{3} + 1\\right)} {\\left(x_{1} x_{3} - 1\\right)} {\\left(x_{2} x_{3} + 1\\right)} {\\left(x_{2} x_{3} - 1\\right)} w {\\left(y - 1\\right)}}{{\\left(x_{1} x_{2} x_{3} + 1\\right)} {\\left(x_{1} x_{2} x_{3} - 1\\right)} {\\left(x_{1} + 1\\right)} {\\left(x_{1} - 1\\right)} {\\left(x_{2} + 1\\right)} {\\left(x_{2} - 1\\right)} {\\left(x_{3} + 1\\right)} {\\left(x_{3} - 1\\right)} y}$$"
      ],
      "text/plain": [
       "(x1*x2 + 1)*(x1*x2 - 1)*(x1*x3 + 1)*(x1*x3 - 1)*(x2*x3 + 1)*(x2*x3 - 1)*w*(y - 1)/((x1*x2*x3 + 1)*(x1*x2*x3 - 1)*(x1 + 1)*(x1 - 1)*(x2 + 1)*(x2 - 1)*(x3 + 1)*(x3 - 1)*y)"
      ]
     },
     "execution_count": 89,
     "metadata": {},
     "output_type": "execute_result"
    }
   ],
   "source": [
    "pretty(cut(Nek(1,v[0]))(x4=(x1*x2*x3)^-1))"
   ]
  },
  {
   "cell_type": "code",
   "execution_count": 121,
   "metadata": {},
   "outputs": [
    {
     "data": {
      "text/html": [
       "<html><script type=\"math/tex; mode=display\">\\newcommand{\\Bold}[1]{\\mathbf{#1}}-{\\left(x_{1} x_{2}^{3} - x_{3} x_{4}\\right)} {\\left(x_{1} x_{3}^{3} - x_{2} x_{4}\\right)} {\\left(x_{1} x_{2} x_{3} x_{4} - 1\\right)} {\\left(x_{1} x_{4}^{3} - x_{2} x_{3}\\right)} {\\left(x_{2}^{3} - x_{1} x_{3} x_{4}\\right)} {\\left(x_{1} x_{2} x_{3} - x_{4}^{3}\\right)} {\\left(x_{1} x_{2} x_{3} - x_{4}\\right)} {\\left(x_{3}^{3} - x_{1} x_{2} x_{4}\\right)} {\\left(x_{1} x_{2} x_{4} - x_{3}\\right)} {\\left(x_{1} x_{3} x_{4} - x_{2}\\right)} {\\left(x_{2} x_{3} x_{4} - x_{1}\\right)} {\\left(x_{1} x_{2} - x_{3} x_{4}\\right)} {\\left(x_{1} x_{3} - x_{2} x_{4}\\right)} {\\left(x_{2} x_{3} - x_{1} x_{4}\\right)} u_{1} u_{2} u_{3} u_{4} x_{2} x_{3} x_{4} y</script></html>"
      ],
      "text/latex": [
       "$$\\newcommand{\\Bold}[1]{\\mathbf{#1}}-{\\left(x_{1} x_{2}^{3} - x_{3} x_{4}\\right)} {\\left(x_{1} x_{3}^{3} - x_{2} x_{4}\\right)} {\\left(x_{1} x_{2} x_{3} x_{4} - 1\\right)} {\\left(x_{1} x_{4}^{3} - x_{2} x_{3}\\right)} {\\left(x_{2}^{3} - x_{1} x_{3} x_{4}\\right)} {\\left(x_{1} x_{2} x_{3} - x_{4}^{3}\\right)} {\\left(x_{1} x_{2} x_{3} - x_{4}\\right)} {\\left(x_{3}^{3} - x_{1} x_{2} x_{4}\\right)} {\\left(x_{1} x_{2} x_{4} - x_{3}\\right)} {\\left(x_{1} x_{3} x_{4} - x_{2}\\right)} {\\left(x_{2} x_{3} x_{4} - x_{1}\\right)} {\\left(x_{1} x_{2} - x_{3} x_{4}\\right)} {\\left(x_{1} x_{3} - x_{2} x_{4}\\right)} {\\left(x_{2} x_{3} - x_{1} x_{4}\\right)} u_{1} u_{2} u_{3} u_{4} x_{2} x_{3} x_{4} y$$"
      ],
      "text/plain": [
       "-(x1*x2^3 - x3*x4)*(x1*x3^3 - x2*x4)*(x1*x2*x3*x4 - 1)*(x1*x4^3 - x2*x3)*(x2^3 - x1*x3*x4)*(x1*x2*x3 - x4^3)*(x1*x2*x3 - x4)*(x3^3 - x1*x2*x4)*(x1*x2*x4 - x3)*(x1*x3*x4 - x2)*(x2*x3*x4 - x1)*(x1*x2 - x3*x4)*(x1*x3 - x2*x4)*(x2*x3 - x1*x4)*u1*u2*u3*u4*x2*x3*x4*y"
      ]
     },
     "execution_count": 121,
     "metadata": {},
     "output_type": "execute_result"
    }
   ],
   "source": [
    "pretty(denominator(cut(Nek_list(1,v,total[0]))))"
   ]
  },
  {
   "cell_type": "code",
   "execution_count": 122,
   "metadata": {},
   "outputs": [
    {
     "data": {
      "text/html": [
       "<html><script type=\"math/tex; mode=display\">\\newcommand{\\Bold}[1]{\\mathbf{#1}}\\frac{{\\left(x_{2}^{3} - x_{1} x_{3} x_{4}\\right)} {\\left(x_{1} x_{2} x_{3} - x_{4}\\right)} {\\left(x_{1} x_{2} x_{4} - x_{3}\\right)} {\\left(x_{1} x_{2} - x_{3} x_{4}\\right)} u_{2}^{3} w x_{1} x_{3} x_{4} {\\left(y - 1\\right)}}{{\\left(x_{1} x_{2}^{3} - x_{3} x_{4}\\right)} {\\left(x_{1} x_{3} x_{4} - x_{2}\\right)} {\\left(x_{1} x_{3} - x_{2} x_{4}\\right)} {\\left(x_{2} x_{3} - x_{1} x_{4}\\right)} u_{1} u_{3} u_{4} x_{2}^{3} y}</script></html>"
      ],
      "text/latex": [
       "$$\\newcommand{\\Bold}[1]{\\mathbf{#1}}\\frac{{\\left(x_{2}^{3} - x_{1} x_{3} x_{4}\\right)} {\\left(x_{1} x_{2} x_{3} - x_{4}\\right)} {\\left(x_{1} x_{2} x_{4} - x_{3}\\right)} {\\left(x_{1} x_{2} - x_{3} x_{4}\\right)} u_{2}^{3} w x_{1} x_{3} x_{4} {\\left(y - 1\\right)}}{{\\left(x_{1} x_{2}^{3} - x_{3} x_{4}\\right)} {\\left(x_{1} x_{3} x_{4} - x_{2}\\right)} {\\left(x_{1} x_{3} - x_{2} x_{4}\\right)} {\\left(x_{2} x_{3} - x_{1} x_{4}\\right)} u_{1} u_{3} u_{4} x_{2}^{3} y}$$"
      ],
      "text/plain": [
       "(x2^3 - x1*x3*x4)*(x1*x2*x3 - x4)*(x1*x2*x4 - x3)*(x1*x2 - x3*x4)*u2^3*w*x1*x3*x4*(y - 1)/((x1*x2^3 - x3*x4)*(x1*x3*x4 - x2)*(x1*x3 - x2*x4)*(x2*x3 - x1*x4)*u1*u3*u4*x2^3*y)"
      ]
     },
     "execution_count": 122,
     "metadata": {},
     "output_type": "execute_result"
    }
   ],
   "source": [
    "pretty(Nek(1,v[1]))"
   ]
  },
  {
   "cell_type": "code",
   "execution_count": 42,
   "metadata": {},
   "outputs": [
    {
     "data": {
      "text/html": [
       "<html><script type=\"math/tex; mode=display\">\\newcommand{\\Bold}[1]{\\mathbf{#1}}-\\frac{{\\left(x_{1} x_{2} - x_{3} x_{4}\\right)} {\\left(x_{1} x_{3} - x_{2} x_{4}\\right)} {\\left(x_{2} x_{3} - x_{1} x_{4}\\right)} w x_{1} x_{2} x_{3} x_{4} {\\left(y - 1\\right)}}{{\\left(x_{1} x_{2} x_{3} - x_{4}\\right)} {\\left(x_{1} x_{2} x_{4} - x_{3}\\right)} {\\left(x_{1} x_{3} x_{4} - x_{2}\\right)} {\\left(x_{2} x_{3} x_{4} - x_{1}\\right)} u_{1} u_{2} u_{3} u_{4} y}</script></html>"
      ],
      "text/latex": [
       "$$\\newcommand{\\Bold}[1]{\\mathbf{#1}}-\\frac{{\\left(x_{1} x_{2} - x_{3} x_{4}\\right)} {\\left(x_{1} x_{3} - x_{2} x_{4}\\right)} {\\left(x_{2} x_{3} - x_{1} x_{4}\\right)} w x_{1} x_{2} x_{3} x_{4} {\\left(y - 1\\right)}}{{\\left(x_{1} x_{2} x_{3} - x_{4}\\right)} {\\left(x_{1} x_{2} x_{4} - x_{3}\\right)} {\\left(x_{1} x_{3} x_{4} - x_{2}\\right)} {\\left(x_{2} x_{3} x_{4} - x_{1}\\right)} u_{1} u_{2} u_{3} u_{4} y}$$"
      ],
      "text/plain": [
       "-(x1*x2 - x3*x4)*(x1*x3 - x2*x4)*(x2*x3 - x1*x4)*w*x1*x2*x3*x4*(y - 1)/((x1*x2*x3 - x4)*(x1*x2*x4 - x3)*(x1*x3*x4 - x2)*(x2*x3*x4 - x1)*u1*u2*u3*u4*y)"
      ]
     },
     "execution_count": 42,
     "metadata": {},
     "output_type": "execute_result"
    }
   ],
   "source": [
    "pretty(Nek(1,v[0]))"
   ]
  },
  {
   "cell_type": "code",
   "execution_count": 91,
   "metadata": {},
   "outputs": [
    {
     "data": {
      "text/html": [
       "-(x1*x2*x3 - x4)*(x1*x2*x4 - x3)*(x1*x3*x4 - x2)*(x2*x3*x4 - x1)*u1*u2*u3*u4*y"
      ],
      "text/plain": [
       "'-(x1*x2*x3 - x4)*(x1*x2*x4 - x3)*(x1*x3*x4 - x2)*(x2*x3*x4 - x1)*u1*u2*u3*u4*y'"
      ]
     },
     "execution_count": 91,
     "metadata": {},
     "output_type": "execute_result"
    }
   ],
   "source": [
    "str(pretty(denominator(Nek(1))))"
   ]
  },
  {
   "cell_type": "code",
   "execution_count": 3,
   "metadata": {},
   "outputs": [
    {
     "data": {
      "text/html": [
       "<html><script type=\"math/tex; mode=display\">\\newcommand{\\Bold}[1]{\\mathbf{#1}}\\frac{8 \\, w {\\left(y - 1\\right)}}{y}</script></html>"
      ],
      "text/latex": [
       "$$\\newcommand{\\Bold}[1]{\\mathbf{#1}}\\frac{8 \\, w {\\left(y - 1\\right)}}{y}$$"
      ],
      "text/plain": [
       "8*w*(y - 1)/y"
      ]
     },
     "execution_count": 3,
     "metadata": {},
     "output_type": "execute_result"
    }
   ],
   "source": [
    "pretty(Nek_list(1,v,total[0]))"
   ]
  },
  {
   "cell_type": "code",
   "execution_count": 4,
   "metadata": {},
   "outputs": [
    {
     "name": "stdout",
     "output_type": "stream",
     "text": [
      "1/3*w^2*(y - 1)^2/y^2\n",
      "-w^2*(y - 1)^2/y^2\n",
      "w^2*(y - 1)^2/y^2\n",
      "w^2*(y - 1)^2/y^2\n",
      "1/3*w^2*(y - 1)^2/y^2\n",
      "-w^2*(y - 1)^2/y^2\n",
      "w^2*(y - 1)^2/y^2\n",
      "w^2*(y - 1)^2/y^2\n",
      "3/5*w^2*(y - 1)^2/y^2\n",
      "-3/5*w^2*(y - 1)^2/y^2\n",
      "w^2*(y - 1)^2/y^2\n",
      "3/5*w^2*(y - 1)^2/y^2\n",
      "w^2*(y - 1)^2/y^2\n",
      "-1/3*w^2*(y - 1)^2/y^2\n",
      "w^2*(y - 1)^2/y^2\n",
      "w^2*(y - 1)^2/y^2\n",
      "1/3*w^2*(y - 1)^2/y^2\n",
      "-w^2*(y - 1)^2/y^2\n",
      "w^2*(y - 1)^2/y^2\n",
      "w^2*(y - 1)^2/y^2\n",
      "1/3*w^2*(y - 1)^2/y^2\n",
      "-w^2*(y - 1)^2/y^2\n",
      "w^2*(y - 1)^2/y^2\n",
      "w^2*(y - 1)^2/y^2\n",
      "3/5*w^2*(y - 1)^2/y^2\n",
      "-3/5*w^2*(y - 1)^2/y^2\n",
      "w^2*(y - 1)^2/y^2\n",
      "3/5*w^2*(y - 1)^2/y^2\n",
      "w^2*(y - 1)^2/y^2\n",
      "-1/3*w^2*(y - 1)^2/y^2\n",
      "w^2*(y - 1)^2/y^2\n",
      "w^2*(y - 1)^2/y^2\n"
     ]
    },
    {
     "data": {
      "text/html": [
       "<html><script type=\"math/tex; mode=display\">\\newcommand{\\Bold}[1]{\\mathbf{#1}}\\frac{208 \\, w^{2} {\\left(y - 1\\right)}^{2}}{15 \\, y^{2}}</script></html>"
      ],
      "text/latex": [
       "$$\\newcommand{\\Bold}[1]{\\mathbf{#1}}\\frac{208 \\, w^{2} {\\left(y - 1\\right)}^{2}}{15 \\, y^{2}}$$"
      ],
      "text/plain": [
       "208/15*w^2*(y - 1)^2/y^2"
      ]
     },
     "execution_count": 4,
     "metadata": {},
     "output_type": "execute_result"
    }
   ],
   "source": [
    "pretty(Nek_list(2,v,total[0]))"
   ]
  },
  {
   "cell_type": "code",
   "execution_count": 2,
   "metadata": {
    "scrolled": true
   },
   "outputs": [
    {
     "data": {
      "text/html": [
       "<html><script type=\"math/tex; mode=display\">\\newcommand{\\Bold}[1]{\\mathbf{#1}}\\frac{8 \\, w {\\left(y - 1\\right)}}{y}</script></html>"
      ],
      "text/latex": [
       "$$\\newcommand{\\Bold}[1]{\\mathbf{#1}}\\frac{8 \\, w {\\left(y - 1\\right)}}{y}$$"
      ],
      "text/plain": [
       "8*w*(y - 1)/y"
      ]
     },
     "execution_count": 2,
     "metadata": {},
     "output_type": "execute_result"
    }
   ],
   "source": [
    "pretty(Nek_list(1,v,total[0])(x1=1,x2=1,x3=1,u1=1,u2=1,u3=1,u4=1)(x4=1))"
   ]
  },
  {
   "cell_type": "code",
   "execution_count": 74,
   "metadata": {},
   "outputs": [
    {
     "name": "stdout",
     "output_type": "stream",
     "text": [
      "0\n",
      "-2*w*x1*(y - 1)/((x1 - 1)*y)\n",
      "-2*w*x1*(y - 1)/((x1 - 1)*y)\n",
      "-4*w*x1*(y - 1)/((x1 - 1)*y)\n",
      "-2*w*x1*(y - 1)/((x1 - 1)*y)\n",
      "-4*w*x1*(y - 1)/((x1 - 1)*y)\n",
      "-4*w*x1*(y - 1)/((x1 - 1)*y)\n",
      "-6*w*x1*(y - 1)/((x1 - 1)*y)\n",
      "-2*w*x1*(y - 1)/((x1 - 1)*y)\n",
      "-4*w*x1*(y - 1)/((x1 - 1)*y)\n",
      "-4*w*x1*(y - 1)/((x1 - 1)*y)\n",
      "-6*w*x1*(y - 1)/((x1 - 1)*y)\n",
      "-4*w*x1*(y - 1)/((x1 - 1)*y)\n",
      "-6*w*x1*(y - 1)/((x1 - 1)*y)\n",
      "-6*w*x1*(y - 1)/((x1 - 1)*y)\n",
      "-8*w*x1*(y - 1)/((x1 - 1)*y)\n",
      "2*w*x1*(y - 1)/((x1 - 1)*y)\n",
      "0\n",
      "0\n",
      "-2*w*x1*(y - 1)/((x1 - 1)*y)\n",
      "0\n",
      "-2*w*x1*(y - 1)/((x1 - 1)*y)\n",
      "-2*w*x1*(y - 1)/((x1 - 1)*y)\n",
      "-4*w*x1*(y - 1)/((x1 - 1)*y)\n",
      "0\n",
      "-2*w*x1*(y - 1)/((x1 - 1)*y)\n",
      "-2*w*x1*(y - 1)/((x1 - 1)*y)\n",
      "-4*w*x1*(y - 1)/((x1 - 1)*y)\n",
      "-2*w*x1*(y - 1)/((x1 - 1)*y)\n",
      "-4*w*x1*(y - 1)/((x1 - 1)*y)\n",
      "-4*w*x1*(y - 1)/((x1 - 1)*y)\n",
      "-6*w*x1*(y - 1)/((x1 - 1)*y)\n",
      "2*w*x1*(y - 1)/((x1 - 1)*y)\n",
      "0\n",
      "0\n",
      "-2*w*x1*(y - 1)/((x1 - 1)*y)\n",
      "0\n",
      "-2*w*x1*(y - 1)/((x1 - 1)*y)\n",
      "-2*w*x1*(y - 1)/((x1 - 1)*y)\n",
      "-4*w*x1*(y - 1)/((x1 - 1)*y)\n",
      "0\n",
      "-2*w*x1*(y - 1)/((x1 - 1)*y)\n",
      "-2*w*x1*(y - 1)/((x1 - 1)*y)\n",
      "-4*w*x1*(y - 1)/((x1 - 1)*y)\n",
      "-2*w*x1*(y - 1)/((x1 - 1)*y)\n",
      "-4*w*x1*(y - 1)/((x1 - 1)*y)\n",
      "-4*w*x1*(y - 1)/((x1 - 1)*y)\n",
      "-6*w*x1*(y - 1)/((x1 - 1)*y)\n",
      "4*w*x1*(y - 1)/((x1 - 1)*y)\n",
      "2*w*x1*(y - 1)/((x1 - 1)*y)\n",
      "2*w*x1*(y - 1)/((x1 - 1)*y)\n",
      "0\n",
      "2*w*x1*(y - 1)/((x1 - 1)*y)\n",
      "0\n",
      "0\n",
      "-2*w*x1*(y - 1)/((x1 - 1)*y)\n",
      "2*w*x1*(y - 1)/((x1 - 1)*y)\n",
      "0\n",
      "0\n",
      "-2*w*x1*(y - 1)/((x1 - 1)*y)\n",
      "0\n",
      "-2*w*x1*(y - 1)/((x1 - 1)*y)\n",
      "-2*w*x1*(y - 1)/((x1 - 1)*y)\n",
      "-4*w*x1*(y - 1)/((x1 - 1)*y)\n",
      "2*w*x1*(y - 1)/((x1 - 1)*y)\n",
      "0\n",
      "0\n",
      "-2*w*x1*(y - 1)/((x1 - 1)*y)\n",
      "0\n",
      "-2*w*x1*(y - 1)/((x1 - 1)*y)\n",
      "-2*w*x1*(y - 1)/((x1 - 1)*y)\n",
      "-4*w*x1*(y - 1)/((x1 - 1)*y)\n",
      "0\n",
      "-2*w*x1*(y - 1)/((x1 - 1)*y)\n",
      "-2*w*x1*(y - 1)/((x1 - 1)*y)\n",
      "-4*w*x1*(y - 1)/((x1 - 1)*y)\n",
      "-2*w*x1*(y - 1)/((x1 - 1)*y)\n",
      "-4*w*x1*(y - 1)/((x1 - 1)*y)\n",
      "-4*w*x1*(y - 1)/((x1 - 1)*y)\n",
      "-6*w*x1*(y - 1)/((x1 - 1)*y)\n",
      "4*w*x1*(y - 1)/((x1 - 1)*y)\n",
      "2*w*x1*(y - 1)/((x1 - 1)*y)\n",
      "2*w*x1*(y - 1)/((x1 - 1)*y)\n",
      "0\n",
      "2*w*x1*(y - 1)/((x1 - 1)*y)\n",
      "0\n",
      "0\n",
      "-2*w*x1*(y - 1)/((x1 - 1)*y)\n",
      "2*w*x1*(y - 1)/((x1 - 1)*y)\n",
      "0\n",
      "0\n",
      "-2*w*x1*(y - 1)/((x1 - 1)*y)\n",
      "0\n",
      "-2*w*x1*(y - 1)/((x1 - 1)*y)\n",
      "-2*w*x1*(y - 1)/((x1 - 1)*y)\n",
      "-4*w*x1*(y - 1)/((x1 - 1)*y)\n",
      "4*w*x1*(y - 1)/((x1 - 1)*y)\n",
      "2*w*x1*(y - 1)/((x1 - 1)*y)\n",
      "2*w*x1*(y - 1)/((x1 - 1)*y)\n",
      "0\n",
      "2*w*x1*(y - 1)/((x1 - 1)*y)\n",
      "0\n",
      "0\n",
      "-2*w*x1*(y - 1)/((x1 - 1)*y)\n",
      "2*w*x1*(y - 1)/((x1 - 1)*y)\n",
      "0\n",
      "0\n",
      "-2*w*x1*(y - 1)/((x1 - 1)*y)\n",
      "0\n",
      "-2*w*x1*(y - 1)/((x1 - 1)*y)\n",
      "-2*w*x1*(y - 1)/((x1 - 1)*y)\n",
      "-4*w*x1*(y - 1)/((x1 - 1)*y)\n",
      "6*w*x1*(y - 1)/((x1 - 1)*y)\n",
      "4*w*x1*(y - 1)/((x1 - 1)*y)\n",
      "4*w*x1*(y - 1)/((x1 - 1)*y)\n",
      "2*w*x1*(y - 1)/((x1 - 1)*y)\n",
      "4*w*x1*(y - 1)/((x1 - 1)*y)\n",
      "2*w*x1*(y - 1)/((x1 - 1)*y)\n",
      "2*w*x1*(y - 1)/((x1 - 1)*y)\n",
      "0\n",
      "4*w*x1*(y - 1)/((x1 - 1)*y)\n",
      "2*w*x1*(y - 1)/((x1 - 1)*y)\n",
      "2*w*x1*(y - 1)/((x1 - 1)*y)\n",
      "0\n",
      "2*w*x1*(y - 1)/((x1 - 1)*y)\n",
      "0\n",
      "0\n",
      "-2*w*x1*(y - 1)/((x1 - 1)*y)\n"
     ]
    }
   ],
   "source": [
    "for i in range(len(total)):\n",
    "    print(pretty(cut(Nek_list(1,v,total[i]))(x2=1,x3=1,x4=1,u1=1,u2=1,u3=1,u4=1)))"
   ]
  },
  {
   "cell_type": "code",
   "execution_count": 71,
   "metadata": {},
   "outputs": [
    {
     "data": {
      "text/html": [
       "<html><script type=\"math/tex; mode=display\">\\newcommand{\\Bold}[1]{\\mathbf{#1}}-\\frac{8 \\, w x_{1} {\\left(y - 1\\right)}}{{\\left(x_{1} - 1\\right)} y}</script></html>"
      ],
      "text/latex": [
       "$$\\newcommand{\\Bold}[1]{\\mathbf{#1}}-\\frac{8 \\, w x_{1} {\\left(y - 1\\right)}}{{\\left(x_{1} - 1\\right)} y}$$"
      ],
      "text/plain": [
       "-8*w*x1*(y - 1)/((x1 - 1)*y)"
      ]
     },
     "execution_count": 71,
     "metadata": {},
     "output_type": "execute_result"
    }
   ],
   "source": [
    "pretty(cut(Nek_list(1,v,total[15]))(x2=1,x3=1,x4=1,u1=1,u2=1,u3=1,u4=1))"
   ]
  },
  {
   "cell_type": "code",
   "execution_count": 69,
   "metadata": {},
   "outputs": [
    {
     "data": {
      "text/html": [
       "<html><script type=\"math/tex; mode=display\">\\newcommand{\\Bold}[1]{\\mathbf{#1}}-\\frac{{\\left(x_{1} x_{2} - x_{3} x_{4}\\right)} {\\left(x_{1} x_{3} - x_{2} x_{4}\\right)} {\\left(x_{2} x_{3} - x_{1} x_{4}\\right)} w x_{1} x_{2} x_{3} x_{4} {\\left(y - 1\\right)}}{{\\left(x_{1} x_{2} x_{3} - x_{4}\\right)} {\\left(x_{1} x_{2} x_{4} - x_{3}\\right)} {\\left(x_{1} x_{3} x_{4} - x_{2}\\right)} {\\left(x_{2} x_{3} x_{4} - x_{1}\\right)} u_{1} u_{2} u_{3} u_{4} y}</script></html>"
      ],
      "text/latex": [
       "$$\\newcommand{\\Bold}[1]{\\mathbf{#1}}-\\frac{{\\left(x_{1} x_{2} - x_{3} x_{4}\\right)} {\\left(x_{1} x_{3} - x_{2} x_{4}\\right)} {\\left(x_{2} x_{3} - x_{1} x_{4}\\right)} w x_{1} x_{2} x_{3} x_{4} {\\left(y - 1\\right)}}{{\\left(x_{1} x_{2} x_{3} - x_{4}\\right)} {\\left(x_{1} x_{2} x_{4} - x_{3}\\right)} {\\left(x_{1} x_{3} x_{4} - x_{2}\\right)} {\\left(x_{2} x_{3} x_{4} - x_{1}\\right)} u_{1} u_{2} u_{3} u_{4} y}$$"
      ],
      "text/plain": [
       "-(x1*x2 - x3*x4)*(x1*x3 - x2*x4)*(x2*x3 - x1*x4)*w*x1*x2*x3*x4*(y - 1)/((x1*x2*x3 - x4)*(x1*x2*x4 - x3)*(x1*x3*x4 - x2)*(x2*x3*x4 - x1)*u1*u2*u3*u4*y)"
      ]
     },
     "execution_count": 69,
     "metadata": {},
     "output_type": "execute_result"
    }
   ],
   "source": [
    "pretty(Nek(1,v[0]))"
   ]
  },
  {
   "cell_type": "code",
   "execution_count": 70,
   "metadata": {},
   "outputs": [
    {
     "data": {
      "text/html": [
       "<html><script type=\"math/tex; mode=display\">\\newcommand{\\Bold}[1]{\\mathbf{#1}}\\frac{x_{1} u_{1} - u_{1}}{x_{1}}</script></html>"
      ],
      "text/latex": [
       "$$\\newcommand{\\Bold}[1]{\\mathbf{#1}}\\frac{x_{1} u_{1} - u_{1}}{x_{1}}$$"
      ],
      "text/plain": [
       "(x1*u1 - u1)/x1"
      ]
     },
     "execution_count": 70,
     "metadata": {},
     "output_type": "execute_result"
    }
   ],
   "source": [
    "NekBracket(x1)"
   ]
  },
  {
   "cell_type": "code",
   "execution_count": 163,
   "metadata": {},
   "outputs": [
    {
     "data": {
      "text/html": [
       "<html><script type=\"math/tex; mode=display\">\\newcommand{\\Bold}[1]{\\mathbf{#1}}0</script></html>"
      ],
      "text/latex": [
       "$$\\newcommand{\\Bold}[1]{\\mathbf{#1}}0$$"
      ],
      "text/plain": [
       "0"
      ]
     },
     "execution_count": 163,
     "metadata": {},
     "output_type": "execute_result"
    }
   ],
   "source": [
    "v=w[4]\n",
    "sqrtTvir(fixed_locus(2)[1],v)+dual(sqrtTvir(fixed_locus(2)[1],v))-Tvir(fixed_locus(2)[1],v)(x4=x4)"
   ]
  },
  {
   "cell_type": "code",
   "execution_count": 156,
   "metadata": {
    "scrolled": true
   },
   "outputs": [
    {
     "data": {
      "text/html": [
       "<html><script type=\"math/tex; mode=display\">\\newcommand{\\Bold}[1]{\\mathbf{#1}}x_{1}^{2} x_{2}^{10} x_{3}^{-6} x_{4}^{-2} + x_{1}^{2} x_{2}^{6} x_{3}^{-2} x_{4}^{-2} - x_{1}^{2} x_{2}^{2} x_{3}^{2} x_{4}^{-2} - x_{1}^{2} x_{2}^{-2} x_{3}^{6} x_{4}^{-2} - x_{1}^{2} x_{2}^{6} x_{3}^{-6} x_{4}^{2} - x_{1}^{2} x_{2}^{2} x_{3}^{-2} x_{4}^{2} + x_{1}^{2} x_{2}^{-2} x_{3}^{2} x_{4}^{2} + x_{1}^{2} x_{2}^{-6} x_{3}^{6} x_{4}^{2} - x_{1}^{2} x_{2}^{6} x_{3}^{-6} x_{4}^{-2} - x_{1}^{2} x_{2}^{2} x_{3}^{-2} x_{4}^{-2} + x_{1}^{2} x_{2}^{-2} x_{3}^{2} x_{4}^{-2} + x_{1}^{-2} x_{2}^{2} x_{3}^{2} x_{4}^{-2} + x_{1}^{2} x_{2}^{-6} x_{3}^{6} x_{4}^{-2} + x_{1}^{-2} x_{2}^{-2} x_{3}^{6} x_{4}^{-2} + x_{1}^{2} x_{2}^{2} x_{3}^{-6} x_{4}^{2} + x_{1}^{-2} x_{2}^{6} x_{3}^{-6} x_{4}^{2} + x_{1}^{2} x_{2}^{-2} x_{3}^{-2} x_{4}^{2} + x_{1}^{-2} x_{2}^{2} x_{3}^{-2} x_{4}^{2} - x_{1}^{-2} x_{2}^{-2} x_{3}^{2} x_{4}^{2} - x_{1}^{-2} x_{2}^{-6} x_{3}^{6} x_{4}^{2} + x_{1}^{-2} x_{2}^{6} x_{3}^{-6} x_{4}^{-2} + x_{1}^{-2} x_{2}^{2} x_{3}^{-2} x_{4}^{-2} - x_{1}^{-2} x_{2}^{-2} x_{3}^{2} x_{4}^{-2} - x_{1}^{-2} x_{2}^{-6} x_{3}^{6} x_{4}^{-2} - x_{1}^{-2} x_{2}^{2} x_{3}^{-6} x_{4}^{2} - x_{1}^{-2} x_{2}^{-2} x_{3}^{-2} x_{4}^{2} + x_{1}^{-2} x_{2}^{-6} x_{3}^{2} x_{4}^{2} + x_{1}^{-2} x_{2}^{-10} x_{3}^{6} x_{4}^{2}</script></html>"
      ],
      "text/latex": [
       "$$\\newcommand{\\Bold}[1]{\\mathbf{#1}}x_{1}^{2} x_{2}^{10} x_{3}^{-6} x_{4}^{-2} + x_{1}^{2} x_{2}^{6} x_{3}^{-2} x_{4}^{-2} - x_{1}^{2} x_{2}^{2} x_{3}^{2} x_{4}^{-2} - x_{1}^{2} x_{2}^{-2} x_{3}^{6} x_{4}^{-2} - x_{1}^{2} x_{2}^{6} x_{3}^{-6} x_{4}^{2} - x_{1}^{2} x_{2}^{2} x_{3}^{-2} x_{4}^{2} + x_{1}^{2} x_{2}^{-2} x_{3}^{2} x_{4}^{2} + x_{1}^{2} x_{2}^{-6} x_{3}^{6} x_{4}^{2} - x_{1}^{2} x_{2}^{6} x_{3}^{-6} x_{4}^{-2} - x_{1}^{2} x_{2}^{2} x_{3}^{-2} x_{4}^{-2} + x_{1}^{2} x_{2}^{-2} x_{3}^{2} x_{4}^{-2} + x_{1}^{-2} x_{2}^{2} x_{3}^{2} x_{4}^{-2} + x_{1}^{2} x_{2}^{-6} x_{3}^{6} x_{4}^{-2} + x_{1}^{-2} x_{2}^{-2} x_{3}^{6} x_{4}^{-2} + x_{1}^{2} x_{2}^{2} x_{3}^{-6} x_{4}^{2} + x_{1}^{-2} x_{2}^{6} x_{3}^{-6} x_{4}^{2} + x_{1}^{2} x_{2}^{-2} x_{3}^{-2} x_{4}^{2} + x_{1}^{-2} x_{2}^{2} x_{3}^{-2} x_{4}^{2} - x_{1}^{-2} x_{2}^{-2} x_{3}^{2} x_{4}^{2} - x_{1}^{-2} x_{2}^{-6} x_{3}^{6} x_{4}^{2} + x_{1}^{-2} x_{2}^{6} x_{3}^{-6} x_{4}^{-2} + x_{1}^{-2} x_{2}^{2} x_{3}^{-2} x_{4}^{-2} - x_{1}^{-2} x_{2}^{-2} x_{3}^{2} x_{4}^{-2} - x_{1}^{-2} x_{2}^{-6} x_{3}^{6} x_{4}^{-2} - x_{1}^{-2} x_{2}^{2} x_{3}^{-6} x_{4}^{2} - x_{1}^{-2} x_{2}^{-2} x_{3}^{-2} x_{4}^{2} + x_{1}^{-2} x_{2}^{-6} x_{3}^{2} x_{4}^{2} + x_{1}^{-2} x_{2}^{-10} x_{3}^{6} x_{4}^{2}$$"
      ],
      "text/plain": [
       "x1^2*x2^10*x3^-6*x4^-2 + x1^2*x2^6*x3^-2*x4^-2 - x1^2*x2^2*x3^2*x4^-2 - x1^2*x2^-2*x3^6*x4^-2 - x1^2*x2^6*x3^-6*x4^2 - x1^2*x2^2*x3^-2*x4^2 + x1^2*x2^-2*x3^2*x4^2 + x1^2*x2^-6*x3^6*x4^2 - x1^2*x2^6*x3^-6*x4^-2 - x1^2*x2^2*x3^-2*x4^-2 + x1^2*x2^-2*x3^2*x4^-2 + x1^-2*x2^2*x3^2*x4^-2 + x1^2*x2^-6*x3^6*x4^-2 + x1^-2*x2^-2*x3^6*x4^-2 + x1^2*x2^2*x3^-6*x4^2 + x1^-2*x2^6*x3^-6*x4^2 + x1^2*x2^-2*x3^-2*x4^2 + x1^-2*x2^2*x3^-2*x4^2 - x1^-2*x2^-2*x3^2*x4^2 - x1^-2*x2^-6*x3^6*x4^2 + x1^-2*x2^6*x3^-6*x4^-2 + x1^-2*x2^2*x3^-2*x4^-2 - x1^-2*x2^-2*x3^2*x4^-2 - x1^-2*x2^-6*x3^6*x4^-2 - x1^-2*x2^2*x3^-6*x4^2 - x1^-2*x2^-2*x3^-2*x4^2 + x1^-2*x2^-6*x3^2*x4^2 + x1^-2*x2^-10*x3^6*x4^2"
      ]
     },
     "execution_count": 156,
     "metadata": {},
     "output_type": "execute_result"
    }
   ],
   "source": [
    "Tvir(fixed_locus(2)[0],w[1])(x4=x4)"
   ]
  },
  {
   "cell_type": "code",
   "execution_count": 58,
   "metadata": {},
   "outputs": [
    {
     "data": {
      "text/html": [
       "<html><script type=\"math/tex; mode=display\">\\newcommand{\\Bold}[1]{\\mathbf{#1}}x_{1}^{2} x_{2}^{2} x_{3}^{2} x_{4}^{-2} + x_{1}^{2} x_{2}^{2} x_{3}^{-2} x_{4}^{2} + x_{1}^{2} x_{2}^{-2} x_{3}^{2} x_{4}^{2} + x_{1}^{-2} x_{2}^{2} x_{3}^{2} x_{4}^{2} - x_{1}^{2} x_{2}^{2} x_{3}^{-2} x_{4}^{-2} - x_{1}^{2} x_{2}^{-2} x_{3}^{2} x_{4}^{-2} - x_{1}^{-2} x_{2}^{2} x_{3}^{2} x_{4}^{-2} - x_{1}^{2} x_{2}^{-2} x_{3}^{-2} x_{4}^{2} - x_{1}^{-2} x_{2}^{2} x_{3}^{-2} x_{4}^{2} - x_{1}^{-2} x_{2}^{-2} x_{3}^{2} x_{4}^{2} + x_{1}^{2} x_{2}^{-2} x_{3}^{-2} x_{4}^{-2} + x_{1}^{-2} x_{2}^{2} x_{3}^{-2} x_{4}^{-2} + x_{1}^{-2} x_{2}^{-2} x_{3}^{2} x_{4}^{-2} + x_{1}^{-2} x_{2}^{-2} x_{3}^{-2} x_{4}^{2}</script></html>"
      ],
      "text/latex": [
       "$$\\newcommand{\\Bold}[1]{\\mathbf{#1}}x_{1}^{2} x_{2}^{2} x_{3}^{2} x_{4}^{-2} + x_{1}^{2} x_{2}^{2} x_{3}^{-2} x_{4}^{2} + x_{1}^{2} x_{2}^{-2} x_{3}^{2} x_{4}^{2} + x_{1}^{-2} x_{2}^{2} x_{3}^{2} x_{4}^{2} - x_{1}^{2} x_{2}^{2} x_{3}^{-2} x_{4}^{-2} - x_{1}^{2} x_{2}^{-2} x_{3}^{2} x_{4}^{-2} - x_{1}^{-2} x_{2}^{2} x_{3}^{2} x_{4}^{-2} - x_{1}^{2} x_{2}^{-2} x_{3}^{-2} x_{4}^{2} - x_{1}^{-2} x_{2}^{2} x_{3}^{-2} x_{4}^{2} - x_{1}^{-2} x_{2}^{-2} x_{3}^{2} x_{4}^{2} + x_{1}^{2} x_{2}^{-2} x_{3}^{-2} x_{4}^{-2} + x_{1}^{-2} x_{2}^{2} x_{3}^{-2} x_{4}^{-2} + x_{1}^{-2} x_{2}^{-2} x_{3}^{2} x_{4}^{-2} + x_{1}^{-2} x_{2}^{-2} x_{3}^{-2} x_{4}^{2}$$"
      ],
      "text/plain": [
       "x1^2*x2^2*x3^2*x4^-2 + x1^2*x2^2*x3^-2*x4^2 + x1^2*x2^-2*x3^2*x4^2 + x1^-2*x2^2*x3^2*x4^2 - x1^2*x2^2*x3^-2*x4^-2 - x1^2*x2^-2*x3^2*x4^-2 - x1^-2*x2^2*x3^2*x4^-2 - x1^2*x2^-2*x3^-2*x4^2 - x1^-2*x2^2*x3^-2*x4^2 - x1^-2*x2^-2*x3^2*x4^2 + x1^2*x2^-2*x3^-2*x4^-2 + x1^-2*x2^2*x3^-2*x4^-2 + x1^-2*x2^-2*x3^2*x4^-2 + x1^-2*x2^-2*x3^-2*x4^2"
      ]
     },
     "execution_count": 58,
     "metadata": {},
     "output_type": "execute_result"
    }
   ],
   "source": [
    "dual(Tvir(fixed_locus(1)[0],w[0])(x4=x4))"
   ]
  },
  {
   "cell_type": "code",
   "execution_count": 51,
   "metadata": {},
   "outputs": [
    {
     "data": {
      "text/html": [
       "<html><script type=\"math/tex; mode=display\">\\newcommand{\\Bold}[1]{\\mathbf{#1}}-\\frac{{\\left(x_{1} x_{2}^{3} + x_{3} x_{4}\\right)}^{2} {\\left(x_{1} x_{2}^{3} - x_{3} x_{4}\\right)}^{2} {\\left(x_{1} x_{3} x_{4} + x_{2}\\right)}^{2} {\\left(x_{1} x_{3} x_{4} - x_{2}\\right)}^{2} {\\left(x_{1} x_{3} + x_{2} x_{4}\\right)}^{2} {\\left(x_{1} x_{3} - x_{2} x_{4}\\right)}^{2} {\\left(x_{2} x_{3} + x_{1} x_{4}\\right)}^{2} {\\left(x_{2} x_{3} - x_{1} x_{4}\\right)}^{2}}{{\\left(x_{1} x_{2} x_{3} + x_{4}\\right)}^{2} {\\left(x_{1} x_{2} x_{3} - x_{4}\\right)}^{2} {\\left(x_{1} x_{2} x_{4} + x_{3}\\right)}^{2} {\\left(x_{1} x_{2} x_{4} - x_{3}\\right)}^{2} {\\left(x_{1} x_{2} + x_{3} x_{4}\\right)}^{2} {\\left(x_{1} x_{2} - x_{3} x_{4}\\right)}^{2} x_{1}^{2} x_{2}^{6} x_{3}^{2} x_{4}^{2}}</script></html>"
      ],
      "text/latex": [
       "$$\\newcommand{\\Bold}[1]{\\mathbf{#1}}-\\frac{{\\left(x_{1} x_{2}^{3} + x_{3} x_{4}\\right)}^{2} {\\left(x_{1} x_{2}^{3} - x_{3} x_{4}\\right)}^{2} {\\left(x_{1} x_{3} x_{4} + x_{2}\\right)}^{2} {\\left(x_{1} x_{3} x_{4} - x_{2}\\right)}^{2} {\\left(x_{1} x_{3} + x_{2} x_{4}\\right)}^{2} {\\left(x_{1} x_{3} - x_{2} x_{4}\\right)}^{2} {\\left(x_{2} x_{3} + x_{1} x_{4}\\right)}^{2} {\\left(x_{2} x_{3} - x_{1} x_{4}\\right)}^{2}}{{\\left(x_{1} x_{2} x_{3} + x_{4}\\right)}^{2} {\\left(x_{1} x_{2} x_{3} - x_{4}\\right)}^{2} {\\left(x_{1} x_{2} x_{4} + x_{3}\\right)}^{2} {\\left(x_{1} x_{2} x_{4} - x_{3}\\right)}^{2} {\\left(x_{1} x_{2} + x_{3} x_{4}\\right)}^{2} {\\left(x_{1} x_{2} - x_{3} x_{4}\\right)}^{2} x_{1}^{2} x_{2}^{6} x_{3}^{2} x_{4}^{2}}$$"
      ],
      "text/plain": [
       "-(x1*x2^3 + x3*x4)^2*(x1*x2^3 - x3*x4)^2*(x1*x3*x4 + x2)^2*(x1*x3*x4 - x2)^2*(x1*x3 + x2*x4)^2*(x1*x3 - x2*x4)^2*(x2*x3 + x1*x4)^2*(x2*x3 - x1*x4)^2/((x1*x2*x3 + x4)^2*(x1*x2*x3 - x4)^2*(x1*x2*x4 + x3)^2*(x1*x2*x4 - x3)^2*(x1*x2 + x3*x4)^2*(x1*x2 - x3*x4)^2*x1^2*x2^6*x3^2*x4^2)"
      ]
     },
     "execution_count": 51,
     "metadata": {},
     "output_type": "execute_result"
    }
   ],
   "source": [
    "pretty(NekBracket(Tvir(fixed_locus(1)[0],w[1])(x4=x4)))"
   ]
  },
  {
   "cell_type": "code",
   "execution_count": 38,
   "metadata": {},
   "outputs": [
    {
     "data": {
      "text/html": [
       "<html><script type=\"math/tex; mode=display\">\\newcommand{\\Bold}[1]{\\mathbf{#1}}-\\frac{{\\left(x_{1} - 1\\right)}^{2}}{x_{1}}</script></html>"
      ],
      "text/latex": [
       "$$\\newcommand{\\Bold}[1]{\\mathbf{#1}}-\\frac{{\\left(x_{1} - 1\\right)}^{2}}{x_{1}}$$"
      ],
      "text/plain": [
       "-(x1 - 1)^2/x1"
      ]
     },
     "execution_count": 38,
     "metadata": {},
     "output_type": "execute_result"
    }
   ],
   "source": [
    "pretty(NekBracket(x1+x1^-1))"
   ]
  },
  {
   "cell_type": "code",
   "execution_count": null,
   "metadata": {},
   "outputs": [],
   "source": []
  },
  {
   "cell_type": "code",
   "execution_count": 23,
   "metadata": {},
   "outputs": [
    {
     "data": {
      "text/html": [
       "<html><script type=\"math/tex; mode=display\">\\newcommand{\\Bold}[1]{\\mathbf{#1}}-x_{1} x_{2} x_{3} + x_{1} x_{2} + x_{1} x_{3} + x_{2} x_{3} - x_{2} - x_{3} + 2 - x_{3}^{-1} - x_{2}^{-1} + x_{2}^{-1} x_{3}^{-1} + x_{1}^{-1} x_{3}^{-1} + x_{1}^{-1} x_{2}^{-1} - x_{1}^{-1} x_{2}^{-1} x_{3}^{-1}</script></html>"
      ],
      "text/latex": [
       "$$\\newcommand{\\Bold}[1]{\\mathbf{#1}}-x_{1} x_{2} x_{3} + x_{1} x_{2} + x_{1} x_{3} + x_{2} x_{3} - x_{2} - x_{3} + 2 - x_{3}^{-1} - x_{2}^{-1} + x_{2}^{-1} x_{3}^{-1} + x_{1}^{-1} x_{3}^{-1} + x_{1}^{-1} x_{2}^{-1} - x_{1}^{-1} x_{2}^{-1} x_{3}^{-1}$$"
      ],
      "text/plain": [
       "-x1*x2*x3 + x1*x2 + x1*x3 + x2*x3 - x2 - x3 + 2 - x3^-1 - x2^-1 + x2^-1*x3^-1 + x1^-1*x3^-1 + x1^-1*x2^-1 - x1^-1*x2^-1*x3^-1"
      ]
     },
     "execution_count": 23,
     "metadata": {},
     "output_type": "execute_result"
    }
   ],
   "source": [
    "Tvir(fixed_locus(1)[0],w[4])"
   ]
  },
  {
   "cell_type": "code",
   "execution_count": 367,
   "metadata": {},
   "outputs": [
    {
     "data": {
      "text/html": [
       "<html><script type=\"math/tex; mode=display\">\\newcommand{\\Bold}[1]{\\mathbf{#1}}x_{1} x_{2} x_{3} - x_{1} x_{2} - x_{1} x_{3} - x_{2} x_{3} + x_{1} + x_{2} + x_{3} + x_{3}^{-1} + x_{2}^{-1} + x_{1}^{-1} - x_{2}^{-1} x_{3}^{-1} - x_{1}^{-1} x_{3}^{-1} - x_{1}^{-1} x_{2}^{-1} + x_{1}^{-1} x_{2}^{-1} x_{3}^{-1}</script></html>"
      ],
      "text/latex": [
       "$$\\newcommand{\\Bold}[1]{\\mathbf{#1}}x_{1} x_{2} x_{3} - x_{1} x_{2} - x_{1} x_{3} - x_{2} x_{3} + x_{1} + x_{2} + x_{3} + x_{3}^{-1} + x_{2}^{-1} + x_{1}^{-1} - x_{2}^{-1} x_{3}^{-1} - x_{1}^{-1} x_{3}^{-1} - x_{1}^{-1} x_{2}^{-1} + x_{1}^{-1} x_{2}^{-1} x_{3}^{-1}$$"
      ],
      "text/plain": [
       "x1*x2*x3 - x1*x2 - x1*x3 - x2*x3 + x1 + x2 + x3 + x3^-1 + x2^-1 + x1^-1 - x2^-1*x3^-1 - x1^-1*x3^-1 - x1^-1*x2^-1 + x1^-1*x2^-1*x3^-1"
      ]
     },
     "execution_count": 367,
     "metadata": {},
     "output_type": "execute_result"
    }
   ],
   "source": [
    "dual(Tvir(fixed_locus(1)[0],w[0]))"
   ]
  },
  {
   "cell_type": "code",
   "execution_count": 362,
   "metadata": {},
   "outputs": [
    {
     "data": {
      "text/html": [
       "<html><script type=\"math/tex; mode=display\">\\newcommand{\\Bold}[1]{\\mathbf{#1}}x_{1} x_{2} x_{3} - x_{1} x_{2} - x_{1} x_{3} - x_{2} x_{3} + x_{1} + x_{2} + x_{3} + x_{3}^{-1} + x_{2}^{-1} + x_{1}^{-1} - x_{2}^{-1} x_{3}^{-1} - x_{1}^{-1} x_{3}^{-1} - x_{1}^{-1} x_{2}^{-1} + x_{1}^{-1} x_{2}^{-1} x_{3}^{-1}</script></html>"
      ],
      "text/latex": [
       "$$\\newcommand{\\Bold}[1]{\\mathbf{#1}}x_{1} x_{2} x_{3} - x_{1} x_{2} - x_{1} x_{3} - x_{2} x_{3} + x_{1} + x_{2} + x_{3} + x_{3}^{-1} + x_{2}^{-1} + x_{1}^{-1} - x_{2}^{-1} x_{3}^{-1} - x_{1}^{-1} x_{3}^{-1} - x_{1}^{-1} x_{2}^{-1} + x_{1}^{-1} x_{2}^{-1} x_{3}^{-1}$$"
      ],
      "text/plain": [
       "x1*x2*x3 - x1*x2 - x1*x3 - x2*x3 + x1 + x2 + x3 + x3^-1 + x2^-1 + x1^-1 - x2^-1*x3^-1 - x1^-1*x3^-1 - x1^-1*x2^-1 + x1^-1*x2^-1*x3^-1"
      ]
     },
     "execution_count": 362,
     "metadata": {},
     "output_type": "execute_result"
    }
   ],
   "source": [
    "Tvir(fixed_locus(1)[0])"
   ]
  },
  {
   "cell_type": "code",
   "execution_count": 134,
   "metadata": {},
   "outputs": [
    {
     "data": {
      "text/html": [
       "<html><script type=\"math/tex; mode=display\">\\newcommand{\\Bold}[1]{\\mathbf{#1}}\\frac{x_{1}^{2} x_{2}^{2} x_{3}^{2} y^{8} - 8 x_{1}^{2} x_{2}^{2} x_{3}^{2} y^{7} + 28 x_{1}^{2} x_{2}^{2} x_{3}^{2} y^{6} - x_{1}^{2} x_{2} x_{3} y^{8} - x_{1} x_{2}^{2} x_{3} y^{8} - x_{1} x_{2} x_{3}^{2} y^{8} - 56 x_{1}^{2} x_{2}^{2} x_{3}^{2} y^{5} + 8 x_{1}^{2} x_{2} x_{3} y^{7} + 8 x_{1} x_{2}^{2} x_{3} y^{7} + 8 x_{1} x_{2} x_{3}^{2} y^{7} + 70 x_{1}^{2} x_{2}^{2} x_{3}^{2} y^{4} - 28 x_{1}^{2} x_{2} x_{3} y^{6} - 28 x_{1} x_{2}^{2} x_{3} y^{6} - 28 x_{1} x_{2} x_{3}^{2} y^{6} + x_{1} x_{2} y^{8} + x_{1} x_{3} y^{8} + x_{2} x_{3} y^{8} - 56 x_{1}^{2} x_{2}^{2} x_{3}^{2} y^{3} + 56 x_{1}^{2} x_{2} x_{3} y^{5} + 56 x_{1} x_{2}^{2} x_{3} y^{5} + 56 x_{1} x_{2} x_{3}^{2} y^{5} - 8 x_{1} x_{2} y^{7} - 8 x_{1} x_{3} y^{7} - 8 x_{2} x_{3} y^{7} + 28 x_{1}^{2} x_{2}^{2} x_{3}^{2} y^{2} - 70 x_{1}^{2} x_{2} x_{3} y^{4} - 70 x_{1} x_{2}^{2} x_{3} y^{4} - 70 x_{1} x_{2} x_{3}^{2} y^{4} + 28 x_{1} x_{2} y^{6} + 28 x_{1} x_{3} y^{6} + 28 x_{2} x_{3} y^{6} - y^{8} - 8 x_{1}^{2} x_{2}^{2} x_{3}^{2} y + 56 x_{1}^{2} x_{2} x_{3} y^{3} + 56 x_{1} x_{2}^{2} x_{3} y^{3} + 56 x_{1} x_{2} x_{3}^{2} y^{3} - 56 x_{1} x_{2} y^{5} - 56 x_{1} x_{3} y^{5} - 56 x_{2} x_{3} y^{5} + 8 y^{7} + x_{1}^{2} x_{2}^{2} x_{3}^{2} - 28 x_{1}^{2} x_{2} x_{3} y^{2} - 28 x_{1} x_{2}^{2} x_{3} y^{2} - 28 x_{1} x_{2} x_{3}^{2} y^{2} + 70 x_{1} x_{2} y^{4} + 70 x_{1} x_{3} y^{4} + 70 x_{2} x_{3} y^{4} - 28 y^{6} + 8 x_{1}^{2} x_{2} x_{3} y + 8 x_{1} x_{2}^{2} x_{3} y + 8 x_{1} x_{2} x_{3}^{2} y - 56 x_{1} x_{2} y^{3} - 56 x_{1} x_{3} y^{3} - 56 x_{2} x_{3} y^{3} + 56 y^{5} - x_{1}^{2} x_{2} x_{3} - x_{1} x_{2}^{2} x_{3} - x_{1} x_{2} x_{3}^{2} + 28 x_{1} x_{2} y^{2} + 28 x_{1} x_{3} y^{2} + 28 x_{2} x_{3} y^{2} - 70 y^{4} - 8 x_{1} x_{2} y - 8 x_{1} x_{3} y - 8 x_{2} x_{3} y + 56 y^{3} + x_{1} x_{2} + x_{1} x_{3} + x_{2} x_{3} - 28 y^{2} + 8 y - 1}{x_{1}^{2} x_{2}^{2} x_{3}^{2} y^{4} - x_{1}^{2} x_{2}^{2} x_{3} y^{4} - x_{1}^{2} x_{2} x_{3}^{2} y^{4} - x_{1} x_{2}^{2} x_{3}^{2} y^{4} + x_{1}^{2} x_{2} x_{3} y^{4} + x_{1} x_{2}^{2} x_{3} y^{4} + x_{1} x_{2} x_{3}^{2} y^{4} - 2 x_{1} x_{2} x_{3} y^{4} + x_{1} x_{2} y^{4} + x_{1} x_{3} y^{4} + x_{2} x_{3} y^{4} - x_{1} y^{4} - x_{2} y^{4} - x_{3} y^{4} + y^{4}}</script></html>"
      ],
      "text/latex": [
       "$$\\newcommand{\\Bold}[1]{\\mathbf{#1}}\\frac{x_{1}^{2} x_{2}^{2} x_{3}^{2} y^{8} - 8 x_{1}^{2} x_{2}^{2} x_{3}^{2} y^{7} + 28 x_{1}^{2} x_{2}^{2} x_{3}^{2} y^{6} - x_{1}^{2} x_{2} x_{3} y^{8} - x_{1} x_{2}^{2} x_{3} y^{8} - x_{1} x_{2} x_{3}^{2} y^{8} - 56 x_{1}^{2} x_{2}^{2} x_{3}^{2} y^{5} + 8 x_{1}^{2} x_{2} x_{3} y^{7} + 8 x_{1} x_{2}^{2} x_{3} y^{7} + 8 x_{1} x_{2} x_{3}^{2} y^{7} + 70 x_{1}^{2} x_{2}^{2} x_{3}^{2} y^{4} - 28 x_{1}^{2} x_{2} x_{3} y^{6} - 28 x_{1} x_{2}^{2} x_{3} y^{6} - 28 x_{1} x_{2} x_{3}^{2} y^{6} + x_{1} x_{2} y^{8} + x_{1} x_{3} y^{8} + x_{2} x_{3} y^{8} - 56 x_{1}^{2} x_{2}^{2} x_{3}^{2} y^{3} + 56 x_{1}^{2} x_{2} x_{3} y^{5} + 56 x_{1} x_{2}^{2} x_{3} y^{5} + 56 x_{1} x_{2} x_{3}^{2} y^{5} - 8 x_{1} x_{2} y^{7} - 8 x_{1} x_{3} y^{7} - 8 x_{2} x_{3} y^{7} + 28 x_{1}^{2} x_{2}^{2} x_{3}^{2} y^{2} - 70 x_{1}^{2} x_{2} x_{3} y^{4} - 70 x_{1} x_{2}^{2} x_{3} y^{4} - 70 x_{1} x_{2} x_{3}^{2} y^{4} + 28 x_{1} x_{2} y^{6} + 28 x_{1} x_{3} y^{6} + 28 x_{2} x_{3} y^{6} - y^{8} - 8 x_{1}^{2} x_{2}^{2} x_{3}^{2} y + 56 x_{1}^{2} x_{2} x_{3} y^{3} + 56 x_{1} x_{2}^{2} x_{3} y^{3} + 56 x_{1} x_{2} x_{3}^{2} y^{3} - 56 x_{1} x_{2} y^{5} - 56 x_{1} x_{3} y^{5} - 56 x_{2} x_{3} y^{5} + 8 y^{7} + x_{1}^{2} x_{2}^{2} x_{3}^{2} - 28 x_{1}^{2} x_{2} x_{3} y^{2} - 28 x_{1} x_{2}^{2} x_{3} y^{2} - 28 x_{1} x_{2} x_{3}^{2} y^{2} + 70 x_{1} x_{2} y^{4} + 70 x_{1} x_{3} y^{4} + 70 x_{2} x_{3} y^{4} - 28 y^{6} + 8 x_{1}^{2} x_{2} x_{3} y + 8 x_{1} x_{2}^{2} x_{3} y + 8 x_{1} x_{2} x_{3}^{2} y - 56 x_{1} x_{2} y^{3} - 56 x_{1} x_{3} y^{3} - 56 x_{2} x_{3} y^{3} + 56 y^{5} - x_{1}^{2} x_{2} x_{3} - x_{1} x_{2}^{2} x_{3} - x_{1} x_{2} x_{3}^{2} + 28 x_{1} x_{2} y^{2} + 28 x_{1} x_{3} y^{2} + 28 x_{2} x_{3} y^{2} - 70 y^{4} - 8 x_{1} x_{2} y - 8 x_{1} x_{3} y - 8 x_{2} x_{3} y + 56 y^{3} + x_{1} x_{2} + x_{1} x_{3} + x_{2} x_{3} - 28 y^{2} + 8 y - 1}{x_{1}^{2} x_{2}^{2} x_{3}^{2} y^{4} - x_{1}^{2} x_{2}^{2} x_{3} y^{4} - x_{1}^{2} x_{2} x_{3}^{2} y^{4} - x_{1} x_{2}^{2} x_{3}^{2} y^{4} + x_{1}^{2} x_{2} x_{3} y^{4} + x_{1} x_{2}^{2} x_{3} y^{4} + x_{1} x_{2} x_{3}^{2} y^{4} - 2 x_{1} x_{2} x_{3} y^{4} + x_{1} x_{2} y^{4} + x_{1} x_{3} y^{4} + x_{2} x_{3} y^{4} - x_{1} y^{4} - x_{2} y^{4} - x_{3} y^{4} + y^{4}}$$"
      ],
      "text/plain": [
       "(x1^2*x2^2*x3^2*y^8 - 8*x1^2*x2^2*x3^2*y^7 + 28*x1^2*x2^2*x3^2*y^6 - x1^2*x2*x3*y^8 - x1*x2^2*x3*y^8 - x1*x2*x3^2*y^8 - 56*x1^2*x2^2*x3^2*y^5 + 8*x1^2*x2*x3*y^7 + 8*x1*x2^2*x3*y^7 + 8*x1*x2*x3^2*y^7 + 70*x1^2*x2^2*x3^2*y^4 - 28*x1^2*x2*x3*y^6 - 28*x1*x2^2*x3*y^6 - 28*x1*x2*x3^2*y^6 + x1*x2*y^8 + x1*x3*y^8 + x2*x3*y^8 - 56*x1^2*x2^2*x3^2*y^3 + 56*x1^2*x2*x3*y^5 + 56*x1*x2^2*x3*y^5 + 56*x1*x2*x3^2*y^5 - 8*x1*x2*y^7 - 8*x1*x3*y^7 - 8*x2*x3*y^7 + 28*x1^2*x2^2*x3^2*y^2 - 70*x1^2*x2*x3*y^4 - 70*x1*x2^2*x3*y^4 - 70*x1*x2*x3^2*y^4 + 28*x1*x2*y^6 + 28*x1*x3*y^6 + 28*x2*x3*y^6 - y^8 - 8*x1^2*x2^2*x3^2*y + 56*x1^2*x2*x3*y^3 + 56*x1*x2^2*x3*y^3 + 56*x1*x2*x3^2*y^3 - 56*x1*x2*y^5 - 56*x1*x3*y^5 - 56*x2*x3*y^5 + 8*y^7 + x1^2*x2^2*x3^2 - 28*x1^2*x2*x3*y^2 - 28*x1*x2^2*x3*y^2 - 28*x1*x2*x3^2*y^2 + 70*x1*x2*y^4 + 70*x1*x3*y^4 + 70*x2*x3*y^4 - 28*y^6 + 8*x1^2*x2*x3*y + 8*x1*x2^2*x3*y + 8*x1*x2*x3^2*y - 56*x1*x2*y^3 - 56*x1*x3*y^3 - 56*x2*x3*y^3 + 56*y^5 - x1^2*x2*x3 - x1*x2^2*x3 - x1*x2*x3^2 + 28*x1*x2*y^2 + 28*x1*x3*y^2 + 28*x2*x3*y^2 - 70*y^4 - 8*x1*x2*y - 8*x1*x3*y - 8*x2*x3*y + 56*y^3 + x1*x2 + x1*x3 + x2*x3 - 28*y^2 + 8*y - 1)/(x1^2*x2^2*x3^2*y^4 - x1^2*x2^2*x3*y^4 - x1^2*x2*x3^2*y^4 - x1*x2^2*x3^2*y^4 + x1^2*x2*x3*y^4 + x1*x2^2*x3*y^4 + x1*x2*x3^2*y^4 - 2*x1*x2*x3*y^4 + x1*x2*y^4 + x1*x3*y^4 + x2*x3*y^4 - x1*y^4 - x2*y^4 - x3*y^4 + y^4)"
      ]
     },
     "execution_count": 134,
     "metadata": {},
     "output_type": "execute_result"
    }
   ],
   "source": [
    "\n",
    "cut(Nek(1,w))"
   ]
  },
  {
   "cell_type": "code",
   "execution_count": 104,
   "metadata": {},
   "outputs": [
    {
     "data": {
      "text/html": [
       "<html><script type=\"math/tex; mode=display\">\\newcommand{\\Bold}[1]{\\mathbf{#1}}\\frac{{\\left(x_{1} x_{2} - 1\\right)} {\\left(x_{1} x_{3} - 1\\right)} {\\left(x_{2} x_{3} - 1\\right)} w {\\left(y - 1\\right)}}{{\\left(x_{1} x_{2} x_{3} - 1\\right)} {\\left(x_{1} - 1\\right)} {\\left(x_{2} - 1\\right)} {\\left(x_{3} - 1\\right)} y}</script></html>"
      ],
      "text/latex": [
       "$$\\newcommand{\\Bold}[1]{\\mathbf{#1}}\\frac{{\\left(x_{1} x_{2} - 1\\right)} {\\left(x_{1} x_{3} - 1\\right)} {\\left(x_{2} x_{3} - 1\\right)} w {\\left(y - 1\\right)}}{{\\left(x_{1} x_{2} x_{3} - 1\\right)} {\\left(x_{1} - 1\\right)} {\\left(x_{2} - 1\\right)} {\\left(x_{3} - 1\\right)} y}$$"
      ],
      "text/plain": [
       "(x1*x2 - 1)*(x1*x3 - 1)*(x2*x3 - 1)*w*(y - 1)/((x1*x2*x3 - 1)*(x1 - 1)*(x2 - 1)*(x3 - 1)*y)"
      ]
     },
     "execution_count": 104,
     "metadata": {},
     "output_type": "execute_result"
    }
   ],
   "source": [
    "pretty(sqrt_to_original(Nek(1).numerator()))/pretty(sqrt_to_original(Nek(1).denominator()))"
   ]
  },
  {
   "cell_type": "code",
   "execution_count": 103,
   "metadata": {},
   "outputs": [
    {
     "data": {
      "text/html": [
       "<html><script type=\"math/tex; mode=display\">\\newcommand{\\Bold}[1]{\\mathbf{#1}}\\frac{{\\left(2 \\, x_{1}^{4} x_{2}^{4} x_{3}^{4} y + x_{1}^{4} x_{2}^{4} x_{3}^{4} - x_{1}^{4} x_{2}^{4} x_{3}^{3} - x_{1}^{4} x_{2}^{3} x_{3}^{4} - x_{1}^{3} x_{2}^{4} x_{3}^{4} - x_{1}^{4} x_{2}^{4} x_{3}^{2} y + x_{1}^{4} x_{2}^{3} x_{3}^{3} y + x_{1}^{3} x_{2}^{4} x_{3}^{3} y - x_{1}^{4} x_{2}^{2} x_{3}^{4} y + x_{1}^{3} x_{2}^{3} x_{3}^{4} y - x_{1}^{2} x_{2}^{4} x_{3}^{4} y - x_{1}^{4} x_{2}^{4} x_{3}^{2} + x_{1}^{4} x_{2}^{3} x_{3}^{3} + x_{1}^{3} x_{2}^{4} x_{3}^{3} - x_{1}^{4} x_{2}^{2} x_{3}^{4} + x_{1}^{3} x_{2}^{3} x_{3}^{4} - x_{1}^{2} x_{2}^{4} x_{3}^{4} - x_{1}^{4} x_{2}^{3} x_{3}^{2} y - x_{1}^{3} x_{2}^{4} x_{3}^{2} y - x_{1}^{4} x_{2}^{2} x_{3}^{3} y - 3 \\, x_{1}^{3} x_{2}^{3} x_{3}^{3} y - x_{1}^{2} x_{2}^{4} x_{3}^{3} y - x_{1}^{3} x_{2}^{2} x_{3}^{4} y - x_{1}^{2} x_{2}^{3} x_{3}^{4} y - 2 \\, x_{1}^{3} x_{2}^{3} x_{3}^{3} + x_{1}^{4} x_{2}^{2} x_{3}^{2} y + 2 \\, x_{1}^{3} x_{2}^{3} x_{3}^{2} y + x_{1}^{2} x_{2}^{4} x_{3}^{2} y + 2 \\, x_{1}^{3} x_{2}^{2} x_{3}^{3} y + 2 \\, x_{1}^{2} x_{2}^{3} x_{3}^{3} y + x_{1}^{2} x_{2}^{2} x_{3}^{4} y + 2 \\, x_{1}^{4} x_{2}^{2} x_{3}^{2} + 2 \\, x_{1}^{3} x_{2}^{3} x_{3}^{2} + 2 \\, x_{1}^{2} x_{2}^{4} x_{3}^{2} + 2 \\, x_{1}^{3} x_{2}^{2} x_{3}^{3} + 2 \\, x_{1}^{2} x_{2}^{3} x_{3}^{3} + 2 \\, x_{1}^{2} x_{2}^{2} x_{3}^{4} - 2 \\, x_{1}^{3} x_{2}^{2} x_{3}^{2} y - 2 \\, x_{1}^{2} x_{2}^{3} x_{3}^{2} y - 2 \\, x_{1}^{2} x_{2}^{2} x_{3}^{3} y - x_{1}^{3} x_{2}^{3} x_{3} - 3 \\, x_{1}^{3} x_{2}^{2} x_{3}^{2} - 3 \\, x_{1}^{2} x_{2}^{3} x_{3}^{2} - x_{1}^{3} x_{2} x_{3}^{3} - 3 \\, x_{1}^{2} x_{2}^{2} x_{3}^{3} - x_{1} x_{2}^{3} x_{3}^{3} + x_{1}^{3} x_{2}^{2} x_{3} y + x_{1}^{2} x_{2}^{3} x_{3} y + x_{1}^{3} x_{2} x_{3}^{2} y + 2 \\, x_{1}^{2} x_{2}^{2} x_{3}^{2} y + x_{1} x_{2}^{3} x_{3}^{2} y + x_{1}^{2} x_{2} x_{3}^{3} y + x_{1} x_{2}^{2} x_{3}^{3} y + x_{1}^{3} x_{2}^{2} x_{3} + x_{1}^{2} x_{2}^{3} x_{3} + x_{1}^{3} x_{2} x_{3}^{2} + 2 \\, x_{1}^{2} x_{2}^{2} x_{3}^{2} + x_{1} x_{2}^{3} x_{3}^{2} + x_{1}^{2} x_{2} x_{3}^{3} + x_{1} x_{2}^{2} x_{3}^{3} - x_{1}^{3} x_{2} x_{3} y - 3 \\, x_{1}^{2} x_{2}^{2} x_{3} y - x_{1} x_{2}^{3} x_{3} y - 3 \\, x_{1}^{2} x_{2} x_{3}^{2} y - 3 \\, x_{1} x_{2}^{2} x_{3}^{2} y - x_{1} x_{2} x_{3}^{3} y - 2 \\, x_{1}^{2} x_{2}^{2} x_{3} - 2 \\, x_{1}^{2} x_{2} x_{3}^{2} - 2 \\, x_{1} x_{2}^{2} x_{3}^{2} + 2 \\, x_{1}^{2} x_{2}^{2} y + 2 \\, x_{1}^{2} x_{2} x_{3} y + 2 \\, x_{1} x_{2}^{2} x_{3} y + 2 \\, x_{1}^{2} x_{3}^{2} y + 2 \\, x_{1} x_{2} x_{3}^{2} y + 2 \\, x_{2}^{2} x_{3}^{2} y + x_{1}^{2} x_{2}^{2} + 2 \\, x_{1}^{2} x_{2} x_{3} + 2 \\, x_{1} x_{2}^{2} x_{3} + x_{1}^{2} x_{3}^{2} + 2 \\, x_{1} x_{2} x_{3}^{2} + x_{2}^{2} x_{3}^{2} - 2 \\, x_{1} x_{2} x_{3} y - x_{1}^{2} x_{2} - x_{1} x_{2}^{2} - x_{1}^{2} x_{3} - 3 \\, x_{1} x_{2} x_{3} - x_{2}^{2} x_{3} - x_{1} x_{3}^{2} - x_{2} x_{3}^{2} - x_{1}^{2} y + x_{1} x_{2} y - x_{2}^{2} y + x_{1} x_{3} y + x_{2} x_{3} y - x_{3}^{2} y - x_{1}^{2} + x_{1} x_{2} - x_{2}^{2} + x_{1} x_{3} + x_{2} x_{3} - x_{3}^{2} - x_{1} y - x_{2} y - x_{3} y + y + 2\\right)} {\\left(x_{1} x_{2} - 1\\right)} {\\left(x_{1} x_{3} - 1\\right)} {\\left(x_{2} x_{3} - 1\\right)} {\\left(y - 1\\right)}}{{\\left(x_{1} x_{2} x_{3} + 1\\right)} {\\left(x_{1} x_{2} x_{3} - 1\\right)}^{2} {\\left(x_{1} + 1\\right)} {\\left(x_{1} - 1\\right)}^{2} {\\left(x_{2} + 1\\right)} {\\left(x_{2} - 1\\right)}^{2} {\\left(x_{3} + 1\\right)} {\\left(x_{3} - 1\\right)}^{2} y}</script></html>"
      ],
      "text/latex": [
       "$$\\newcommand{\\Bold}[1]{\\mathbf{#1}}\\frac{{\\left(2 \\, x_{1}^{4} x_{2}^{4} x_{3}^{4} y + x_{1}^{4} x_{2}^{4} x_{3}^{4} - x_{1}^{4} x_{2}^{4} x_{3}^{3} - x_{1}^{4} x_{2}^{3} x_{3}^{4} - x_{1}^{3} x_{2}^{4} x_{3}^{4} - x_{1}^{4} x_{2}^{4} x_{3}^{2} y + x_{1}^{4} x_{2}^{3} x_{3}^{3} y + x_{1}^{3} x_{2}^{4} x_{3}^{3} y - x_{1}^{4} x_{2}^{2} x_{3}^{4} y + x_{1}^{3} x_{2}^{3} x_{3}^{4} y - x_{1}^{2} x_{2}^{4} x_{3}^{4} y - x_{1}^{4} x_{2}^{4} x_{3}^{2} + x_{1}^{4} x_{2}^{3} x_{3}^{3} + x_{1}^{3} x_{2}^{4} x_{3}^{3} - x_{1}^{4} x_{2}^{2} x_{3}^{4} + x_{1}^{3} x_{2}^{3} x_{3}^{4} - x_{1}^{2} x_{2}^{4} x_{3}^{4} - x_{1}^{4} x_{2}^{3} x_{3}^{2} y - x_{1}^{3} x_{2}^{4} x_{3}^{2} y - x_{1}^{4} x_{2}^{2} x_{3}^{3} y - 3 \\, x_{1}^{3} x_{2}^{3} x_{3}^{3} y - x_{1}^{2} x_{2}^{4} x_{3}^{3} y - x_{1}^{3} x_{2}^{2} x_{3}^{4} y - x_{1}^{2} x_{2}^{3} x_{3}^{4} y - 2 \\, x_{1}^{3} x_{2}^{3} x_{3}^{3} + x_{1}^{4} x_{2}^{2} x_{3}^{2} y + 2 \\, x_{1}^{3} x_{2}^{3} x_{3}^{2} y + x_{1}^{2} x_{2}^{4} x_{3}^{2} y + 2 \\, x_{1}^{3} x_{2}^{2} x_{3}^{3} y + 2 \\, x_{1}^{2} x_{2}^{3} x_{3}^{3} y + x_{1}^{2} x_{2}^{2} x_{3}^{4} y + 2 \\, x_{1}^{4} x_{2}^{2} x_{3}^{2} + 2 \\, x_{1}^{3} x_{2}^{3} x_{3}^{2} + 2 \\, x_{1}^{2} x_{2}^{4} x_{3}^{2} + 2 \\, x_{1}^{3} x_{2}^{2} x_{3}^{3} + 2 \\, x_{1}^{2} x_{2}^{3} x_{3}^{3} + 2 \\, x_{1}^{2} x_{2}^{2} x_{3}^{4} - 2 \\, x_{1}^{3} x_{2}^{2} x_{3}^{2} y - 2 \\, x_{1}^{2} x_{2}^{3} x_{3}^{2} y - 2 \\, x_{1}^{2} x_{2}^{2} x_{3}^{3} y - x_{1}^{3} x_{2}^{3} x_{3} - 3 \\, x_{1}^{3} x_{2}^{2} x_{3}^{2} - 3 \\, x_{1}^{2} x_{2}^{3} x_{3}^{2} - x_{1}^{3} x_{2} x_{3}^{3} - 3 \\, x_{1}^{2} x_{2}^{2} x_{3}^{3} - x_{1} x_{2}^{3} x_{3}^{3} + x_{1}^{3} x_{2}^{2} x_{3} y + x_{1}^{2} x_{2}^{3} x_{3} y + x_{1}^{3} x_{2} x_{3}^{2} y + 2 \\, x_{1}^{2} x_{2}^{2} x_{3}^{2} y + x_{1} x_{2}^{3} x_{3}^{2} y + x_{1}^{2} x_{2} x_{3}^{3} y + x_{1} x_{2}^{2} x_{3}^{3} y + x_{1}^{3} x_{2}^{2} x_{3} + x_{1}^{2} x_{2}^{3} x_{3} + x_{1}^{3} x_{2} x_{3}^{2} + 2 \\, x_{1}^{2} x_{2}^{2} x_{3}^{2} + x_{1} x_{2}^{3} x_{3}^{2} + x_{1}^{2} x_{2} x_{3}^{3} + x_{1} x_{2}^{2} x_{3}^{3} - x_{1}^{3} x_{2} x_{3} y - 3 \\, x_{1}^{2} x_{2}^{2} x_{3} y - x_{1} x_{2}^{3} x_{3} y - 3 \\, x_{1}^{2} x_{2} x_{3}^{2} y - 3 \\, x_{1} x_{2}^{2} x_{3}^{2} y - x_{1} x_{2} x_{3}^{3} y - 2 \\, x_{1}^{2} x_{2}^{2} x_{3} - 2 \\, x_{1}^{2} x_{2} x_{3}^{2} - 2 \\, x_{1} x_{2}^{2} x_{3}^{2} + 2 \\, x_{1}^{2} x_{2}^{2} y + 2 \\, x_{1}^{2} x_{2} x_{3} y + 2 \\, x_{1} x_{2}^{2} x_{3} y + 2 \\, x_{1}^{2} x_{3}^{2} y + 2 \\, x_{1} x_{2} x_{3}^{2} y + 2 \\, x_{2}^{2} x_{3}^{2} y + x_{1}^{2} x_{2}^{2} + 2 \\, x_{1}^{2} x_{2} x_{3} + 2 \\, x_{1} x_{2}^{2} x_{3} + x_{1}^{2} x_{3}^{2} + 2 \\, x_{1} x_{2} x_{3}^{2} + x_{2}^{2} x_{3}^{2} - 2 \\, x_{1} x_{2} x_{3} y - x_{1}^{2} x_{2} - x_{1} x_{2}^{2} - x_{1}^{2} x_{3} - 3 \\, x_{1} x_{2} x_{3} - x_{2}^{2} x_{3} - x_{1} x_{3}^{2} - x_{2} x_{3}^{2} - x_{1}^{2} y + x_{1} x_{2} y - x_{2}^{2} y + x_{1} x_{3} y + x_{2} x_{3} y - x_{3}^{2} y - x_{1}^{2} + x_{1} x_{2} - x_{2}^{2} + x_{1} x_{3} + x_{2} x_{3} - x_{3}^{2} - x_{1} y - x_{2} y - x_{3} y + y + 2\\right)} {\\left(x_{1} x_{2} - 1\\right)} {\\left(x_{1} x_{3} - 1\\right)} {\\left(x_{2} x_{3} - 1\\right)} {\\left(y - 1\\right)}}{{\\left(x_{1} x_{2} x_{3} + 1\\right)} {\\left(x_{1} x_{2} x_{3} - 1\\right)}^{2} {\\left(x_{1} + 1\\right)} {\\left(x_{1} - 1\\right)}^{2} {\\left(x_{2} + 1\\right)} {\\left(x_{2} - 1\\right)}^{2} {\\left(x_{3} + 1\\right)} {\\left(x_{3} - 1\\right)}^{2} y}$$"
      ],
      "text/plain": [
       "(2*x1^4*x2^4*x3^4*y + x1^4*x2^4*x3^4 - x1^4*x2^4*x3^3 - x1^4*x2^3*x3^4 - x1^3*x2^4*x3^4 - x1^4*x2^4*x3^2*y + x1^4*x2^3*x3^3*y + x1^3*x2^4*x3^3*y - x1^4*x2^2*x3^4*y + x1^3*x2^3*x3^4*y - x1^2*x2^4*x3^4*y - x1^4*x2^4*x3^2 + x1^4*x2^3*x3^3 + x1^3*x2^4*x3^3 - x1^4*x2^2*x3^4 + x1^3*x2^3*x3^4 - x1^2*x2^4*x3^4 - x1^4*x2^3*x3^2*y - x1^3*x2^4*x3^2*y - x1^4*x2^2*x3^3*y - 3*x1^3*x2^3*x3^3*y - x1^2*x2^4*x3^3*y - x1^3*x2^2*x3^4*y - x1^2*x2^3*x3^4*y - 2*x1^3*x2^3*x3^3 + x1^4*x2^2*x3^2*y + 2*x1^3*x2^3*x3^2*y + x1^2*x2^4*x3^2*y + 2*x1^3*x2^2*x3^3*y + 2*x1^2*x2^3*x3^3*y + x1^2*x2^2*x3^4*y + 2*x1^4*x2^2*x3^2 + 2*x1^3*x2^3*x3^2 + 2*x1^2*x2^4*x3^2 + 2*x1^3*x2^2*x3^3 + 2*x1^2*x2^3*x3^3 + 2*x1^2*x2^2*x3^4 - 2*x1^3*x2^2*x3^2*y - 2*x1^2*x2^3*x3^2*y - 2*x1^2*x2^2*x3^3*y - x1^3*x2^3*x3 - 3*x1^3*x2^2*x3^2 - 3*x1^2*x2^3*x3^2 - x1^3*x2*x3^3 - 3*x1^2*x2^2*x3^3 - x1*x2^3*x3^3 + x1^3*x2^2*x3*y + x1^2*x2^3*x3*y + x1^3*x2*x3^2*y + 2*x1^2*x2^2*x3^2*y + x1*x2^3*x3^2*y + x1^2*x2*x3^3*y + x1*x2^2*x3^3*y + x1^3*x2^2*x3 + x1^2*x2^3*x3 + x1^3*x2*x3^2 + 2*x1^2*x2^2*x3^2 + x1*x2^3*x3^2 + x1^2*x2*x3^3 + x1*x2^2*x3^3 - x1^3*x2*x3*y - 3*x1^2*x2^2*x3*y - x1*x2^3*x3*y - 3*x1^2*x2*x3^2*y - 3*x1*x2^2*x3^2*y - x1*x2*x3^3*y - 2*x1^2*x2^2*x3 - 2*x1^2*x2*x3^2 - 2*x1*x2^2*x3^2 + 2*x1^2*x2^2*y + 2*x1^2*x2*x3*y + 2*x1*x2^2*x3*y + 2*x1^2*x3^2*y + 2*x1*x2*x3^2*y + 2*x2^2*x3^2*y + x1^2*x2^2 + 2*x1^2*x2*x3 + 2*x1*x2^2*x3 + x1^2*x3^2 + 2*x1*x2*x3^2 + x2^2*x3^2 - 2*x1*x2*x3*y - x1^2*x2 - x1*x2^2 - x1^2*x3 - 3*x1*x2*x3 - x2^2*x3 - x1*x3^2 - x2*x3^2 - x1^2*y + x1*x2*y - x2^2*y + x1*x3*y + x2*x3*y - x3^2*y - x1^2 + x1*x2 - x2^2 + x1*x3 + x2*x3 - x3^2 - x1*y - x2*y - x3*y + y + 2)*(x1*x2 - 1)*(x1*x3 - 1)*(x2*x3 - 1)*(y - 1)/((x1*x2*x3 + 1)*(x1*x2*x3 - 1)^2*(x1 + 1)*(x1 - 1)^2*(x2 + 1)*(x2 - 1)^2*(x3 + 1)*(x3 - 1)^2*y)"
      ]
     },
     "execution_count": 103,
     "metadata": {},
     "output_type": "execute_result"
    }
   ],
   "source": [
    "pretty(sqrt_to_original(Nek(2).numerator()))/pretty(sqrt_to_original(Nek(2).denominator()))"
   ]
  },
  {
   "cell_type": "code",
   "execution_count": 105,
   "metadata": {},
   "outputs": [
    {
     "ename": "KeyboardInterrupt",
     "evalue": "",
     "output_type": "error",
     "traceback": [
      "\u001b[0;31m---------------------------------------------------------------------------\u001b[0m",
      "\u001b[0;31mKeyboardInterrupt\u001b[0m                         Traceback (most recent call last)",
      "\u001b[0;32m/opt/sagemath-9.3/local/lib/python3.7/site-packages/sage/all_cmdline.py\u001b[0m in \u001b[0;36m<module>\u001b[0;34m\u001b[0m\n\u001b[0;32m----> 1\u001b[0;31m \u001b[0mstr\u001b[0m\u001b[0;34m(\u001b[0m\u001b[0mpretty\u001b[0m\u001b[0;34m(\u001b[0m\u001b[0msqrt_to_original\u001b[0m\u001b[0;34m(\u001b[0m\u001b[0mNek\u001b[0m\u001b[0;34m(\u001b[0m\u001b[0mInteger\u001b[0m\u001b[0;34m(\u001b[0m\u001b[0;36m3\u001b[0m\u001b[0;34m)\u001b[0m\u001b[0;34m)\u001b[0m\u001b[0;34m.\u001b[0m\u001b[0mnumerator\u001b[0m\u001b[0;34m(\u001b[0m\u001b[0;34m)\u001b[0m\u001b[0;34m)\u001b[0m\u001b[0;34m)\u001b[0m\u001b[0;34m/\u001b[0m\u001b[0mpretty\u001b[0m\u001b[0;34m(\u001b[0m\u001b[0msqrt_to_original\u001b[0m\u001b[0;34m(\u001b[0m\u001b[0mNek\u001b[0m\u001b[0;34m(\u001b[0m\u001b[0mInteger\u001b[0m\u001b[0;34m(\u001b[0m\u001b[0;36m3\u001b[0m\u001b[0;34m)\u001b[0m\u001b[0;34m)\u001b[0m\u001b[0;34m.\u001b[0m\u001b[0mdenominator\u001b[0m\u001b[0;34m(\u001b[0m\u001b[0;34m)\u001b[0m\u001b[0;34m)\u001b[0m\u001b[0;34m)\u001b[0m\u001b[0;34m)\u001b[0m\u001b[0;34m\u001b[0m\u001b[0;34m\u001b[0m\u001b[0m\n\u001b[0m",
      "\u001b[0;32m/opt/sagemath-9.3/local/lib/python3.7/site-packages/sage/all_cmdline.py\u001b[0m in \u001b[0;36mpretty\u001b[0;34m(f)\u001b[0m\n",
      "\u001b[0;32m/opt/sagemath-9.3/local/lib/python3.7/site-packages/sage/symbolic/expression.pyx\u001b[0m in \u001b[0;36msage.symbolic.expression.Expression.factor (build/cythonized/sage/symbolic/expression.cpp:60532)\u001b[0;34m()\u001b[0m\n\u001b[1;32m  11398\u001b[0m             \u001b[0mcmd\u001b[0m \u001b[0;34m=\u001b[0m \u001b[0;34m'block([dontfactor:[%s]],factor(%s))'\u001b[0m \u001b[0;34m%\u001b[0m \u001b[0;34m(\u001b[0m\u001b[0mvarstr\u001b[0m\u001b[0;34m,\u001b[0m \u001b[0mname\u001b[0m\u001b[0;34m)\u001b[0m\u001b[0;34m\u001b[0m\u001b[0;34m\u001b[0m\u001b[0m\n\u001b[1;32m  11399\u001b[0m             \u001b[0;32mreturn\u001b[0m \u001b[0msymbolic_expression_from_maxima_string\u001b[0m\u001b[0;34m(\u001b[0m\u001b[0mcmd\u001b[0m\u001b[0;34m)\u001b[0m\u001b[0;34m\u001b[0m\u001b[0;34m\u001b[0m\u001b[0m\n\u001b[0;32m> 11400\u001b[0;31m         \u001b[0msig_on\u001b[0m\u001b[0;34m(\u001b[0m\u001b[0;34m)\u001b[0m\u001b[0;34m\u001b[0m\u001b[0;34m\u001b[0m\u001b[0m\n\u001b[0m\u001b[1;32m  11401\u001b[0m         \u001b[0;32mtry\u001b[0m\u001b[0;34m:\u001b[0m\u001b[0;34m\u001b[0m\u001b[0;34m\u001b[0m\u001b[0m\n\u001b[1;32m  11402\u001b[0m             \u001b[0mb\u001b[0m \u001b[0;34m=\u001b[0m \u001b[0mg_factor\u001b[0m\u001b[0;34m(\u001b[0m\u001b[0mself\u001b[0m\u001b[0;34m.\u001b[0m\u001b[0m_gobj\u001b[0m\u001b[0;34m,\u001b[0m \u001b[0mx\u001b[0m\u001b[0;34m)\u001b[0m\u001b[0;34m\u001b[0m\u001b[0;34m\u001b[0m\u001b[0m\n",
      "\u001b[0;31mKeyboardInterrupt\u001b[0m: "
     ]
    }
   ],
   "source": [
    "str(pretty(sqrt_to_original(Nek(3).numerator()))/pretty(sqrt_to_original(Nek(3).denominator())))"
   ]
  },
  {
   "cell_type": "code",
   "execution_count": 67,
   "metadata": {},
   "outputs": [
    {
     "data": {
      "text/html": [
       "<html><script type=\"math/tex; mode=display\">\\newcommand{\\Bold}[1]{\\mathbf{#1}}\\frac{{\\left(x_{1} x_{2} - 1\\right)} {\\left(x_{1} x_{3} - 1\\right)} {\\left(x_{2} x_{3} - 1\\right)} w {\\left(y - 1\\right)}}{{\\left(x_{1} x_{2} x_{3} - 1\\right)} {\\left(x_{1} - 1\\right)} {\\left(x_{2} - 1\\right)} {\\left(x_{3} - 1\\right)} y}</script></html>"
      ],
      "text/latex": [
       "$$\\newcommand{\\Bold}[1]{\\mathbf{#1}}\\frac{{\\left(x_{1} x_{2} - 1\\right)} {\\left(x_{1} x_{3} - 1\\right)} {\\left(x_{2} x_{3} - 1\\right)} w {\\left(y - 1\\right)}}{{\\left(x_{1} x_{2} x_{3} - 1\\right)} {\\left(x_{1} - 1\\right)} {\\left(x_{2} - 1\\right)} {\\left(x_{3} - 1\\right)} y}$$"
      ],
      "text/plain": [
       "(x1*x2 - 1)*(x1*x3 - 1)*(x2*x3 - 1)*w*(y - 1)/((x1*x2*x3 - 1)*(x1 - 1)*(x2 - 1)*(x3 - 1)*y)"
      ]
     },
     "execution_count": 67,
     "metadata": {},
     "output_type": "execute_result"
    }
   ],
   "source": [
    "pretty(Nek(1))"
   ]
  },
  {
   "cell_type": "code",
   "execution_count": 19,
   "metadata": {},
   "outputs": [
    {
     "data": {
      "text/html": [
       "<html><script type=\"math/tex; mode=display\">\\newcommand{\\Bold}[1]{\\mathbf{#1}}0</script></html>"
      ],
      "text/latex": [
       "$$\\newcommand{\\Bold}[1]{\\mathbf{#1}}0$$"
      ],
      "text/plain": [
       "0"
      ]
     },
     "execution_count": 19,
     "metadata": {},
     "output_type": "execute_result"
    }
   ],
   "source": [
    "n,N,r=1,1,1\n",
    "S=Segre_Num_quot_fast(n,N,r)\n",
    "V=Verlinde_Num_quot_fast(n,N,r)\n",
    "diff= S-(-1)^(N*n)*V\n",
    "pretty(diff)"
   ]
  },
  {
   "cell_type": "code",
   "execution_count": 20,
   "metadata": {},
   "outputs": [
    {
     "data": {
      "text/html": [
       "<html><script type=\"math/tex; mode=display\">\\newcommand{\\Bold}[1]{\\mathbf{#1}}\\frac{{\\left(m_{1} + w_{1}\\right)}^{2} {\\left(t_{1} + t_{2}\\right)}^{2} {\\left(t_{1} + t_{3}\\right)}^{2} {\\left(t_{2} + t_{3}\\right)}^{2}}{2 \\, {\\left(t_{1} + t_{2} + t_{3}\\right)}^{2} t_{1}^{2} t_{2}^{2} t_{3}^{2}}</script></html>"
      ],
      "text/latex": [
       "$$\\newcommand{\\Bold}[1]{\\mathbf{#1}}\\frac{{\\left(m_{1} + w_{1}\\right)}^{2} {\\left(t_{1} + t_{2}\\right)}^{2} {\\left(t_{1} + t_{3}\\right)}^{2} {\\left(t_{2} + t_{3}\\right)}^{2}}{2 \\, {\\left(t_{1} + t_{2} + t_{3}\\right)}^{2} t_{1}^{2} t_{2}^{2} t_{3}^{2}}$$"
      ],
      "text/plain": [
       "1/2*(m1 + w1)^2*(t1 + t2)^2*(t1 + t3)^2*(t2 + t3)^2/((t1 + t2 + t3)^2*t1^2*t2^2*t3^2)"
      ]
     },
     "execution_count": 20,
     "metadata": {},
     "output_type": "execute_result"
    }
   ],
   "source": [
    "n,N,r=2,1,1\n",
    "S=Segre_Num_quot_fast(n,N,r)\n",
    "V=Verlinde_Num_quot_fast(n,N,r)\n",
    "diff= S-(-1)^(N*n)*V\n",
    "pretty(diff)"
   ]
  },
  {
   "cell_type": "code",
   "execution_count": 21,
   "metadata": {
    "scrolled": true
   },
   "outputs": [
    {
     "data": {
      "text/html": [
       "<html><script type=\"math/tex; mode=display\">\\newcommand{\\Bold}[1]{\\mathbf{#1}}-\\frac{{\\left(22 \\, m_{1}^{3} t_{1}^{2} t_{2} + 22 \\, m_{1}^{3} t_{1} t_{2}^{2} + 22 \\, m_{1}^{3} t_{1}^{2} t_{3} + 44 \\, m_{1}^{3} t_{1} t_{2} t_{3} - 195 \\, m_{1}^{2} t_{1}^{2} t_{2} t_{3} - 24 \\, t_{1}^{4} t_{2} t_{3} + 22 \\, m_{1}^{3} t_{2}^{2} t_{3} - 195 \\, m_{1}^{2} t_{1} t_{2}^{2} t_{3} - 48 \\, t_{1}^{3} t_{2}^{2} t_{3} - 48 \\, t_{1}^{2} t_{2}^{3} t_{3} - 24 \\, t_{1} t_{2}^{4} t_{3} + 22 \\, m_{1}^{3} t_{1} t_{3}^{2} + 22 \\, m_{1}^{3} t_{2} t_{3}^{2} - 195 \\, m_{1}^{2} t_{1} t_{2} t_{3}^{2} - 48 \\, t_{1}^{3} t_{2} t_{3}^{2} - 72 \\, t_{1}^{2} t_{2}^{2} t_{3}^{2} - 48 \\, t_{1} t_{2}^{3} t_{3}^{2} - 48 \\, t_{1}^{2} t_{2} t_{3}^{3} - 48 \\, t_{1} t_{2}^{2} t_{3}^{3} - 24 \\, t_{1} t_{2} t_{3}^{4} + 66 \\, m_{1}^{2} t_{1}^{2} t_{2} w_{1} + 66 \\, m_{1}^{2} t_{1} t_{2}^{2} w_{1} + 66 \\, m_{1}^{2} t_{1}^{2} t_{3} w_{1} + 132 \\, m_{1}^{2} t_{1} t_{2} t_{3} w_{1} - 390 \\, m_{1} t_{1}^{2} t_{2} t_{3} w_{1} + 66 \\, m_{1}^{2} t_{2}^{2} t_{3} w_{1} - 390 \\, m_{1} t_{1} t_{2}^{2} t_{3} w_{1} + 66 \\, m_{1}^{2} t_{1} t_{3}^{2} w_{1} + 66 \\, m_{1}^{2} t_{2} t_{3}^{2} w_{1} - 390 \\, m_{1} t_{1} t_{2} t_{3}^{2} w_{1} + 66 \\, m_{1} t_{1}^{2} t_{2} w_{1}^{2} + 66 \\, m_{1} t_{1} t_{2}^{2} w_{1}^{2} + 66 \\, m_{1} t_{1}^{2} t_{3} w_{1}^{2} + 132 \\, m_{1} t_{1} t_{2} t_{3} w_{1}^{2} - 195 \\, t_{1}^{2} t_{2} t_{3} w_{1}^{2} + 66 \\, m_{1} t_{2}^{2} t_{3} w_{1}^{2} - 195 \\, t_{1} t_{2}^{2} t_{3} w_{1}^{2} + 66 \\, m_{1} t_{1} t_{3}^{2} w_{1}^{2} + 66 \\, m_{1} t_{2} t_{3}^{2} w_{1}^{2} - 195 \\, t_{1} t_{2} t_{3}^{2} w_{1}^{2} + 22 \\, t_{1}^{2} t_{2} w_{1}^{3} + 22 \\, t_{1} t_{2}^{2} w_{1}^{3} + 22 \\, t_{1}^{2} t_{3} w_{1}^{3} + 44 \\, t_{1} t_{2} t_{3} w_{1}^{3} + 22 \\, t_{2}^{2} t_{3} w_{1}^{3} + 22 \\, t_{1} t_{3}^{2} w_{1}^{3} + 22 \\, t_{2} t_{3}^{2} w_{1}^{3}\\right)} {\\left(t_{1} + t_{2}\\right)}^{2} {\\left(t_{1} + t_{3}\\right)}^{2} {\\left(t_{2} + t_{3}\\right)}^{2}}{24 \\, {\\left(t_{1} + t_{2} + t_{3}\\right)}^{3} t_{1}^{3} t_{2}^{3} t_{3}^{3}}</script></html>"
      ],
      "text/latex": [
       "$$\\newcommand{\\Bold}[1]{\\mathbf{#1}}-\\frac{{\\left(22 \\, m_{1}^{3} t_{1}^{2} t_{2} + 22 \\, m_{1}^{3} t_{1} t_{2}^{2} + 22 \\, m_{1}^{3} t_{1}^{2} t_{3} + 44 \\, m_{1}^{3} t_{1} t_{2} t_{3} - 195 \\, m_{1}^{2} t_{1}^{2} t_{2} t_{3} - 24 \\, t_{1}^{4} t_{2} t_{3} + 22 \\, m_{1}^{3} t_{2}^{2} t_{3} - 195 \\, m_{1}^{2} t_{1} t_{2}^{2} t_{3} - 48 \\, t_{1}^{3} t_{2}^{2} t_{3} - 48 \\, t_{1}^{2} t_{2}^{3} t_{3} - 24 \\, t_{1} t_{2}^{4} t_{3} + 22 \\, m_{1}^{3} t_{1} t_{3}^{2} + 22 \\, m_{1}^{3} t_{2} t_{3}^{2} - 195 \\, m_{1}^{2} t_{1} t_{2} t_{3}^{2} - 48 \\, t_{1}^{3} t_{2} t_{3}^{2} - 72 \\, t_{1}^{2} t_{2}^{2} t_{3}^{2} - 48 \\, t_{1} t_{2}^{3} t_{3}^{2} - 48 \\, t_{1}^{2} t_{2} t_{3}^{3} - 48 \\, t_{1} t_{2}^{2} t_{3}^{3} - 24 \\, t_{1} t_{2} t_{3}^{4} + 66 \\, m_{1}^{2} t_{1}^{2} t_{2} w_{1} + 66 \\, m_{1}^{2} t_{1} t_{2}^{2} w_{1} + 66 \\, m_{1}^{2} t_{1}^{2} t_{3} w_{1} + 132 \\, m_{1}^{2} t_{1} t_{2} t_{3} w_{1} - 390 \\, m_{1} t_{1}^{2} t_{2} t_{3} w_{1} + 66 \\, m_{1}^{2} t_{2}^{2} t_{3} w_{1} - 390 \\, m_{1} t_{1} t_{2}^{2} t_{3} w_{1} + 66 \\, m_{1}^{2} t_{1} t_{3}^{2} w_{1} + 66 \\, m_{1}^{2} t_{2} t_{3}^{2} w_{1} - 390 \\, m_{1} t_{1} t_{2} t_{3}^{2} w_{1} + 66 \\, m_{1} t_{1}^{2} t_{2} w_{1}^{2} + 66 \\, m_{1} t_{1} t_{2}^{2} w_{1}^{2} + 66 \\, m_{1} t_{1}^{2} t_{3} w_{1}^{2} + 132 \\, m_{1} t_{1} t_{2} t_{3} w_{1}^{2} - 195 \\, t_{1}^{2} t_{2} t_{3} w_{1}^{2} + 66 \\, m_{1} t_{2}^{2} t_{3} w_{1}^{2} - 195 \\, t_{1} t_{2}^{2} t_{3} w_{1}^{2} + 66 \\, m_{1} t_{1} t_{3}^{2} w_{1}^{2} + 66 \\, m_{1} t_{2} t_{3}^{2} w_{1}^{2} - 195 \\, t_{1} t_{2} t_{3}^{2} w_{1}^{2} + 22 \\, t_{1}^{2} t_{2} w_{1}^{3} + 22 \\, t_{1} t_{2}^{2} w_{1}^{3} + 22 \\, t_{1}^{2} t_{3} w_{1}^{3} + 44 \\, t_{1} t_{2} t_{3} w_{1}^{3} + 22 \\, t_{2}^{2} t_{3} w_{1}^{3} + 22 \\, t_{1} t_{3}^{2} w_{1}^{3} + 22 \\, t_{2} t_{3}^{2} w_{1}^{3}\\right)} {\\left(t_{1} + t_{2}\\right)}^{2} {\\left(t_{1} + t_{3}\\right)}^{2} {\\left(t_{2} + t_{3}\\right)}^{2}}{24 \\, {\\left(t_{1} + t_{2} + t_{3}\\right)}^{3} t_{1}^{3} t_{2}^{3} t_{3}^{3}}$$"
      ],
      "text/plain": [
       "-1/24*(22*m1^3*t1^2*t2 + 22*m1^3*t1*t2^2 + 22*m1^3*t1^2*t3 + 44*m1^3*t1*t2*t3 - 195*m1^2*t1^2*t2*t3 - 24*t1^4*t2*t3 + 22*m1^3*t2^2*t3 - 195*m1^2*t1*t2^2*t3 - 48*t1^3*t2^2*t3 - 48*t1^2*t2^3*t3 - 24*t1*t2^4*t3 + 22*m1^3*t1*t3^2 + 22*m1^3*t2*t3^2 - 195*m1^2*t1*t2*t3^2 - 48*t1^3*t2*t3^2 - 72*t1^2*t2^2*t3^2 - 48*t1*t2^3*t3^2 - 48*t1^2*t2*t3^3 - 48*t1*t2^2*t3^3 - 24*t1*t2*t3^4 + 66*m1^2*t1^2*t2*w1 + 66*m1^2*t1*t2^2*w1 + 66*m1^2*t1^2*t3*w1 + 132*m1^2*t1*t2*t3*w1 - 390*m1*t1^2*t2*t3*w1 + 66*m1^2*t2^2*t3*w1 - 390*m1*t1*t2^2*t3*w1 + 66*m1^2*t1*t3^2*w1 + 66*m1^2*t2*t3^2*w1 - 390*m1*t1*t2*t3^2*w1 + 66*m1*t1^2*t2*w1^2 + 66*m1*t1*t2^2*w1^2 + 66*m1*t1^2*t3*w1^2 + 132*m1*t1*t2*t3*w1^2 - 195*t1^2*t2*t3*w1^2 + 66*m1*t2^2*t3*w1^2 - 195*t1*t2^2*t3*w1^2 + 66*m1*t1*t3^2*w1^2 + 66*m1*t2*t3^2*w1^2 - 195*t1*t2*t3^2*w1^2 + 22*t1^2*t2*w1^3 + 22*t1*t2^2*w1^3 + 22*t1^2*t3*w1^3 + 44*t1*t2*t3*w1^3 + 22*t2^2*t3*w1^3 + 22*t1*t3^2*w1^3 + 22*t2*t3^2*w1^3)*(t1 + t2)^2*(t1 + t3)^2*(t2 + t3)^2/((t1 + t2 + t3)^3*t1^3*t2^3*t3^3)"
      ]
     },
     "execution_count": 21,
     "metadata": {},
     "output_type": "execute_result"
    }
   ],
   "source": [
    "n,N,r=3,1,1\n",
    "S=Segre_Num_quot_fast(n,N,r)\n",
    "V=Verlinde_Num_quot_fast(n,N,r)\n",
    "diff= S-(-1)^(N*n)*V\n",
    "pretty(diff)"
   ]
  },
  {
   "cell_type": "code",
   "execution_count": 23,
   "metadata": {},
   "outputs": [
    {
     "data": {
      "text/html": [
       "<html><script type=\"math/tex; mode=display\">\\newcommand{\\Bold}[1]{\\mathbf{#1}}\\frac{{\\left(m_{1} + w_{1}\\right)} {\\left(m_{2} + w_{1}\\right)} {\\left(t_{1} + t_{2}\\right)}^{2} {\\left(t_{1} + t_{3}\\right)}^{2} {\\left(t_{2} + t_{3}\\right)}^{2}}{{\\left(t_{1} + t_{2} + t_{3}\\right)}^{2} t_{1}^{2} t_{2}^{2} t_{3}^{2}}</script></html>"
      ],
      "text/latex": [
       "$$\\newcommand{\\Bold}[1]{\\mathbf{#1}}\\frac{{\\left(m_{1} + w_{1}\\right)} {\\left(m_{2} + w_{1}\\right)} {\\left(t_{1} + t_{2}\\right)}^{2} {\\left(t_{1} + t_{3}\\right)}^{2} {\\left(t_{2} + t_{3}\\right)}^{2}}{{\\left(t_{1} + t_{2} + t_{3}\\right)}^{2} t_{1}^{2} t_{2}^{2} t_{3}^{2}}$$"
      ],
      "text/plain": [
       "(m1 + w1)*(m2 + w1)*(t1 + t2)^2*(t1 + t3)^2*(t2 + t3)^2/((t1 + t2 + t3)^2*t1^2*t2^2*t3^2)"
      ]
     },
     "execution_count": 23,
     "metadata": {},
     "output_type": "execute_result"
    }
   ],
   "source": [
    "n,N,r=2,2,1\n",
    "S=Segre_Num_quot_fast(n,N,r)\n",
    "V=Verlinde_Num_quot_fast(n,N,r)\n",
    "diff= S-(-1)^(N*n)*V\n",
    "pretty(diff)"
   ]
  },
  {
   "cell_type": "code",
   "execution_count": 24,
   "metadata": {},
   "outputs": [
    {
     "data": {
      "text/html": [
       "<html><script type=\"math/tex; mode=display\">\\newcommand{\\Bold}[1]{\\mathbf{#1}}\\frac{{\\left(m_{1}^{2} + 10 \\, m_{1} m_{2} + m_{2}^{2} + 6 \\, m_{1} w_{1} + 6 \\, m_{2} w_{1} + 7 \\, w_{1}^{2} + 6 \\, m_{1} w_{2} + 6 \\, m_{2} w_{2} - 2 \\, w_{1} w_{2} + 7 \\, w_{2}^{2}\\right)} {\\left(t_{1} + t_{2}\\right)}^{2} {\\left(t_{1} + t_{3}\\right)}^{2} {\\left(t_{2} + t_{3}\\right)}^{2}}{2 \\, {\\left(t_{1} + t_{2} + t_{3}\\right)}^{2} t_{1}^{2} t_{2}^{2} t_{3}^{2}}</script></html>"
      ],
      "text/latex": [
       "$$\\newcommand{\\Bold}[1]{\\mathbf{#1}}\\frac{{\\left(m_{1}^{2} + 10 \\, m_{1} m_{2} + m_{2}^{2} + 6 \\, m_{1} w_{1} + 6 \\, m_{2} w_{1} + 7 \\, w_{1}^{2} + 6 \\, m_{1} w_{2} + 6 \\, m_{2} w_{2} - 2 \\, w_{1} w_{2} + 7 \\, w_{2}^{2}\\right)} {\\left(t_{1} + t_{2}\\right)}^{2} {\\left(t_{1} + t_{3}\\right)}^{2} {\\left(t_{2} + t_{3}\\right)}^{2}}{2 \\, {\\left(t_{1} + t_{2} + t_{3}\\right)}^{2} t_{1}^{2} t_{2}^{2} t_{3}^{2}}$$"
      ],
      "text/plain": [
       "1/2*(m1^2 + 10*m1*m2 + m2^2 + 6*m1*w1 + 6*m2*w1 + 7*w1^2 + 6*m1*w2 + 6*m2*w2 - 2*w1*w2 + 7*w2^2)*(t1 + t2)^2*(t1 + t3)^2*(t2 + t3)^2/((t1 + t2 + t3)^2*t1^2*t2^2*t3^2)"
      ]
     },
     "execution_count": 24,
     "metadata": {},
     "output_type": "execute_result"
    }
   ],
   "source": [
    "n,N,r=2,2,2\n",
    "S=Segre_Num_quot_fast(n,N,r)\n",
    "V=Verlinde_Num_quot_fast(n,N,r)\n",
    "diff= S-(-1)^(N*n)*V\n",
    "pretty(diff)"
   ]
  }
 ],
 "metadata": {
  "kernelspec": {
   "display_name": "SageMath 9.3",
   "language": "sage",
   "name": "sagemath"
  },
  "language_info": {
   "codemirror_mode": {
    "name": "ipython",
    "version": 3
   },
   "file_extension": ".py",
   "mimetype": "text/x-python",
   "name": "python",
   "nbconvert_exporter": "python",
   "pygments_lexer": "ipython3",
   "version": "3.7.10"
  }
 },
 "nbformat": 4,
 "nbformat_minor": 4
}
