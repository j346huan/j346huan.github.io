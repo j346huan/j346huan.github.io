{
 "cells": [
  {
   "cell_type": "code",
   "execution_count": 1,
   "metadata": {},
   "outputs": [],
   "source": [
    "reset()\n",
    "%display latex\n",
    "Partitions.options.latex=\"list\"\n",
    "load(\"partition_4d.sage\")"
   ]
  },
  {
   "cell_type": "code",
   "execution_count": 168,
   "metadata": {
    "scrolled": false
   },
   "outputs": [
    {
     "data": {
      "text/html": [
       "<html><script type=\"math/tex; mode=display\">\\newcommand{\\Bold}[1]{\\mathbf{#1}}\\verb|point-like|\\phantom{\\verb!x!}\\verb|solid|\\phantom{\\verb!x!}\\verb|partition|\\phantom{\\verb!x!}\\verb|with|\\phantom{\\verb!x!}\\verb|boxes|\\phantom{\\verb!x!}\\verb|[(0,|\\phantom{\\verb!x!}\\verb|0,|\\phantom{\\verb!x!}\\verb|0,|\\phantom{\\verb!x!}\\verb|1),|\\phantom{\\verb!x!}\\verb|(0,|\\phantom{\\verb!x!}\\verb|0,|\\phantom{\\verb!x!}\\verb|0,|\\phantom{\\verb!x!}\\verb|0)]|</script></html>"
      ],
      "text/latex": [
       "$$\\newcommand{\\Bold}[1]{\\mathbf{#1}}\\verb|point-like|\\phantom{\\verb!x!}\\verb|solid|\\phantom{\\verb!x!}\\verb|partition|\\phantom{\\verb!x!}\\verb|with|\\phantom{\\verb!x!}\\verb|boxes|\\phantom{\\verb!x!}\\verb|[(0,|\\phantom{\\verb!x!}\\verb|0,|\\phantom{\\verb!x!}\\verb|0,|\\phantom{\\verb!x!}\\verb|1),|\\phantom{\\verb!x!}\\verb|(0,|\\phantom{\\verb!x!}\\verb|0,|\\phantom{\\verb!x!}\\verb|0,|\\phantom{\\verb!x!}\\verb|0)]|$$"
      ],
      "text/plain": [
       "point-like solid partition with boxes [(0, 0, 0, 1), (0, 0, 0, 0)]"
      ]
     },
     "execution_count": 168,
     "metadata": {},
     "output_type": "execute_result"
    }
   ],
   "source": [
    "pP4ds = Partitions4d()\n",
    "pP4d = list(pP4ds.with_num_boxes(2))\n",
    "Ex = pP4d[1]\n",
    "Ex"
   ]
  },
  {
   "cell_type": "code",
   "execution_count": 2,
   "metadata": {},
   "outputs": [],
   "source": [
    "load(\"vertex_4d.sage\")\n",
    "EasyEx=Partition4d([(0,0,0,0)])"
   ]
  },
  {
   "cell_type": "markdown",
   "metadata": {},
   "source": [
    "# Compare Verlinde with (total) Segre number"
   ]
  },
  {
   "cell_type": "markdown",
   "metadata": {},
   "source": [
    "To begin, we use the rank 1 bundle."
   ]
  },
  {
   "cell_type": "code",
   "execution_count": 3,
   "metadata": {},
   "outputs": [
    {
     "data": {
      "text/html": [
       "<html><script type=\"math/tex; mode=display\">\\newcommand{\\Bold}[1]{\\mathbf{#1}}\\frac{{\\left(t_{1} + t_{2}\\right)} {\\left(t_{1} + t_{3}\\right)} {\\left(t_{2} + t_{3}\\right)}}{b {\\left(t_{1} + t_{2} + t_{3}\\right)} t_{1} t_{2} t_{3}}</script></html>"
      ],
      "text/latex": [
       "$$\\newcommand{\\Bold}[1]{\\mathbf{#1}}\\frac{{\\left(t_{1} + t_{2}\\right)} {\\left(t_{1} + t_{3}\\right)} {\\left(t_{2} + t_{3}\\right)}}{b {\\left(t_{1} + t_{2} + t_{3}\\right)} t_{1} t_{2} t_{3}}$$"
      ],
      "text/plain": [
       "(t1 + t2)*(t1 + t3)*(t2 + t3)/(b*(t1 + t2 + t3)*t1*t2*t3)"
      ]
     },
     "execution_count": 3,
     "metadata": {},
     "output_type": "execute_result"
    }
   ],
   "source": [
    "x1,x2,x3,x4,y,v=Default4d.KT_ring.gens()\n",
    "u1,u2,u3,u4,w,sqrtv = Default4d.sqrtKT_ring.gens()\n",
    "t1,t2,t3,t4,m,halfm = Default4d.coho_ring.gens()\n",
    "q=Default4d.cohoseries_ring.gen()\n",
    "b=var('b')\n",
    "w1,w2,w3=var('w1'),var('w2'),var('w3')\n",
    "\n",
    "\n",
    "\n",
    "Weight=(0,0,0)\n",
    "tc = Vertex4d.Total_Segre(Weight,1)(t1*b,t2*b,t3*b,t4*b,0,0)\n",
    "pretty(tc.taylor(b,0,0))"
   ]
  },
  {
   "cell_type": "code",
   "execution_count": 5,
   "metadata": {
    "scrolled": true
   },
   "outputs": [
    {
     "data": {
      "text/html": [
       "<html><script type=\"math/tex; mode=display\">\\newcommand{\\Bold}[1]{\\mathbf{#1}}\\frac{{\\left(t_{1} + t_{2}\\right)} {\\left(t_{1} + t_{3}\\right)} {\\left(t_{2} + t_{3}\\right)}}{b {\\left(t_{1} + t_{2} + t_{3}\\right)} t_{1} t_{2} t_{3}}</script></html>"
      ],
      "text/latex": [
       "$$\\newcommand{\\Bold}[1]{\\mathbf{#1}}\\frac{{\\left(t_{1} + t_{2}\\right)} {\\left(t_{1} + t_{3}\\right)} {\\left(t_{2} + t_{3}\\right)}}{b {\\left(t_{1} + t_{2} + t_{3}\\right)} t_{1} t_{2} t_{3}}$$"
      ],
      "text/plain": [
       "(t1 + t2)*(t1 + t3)*(t2 + t3)/(b*(t1 + t2 + t3)*t1*t2*t3)"
      ]
     },
     "execution_count": 5,
     "metadata": {},
     "output_type": "execute_result"
    }
   ],
   "source": [
    "verl = Vertex4d.Verlinde(Weight,1)(exp(t1*b),exp(t2*b),exp(t3*b),0,0,0)\n",
    "pretty(verl.taylor(b,0,0))"
   ]
  },
  {
   "cell_type": "markdown",
   "metadata": {},
   "source": [
    "We get the desired term when restricting to degree $\\deg b\\leq 0$. The difference in degree 1 term is \n",
    "\n",
    "$$\\sum_{i=1}^r \\frac{(t_1+t_2)(t_1+t_3)(t_2+t_3)(w_1^{(i)}t_1+w_2^{(i)}t_2+w_3^{(i)}t_3)^2}{2(t_1+t_2+t_3)t_1t_2t_3} $$\n",
    "\n",
    "When $n=2$,"
   ]
  },
  {
   "cell_type": "code",
   "execution_count": 6,
   "metadata": {
    "scrolled": true
   },
   "outputs": [
    {
     "data": {
      "text/html": [
       "<html><script type=\"math/tex; mode=display\">\\newcommand{\\Bold}[1]{\\mathbf{#1}}\\frac{{\\left(4 \\, t_{1}^{6} t_{2} + 12 \\, t_{1}^{5} t_{2}^{2} + 20 \\, t_{1}^{4} t_{2}^{3} + 20 \\, t_{1}^{3} t_{2}^{4} + 12 \\, t_{1}^{2} t_{2}^{5} + 4 \\, t_{1} t_{2}^{6} + 4 \\, {\\left(t_{1} + t_{2}\\right)} t_{3}^{6} + 12 \\, {\\left(t_{1}^{2} + 2 \\, t_{1} t_{2} + t_{2}^{2}\\right)} t_{3}^{5} + {\\left(20 \\, t_{1}^{3} + 61 \\, t_{1}^{2} t_{2} + 61 \\, t_{1} t_{2}^{2} + 20 \\, t_{2}^{3}\\right)} t_{3}^{4} + 2 \\, {\\left(10 \\, t_{1}^{4} + 41 \\, t_{1}^{3} t_{2} + 62 \\, t_{1}^{2} t_{2}^{2} + 41 \\, t_{1} t_{2}^{3} + 10 \\, t_{2}^{4}\\right)} t_{3}^{3} + {\\left(12 \\, t_{1}^{5} + 61 \\, t_{1}^{4} t_{2} + 124 \\, t_{1}^{3} t_{2}^{2} + 124 \\, t_{1}^{2} t_{2}^{3} + 61 \\, t_{1} t_{2}^{4} + 12 \\, t_{2}^{5}\\right)} t_{3}^{2} + {\\left(4 \\, t_{1}^{6} + 24 \\, t_{1}^{5} t_{2} + 61 \\, t_{1}^{4} t_{2}^{2} + 82 \\, t_{1}^{3} t_{2}^{3} + 61 \\, t_{1}^{2} t_{2}^{4} + 24 \\, t_{1} t_{2}^{5} + 4 \\, t_{2}^{6}\\right)} t_{3}\\right)} b^{3}}{2 \\, {\\left(t_{1} t_{2} t_{3}^{2} + {\\left(t_{1}^{2} t_{2} + t_{1} t_{2}^{2}\\right)} t_{3}\\right)}} + \\frac{3 \\, {\\left(t_{1}^{4} t_{2}^{2} + 2 \\, t_{1}^{3} t_{2}^{3} + t_{1}^{2} t_{2}^{4} + {\\left(t_{1}^{2} + 2 \\, t_{1} t_{2} + t_{2}^{2}\\right)} t_{3}^{4} + 2 \\, {\\left(t_{1}^{3} + 3 \\, t_{1}^{2} t_{2} + 3 \\, t_{1} t_{2}^{2} + t_{2}^{3}\\right)} t_{3}^{3} + {\\left(t_{1}^{4} + 6 \\, t_{1}^{3} t_{2} + 10 \\, t_{1}^{2} t_{2}^{2} + 6 \\, t_{1} t_{2}^{3} + t_{2}^{4}\\right)} t_{3}^{2} + 2 \\, {\\left(t_{1}^{4} t_{2} + 3 \\, t_{1}^{3} t_{2}^{2} + 3 \\, t_{1}^{2} t_{2}^{3} + t_{1} t_{2}^{4}\\right)} t_{3}\\right)} b^{2}}{t_{1} t_{2} t_{3}^{2} + {\\left(t_{1}^{2} t_{2} + t_{1} t_{2}^{2}\\right)} t_{3}} + \\frac{2 \\, {\\left(t_{1}^{4} t_{2} + 2 \\, t_{1}^{3} t_{2}^{2} + 2 \\, t_{1}^{2} t_{2}^{3} + t_{1} t_{2}^{4} + {\\left(t_{1} + t_{2}\\right)} t_{3}^{4} + 2 \\, {\\left(t_{1}^{2} + 2 \\, t_{1} t_{2} + t_{2}^{2}\\right)} t_{3}^{3} + 2 \\, {\\left(t_{1}^{3} + 3 \\, t_{1}^{2} t_{2} + 3 \\, t_{1} t_{2}^{2} + t_{2}^{3}\\right)} t_{3}^{2} + {\\left(t_{1}^{4} + 4 \\, t_{1}^{3} t_{2} + 6 \\, t_{1}^{2} t_{2}^{2} + 4 \\, t_{1} t_{2}^{3} + t_{2}^{4}\\right)} t_{3}\\right)} b}{t_{1} t_{2} t_{3}^{2} + {\\left(t_{1}^{2} t_{2} + t_{1} t_{2}^{2}\\right)} t_{3}} + \\frac{5 \\, {\\left(t_{1}^{2} t_{2} + t_{1} t_{2}^{2} + {\\left(t_{1} + t_{2}\\right)} t_{3}^{2} + {\\left(t_{1}^{2} + 2 \\, t_{1} t_{2} + t_{2}^{2}\\right)} t_{3}\\right)}}{2 \\, {\\left(t_{1} t_{2} t_{3}^{2} + {\\left(t_{1}^{2} t_{2} + t_{1} t_{2}^{2}\\right)} t_{3}\\right)} b} + \\frac{t_{1}^{4} t_{2}^{2} + 2 \\, t_{1}^{3} t_{2}^{3} + t_{1}^{2} t_{2}^{4} + {\\left(t_{1}^{2} + 2 \\, t_{1} t_{2} + t_{2}^{2}\\right)} t_{3}^{4} + 2 \\, {\\left(t_{1}^{3} + 3 \\, t_{1}^{2} t_{2} + 3 \\, t_{1} t_{2}^{2} + t_{2}^{3}\\right)} t_{3}^{3} + {\\left(t_{1}^{4} + 6 \\, t_{1}^{3} t_{2} + 10 \\, t_{1}^{2} t_{2}^{2} + 6 \\, t_{1} t_{2}^{3} + t_{2}^{4}\\right)} t_{3}^{2} + 2 \\, {\\left(t_{1}^{4} t_{2} + 3 \\, t_{1}^{3} t_{2}^{2} + 3 \\, t_{1}^{2} t_{2}^{3} + t_{1} t_{2}^{4}\\right)} t_{3}}{2 \\, {\\left(t_{1}^{2} t_{2}^{2} t_{3}^{4} + 2 \\, {\\left(t_{1}^{3} t_{2}^{2} + t_{1}^{2} t_{2}^{3}\\right)} t_{3}^{3} + {\\left(t_{1}^{4} t_{2}^{2} + 2 \\, t_{1}^{3} t_{2}^{3} + t_{1}^{2} t_{2}^{4}\\right)} t_{3}^{2}\\right)} b^{2}}</script></html>"
      ],
      "text/latex": [
       "$$\\newcommand{\\Bold}[1]{\\mathbf{#1}}\\frac{{\\left(4 \\, t_{1}^{6} t_{2} + 12 \\, t_{1}^{5} t_{2}^{2} + 20 \\, t_{1}^{4} t_{2}^{3} + 20 \\, t_{1}^{3} t_{2}^{4} + 12 \\, t_{1}^{2} t_{2}^{5} + 4 \\, t_{1} t_{2}^{6} + 4 \\, {\\left(t_{1} + t_{2}\\right)} t_{3}^{6} + 12 \\, {\\left(t_{1}^{2} + 2 \\, t_{1} t_{2} + t_{2}^{2}\\right)} t_{3}^{5} + {\\left(20 \\, t_{1}^{3} + 61 \\, t_{1}^{2} t_{2} + 61 \\, t_{1} t_{2}^{2} + 20 \\, t_{2}^{3}\\right)} t_{3}^{4} + 2 \\, {\\left(10 \\, t_{1}^{4} + 41 \\, t_{1}^{3} t_{2} + 62 \\, t_{1}^{2} t_{2}^{2} + 41 \\, t_{1} t_{2}^{3} + 10 \\, t_{2}^{4}\\right)} t_{3}^{3} + {\\left(12 \\, t_{1}^{5} + 61 \\, t_{1}^{4} t_{2} + 124 \\, t_{1}^{3} t_{2}^{2} + 124 \\, t_{1}^{2} t_{2}^{3} + 61 \\, t_{1} t_{2}^{4} + 12 \\, t_{2}^{5}\\right)} t_{3}^{2} + {\\left(4 \\, t_{1}^{6} + 24 \\, t_{1}^{5} t_{2} + 61 \\, t_{1}^{4} t_{2}^{2} + 82 \\, t_{1}^{3} t_{2}^{3} + 61 \\, t_{1}^{2} t_{2}^{4} + 24 \\, t_{1} t_{2}^{5} + 4 \\, t_{2}^{6}\\right)} t_{3}\\right)} b^{3}}{2 \\, {\\left(t_{1} t_{2} t_{3}^{2} + {\\left(t_{1}^{2} t_{2} + t_{1} t_{2}^{2}\\right)} t_{3}\\right)}} + \\frac{3 \\, {\\left(t_{1}^{4} t_{2}^{2} + 2 \\, t_{1}^{3} t_{2}^{3} + t_{1}^{2} t_{2}^{4} + {\\left(t_{1}^{2} + 2 \\, t_{1} t_{2} + t_{2}^{2}\\right)} t_{3}^{4} + 2 \\, {\\left(t_{1}^{3} + 3 \\, t_{1}^{2} t_{2} + 3 \\, t_{1} t_{2}^{2} + t_{2}^{3}\\right)} t_{3}^{3} + {\\left(t_{1}^{4} + 6 \\, t_{1}^{3} t_{2} + 10 \\, t_{1}^{2} t_{2}^{2} + 6 \\, t_{1} t_{2}^{3} + t_{2}^{4}\\right)} t_{3}^{2} + 2 \\, {\\left(t_{1}^{4} t_{2} + 3 \\, t_{1}^{3} t_{2}^{2} + 3 \\, t_{1}^{2} t_{2}^{3} + t_{1} t_{2}^{4}\\right)} t_{3}\\right)} b^{2}}{t_{1} t_{2} t_{3}^{2} + {\\left(t_{1}^{2} t_{2} + t_{1} t_{2}^{2}\\right)} t_{3}} + \\frac{2 \\, {\\left(t_{1}^{4} t_{2} + 2 \\, t_{1}^{3} t_{2}^{2} + 2 \\, t_{1}^{2} t_{2}^{3} + t_{1} t_{2}^{4} + {\\left(t_{1} + t_{2}\\right)} t_{3}^{4} + 2 \\, {\\left(t_{1}^{2} + 2 \\, t_{1} t_{2} + t_{2}^{2}\\right)} t_{3}^{3} + 2 \\, {\\left(t_{1}^{3} + 3 \\, t_{1}^{2} t_{2} + 3 \\, t_{1} t_{2}^{2} + t_{2}^{3}\\right)} t_{3}^{2} + {\\left(t_{1}^{4} + 4 \\, t_{1}^{3} t_{2} + 6 \\, t_{1}^{2} t_{2}^{2} + 4 \\, t_{1} t_{2}^{3} + t_{2}^{4}\\right)} t_{3}\\right)} b}{t_{1} t_{2} t_{3}^{2} + {\\left(t_{1}^{2} t_{2} + t_{1} t_{2}^{2}\\right)} t_{3}} + \\frac{5 \\, {\\left(t_{1}^{2} t_{2} + t_{1} t_{2}^{2} + {\\left(t_{1} + t_{2}\\right)} t_{3}^{2} + {\\left(t_{1}^{2} + 2 \\, t_{1} t_{2} + t_{2}^{2}\\right)} t_{3}\\right)}}{2 \\, {\\left(t_{1} t_{2} t_{3}^{2} + {\\left(t_{1}^{2} t_{2} + t_{1} t_{2}^{2}\\right)} t_{3}\\right)} b} + \\frac{t_{1}^{4} t_{2}^{2} + 2 \\, t_{1}^{3} t_{2}^{3} + t_{1}^{2} t_{2}^{4} + {\\left(t_{1}^{2} + 2 \\, t_{1} t_{2} + t_{2}^{2}\\right)} t_{3}^{4} + 2 \\, {\\left(t_{1}^{3} + 3 \\, t_{1}^{2} t_{2} + 3 \\, t_{1} t_{2}^{2} + t_{2}^{3}\\right)} t_{3}^{3} + {\\left(t_{1}^{4} + 6 \\, t_{1}^{3} t_{2} + 10 \\, t_{1}^{2} t_{2}^{2} + 6 \\, t_{1} t_{2}^{3} + t_{2}^{4}\\right)} t_{3}^{2} + 2 \\, {\\left(t_{1}^{4} t_{2} + 3 \\, t_{1}^{3} t_{2}^{2} + 3 \\, t_{1}^{2} t_{2}^{3} + t_{1} t_{2}^{4}\\right)} t_{3}}{2 \\, {\\left(t_{1}^{2} t_{2}^{2} t_{3}^{4} + 2 \\, {\\left(t_{1}^{3} t_{2}^{2} + t_{1}^{2} t_{2}^{3}\\right)} t_{3}^{3} + {\\left(t_{1}^{4} t_{2}^{2} + 2 \\, t_{1}^{3} t_{2}^{3} + t_{1}^{2} t_{2}^{4}\\right)} t_{3}^{2}\\right)} b^{2}}$$"
      ],
      "text/plain": [
       "1/2*(4*t1^6*t2 + 12*t1^5*t2^2 + 20*t1^4*t2^3 + 20*t1^3*t2^4 + 12*t1^2*t2^5 + 4*t1*t2^6 + 4*(t1 + t2)*t3^6 + 12*(t1^2 + 2*t1*t2 + t2^2)*t3^5 + (20*t1^3 + 61*t1^2*t2 + 61*t1*t2^2 + 20*t2^3)*t3^4 + 2*(10*t1^4 + 41*t1^3*t2 + 62*t1^2*t2^2 + 41*t1*t2^3 + 10*t2^4)*t3^3 + (12*t1^5 + 61*t1^4*t2 + 124*t1^3*t2^2 + 124*t1^2*t2^3 + 61*t1*t2^4 + 12*t2^5)*t3^2 + (4*t1^6 + 24*t1^5*t2 + 61*t1^4*t2^2 + 82*t1^3*t2^3 + 61*t1^2*t2^4 + 24*t1*t2^5 + 4*t2^6)*t3)*b^3/(t1*t2*t3^2 + (t1^2*t2 + t1*t2^2)*t3) + 3*(t1^4*t2^2 + 2*t1^3*t2^3 + t1^2*t2^4 + (t1^2 + 2*t1*t2 + t2^2)*t3^4 + 2*(t1^3 + 3*t1^2*t2 + 3*t1*t2^2 + t2^3)*t3^3 + (t1^4 + 6*t1^3*t2 + 10*t1^2*t2^2 + 6*t1*t2^3 + t2^4)*t3^2 + 2*(t1^4*t2 + 3*t1^3*t2^2 + 3*t1^2*t2^3 + t1*t2^4)*t3)*b^2/(t1*t2*t3^2 + (t1^2*t2 + t1*t2^2)*t3) + 2*(t1^4*t2 + 2*t1^3*t2^2 + 2*t1^2*t2^3 + t1*t2^4 + (t1 + t2)*t3^4 + 2*(t1^2 + 2*t1*t2 + t2^2)*t3^3 + 2*(t1^3 + 3*t1^2*t2 + 3*t1*t2^2 + t2^3)*t3^2 + (t1^4 + 4*t1^3*t2 + 6*t1^2*t2^2 + 4*t1*t2^3 + t2^4)*t3)*b/(t1*t2*t3^2 + (t1^2*t2 + t1*t2^2)*t3) + 5/2*(t1^2*t2 + t1*t2^2 + (t1 + t2)*t3^2 + (t1^2 + 2*t1*t2 + t2^2)*t3)/((t1*t2*t3^2 + (t1^2*t2 + t1*t2^2)*t3)*b) + 1/2*(t1^4*t2^2 + 2*t1^3*t2^3 + t1^2*t2^4 + (t1^2 + 2*t1*t2 + t2^2)*t3^4 + 2*(t1^3 + 3*t1^2*t2 + 3*t1*t2^2 + t2^3)*t3^3 + (t1^4 + 6*t1^3*t2 + 10*t1^2*t2^2 + 6*t1*t2^3 + t2^4)*t3^2 + 2*(t1^4*t2 + 3*t1^3*t2^2 + 3*t1^2*t2^3 + t1*t2^4)*t3)/((t1^2*t2^2*t3^4 + 2*(t1^3*t2^2 + t1^2*t2^3)*t3^3 + (t1^4*t2^2 + 2*t1^3*t2^3 + t1^2*t2^4)*t3^2)*b^2)"
      ]
     },
     "execution_count": 6,
     "metadata": {},
     "output_type": "execute_result"
    }
   ],
   "source": [
    "Weight1=(0,0,0)\n",
    "\n",
    "tc2 = Vertex4d.Total_Segre(Weight1,2)(t1*b,t2*b,t3*b,t4*b,0,0)\n",
    "tc2.taylor(b,0,3)\n"
   ]
  },
  {
   "cell_type": "code",
   "execution_count": 5,
   "metadata": {},
   "outputs": [
    {
     "data": {
      "text/html": [
       "<html><script type=\"math/tex; mode=display\">\\newcommand{\\Bold}[1]{\\mathbf{#1}}-\\frac{{\\left(t_{1}^{6} {\\left(t_{2} + t_{3}\\right)} + t_{2}^{6} t_{3} + 3 \\, t_{2}^{5} t_{3}^{2} + 5 \\, t_{2}^{4} t_{3}^{3} + 5 \\, t_{2}^{3} t_{3}^{4} + 3 \\, t_{2}^{2} t_{3}^{5} + t_{2} t_{3}^{6} + 3 \\, {\\left(t_{2}^{2} + 2 \\, t_{2} t_{3} + t_{3}^{2}\\right)} t_{1}^{5} + {\\left(5 \\, t_{2}^{3} + 16 \\, t_{2}^{2} t_{3} + 16 \\, t_{2} t_{3}^{2} + 5 \\, t_{3}^{3}\\right)} t_{1}^{4} + {\\left(5 \\, t_{2}^{4} + 22 \\, t_{2}^{3} t_{3} + 34 \\, t_{2}^{2} t_{3}^{2} + 22 \\, t_{2} t_{3}^{3} + 5 \\, t_{3}^{4}\\right)} t_{1}^{3} + {\\left(3 \\, t_{2}^{5} + 16 \\, t_{2}^{4} t_{3} + 34 \\, t_{2}^{3} t_{3}^{2} + 34 \\, t_{2}^{2} t_{3}^{3} + 16 \\, t_{2} t_{3}^{4} + 3 \\, t_{3}^{5}\\right)} t_{1}^{2} + {\\left(t_{2}^{6} + 6 \\, t_{2}^{5} t_{3} + 16 \\, t_{2}^{4} t_{3}^{2} + 22 \\, t_{2}^{3} t_{3}^{3} + 16 \\, t_{2}^{2} t_{3}^{4} + 6 \\, t_{2} t_{3}^{5} + t_{3}^{6}\\right)} t_{1}\\right)} b^{3}}{12 \\, {\\left(t_{1}^{2} t_{2} t_{3} + {\\left(t_{2}^{2} t_{3} + t_{2} t_{3}^{2}\\right)} t_{1}\\right)}} + \\frac{121 \\, {\\left(t_{2}^{4} t_{3}^{2} + 2 \\, t_{2}^{3} t_{3}^{3} + t_{2}^{2} t_{3}^{4} + {\\left(t_{2}^{2} + 2 \\, t_{2} t_{3} + t_{3}^{2}\\right)} t_{1}^{4} + 2 \\, {\\left(t_{2}^{3} + 3 \\, t_{2}^{2} t_{3} + 3 \\, t_{2} t_{3}^{2} + t_{3}^{3}\\right)} t_{1}^{3} + {\\left(t_{2}^{4} + 6 \\, t_{2}^{3} t_{3} + 10 \\, t_{2}^{2} t_{3}^{2} + 6 \\, t_{2} t_{3}^{3} + t_{3}^{4}\\right)} t_{1}^{2} + 2 \\, {\\left(t_{2}^{4} t_{3} + 3 \\, t_{2}^{3} t_{3}^{2} + 3 \\, t_{2}^{2} t_{3}^{3} + t_{2} t_{3}^{4}\\right)} t_{1}\\right)} b^{2}}{240 \\, {\\left(t_{1}^{2} t_{2} t_{3} + {\\left(t_{2}^{2} t_{3} + t_{2} t_{3}^{2}\\right)} t_{1}\\right)}} - \\frac{{\\left(t_{1}^{4} {\\left(t_{2} + t_{3}\\right)} + t_{2}^{4} t_{3} + 2 \\, t_{2}^{3} t_{3}^{2} + 2 \\, t_{2}^{2} t_{3}^{3} + t_{2} t_{3}^{4} + 2 \\, {\\left(t_{2}^{2} + 2 \\, t_{2} t_{3} + t_{3}^{2}\\right)} t_{1}^{3} + 2 \\, {\\left(t_{2}^{3} + 3 \\, t_{2}^{2} t_{3} + 3 \\, t_{2} t_{3}^{2} + t_{3}^{3}\\right)} t_{1}^{2} + {\\left(t_{2}^{4} + 4 \\, t_{2}^{3} t_{3} + 6 \\, t_{2}^{2} t_{3}^{2} + 4 \\, t_{2} t_{3}^{3} + t_{3}^{4}\\right)} t_{1}\\right)} b}{t_{1}^{2} t_{2} t_{3} + {\\left(t_{2}^{2} t_{3} + t_{2} t_{3}^{2}\\right)} t_{1}} - \\frac{15 \\, {\\left(t_{1}^{2} {\\left(t_{2} + t_{3}\\right)} + t_{2}^{2} t_{3} + t_{2} t_{3}^{2} + {\\left(t_{2}^{2} + 2 \\, t_{2} t_{3} + t_{3}^{2}\\right)} t_{1}\\right)}}{4 \\, {\\left(t_{1}^{2} t_{2} t_{3} + {\\left(t_{2}^{2} t_{3} + t_{2} t_{3}^{2}\\right)} t_{1}\\right)} b} + \\frac{t_{2}^{4} t_{3}^{2} + 2 \\, t_{2}^{3} t_{3}^{3} + t_{2}^{2} t_{3}^{4} + {\\left(t_{2}^{2} + 2 \\, t_{2} t_{3} + t_{3}^{2}\\right)} t_{1}^{4} + 2 \\, {\\left(t_{2}^{3} + 3 \\, t_{2}^{2} t_{3} + 3 \\, t_{2} t_{3}^{2} + t_{3}^{3}\\right)} t_{1}^{3} + {\\left(t_{2}^{4} + 6 \\, t_{2}^{3} t_{3} + 10 \\, t_{2}^{2} t_{3}^{2} + 6 \\, t_{2} t_{3}^{3} + t_{3}^{4}\\right)} t_{1}^{2} + 2 \\, {\\left(t_{2}^{4} t_{3} + 3 \\, t_{2}^{3} t_{3}^{2} + 3 \\, t_{2}^{2} t_{3}^{3} + t_{2} t_{3}^{4}\\right)} t_{1}}{2 \\, {\\left(t_{1}^{4} t_{2}^{2} t_{3}^{2} + 2 \\, {\\left(t_{2}^{3} t_{3}^{2} + t_{2}^{2} t_{3}^{3}\\right)} t_{1}^{3} + {\\left(t_{2}^{4} t_{3}^{2} + 2 \\, t_{2}^{3} t_{3}^{3} + t_{2}^{2} t_{3}^{4}\\right)} t_{1}^{2}\\right)} b^{2}}</script></html>"
      ],
      "text/latex": [
       "$$\\newcommand{\\Bold}[1]{\\mathbf{#1}}-\\frac{{\\left(t_{1}^{6} {\\left(t_{2} + t_{3}\\right)} + t_{2}^{6} t_{3} + 3 \\, t_{2}^{5} t_{3}^{2} + 5 \\, t_{2}^{4} t_{3}^{3} + 5 \\, t_{2}^{3} t_{3}^{4} + 3 \\, t_{2}^{2} t_{3}^{5} + t_{2} t_{3}^{6} + 3 \\, {\\left(t_{2}^{2} + 2 \\, t_{2} t_{3} + t_{3}^{2}\\right)} t_{1}^{5} + {\\left(5 \\, t_{2}^{3} + 16 \\, t_{2}^{2} t_{3} + 16 \\, t_{2} t_{3}^{2} + 5 \\, t_{3}^{3}\\right)} t_{1}^{4} + {\\left(5 \\, t_{2}^{4} + 22 \\, t_{2}^{3} t_{3} + 34 \\, t_{2}^{2} t_{3}^{2} + 22 \\, t_{2} t_{3}^{3} + 5 \\, t_{3}^{4}\\right)} t_{1}^{3} + {\\left(3 \\, t_{2}^{5} + 16 \\, t_{2}^{4} t_{3} + 34 \\, t_{2}^{3} t_{3}^{2} + 34 \\, t_{2}^{2} t_{3}^{3} + 16 \\, t_{2} t_{3}^{4} + 3 \\, t_{3}^{5}\\right)} t_{1}^{2} + {\\left(t_{2}^{6} + 6 \\, t_{2}^{5} t_{3} + 16 \\, t_{2}^{4} t_{3}^{2} + 22 \\, t_{2}^{3} t_{3}^{3} + 16 \\, t_{2}^{2} t_{3}^{4} + 6 \\, t_{2} t_{3}^{5} + t_{3}^{6}\\right)} t_{1}\\right)} b^{3}}{12 \\, {\\left(t_{1}^{2} t_{2} t_{3} + {\\left(t_{2}^{2} t_{3} + t_{2} t_{3}^{2}\\right)} t_{1}\\right)}} + \\frac{121 \\, {\\left(t_{2}^{4} t_{3}^{2} + 2 \\, t_{2}^{3} t_{3}^{3} + t_{2}^{2} t_{3}^{4} + {\\left(t_{2}^{2} + 2 \\, t_{2} t_{3} + t_{3}^{2}\\right)} t_{1}^{4} + 2 \\, {\\left(t_{2}^{3} + 3 \\, t_{2}^{2} t_{3} + 3 \\, t_{2} t_{3}^{2} + t_{3}^{3}\\right)} t_{1}^{3} + {\\left(t_{2}^{4} + 6 \\, t_{2}^{3} t_{3} + 10 \\, t_{2}^{2} t_{3}^{2} + 6 \\, t_{2} t_{3}^{3} + t_{3}^{4}\\right)} t_{1}^{2} + 2 \\, {\\left(t_{2}^{4} t_{3} + 3 \\, t_{2}^{3} t_{3}^{2} + 3 \\, t_{2}^{2} t_{3}^{3} + t_{2} t_{3}^{4}\\right)} t_{1}\\right)} b^{2}}{240 \\, {\\left(t_{1}^{2} t_{2} t_{3} + {\\left(t_{2}^{2} t_{3} + t_{2} t_{3}^{2}\\right)} t_{1}\\right)}} - \\frac{{\\left(t_{1}^{4} {\\left(t_{2} + t_{3}\\right)} + t_{2}^{4} t_{3} + 2 \\, t_{2}^{3} t_{3}^{2} + 2 \\, t_{2}^{2} t_{3}^{3} + t_{2} t_{3}^{4} + 2 \\, {\\left(t_{2}^{2} + 2 \\, t_{2} t_{3} + t_{3}^{2}\\right)} t_{1}^{3} + 2 \\, {\\left(t_{2}^{3} + 3 \\, t_{2}^{2} t_{3} + 3 \\, t_{2} t_{3}^{2} + t_{3}^{3}\\right)} t_{1}^{2} + {\\left(t_{2}^{4} + 4 \\, t_{2}^{3} t_{3} + 6 \\, t_{2}^{2} t_{3}^{2} + 4 \\, t_{2} t_{3}^{3} + t_{3}^{4}\\right)} t_{1}\\right)} b}{t_{1}^{2} t_{2} t_{3} + {\\left(t_{2}^{2} t_{3} + t_{2} t_{3}^{2}\\right)} t_{1}} - \\frac{15 \\, {\\left(t_{1}^{2} {\\left(t_{2} + t_{3}\\right)} + t_{2}^{2} t_{3} + t_{2} t_{3}^{2} + {\\left(t_{2}^{2} + 2 \\, t_{2} t_{3} + t_{3}^{2}\\right)} t_{1}\\right)}}{4 \\, {\\left(t_{1}^{2} t_{2} t_{3} + {\\left(t_{2}^{2} t_{3} + t_{2} t_{3}^{2}\\right)} t_{1}\\right)} b} + \\frac{t_{2}^{4} t_{3}^{2} + 2 \\, t_{2}^{3} t_{3}^{3} + t_{2}^{2} t_{3}^{4} + {\\left(t_{2}^{2} + 2 \\, t_{2} t_{3} + t_{3}^{2}\\right)} t_{1}^{4} + 2 \\, {\\left(t_{2}^{3} + 3 \\, t_{2}^{2} t_{3} + 3 \\, t_{2} t_{3}^{2} + t_{3}^{3}\\right)} t_{1}^{3} + {\\left(t_{2}^{4} + 6 \\, t_{2}^{3} t_{3} + 10 \\, t_{2}^{2} t_{3}^{2} + 6 \\, t_{2} t_{3}^{3} + t_{3}^{4}\\right)} t_{1}^{2} + 2 \\, {\\left(t_{2}^{4} t_{3} + 3 \\, t_{2}^{3} t_{3}^{2} + 3 \\, t_{2}^{2} t_{3}^{3} + t_{2} t_{3}^{4}\\right)} t_{1}}{2 \\, {\\left(t_{1}^{4} t_{2}^{2} t_{3}^{2} + 2 \\, {\\left(t_{2}^{3} t_{3}^{2} + t_{2}^{2} t_{3}^{3}\\right)} t_{1}^{3} + {\\left(t_{2}^{4} t_{3}^{2} + 2 \\, t_{2}^{3} t_{3}^{3} + t_{2}^{2} t_{3}^{4}\\right)} t_{1}^{2}\\right)} b^{2}}$$"
      ],
      "text/plain": [
       "-1/12*(t1^6*(t2 + t3) + t2^6*t3 + 3*t2^5*t3^2 + 5*t2^4*t3^3 + 5*t2^3*t3^4 + 3*t2^2*t3^5 + t2*t3^6 + 3*(t2^2 + 2*t2*t3 + t3^2)*t1^5 + (5*t2^3 + 16*t2^2*t3 + 16*t2*t3^2 + 5*t3^3)*t1^4 + (5*t2^4 + 22*t2^3*t3 + 34*t2^2*t3^2 + 22*t2*t3^3 + 5*t3^4)*t1^3 + (3*t2^5 + 16*t2^4*t3 + 34*t2^3*t3^2 + 34*t2^2*t3^3 + 16*t2*t3^4 + 3*t3^5)*t1^2 + (t2^6 + 6*t2^5*t3 + 16*t2^4*t3^2 + 22*t2^3*t3^3 + 16*t2^2*t3^4 + 6*t2*t3^5 + t3^6)*t1)*b^3/(t1^2*t2*t3 + (t2^2*t3 + t2*t3^2)*t1) + 121/240*(t2^4*t3^2 + 2*t2^3*t3^3 + t2^2*t3^4 + (t2^2 + 2*t2*t3 + t3^2)*t1^4 + 2*(t2^3 + 3*t2^2*t3 + 3*t2*t3^2 + t3^3)*t1^3 + (t2^4 + 6*t2^3*t3 + 10*t2^2*t3^2 + 6*t2*t3^3 + t3^4)*t1^2 + 2*(t2^4*t3 + 3*t2^3*t3^2 + 3*t2^2*t3^3 + t2*t3^4)*t1)*b^2/(t1^2*t2*t3 + (t2^2*t3 + t2*t3^2)*t1) - (t1^4*(t2 + t3) + t2^4*t3 + 2*t2^3*t3^2 + 2*t2^2*t3^3 + t2*t3^4 + 2*(t2^2 + 2*t2*t3 + t3^2)*t1^3 + 2*(t2^3 + 3*t2^2*t3 + 3*t2*t3^2 + t3^3)*t1^2 + (t2^4 + 4*t2^3*t3 + 6*t2^2*t3^2 + 4*t2*t3^3 + t3^4)*t1)*b/(t1^2*t2*t3 + (t2^2*t3 + t2*t3^2)*t1) - 15/4*(t1^2*(t2 + t3) + t2^2*t3 + t2*t3^2 + (t2^2 + 2*t2*t3 + t3^2)*t1)/((t1^2*t2*t3 + (t2^2*t3 + t2*t3^2)*t1)*b) + 1/2*(t2^4*t3^2 + 2*t2^3*t3^3 + t2^2*t3^4 + (t2^2 + 2*t2*t3 + t3^2)*t1^4 + 2*(t2^3 + 3*t2^2*t3 + 3*t2*t3^2 + t3^3)*t1^3 + (t2^4 + 6*t2^3*t3 + 10*t2^2*t3^2 + 6*t2*t3^3 + t3^4)*t1^2 + 2*(t2^4*t3 + 3*t2^3*t3^2 + 3*t2^2*t3^3 + t2*t3^4)*t1)/((t1^4*t2^2*t3^2 + 2*(t2^3*t3^2 + t2^2*t3^3)*t1^3 + (t2^4*t3^2 + 2*t2^3*t3^3 + t2^2*t3^4)*t1^2)*b^2)"
      ]
     },
     "execution_count": 5,
     "metadata": {},
     "output_type": "execute_result"
    }
   ],
   "source": [
    "verl2 = Vertex4d.Verlinde(Weight1,2)(exp(t1*b),exp(t2*b),exp(t3*b),0,0,0)\n",
    "tayl = verl2.taylor(b,0,3)\n",
    "tayl"
   ]
  },
  {
   "cell_type": "markdown",
   "metadata": {},
   "source": [
    "We see in degree $-2$, this does not agree with the segre number. The difference is:"
   ]
  },
  {
   "cell_type": "code",
   "execution_count": 51,
   "metadata": {},
   "outputs": [
    {
     "data": {
      "text/html": [
       "<html><script type=\"math/tex; mode=display\">\\newcommand{\\Bold}[1]{\\mathbf{#1}}0</script></html>"
      ],
      "text/latex": [
       "$$\\newcommand{\\Bold}[1]{\\mathbf{#1}}0$$"
      ],
      "text/plain": [
       "0"
      ]
     },
     "execution_count": 51,
     "metadata": {},
     "output_type": "execute_result"
    }
   ],
   "source": [
    "pretty(deg0(verl2)-deg0(tc2))"
   ]
  },
  {
   "cell_type": "markdown",
   "metadata": {},
   "source": [
    "After checking many different weights and ranks, we find the difference (at $\\deg b=-1$) is the constant term \n",
    "\n",
    "$$\\frac{5 (t_1+t_2) (t_1+t_3) (t_2+t_3)}{4(t_1+t_2+t_3)t_1t_2t_3 } $$\n"
   ]
  },
  {
   "cell_type": "code",
   "execution_count": 16,
   "metadata": {},
   "outputs": [],
   "source": [
    "Weight2=(1,2,3)"
   ]
  },
  {
   "cell_type": "markdown",
   "metadata": {},
   "source": [
    "First we try $n=1$."
   ]
  },
  {
   "cell_type": "code",
   "execution_count": 19,
   "metadata": {},
   "outputs": [
    {
     "data": {
      "text/html": [
       "<html><script type=\"math/tex; mode=display\">\\newcommand{\\Bold}[1]{\\mathbf{#1}}-\\frac{t_{1}^{3} t_{2} + 3 \\, t_{1}^{2} t_{2}^{2} + 2 \\, t_{1} t_{2}^{3} + 3 \\, {\\left(t_{1} + t_{2}\\right)} t_{3}^{3} + {\\left(4 \\, t_{1}^{2} + 9 \\, t_{1} t_{2} + 5 \\, t_{2}^{2}\\right)} t_{3}^{2} + {\\left(t_{1}^{3} + 7 \\, t_{1}^{2} t_{2} + 8 \\, t_{1} t_{2}^{2} + 2 \\, t_{2}^{3}\\right)} t_{3}}{t_{1} t_{2} t_{3}^{2} + {\\left(t_{1}^{2} t_{2} + t_{1} t_{2}^{2}\\right)} t_{3}}</script></html>"
      ],
      "text/latex": [
       "$$\\newcommand{\\Bold}[1]{\\mathbf{#1}}-\\frac{t_{1}^{3} t_{2} + 3 \\, t_{1}^{2} t_{2}^{2} + 2 \\, t_{1} t_{2}^{3} + 3 \\, {\\left(t_{1} + t_{2}\\right)} t_{3}^{3} + {\\left(4 \\, t_{1}^{2} + 9 \\, t_{1} t_{2} + 5 \\, t_{2}^{2}\\right)} t_{3}^{2} + {\\left(t_{1}^{3} + 7 \\, t_{1}^{2} t_{2} + 8 \\, t_{1} t_{2}^{2} + 2 \\, t_{2}^{3}\\right)} t_{3}}{t_{1} t_{2} t_{3}^{2} + {\\left(t_{1}^{2} t_{2} + t_{1} t_{2}^{2}\\right)} t_{3}}$$"
      ],
      "text/plain": [
       "-(t1^3*t2 + 3*t1^2*t2^2 + 2*t1*t2^3 + 3*(t1 + t2)*t3^3 + (4*t1^2 + 9*t1*t2 + 5*t2^2)*t3^2 + (t1^3 + 7*t1^2*t2 + 8*t1*t2^2 + 2*t2^3)*t3)/(t1*t2*t3^2 + (t1^2*t2 + t1*t2^2)*t3)"
      ]
     },
     "execution_count": 19,
     "metadata": {},
     "output_type": "execute_result"
    }
   ],
   "source": [
    "tc = Vertex4d.Total_Segre(Weight2,1)(t1*b,t2*b,t3*b,t4*b,0,0)\n",
    "taylc=tc.taylor(b,0,0)\n",
    "deg0(taylc)"
   ]
  },
  {
   "cell_type": "code",
   "execution_count": 18,
   "metadata": {},
   "outputs": [
    {
     "data": {
      "text/html": [
       "<html><script type=\"math/tex; mode=display\">\\newcommand{\\Bold}[1]{\\mathbf{#1}}\\frac{t_{1}^{3} t_{2} + 3 \\, t_{1}^{2} t_{2}^{2} + 2 \\, t_{1} t_{2}^{3} + 3 \\, {\\left(t_{1} + t_{2}\\right)} t_{3}^{3} + {\\left(4 \\, t_{1}^{2} + 9 \\, t_{1} t_{2} + 5 \\, t_{2}^{2}\\right)} t_{3}^{2} + {\\left(t_{1}^{3} + 7 \\, t_{1}^{2} t_{2} + 8 \\, t_{1} t_{2}^{2} + 2 \\, t_{2}^{3}\\right)} t_{3}}{t_{1} t_{2} t_{3}^{2} + {\\left(t_{1}^{2} t_{2} + t_{1} t_{2}^{2}\\right)} t_{3}}</script></html>"
      ],
      "text/latex": [
       "$$\\newcommand{\\Bold}[1]{\\mathbf{#1}}\\frac{t_{1}^{3} t_{2} + 3 \\, t_{1}^{2} t_{2}^{2} + 2 \\, t_{1} t_{2}^{3} + 3 \\, {\\left(t_{1} + t_{2}\\right)} t_{3}^{3} + {\\left(4 \\, t_{1}^{2} + 9 \\, t_{1} t_{2} + 5 \\, t_{2}^{2}\\right)} t_{3}^{2} + {\\left(t_{1}^{3} + 7 \\, t_{1}^{2} t_{2} + 8 \\, t_{1} t_{2}^{2} + 2 \\, t_{2}^{3}\\right)} t_{3}}{t_{1} t_{2} t_{3}^{2} + {\\left(t_{1}^{2} t_{2} + t_{1} t_{2}^{2}\\right)} t_{3}}$$"
      ],
      "text/plain": [
       "(t1^3*t2 + 3*t1^2*t2^2 + 2*t1*t2^3 + 3*(t1 + t2)*t3^3 + (4*t1^2 + 9*t1*t2 + 5*t2^2)*t3^2 + (t1^3 + 7*t1^2*t2 + 8*t1*t2^2 + 2*t2^3)*t3)/(t1*t2*t3^2 + (t1^2*t2 + t1*t2^2)*t3)"
      ]
     },
     "execution_count": 18,
     "metadata": {},
     "output_type": "execute_result"
    }
   ],
   "source": [
    "verl = Vertex4d.Verlinde(Weight2,1)(exp(t1*b),exp(t2*b),exp(t3*b),0,0,0)\n",
    "taylv = verl.taylor(b,0,0)\n",
    "deg0(taylv)"
   ]
  },
  {
   "cell_type": "code",
   "execution_count": 13,
   "metadata": {},
   "outputs": [
    {
     "data": {
      "text/html": [
       "<html><script type=\"math/tex; mode=display\">\\newcommand{\\Bold}[1]{\\mathbf{#1}}0</script></html>"
      ],
      "text/latex": [
       "$$\\newcommand{\\Bold}[1]{\\mathbf{#1}}0$$"
      ],
      "text/plain": [
       "0"
      ]
     },
     "execution_count": 13,
     "metadata": {},
     "output_type": "execute_result"
    }
   ],
   "source": [
    "pretty(deg0(taylc)+deg0(taylv))"
   ]
  },
  {
   "cell_type": "markdown",
   "metadata": {},
   "source": [
    "The difference is 0 when we restrict to $\\deg b$ $\\leq 0$."
   ]
  },
  {
   "cell_type": "code",
   "execution_count": 30,
   "metadata": {},
   "outputs": [
    {
     "data": {
      "text/html": [
       "<html><script type=\"math/tex; mode=display\">\\newcommand{\\Bold}[1]{\\mathbf{#1}}\\frac{3 \\, {\\left(t_{1}^{3} t_{2} + 3 \\, t_{1}^{2} t_{2}^{2} + 2 \\, t_{1} t_{2}^{3} + t_{1}^{3} t_{3} + 2 \\, t_{1}^{2} t_{2} t_{3} + 3 \\, t_{1} t_{2}^{2} t_{3} + 2 \\, t_{2}^{3} t_{3} + 4 \\, t_{1}^{2} t_{3}^{2} + 4 \\, t_{1} t_{2} t_{3}^{2} + 5 \\, t_{2}^{2} t_{3}^{2} + 3 \\, t_{1} t_{3}^{3} + 3 \\, t_{2} t_{3}^{3}\\right)} {\\left(t_{1} + 2 \\, t_{2} + 3 \\, t_{3}\\right)} {\\left(t_{1} + t_{2}\\right)} {\\left(t_{1} + t_{3}\\right)} {\\left(t_{2} + t_{3}\\right)}}{2 \\, {\\left(t_{1} + t_{2} + t_{3}\\right)}^{2} t_{1}^{2} t_{2}^{2} t_{3}^{2}}</script></html>"
      ],
      "text/latex": [
       "$$\\newcommand{\\Bold}[1]{\\mathbf{#1}}\\frac{3 \\, {\\left(t_{1}^{3} t_{2} + 3 \\, t_{1}^{2} t_{2}^{2} + 2 \\, t_{1} t_{2}^{3} + t_{1}^{3} t_{3} + 2 \\, t_{1}^{2} t_{2} t_{3} + 3 \\, t_{1} t_{2}^{2} t_{3} + 2 \\, t_{2}^{3} t_{3} + 4 \\, t_{1}^{2} t_{3}^{2} + 4 \\, t_{1} t_{2} t_{3}^{2} + 5 \\, t_{2}^{2} t_{3}^{2} + 3 \\, t_{1} t_{3}^{3} + 3 \\, t_{2} t_{3}^{3}\\right)} {\\left(t_{1} + 2 \\, t_{2} + 3 \\, t_{3}\\right)} {\\left(t_{1} + t_{2}\\right)} {\\left(t_{1} + t_{3}\\right)} {\\left(t_{2} + t_{3}\\right)}}{2 \\, {\\left(t_{1} + t_{2} + t_{3}\\right)}^{2} t_{1}^{2} t_{2}^{2} t_{3}^{2}}$$"
      ],
      "text/plain": [
       "3/2*(t1^3*t2 + 3*t1^2*t2^2 + 2*t1*t2^3 + t1^3*t3 + 2*t1^2*t2*t3 + 3*t1*t2^2*t3 + 2*t2^3*t3 + 4*t1^2*t3^2 + 4*t1*t2*t3^2 + 5*t2^2*t3^2 + 3*t1*t3^3 + 3*t2*t3^3)*(t1 + 2*t2 + 3*t3)*(t1 + t2)*(t1 + t3)*(t2 + t3)/((t1 + t2 + t3)^2*t1^2*t2^2*t3^2)"
      ]
     },
     "execution_count": 30,
     "metadata": {},
     "output_type": "execute_result"
    }
   ],
   "source": [
    "tc2 = Vertex4d.Total_Segre(Weight2,2)(t1*b,t2*b,t3*b,t4*b,0,0)\n",
    "taylc=tc2.taylor(b,0,0)\n",
    "pretty(deg0(taylc))"
   ]
  },
  {
   "cell_type": "code",
   "execution_count": 21,
   "metadata": {},
   "outputs": [
    {
     "data": {
      "text/html": [
       "<html><script type=\"math/tex; mode=display\">\\newcommand{\\Bold}[1]{\\mathbf{#1}}\\frac{{\\left(2 \\, t_{1}^{3} t_{2} + 6 \\, t_{1}^{2} t_{2}^{2} + 4 \\, t_{1} t_{2}^{3} + 2 \\, t_{1}^{3} t_{3} - t_{1}^{2} t_{2} t_{3} + t_{1} t_{2}^{2} t_{3} + 4 \\, t_{2}^{3} t_{3} + 8 \\, t_{1}^{2} t_{3}^{2} + 3 \\, t_{1} t_{2} t_{3}^{2} + 10 \\, t_{2}^{2} t_{3}^{2} + 6 \\, t_{1} t_{3}^{3} + 6 \\, t_{2} t_{3}^{3}\\right)} {\\left(t_{1} + 2 \\, t_{2} + 3 \\, t_{3}\\right)} {\\left(t_{1} + t_{2}\\right)} {\\left(t_{1} + t_{3}\\right)} {\\left(t_{2} + t_{3}\\right)}}{2 \\, {\\left(t_{1} + t_{2} + t_{3}\\right)}^{2} t_{1}^{2} t_{2}^{2} t_{3}^{2}}</script></html>"
      ],
      "text/latex": [
       "$$\\newcommand{\\Bold}[1]{\\mathbf{#1}}\\frac{{\\left(2 \\, t_{1}^{3} t_{2} + 6 \\, t_{1}^{2} t_{2}^{2} + 4 \\, t_{1} t_{2}^{3} + 2 \\, t_{1}^{3} t_{3} - t_{1}^{2} t_{2} t_{3} + t_{1} t_{2}^{2} t_{3} + 4 \\, t_{2}^{3} t_{3} + 8 \\, t_{1}^{2} t_{3}^{2} + 3 \\, t_{1} t_{2} t_{3}^{2} + 10 \\, t_{2}^{2} t_{3}^{2} + 6 \\, t_{1} t_{3}^{3} + 6 \\, t_{2} t_{3}^{3}\\right)} {\\left(t_{1} + 2 \\, t_{2} + 3 \\, t_{3}\\right)} {\\left(t_{1} + t_{2}\\right)} {\\left(t_{1} + t_{3}\\right)} {\\left(t_{2} + t_{3}\\right)}}{2 \\, {\\left(t_{1} + t_{2} + t_{3}\\right)}^{2} t_{1}^{2} t_{2}^{2} t_{3}^{2}}$$"
      ],
      "text/plain": [
       "1/2*(2*t1^3*t2 + 6*t1^2*t2^2 + 4*t1*t2^3 + 2*t1^3*t3 - t1^2*t2*t3 + t1*t2^2*t3 + 4*t2^3*t3 + 8*t1^2*t3^2 + 3*t1*t2*t3^2 + 10*t2^2*t3^2 + 6*t1*t3^3 + 6*t2*t3^3)*(t1 + 2*t2 + 3*t3)*(t1 + t2)*(t1 + t3)*(t2 + t3)/((t1 + t2 + t3)^2*t1^2*t2^2*t3^2)"
      ]
     },
     "execution_count": 21,
     "metadata": {},
     "output_type": "execute_result"
    }
   ],
   "source": [
    "verl2 = Vertex4d.Verlinde(Weight2,2)(exp(t1*b),exp(t2*b),exp(t3*b),0,0,0)\n",
    "taylv=verl2.taylor(b,0,0)\n",
    "pretty(deg0(taylv))"
   ]
  },
  {
   "cell_type": "markdown",
   "metadata": {},
   "source": [
    "The difference is:"
   ]
  },
  {
   "cell_type": "code",
   "execution_count": 22,
   "metadata": {
    "scrolled": false
   },
   "outputs": [
    {
     "data": {
      "text/html": [
       "<html><script type=\"math/tex; mode=display\">\\newcommand{\\Bold}[1]{\\mathbf{#1}}\\frac{{\\left(t_{1} + 2 \\, t_{2} + 3 \\, t_{3}\\right)}^{2} {\\left(t_{1} + t_{2}\\right)}^{2} {\\left(t_{1} + t_{3}\\right)}^{2} {\\left(t_{2} + t_{3}\\right)}^{2}}{2 \\, {\\left(t_{1} + t_{2} + t_{3}\\right)}^{2} t_{1}^{2} t_{2}^{2} t_{3}^{2}}</script></html>"
      ],
      "text/latex": [
       "$$\\newcommand{\\Bold}[1]{\\mathbf{#1}}\\frac{{\\left(t_{1} + 2 \\, t_{2} + 3 \\, t_{3}\\right)}^{2} {\\left(t_{1} + t_{2}\\right)}^{2} {\\left(t_{1} + t_{3}\\right)}^{2} {\\left(t_{2} + t_{3}\\right)}^{2}}{2 \\, {\\left(t_{1} + t_{2} + t_{3}\\right)}^{2} t_{1}^{2} t_{2}^{2} t_{3}^{2}}$$"
      ],
      "text/plain": [
       "1/2*(t1 + 2*t2 + 3*t3)^2*(t1 + t2)^2*(t1 + t3)^2*(t2 + t3)^2/((t1 + t2 + t3)^2*t1^2*t2^2*t3^2)"
      ]
     },
     "execution_count": 22,
     "metadata": {},
     "output_type": "execute_result"
    }
   ],
   "source": [
    "pretty(deg0(taylc)-deg0(taylv))"
   ]
  },
  {
   "cell_type": "markdown",
   "metadata": {},
   "source": [
    "We also try the version with no twist Verlinde2:"
   ]
  },
  {
   "cell_type": "code",
   "execution_count": 27,
   "metadata": {
    "scrolled": true
   },
   "outputs": [
    {
     "data": {
      "text/html": [
       "<html><script type=\"math/tex; mode=display\">\\newcommand{\\Bold}[1]{\\mathbf{#1}}\\frac{{\\left(t_{1}^{3} t_{2} + 3 \\, t_{1}^{2} t_{2}^{2} + 2 \\, t_{1} t_{2}^{3} + t_{1}^{3} t_{3} + 2 \\, t_{1}^{2} t_{2} t_{3} + 3 \\, t_{1} t_{2}^{2} t_{3} + 2 \\, t_{2}^{3} t_{3} + 4 \\, t_{1}^{2} t_{3}^{2} + 4 \\, t_{1} t_{2} t_{3}^{2} + 5 \\, t_{2}^{2} t_{3}^{2} + 3 \\, t_{1} t_{3}^{3} + 3 \\, t_{2} t_{3}^{3}\\right)} {\\left(t_{1} + 2 \\, t_{2} + 3 \\, t_{3}\\right)} {\\left(t_{1} + t_{2}\\right)} {\\left(t_{1} + t_{3}\\right)} {\\left(t_{2} + t_{3}\\right)}}{4 \\, {\\left(t_{1} + t_{2} + t_{3}\\right)}^{2} t_{1}^{2} t_{2}^{2} t_{3}^{2}}</script></html>"
      ],
      "text/latex": [
       "$$\\newcommand{\\Bold}[1]{\\mathbf{#1}}\\frac{{\\left(t_{1}^{3} t_{2} + 3 \\, t_{1}^{2} t_{2}^{2} + 2 \\, t_{1} t_{2}^{3} + t_{1}^{3} t_{3} + 2 \\, t_{1}^{2} t_{2} t_{3} + 3 \\, t_{1} t_{2}^{2} t_{3} + 2 \\, t_{2}^{3} t_{3} + 4 \\, t_{1}^{2} t_{3}^{2} + 4 \\, t_{1} t_{2} t_{3}^{2} + 5 \\, t_{2}^{2} t_{3}^{2} + 3 \\, t_{1} t_{3}^{3} + 3 \\, t_{2} t_{3}^{3}\\right)} {\\left(t_{1} + 2 \\, t_{2} + 3 \\, t_{3}\\right)} {\\left(t_{1} + t_{2}\\right)} {\\left(t_{1} + t_{3}\\right)} {\\left(t_{2} + t_{3}\\right)}}{4 \\, {\\left(t_{1} + t_{2} + t_{3}\\right)}^{2} t_{1}^{2} t_{2}^{2} t_{3}^{2}}$$"
      ],
      "text/plain": [
       "1/4*(t1^3*t2 + 3*t1^2*t2^2 + 2*t1*t2^3 + t1^3*t3 + 2*t1^2*t2*t3 + 3*t1*t2^2*t3 + 2*t2^3*t3 + 4*t1^2*t3^2 + 4*t1*t2*t3^2 + 5*t2^2*t3^2 + 3*t1*t3^3 + 3*t2*t3^3)*(t1 + 2*t2 + 3*t3)*(t1 + t2)*(t1 + t3)*(t2 + t3)/((t1 + t2 + t3)^2*t1^2*t2^2*t3^2)"
      ]
     },
     "execution_count": 27,
     "metadata": {},
     "output_type": "execute_result"
    }
   ],
   "source": [
    "verl2 = Vertex4d.Verlinde2(Weight2,2)(u1=exp(t1*b/2),u2=exp(t2*b/2),u3=exp(t3*b/2))\n",
    "taylv=verl2.taylor(b,0,0)\n",
    "pretty(deg0(taylv))"
   ]
  },
  {
   "cell_type": "code",
   "execution_count": 28,
   "metadata": {},
   "outputs": [
    {
     "data": {
      "text/html": [
       "<html><script type=\"math/tex; mode=display\">\\newcommand{\\Bold}[1]{\\mathbf{#1}}\\frac{{\\left(t_{1}^{3} t_{2} + 3 \\, t_{1}^{2} t_{2}^{2} + 2 \\, t_{1} t_{2}^{3} + t_{1}^{3} t_{3} + 2 \\, t_{1}^{2} t_{2} t_{3} + 3 \\, t_{1} t_{2}^{2} t_{3} + 2 \\, t_{2}^{3} t_{3} + 4 \\, t_{1}^{2} t_{3}^{2} + 4 \\, t_{1} t_{2} t_{3}^{2} + 5 \\, t_{2}^{2} t_{3}^{2} + 3 \\, t_{1} t_{3}^{3} + 3 \\, t_{2} t_{3}^{3}\\right)} {\\left(t_{1} + 2 \\, t_{2} + 3 \\, t_{3}\\right)} {\\left(t_{1} + t_{2}\\right)} {\\left(t_{1} + t_{3}\\right)} {\\left(t_{2} + t_{3}\\right)}}{2 \\, {\\left(t_{1} + t_{2} + t_{3}\\right)}^{2} t_{1}^{2} t_{2}^{2} t_{3}^{2}}</script></html>"
      ],
      "text/latex": [
       "$$\\newcommand{\\Bold}[1]{\\mathbf{#1}}\\frac{{\\left(t_{1}^{3} t_{2} + 3 \\, t_{1}^{2} t_{2}^{2} + 2 \\, t_{1} t_{2}^{3} + t_{1}^{3} t_{3} + 2 \\, t_{1}^{2} t_{2} t_{3} + 3 \\, t_{1} t_{2}^{2} t_{3} + 2 \\, t_{2}^{3} t_{3} + 4 \\, t_{1}^{2} t_{3}^{2} + 4 \\, t_{1} t_{2} t_{3}^{2} + 5 \\, t_{2}^{2} t_{3}^{2} + 3 \\, t_{1} t_{3}^{3} + 3 \\, t_{2} t_{3}^{3}\\right)} {\\left(t_{1} + 2 \\, t_{2} + 3 \\, t_{3}\\right)} {\\left(t_{1} + t_{2}\\right)} {\\left(t_{1} + t_{3}\\right)} {\\left(t_{2} + t_{3}\\right)}}{2 \\, {\\left(t_{1} + t_{2} + t_{3}\\right)}^{2} t_{1}^{2} t_{2}^{2} t_{3}^{2}}$$"
      ],
      "text/plain": [
       "1/2*(t1^3*t2 + 3*t1^2*t2^2 + 2*t1*t2^3 + t1^3*t3 + 2*t1^2*t2*t3 + 3*t1*t2^2*t3 + 2*t2^3*t3 + 4*t1^2*t3^2 + 4*t1*t2*t3^2 + 5*t2^2*t3^2 + 3*t1*t3^3 + 3*t2*t3^3)*(t1 + 2*t2 + 3*t3)*(t1 + t2)*(t1 + t3)*(t2 + t3)/((t1 + t2 + t3)^2*t1^2*t2^2*t3^2)"
      ]
     },
     "execution_count": 28,
     "metadata": {},
     "output_type": "execute_result"
    }
   ],
   "source": [
    "pretty(deg0(taylc)/2-deg0(taylv))"
   ]
  },
  {
   "cell_type": "markdown",
   "metadata": {},
   "source": [
    "--------------------"
   ]
  },
  {
   "cell_type": "code",
   "execution_count": 34,
   "metadata": {},
   "outputs": [],
   "source": [
    "Weight2=(1,2,3,4,5,6,1,2,3,4,5,6)"
   ]
  },
  {
   "cell_type": "code",
   "execution_count": 35,
   "metadata": {},
   "outputs": [
    {
     "data": {
      "text/html": [
       "<html><script type=\"math/tex; mode=display\">\\newcommand{\\Bold}[1]{\\mathbf{#1}}\\frac{9 \\, {\\left(13 \\, t_{1}^{4} t_{2} + 49 \\, t_{1}^{3} t_{2}^{2} + 61 \\, t_{1}^{2} t_{2}^{3} + 25 \\, t_{1} t_{2}^{4} + 13 \\, t_{1}^{4} t_{3} + 83 \\, t_{1}^{3} t_{2} t_{3} + 160 \\, t_{1}^{2} t_{2}^{2} t_{3} + 115 \\, t_{1} t_{2}^{3} t_{3} + 25 \\, t_{2}^{4} t_{3} + 59 \\, t_{1}^{3} t_{3}^{2} + 176 \\, t_{1}^{2} t_{2} t_{3}^{2} + 196 \\, t_{1} t_{2}^{2} t_{3}^{2} + 89 \\, t_{2}^{3} t_{3}^{2} + 87 \\, t_{1}^{2} t_{3}^{3} + 147 \\, t_{1} t_{2} t_{3}^{3} + 105 \\, t_{2}^{2} t_{3}^{3} + 41 \\, t_{1} t_{3}^{4} + 41 \\, t_{2} t_{3}^{4}\\right)} {\\left(t_{1} + t_{2}\\right)} {\\left(t_{1} + t_{3}\\right)} {\\left(t_{2} + t_{3}\\right)}}{{\\left(t_{1} + t_{2} + t_{3}\\right)}^{2} t_{1}^{2} t_{2}^{2} t_{3}^{2}}</script></html>"
      ],
      "text/latex": [
       "$$\\newcommand{\\Bold}[1]{\\mathbf{#1}}\\frac{9 \\, {\\left(13 \\, t_{1}^{4} t_{2} + 49 \\, t_{1}^{3} t_{2}^{2} + 61 \\, t_{1}^{2} t_{2}^{3} + 25 \\, t_{1} t_{2}^{4} + 13 \\, t_{1}^{4} t_{3} + 83 \\, t_{1}^{3} t_{2} t_{3} + 160 \\, t_{1}^{2} t_{2}^{2} t_{3} + 115 \\, t_{1} t_{2}^{3} t_{3} + 25 \\, t_{2}^{4} t_{3} + 59 \\, t_{1}^{3} t_{3}^{2} + 176 \\, t_{1}^{2} t_{2} t_{3}^{2} + 196 \\, t_{1} t_{2}^{2} t_{3}^{2} + 89 \\, t_{2}^{3} t_{3}^{2} + 87 \\, t_{1}^{2} t_{3}^{3} + 147 \\, t_{1} t_{2} t_{3}^{3} + 105 \\, t_{2}^{2} t_{3}^{3} + 41 \\, t_{1} t_{3}^{4} + 41 \\, t_{2} t_{3}^{4}\\right)} {\\left(t_{1} + t_{2}\\right)} {\\left(t_{1} + t_{3}\\right)} {\\left(t_{2} + t_{3}\\right)}}{{\\left(t_{1} + t_{2} + t_{3}\\right)}^{2} t_{1}^{2} t_{2}^{2} t_{3}^{2}}$$"
      ],
      "text/plain": [
       "9*(13*t1^4*t2 + 49*t1^3*t2^2 + 61*t1^2*t2^3 + 25*t1*t2^4 + 13*t1^4*t3 + 83*t1^3*t2*t3 + 160*t1^2*t2^2*t3 + 115*t1*t2^3*t3 + 25*t2^4*t3 + 59*t1^3*t3^2 + 176*t1^2*t2*t3^2 + 196*t1*t2^2*t3^2 + 89*t2^3*t3^2 + 87*t1^2*t3^3 + 147*t1*t2*t3^3 + 105*t2^2*t3^3 + 41*t1*t3^4 + 41*t2*t3^4)*(t1 + t2)*(t1 + t3)*(t2 + t3)/((t1 + t2 + t3)^2*t1^2*t2^2*t3^2)"
      ]
     },
     "execution_count": 35,
     "metadata": {},
     "output_type": "execute_result"
    }
   ],
   "source": [
    "tc2 = Vertex4d.Total_Segre(Weight2,2)(t1*b,t2*b,t3*b,t4*b,0,0)\n",
    "taylc=tc2.taylor(b,0,0)\n",
    "pretty(deg0(taylc))"
   ]
  },
  {
   "cell_type": "code",
   "execution_count": 36,
   "metadata": {},
   "outputs": [
    {
     "data": {
      "text/html": [
       "<html><script type=\"math/tex; mode=display\">\\newcommand{\\Bold}[1]{\\mathbf{#1}}\\frac{{\\left(20 \\, t_{1}^{3} t_{2} + 48 \\, t_{1}^{2} t_{2}^{2} + 28 \\, t_{1} t_{2}^{3} + 20 \\, t_{1}^{3} t_{3} + 59 \\, t_{1}^{2} t_{2} t_{3} + 67 \\, t_{1} t_{2}^{2} t_{3} + 28 \\, t_{2}^{3} t_{3} + 56 \\, t_{1}^{2} t_{3}^{2} + 75 \\, t_{1} t_{2} t_{3}^{2} + 64 \\, t_{2}^{2} t_{3}^{2} + 36 \\, t_{1} t_{3}^{3} + 36 \\, t_{2} t_{3}^{3}\\right)} {\\left(5 \\, t_{1} + 7 \\, t_{2} + 9 \\, t_{3}\\right)} {\\left(t_{1} + t_{2}\\right)} {\\left(t_{1} + t_{3}\\right)} {\\left(t_{2} + t_{3}\\right)}}{{\\left(t_{1} + t_{2} + t_{3}\\right)}^{2} t_{1}^{2} t_{2}^{2} t_{3}^{2}}</script></html>"
      ],
      "text/latex": [
       "$$\\newcommand{\\Bold}[1]{\\mathbf{#1}}\\frac{{\\left(20 \\, t_{1}^{3} t_{2} + 48 \\, t_{1}^{2} t_{2}^{2} + 28 \\, t_{1} t_{2}^{3} + 20 \\, t_{1}^{3} t_{3} + 59 \\, t_{1}^{2} t_{2} t_{3} + 67 \\, t_{1} t_{2}^{2} t_{3} + 28 \\, t_{2}^{3} t_{3} + 56 \\, t_{1}^{2} t_{3}^{2} + 75 \\, t_{1} t_{2} t_{3}^{2} + 64 \\, t_{2}^{2} t_{3}^{2} + 36 \\, t_{1} t_{3}^{3} + 36 \\, t_{2} t_{3}^{3}\\right)} {\\left(5 \\, t_{1} + 7 \\, t_{2} + 9 \\, t_{3}\\right)} {\\left(t_{1} + t_{2}\\right)} {\\left(t_{1} + t_{3}\\right)} {\\left(t_{2} + t_{3}\\right)}}{{\\left(t_{1} + t_{2} + t_{3}\\right)}^{2} t_{1}^{2} t_{2}^{2} t_{3}^{2}}$$"
      ],
      "text/plain": [
       "(20*t1^3*t2 + 48*t1^2*t2^2 + 28*t1*t2^3 + 20*t1^3*t3 + 59*t1^2*t2*t3 + 67*t1*t2^2*t3 + 28*t2^3*t3 + 56*t1^2*t3^2 + 75*t1*t2*t3^2 + 64*t2^2*t3^2 + 36*t1*t3^3 + 36*t2*t3^3)*(5*t1 + 7*t2 + 9*t3)*(t1 + t2)*(t1 + t3)*(t2 + t3)/((t1 + t2 + t3)^2*t1^2*t2^2*t3^2)"
      ]
     },
     "execution_count": 36,
     "metadata": {},
     "output_type": "execute_result"
    }
   ],
   "source": [
    "verl2 = Vertex4d.Verlinde(Weight2,2)(exp(t1*b),exp(t2*b),exp(t3*b),0,0,0)\n",
    "taylv = verl2.taylor(b,0,0)\n",
    "pretty(deg0(taylv))"
   ]
  },
  {
   "cell_type": "code",
   "execution_count": 37,
   "metadata": {},
   "outputs": [
    {
     "data": {
      "text/html": [
       "<html><script type=\"math/tex; mode=display\">\\newcommand{\\Bold}[1]{\\mathbf{#1}}\\frac{{\\left(17 \\, t_{1}^{2} + 44 \\, t_{1} t_{2} + 29 \\, t_{2}^{2} + 54 \\, t_{1} t_{3} + 72 \\, t_{2} t_{3} + 45 \\, t_{3}^{2}\\right)} {\\left(t_{1} + t_{2}\\right)}^{2} {\\left(t_{1} + t_{3}\\right)}^{2} {\\left(t_{2} + t_{3}\\right)}^{2}}{{\\left(t_{1} + t_{2} + t_{3}\\right)}^{2} t_{1}^{2} t_{2}^{2} t_{3}^{2}}</script></html>"
      ],
      "text/latex": [
       "$$\\newcommand{\\Bold}[1]{\\mathbf{#1}}\\frac{{\\left(17 \\, t_{1}^{2} + 44 \\, t_{1} t_{2} + 29 \\, t_{2}^{2} + 54 \\, t_{1} t_{3} + 72 \\, t_{2} t_{3} + 45 \\, t_{3}^{2}\\right)} {\\left(t_{1} + t_{2}\\right)}^{2} {\\left(t_{1} + t_{3}\\right)}^{2} {\\left(t_{2} + t_{3}\\right)}^{2}}{{\\left(t_{1} + t_{2} + t_{3}\\right)}^{2} t_{1}^{2} t_{2}^{2} t_{3}^{2}}$$"
      ],
      "text/plain": [
       "(17*t1^2 + 44*t1*t2 + 29*t2^2 + 54*t1*t3 + 72*t2*t3 + 45*t3^2)*(t1 + t2)^2*(t1 + t3)^2*(t2 + t3)^2/((t1 + t2 + t3)^2*t1^2*t2^2*t3^2)"
      ]
     },
     "execution_count": 37,
     "metadata": {},
     "output_type": "execute_result"
    }
   ],
   "source": [
    "pretty(deg0(taylc)-deg0(taylv))"
   ]
  },
  {
   "cell_type": "markdown",
   "metadata": {},
   "source": [
    "After some trail and error, we see the difference at $\\deg b=0$ is\n",
    "\n",
    "$$\\sum_{i=1}^r\\frac{(t_1+t_2)^2(t_1+t_3)^2(t_2+t_3)^2(w_1^{(i)}t_1+w_2^{(i)}t_2+w_3^{(i)}t_3)^2}{2(t_1+t_2+t_3)^2t_1^2t_2^2t_3^2}$$\n",
    "\n",
    "where $w^{(i)}$, $i=1,...,r$ are the weights of $\\alpha$ (rank $r$)."
   ]
  },
  {
   "cell_type": "markdown",
   "metadata": {},
   "source": [
    "The no-twist versions seem to not match for rank $>1$"
   ]
  },
  {
   "cell_type": "code",
   "execution_count": 43,
   "metadata": {
    "scrolled": true
   },
   "outputs": [
    {
     "data": {
      "text/html": [
       "<html><script type=\"math/tex; mode=display\">\\newcommand{\\Bold}[1]{\\mathbf{#1}}100 \\, t_{1}^{6} t_{2}^{2} + 480 \\, t_{1}^{5} t_{2}^{3} + 856 \\, t_{1}^{4} t_{2}^{4} + 672 \\, t_{1}^{3} t_{2}^{5} + 196 \\, t_{1}^{2} t_{2}^{6} + 200 \\, t_{1}^{6} t_{2} t_{3} + 1320 \\, t_{1}^{5} t_{2}^{2} t_{3} + 3216 \\, t_{1}^{4} t_{2}^{3} t_{3} + 3664 \\, t_{1}^{3} t_{2}^{4} t_{3} + 1960 \\, t_{1}^{2} t_{2}^{5} t_{3} + 392 \\, t_{1} t_{2}^{6} t_{3} + 100 \\, t_{1}^{6} t_{3}^{2} + 1400 \\, t_{1}^{5} t_{2} t_{3}^{2} + 4928 \\, t_{1}^{4} t_{2}^{2} t_{3}^{2} + 7768 \\, t_{1}^{3} t_{2}^{3} t_{3}^{2} + 6128 \\, t_{1}^{2} t_{2}^{4} t_{3}^{2} + 2184 \\, t_{1} t_{2}^{5} t_{3}^{2} + 196 \\, t_{2}^{6} t_{3}^{2} + 560 \\, t_{1}^{5} t_{3}^{3} + 3712 \\, t_{1}^{4} t_{2} t_{3}^{3} + 8440 \\, t_{1}^{3} t_{2}^{2} t_{3}^{3} + 9240 \\, t_{1}^{2} t_{2}^{3} t_{3}^{3} + 4848 \\, t_{1} t_{2}^{4} t_{3}^{3} + 896 \\, t_{2}^{5} t_{3}^{3} + 1144 \\, t_{1}^{4} t_{3}^{4} + 4672 \\, t_{1}^{3} t_{2} t_{3}^{4} + 7360 \\, t_{1}^{2} t_{2}^{2} t_{3}^{4} + 5360 \\, t_{1} t_{2}^{3} t_{3}^{4} + 1528 \\, t_{2}^{4} t_{3}^{4} + 1008 \\, t_{1}^{3} t_{3}^{5} + 2808 \\, t_{1}^{2} t_{2} t_{3}^{5} + 2952 \\, t_{1} t_{2}^{2} t_{3}^{5} + 1152 \\, t_{2}^{3} t_{3}^{5} + 324 \\, t_{1}^{2} t_{3}^{6} + 648 \\, t_{1} t_{2} t_{3}^{6} + 324 \\, t_{2}^{2} t_{3}^{6}</script></html>"
      ],
      "text/latex": [
       "$$\\newcommand{\\Bold}[1]{\\mathbf{#1}}100 \\, t_{1}^{6} t_{2}^{2} + 480 \\, t_{1}^{5} t_{2}^{3} + 856 \\, t_{1}^{4} t_{2}^{4} + 672 \\, t_{1}^{3} t_{2}^{5} + 196 \\, t_{1}^{2} t_{2}^{6} + 200 \\, t_{1}^{6} t_{2} t_{3} + 1320 \\, t_{1}^{5} t_{2}^{2} t_{3} + 3216 \\, t_{1}^{4} t_{2}^{3} t_{3} + 3664 \\, t_{1}^{3} t_{2}^{4} t_{3} + 1960 \\, t_{1}^{2} t_{2}^{5} t_{3} + 392 \\, t_{1} t_{2}^{6} t_{3} + 100 \\, t_{1}^{6} t_{3}^{2} + 1400 \\, t_{1}^{5} t_{2} t_{3}^{2} + 4928 \\, t_{1}^{4} t_{2}^{2} t_{3}^{2} + 7768 \\, t_{1}^{3} t_{2}^{3} t_{3}^{2} + 6128 \\, t_{1}^{2} t_{2}^{4} t_{3}^{2} + 2184 \\, t_{1} t_{2}^{5} t_{3}^{2} + 196 \\, t_{2}^{6} t_{3}^{2} + 560 \\, t_{1}^{5} t_{3}^{3} + 3712 \\, t_{1}^{4} t_{2} t_{3}^{3} + 8440 \\, t_{1}^{3} t_{2}^{2} t_{3}^{3} + 9240 \\, t_{1}^{2} t_{2}^{3} t_{3}^{3} + 4848 \\, t_{1} t_{2}^{4} t_{3}^{3} + 896 \\, t_{2}^{5} t_{3}^{3} + 1144 \\, t_{1}^{4} t_{3}^{4} + 4672 \\, t_{1}^{3} t_{2} t_{3}^{4} + 7360 \\, t_{1}^{2} t_{2}^{2} t_{3}^{4} + 5360 \\, t_{1} t_{2}^{3} t_{3}^{4} + 1528 \\, t_{2}^{4} t_{3}^{4} + 1008 \\, t_{1}^{3} t_{3}^{5} + 2808 \\, t_{1}^{2} t_{2} t_{3}^{5} + 2952 \\, t_{1} t_{2}^{2} t_{3}^{5} + 1152 \\, t_{2}^{3} t_{3}^{5} + 324 \\, t_{1}^{2} t_{3}^{6} + 648 \\, t_{1} t_{2} t_{3}^{6} + 324 \\, t_{2}^{2} t_{3}^{6}$$"
      ],
      "text/plain": [
       "100*t1^6*t2^2 + 480*t1^5*t2^3 + 856*t1^4*t2^4 + 672*t1^3*t2^5 + 196*t1^2*t2^6 + 200*t1^6*t2*t3 + 1320*t1^5*t2^2*t3 + 3216*t1^4*t2^3*t3 + 3664*t1^3*t2^4*t3 + 1960*t1^2*t2^5*t3 + 392*t1*t2^6*t3 + 100*t1^6*t3^2 + 1400*t1^5*t2*t3^2 + 4928*t1^4*t2^2*t3^2 + 7768*t1^3*t2^3*t3^2 + 6128*t1^2*t2^4*t3^2 + 2184*t1*t2^5*t3^2 + 196*t2^6*t3^2 + 560*t1^5*t3^3 + 3712*t1^4*t2*t3^3 + 8440*t1^3*t2^2*t3^3 + 9240*t1^2*t2^3*t3^3 + 4848*t1*t2^4*t3^3 + 896*t2^5*t3^3 + 1144*t1^4*t3^4 + 4672*t1^3*t2*t3^4 + 7360*t1^2*t2^2*t3^4 + 5360*t1*t2^3*t3^4 + 1528*t2^4*t3^4 + 1008*t1^3*t3^5 + 2808*t1^2*t2*t3^5 + 2952*t1*t2^2*t3^5 + 1152*t2^3*t3^5 + 324*t1^2*t3^6 + 648*t1*t2*t3^6 + 324*t2^2*t3^6"
      ]
     },
     "execution_count": 43,
     "metadata": {},
     "output_type": "execute_result"
    }
   ],
   "source": [
    "verl2 = Vertex4d.Verlinde_no_twist(Weight2,2)(u1=exp(t1*b/2),u2=exp(t2*b/2),u3=exp(t3*b/2))\n",
    "taylv=verl2.taylor(b,0,0)\n",
    "deg0(taylv).numerator()"
   ]
  },
  {
   "cell_type": "code",
   "execution_count": 41,
   "metadata": {},
   "outputs": [
    {
     "data": {
      "text/html": [
       "<html><script type=\"math/tex; mode=display\">\\newcommand{\\Bold}[1]{\\mathbf{#1}}\\frac{{\\left(17 \\, t_{1}^{4} t_{2} + 61 \\, t_{1}^{3} t_{2}^{2} + 73 \\, t_{1}^{2} t_{2}^{3} + 29 \\, t_{1} t_{2}^{4} + 17 \\, t_{1}^{4} t_{3} + 107 \\, t_{1}^{3} t_{2} t_{3} + 200 \\, t_{1}^{2} t_{2}^{2} t_{3} + 139 \\, t_{1} t_{2}^{3} t_{3} + 29 \\, t_{2}^{4} t_{3} + 71 \\, t_{1}^{3} t_{3}^{2} + 216 \\, t_{1}^{2} t_{2} t_{3}^{2} + 236 \\, t_{1} t_{2}^{2} t_{3}^{2} + 101 \\, t_{2}^{3} t_{3}^{2} + 99 \\, t_{1}^{2} t_{3}^{3} + 171 \\, t_{1} t_{2} t_{3}^{3} + 117 \\, t_{2}^{2} t_{3}^{3} + 45 \\, t_{1} t_{3}^{4} + 45 \\, t_{2} t_{3}^{4}\\right)} {\\left(t_{1} + t_{2}\\right)} {\\left(t_{1} + t_{3}\\right)} {\\left(t_{2} + t_{3}\\right)}}{{\\left(t_{1} + t_{2} + t_{3}\\right)}^{2} t_{1}^{2} t_{2}^{2} t_{3}^{2}}</script></html>"
      ],
      "text/latex": [
       "$$\\newcommand{\\Bold}[1]{\\mathbf{#1}}\\frac{{\\left(17 \\, t_{1}^{4} t_{2} + 61 \\, t_{1}^{3} t_{2}^{2} + 73 \\, t_{1}^{2} t_{2}^{3} + 29 \\, t_{1} t_{2}^{4} + 17 \\, t_{1}^{4} t_{3} + 107 \\, t_{1}^{3} t_{2} t_{3} + 200 \\, t_{1}^{2} t_{2}^{2} t_{3} + 139 \\, t_{1} t_{2}^{3} t_{3} + 29 \\, t_{2}^{4} t_{3} + 71 \\, t_{1}^{3} t_{3}^{2} + 216 \\, t_{1}^{2} t_{2} t_{3}^{2} + 236 \\, t_{1} t_{2}^{2} t_{3}^{2} + 101 \\, t_{2}^{3} t_{3}^{2} + 99 \\, t_{1}^{2} t_{3}^{3} + 171 \\, t_{1} t_{2} t_{3}^{3} + 117 \\, t_{2}^{2} t_{3}^{3} + 45 \\, t_{1} t_{3}^{4} + 45 \\, t_{2} t_{3}^{4}\\right)} {\\left(t_{1} + t_{2}\\right)} {\\left(t_{1} + t_{3}\\right)} {\\left(t_{2} + t_{3}\\right)}}{{\\left(t_{1} + t_{2} + t_{3}\\right)}^{2} t_{1}^{2} t_{2}^{2} t_{3}^{2}}$$"
      ],
      "text/plain": [
       "(17*t1^4*t2 + 61*t1^3*t2^2 + 73*t1^2*t2^3 + 29*t1*t2^4 + 17*t1^4*t3 + 107*t1^3*t2*t3 + 200*t1^2*t2^2*t3 + 139*t1*t2^3*t3 + 29*t2^4*t3 + 71*t1^3*t3^2 + 216*t1^2*t2*t3^2 + 236*t1*t2^2*t3^2 + 101*t2^3*t3^2 + 99*t1^2*t3^3 + 171*t1*t2*t3^3 + 117*t2^2*t3^3 + 45*t1*t3^4 + 45*t2*t3^4)*(t1 + t2)*(t1 + t3)*(t2 + t3)/((t1 + t2 + t3)^2*t1^2*t2^2*t3^2)"
      ]
     },
     "execution_count": 41,
     "metadata": {},
     "output_type": "execute_result"
    }
   ],
   "source": [
    "pretty(deg0(taylv)-deg0(taylc))"
   ]
  },
  {
   "cell_type": "markdown",
   "metadata": {},
   "source": [
    "-------------------"
   ]
  },
  {
   "cell_type": "markdown",
   "metadata": {},
   "source": [
    "The following is $n=3$."
   ]
  },
  {
   "cell_type": "code",
   "execution_count": 46,
   "metadata": {
    "scrolled": false
   },
   "outputs": [
    {
     "data": {
      "text/html": [
       "<html><script type=\"math/tex; mode=display\">\\newcommand{\\Bold}[1]{\\mathbf{#1}}-\\frac{2 \\, {\\left(20 \\, t_{1}^{6} t_{2}^{2} + 40 \\, t_{1}^{5} t_{2}^{3} + 20 \\, t_{1}^{4} t_{2}^{4} + 40 \\, t_{1}^{6} t_{2} t_{3} - 33 \\, t_{1}^{5} t_{2}^{2} t_{3} - 189 \\, t_{1}^{4} t_{2}^{3} t_{3} - 122 \\, t_{1}^{3} t_{2}^{4} t_{3} - 9 \\, t_{1}^{2} t_{2}^{5} t_{3} - 3 \\, t_{1} t_{2}^{6} t_{3} + 20 \\, t_{1}^{6} t_{3}^{2} - 33 \\, t_{1}^{5} t_{2} t_{3}^{2} - 318 \\, t_{1}^{4} t_{2}^{2} t_{3}^{2} - 316 \\, t_{1}^{3} t_{2}^{3} t_{3}^{2} - 66 \\, t_{1}^{2} t_{2}^{4} t_{3}^{2} - 18 \\, t_{1} t_{2}^{5} t_{3}^{2} - 3 \\, t_{2}^{6} t_{3}^{2} + 40 \\, t_{1}^{5} t_{3}^{3} - 189 \\, t_{1}^{4} t_{2} t_{3}^{3} - 316 \\, t_{1}^{3} t_{2}^{2} t_{3}^{3} - 114 \\, t_{1}^{2} t_{2}^{3} t_{3}^{3} - 36 \\, t_{1} t_{2}^{4} t_{3}^{3} - 9 \\, t_{2}^{5} t_{3}^{3} + 20 \\, t_{1}^{4} t_{3}^{4} - 122 \\, t_{1}^{3} t_{2} t_{3}^{4} - 66 \\, t_{1}^{2} t_{2}^{2} t_{3}^{4} - 36 \\, t_{1} t_{2}^{3} t_{3}^{4} - 12 \\, t_{2}^{4} t_{3}^{4} - 9 \\, t_{1}^{2} t_{2} t_{3}^{5} - 18 \\, t_{1} t_{2}^{2} t_{3}^{5} - 9 \\, t_{2}^{3} t_{3}^{5} - 3 \\, t_{1} t_{2} t_{3}^{6} - 3 \\, t_{2}^{2} t_{3}^{6}\\right)} {\\left(t_{1} + t_{2}\\right)} {\\left(t_{1} + t_{3}\\right)} {\\left(t_{2} + t_{3}\\right)}}{3 \\, {\\left(t_{1} + t_{2} + t_{3}\\right)}^{3} t_{1}^{2} t_{2}^{3} t_{3}^{3}}</script></html>"
      ],
      "text/latex": [
       "$$\\newcommand{\\Bold}[1]{\\mathbf{#1}}-\\frac{2 \\, {\\left(20 \\, t_{1}^{6} t_{2}^{2} + 40 \\, t_{1}^{5} t_{2}^{3} + 20 \\, t_{1}^{4} t_{2}^{4} + 40 \\, t_{1}^{6} t_{2} t_{3} - 33 \\, t_{1}^{5} t_{2}^{2} t_{3} - 189 \\, t_{1}^{4} t_{2}^{3} t_{3} - 122 \\, t_{1}^{3} t_{2}^{4} t_{3} - 9 \\, t_{1}^{2} t_{2}^{5} t_{3} - 3 \\, t_{1} t_{2}^{6} t_{3} + 20 \\, t_{1}^{6} t_{3}^{2} - 33 \\, t_{1}^{5} t_{2} t_{3}^{2} - 318 \\, t_{1}^{4} t_{2}^{2} t_{3}^{2} - 316 \\, t_{1}^{3} t_{2}^{3} t_{3}^{2} - 66 \\, t_{1}^{2} t_{2}^{4} t_{3}^{2} - 18 \\, t_{1} t_{2}^{5} t_{3}^{2} - 3 \\, t_{2}^{6} t_{3}^{2} + 40 \\, t_{1}^{5} t_{3}^{3} - 189 \\, t_{1}^{4} t_{2} t_{3}^{3} - 316 \\, t_{1}^{3} t_{2}^{2} t_{3}^{3} - 114 \\, t_{1}^{2} t_{2}^{3} t_{3}^{3} - 36 \\, t_{1} t_{2}^{4} t_{3}^{3} - 9 \\, t_{2}^{5} t_{3}^{3} + 20 \\, t_{1}^{4} t_{3}^{4} - 122 \\, t_{1}^{3} t_{2} t_{3}^{4} - 66 \\, t_{1}^{2} t_{2}^{2} t_{3}^{4} - 36 \\, t_{1} t_{2}^{3} t_{3}^{4} - 12 \\, t_{2}^{4} t_{3}^{4} - 9 \\, t_{1}^{2} t_{2} t_{3}^{5} - 18 \\, t_{1} t_{2}^{2} t_{3}^{5} - 9 \\, t_{2}^{3} t_{3}^{5} - 3 \\, t_{1} t_{2} t_{3}^{6} - 3 \\, t_{2}^{2} t_{3}^{6}\\right)} {\\left(t_{1} + t_{2}\\right)} {\\left(t_{1} + t_{3}\\right)} {\\left(t_{2} + t_{3}\\right)}}{3 \\, {\\left(t_{1} + t_{2} + t_{3}\\right)}^{3} t_{1}^{2} t_{2}^{3} t_{3}^{3}}$$"
      ],
      "text/plain": [
       "-2/3*(20*t1^6*t2^2 + 40*t1^5*t2^3 + 20*t1^4*t2^4 + 40*t1^6*t2*t3 - 33*t1^5*t2^2*t3 - 189*t1^4*t2^3*t3 - 122*t1^3*t2^4*t3 - 9*t1^2*t2^5*t3 - 3*t1*t2^6*t3 + 20*t1^6*t3^2 - 33*t1^5*t2*t3^2 - 318*t1^4*t2^2*t3^2 - 316*t1^3*t2^3*t3^2 - 66*t1^2*t2^4*t3^2 - 18*t1*t2^5*t3^2 - 3*t2^6*t3^2 + 40*t1^5*t3^3 - 189*t1^4*t2*t3^3 - 316*t1^3*t2^2*t3^3 - 114*t1^2*t2^3*t3^3 - 36*t1*t2^4*t3^3 - 9*t2^5*t3^3 + 20*t1^4*t3^4 - 122*t1^3*t2*t3^4 - 66*t1^2*t2^2*t3^4 - 36*t1*t2^3*t3^4 - 12*t2^4*t3^4 - 9*t1^2*t2*t3^5 - 18*t1*t2^2*t3^5 - 9*t2^3*t3^5 - 3*t1*t2*t3^6 - 3*t2^2*t3^6)*(t1 + t2)*(t1 + t3)*(t2 + t3)/((t1 + t2 + t3)^3*t1^2*t2^3*t3^3)"
      ]
     },
     "execution_count": 46,
     "metadata": {},
     "output_type": "execute_result"
    }
   ],
   "source": [
    "Weight3=(2,0,0)\n",
    "tc3 = Vertex4d.Total_Segre(Weight3,3)(t1*b,t2*b,t3*b,t4*b,0,0)\n",
    "tc3_numer= tc3.numerator().taylor(b,0,5)\n",
    "tc3_denom=taylor_reciprocal(tc3.denominator().taylor(b,0,7),5,b)\n",
    "pretty(deg0(tc3_numer*tc3_denom))"
   ]
  },
  {
   "cell_type": "code",
   "execution_count": 27,
   "metadata": {},
   "outputs": [
    {
     "data": {
      "text/html": [
       "<html><script type=\"math/tex; mode=display\">\\newcommand{\\Bold}[1]{\\mathbf{#1}}-30 \\, {\\left(t_{1}^{3} t_{2}^{3} t_{3}^{8} + 4 \\, {\\left(t_{1}^{4} t_{2}^{3} + t_{1}^{3} t_{2}^{4}\\right)} t_{3}^{7} + {\\left(7 \\, t_{1}^{5} t_{2}^{3} + 13 \\, t_{1}^{4} t_{2}^{4} + 7 \\, t_{1}^{3} t_{2}^{5}\\right)} t_{3}^{6} + {\\left(7 \\, t_{1}^{6} t_{2}^{3} + 18 \\, t_{1}^{5} t_{2}^{4} + 18 \\, t_{1}^{4} t_{2}^{5} + 7 \\, t_{1}^{3} t_{2}^{6}\\right)} t_{3}^{5} + {\\left(4 \\, t_{1}^{7} t_{2}^{3} + 13 \\, t_{1}^{6} t_{2}^{4} + 18 \\, t_{1}^{5} t_{2}^{5} + 13 \\, t_{1}^{4} t_{2}^{6} + 4 \\, t_{1}^{3} t_{2}^{7}\\right)} t_{3}^{4} + {\\left(t_{1}^{8} t_{2}^{3} + 4 \\, t_{1}^{7} t_{2}^{4} + 7 \\, t_{1}^{6} t_{2}^{5} + 7 \\, t_{1}^{5} t_{2}^{6} + 4 \\, t_{1}^{4} t_{2}^{7} + t_{1}^{3} t_{2}^{8}\\right)} t_{3}^{3}\\right)} b^{5} + 6 \\, {\\left(t_{1}^{3} t_{2}^{3} t_{3}^{6} + 3 \\, {\\left(t_{1}^{4} t_{2}^{3} + t_{1}^{3} t_{2}^{4}\\right)} t_{3}^{5} + 3 \\, {\\left(t_{1}^{5} t_{2}^{3} + 2 \\, t_{1}^{4} t_{2}^{4} + t_{1}^{3} t_{2}^{5}\\right)} t_{3}^{4} + {\\left(t_{1}^{6} t_{2}^{3} + 3 \\, t_{1}^{5} t_{2}^{4} + 3 \\, t_{1}^{4} t_{2}^{5} + t_{1}^{3} t_{2}^{6}\\right)} t_{3}^{3}\\right)} b^{3}</script></html>"
      ],
      "text/latex": [
       "$$\\newcommand{\\Bold}[1]{\\mathbf{#1}}-30 \\, {\\left(t_{1}^{3} t_{2}^{3} t_{3}^{8} + 4 \\, {\\left(t_{1}^{4} t_{2}^{3} + t_{1}^{3} t_{2}^{4}\\right)} t_{3}^{7} + {\\left(7 \\, t_{1}^{5} t_{2}^{3} + 13 \\, t_{1}^{4} t_{2}^{4} + 7 \\, t_{1}^{3} t_{2}^{5}\\right)} t_{3}^{6} + {\\left(7 \\, t_{1}^{6} t_{2}^{3} + 18 \\, t_{1}^{5} t_{2}^{4} + 18 \\, t_{1}^{4} t_{2}^{5} + 7 \\, t_{1}^{3} t_{2}^{6}\\right)} t_{3}^{5} + {\\left(4 \\, t_{1}^{7} t_{2}^{3} + 13 \\, t_{1}^{6} t_{2}^{4} + 18 \\, t_{1}^{5} t_{2}^{5} + 13 \\, t_{1}^{4} t_{2}^{6} + 4 \\, t_{1}^{3} t_{2}^{7}\\right)} t_{3}^{4} + {\\left(t_{1}^{8} t_{2}^{3} + 4 \\, t_{1}^{7} t_{2}^{4} + 7 \\, t_{1}^{6} t_{2}^{5} + 7 \\, t_{1}^{5} t_{2}^{6} + 4 \\, t_{1}^{4} t_{2}^{7} + t_{1}^{3} t_{2}^{8}\\right)} t_{3}^{3}\\right)} b^{5} + 6 \\, {\\left(t_{1}^{3} t_{2}^{3} t_{3}^{6} + 3 \\, {\\left(t_{1}^{4} t_{2}^{3} + t_{1}^{3} t_{2}^{4}\\right)} t_{3}^{5} + 3 \\, {\\left(t_{1}^{5} t_{2}^{3} + 2 \\, t_{1}^{4} t_{2}^{4} + t_{1}^{3} t_{2}^{5}\\right)} t_{3}^{4} + {\\left(t_{1}^{6} t_{2}^{3} + 3 \\, t_{1}^{5} t_{2}^{4} + 3 \\, t_{1}^{4} t_{2}^{5} + t_{1}^{3} t_{2}^{6}\\right)} t_{3}^{3}\\right)} b^{3}$$"
      ],
      "text/plain": [
       "-30*(t1^3*t2^3*t3^8 + 4*(t1^4*t2^3 + t1^3*t2^4)*t3^7 + (7*t1^5*t2^3 + 13*t1^4*t2^4 + 7*t1^3*t2^5)*t3^6 + (7*t1^6*t2^3 + 18*t1^5*t2^4 + 18*t1^4*t2^5 + 7*t1^3*t2^6)*t3^5 + (4*t1^7*t2^3 + 13*t1^6*t2^4 + 18*t1^5*t2^5 + 13*t1^4*t2^6 + 4*t1^3*t2^7)*t3^4 + (t1^8*t2^3 + 4*t1^7*t2^4 + 7*t1^6*t2^5 + 7*t1^5*t2^6 + 4*t1^4*t2^7 + t1^3*t2^8)*t3^3)*b^5 + 6*(t1^3*t2^3*t3^6 + 3*(t1^4*t2^3 + t1^3*t2^4)*t3^5 + 3*(t1^5*t2^3 + 2*t1^4*t2^4 + t1^3*t2^5)*t3^4 + (t1^6*t2^3 + 3*t1^5*t2^4 + 3*t1^4*t2^5 + t1^3*t2^6)*t3^3)*b^3"
      ]
     },
     "execution_count": 27,
     "metadata": {},
     "output_type": "execute_result"
    }
   ],
   "source": [
    "tc3.denominator().taylor(b,0,5)"
   ]
  },
  {
   "cell_type": "code",
   "execution_count": 47,
   "metadata": {
    "scrolled": true
   },
   "outputs": [],
   "source": [
    "verl3 = Vertex4d.Verlinde(Weight3,3)(exp(t1*b),exp(t2*b),exp(t3*b),0,0,0)\n",
    "verl3_numer= verl3.numerator().taylor(b,0,15)"
   ]
  },
  {
   "cell_type": "code",
   "execution_count": 48,
   "metadata": {},
   "outputs": [
    {
     "data": {
      "text/html": [
       "<html><script type=\"math/tex; mode=display\">\\newcommand{\\Bold}[1]{\\mathbf{#1}}\\frac{{\\left(376944 \\, t_{1}^{6} + 2630232 \\, t_{1}^{5} t_{2} + 7722082 \\, t_{1}^{4} t_{2}^{2} + 12441068 \\, t_{1}^{3} t_{2}^{3} + 12096802 \\, t_{1}^{2} t_{2}^{4} + 7004952 \\, t_{1} t_{2}^{5} + 1909419 \\, t_{2}^{6} + 2630232 \\, t_{1}^{5} t_{3} + 15039130 \\, t_{1}^{4} t_{2} t_{3} + 34989040 \\, t_{1}^{3} t_{2}^{2} t_{3} + 43196050 \\, t_{1}^{2} t_{2}^{3} t_{3} + 29907004 \\, t_{1} t_{2}^{4} t_{3} + 9558342 \\, t_{2}^{5} t_{3} + 7722082 \\, t_{1}^{4} t_{3}^{2} + 34989040 \\, t_{1}^{3} t_{2} t_{3}^{2} + 62210158 \\, t_{1}^{2} t_{2}^{2} t_{3}^{2} + 54683218 \\, t_{1} t_{2}^{3} t_{3}^{2} + 21046015 \\, t_{2}^{4} t_{3}^{2} + 12441068 \\, t_{1}^{3} t_{3}^{3} + 43196050 \\, t_{1}^{2} t_{2} t_{3}^{3} + 54683218 \\, t_{1} t_{2}^{2} t_{3}^{3} + 26785916 \\, t_{2}^{3} t_{3}^{3} + 12096802 \\, t_{1}^{2} t_{3}^{4} + 29907004 \\, t_{1} t_{2} t_{3}^{4} + 21046015 \\, t_{2}^{2} t_{3}^{4} + 7004952 \\, t_{1} t_{3}^{5} + 9558342 \\, t_{2} t_{3}^{5} + 1909419 \\, t_{3}^{6}\\right)} {\\left(2 \\, t_{1} + 3 \\, t_{2} + 3 \\, t_{3}\\right)}}{6531840 \\, b^{5} {\\left(t_{1} + t_{2} + t_{3}\\right)}^{3} t_{1}^{3} t_{2}^{3} t_{3}^{3}} + \\frac{451247 \\, t_{1}^{6} + 6305541 \\, t_{1}^{5} t_{2} + 31599704 \\, t_{1}^{4} t_{2}^{2} + 75641325 \\, t_{1}^{3} t_{2}^{3} + 93259064 \\, t_{1}^{2} t_{2}^{4} + 56942421 \\, t_{1} t_{2}^{5} + 13582022 \\, t_{2}^{6} + 6305541 \\, t_{1}^{5} t_{3} + 64390059 \\, t_{1}^{4} t_{2} t_{3} + 235443997 \\, t_{1}^{3} t_{2}^{2} t_{3} + 394134823 \\, t_{1}^{2} t_{2}^{3} t_{3} + 306376965 \\, t_{1} t_{2}^{4} t_{3} + 89335131 \\, t_{2}^{5} t_{3} + 31599704 \\, t_{1}^{4} t_{3}^{2} + 235443997 \\, t_{1}^{3} t_{2} t_{3}^{2} + 602132591 \\, t_{1}^{2} t_{2}^{2} t_{3}^{2} + 635614831 \\, t_{1} t_{2}^{3} t_{3}^{2} + 235986761 \\, t_{2}^{4} t_{3}^{2} + 75641325 \\, t_{1}^{3} t_{3}^{3} + 394134823 \\, t_{1}^{2} t_{2} t_{3}^{3} + 635614831 \\, t_{1} t_{2}^{2} t_{3}^{3} + 320477973 \\, t_{2}^{3} t_{3}^{3} + 93259064 \\, t_{1}^{2} t_{3}^{4} + 306376965 \\, t_{1} t_{2} t_{3}^{4} + 235986761 \\, t_{2}^{2} t_{3}^{4} + 56942421 \\, t_{1} t_{3}^{5} + 89335131 \\, t_{2} t_{3}^{5} + 13582022 \\, t_{3}^{6}}{39191040 \\, b^{6} {\\left(t_{1} + t_{2} + t_{3}\\right)}^{3} t_{1}^{3} t_{2}^{3} t_{3}^{3}} - \\frac{{\\left(3275 \\, t_{1}^{4} + 27574 \\, t_{1}^{3} t_{2} + 75093 \\, t_{1}^{2} t_{2}^{2} + 79594 \\, t_{1} t_{2}^{3} + 28565 \\, t_{2}^{4} + 27574 \\, t_{1}^{3} t_{3} + 154246 \\, t_{1}^{2} t_{2} t_{3} + 252922 \\, t_{1} t_{2}^{2} t_{3} + 124522 \\, t_{2}^{3} t_{3} + 75093 \\, t_{1}^{2} t_{3}^{2} + 252922 \\, t_{1} t_{2} t_{3}^{2} + 192453 \\, t_{2}^{2} t_{3}^{2} + 79594 \\, t_{1} t_{3}^{3} + 124522 \\, t_{2} t_{3}^{3} + 28565 \\, t_{3}^{4}\\right)} {\\left(2 \\, t_{1} + 3 \\, t_{2} + 3 \\, t_{3}\\right)}}{311040 \\, b^{7} {\\left(t_{1} + t_{2} + t_{3}\\right)}^{3} t_{1}^{3} t_{2}^{3} t_{3}^{3}} + \\frac{24299 \\, t_{1}^{4} + 173878 \\, t_{1}^{3} t_{2} + 431997 \\, t_{1}^{2} t_{2}^{2} + 446578 \\, t_{1} t_{2}^{3} + 163349 \\, t_{2}^{4} + 173878 \\, t_{1}^{3} t_{3} + 878134 \\, t_{1}^{2} t_{2} t_{3} + 1384114 \\, t_{1} t_{2}^{2} t_{3} + 686338 \\, t_{2}^{3} t_{3} + 431997 \\, t_{1}^{2} t_{3}^{2} + 1384114 \\, t_{1} t_{2} t_{3}^{2} + 1046517 \\, t_{2}^{2} t_{3}^{2} + 446578 \\, t_{1} t_{3}^{3} + 686338 \\, t_{2} t_{3}^{3} + 163349 \\, t_{3}^{4}}{933120 \\, b^{8} {\\left(t_{1} + t_{2} + t_{3}\\right)}^{3} t_{1}^{3} t_{2}^{3} t_{3}^{3}} - \\frac{{\\left(29 \\, t_{1}^{2} + 101 \\, t_{1} t_{2} + 74 \\, t_{2}^{2} + 101 \\, t_{1} t_{3} + 155 \\, t_{2} t_{3} + 74 \\, t_{3}^{2}\\right)} {\\left(2 \\, t_{1} + 3 \\, t_{2} + 3 \\, t_{3}\\right)}}{2592 \\, b^{9} {\\left(t_{1} + t_{2} + t_{3}\\right)}^{3} t_{1}^{3} t_{2}^{3} t_{3}^{3}} + \\frac{101 \\, t_{1}^{2} + 317 \\, t_{1} t_{2} + 236 \\, t_{2}^{2} + 317 \\, t_{1} t_{3} + 479 \\, t_{2} t_{3} + 236 \\, t_{3}^{2}}{7776 \\, b^{10} {\\left(t_{1} + t_{2} + t_{3}\\right)}^{3} t_{1}^{3} t_{2}^{3} t_{3}^{3}} - \\frac{2 \\, t_{1} + 3 \\, t_{2} + 3 \\, t_{3}}{432 \\, b^{11} {\\left(t_{1} + t_{2} + t_{3}\\right)}^{3} t_{1}^{3} t_{2}^{3} t_{3}^{3}} + \\frac{1}{1296 \\, b^{12} {\\left(t_{1} + t_{2} + t_{3}\\right)}^{3} t_{1}^{3} t_{2}^{3} t_{3}^{3}}</script></html>"
      ],
      "text/latex": [
       "$$\\newcommand{\\Bold}[1]{\\mathbf{#1}}\\frac{{\\left(376944 \\, t_{1}^{6} + 2630232 \\, t_{1}^{5} t_{2} + 7722082 \\, t_{1}^{4} t_{2}^{2} + 12441068 \\, t_{1}^{3} t_{2}^{3} + 12096802 \\, t_{1}^{2} t_{2}^{4} + 7004952 \\, t_{1} t_{2}^{5} + 1909419 \\, t_{2}^{6} + 2630232 \\, t_{1}^{5} t_{3} + 15039130 \\, t_{1}^{4} t_{2} t_{3} + 34989040 \\, t_{1}^{3} t_{2}^{2} t_{3} + 43196050 \\, t_{1}^{2} t_{2}^{3} t_{3} + 29907004 \\, t_{1} t_{2}^{4} t_{3} + 9558342 \\, t_{2}^{5} t_{3} + 7722082 \\, t_{1}^{4} t_{3}^{2} + 34989040 \\, t_{1}^{3} t_{2} t_{3}^{2} + 62210158 \\, t_{1}^{2} t_{2}^{2} t_{3}^{2} + 54683218 \\, t_{1} t_{2}^{3} t_{3}^{2} + 21046015 \\, t_{2}^{4} t_{3}^{2} + 12441068 \\, t_{1}^{3} t_{3}^{3} + 43196050 \\, t_{1}^{2} t_{2} t_{3}^{3} + 54683218 \\, t_{1} t_{2}^{2} t_{3}^{3} + 26785916 \\, t_{2}^{3} t_{3}^{3} + 12096802 \\, t_{1}^{2} t_{3}^{4} + 29907004 \\, t_{1} t_{2} t_{3}^{4} + 21046015 \\, t_{2}^{2} t_{3}^{4} + 7004952 \\, t_{1} t_{3}^{5} + 9558342 \\, t_{2} t_{3}^{5} + 1909419 \\, t_{3}^{6}\\right)} {\\left(2 \\, t_{1} + 3 \\, t_{2} + 3 \\, t_{3}\\right)}}{6531840 \\, b^{5} {\\left(t_{1} + t_{2} + t_{3}\\right)}^{3} t_{1}^{3} t_{2}^{3} t_{3}^{3}} + \\frac{451247 \\, t_{1}^{6} + 6305541 \\, t_{1}^{5} t_{2} + 31599704 \\, t_{1}^{4} t_{2}^{2} + 75641325 \\, t_{1}^{3} t_{2}^{3} + 93259064 \\, t_{1}^{2} t_{2}^{4} + 56942421 \\, t_{1} t_{2}^{5} + 13582022 \\, t_{2}^{6} + 6305541 \\, t_{1}^{5} t_{3} + 64390059 \\, t_{1}^{4} t_{2} t_{3} + 235443997 \\, t_{1}^{3} t_{2}^{2} t_{3} + 394134823 \\, t_{1}^{2} t_{2}^{3} t_{3} + 306376965 \\, t_{1} t_{2}^{4} t_{3} + 89335131 \\, t_{2}^{5} t_{3} + 31599704 \\, t_{1}^{4} t_{3}^{2} + 235443997 \\, t_{1}^{3} t_{2} t_{3}^{2} + 602132591 \\, t_{1}^{2} t_{2}^{2} t_{3}^{2} + 635614831 \\, t_{1} t_{2}^{3} t_{3}^{2} + 235986761 \\, t_{2}^{4} t_{3}^{2} + 75641325 \\, t_{1}^{3} t_{3}^{3} + 394134823 \\, t_{1}^{2} t_{2} t_{3}^{3} + 635614831 \\, t_{1} t_{2}^{2} t_{3}^{3} + 320477973 \\, t_{2}^{3} t_{3}^{3} + 93259064 \\, t_{1}^{2} t_{3}^{4} + 306376965 \\, t_{1} t_{2} t_{3}^{4} + 235986761 \\, t_{2}^{2} t_{3}^{4} + 56942421 \\, t_{1} t_{3}^{5} + 89335131 \\, t_{2} t_{3}^{5} + 13582022 \\, t_{3}^{6}}{39191040 \\, b^{6} {\\left(t_{1} + t_{2} + t_{3}\\right)}^{3} t_{1}^{3} t_{2}^{3} t_{3}^{3}} - \\frac{{\\left(3275 \\, t_{1}^{4} + 27574 \\, t_{1}^{3} t_{2} + 75093 \\, t_{1}^{2} t_{2}^{2} + 79594 \\, t_{1} t_{2}^{3} + 28565 \\, t_{2}^{4} + 27574 \\, t_{1}^{3} t_{3} + 154246 \\, t_{1}^{2} t_{2} t_{3} + 252922 \\, t_{1} t_{2}^{2} t_{3} + 124522 \\, t_{2}^{3} t_{3} + 75093 \\, t_{1}^{2} t_{3}^{2} + 252922 \\, t_{1} t_{2} t_{3}^{2} + 192453 \\, t_{2}^{2} t_{3}^{2} + 79594 \\, t_{1} t_{3}^{3} + 124522 \\, t_{2} t_{3}^{3} + 28565 \\, t_{3}^{4}\\right)} {\\left(2 \\, t_{1} + 3 \\, t_{2} + 3 \\, t_{3}\\right)}}{311040 \\, b^{7} {\\left(t_{1} + t_{2} + t_{3}\\right)}^{3} t_{1}^{3} t_{2}^{3} t_{3}^{3}} + \\frac{24299 \\, t_{1}^{4} + 173878 \\, t_{1}^{3} t_{2} + 431997 \\, t_{1}^{2} t_{2}^{2} + 446578 \\, t_{1} t_{2}^{3} + 163349 \\, t_{2}^{4} + 173878 \\, t_{1}^{3} t_{3} + 878134 \\, t_{1}^{2} t_{2} t_{3} + 1384114 \\, t_{1} t_{2}^{2} t_{3} + 686338 \\, t_{2}^{3} t_{3} + 431997 \\, t_{1}^{2} t_{3}^{2} + 1384114 \\, t_{1} t_{2} t_{3}^{2} + 1046517 \\, t_{2}^{2} t_{3}^{2} + 446578 \\, t_{1} t_{3}^{3} + 686338 \\, t_{2} t_{3}^{3} + 163349 \\, t_{3}^{4}}{933120 \\, b^{8} {\\left(t_{1} + t_{2} + t_{3}\\right)}^{3} t_{1}^{3} t_{2}^{3} t_{3}^{3}} - \\frac{{\\left(29 \\, t_{1}^{2} + 101 \\, t_{1} t_{2} + 74 \\, t_{2}^{2} + 101 \\, t_{1} t_{3} + 155 \\, t_{2} t_{3} + 74 \\, t_{3}^{2}\\right)} {\\left(2 \\, t_{1} + 3 \\, t_{2} + 3 \\, t_{3}\\right)}}{2592 \\, b^{9} {\\left(t_{1} + t_{2} + t_{3}\\right)}^{3} t_{1}^{3} t_{2}^{3} t_{3}^{3}} + \\frac{101 \\, t_{1}^{2} + 317 \\, t_{1} t_{2} + 236 \\, t_{2}^{2} + 317 \\, t_{1} t_{3} + 479 \\, t_{2} t_{3} + 236 \\, t_{3}^{2}}{7776 \\, b^{10} {\\left(t_{1} + t_{2} + t_{3}\\right)}^{3} t_{1}^{3} t_{2}^{3} t_{3}^{3}} - \\frac{2 \\, t_{1} + 3 \\, t_{2} + 3 \\, t_{3}}{432 \\, b^{11} {\\left(t_{1} + t_{2} + t_{3}\\right)}^{3} t_{1}^{3} t_{2}^{3} t_{3}^{3}} + \\frac{1}{1296 \\, b^{12} {\\left(t_{1} + t_{2} + t_{3}\\right)}^{3} t_{1}^{3} t_{2}^{3} t_{3}^{3}}$$"
      ],
      "text/plain": [
       "1/6531840*(376944*t1^6 + 2630232*t1^5*t2 + 7722082*t1^4*t2^2 + 12441068*t1^3*t2^3 + 12096802*t1^2*t2^4 + 7004952*t1*t2^5 + 1909419*t2^6 + 2630232*t1^5*t3 + 15039130*t1^4*t2*t3 + 34989040*t1^3*t2^2*t3 + 43196050*t1^2*t2^3*t3 + 29907004*t1*t2^4*t3 + 9558342*t2^5*t3 + 7722082*t1^4*t3^2 + 34989040*t1^3*t2*t3^2 + 62210158*t1^2*t2^2*t3^2 + 54683218*t1*t2^3*t3^2 + 21046015*t2^4*t3^2 + 12441068*t1^3*t3^3 + 43196050*t1^2*t2*t3^3 + 54683218*t1*t2^2*t3^3 + 26785916*t2^3*t3^3 + 12096802*t1^2*t3^4 + 29907004*t1*t2*t3^4 + 21046015*t2^2*t3^4 + 7004952*t1*t3^5 + 9558342*t2*t3^5 + 1909419*t3^6)*(2*t1 + 3*t2 + 3*t3)/(b^5*(t1 + t2 + t3)^3*t1^3*t2^3*t3^3) + 1/39191040*(451247*t1^6 + 6305541*t1^5*t2 + 31599704*t1^4*t2^2 + 75641325*t1^3*t2^3 + 93259064*t1^2*t2^4 + 56942421*t1*t2^5 + 13582022*t2^6 + 6305541*t1^5*t3 + 64390059*t1^4*t2*t3 + 235443997*t1^3*t2^2*t3 + 394134823*t1^2*t2^3*t3 + 306376965*t1*t2^4*t3 + 89335131*t2^5*t3 + 31599704*t1^4*t3^2 + 235443997*t1^3*t2*t3^2 + 602132591*t1^2*t2^2*t3^2 + 635614831*t1*t2^3*t3^2 + 235986761*t2^4*t3^2 + 75641325*t1^3*t3^3 + 394134823*t1^2*t2*t3^3 + 635614831*t1*t2^2*t3^3 + 320477973*t2^3*t3^3 + 93259064*t1^2*t3^4 + 306376965*t1*t2*t3^4 + 235986761*t2^2*t3^4 + 56942421*t1*t3^5 + 89335131*t2*t3^5 + 13582022*t3^6)/(b^6*(t1 + t2 + t3)^3*t1^3*t2^3*t3^3) - 1/311040*(3275*t1^4 + 27574*t1^3*t2 + 75093*t1^2*t2^2 + 79594*t1*t2^3 + 28565*t2^4 + 27574*t1^3*t3 + 154246*t1^2*t2*t3 + 252922*t1*t2^2*t3 + 124522*t2^3*t3 + 75093*t1^2*t3^2 + 252922*t1*t2*t3^2 + 192453*t2^2*t3^2 + 79594*t1*t3^3 + 124522*t2*t3^3 + 28565*t3^4)*(2*t1 + 3*t2 + 3*t3)/(b^7*(t1 + t2 + t3)^3*t1^3*t2^3*t3^3) + 1/933120*(24299*t1^4 + 173878*t1^3*t2 + 431997*t1^2*t2^2 + 446578*t1*t2^3 + 163349*t2^4 + 173878*t1^3*t3 + 878134*t1^2*t2*t3 + 1384114*t1*t2^2*t3 + 686338*t2^3*t3 + 431997*t1^2*t3^2 + 1384114*t1*t2*t3^2 + 1046517*t2^2*t3^2 + 446578*t1*t3^3 + 686338*t2*t3^3 + 163349*t3^4)/(b^8*(t1 + t2 + t3)^3*t1^3*t2^3*t3^3) - 1/2592*(29*t1^2 + 101*t1*t2 + 74*t2^2 + 101*t1*t3 + 155*t2*t3 + 74*t3^2)*(2*t1 + 3*t2 + 3*t3)/(b^9*(t1 + t2 + t3)^3*t1^3*t2^3*t3^3) + 1/7776*(101*t1^2 + 317*t1*t2 + 236*t2^2 + 317*t1*t3 + 479*t2*t3 + 236*t3^2)/(b^10*(t1 + t2 + t3)^3*t1^3*t2^3*t3^3) - 1/432*(2*t1 + 3*t2 + 3*t3)/(b^11*(t1 + t2 + t3)^3*t1^3*t2^3*t3^3) + 1/1296/(b^12*(t1 + t2 + t3)^3*t1^3*t2^3*t3^3)"
      ]
     },
     "execution_count": 48,
     "metadata": {},
     "output_type": "execute_result"
    }
   ],
   "source": [
    "verl3_denom=taylor_reciprocal(verl3.denominator().taylor(b,0,18),7,b)\n",
    "verl3_denom"
   ]
  },
  {
   "cell_type": "code",
   "execution_count": 49,
   "metadata": {
    "scrolled": true
   },
   "outputs": [
    {
     "data": {
      "text/html": [
       "<html><script type=\"math/tex; mode=display\">\\newcommand{\\Bold}[1]{\\mathbf{#1}}\\frac{{\\left(36 \\, t_{1}^{6} t_{2}^{2} + 72 \\, t_{1}^{5} t_{2}^{3} + 36 \\, t_{1}^{4} t_{2}^{4} + 72 \\, t_{1}^{6} t_{2} t_{3} - 195 \\, t_{1}^{5} t_{2}^{2} t_{3} - 612 \\, t_{1}^{4} t_{2}^{3} t_{3} - 357 \\, t_{1}^{3} t_{2}^{4} t_{3} - 18 \\, t_{1}^{2} t_{2}^{5} t_{3} - 6 \\, t_{1} t_{2}^{6} t_{3} + 36 \\, t_{1}^{6} t_{3}^{2} - 195 \\, t_{1}^{5} t_{2} t_{3}^{2} - 896 \\, t_{1}^{4} t_{2}^{2} t_{3}^{2} - 676 \\, t_{1}^{3} t_{2}^{3} t_{3}^{2} - 41 \\, t_{1}^{2} t_{2}^{4} t_{3}^{2} - 36 \\, t_{1} t_{2}^{5} t_{3}^{2} - 6 \\, t_{2}^{6} t_{3}^{2} + 72 \\, t_{1}^{5} t_{3}^{3} - 612 \\, t_{1}^{4} t_{2} t_{3}^{3} - 676 \\, t_{1}^{3} t_{2}^{2} t_{3}^{3} - 46 \\, t_{1}^{2} t_{2}^{3} t_{3}^{3} - 72 \\, t_{1} t_{2}^{4} t_{3}^{3} - 18 \\, t_{2}^{5} t_{3}^{3} + 36 \\, t_{1}^{4} t_{3}^{4} - 357 \\, t_{1}^{3} t_{2} t_{3}^{4} - 41 \\, t_{1}^{2} t_{2}^{2} t_{3}^{4} - 72 \\, t_{1} t_{2}^{3} t_{3}^{4} - 24 \\, t_{2}^{4} t_{3}^{4} - 18 \\, t_{1}^{2} t_{2} t_{3}^{5} - 36 \\, t_{1} t_{2}^{2} t_{3}^{5} - 18 \\, t_{2}^{3} t_{3}^{5} - 6 \\, t_{1} t_{2} t_{3}^{6} - 6 \\, t_{2}^{2} t_{3}^{6}\\right)} {\\left(t_{1} + t_{2}\\right)} {\\left(t_{1} + t_{3}\\right)} {\\left(t_{2} + t_{3}\\right)}}{6 \\, {\\left(t_{1} + t_{2} + t_{3}\\right)}^{3} t_{1}^{2} t_{2}^{3} t_{3}^{3}}</script></html>"
      ],
      "text/latex": [
       "$$\\newcommand{\\Bold}[1]{\\mathbf{#1}}\\frac{{\\left(36 \\, t_{1}^{6} t_{2}^{2} + 72 \\, t_{1}^{5} t_{2}^{3} + 36 \\, t_{1}^{4} t_{2}^{4} + 72 \\, t_{1}^{6} t_{2} t_{3} - 195 \\, t_{1}^{5} t_{2}^{2} t_{3} - 612 \\, t_{1}^{4} t_{2}^{3} t_{3} - 357 \\, t_{1}^{3} t_{2}^{4} t_{3} - 18 \\, t_{1}^{2} t_{2}^{5} t_{3} - 6 \\, t_{1} t_{2}^{6} t_{3} + 36 \\, t_{1}^{6} t_{3}^{2} - 195 \\, t_{1}^{5} t_{2} t_{3}^{2} - 896 \\, t_{1}^{4} t_{2}^{2} t_{3}^{2} - 676 \\, t_{1}^{3} t_{2}^{3} t_{3}^{2} - 41 \\, t_{1}^{2} t_{2}^{4} t_{3}^{2} - 36 \\, t_{1} t_{2}^{5} t_{3}^{2} - 6 \\, t_{2}^{6} t_{3}^{2} + 72 \\, t_{1}^{5} t_{3}^{3} - 612 \\, t_{1}^{4} t_{2} t_{3}^{3} - 676 \\, t_{1}^{3} t_{2}^{2} t_{3}^{3} - 46 \\, t_{1}^{2} t_{2}^{3} t_{3}^{3} - 72 \\, t_{1} t_{2}^{4} t_{3}^{3} - 18 \\, t_{2}^{5} t_{3}^{3} + 36 \\, t_{1}^{4} t_{3}^{4} - 357 \\, t_{1}^{3} t_{2} t_{3}^{4} - 41 \\, t_{1}^{2} t_{2}^{2} t_{3}^{4} - 72 \\, t_{1} t_{2}^{3} t_{3}^{4} - 24 \\, t_{2}^{4} t_{3}^{4} - 18 \\, t_{1}^{2} t_{2} t_{3}^{5} - 36 \\, t_{1} t_{2}^{2} t_{3}^{5} - 18 \\, t_{2}^{3} t_{3}^{5} - 6 \\, t_{1} t_{2} t_{3}^{6} - 6 \\, t_{2}^{2} t_{3}^{6}\\right)} {\\left(t_{1} + t_{2}\\right)} {\\left(t_{1} + t_{3}\\right)} {\\left(t_{2} + t_{3}\\right)}}{6 \\, {\\left(t_{1} + t_{2} + t_{3}\\right)}^{3} t_{1}^{2} t_{2}^{3} t_{3}^{3}}$$"
      ],
      "text/plain": [
       "1/6*(36*t1^6*t2^2 + 72*t1^5*t2^3 + 36*t1^4*t2^4 + 72*t1^6*t2*t3 - 195*t1^5*t2^2*t3 - 612*t1^4*t2^3*t3 - 357*t1^3*t2^4*t3 - 18*t1^2*t2^5*t3 - 6*t1*t2^6*t3 + 36*t1^6*t3^2 - 195*t1^5*t2*t3^2 - 896*t1^4*t2^2*t3^2 - 676*t1^3*t2^3*t3^2 - 41*t1^2*t2^4*t3^2 - 36*t1*t2^5*t3^2 - 6*t2^6*t3^2 + 72*t1^5*t3^3 - 612*t1^4*t2*t3^3 - 676*t1^3*t2^2*t3^3 - 46*t1^2*t2^3*t3^3 - 72*t1*t2^4*t3^3 - 18*t2^5*t3^3 + 36*t1^4*t3^4 - 357*t1^3*t2*t3^4 - 41*t1^2*t2^2*t3^4 - 72*t1*t2^3*t3^4 - 24*t2^4*t3^4 - 18*t1^2*t2*t3^5 - 36*t1*t2^2*t3^5 - 18*t2^3*t3^5 - 6*t1*t2*t3^6 - 6*t2^2*t3^6)*(t1 + t2)*(t1 + t3)*(t2 + t3)/((t1 + t2 + t3)^3*t1^2*t2^3*t3^3)"
      ]
     },
     "execution_count": 49,
     "metadata": {},
     "output_type": "execute_result"
    }
   ],
   "source": [
    "pretty(deg0(deg_at_most_n(verl3_numer*verl3_denom,0,b)))"
   ]
  },
  {
   "cell_type": "code",
   "execution_count": 53,
   "metadata": {
    "scrolled": true
   },
   "outputs": [
    {
     "data": {
      "text/html": [
       "<html><script type=\"math/tex; mode=display\">\\newcommand{\\Bold}[1]{\\mathbf{#1}}-\\frac{{\\left(44 \\, t_{1}^{4} t_{2} + 44 \\, t_{1}^{3} t_{2}^{2} + 44 \\, t_{1}^{4} t_{3} - 113 \\, t_{1}^{3} t_{2} t_{3} - 163 \\, t_{1}^{2} t_{2}^{2} t_{3} - 12 \\, t_{1} t_{2}^{3} t_{3} - 6 \\, t_{2}^{4} t_{3} + 44 \\, t_{1}^{3} t_{3}^{2} - 163 \\, t_{1}^{2} t_{2} t_{3}^{2} - 18 \\, t_{1} t_{2}^{2} t_{3}^{2} - 12 \\, t_{2}^{3} t_{3}^{2} - 12 \\, t_{1} t_{2} t_{3}^{3} - 12 \\, t_{2}^{2} t_{3}^{3} - 6 \\, t_{2} t_{3}^{4}\\right)} {\\left(t_{1} + t_{2}\\right)}^{2} {\\left(t_{1} + t_{3}\\right)}^{2} {\\left(t_{2} + t_{3}\\right)}^{2}}{6 \\, {\\left(t_{1} + t_{2} + t_{3}\\right)}^{3} t_{1}^{2} t_{2}^{3} t_{3}^{3}}</script></html>"
      ],
      "text/latex": [
       "$$\\newcommand{\\Bold}[1]{\\mathbf{#1}}-\\frac{{\\left(44 \\, t_{1}^{4} t_{2} + 44 \\, t_{1}^{3} t_{2}^{2} + 44 \\, t_{1}^{4} t_{3} - 113 \\, t_{1}^{3} t_{2} t_{3} - 163 \\, t_{1}^{2} t_{2}^{2} t_{3} - 12 \\, t_{1} t_{2}^{3} t_{3} - 6 \\, t_{2}^{4} t_{3} + 44 \\, t_{1}^{3} t_{3}^{2} - 163 \\, t_{1}^{2} t_{2} t_{3}^{2} - 18 \\, t_{1} t_{2}^{2} t_{3}^{2} - 12 \\, t_{2}^{3} t_{3}^{2} - 12 \\, t_{1} t_{2} t_{3}^{3} - 12 \\, t_{2}^{2} t_{3}^{3} - 6 \\, t_{2} t_{3}^{4}\\right)} {\\left(t_{1} + t_{2}\\right)}^{2} {\\left(t_{1} + t_{3}\\right)}^{2} {\\left(t_{2} + t_{3}\\right)}^{2}}{6 \\, {\\left(t_{1} + t_{2} + t_{3}\\right)}^{3} t_{1}^{2} t_{2}^{3} t_{3}^{3}}$$"
      ],
      "text/plain": [
       "-1/6*(44*t1^4*t2 + 44*t1^3*t2^2 + 44*t1^4*t3 - 113*t1^3*t2*t3 - 163*t1^2*t2^2*t3 - 12*t1*t2^3*t3 - 6*t2^4*t3 + 44*t1^3*t3^2 - 163*t1^2*t2*t3^2 - 18*t1*t2^2*t3^2 - 12*t2^3*t3^2 - 12*t1*t2*t3^3 - 12*t2^2*t3^3 - 6*t2*t3^4)*(t1 + t2)^2*(t1 + t3)^2*(t2 + t3)^2/((t1 + t2 + t3)^3*t1^2*t2^3*t3^3)"
      ]
     },
     "execution_count": 53,
     "metadata": {},
     "output_type": "execute_result"
    }
   ],
   "source": [
    "pretty(deg0(tc3_numer*tc3_denom)+deg0(deg_at_most_n(verl3_numer*verl3_denom,0,b)))"
   ]
  },
  {
   "cell_type": "markdown",
   "metadata": {},
   "source": [
    "Difference is \n",
    "$$ \\frac{7(t_1+t_2)^3(t_1+t_3)^3(t_2+t_3)^3(w_1t_1+w_2t_2+w_3t_3)^3}{12(t_1+t_2+t_3)^3t_1^3t_2^3t_3^3}-\\frac{25(t_1+t_2)^2(t_1+t_3)^2(t_2+t_3)^2(w_1t_1+w_2t_2+w_3t_3)^2}{8(t_1+t_2+t_3)^2t_1^2t_2^2t_3^2}$$"
   ]
  },
  {
   "cell_type": "markdown",
   "metadata": {},
   "source": [
    "try untwisted Verlinde 2:"
   ]
  },
  {
   "cell_type": "code",
   "execution_count": 16,
   "metadata": {
    "scrolled": true
   },
   "outputs": [],
   "source": [
    "SP=list(pP4ds.with_num_boxes(3))[0]\n",
    "total = 0\n",
    "for SP in list(pP4ds.with_num_boxes(3)):\n",
    "    VP = KTheory4d.NekBracket(-Vertex4d.sqrtTvir(SP))*\\\n",
    "    (Default4d.KT_ring(KTheory.determinant(-VectorBundle4d.character(SP, Weight3)))(Default4d.u1,Default4d.u2,Default4d.u3,Default4d.u4,Default4d.w,Default4d.sqrtv))\n",
    "    VPnum = VP(u1=exp(t1*b/2),u2=exp(t2*b/2),u3=exp(t3*b/2)).numerator()\n",
    "    VPnumer = VPnum.taylor(b,0,12)\n",
    "    VPden = VP(u1=exp(t1*b/2),u2=exp(t2*b/2),u3=exp(t3*b/2)).denominator()\n",
    "    VPdenom = taylor_reciprocal(VPden.taylor(b,0,15),3,b)\n",
    "    total+=SP.sign()*deg0(pretty(VPnumer*VPdenom))"
   ]
  },
  {
   "cell_type": "code",
   "execution_count": 21,
   "metadata": {},
   "outputs": [
    {
     "data": {
      "text/html": [
       "<html><script type=\"math/tex; mode=display\">\\newcommand{\\Bold}[1]{\\mathbf{#1}}\\frac{5 \\, {\\left(t_{1} + t_{2}\\right)} {\\left(t_{1} + t_{3}\\right)} {\\left(t_{2} + t_{3}\\right)}}{12 \\, {\\left(t_{1} + t_{2} + t_{3}\\right)} t_{2} t_{3}}</script></html>"
      ],
      "text/latex": [
       "$$\\newcommand{\\Bold}[1]{\\mathbf{#1}}\\frac{5 \\, {\\left(t_{1} + t_{2}\\right)} {\\left(t_{1} + t_{3}\\right)} {\\left(t_{2} + t_{3}\\right)}}{12 \\, {\\left(t_{1} + t_{2} + t_{3}\\right)} t_{2} t_{3}}$$"
      ],
      "text/plain": [
       "5/12*(t1 + t2)*(t1 + t3)*(t2 + t3)/((t1 + t2 + t3)*t2*t3)"
      ]
     },
     "execution_count": 21,
     "metadata": {},
     "output_type": "execute_result"
    }
   ],
   "source": [
    "pretty(total+deg0(tc3_numer*tc3_denom))"
   ]
  },
  {
   "cell_type": "markdown",
   "metadata": {},
   "source": [
    "----------------------------------"
   ]
  },
  {
   "cell_type": "markdown",
   "metadata": {},
   "source": [
    "Try to use other signs:"
   ]
  },
  {
   "cell_type": "code",
   "execution_count": 208,
   "metadata": {},
   "outputs": [
    {
     "data": {
      "text/html": [
       "<html><script type=\"math/tex; mode=display\">\\newcommand{\\Bold}[1]{\\mathbf{#1}}\\left[\\left[1, 1, 1, 1\\right], \\left[1, 1, 1, -1\\right], \\left[1, 1, -1, 1\\right], \\left[1, 1, -1, -1\\right], \\left[1, -1, 1, 1\\right], \\left[1, -1, 1, -1\\right], \\left[1, -1, -1, 1\\right], \\left[1, -1, -1, -1\\right], \\left[-1, 1, 1, 1\\right], \\left[-1, 1, 1, -1\\right], \\left[-1, 1, -1, 1\\right], \\left[-1, 1, -1, -1\\right], \\left[-1, -1, 1, 1\\right], \\left[-1, -1, 1, -1\\right], \\left[-1, -1, -1, 1\\right], \\left[-1, -1, -1, -1\\right]\\right]</script></html>"
      ],
      "text/latex": [
       "$$\\newcommand{\\Bold}[1]{\\mathbf{#1}}\\left[\\left[1, 1, 1, 1\\right], \\left[1, 1, 1, -1\\right], \\left[1, 1, -1, 1\\right], \\left[1, 1, -1, -1\\right], \\left[1, -1, 1, 1\\right], \\left[1, -1, 1, -1\\right], \\left[1, -1, -1, 1\\right], \\left[1, -1, -1, -1\\right], \\left[-1, 1, 1, 1\\right], \\left[-1, 1, 1, -1\\right], \\left[-1, 1, -1, 1\\right], \\left[-1, 1, -1, -1\\right], \\left[-1, -1, 1, 1\\right], \\left[-1, -1, 1, -1\\right], \\left[-1, -1, -1, 1\\right], \\left[-1, -1, -1, -1\\right]\\right]$$"
      ],
      "text/plain": [
       "[[1, 1, 1, 1],\n",
       " [1, 1, 1, -1],\n",
       " [1, 1, -1, 1],\n",
       " [1, 1, -1, -1],\n",
       " [1, -1, 1, 1],\n",
       " [1, -1, 1, -1],\n",
       " [1, -1, -1, 1],\n",
       " [1, -1, -1, -1],\n",
       " [-1, 1, 1, 1],\n",
       " [-1, 1, 1, -1],\n",
       " [-1, 1, -1, 1],\n",
       " [-1, 1, -1, -1],\n",
       " [-1, -1, 1, 1],\n",
       " [-1, -1, 1, -1],\n",
       " [-1, -1, -1, 1],\n",
       " [-1, -1, -1, -1]]"
      ]
     },
     "execution_count": 208,
     "metadata": {},
     "output_type": "execute_result"
    }
   ],
   "source": [
    "pP4d = list(pP4ds.with_num_boxes(2))\n",
    "l = len(pP4d)\n",
    "a = [([0]*(2^(l-1-i))+[1]*(2^(l-1-i)))*2^i for i in range(l)]\n",
    "signs = [[(-1)^a[i][j] for i in range(len(pP4d))] for j in range(2^l)]\n",
    "signs"
   ]
  },
  {
   "cell_type": "code",
   "execution_count": 229,
   "metadata": {},
   "outputs": [
    {
     "data": {
      "text/html": [
       "<html><script type=\"math/tex; mode=display\">\\newcommand{\\Bold}[1]{\\mathbf{#1}}-\\frac{13 \\, {\\left(2 \\, t_{1} + 2 \\, t_{2} + t_{3}\\right)} {\\left(2 \\, t_{1} + t_{2} + 2 \\, t_{3}\\right)} {\\left(t_{1} + 2 \\, t_{2} + 2 \\, t_{3}\\right)} {\\left(t_{1} + t_{2}\\right)} {\\left(t_{1} + t_{3}\\right)} {\\left(t_{2} + t_{3}\\right)}}{12 \\, {\\left(2 \\, t_{1} + t_{2} + t_{3}\\right)} {\\left(t_{1} + 2 \\, t_{2} + t_{3}\\right)} {\\left(t_{1} + t_{2} + 2 \\, t_{3}\\right)} t_{1} t_{2} t_{3}}</script></html>"
      ],
      "text/latex": [
       "$$\\newcommand{\\Bold}[1]{\\mathbf{#1}}-\\frac{13 \\, {\\left(2 \\, t_{1} + 2 \\, t_{2} + t_{3}\\right)} {\\left(2 \\, t_{1} + t_{2} + 2 \\, t_{3}\\right)} {\\left(t_{1} + 2 \\, t_{2} + 2 \\, t_{3}\\right)} {\\left(t_{1} + t_{2}\\right)} {\\left(t_{1} + t_{3}\\right)} {\\left(t_{2} + t_{3}\\right)}}{12 \\, {\\left(2 \\, t_{1} + t_{2} + t_{3}\\right)} {\\left(t_{1} + 2 \\, t_{2} + t_{3}\\right)} {\\left(t_{1} + t_{2} + 2 \\, t_{3}\\right)} t_{1} t_{2} t_{3}}$$"
      ],
      "text/plain": [
       "-13/12*(2*t1 + 2*t2 + t3)*(2*t1 + t2 + 2*t3)*(t1 + 2*t2 + 2*t3)*(t1 + t2)*(t1 + t3)*(t2 + t3)/((2*t1 + t2 + t3)*(t1 + 2*t2 + t3)*(t1 + t2 + 2*t3)*t1*t2*t3)"
      ]
     },
     "execution_count": 229,
     "metadata": {},
     "output_type": "execute_result"
    }
   ],
   "source": [
    "verl2 = Vertex4d.Verlinde_with_sign((0,0,0),2,signs[0])(exp(t1*b),exp(t2*b),exp(t3*b),0,0,0)\n",
    "tayl = verl2.taylor(b,0,2)\n",
    "pretty(deg_at_n(tayl,0,b))"
   ]
  },
  {
   "cell_type": "code",
   "execution_count": 237,
   "metadata": {},
   "outputs": [
    {
     "name": "stdout",
     "output_type": "stream",
     "text": [
      "-3/4*(2*t1^3 + 7*t1^2*t2 + 7*t1*t2^2 + 2*t2^3 + 7*t1^2*t3 + 22*t1*t2*t3 + 7*t2^2*t3 + 7*t1*t3^2 + 7*t2*t3^2 + 2*t3^3)*(t1 + t2)*(t1 + t3)*(t2 + t3)/(b*(2*t1 + t2 + t3)*(t1 + 2*t2 + t3)*(t1 + t2 + 2*t3)*(t1 + t2 + t3)*t1*t2*t3)\n",
      "9/4*(2*t1^2 - t1*t2 - t2^2 + 5*t1*t3 - t2*t3 + 2*t3^2)*(t1 + t2)^2*(t1 + t3)*(t2 + t3)^2/(b*(2*t1 + t2 + t3)*(t1 + t2 + 2*t3)*(t1 + t2 + t3)*(t1 - t2)*t1*(t2 - t3)*t2*t3)\n",
      "9/4*(t1^2 + t1*t2 - 2*t2^2 + t1*t3 - 5*t2*t3 - 2*t3^2)*(t1 + t2)^2*(t1 + t3)^2*(t2 + t3)/(b*(t1 + 2*t2 + t3)*(t1 + t2 + 2*t3)*(t1 + t2 + t3)*(t1 - t2)*(t1 - t3)*t1*t2*t3)\n",
      "3/4*(7*t1^2*t2 + 7*t1*t2^2 - t1^2*t3 + 6*t1*t2*t3 - t2^2*t3 - t1*t3^2 - t2*t3^2 + 2*t3^3)*(t1 + t2)*(t1 + t3)*(t2 + t3)/(b*(t1 + t2 + 2*t3)*(t1 + t2 + t3)*(t1 - t3)*t1*(t2 - t3)*t2*t3)\n",
      "-15/4*(t1 + t2)*(t1 + t3)*(t2 + t3)/(b*(t1 + t2 + t3)*t1*t2*t3)\n",
      "-3/4*(t1^2*t2 + t1*t2^2 - 2*t2^3 - 7*t1^2*t3 - 6*t1*t2*t3 + t2^2*t3 - 7*t1*t3^2 + t2*t3^2)*(t1 + t2)*(t1 + t3)*(t2 + t3)/(b*(t1 + 2*t2 + t3)*(t1 + t2 + t3)*(t1 - t2)*t1*(t2 - t3)*t2*t3)\n",
      "-3/4*(2*t1^3 - t1^2*t2 - t1*t2^2 - t1^2*t3 + 6*t1*t2*t3 + 7*t2^2*t3 - t1*t3^2 + 7*t2*t3^2)*(t1 + t2)*(t1 + t3)*(t2 + t3)/(b*(2*t1 + t2 + t3)*(t1 + t2 + t3)*(t1 - t2)*(t1 - t3)*t1*t2*t3)\n",
      "9/4*(2*t1^2 + 5*t1*t2 + 2*t2^2 - t1*t3 - t2*t3 - t3^2)*(t1 + t2)*(t1 + t3)^2*(t2 + t3)^2/(b*(2*t1 + t2 + t3)*(t1 + 2*t2 + t3)*(t1 + t2 + t3)*(t1 - t3)*t1*(t2 - t3)*t2*t3)\n",
      "-9/4*(2*t1^2 + 5*t1*t2 + 2*t2^2 - t1*t3 - t2*t3 - t3^2)*(t1 + t2)*(t1 + t3)^2*(t2 + t3)^2/(b*(2*t1 + t2 + t3)*(t1 + 2*t2 + t3)*(t1 + t2 + t3)*(t1 - t3)*t1*(t2 - t3)*t2*t3)\n",
      "3/4*(2*t1^3 - t1^2*t2 - t1*t2^2 - t1^2*t3 + 6*t1*t2*t3 + 7*t2^2*t3 - t1*t3^2 + 7*t2*t3^2)*(t1 + t2)*(t1 + t3)*(t2 + t3)/(b*(2*t1 + t2 + t3)*(t1 + t2 + t3)*(t1 - t2)*(t1 - t3)*t1*t2*t3)\n",
      "3/4*(t1^2*t2 + t1*t2^2 - 2*t2^3 - 7*t1^2*t3 - 6*t1*t2*t3 + t2^2*t3 - 7*t1*t3^2 + t2*t3^2)*(t1 + t2)*(t1 + t3)*(t2 + t3)/(b*(t1 + 2*t2 + t3)*(t1 + t2 + t3)*(t1 - t2)*t1*(t2 - t3)*t2*t3)\n",
      "15/4*(t1 + t2)*(t1 + t3)*(t2 + t3)/(b*(t1 + t2 + t3)*t1*t2*t3)\n",
      "-3/4*(7*t1^2*t2 + 7*t1*t2^2 - t1^2*t3 + 6*t1*t2*t3 - t2^2*t3 - t1*t3^2 - t2*t3^2 + 2*t3^3)*(t1 + t2)*(t1 + t3)*(t2 + t3)/(b*(t1 + t2 + 2*t3)*(t1 + t2 + t3)*(t1 - t3)*t1*(t2 - t3)*t2*t3)\n",
      "-9/4*(t1^2 + t1*t2 - 2*t2^2 + t1*t3 - 5*t2*t3 - 2*t3^2)*(t1 + t2)^2*(t1 + t3)^2*(t2 + t3)/(b*(t1 + 2*t2 + t3)*(t1 + t2 + 2*t3)*(t1 + t2 + t3)*(t1 - t2)*(t1 - t3)*t1*t2*t3)\n",
      "-9/4*(2*t1^2 - t1*t2 - t2^2 + 5*t1*t3 - t2*t3 + 2*t3^2)*(t1 + t2)^2*(t1 + t3)*(t2 + t3)^2/(b*(2*t1 + t2 + t3)*(t1 + t2 + 2*t3)*(t1 + t2 + t3)*(t1 - t2)*t1*(t2 - t3)*t2*t3)\n",
      "3/4*(2*t1^3 + 7*t1^2*t2 + 7*t1*t2^2 + 2*t2^3 + 7*t1^2*t3 + 22*t1*t2*t3 + 7*t2^2*t3 + 7*t1*t3^2 + 7*t2*t3^2 + 2*t3^3)*(t1 + t2)*(t1 + t3)*(t2 + t3)/(b*(2*t1 + t2 + t3)*(t1 + 2*t2 + t3)*(t1 + t2 + 2*t3)*(t1 + t2 + t3)*t1*t2*t3)\n"
     ]
    }
   ],
   "source": [
    "def v2(n):\n",
    "    return (Vertex4d.Verlinde_with_sign((0,0,0),2,signs[n])(exp(t1*b),exp(t2*b),exp(t3*b),0,0,0)).taylor(b,0,2)\n",
    "\n",
    "for i in range(len(signs)):\n",
    "    print(pretty(deg_at_n(v2(i),-1,b)))"
   ]
  },
  {
   "cell_type": "markdown",
   "metadata": {},
   "source": [
    "We see the best result we can get is with the \"canonical\" signs."
   ]
  }
 ],
 "metadata": {
  "kernelspec": {
   "display_name": "SageMath 9.3",
   "language": "sage",
   "name": "sagemath"
  },
  "language_info": {
   "codemirror_mode": {
    "name": "ipython",
    "version": 3
   },
   "file_extension": ".py",
   "mimetype": "text/x-python",
   "name": "python",
   "nbconvert_exporter": "python",
   "pygments_lexer": "ipython3",
   "version": "3.7.10"
  }
 },
 "nbformat": 4,
 "nbformat_minor": 4
}
