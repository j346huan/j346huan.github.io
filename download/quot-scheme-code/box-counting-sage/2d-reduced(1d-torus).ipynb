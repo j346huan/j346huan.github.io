{
 "cells": [
  {
   "cell_type": "code",
   "execution_count": 15,
   "metadata": {},
   "outputs": [],
   "source": [
    "reset()\n",
    "%display latex\n",
    "Partitions.options.latex=\"list\"\n",
    "load(\"setup.sage\")\n",
    "load(\"vertex_2d.sage\")\n",
    "\n",
    "rank=3\n",
    "\n",
    "\n",
    "\n",
    "\n",
    "KT_vars = ['x','y']\n",
    "KT_ring = LaurentPolynomialRing(QQ, KT_vars)\n",
    "\n",
    "coho_vars = ['t','m']\n",
    "coho_ring = LaurentPolynomialRing(QQ, coho_vars)\n",
    "\n",
    "x,y=KT_ring.gens()\n",
    "t,m = coho_ring.gens()\n",
    "b=var('b')\n",
    "w=SR.var('w',rank)\n",
    "v=SR.var('v',rank)\n",
    "\n",
    "\n",
    "def character(p,x=x,y=y):\n",
    "    return sum(y**(-i) * x**(-j) for i, j in p.cells())\n",
    "\n",
    "def character_vb(p, w,x=x,y=y):\n",
    "    Q = character(p,x,y)\n",
    "    return sum(Q * x^(w[2*i]) * y^(w[2*i+1]) for i in range(len(w)/2))\n",
    "\n",
    "\n",
    "def tangent(p,x=x,y=y):\n",
    "    total=0\n",
    "    for b1,b2 in p.cells():\n",
    "        arm=p[b1]-b2-1\n",
    "        leg=p.conjugate()[b2]-b1-1\n",
    "        total+=y^(-leg)*x^(arm+1)+y^(leg+1)*x^(-arm)\n",
    "    return total\n",
    "\n",
    "def canonical_bundle(p,x=x,y=y):\n",
    "    return character_vb(p, (-1,-1),x,y)\n",
    "\n",
    "def canonical_bundle_red(p,x=x,y=y):\n",
    "    return character_vb(p, (-1,-1),x,y)-1\n",
    "\n",
    "def determinant(f):\n",
    "    if f in ZZ:\n",
    "        return 1\n",
    "    else:\n",
    "        return prod((mon)^coeff for coeff, mon in f)\n",
    "\n",
    "def from_monomial(m):\n",
    "    return sum(m.degree(KT_ring.gen(i)) * coho_ring.gen(i) for i in range(len(coho_ring.gens())))\n",
    "\n",
    "def from_character(f):\n",
    "    numer, denom = [], []\n",
    "\n",
    "    for coeff, mon in list(f):\n",
    "        wt = from_monomial(mon)\n",
    "        if coeff > 0:\n",
    "            numer += (coeff) * [wt]\n",
    "        elif coeff < 0:\n",
    "            denom += (-coeff) * [wt]\n",
    "    return numer, denom\n",
    "\n",
    "def top_chern(f):\n",
    "    numer, denom = [], []\n",
    "    for coeff, mon in list(f):\n",
    "        wt = from_monomial(mon)\n",
    "        #if wt==0:\n",
    "            #continue\n",
    "        if coeff > 0:\n",
    "            numer += (coeff) * [wt]\n",
    "        elif coeff < 0:\n",
    "            denom += (-coeff) * [wt]\n",
    "    \n",
    "    return coho_ring.fraction_field()(prod(numer) / prod(denom))\n",
    "\n",
    "def total_chern(f):\n",
    "    numer, denom = from_character(f)\n",
    "    new_numer=[i+1 for i in numer]\n",
    "    new_denom=[i+1 for i in denom]\n",
    "    return coho_ring.fraction_field()(prod(new_numer+[1]) / (prod(new_denom)))\n",
    "\n",
    "def chern_class(k, f):\n",
    "    roots = sum((c*[from_monomial(w)] for c, w in f), [])\n",
    "    return sum(prod(S) for S in itertools.combinations(roots, k))\n",
    "\n",
    "def Nek(f, check=False):\n",
    "    R = f.parent()\n",
    "    numer, denom = R.one(), R.one()\n",
    "    for exp, coeff in f.dict().items():\n",
    "        if exp.is_constant():\n",
    "            term = R.zero()\n",
    "        else:\n",
    "            term = R({exp: 1, exp.emul(0): -1})\n",
    "        if coeff > 0:\n",
    "            numer *= term ** (coeff)\n",
    "        elif coeff < 0:\n",
    "            denom *= term ** (-coeff)\n",
    "    return R.fraction_field()(numer) / denom\n",
    "\n",
    "def dual(f, check=False):\n",
    "    R = f.parent()\n",
    "    g=R.zero()\n",
    "    for exp, coeff in f.dict().items():\n",
    "        g+= R({exp.emul(-1): coeff})\n",
    "    return g\n",
    "\n",
    "def highest_degree_y(f):\n",
    "    R = f.parent()\n",
    "    max_deg=0\n",
    "    for exp, coeff in f.dict().items():\n",
    "        if exp[1]>max_deg:\n",
    "            max_deg = exp[1]\n",
    "    term=R.zero()\n",
    "    for exp, coeff in f.dict().items():\n",
    "        if exp[1]==max_deg:\n",
    "            term+=R({exp:coeff})\n",
    "    return term\n",
    "\n",
    "def lowest_degree_y(f):\n",
    "    R = f.parent()\n",
    "    min_deg=0\n",
    "    for exp, coeff in f.dict().items():\n",
    "        if exp[4]<min_deg:\n",
    "            min_deg = exp[4]\n",
    "    term=R.zero()\n",
    "    for exp, coeff in f.dict().items():\n",
    "        if exp[4]==min_deg:\n",
    "            term+=R({exp:coeff})\n",
    "    return term\n",
    "    \n",
    "\n",
    "def top_chern_vb(p):\n",
    "    Q = character(p,x,y=1/x)\n",
    "    roots = []\n",
    "    for coeff, mon in list(Q):\n",
    "        wt = from_monomial(mon)\n",
    "        \n",
    "        for i in range(rank):\n",
    "            roots += (coeff) * [wt+w[i]*t]\n",
    "    total = prod((1+r) for r in roots)\n",
    "    return total\n",
    "\n",
    "def total_segre_vb(p):\n",
    "    Q = character(p,x,y=1/x)\n",
    "    roots = []\n",
    "    for coeff, mon in list(Q):\n",
    "        wt = from_monomial(mon)\n",
    "        for i in range(rank):\n",
    "            roots += (coeff) * [wt+w[i]*t]\n",
    "    total = prod(1/(1+r) for r in roots)\n",
    "    return total\n",
    "    \n",
    "def determinant_vb(p,n):\n",
    "    Q = character(p,x,y=1/x)\n",
    "    det = (determinant(Q)^rank)*((SR(x)^(sum(w[i] for i in range(rank))))^n)\n",
    "    return det(x=exp(t*b))\n",
    "    \n",
    "def Chern_Num(n):\n",
    "    total=0\n",
    "    for p in Partitions(n):\n",
    "        add=(top_chern(-tangent(p,x,1/x))*top_chern_vb(p)*top_chern(dual(canonical_bundle_red(p,x,1/x))))(t=t*b)\n",
    "        total+=add\n",
    "    return total\n",
    "\n",
    "\n",
    "def Segre_Num(n):\n",
    "    total=0\n",
    "    for p in Partitions(n):\n",
    "        add=(top_chern(-tangent(p,x,1/x))*total_segre_vb(p)*top_chern(dual(canonical_bundle_red(p,x,1/x))))(t=t*b)\n",
    "        total+=add\n",
    "    return total\n",
    "\n",
    "def Verlinde_Num(n):\n",
    "    total=0\n",
    "    for p in Partitions(n):\n",
    "        add=(KTheory.measure_unsymmetrized(tangent(p,x,1/x))(x=exp(t*b))*\\\n",
    "            determinant_vb(p,n)*\\\n",
    "            KTheory.measure_unsymmetrized(-canonical_bundle_red(p,x,1/x),inv=False)(x=exp(t*b))).taylor(b,0,4)\n",
    "        total+=add\n",
    "    return total\n",
    "\n",
    "def DT_Num(n):\n",
    "    total=0\n",
    "    for p in Partitions(n):\n",
    "        add=(top_chern(-tangent(p,x,1/x))*top_chern(dual(canonical_bundle_red(p,x,1/x))))(t=t*b)\n",
    "        total+=add\n",
    "    return total\n",
    "\n",
    "def Verlinde_Num_inv(n):\n",
    "    total=0\n",
    "    for p in Partitions(n):\n",
    "        add=(KTheory.measure_unsymmetrized(tangent(p,x,1/x))(x=exp(t*b))*\\\n",
    "            (1/determinant_vb(p,n))*\\\n",
    "            KTheory.measure_unsymmetrized(-canonical_bundle_red(p,x,1/x),inv=False)(x=exp(t*b))).taylor(b,0,4)\n",
    "        total+=add\n",
    "    return total\n",
    "        \n",
    "\n",
    "def degn(f,n):\n",
    "    g=f.taylor(b,0,n)\n",
    "    L=g.coefficients(b)\n",
    "    if L[len(L)-1][1]!=n:\n",
    "        return 0\n",
    "    return L[len(L)-1][0]\n",
    "\n",
    "\n",
    "\n",
    "def total_segre_vb_2d(p):\n",
    "    Q = character(p,x,y)\n",
    "    roots = []\n",
    "    for coeff, mon in list(Q):\n",
    "        wt = from_monomial(mon)\n",
    "        for i in range(rank):\n",
    "            roots += (coeff) * [wt+w[i]*t+v[i]*m]\n",
    "    total = prod(1/(1+r) for r in roots)\n",
    "    return total\n",
    "\n",
    "def Segre_Num_2d(n):\n",
    "    total=0\n",
    "    for p in Partitions(n):\n",
    "        add=(top_chern(-tangent(p))*total_segre_vb_2d(p)*top_chern(dual(canonical_bundle(p,x,y))))(t=t*b,m=m*b)\n",
    "        total+=add\n",
    "    return total\n",
    "\n",
    "def determinant_vb_2d(p,n):\n",
    "    Q = character(p,x,y)\n",
    "    det = (determinant(Q)^rank)*((SR(x)^(sum(w[i] for i in range(rank)))*(SR(y)^(sum(v[i] for i in range(rank)))))^n)\n",
    "    return det(x=exp(t*b),y=exp(m*b))\n",
    "\n",
    "def Verlinde_Num_2d(n):\n",
    "    total=0\n",
    "    for p in Partitions(n):\n",
    "        add=(KTheory.measure_unsymmetrized(tangent(p))(x=exp(t*b),y=exp(m*b))*\\\n",
    "            determinant_vb_2d(p,n)*\\\n",
    "            KTheory.measure_unsymmetrized(-canonical_bundle(p,x,y),inv=False)(x=exp(t*b),y=exp(m*b))).taylor(b,0,4)\n",
    "        total+=add\n",
    "    return total\n",
    "\n",
    "def DT_Num_2d(n):\n",
    "    total=0\n",
    "    for p in Partitions(n):\n",
    "        add=(top_chern(-tangent(p))*top_chern(dual(canonical_bundle(p,x,y))))(t=t*b,m=m*b)\n",
    "        total+=add\n",
    "    return total\n",
    "\n",
    "def top_chern_vb_2d(p):\n",
    "    Q = character(p,x,y)\n",
    "    roots = []\n",
    "    for coeff, mon in list(Q):\n",
    "        wt = from_monomial(mon)\n",
    "        for i in range(rank):\n",
    "            roots += (coeff) * [wt+w[i]*t+v[i]*m]\n",
    "    total = prod(r for r in roots)\n",
    "    return total\n",
    "\n",
    "def Chern_Num_2d(n):\n",
    "    total=0\n",
    "    for p in Partitions(n):\n",
    "        add=(top_chern(-tangent(p))*top_chern_vb_2d(p)*top_chern(dual(canonical_bundle(p,x,y))))\n",
    "        total+=add\n",
    "    return total\n",
    "\n",
    "def character_vb_rank_2(p,x=x,y=y):\n",
    "    Q = character(p,x,y)\n",
    "    return Q * (exp(w[0])+exp(v[0]))\n",
    "\n",
    "def measure_z_vb(p):\n",
    "    f = character_vb_rank_2(p,x,y)\n",
    "    L = f.expand().operands()\n",
    "    total=1\n",
    "    for monomial in L:\n",
    "        term = 1 - monomial*z\n",
    "        total*=term\n",
    "    return total\n",
    "\n",
    "def Master_Partition_rank_2(n):\n",
    "    total=0\n",
    "    for p in Partitions(n):\n",
    "        add=determinant(dual(character_vb(p,(0,0),x,y)))*\\\n",
    "            measure_unsymmetrized(tangent(p))*\\\n",
    "            measure_z_vb(p)\n",
    "        total+=add\n",
    "    return (-1)^n*total"
   ]
  },
  {
   "cell_type": "code",
   "execution_count": 549,
   "metadata": {},
   "outputs": [
    {
     "data": {
      "text/html": [
       "<html><script type=\"math/tex; mode=display\">\\newcommand{\\Bold}[1]{\\mathbf{#1}}-\\frac{v_{0}^{2} w_{0} z + v_{0} w_{0}^{2} z + v_{0}^{2} z + 4 \\, v_{0} w_{0} z + w_{0}^{2} z - 2 \\, v_{0} w_{0} + 4 \\, v_{0} z + 4 \\, w_{0} z - 2 \\, v_{0} - 2 \\, w_{0} + 4 \\, z - 2}{2 \\, t^{2}}</script></html>"
      ],
      "text/latex": [
       "$$\\newcommand{\\Bold}[1]{\\mathbf{#1}}-\\frac{v_{0}^{2} w_{0} z + v_{0} w_{0}^{2} z + v_{0}^{2} z + 4 \\, v_{0} w_{0} z + w_{0}^{2} z - 2 \\, v_{0} w_{0} + 4 \\, v_{0} z + 4 \\, w_{0} z - 2 \\, v_{0} - 2 \\, w_{0} + 4 \\, z - 2}{2 \\, t^{2}}$$"
      ],
      "text/plain": [
       "-1/2*(v0^2*w0*z + v0*w0^2*z + v0^2*z + 4*v0*w0*z + w0^2*z - 2*v0*w0 + 4*v0*z + 4*w0*z - 2*v0 - 2*w0 + 4*z - 2)/t^2"
      ]
     },
     "execution_count": 549,
     "metadata": {},
     "output_type": "execute_result"
    }
   ],
   "source": [
    "pretty(pretty(Master_Partition_rank_2(1))(z=1/(1+z))(x=exp(-t*z),y=exp(-m*z),v0=-v[0]*z,w0=-w[0]*z).taylor(z,0,1))(m=-t)"
   ]
  },
  {
   "cell_type": "code",
   "execution_count": 543,
   "metadata": {},
   "outputs": [
    {
     "data": {
      "text/html": [
       "<html><script type=\"math/tex; mode=display\">\\newcommand{\\Bold}[1]{\\mathbf{#1}}-w_{0}^{2} - w_{0} w_{1} - w_{1}^{2}</script></html>"
      ],
      "text/latex": [
       "$$\\newcommand{\\Bold}[1]{\\mathbf{#1}}-w_{0}^{2} - w_{0} w_{1} - w_{1}^{2}$$"
      ],
      "text/plain": [
       "-w0^2 - w0*w1 - w1^2"
      ]
     },
     "execution_count": 543,
     "metadata": {},
     "output_type": "execute_result"
    }
   ],
   "source": [
    "degn(Segre_Num(1),0)"
   ]
  },
  {
   "cell_type": "code",
   "execution_count": 3,
   "metadata": {},
   "outputs": [
    {
     "data": {
      "text/html": [
       "<html><script type=\"math/tex; mode=display\">\\newcommand{\\Bold}[1]{\\mathbf{#1}}-\\frac{w_{0} + w_{1}}{t}</script></html>"
      ],
      "text/latex": [
       "$$\\newcommand{\\Bold}[1]{\\mathbf{#1}}-\\frac{w_{0} + w_{1}}{t}$$"
      ],
      "text/plain": [
       "-(w0 + w1)/t"
      ]
     },
     "execution_count": 3,
     "metadata": {},
     "output_type": "execute_result"
    }
   ],
   "source": [
    "degn(Chern_Num(1),-1)"
   ]
  },
  {
   "cell_type": "markdown",
   "metadata": {},
   "source": [
    "We try to get the Verlinde-Segre correspondence for $\\mathbb{C}^2$."
   ]
  },
  {
   "cell_type": "markdown",
   "metadata": {},
   "source": [
    "Over $\\mathbb{C}^2$, the equivariant cohomology ring is $\\mathbb{Z}[t_1,t_2]/(t_1+t_2)=\\mathbb{Z}[t]$. The equivariant K-theory ring is $\\mathbb{Z}[x^{\\pm1}]$. The Zariski tangent space at $Z_\\pi$ is\n",
    "$$Q+\\bar Q-Q\\bar Q(1-x)(1-1/x) $$\n",
    "where $Q$ is the character of partition $\\pi$."
   ]
  },
  {
   "cell_type": "markdown",
   "metadata": {},
   "source": [
    "The virtual Segre number is \n",
    "$$\\int_{[S^{[n]}]^{\\text{vir}}} s(\\alpha^{[n]})=\\sum_{|\\pi|=n}e(-T|_Z)s(\\alpha^{[n]}|_Z)c_{\\text{top}}(K_S^{[n]}|_Z) $$"
   ]
  },
  {
   "cell_type": "markdown",
   "metadata": {},
   "source": [
    "The Verlinde number is \n",
    "$$V_n(\\alpha)= \\chi(\\det (\\alpha^{[n]}))=\\int_{[S^{[n]}]^{\\text{vir}}}\\text{td}(T^{\\text{vir}})\\text{ch}\\left( \\det (\\alpha^{[n]})\\right)$$\n",
    "$$=\\sum_{|\\pi|=n}e(-T^{\\text{vir}}|_Z)\\text{td}(T^{\\text{vir}}|_Z)\\text{ch}\\left( \\det (\\alpha^{[n]})|_Z\\right)$$\n",
    "$$=\\sum_{|\\pi|=n}\\frac{\\text{ch}(\\wedge K^{[n]}_S|_Z)}{\\text{ch}(\\wedge T^\\vee|_Z)}\\text{ch}\\left( \\det (\\alpha^{[n]})|_Z\\right) $$\n",
    "where ${\\text{ch}(\\wedge x^\\vee)}=1/(1-e^{-x})$"
   ]
  },
  {
   "cell_type": "markdown",
   "metadata": {},
   "source": [
    "Since on $\\mathbb{C}^2$, $K_S$ is trivial with no weight from the 1-d torus action, we know $K^{[n]}$ has non-trivial fixed parts, so the above invariaints are 0 (in degree 0 of $H^*_{\\mathbb{C}^*}(\\text{pt})$). Instead we take the \"reduced\" obstruction bundle:\n",
    "$$ K^{[n]}_S-\\mathcal{O}_{S^{[n]}}$$\n",
    "Now we have in degree 0 they agree for $n=1,2,3$. When $n>3$, the fixed part of $K^{[n]}$ has dimension at least 2 at some boxes, but the equality continue to hold."
   ]
  },
  {
   "cell_type": "markdown",
   "metadata": {},
   "source": [
    "The degree $-1$ term for Segre is $-(w\\ /\\ nt)$:"
   ]
  },
  {
   "cell_type": "code",
   "execution_count": 524,
   "metadata": {},
   "outputs": [
    {
     "data": {
      "text/html": [
       "<html><script type=\"math/tex; mode=display\">\\newcommand{\\Bold}[1]{\\mathbf{#1}}-w_{0} w_{1}</script></html>"
      ],
      "text/latex": [
       "$$\\newcommand{\\Bold}[1]{\\mathbf{#1}}-w_{0} w_{1}$$"
      ],
      "text/plain": [
       "-w0*w1"
      ]
     },
     "execution_count": 524,
     "metadata": {},
     "output_type": "execute_result"
    }
   ],
   "source": [
    "pretty(degn(Chern_Num(1),0))"
   ]
  },
  {
   "cell_type": "code",
   "execution_count": 526,
   "metadata": {},
   "outputs": [
    {
     "data": {
      "text/html": [
       "<html><script type=\"math/tex; mode=display\">\\newcommand{\\Bold}[1]{\\mathbf{#1}}\\frac{{\\left(m v_{0} + t w_{0}\\right)} {\\left(m v_{1} + t w_{1}\\right)} {\\left(m + t\\right)}}{m t}</script></html>"
      ],
      "text/latex": [
       "$$\\newcommand{\\Bold}[1]{\\mathbf{#1}}\\frac{{\\left(m v_{0} + t w_{0}\\right)} {\\left(m v_{1} + t w_{1}\\right)} {\\left(m + t\\right)}}{m t}$$"
      ],
      "text/plain": [
       "(m*v0 + t*w0)*(m*v1 + t*w1)*(m + t)/(m*t)"
      ]
     },
     "execution_count": 526,
     "metadata": {},
     "output_type": "execute_result"
    }
   ],
   "source": [
    "pretty(degn(Chern_Num_2d(1),0))"
   ]
  },
  {
   "cell_type": "code",
   "execution_count": 503,
   "metadata": {},
   "outputs": [
    {
     "data": {
      "text/html": [
       "<html><script type=\"math/tex; mode=display\">\\newcommand{\\Bold}[1]{\\mathbf{#1}}-231 \\, w_{0}^{2} - 154</script></html>"
      ],
      "text/latex": [
       "$$\\newcommand{\\Bold}[1]{\\mathbf{#1}}-231 \\, w_{0}^{2} - 154$$"
      ],
      "text/plain": [
       "-231*w0^2 - 154"
      ]
     },
     "execution_count": 503,
     "metadata": {},
     "output_type": "execute_result"
    }
   ],
   "source": [
    "pretty(degn(Verlinde_Num(6),0))"
   ]
  },
  {
   "cell_type": "code",
   "execution_count": 447,
   "metadata": {},
   "outputs": [
    {
     "data": {
      "text/html": [
       "<html><script type=\"math/tex; mode=display\">\\newcommand{\\Bold}[1]{\\mathbf{#1}}-24 \\, w_{0}^{2} - 36 \\, w_{0} w_{1} - 24 \\, w_{1}^{2} - 22</script></html>"
      ],
      "text/latex": [
       "$$\\newcommand{\\Bold}[1]{\\mathbf{#1}}-24 \\, w_{0}^{2} - 36 \\, w_{0} w_{1} - 24 \\, w_{1}^{2} - 22$$"
      ],
      "text/plain": [
       "-24*w0^2 - 36*w0*w1 - 24*w1^2 - 22"
      ]
     },
     "execution_count": 447,
     "metadata": {},
     "output_type": "execute_result"
    }
   ],
   "source": [
    "pretty(degn(Segre_Num(3),0))"
   ]
  },
  {
   "cell_type": "code",
   "execution_count": 5,
   "metadata": {},
   "outputs": [
    {
     "data": {
      "text/html": [
       "<html><script type=\"math/tex; mode=display\">\\newcommand{\\Bold}[1]{\\mathbf{#1}}-5 \\, w_{0}^{2} - 10 \\, w_{0} w_{1} - 5 \\, w_{1}^{2} - \\frac{5}{6}</script></html>"
      ],
      "text/latex": [
       "$$\\newcommand{\\Bold}[1]{\\mathbf{#1}}-5 \\, w_{0}^{2} - 10 \\, w_{0} w_{1} - 5 \\, w_{1}^{2} - \\frac{5}{6}$$"
      ],
      "text/plain": [
       "-5*w0^2 - 10*w0*w1 - 5*w1^2 - 5/6"
      ]
     },
     "execution_count": 5,
     "metadata": {},
     "output_type": "execute_result"
    }
   ],
   "source": [
    "pretty(degn(Verlinde_Num_inv(3),0))"
   ]
  },
  {
   "cell_type": "markdown",
   "metadata": {},
   "source": [
    "The Verlinde number is $(-1)^{n+1}(w\\ /\\ nt)$:"
   ]
  },
  {
   "cell_type": "code",
   "execution_count": 153,
   "metadata": {},
   "outputs": [
    {
     "data": {
      "text/html": [
       "<html><script type=\"math/tex; mode=display\">\\newcommand{\\Bold}[1]{\\mathbf{#1}}-\\frac{5 \\, {\\left(w_{0} + w_{1} + w_{2}\\right)}}{2 \\, t}</script></html>"
      ],
      "text/latex": [
       "$$\\newcommand{\\Bold}[1]{\\mathbf{#1}}-\\frac{5 \\, {\\left(w_{0} + w_{1} + w_{2}\\right)}}{2 \\, t}$$"
      ],
      "text/plain": [
       "-5/2*(w0 + w1 + w2)/t"
      ]
     },
     "execution_count": 153,
     "metadata": {},
     "output_type": "execute_result"
    }
   ],
   "source": [
    "pretty(degn(Verlinde_Num_inv(2),-1))"
   ]
  },
  {
   "cell_type": "markdown",
   "metadata": {},
   "source": [
    "and we indeed have correspondence. Following is segre when $rank>1$:"
   ]
  },
  {
   "cell_type": "code",
   "execution_count": 152,
   "metadata": {},
   "outputs": [
    {
     "data": {
      "text/html": [
       "<html><script type=\"math/tex; mode=display\">\\newcommand{\\Bold}[1]{\\mathbf{#1}}\\frac{55 \\, {\\left(w_{0} + w_{1} + w_{2}\\right)}}{3 \\, t}</script></html>"
      ],
      "text/latex": [
       "$$\\newcommand{\\Bold}[1]{\\mathbf{#1}}\\frac{55 \\, {\\left(w_{0} + w_{1} + w_{2}\\right)}}{3 \\, t}$$"
      ],
      "text/plain": [
       "55/3*(w0 + w1 + w2)/t"
      ]
     },
     "execution_count": 152,
     "metadata": {},
     "output_type": "execute_result"
    }
   ],
   "source": [
    "pretty(degn(Segre_Num(3),-1))"
   ]
  },
  {
   "cell_type": "code",
   "execution_count": 157,
   "metadata": {},
   "outputs": [
    {
     "data": {
      "text/html": [
       "<html><script type=\"math/tex; mode=display\">\\newcommand{\\Bold}[1]{\\mathbf{#1}}-\\frac{55 \\, {\\left(w_{0} + w_{1} + w_{2}\\right)}}{3 \\, t}</script></html>"
      ],
      "text/latex": [
       "$$\\newcommand{\\Bold}[1]{\\mathbf{#1}}-\\frac{55 \\, {\\left(w_{0} + w_{1} + w_{2}\\right)}}{3 \\, t}$$"
      ],
      "text/plain": [
       "-55/3*(w0 + w1 + w2)/t"
      ]
     },
     "execution_count": 157,
     "metadata": {},
     "output_type": "execute_result"
    }
   ],
   "source": [
    "pretty(degn(Verlinde_Num(3),-1))"
   ]
  },
  {
   "cell_type": "markdown",
   "metadata": {},
   "source": [
    "Back to rank $1$, then the segre number $1/(1+x)$ is an infinite power series that has terms in other degrees."
   ]
  },
  {
   "cell_type": "code",
   "execution_count": 101,
   "metadata": {},
   "outputs": [
    {
     "data": {
      "text/html": [
       "<html><script type=\"math/tex; mode=display\">\\newcommand{\\Bold}[1]{\\mathbf{#1}}\\frac{1}{2 \\, t^{2}}</script></html>"
      ],
      "text/latex": [
       "$$\\newcommand{\\Bold}[1]{\\mathbf{#1}}\\frac{1}{2 \\, t^{2}}$$"
      ],
      "text/plain": [
       "1/2/t^2"
      ]
     },
     "execution_count": 101,
     "metadata": {},
     "output_type": "execute_result"
    }
   ],
   "source": [
    "pretty(degn(Segre_Num(2),-2))"
   ]
  },
  {
   "cell_type": "code",
   "execution_count": 353,
   "metadata": {},
   "outputs": [
    {
     "data": {
      "text/html": [
       "<html><script type=\"math/tex; mode=display\">\\newcommand{\\Bold}[1]{\\mathbf{#1}}-\\frac{5}{4 \\, t^{2}}</script></html>"
      ],
      "text/latex": [
       "$$\\newcommand{\\Bold}[1]{\\mathbf{#1}}-\\frac{5}{4 \\, t^{2}}$$"
      ],
      "text/plain": [
       "-5/4/t^2"
      ]
     },
     "execution_count": 353,
     "metadata": {},
     "output_type": "execute_result"
    }
   ],
   "source": [
    "pretty(degn(Verlinde_Num(2),-2))"
   ]
  },
  {
   "cell_type": "markdown",
   "metadata": {},
   "source": [
    "In degree $-2$, the difference (quotient) is\n",
    "$$\\frac{V_n}{S_n}=(-1)^{n+1} \\frac{(2n-1)}{n}$$"
   ]
  },
  {
   "cell_type": "markdown",
   "metadata": {},
   "source": [
    "Below degree $-2$, everything vanishes, which might be non-trivial, perhaps due to $K^{[n]}$ containing trivial summand for partitions that contain the cell $(1,1)$, which makes the partitions that count very symmetrical."
   ]
  },
  {
   "cell_type": "markdown",
   "metadata": {},
   "source": [
    "In degree $0$, the invariants are always polynomials in $w^2$:\n",
    "$$[w^2]S_n=(-1)^{n+1}\\cdot2\\cdot [w^2]V_{n} $$\n",
    "$$\\frac{[w^2]S_n}{[w^0]S_n} = \\frac{[w^2]V_{n+1}}{[w^0]V_{n+1}}, \\text{ for $n\\geq 2$ (otherwise division by 0)} $$"
   ]
  },
  {
   "cell_type": "code",
   "execution_count": 13,
   "metadata": {},
   "outputs": [
    {
     "data": {
      "text/html": [
       "<html><script type=\"math/tex; mode=display\">\\newcommand{\\Bold}[1]{\\mathbf{#1}}-5 \\, w_{0}^{2} - \\frac{5}{6}</script></html>"
      ],
      "text/latex": [
       "$$\\newcommand{\\Bold}[1]{\\mathbf{#1}}-5 \\, w_{0}^{2} - \\frac{5}{6}$$"
      ],
      "text/plain": [
       "-5*w0^2 - 5/6"
      ]
     },
     "execution_count": 13,
     "metadata": {},
     "output_type": "execute_result"
    }
   ],
   "source": [
    "pretty(degn(Verlinde_Num(3),0))"
   ]
  },
  {
   "cell_type": "code",
   "execution_count": 14,
   "metadata": {},
   "outputs": [
    {
     "data": {
      "text/html": [
       "<html><script type=\"math/tex; mode=display\">\\newcommand{\\Bold}[1]{\\mathbf{#1}}-10 \\, w_{0}^{2} - \\frac{10}{3}</script></html>"
      ],
      "text/latex": [
       "$$\\newcommand{\\Bold}[1]{\\mathbf{#1}}-10 \\, w_{0}^{2} - \\frac{10}{3}$$"
      ],
      "text/plain": [
       "-10*w0^2 - 10/3"
      ]
     },
     "execution_count": 14,
     "metadata": {},
     "output_type": "execute_result"
    }
   ],
   "source": [
    "pretty(degn(Segre_Num(3),0))"
   ]
  },
  {
   "cell_type": "code",
   "execution_count": 384,
   "metadata": {},
   "outputs": [
    {
     "data": {
      "text/html": [
       "<html><script type=\"math/tex; mode=display\">\\newcommand{\\Bold}[1]{\\mathbf{#1}}-w_{0}^{2} - w_{0} w_{1} - w_{1}^{2} - w_{0} w_{2} - w_{1} w_{2} - w_{2}^{2}</script></html>"
      ],
      "text/latex": [
       "$$\\newcommand{\\Bold}[1]{\\mathbf{#1}}-w_{0}^{2} - w_{0} w_{1} - w_{1}^{2} - w_{0} w_{2} - w_{1} w_{2} - w_{2}^{2}$$"
      ],
      "text/plain": [
       "-w0^2 - w0*w1 - w1^2 - w0*w2 - w1*w2 - w2^2"
      ]
     },
     "execution_count": 384,
     "metadata": {},
     "output_type": "execute_result"
    }
   ],
   "source": [
    "pretty(degn(Segre_Num(1),0))"
   ]
  },
  {
   "cell_type": "code",
   "execution_count": 385,
   "metadata": {},
   "outputs": [
    {
     "data": {
      "text/html": [
       "<html><script type=\"math/tex; mode=display\">\\newcommand{\\Bold}[1]{\\mathbf{#1}}6 \\, w_{0}^{2} + 8 \\, w_{0} w_{1} + 6 \\, w_{1}^{2} + 8 \\, w_{0} w_{2} + 8 \\, w_{1} w_{2} + 6 \\, w_{2}^{2} + 5</script></html>"
      ],
      "text/latex": [
       "$$\\newcommand{\\Bold}[1]{\\mathbf{#1}}6 \\, w_{0}^{2} + 8 \\, w_{0} w_{1} + 6 \\, w_{1}^{2} + 8 \\, w_{0} w_{2} + 8 \\, w_{1} w_{2} + 6 \\, w_{2}^{2} + 5$$"
      ],
      "text/plain": [
       "6*w0^2 + 8*w0*w1 + 6*w1^2 + 8*w0*w2 + 8*w1*w2 + 6*w2^2 + 5"
      ]
     },
     "execution_count": 385,
     "metadata": {},
     "output_type": "execute_result"
    }
   ],
   "source": [
    "pretty(degn(Segre_Num(2),0))"
   ]
  },
  {
   "cell_type": "code",
   "execution_count": 386,
   "metadata": {},
   "outputs": [
    {
     "data": {
      "text/html": [
       "<html><script type=\"math/tex; mode=display\">\\newcommand{\\Bold}[1]{\\mathbf{#1}}-44 \\, w_{0}^{2} - 66 \\, w_{0} w_{1} - 44 \\, w_{1}^{2} - 66 \\, w_{0} w_{2} - 66 \\, w_{1} w_{2} - 44 \\, w_{2}^{2} - 77</script></html>"
      ],
      "text/latex": [
       "$$\\newcommand{\\Bold}[1]{\\mathbf{#1}}-44 \\, w_{0}^{2} - 66 \\, w_{0} w_{1} - 44 \\, w_{1}^{2} - 66 \\, w_{0} w_{2} - 66 \\, w_{1} w_{2} - 44 \\, w_{2}^{2} - 77$$"
      ],
      "text/plain": [
       "-44*w0^2 - 66*w0*w1 - 44*w1^2 - 66*w0*w2 - 66*w1*w2 - 44*w2^2 - 77"
      ]
     },
     "execution_count": 386,
     "metadata": {},
     "output_type": "execute_result"
    }
   ],
   "source": [
    "pretty(degn(Segre_Num(3),0))"
   ]
  },
  {
   "cell_type": "code",
   "execution_count": 387,
   "metadata": {},
   "outputs": [
    {
     "data": {
      "text/html": [
       "<html><script type=\"math/tex; mode=display\">\\newcommand{\\Bold}[1]{\\mathbf{#1}}350 \\, w_{0}^{2} + 560 \\, w_{0} w_{1} + 350 \\, w_{1}^{2} + 560 \\, w_{0} w_{2} + 560 \\, w_{1} w_{2} + 350 \\, w_{2}^{2} + 945</script></html>"
      ],
      "text/latex": [
       "$$\\newcommand{\\Bold}[1]{\\mathbf{#1}}350 \\, w_{0}^{2} + 560 \\, w_{0} w_{1} + 350 \\, w_{1}^{2} + 560 \\, w_{0} w_{2} + 560 \\, w_{1} w_{2} + 350 \\, w_{2}^{2} + 945$$"
      ],
      "text/plain": [
       "350*w0^2 + 560*w0*w1 + 350*w1^2 + 560*w0*w2 + 560*w1*w2 + 350*w2^2 + 945"
      ]
     },
     "execution_count": 387,
     "metadata": {},
     "output_type": "execute_result"
    }
   ],
   "source": [
    "pretty(degn(Segre_Num(4),0))"
   ]
  },
  {
   "cell_type": "code",
   "execution_count": 388,
   "metadata": {},
   "outputs": [
    {
     "data": {
      "text/html": [
       "<html><script type=\"math/tex; mode=display\">\\newcommand{\\Bold}[1]{\\mathbf{#1}}-2907 \\, w_{0}^{2} - 4845 \\, w_{0} w_{1} - 2907 \\, w_{1}^{2} - 4845 \\, w_{0} w_{2} - 4845 \\, w_{1} w_{2} - 2907 \\, w_{2}^{2} - 10659</script></html>"
      ],
      "text/latex": [
       "$$\\newcommand{\\Bold}[1]{\\mathbf{#1}}-2907 \\, w_{0}^{2} - 4845 \\, w_{0} w_{1} - 2907 \\, w_{1}^{2} - 4845 \\, w_{0} w_{2} - 4845 \\, w_{1} w_{2} - 2907 \\, w_{2}^{2} - 10659$$"
      ],
      "text/plain": [
       "-2907*w0^2 - 4845*w0*w1 - 2907*w1^2 - 4845*w0*w2 - 4845*w1*w2 - 2907*w2^2 - 10659"
      ]
     },
     "execution_count": 388,
     "metadata": {},
     "output_type": "execute_result"
    }
   ],
   "source": [
    "pretty(degn(Segre_Num(5),0))"
   ]
  },
  {
   "cell_type": "code",
   "execution_count": 389,
   "metadata": {},
   "outputs": [
    {
     "data": {
      "text/html": [
       "<html><script type=\"math/tex; mode=display\">\\newcommand{\\Bold}[1]{\\mathbf{#1}}24794 \\, w_{0}^{2} + 42504 \\, w_{0} w_{1} + 24794 \\, w_{1}^{2} + 42504 \\, w_{0} w_{2} + 42504 \\, w_{1} w_{2} + 24794 \\, w_{2}^{2} + 115115</script></html>"
      ],
      "text/latex": [
       "$$\\newcommand{\\Bold}[1]{\\mathbf{#1}}24794 \\, w_{0}^{2} + 42504 \\, w_{0} w_{1} + 24794 \\, w_{1}^{2} + 42504 \\, w_{0} w_{2} + 42504 \\, w_{1} w_{2} + 24794 \\, w_{2}^{2} + 115115$$"
      ],
      "text/plain": [
       "24794*w0^2 + 42504*w0*w1 + 24794*w1^2 + 42504*w0*w2 + 42504*w1*w2 + 24794*w2^2 + 115115"
      ]
     },
     "execution_count": 389,
     "metadata": {},
     "output_type": "execute_result"
    }
   ],
   "source": [
    "pretty(degn(Segre_Num(6),0))"
   ]
  },
  {
   "cell_type": "code",
   "execution_count": 358,
   "metadata": {},
   "outputs": [
    {
     "data": {
      "text/html": [
       "<html><script type=\"math/tex; mode=display\">\\newcommand{\\Bold}[1]{\\mathbf{#1}}\\frac{5}{2} \\, w_{0}^{2} + 5 \\, w_{0} w_{1} + \\frac{5}{2} \\, w_{1}^{2} + 5 \\, w_{0} w_{2} + 5 \\, w_{1} w_{2} + \\frac{5}{2} \\, w_{2}^{2} + \\frac{5}{6}</script></html>"
      ],
      "text/latex": [
       "$$\\newcommand{\\Bold}[1]{\\mathbf{#1}}\\frac{5}{2} \\, w_{0}^{2} + 5 \\, w_{0} w_{1} + \\frac{5}{2} \\, w_{1}^{2} + 5 \\, w_{0} w_{2} + 5 \\, w_{1} w_{2} + \\frac{5}{2} \\, w_{2}^{2} + \\frac{5}{6}$$"
      ],
      "text/plain": [
       "5/2*w0^2 + 5*w0*w1 + 5/2*w1^2 + 5*w0*w2 + 5*w1*w2 + 5/2*w2^2 + 5/6"
      ]
     },
     "execution_count": 358,
     "metadata": {},
     "output_type": "execute_result"
    }
   ],
   "source": [
    "pretty(degn(Verlinde_Num_inv(2),0))"
   ]
  },
  {
   "cell_type": "code",
   "execution_count": 359,
   "metadata": {},
   "outputs": [
    {
     "data": {
      "text/html": [
       "<html><script type=\"math/tex; mode=display\">\\newcommand{\\Bold}[1]{\\mathbf{#1}}-\\frac{7}{2} \\, w_{0}^{2} - 7 \\, w_{0} w_{1} - \\frac{7}{2} \\, w_{1}^{2} - 7 \\, w_{0} w_{2} - 7 \\, w_{1} w_{2} - \\frac{7}{2} \\, w_{2}^{2} - \\frac{35}{12}</script></html>"
      ],
      "text/latex": [
       "$$\\newcommand{\\Bold}[1]{\\mathbf{#1}}-\\frac{7}{2} \\, w_{0}^{2} - 7 \\, w_{0} w_{1} - \\frac{7}{2} \\, w_{1}^{2} - 7 \\, w_{0} w_{2} - 7 \\, w_{1} w_{2} - \\frac{7}{2} \\, w_{2}^{2} - \\frac{35}{12}$$"
      ],
      "text/plain": [
       "-7/2*w0^2 - 7*w0*w1 - 7/2*w1^2 - 7*w0*w2 - 7*w1*w2 - 7/2*w2^2 - 35/12"
      ]
     },
     "execution_count": 359,
     "metadata": {},
     "output_type": "execute_result"
    }
   ],
   "source": [
    "pretty(degn(Verlinde_Num(2),0))"
   ]
  },
  {
   "cell_type": "code",
   "execution_count": 360,
   "metadata": {},
   "outputs": [
    {
     "data": {
      "text/html": [
       "<html><script type=\"math/tex; mode=display\">\\newcommand{\\Bold}[1]{\\mathbf{#1}}-\\frac{55}{2} \\, w_{0}^{2} - 55 \\, w_{0} w_{1} - \\frac{55}{2} \\, w_{1}^{2} - 55 \\, w_{0} w_{2} - 55 \\, w_{1} w_{2} - \\frac{55}{2} \\, w_{2}^{2} - \\frac{605}{12}</script></html>"
      ],
      "text/latex": [
       "$$\\newcommand{\\Bold}[1]{\\mathbf{#1}}-\\frac{55}{2} \\, w_{0}^{2} - 55 \\, w_{0} w_{1} - \\frac{55}{2} \\, w_{1}^{2} - 55 \\, w_{0} w_{2} - 55 \\, w_{1} w_{2} - \\frac{55}{2} \\, w_{2}^{2} - \\frac{605}{12}$$"
      ],
      "text/plain": [
       "-55/2*w0^2 - 55*w0*w1 - 55/2*w1^2 - 55*w0*w2 - 55*w1*w2 - 55/2*w2^2 - 605/12"
      ]
     },
     "execution_count": 360,
     "metadata": {},
     "output_type": "execute_result"
    }
   ],
   "source": [
    "pretty(degn(Verlinde_Num(3),0))"
   ]
  },
  {
   "cell_type": "code",
   "execution_count": 361,
   "metadata": {},
   "outputs": [
    {
     "data": {
      "text/html": [
       "<html><script type=\"math/tex; mode=display\">\\newcommand{\\Bold}[1]{\\mathbf{#1}}-\\frac{455}{2} \\, w_{0}^{2} - 455 \\, w_{0} w_{1} - \\frac{455}{2} \\, w_{1}^{2} - 455 \\, w_{0} w_{2} - 455 \\, w_{1} w_{2} - \\frac{455}{2} \\, w_{2}^{2} - \\frac{7735}{12}</script></html>"
      ],
      "text/latex": [
       "$$\\newcommand{\\Bold}[1]{\\mathbf{#1}}-\\frac{455}{2} \\, w_{0}^{2} - 455 \\, w_{0} w_{1} - \\frac{455}{2} \\, w_{1}^{2} - 455 \\, w_{0} w_{2} - 455 \\, w_{1} w_{2} - \\frac{455}{2} \\, w_{2}^{2} - \\frac{7735}{12}$$"
      ],
      "text/plain": [
       "-455/2*w0^2 - 455*w0*w1 - 455/2*w1^2 - 455*w0*w2 - 455*w1*w2 - 455/2*w2^2 - 7735/12"
      ]
     },
     "execution_count": 361,
     "metadata": {},
     "output_type": "execute_result"
    }
   ],
   "source": [
    "pretty(degn(Verlinde_Num(4),0))"
   ]
  },
  {
   "cell_type": "code",
   "execution_count": 362,
   "metadata": {},
   "outputs": [
    {
     "data": {
      "text/html": [
       "<html><script type=\"math/tex; mode=display\">\\newcommand{\\Bold}[1]{\\mathbf{#1}}-1938 \\, w_{0}^{2} - 3876 \\, w_{0} w_{1} - 1938 \\, w_{1}^{2} - 3876 \\, w_{0} w_{2} - 3876 \\, w_{1} w_{2} - 1938 \\, w_{2}^{2} - 7429</script></html>"
      ],
      "text/latex": [
       "$$\\newcommand{\\Bold}[1]{\\mathbf{#1}}-1938 \\, w_{0}^{2} - 3876 \\, w_{0} w_{1} - 1938 \\, w_{1}^{2} - 3876 \\, w_{0} w_{2} - 3876 \\, w_{1} w_{2} - 1938 \\, w_{2}^{2} - 7429$$"
      ],
      "text/plain": [
       "-1938*w0^2 - 3876*w0*w1 - 1938*w1^2 - 3876*w0*w2 - 3876*w1*w2 - 1938*w2^2 - 7429"
      ]
     },
     "execution_count": 362,
     "metadata": {},
     "output_type": "execute_result"
    }
   ],
   "source": [
    "pretty(degn(Verlinde_Num(5),0))"
   ]
  },
  {
   "cell_type": "code",
   "execution_count": 205,
   "metadata": {},
   "outputs": [
    {
     "data": {
      "text/html": [
       "<html><script type=\"math/tex; mode=display\">\\newcommand{\\Bold}[1]{\\mathbf{#1}}-231 \\, w_{0}^{2} - 154</script></html>"
      ],
      "text/latex": [
       "$$\\newcommand{\\Bold}[1]{\\mathbf{#1}}-231 \\, w_{0}^{2} - 154$$"
      ],
      "text/plain": [
       "-231*w0^2 - 154"
      ]
     },
     "execution_count": 205,
     "metadata": {},
     "output_type": "execute_result"
    }
   ],
   "source": [
    "pretty(degn(Verlinde_Num(6),0))"
   ]
  },
  {
   "cell_type": "code",
   "execution_count": 214,
   "metadata": {},
   "outputs": [
    {
     "data": {
      "text/html": [
       "<html><script type=\"math/tex; mode=display\">\\newcommand{\\Bold}[1]{\\mathbf{#1}}-\\frac{w_{0}}{2 \\, t}</script></html>"
      ],
      "text/latex": [
       "$$\\newcommand{\\Bold}[1]{\\mathbf{#1}}-\\frac{w_{0}}{2 \\, t}$$"
      ],
      "text/plain": [
       "-1/2*w0/t"
      ]
     },
     "execution_count": 214,
     "metadata": {},
     "output_type": "execute_result"
    }
   ],
   "source": [
    "pretty(degn(Verlinde_Num_inv(2),-1))"
   ]
  },
  {
   "cell_type": "markdown",
   "metadata": {},
   "source": [
    "Also, we have a recursive formula\n",
    "$$\\frac{[w^2]S_n}{[w^0]S_n}\\cdot \\frac{(n-1)}{n} = \\frac{[w^2]S_{n+1}}{[w^0]S_{n+1}}, n\\geq 2$$"
   ]
  },
  {
   "cell_type": "markdown",
   "metadata": {},
   "source": [
    "In degree $1$ rank $1$, \n",
    "$$S_n=(-1)^nV_{n+1}$$"
   ]
  },
  {
   "cell_type": "code",
   "execution_count": 105,
   "metadata": {},
   "outputs": [
    {
     "data": {
      "text/html": [
       "<html><script type=\"math/tex; mode=display\">\\newcommand{\\Bold}[1]{\\mathbf{#1}}\\frac{70}{3} \\, {\\left(w_{0}^{2} + 1\\right)} t w_{0}</script></html>"
      ],
      "text/latex": [
       "$$\\newcommand{\\Bold}[1]{\\mathbf{#1}}\\frac{70}{3} \\, {\\left(w_{0}^{2} + 1\\right)} t w_{0}$$"
      ],
      "text/plain": [
       "70/3*(w0^2 + 1)*t*w0"
      ]
     },
     "execution_count": 105,
     "metadata": {},
     "output_type": "execute_result"
    }
   ],
   "source": [
    "pretty(degn(Segre_Num(3),1))"
   ]
  },
  {
   "cell_type": "code",
   "execution_count": 17,
   "metadata": {},
   "outputs": [
    {
     "data": {
      "text/html": [
       "<html><script type=\"math/tex; mode=display\">\\newcommand{\\Bold}[1]{\\mathbf{#1}}-\\frac{455}{2} \\, w_{0}^{2} - 455 \\, w_{0} w_{1} - \\frac{455}{2} \\, w_{1}^{2} - 455 \\, w_{0} w_{2} - 455 \\, w_{1} w_{2} - \\frac{455}{2} \\, w_{2}^{2} - \\frac{7735}{12}</script></html>"
      ],
      "text/latex": [
       "$$\\newcommand{\\Bold}[1]{\\mathbf{#1}}-\\frac{455}{2} \\, w_{0}^{2} - 455 \\, w_{0} w_{1} - \\frac{455}{2} \\, w_{1}^{2} - 455 \\, w_{0} w_{2} - 455 \\, w_{1} w_{2} - \\frac{455}{2} \\, w_{2}^{2} - \\frac{7735}{12}$$"
      ],
      "text/plain": [
       "-455/2*w0^2 - 455*w0*w1 - 455/2*w1^2 - 455*w0*w2 - 455*w1*w2 - 455/2*w2^2 - 7735/12"
      ]
     },
     "execution_count": 17,
     "metadata": {},
     "output_type": "execute_result"
    }
   ],
   "source": [
    "pretty(degn(Verlinde_Num(4),0))"
   ]
  },
  {
   "cell_type": "markdown",
   "metadata": {},
   "source": [
    "But not for other ranks."
   ]
  },
  {
   "cell_type": "markdown",
   "metadata": {},
   "source": [
    "# DT inv\n",
    "\n",
    "We have\n",
    "$$\\int_{[S^{[n]}]}1=(-1)^n\\frac{1}{n!t^{2n}}$$\n",
    "$$\\int_{[S^{[n]}]^{\\text{red}}}1=\\begin{cases}-\\frac1{t^2}\\text{ when $n=1$}\\\\0\\text{ else}\\end{cases}$$"
   ]
  },
  {
   "cell_type": "code",
   "execution_count": 119,
   "metadata": {},
   "outputs": [
    {
     "data": {
      "text/html": [
       "<html><script type=\"math/tex; mode=display\">\\newcommand{\\Bold}[1]{\\mathbf{#1}}-\\frac{1}{b^{2} t^{2}}</script></html>"
      ],
      "text/latex": [
       "$$\\newcommand{\\Bold}[1]{\\mathbf{#1}}-\\frac{1}{b^{2} t^{2}}$$"
      ],
      "text/plain": [
       "-1/(b^2*t^2)"
      ]
     },
     "execution_count": 119,
     "metadata": {},
     "output_type": "execute_result"
    }
   ],
   "source": [
    "DT_Num(1)"
   ]
  },
  {
   "cell_type": "code",
   "execution_count": 120,
   "metadata": {},
   "outputs": [
    {
     "data": {
      "text/html": [
       "<html><script type=\"math/tex; mode=display\">\\newcommand{\\Bold}[1]{\\mathbf{#1}}\\frac{{\\left(m + t\\right)}^{4}}{24 \\, b^{4} m^{4} t^{4}}</script></html>"
      ],
      "text/latex": [
       "$$\\newcommand{\\Bold}[1]{\\mathbf{#1}}\\frac{{\\left(m + t\\right)}^{4}}{24 \\, b^{4} m^{4} t^{4}}$$"
      ],
      "text/plain": [
       "1/24*(m + t)^4/(b^4*m^4*t^4)"
      ]
     },
     "execution_count": 120,
     "metadata": {},
     "output_type": "execute_result"
    }
   ],
   "source": [
    "pretty(DT_Num_2d(4))"
   ]
  },
  {
   "cell_type": "markdown",
   "metadata": {},
   "source": [
    "# 2d torus\n",
    "Compare with universal series from [Khilb] "
   ]
  },
  {
   "cell_type": "code",
   "execution_count": 128,
   "metadata": {
    "scrolled": true
   },
   "outputs": [
    {
     "data": {
      "text/html": [
       "<html><script type=\"math/tex; mode=display\">\\newcommand{\\Bold}[1]{\\mathbf{#1}}\\frac{{\\left(3 \\, m^{3} v_{0}^{2} + 3 \\, m^{2} t v_{0}^{2} + 6 \\, m^{2} t v_{0} w_{0} + 6 \\, m t^{2} v_{0} w_{0} + 3 \\, m t^{2} w_{0}^{2} + 3 \\, t^{3} w_{0}^{2} + 3 \\, m^{2} t v_{0} + 3 \\, m t^{2} w_{0} - 2 \\, m^{2} t - 2 \\, m t^{2}\\right)} {\\left(m + t\\right)}}{2 \\, m^{2} t^{2}}</script></html>"
      ],
      "text/latex": [
       "$$\\newcommand{\\Bold}[1]{\\mathbf{#1}}\\frac{{\\left(3 \\, m^{3} v_{0}^{2} + 3 \\, m^{2} t v_{0}^{2} + 6 \\, m^{2} t v_{0} w_{0} + 6 \\, m t^{2} v_{0} w_{0} + 3 \\, m t^{2} w_{0}^{2} + 3 \\, t^{3} w_{0}^{2} + 3 \\, m^{2} t v_{0} + 3 \\, m t^{2} w_{0} - 2 \\, m^{2} t - 2 \\, m t^{2}\\right)} {\\left(m + t\\right)}}{2 \\, m^{2} t^{2}}$$"
      ],
      "text/plain": [
       "1/2*(3*m^3*v0^2 + 3*m^2*t*v0^2 + 6*m^2*t*v0*w0 + 6*m*t^2*v0*w0 + 3*m*t^2*w0^2 + 3*t^3*w0^2 + 3*m^2*t*v0 + 3*m*t^2*w0 - 2*m^2*t - 2*m*t^2)*(m + t)/(m^2*t^2)"
      ]
     },
     "execution_count": 128,
     "metadata": {},
     "output_type": "execute_result"
    }
   ],
   "source": [
    "pretty(degn(Segre_Num_2d(2),0))"
   ]
  },
  {
   "cell_type": "code",
   "execution_count": 79,
   "metadata": {},
   "outputs": [],
   "source": [
    "def var_change(k):\n",
    "    return degn(pretty(sum(degn(Chern_Num_2d(i),0)*b^i for i in range(1,k+1)))(b=b),k)"
   ]
  },
  {
   "cell_type": "code",
   "execution_count": 130,
   "metadata": {
    "scrolled": false
   },
   "outputs": [
    {
     "data": {
      "text/html": [
       "<html><script type=\"math/tex; mode=display\">\\newcommand{\\Bold}[1]{\\mathbf{#1}}-\\frac{{\\left(2 \\, m^{4} t - 3 \\, m^{3} t^{2} - 3 \\, m^{2} t^{3} + 2 \\, m t^{4}\\right)} {\\left(m + t\\right)}}{2 \\, m^{3} t^{3}}</script></html>"
      ],
      "text/latex": [
       "$$\\newcommand{\\Bold}[1]{\\mathbf{#1}}-\\frac{{\\left(2 \\, m^{4} t - 3 \\, m^{3} t^{2} - 3 \\, m^{2} t^{3} + 2 \\, m t^{4}\\right)} {\\left(m + t\\right)}}{2 \\, m^{3} t^{3}}$$"
      ],
      "text/plain": [
       "-1/2*(2*m^4*t - 3*m^3*t^2 - 3*m^2*t^3 + 2*m*t^4)*(m + t)/(m^3*t^3)"
      ]
     },
     "execution_count": 130,
     "metadata": {},
     "output_type": "execute_result"
    }
   ],
   "source": [
    "pretty(degn(Segre_Num_2d(3),0))(v0=0,w0=0)"
   ]
  },
  {
   "cell_type": "code",
   "execution_count": 189,
   "metadata": {},
   "outputs": [
    {
     "ename": "NameError",
     "evalue": "name 'Vertex2d' is not defined",
     "output_type": "error",
     "traceback": [
      "\u001b[0;31m---------------------------------------------------------------------------\u001b[0m",
      "\u001b[0;31mNameError\u001b[0m                                 Traceback (most recent call last)",
      "\u001b[0;32m/opt/sagemath-9.3/local/lib/python3.7/site-packages/sage/all_cmdline.py\u001b[0m in \u001b[0;36m<module>\u001b[0;34m\u001b[0m\n\u001b[0;32m----> 1\u001b[0;31m \u001b[0mVertex2d\u001b[0m\u001b[0;34m.\u001b[0m\u001b[0mtotal_chern_vb_rank_2\u001b[0m\u001b[0;34m(\u001b[0m\u001b[0mInteger\u001b[0m\u001b[0;34m(\u001b[0m\u001b[0;36m1\u001b[0m\u001b[0;34m)\u001b[0m\u001b[0;34m)\u001b[0m\u001b[0;34m\u001b[0m\u001b[0;34m\u001b[0m\u001b[0m\n\u001b[0m",
      "\u001b[0;31mNameError\u001b[0m: name 'Vertex2d' is not defined"
     ]
    }
   ],
   "source": []
  }
 ],
 "metadata": {
  "kernelspec": {
   "display_name": "SageMath 9.3",
   "language": "sage",
   "name": "sagemath"
  },
  "language_info": {
   "codemirror_mode": {
    "name": "ipython",
    "version": 3
   },
   "file_extension": ".py",
   "mimetype": "text/x-python",
   "name": "python",
   "nbconvert_exporter": "python",
   "pygments_lexer": "ipython3",
   "version": "3.7.10"
  }
 },
 "nbformat": 4,
 "nbformat_minor": 4
}
