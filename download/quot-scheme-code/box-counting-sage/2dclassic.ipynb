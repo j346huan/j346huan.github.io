{
 "cells": [
  {
   "cell_type": "code",
   "execution_count": 11,
   "metadata": {},
   "outputs": [],
   "source": [
    "reset()\n",
    "%display latex\n",
    "Partitions.options.latex=\"list\"\n",
    "load(\"setup.sage\")\n",
    "\n",
    "load(\"setup.sage\")\n",
    "\n",
    "\n",
    "rank=1\n",
    "\n",
    "\n",
    "KT_vars = ['x','y']\n",
    "KT_ring = LaurentPolynomialRing(QQ, KT_vars)\n",
    "\n",
    "coho_vars = ['t','m']\n",
    "coho_ring = LaurentPolynomialRing(QQ, coho_vars)\n",
    "\n",
    "x,y=KT_ring.gens()\n",
    "t,m = coho_ring.gens()\n",
    "b=var('b')\n",
    "w=SR.var('w',rank)\n",
    "v=SR.var('v',rank)\n",
    "W=var('w')\n",
    "\n",
    "def setrank(r):\n",
    "    rank=r\n",
    "\n",
    "def character(p,x=x,y=y):\n",
    "    return sum(y**(-i) * x**(-j) for i, j in p.cells())\n",
    "\n",
    "def character_vb(p, w,x=x,y=y):\n",
    "    Q = character(p,x,y)\n",
    "    return sum(Q * x^(w[2*i]) * y^(w[2*i+1]) for i in range(len(w)/2))\n",
    "\n",
    "def tangent1(p,x=x,y=1/x):\n",
    "    q=character(p,x,y)\n",
    "    q_inv=character(p,y,x)\n",
    "    return q+q_inv/(x*y)-q*q_inv*(1-x)*(1-y)/(x*y)\n",
    "\n",
    "def tangent2(p,x=x,y=y):\n",
    "    total=0\n",
    "    for b1,b2 in p.cells():\n",
    "        arm=p[b1]-b2-1\n",
    "        leg=p.conjugate()[b2]-b1-1\n",
    "        total+=y^(-leg)*x^(arm+1)+y^(leg+1)*x^(-arm)\n",
    "    return total\n",
    "\n",
    "def top_chern(f):\n",
    "    numer, denom = [], []\n",
    "    for coeff, mon in list(f):\n",
    "        wt = from_monomial(mon)\n",
    "        #if wt==0:\n",
    "            #continue\n",
    "        if coeff > 0:\n",
    "            numer += (coeff) * [wt]\n",
    "        elif coeff < 0:\n",
    "            denom += (-coeff) * [wt]\n",
    "    \n",
    "    return coho_ring.fraction_field()(prod(numer) / prod(denom))\n",
    "\n",
    "def determinant(f):\n",
    "    if f in ZZ:\n",
    "        return 1\n",
    "    else:\n",
    "        return prod((mon)^coeff for coeff, mon in f)\n",
    "\n",
    "def from_monomial(m):\n",
    "    return sum(m.degree(KT_ring.gen(i)) * coho_ring.gen(i) for i in range(len(coho_ring.gens())))\n",
    "\n",
    "def from_character(f):\n",
    "    numer, denom = [], []\n",
    "\n",
    "    for coeff, mon in list(f):\n",
    "        wt = from_monomial(mon)\n",
    "        if coeff > 0:\n",
    "            numer += (coeff) * [wt]\n",
    "        elif coeff < 0:\n",
    "            denom += (-coeff) * [wt]\n",
    "    return numer, denom\n",
    "\n",
    "def total_segre_vb(p):\n",
    "    Q = character(p,x,y)\n",
    "    roots = []\n",
    "    vb_weight = W\n",
    "    for coeff, mon in list(Q):\n",
    "        wt = from_monomial(mon)\n",
    "        roots += (coeff) * [-wt+vb_weight]\n",
    "    total = prod(1/(1+r) for r in roots)\n",
    "    return total\n",
    "\n",
    "def Segre_Num(n):\n",
    "    total=0\n",
    "    for p in Partitions(n):\n",
    "        add=(top_chern(-tangent2(p,x,y))*total_segre_vb(p))(t=t*b,m=m*b)\n",
    "        total+=add\n",
    "    return total\n",
    "\n",
    "        \n",
    "\n",
    "def degn(f,n):\n",
    "    g=f.taylor(b,0,n)\n",
    "    L=g.coefficients()\n",
    "    if L[len(L)-1][1]!=n:\n",
    "        return 0\n",
    "    return L[len(L)-1][0]\n",
    "    \n",
    "    \n",
    "    \n",
    "    \n",
    "    \n",
    "    \n",
    "    \n",
    "    \n",
    "    \n",
    "    \n",
    "    \n",
    "    \n",
    "    \n",
    "    \n",
    "    \n",
    "    \n",
    "    \n",
    "    \n",
    "    \n"
   ]
  },
  {
   "cell_type": "code",
   "execution_count": 12,
   "metadata": {},
   "outputs": [
    {
     "data": {
      "text/html": [
       "<html><script type=\"math/tex; mode=display\">\\newcommand{\\Bold}[1]{\\mathbf{#1}}x^{-1} + y^{-2} + x^{-1} y^{-1} + x^{-2} + x^{-1} y^{-2} - x^{-2} y^{-2}</script></html>"
      ],
      "text/latex": [
       "$$\\newcommand{\\Bold}[1]{\\mathbf{#1}}x^{-1} + y^{-2} + x^{-1} y^{-1} + x^{-2} + x^{-1} y^{-2} - x^{-2} y^{-2}$$"
      ],
      "text/plain": [
       "x^-1 + y^-2 + x^-1*y^-1 + x^-2 + x^-1*y^-2 - x^-2*y^-2"
      ]
     },
     "execution_count": 12,
     "metadata": {},
     "output_type": "execute_result"
    }
   ],
   "source": [
    "tangent1(Partition([2]),x,y)"
   ]
  },
  {
   "cell_type": "code",
   "execution_count": 13,
   "metadata": {},
   "outputs": [
    {
     "data": {
      "text/html": [
       "<html><script type=\"math/tex; mode=display\">\\newcommand{\\Bold}[1]{\\mathbf{#1}}x^{2} + x + y + x^{-1} y</script></html>"
      ],
      "text/latex": [
       "$$\\newcommand{\\Bold}[1]{\\mathbf{#1}}x^{2} + x + y + x^{-1} y$$"
      ],
      "text/plain": [
       "x^2 + x + y + x^-1*y"
      ]
     },
     "execution_count": 13,
     "metadata": {},
     "output_type": "execute_result"
    }
   ],
   "source": [
    "tangent2(Partition([2]))"
   ]
  },
  {
   "cell_type": "code",
   "execution_count": 38,
   "metadata": {},
   "outputs": [
    {
     "data": {
      "text/html": [
       "<html><script type=\"math/tex; mode=display\">\\newcommand{\\Bold}[1]{\\mathbf{#1}}-w_{0}^{2}</script></html>"
      ],
      "text/latex": [
       "$$\\newcommand{\\Bold}[1]{\\mathbf{#1}}-w_{0}^{2}$$"
      ],
      "text/plain": [
       "-w0^2"
      ]
     },
     "execution_count": 38,
     "metadata": {},
     "output_type": "execute_result"
    }
   ],
   "source": [
    "pretty(degn(Segre_Num(1),0))"
   ]
  },
  {
   "cell_type": "code",
   "execution_count": 3,
   "metadata": {},
   "outputs": [
    {
     "data": {
      "text/html": [
       "<html><script type=\"math/tex; mode=display\">\\newcommand{\\Bold}[1]{\\mathbf{#1}}-w_{0}^{2}</script></html>"
      ],
      "text/latex": [
       "$$\\newcommand{\\Bold}[1]{\\mathbf{#1}}-w_{0}^{2}$$"
      ],
      "text/plain": [
       "-w0^2"
      ]
     },
     "execution_count": 3,
     "metadata": {},
     "output_type": "execute_result"
    }
   ],
   "source": [
    "Euler_Tangent=(t*-t)\n",
    "Uni_Series1=w[0]^2*t^2/Euler_Tangent\n",
    "Uni_Series1"
   ]
  },
  {
   "cell_type": "code",
   "execution_count": 27,
   "metadata": {},
   "outputs": [],
   "source": [
    "def var_change_segre(k):\n",
    "    return degn(pretty(sum(degn(Segre_Num(i),0)*b^i for i in range(1,k+1)))(b=b*(1+2*b)^2),k)"
   ]
  },
  {
   "cell_type": "code",
   "execution_count": 28,
   "metadata": {},
   "outputs": [
    {
     "data": {
      "text/html": [
       "<html><script type=\"math/tex; mode=display\">\\newcommand{\\Bold}[1]{\\mathbf{#1}}-w_{0}^{2}</script></html>"
      ],
      "text/latex": [
       "$$\\newcommand{\\Bold}[1]{\\mathbf{#1}}-w_{0}^{2}$$"
      ],
      "text/plain": [
       "-w0^2"
      ]
     },
     "execution_count": 28,
     "metadata": {},
     "output_type": "execute_result"
    }
   ],
   "source": [
    "var_change_segre(1)"
   ]
  },
  {
   "cell_type": "code",
   "execution_count": 29,
   "metadata": {},
   "outputs": [
    {
     "data": {
      "text/html": [
       "<html><script type=\"math/tex; mode=display\">\\newcommand{\\Bold}[1]{\\mathbf{#1}}\\frac{5}{2} \\, w_{0}^{4} + w_{0}^{2} + \\frac{1}{2}</script></html>"
      ],
      "text/latex": [
       "$$\\newcommand{\\Bold}[1]{\\mathbf{#1}}\\frac{5}{2} \\, w_{0}^{4} + w_{0}^{2} + \\frac{1}{2}$$"
      ],
      "text/plain": [
       "5/2*w0^4 + w0^2 + 1/2"
      ]
     },
     "execution_count": 29,
     "metadata": {},
     "output_type": "execute_result"
    }
   ],
   "source": [
    "var_change_segre(2)"
   ]
  },
  {
   "cell_type": "code",
   "execution_count": 35,
   "metadata": {},
   "outputs": [
    {
     "data": {
      "text/html": [
       "<html><script type=\"math/tex; mode=display\">\\newcommand{\\Bold}[1]{\\mathbf{#1}}\\frac{5}{2} \\, w_{0}^{4} + 5 \\, w_{0}^{2} + \\frac{1}{2}</script></html>"
      ],
      "text/latex": [
       "$$\\newcommand{\\Bold}[1]{\\mathbf{#1}}\\frac{5}{2} \\, w_{0}^{4} + 5 \\, w_{0}^{2} + \\frac{1}{2}$$"
      ],
      "text/plain": [
       "5/2*w0^4 + 5*w0^2 + 1/2"
      ]
     },
     "execution_count": 35,
     "metadata": {},
     "output_type": "execute_result"
    }
   ],
   "source": [
    "pretty(degn(Segre_Num(2),0))"
   ]
  },
  {
   "cell_type": "code",
   "execution_count": 30,
   "metadata": {},
   "outputs": [
    {
     "data": {
      "text/html": [
       "<html><script type=\"math/tex; mode=display\">\\newcommand{\\Bold}[1]{\\mathbf{#1}}-\\frac{14}{3} \\, w_{0}^{6} - 15 \\, w_{0}^{4} - \\frac{46}{3} \\, w_{0}^{2} - \\frac{19}{6}</script></html>"
      ],
      "text/latex": [
       "$$\\newcommand{\\Bold}[1]{\\mathbf{#1}}-\\frac{14}{3} \\, w_{0}^{6} - 15 \\, w_{0}^{4} - \\frac{46}{3} \\, w_{0}^{2} - \\frac{19}{6}$$"
      ],
      "text/plain": [
       "-14/3*w0^6 - 15*w0^4 - 46/3*w0^2 - 19/6"
      ]
     },
     "execution_count": 30,
     "metadata": {},
     "output_type": "execute_result"
    }
   ],
   "source": [
    "var_change_segre(3)"
   ]
  },
  {
   "cell_type": "code",
   "execution_count": 36,
   "metadata": {},
   "outputs": [
    {
     "data": {
      "text/html": [
       "<html><script type=\"math/tex; mode=display\">\\newcommand{\\Bold}[1]{\\mathbf{#1}}-\\frac{14}{3} \\, w_{0}^{6} - 35 \\, w_{0}^{4} - \\frac{154}{3} \\, w_{0}^{2} - \\frac{43}{6}</script></html>"
      ],
      "text/latex": [
       "$$\\newcommand{\\Bold}[1]{\\mathbf{#1}}-\\frac{14}{3} \\, w_{0}^{6} - 35 \\, w_{0}^{4} - \\frac{154}{3} \\, w_{0}^{2} - \\frac{43}{6}$$"
      ],
      "text/plain": [
       "-14/3*w0^6 - 35*w0^4 - 154/3*w0^2 - 43/6"
      ]
     },
     "execution_count": 36,
     "metadata": {},
     "output_type": "execute_result"
    }
   ],
   "source": [
    "pretty(degn(Segre_Num(3),0))"
   ]
  },
  {
   "cell_type": "code",
   "execution_count": 31,
   "metadata": {},
   "outputs": [
    {
     "data": {
      "text/html": [
       "<html><script type=\"math/tex; mode=display\">\\newcommand{\\Bold}[1]{\\mathbf{#1}}\\frac{55}{8} \\, w_{0}^{8} + \\frac{119}{2} \\, w_{0}^{6} + \\frac{815}{4} \\, w_{0}^{4} + \\frac{1369}{6} \\, w_{0}^{2} + \\frac{285}{8}</script></html>"
      ],
      "text/latex": [
       "$$\\newcommand{\\Bold}[1]{\\mathbf{#1}}\\frac{55}{8} \\, w_{0}^{8} + \\frac{119}{2} \\, w_{0}^{6} + \\frac{815}{4} \\, w_{0}^{4} + \\frac{1369}{6} \\, w_{0}^{2} + \\frac{285}{8}$$"
      ],
      "text/plain": [
       "55/8*w0^8 + 119/2*w0^6 + 815/4*w0^4 + 1369/6*w0^2 + 285/8"
      ]
     },
     "execution_count": 31,
     "metadata": {},
     "output_type": "execute_result"
    }
   ],
   "source": [
    "var_change_segre(4)"
   ]
  },
  {
   "cell_type": "code",
   "execution_count": 19,
   "metadata": {},
   "outputs": [
    {
     "data": {
      "text/html": [
       "<html><script type=\"math/tex; mode=display\">\\newcommand{\\Bold}[1]{\\mathbf{#1}}-\\frac{1001}{120} \\, w_{0}^{10} - \\frac{1001}{4} \\, w_{0}^{8} - \\frac{21021}{8} \\, w_{0}^{6} - \\frac{31031}{3} \\, w_{0}^{4} - \\frac{1470469}{120} \\, w_{0}^{2} - \\frac{7553}{4}</script></html>"
      ],
      "text/latex": [
       "$$\\newcommand{\\Bold}[1]{\\mathbf{#1}}-\\frac{1001}{120} \\, w_{0}^{10} - \\frac{1001}{4} \\, w_{0}^{8} - \\frac{21021}{8} \\, w_{0}^{6} - \\frac{31031}{3} \\, w_{0}^{4} - \\frac{1470469}{120} \\, w_{0}^{2} - \\frac{7553}{4}$$"
      ],
      "text/plain": [
       "-1001/120*w0^10 - 1001/4*w0^8 - 21021/8*w0^6 - 31031/3*w0^4 - 1470469/120*w0^2 - 7553/4"
      ]
     },
     "execution_count": 19,
     "metadata": {},
     "output_type": "execute_result"
    }
   ],
   "source": [
    "var_change_segre(5)"
   ]
  },
  {
   "cell_type": "code",
   "execution_count": 32,
   "metadata": {
    "scrolled": true
   },
   "outputs": [
    {
     "data": {
      "text/html": [
       "<html><script type=\"math/tex; mode=display\">\\newcommand{\\Bold}[1]{\\mathbf{#1}}\\frac{1547}{180} \\, w_{0}^{12} + \\frac{715}{3} \\, w_{0}^{10} + \\frac{57475}{18} \\, w_{0}^{8} + \\frac{374927}{18} \\, w_{0}^{6} + \\frac{2210381}{36} \\, w_{0}^{4} + \\frac{564709}{9} \\, w_{0}^{2} + \\frac{1133713}{120}</script></html>"
      ],
      "text/latex": [
       "$$\\newcommand{\\Bold}[1]{\\mathbf{#1}}\\frac{1547}{180} \\, w_{0}^{12} + \\frac{715}{3} \\, w_{0}^{10} + \\frac{57475}{18} \\, w_{0}^{8} + \\frac{374927}{18} \\, w_{0}^{6} + \\frac{2210381}{36} \\, w_{0}^{4} + \\frac{564709}{9} \\, w_{0}^{2} + \\frac{1133713}{120}$$"
      ],
      "text/plain": [
       "1547/180*w0^12 + 715/3*w0^10 + 57475/18*w0^8 + 374927/18*w0^6 + 2210381/36*w0^4 + 564709/9*w0^2 + 1133713/120"
      ]
     },
     "execution_count": 32,
     "metadata": {},
     "output_type": "execute_result"
    }
   ],
   "source": [
    "var_change_segre(6)"
   ]
  },
  {
   "cell_type": "code",
   "execution_count": 10,
   "metadata": {},
   "outputs": [
    {
     "data": {
      "text/html": [
       "<html><script type=\"math/tex; mode=display\">\\newcommand{\\Bold}[1]{\\mathbf{#1}}\\left[\\left(0, 0\\right), \\left(0, 1\\right)\\right]</script></html>"
      ],
      "text/latex": [
       "$$\\newcommand{\\Bold}[1]{\\mathbf{#1}}\\left[\\left(0, 0\\right), \\left(0, 1\\right)\\right]$$"
      ],
      "text/plain": [
       "[(0, 0), (0, 1)]"
      ]
     },
     "execution_count": 10,
     "metadata": {},
     "output_type": "execute_result"
    }
   ],
   "source": [
    "Partition([2]).cells()"
   ]
  }
 ],
 "metadata": {
  "kernelspec": {
   "display_name": "SageMath 9.3",
   "language": "sage",
   "name": "sagemath"
  },
  "language_info": {
   "codemirror_mode": {
    "name": "ipython",
    "version": 3
   },
   "file_extension": ".py",
   "mimetype": "text/x-python",
   "name": "python",
   "nbconvert_exporter": "python",
   "pygments_lexer": "ipython3",
   "version": "3.7.10"
  }
 },
 "nbformat": 4,
 "nbformat_minor": 4
}
