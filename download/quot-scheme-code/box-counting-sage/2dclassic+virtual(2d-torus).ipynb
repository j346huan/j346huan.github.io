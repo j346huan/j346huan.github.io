{
 "cells": [
  {
   "cell_type": "code",
   "execution_count": 2,
   "metadata": {},
   "outputs": [],
   "source": [
    "reset()\n",
    "%display latex\n",
    "Partitions.options.latex=\"list\"\n",
    "load(\"vertex_2d.sage\")\n",
    "\n",
    "def deg0(f):\n",
    "    if f==0: \n",
    "        return 0\n",
    "    return pretty(degn(f(t=b*t,m=b*m,w=b*w,v=b*v),0))"
   ]
  },
  {
   "cell_type": "code",
   "execution_count": 5,
   "metadata": {},
   "outputs": [
    {
     "data": {
      "text/html": [
       "x + y"
      ],
      "text/plain": [
       "'x + y'"
      ]
     },
     "execution_count": 5,
     "metadata": {},
     "output_type": "execute_result"
    }
   ],
   "source": [
    "tangent(Partitions(1)[0]).__str__()"
   ]
  },
  {
   "cell_type": "code",
   "execution_count": 39,
   "metadata": {},
   "outputs": [
    {
     "data": {
      "text/html": [
       "<html><script type=\"math/tex; mode=display\">\\newcommand{\\Bold}[1]{\\mathbf{#1}}\\frac{{\\left(m + t\\right)} w z}{m t}</script></html>"
      ],
      "text/latex": [
       "$$\\newcommand{\\Bold}[1]{\\mathbf{#1}}\\frac{{\\left(m + t\\right)} w z}{m t}$$"
      ],
      "text/plain": [
       "(m + t)*w*z/(m*t)"
      ]
     },
     "execution_count": 39,
     "metadata": {},
     "output_type": "execute_result"
    }
   ],
   "source": [
    "deg0(custom_invariant(1)(x=exp(t),y=exp(m)))"
   ]
  },
  {
   "cell_type": "code",
   "execution_count": 15,
   "metadata": {},
   "outputs": [
    {
     "data": {
      "text/html": [
       "<html><script type=\"math/tex; mode=display\">\\newcommand{\\Bold}[1]{\\mathbf{#1}}\\frac{{\\left(m t + m w + t w\\right)} {\\left(m + t\\right)} w}{2 \\, m^{2} t^{2}}</script></html>"
      ],
      "text/latex": [
       "$$\\newcommand{\\Bold}[1]{\\mathbf{#1}}\\frac{{\\left(m t + m w + t w\\right)} {\\left(m + t\\right)} w}{2 \\, m^{2} t^{2}}$$"
      ],
      "text/plain": [
       "1/2*(m*t + m*w + t*w)*(m + t)*w/(m^2*t^2)"
      ]
     },
     "execution_count": 15,
     "metadata": {},
     "output_type": "execute_result"
    }
   ],
   "source": [
    "deg0(Chern_Num_vir(2))"
   ]
  },
  {
   "cell_type": "code",
   "execution_count": 13,
   "metadata": {},
   "outputs": [
    {
     "data": {
      "text/html": [
       "<html><script type=\"math/tex; mode=display\">\\newcommand{\\Bold}[1]{\\mathbf{#1}}\\frac{{\\left(w + 1\\right)}^{3}}{6 \\, m^{3} t^{3}}</script></html>"
      ],
      "text/latex": [
       "$$\\newcommand{\\Bold}[1]{\\mathbf{#1}}\\frac{{\\left(w + 1\\right)}^{3}}{6 \\, m^{3} t^{3}}$$"
      ],
      "text/plain": [
       "1/6*(w + 1)^3/(m^3*t^3)"
      ]
     },
     "execution_count": 13,
     "metadata": {},
     "output_type": "execute_result"
    }
   ],
   "source": [
    "pretty(Chern_Num(3))"
   ]
  },
  {
   "cell_type": "markdown",
   "metadata": {},
   "source": [
    "We compute \n",
    "$$\\int_{S^{[n]}}c_{2n}(\\alpha)=\\int_{S^{[n]}}c_n(V^{[n]})c_n(W^{[n]})$$\n",
    "for $\\alpha=[V\\oplus W]$ for line bundles $V,W$. Here $k=\\text{rank}(\\alpha)=2$. This is related to Verlinde number\n",
    "$$\\chi(S^{[n]},\\det(\\alpha^{[n]}))=\\chi(S^{[n]},\\det(V^{[n]}))$$\n",
    "\n",
    "Applying theorem and get\n",
    "$$\\sum (-q)^n\\int_{S^{[n]}}c_n(V^{[n]})c_n(W^{[n]})=(1-q)^{c_2(\\alpha)}$$\n",
    "Equivariantly \n",
    "$$\\int_{\\mathbb{C}^2} c_2(\\alpha)=\\frac{vw}{tm} $$\n",
    "where $t,m$ are weights for $x,y$.\n",
    "So the coefficient of $q^n$ is \n",
    "$${\\frac{vw}{tm}\\choose n} $$"
   ]
  },
  {
   "cell_type": "code",
   "execution_count": null,
   "metadata": {},
   "outputs": [],
   "source": []
  },
  {
   "cell_type": "code",
   "execution_count": 727,
   "metadata": {},
   "outputs": [
    {
     "data": {
      "text/html": [
       "<html><script type=\"math/tex; mode=display\">\\newcommand{\\Bold}[1]{\\mathbf{#1}}\\frac{v w}{m t}</script></html>"
      ],
      "text/latex": [
       "$$\\newcommand{\\Bold}[1]{\\mathbf{#1}}\\frac{v w}{m t}$$"
      ],
      "text/plain": [
       "v*w/(m*t)"
      ]
     },
     "execution_count": 727,
     "metadata": {},
     "output_type": "execute_result"
    }
   ],
   "source": [
    "deg0(Chern_Num_rank_2(1))"
   ]
  },
  {
   "cell_type": "code",
   "execution_count": 2,
   "metadata": {},
   "outputs": [
    {
     "data": {
      "text/html": [
       "<html><script type=\"math/tex; mode=display\">\\newcommand{\\Bold}[1]{\\mathbf{#1}}\\frac{{\\left(v + 1\\right)} {\\left(w + 1\\right)}}{m t}</script></html>"
      ],
      "text/latex": [
       "$$\\newcommand{\\Bold}[1]{\\mathbf{#1}}\\frac{{\\left(v + 1\\right)} {\\left(w + 1\\right)}}{m t}$$"
      ],
      "text/plain": [
       "(v + 1)*(w + 1)/(m*t)"
      ]
     },
     "execution_count": 2,
     "metadata": {},
     "output_type": "execute_result"
    }
   ],
   "source": [
    "Chern_Num_rank_2(1)"
   ]
  },
  {
   "cell_type": "code",
   "execution_count": 728,
   "metadata": {},
   "outputs": [
    {
     "data": {
      "text/html": [
       "<html><script type=\"math/tex; mode=display\">\\newcommand{\\Bold}[1]{\\mathbf{#1}}-\\frac{{\\left(m t - v w\\right)} v w}{2 \\, m^{2} t^{2}}</script></html>"
      ],
      "text/latex": [
       "$$\\newcommand{\\Bold}[1]{\\mathbf{#1}}-\\frac{{\\left(m t - v w\\right)} v w}{2 \\, m^{2} t^{2}}$$"
      ],
      "text/plain": [
       "-1/2*(m*t - v*w)*v*w/(m^2*t^2)"
      ]
     },
     "execution_count": 728,
     "metadata": {},
     "output_type": "execute_result"
    }
   ],
   "source": [
    "deg0(Chern_Num_rank_2(2))"
   ]
  },
  {
   "cell_type": "code",
   "execution_count": 729,
   "metadata": {},
   "outputs": [
    {
     "data": {
      "text/html": [
       "<html><script type=\"math/tex; mode=display\">\\newcommand{\\Bold}[1]{\\mathbf{#1}}\\frac{{\\left(2 \\, m t - v w\\right)} {\\left(m t - v w\\right)} v w}{6 \\, m^{3} t^{3}}</script></html>"
      ],
      "text/latex": [
       "$$\\newcommand{\\Bold}[1]{\\mathbf{#1}}\\frac{{\\left(2 \\, m t - v w\\right)} {\\left(m t - v w\\right)} v w}{6 \\, m^{3} t^{3}}$$"
      ],
      "text/plain": [
       "1/6*(2*m*t - v*w)*(m*t - v*w)*v*w/(m^3*t^3)"
      ]
     },
     "execution_count": 729,
     "metadata": {},
     "output_type": "execute_result"
    }
   ],
   "source": [
    "deg0(Chern_Num_rank_2(3))"
   ]
  },
  {
   "cell_type": "code",
   "execution_count": 730,
   "metadata": {},
   "outputs": [
    {
     "data": {
      "text/html": [
       "<html><script type=\"math/tex; mode=display\">\\newcommand{\\Bold}[1]{\\mathbf{#1}}-\\frac{{\\left(3 \\, m t - v w\\right)} {\\left(2 \\, m t - v w\\right)} {\\left(m t - v w\\right)} v w}{24 \\, m^{4} t^{4}}</script></html>"
      ],
      "text/latex": [
       "$$\\newcommand{\\Bold}[1]{\\mathbf{#1}}-\\frac{{\\left(3 \\, m t - v w\\right)} {\\left(2 \\, m t - v w\\right)} {\\left(m t - v w\\right)} v w}{24 \\, m^{4} t^{4}}$$"
      ],
      "text/plain": [
       "-1/24*(3*m*t - v*w)*(2*m*t - v*w)*(m*t - v*w)*v*w/(m^4*t^4)"
      ]
     },
     "execution_count": 730,
     "metadata": {},
     "output_type": "execute_result"
    }
   ],
   "source": [
    "deg0(Chern_Num_rank_2(4))"
   ]
  },
  {
   "cell_type": "markdown",
   "metadata": {},
   "source": [
    "agrees with universal series, why do we have weight for $V^{[n]}$ is $v(\\square)-t(\\square)-m(\\square)$ in Section 3.2?\n"
   ]
  },
  {
   "cell_type": "markdown",
   "metadata": {},
   "source": [
    "We want to get virtual invariants \n",
    "$$\\int_{S^{[n]}}c_{2n}(\\alpha)=\\int_{S^{[n]}}c_n((K^{[n]}_S)^\\vee)c_n(L^{[n]})=(-1)^n\\int_{S^{[n]}}c_n(K^{[n]}_S)c_n(L^{[n]})$$\n",
    "We get\n",
    "\n",
    "$$(-1)^n{\\frac{-w(t+m)}{tm}\\choose n}$$"
   ]
  },
  {
   "cell_type": "code",
   "execution_count": 77,
   "metadata": {},
   "outputs": [
    {
     "data": {
      "text/html": [
       "<html><script type=\"math/tex; mode=display\">\\newcommand{\\Bold}[1]{\\mathbf{#1}}\\frac{{\\left(m + t\\right)}^{4}}{24 \\, m^{4} t^{4}}</script></html>"
      ],
      "text/latex": [
       "$$\\newcommand{\\Bold}[1]{\\mathbf{#1}}\\frac{{\\left(m + t\\right)}^{4}}{24 \\, m^{4} t^{4}}$$"
      ],
      "text/plain": [
       "1/24*(m + t)^4/(m^4*t^4)"
      ]
     },
     "execution_count": 77,
     "metadata": {},
     "output_type": "execute_result"
    }
   ],
   "source": [
    "Chern_Num_vir(1)"
   ]
  },
  {
   "cell_type": "code",
   "execution_count": 749,
   "metadata": {
    "scrolled": true
   },
   "outputs": [
    {
     "data": {
      "text/html": [
       "<html><script type=\"math/tex; mode=display\">\\newcommand{\\Bold}[1]{\\mathbf{#1}}\\frac{{\\left(m t + m w + t w + m + t\\right)} {\\left(m + t\\right)} {\\left(w + 1\\right)}}{2 \\, m^{2} t^{2}}</script></html>"
      ],
      "text/latex": [
       "$$\\newcommand{\\Bold}[1]{\\mathbf{#1}}\\frac{{\\left(m t + m w + t w + m + t\\right)} {\\left(m + t\\right)} {\\left(w + 1\\right)}}{2 \\, m^{2} t^{2}}$$"
      ],
      "text/plain": [
       "1/2*(m*t + m*w + t*w + m + t)*(m + t)*(w + 1)/(m^2*t^2)"
      ]
     },
     "execution_count": 749,
     "metadata": {},
     "output_type": "execute_result"
    }
   ],
   "source": [
    "pretty(Chern_Num_vir(2))"
   ]
  },
  {
   "cell_type": "code",
   "execution_count": 750,
   "metadata": {},
   "outputs": [
    {
     "data": {
      "text/html": [
       "<html><script type=\"math/tex; mode=display\">\\newcommand{\\Bold}[1]{\\mathbf{#1}}\\frac{{\\left(2 \\, m t + m w + t w + m + t\\right)} {\\left(m t + m w + t w + m + t\\right)} {\\left(m + t\\right)} {\\left(w + 1\\right)}}{6 \\, m^{3} t^{3}}</script></html>"
      ],
      "text/latex": [
       "$$\\newcommand{\\Bold}[1]{\\mathbf{#1}}\\frac{{\\left(2 \\, m t + m w + t w + m + t\\right)} {\\left(m t + m w + t w + m + t\\right)} {\\left(m + t\\right)} {\\left(w + 1\\right)}}{6 \\, m^{3} t^{3}}$$"
      ],
      "text/plain": [
       "1/6*(2*m*t + m*w + t*w + m + t)*(m*t + m*w + t*w + m + t)*(m + t)*(w + 1)/(m^3*t^3)"
      ]
     },
     "execution_count": 750,
     "metadata": {},
     "output_type": "execute_result"
    }
   ],
   "source": [
    "pretty(Chern_Num_vir(3))"
   ]
  },
  {
   "cell_type": "code",
   "execution_count": 751,
   "metadata": {},
   "outputs": [
    {
     "data": {
      "text/html": [
       "<html><script type=\"math/tex; mode=display\">\\newcommand{\\Bold}[1]{\\mathbf{#1}}\\frac{{\\left(3 \\, m t + m w + t w\\right)} {\\left(2 \\, m t + m w + t w\\right)} {\\left(m t + m w + t w\\right)} {\\left(m + t\\right)} w}{24 \\, m^{4} t^{4}}</script></html>"
      ],
      "text/latex": [
       "$$\\newcommand{\\Bold}[1]{\\mathbf{#1}}\\frac{{\\left(3 \\, m t + m w + t w\\right)} {\\left(2 \\, m t + m w + t w\\right)} {\\left(m t + m w + t w\\right)} {\\left(m + t\\right)} w}{24 \\, m^{4} t^{4}}$$"
      ],
      "text/plain": [
       "1/24*(3*m*t + m*w + t*w)*(2*m*t + m*w + t*w)*(m*t + m*w + t*w)*(m + t)*w/(m^4*t^4)"
      ]
     },
     "execution_count": 751,
     "metadata": {},
     "output_type": "execute_result"
    }
   ],
   "source": [
    "deg0(Chern_Num_vir(4))"
   ]
  },
  {
   "cell_type": "markdown",
   "metadata": {},
   "source": [
    "agrees with universal series."
   ]
  },
  {
   "cell_type": "markdown",
   "metadata": {},
   "source": [
    "The correspondence is with $\\beta$ rank $r=k-1=1$, and we have\n",
    "$$\\sum(-y)^n\\chi(S^{[n]},\\det(L^{[n]}))=(1-y)^{\\chi(\\det L)} $$\n",
    "So the coefficient at $n$ is\n",
    "$${\\chi(L)\\choose n} $$\n",
    "For $\\beta=[L]$ with weight $w$, by Riemann-Roch,\n",
    "$$\\chi(L)=\\int_S\\text{ch}(L)\\text{td}(S) $$\n",
    "$$=\\frac{c_1^2(S)+c_2(S)}{12}+\\frac{c_1(L)c_1(S)}{2}+\\frac{c_1(L)^2}{2}$$\n",
    "Equivariantly we have\n",
    "$$= \\frac{m^2+3mt+t^2+6mw+6tw+6w^2}{12mt}$$\n",
    "K-theoretically we have\n",
    "$$ \\frac{L}{(1-x^{-1})(1-y^{-1})}$$"
   ]
  },
  {
   "cell_type": "code",
   "execution_count": 2,
   "metadata": {},
   "outputs": [],
   "source": [
    "chi=Verlinde_Num(1)"
   ]
  },
  {
   "cell_type": "code",
   "execution_count": 12,
   "metadata": {},
   "outputs": [
    {
     "data": {
      "text/html": [
       "<html><script type=\"math/tex; mode=display\">\\newcommand{\\Bold}[1]{\\mathbf{#1}}\\frac{m^{2} + 3 \\, m {\\left(t + 2 \\, w\\right)} + t^{2} + 6 \\, t w + 6 \\, w^{2}}{12 \\, m t} + \\frac{m + t + 2 \\, w}{2 \\, b m t} + \\frac{1}{b^{2} m t}</script></html>"
      ],
      "text/latex": [
       "$$\\newcommand{\\Bold}[1]{\\mathbf{#1}}\\frac{m^{2} + 3 \\, m {\\left(t + 2 \\, w\\right)} + t^{2} + 6 \\, t w + 6 \\, w^{2}}{12 \\, m t} + \\frac{m + t + 2 \\, w}{2 \\, b m t} + \\frac{1}{b^{2} m t}$$"
      ],
      "text/plain": [
       "1/12*(m^2 + 3*m*(t + 2*w) + t^2 + 6*t*w + 6*w^2)/(m*t) + 1/2*(m + t + 2*w)/(b*m*t) + 1/(b^2*m*t)"
      ]
     },
     "execution_count": 12,
     "metadata": {},
     "output_type": "execute_result"
    }
   ],
   "source": [
    "Verlinde_Num(1)(x=exp(t*b),y=exp(m*b),w=b*w).taylor(b,0,0)"
   ]
  },
  {
   "cell_type": "code",
   "execution_count": 5,
   "metadata": {},
   "outputs": [
    {
     "data": {
      "text/html": [
       "<html><script type=\"math/tex; mode=display\">\\newcommand{\\Bold}[1]{\\mathbf{#1}}\\frac{x y e^{w}}{x y - x - y + 1}</script></html>"
      ],
      "text/latex": [
       "$$\\newcommand{\\Bold}[1]{\\mathbf{#1}}\\frac{x y e^{w}}{x y - x - y + 1}$$"
      ],
      "text/plain": [
       "x*y*e^w/(x*y - x - y + 1)"
      ]
     },
     "execution_count": 5,
     "metadata": {},
     "output_type": "execute_result"
    }
   ],
   "source": [
    "Verlinde_Num(1)"
   ]
  },
  {
   "cell_type": "code",
   "execution_count": 8,
   "metadata": {},
   "outputs": [
    {
     "data": {
      "text/html": [
       "<html><script type=\"math/tex; mode=display\">\\newcommand{\\Bold}[1]{\\mathbf{#1}}\\frac{m^{2} + 3 \\, m t + t^{2} + 6 \\, m w + 6 \\, t w + 6 \\, w^{2}}{12 \\, m t}</script></html>"
      ],
      "text/latex": [
       "$$\\newcommand{\\Bold}[1]{\\mathbf{#1}}\\frac{m^{2} + 3 \\, m t + t^{2} + 6 \\, m w + 6 \\, t w + 6 \\, w^{2}}{12 \\, m t}$$"
      ],
      "text/plain": [
       "1/12*(m^2 + 3*m*t + t^2 + 6*m*w + 6*t*w + 6*w^2)/(m*t)"
      ]
     },
     "execution_count": 8,
     "metadata": {},
     "output_type": "execute_result"
    }
   ],
   "source": [
    "deg0(Verlinde_Num(1)(x=exp(t),y=exp(m)))"
   ]
  },
  {
   "cell_type": "code",
   "execution_count": 435,
   "metadata": {},
   "outputs": [
    {
     "data": {
      "text/html": [
       "<html><script type=\"math/tex; mode=display\">\\newcommand{\\Bold}[1]{\\mathbf{#1}}\\frac{m^{2} + 3 \\, m t + t^{2} + 6 \\, m w + 6 \\, t w + 6 \\, w^{2}}{12 \\, m t}</script></html>"
      ],
      "text/latex": [
       "$$\\newcommand{\\Bold}[1]{\\mathbf{#1}}\\frac{m^{2} + 3 \\, m t + t^{2} + 6 \\, m w + 6 \\, t w + 6 \\, w^{2}}{12 \\, m t}$$"
      ],
      "text/plain": [
       "1/12*(m^2 + 3*m*t + t^2 + 6*m*w + 6*t*w + 6*w^2)/(m*t)"
      ]
     },
     "execution_count": 435,
     "metadata": {},
     "output_type": "execute_result"
    }
   ],
   "source": [
    "deg0(chi(x=exp(t),y=exp(m)))"
   ]
  },
  {
   "cell_type": "code",
   "execution_count": 53,
   "metadata": {},
   "outputs": [
    {
     "data": {
      "text/html": [
       "<html><script type=\"math/tex; mode=display\">\\newcommand{\\Bold}[1]{\\mathbf{#1}}\\frac{3 \\, m^{4} - 55 \\, m^{2} t^{2} + 3 \\, t^{4} + 120 \\, m^{3} w + 240 \\, m^{2} t w + 240 \\, m t^{2} w + 120 \\, t^{3} w + 600 \\, m^{2} w^{2} + 1080 \\, m t w^{2} + 600 \\, t^{2} w^{2} + 960 \\, m w^{3} + 960 \\, t w^{3} + 480 \\, w^{4}}{1440 \\, m^{2} t^{2}}</script></html>"
      ],
      "text/latex": [
       "$$\\newcommand{\\Bold}[1]{\\mathbf{#1}}\\frac{3 \\, m^{4} - 55 \\, m^{2} t^{2} + 3 \\, t^{4} + 120 \\, m^{3} w + 240 \\, m^{2} t w + 240 \\, m t^{2} w + 120 \\, t^{3} w + 600 \\, m^{2} w^{2} + 1080 \\, m t w^{2} + 600 \\, t^{2} w^{2} + 960 \\, m w^{3} + 960 \\, t w^{3} + 480 \\, w^{4}}{1440 \\, m^{2} t^{2}}$$"
      ],
      "text/plain": [
       "1/1440*(3*m^4 - 55*m^2*t^2 + 3*t^4 + 120*m^3*w + 240*m^2*t*w + 240*m*t^2*w + 120*t^3*w + 600*m^2*w^2 + 1080*m*t*w^2 + 600*t^2*w^2 + 960*m*w^3 + 960*t*w^3 + 480*w^4)/(m^2*t^2)"
      ]
     },
     "execution_count": 53,
     "metadata": {},
     "output_type": "execute_result"
    }
   ],
   "source": [
    "deg0(Verlinde_Num(2)(x=exp(t),y=exp(m)))"
   ]
  },
  {
   "cell_type": "code",
   "execution_count": 54,
   "metadata": {
    "scrolled": true
   },
   "outputs": [
    {
     "data": {
      "text/html": [
       "<html><script type=\"math/tex; mode=display\">\\newcommand{\\Bold}[1]{\\mathbf{#1}}\\frac{3 \\, m^{4} - 55 \\, m^{2} t^{2} + 3 \\, t^{4} + 120 \\, m^{3} w + 240 \\, m^{2} t w + 240 \\, m t^{2} w + 120 \\, t^{3} w + 600 \\, m^{2} w^{2} + 1080 \\, m t w^{2} + 600 \\, t^{2} w^{2} + 960 \\, m w^{3} + 960 \\, t w^{3} + 480 \\, w^{4}}{1440 \\, m^{2} t^{2}}</script></html>"
      ],
      "text/latex": [
       "$$\\newcommand{\\Bold}[1]{\\mathbf{#1}}\\frac{3 \\, m^{4} - 55 \\, m^{2} t^{2} + 3 \\, t^{4} + 120 \\, m^{3} w + 240 \\, m^{2} t w + 240 \\, m t^{2} w + 120 \\, t^{3} w + 600 \\, m^{2} w^{2} + 1080 \\, m t w^{2} + 600 \\, t^{2} w^{2} + 960 \\, m w^{3} + 960 \\, t w^{3} + 480 \\, w^{4}}{1440 \\, m^{2} t^{2}}$$"
      ],
      "text/plain": [
       "1/1440*(3*m^4 - 55*m^2*t^2 + 3*t^4 + 120*m^3*w + 240*m^2*t*w + 240*m*t^2*w + 120*t^3*w + 600*m^2*w^2 + 1080*m*t*w^2 + 600*t^2*w^2 + 960*m*w^3 + 960*t*w^3 + 480*w^4)/(m^2*t^2)"
      ]
     },
     "execution_count": 54,
     "metadata": {},
     "output_type": "execute_result"
    }
   ],
   "source": [
    "deg0(((chi)*(chi-1)/2)(x=exp(t),y=exp(m)))"
   ]
  },
  {
   "cell_type": "markdown",
   "metadata": {},
   "source": [
    "They do not match as K-theory invariants, but do match when we convert to cohomological and restrict to degree 0 (i.e. equivariant pushforward to a point)."
   ]
  },
  {
   "cell_type": "code",
   "execution_count": 689,
   "metadata": {},
   "outputs": [
    {
     "data": {
      "text/html": [
       "<html><script type=\"math/tex; mode=display\">\\newcommand{\\Bold}[1]{\\mathbf{#1}}-\\frac{64 \\, m^{6} + 189 \\, m^{5} t + 252 \\, m^{4} t^{2} - 7245 \\, m^{3} t^{3} + 252 \\, m^{2} t^{4} + 189 \\, m t^{5} + 64 \\, t^{6} - 1134 \\, m^{5} w + 8694 \\, m^{4} t w + 22680 \\, m^{3} t^{2} w + 22680 \\, m^{2} t^{3} w + 8694 \\, m t^{4} w - 1134 \\, t^{5} w - 21546 \\, m^{4} w^{2} - 1890 \\, m^{3} t w^{2} + 30240 \\, m^{2} t^{2} w^{2} - 1890 \\, m t^{3} w^{2} - 21546 \\, t^{4} w^{2} - 102060 \\, m^{3} w^{3} - 166320 \\, m^{2} t w^{3} - 166320 \\, m t^{2} w^{3} - 102060 \\, t^{3} w^{3} - 204120 \\, m^{2} w^{4} - 338310 \\, m t w^{4} - 204120 \\, t^{2} w^{4} - 183708 \\, m w^{5} - 183708 \\, t w^{5} - 61236 \\, w^{6}}{362880 \\, m^{3} t^{3}}</script></html>"
      ],
      "text/latex": [
       "$$\\newcommand{\\Bold}[1]{\\mathbf{#1}}-\\frac{64 \\, m^{6} + 189 \\, m^{5} t + 252 \\, m^{4} t^{2} - 7245 \\, m^{3} t^{3} + 252 \\, m^{2} t^{4} + 189 \\, m t^{5} + 64 \\, t^{6} - 1134 \\, m^{5} w + 8694 \\, m^{4} t w + 22680 \\, m^{3} t^{2} w + 22680 \\, m^{2} t^{3} w + 8694 \\, m t^{4} w - 1134 \\, t^{5} w - 21546 \\, m^{4} w^{2} - 1890 \\, m^{3} t w^{2} + 30240 \\, m^{2} t^{2} w^{2} - 1890 \\, m t^{3} w^{2} - 21546 \\, t^{4} w^{2} - 102060 \\, m^{3} w^{3} - 166320 \\, m^{2} t w^{3} - 166320 \\, m t^{2} w^{3} - 102060 \\, t^{3} w^{3} - 204120 \\, m^{2} w^{4} - 338310 \\, m t w^{4} - 204120 \\, t^{2} w^{4} - 183708 \\, m w^{5} - 183708 \\, t w^{5} - 61236 \\, w^{6}}{362880 \\, m^{3} t^{3}}$$"
      ],
      "text/plain": [
       "-1/362880*(64*m^6 + 189*m^5*t + 252*m^4*t^2 - 7245*m^3*t^3 + 252*m^2*t^4 + 189*m*t^5 + 64*t^6 - 1134*m^5*w + 8694*m^4*t*w + 22680*m^3*t^2*w + 22680*m^2*t^3*w + 8694*m*t^4*w - 1134*t^5*w - 21546*m^4*w^2 - 1890*m^3*t*w^2 + 30240*m^2*t^2*w^2 - 1890*m*t^3*w^2 - 21546*t^4*w^2 - 102060*m^3*w^3 - 166320*m^2*t*w^3 - 166320*m*t^2*w^3 - 102060*t^3*w^3 - 204120*m^2*w^4 - 338310*m*t*w^4 - 204120*t^2*w^4 - 183708*m*w^5 - 183708*t*w^5 - 61236*w^6)/(m^3*t^3)"
      ]
     },
     "execution_count": 689,
     "metadata": {},
     "output_type": "execute_result"
    }
   ],
   "source": [
    "deg0((chi*(chi-1)*(chi-2)/6)(x=exp(t),y=exp(m)))"
   ]
  },
  {
   "cell_type": "code",
   "execution_count": 690,
   "metadata": {
    "scrolled": true
   },
   "outputs": [
    {
     "data": {
      "text/html": [
       "<html><script type=\"math/tex; mode=display\">\\newcommand{\\Bold}[1]{\\mathbf{#1}}-\\frac{32 \\, m^{6} - 189 \\, m^{5} t + 1071 \\, m^{4} t^{2} - 315 \\, m^{3} t^{3} + 1071 \\, m^{2} t^{4} - 189 \\, m t^{5} + 32 \\, t^{6} - 567 \\, m^{5} w + 6237 \\, m^{4} t w + 29295 \\, m^{3} t^{2} w + 29295 \\, m^{2} t^{3} w + 6237 \\, m t^{4} w - 567 \\, t^{5} w - 10773 \\, m^{4} w^{2} + 17010 \\, m^{3} t w^{2} + 63315 \\, m^{2} t^{2} w^{2} + 17010 \\, m t^{3} w^{2} - 10773 \\, t^{4} w^{2} - 51030 \\, m^{3} w^{3} - 51030 \\, m^{2} t w^{3} - 51030 \\, m t^{2} w^{3} - 51030 \\, t^{3} w^{3} - 102060 \\, m^{2} w^{4} - 153090 \\, m t w^{4} - 102060 \\, t^{2} w^{4} - 91854 \\, m w^{5} - 91854 \\, t w^{5} - 30618 \\, w^{6}}{181440 \\, m^{3} t^{3}}</script></html>"
      ],
      "text/latex": [
       "$$\\newcommand{\\Bold}[1]{\\mathbf{#1}}-\\frac{32 \\, m^{6} - 189 \\, m^{5} t + 1071 \\, m^{4} t^{2} - 315 \\, m^{3} t^{3} + 1071 \\, m^{2} t^{4} - 189 \\, m t^{5} + 32 \\, t^{6} - 567 \\, m^{5} w + 6237 \\, m^{4} t w + 29295 \\, m^{3} t^{2} w + 29295 \\, m^{2} t^{3} w + 6237 \\, m t^{4} w - 567 \\, t^{5} w - 10773 \\, m^{4} w^{2} + 17010 \\, m^{3} t w^{2} + 63315 \\, m^{2} t^{2} w^{2} + 17010 \\, m t^{3} w^{2} - 10773 \\, t^{4} w^{2} - 51030 \\, m^{3} w^{3} - 51030 \\, m^{2} t w^{3} - 51030 \\, m t^{2} w^{3} - 51030 \\, t^{3} w^{3} - 102060 \\, m^{2} w^{4} - 153090 \\, m t w^{4} - 102060 \\, t^{2} w^{4} - 91854 \\, m w^{5} - 91854 \\, t w^{5} - 30618 \\, w^{6}}{181440 \\, m^{3} t^{3}}$$"
      ],
      "text/plain": [
       "-1/181440*(32*m^6 - 189*m^5*t + 1071*m^4*t^2 - 315*m^3*t^3 + 1071*m^2*t^4 - 189*m*t^5 + 32*t^6 - 567*m^5*w + 6237*m^4*t*w + 29295*m^3*t^2*w + 29295*m^2*t^3*w + 6237*m*t^4*w - 567*t^5*w - 10773*m^4*w^2 + 17010*m^3*t*w^2 + 63315*m^2*t^2*w^2 + 17010*m*t^3*w^2 - 10773*t^4*w^2 - 51030*m^3*w^3 - 51030*m^2*t*w^3 - 51030*m*t^2*w^3 - 51030*t^3*w^3 - 102060*m^2*w^4 - 153090*m*t*w^4 - 102060*t^2*w^4 - 91854*m*w^5 - 91854*t*w^5 - 30618*w^6)/(m^3*t^3)"
      ]
     },
     "execution_count": 690,
     "metadata": {},
     "output_type": "execute_result"
    }
   ],
   "source": [
    "deg0(Verlinde_Num(3)(x=exp(t),y=exp(m)))"
   ]
  },
  {
   "cell_type": "markdown",
   "metadata": {},
   "source": [
    "No match in $n=3$."
   ]
  },
  {
   "cell_type": "code",
   "execution_count": 196,
   "metadata": {},
   "outputs": [
    {
     "data": {
      "text/html": [
       "<html><script type=\"math/tex; mode=display\">\\newcommand{\\Bold}[1]{\\mathbf{#1}}\\frac{3 \\, m^{4} - 10 \\, m^{3} t - 35 \\, m^{2} t^{2} - 10 \\, m t^{3} + 3 \\, t^{4} - 20 \\, m^{3} w - 190 \\, m^{2} t w - 190 \\, m t^{2} w - 20 \\, t^{3} w - 190 \\, m^{2} w^{2} - 510 \\, m t w^{2} - 190 \\, t^{2} w^{2} - 340 \\, m w^{3} - 340 \\, t w^{3} - 170 \\, w^{4}}{1920 \\, m^{2} t^{2}}</script></html>"
      ],
      "text/latex": [
       "$$\\newcommand{\\Bold}[1]{\\mathbf{#1}}\\frac{3 \\, m^{4} - 10 \\, m^{3} t - 35 \\, m^{2} t^{2} - 10 \\, m t^{3} + 3 \\, t^{4} - 20 \\, m^{3} w - 190 \\, m^{2} t w - 190 \\, m t^{2} w - 20 \\, t^{3} w - 190 \\, m^{2} w^{2} - 510 \\, m t w^{2} - 190 \\, t^{2} w^{2} - 340 \\, m w^{3} - 340 \\, t w^{3} - 170 \\, w^{4}}{1920 \\, m^{2} t^{2}}$$"
      ],
      "text/plain": [
       "1/1920*(3*m^4 - 10*m^3*t - 35*m^2*t^2 - 10*m*t^3 + 3*t^4 - 20*m^3*w - 190*m^2*t*w - 190*m*t^2*w - 20*t^3*w - 190*m^2*w^2 - 510*m*t*w^2 - 190*t^2*w^2 - 340*m*w^3 - 340*t*w^3 - 170*w^4)/(m^2*t^2)"
      ]
     },
     "execution_count": 196,
     "metadata": {},
     "output_type": "execute_result"
    }
   ],
   "source": [
    "pretty(deg0(Verlinde_Num(3)(x=exp(t),y=exp(m)))-deg0((chi*(chi-1)*(chi-2)/6)(x=exp(t),y=exp(m))))"
   ]
  },
  {
   "cell_type": "code",
   "execution_count": 326,
   "metadata": {},
   "outputs": [
    {
     "data": {
      "text/html": [
       "<html><script type=\"math/tex; mode=display\">\\newcommand{\\Bold}[1]{\\mathbf{#1}}-\\frac{14310 \\, m^{8} + 230450 \\, m^{7} t - 1538820 \\, m^{6} t^{2} + 8624175 \\, m^{5} t^{3} + 33251274 \\, m^{4} t^{4} + 8624175 \\, m^{3} t^{5} - 1538820 \\, m^{2} t^{6} + 230450 \\, m t^{7} + 14310 \\, t^{8} - 223560 \\, m^{7} w + 6413520 \\, m^{6} t w + 6527430 \\, m^{5} t^{2} w + 100906260 \\, m^{4} t^{3} w + 100906260 \\, m^{3} t^{4} w + 6527430 \\, m^{2} t^{5} w + 6413520 \\, m t^{6} w - 223560 \\, t^{7} w - 1968840 \\, m^{6} w^{2} - 9919350 \\, m^{5} t w^{2} - 104199480 \\, m^{4} t^{2} w^{2} - 77541450 \\, m^{3} t^{3} w^{2} - 104199480 \\, m^{2} t^{4} w^{2} - 9919350 \\, m t^{5} w^{2} - 1968840 \\, t^{6} w^{2} + 10652040 \\, m^{5} w^{3} - 136993080 \\, m^{4} t w^{3} - 571382700 \\, m^{3} t^{2} w^{3} - 571382700 \\, m^{2} t^{3} w^{3} - 136993080 \\, m t^{4} w^{3} + 10652040 \\, t^{5} w^{3} + 110062260 \\, m^{4} w^{4} - 100087050 \\, m^{3} t w^{4} - 473870250 \\, m^{2} t^{2} w^{4} - 100087050 \\, m t^{3} w^{4} + 110062260 \\, t^{4} w^{4} + 319946760 \\, m^{3} w^{5} + 425588940 \\, m^{2} t w^{5} + 425588940 \\, m t^{2} w^{5} + 319946760 \\, t^{3} w^{5} + 430421040 \\, m^{2} w^{6} + 682758300 \\, m t w^{6} + 430421040 \\, t^{2} w^{6} + 277518960 \\, m w^{7} + 277518960 \\, t w^{7} + 69379740 \\, w^{8}}{1045094400 \\, m^{4} t^{4}}</script></html>"
      ],
      "text/latex": [
       "$$\\newcommand{\\Bold}[1]{\\mathbf{#1}}-\\frac{14310 \\, m^{8} + 230450 \\, m^{7} t - 1538820 \\, m^{6} t^{2} + 8624175 \\, m^{5} t^{3} + 33251274 \\, m^{4} t^{4} + 8624175 \\, m^{3} t^{5} - 1538820 \\, m^{2} t^{6} + 230450 \\, m t^{7} + 14310 \\, t^{8} - 223560 \\, m^{7} w + 6413520 \\, m^{6} t w + 6527430 \\, m^{5} t^{2} w + 100906260 \\, m^{4} t^{3} w + 100906260 \\, m^{3} t^{4} w + 6527430 \\, m^{2} t^{5} w + 6413520 \\, m t^{6} w - 223560 \\, t^{7} w - 1968840 \\, m^{6} w^{2} - 9919350 \\, m^{5} t w^{2} - 104199480 \\, m^{4} t^{2} w^{2} - 77541450 \\, m^{3} t^{3} w^{2} - 104199480 \\, m^{2} t^{4} w^{2} - 9919350 \\, m t^{5} w^{2} - 1968840 \\, t^{6} w^{2} + 10652040 \\, m^{5} w^{3} - 136993080 \\, m^{4} t w^{3} - 571382700 \\, m^{3} t^{2} w^{3} - 571382700 \\, m^{2} t^{3} w^{3} - 136993080 \\, m t^{4} w^{3} + 10652040 \\, t^{5} w^{3} + 110062260 \\, m^{4} w^{4} - 100087050 \\, m^{3} t w^{4} - 473870250 \\, m^{2} t^{2} w^{4} - 100087050 \\, m t^{3} w^{4} + 110062260 \\, t^{4} w^{4} + 319946760 \\, m^{3} w^{5} + 425588940 \\, m^{2} t w^{5} + 425588940 \\, m t^{2} w^{5} + 319946760 \\, t^{3} w^{5} + 430421040 \\, m^{2} w^{6} + 682758300 \\, m t w^{6} + 430421040 \\, t^{2} w^{6} + 277518960 \\, m w^{7} + 277518960 \\, t w^{7} + 69379740 \\, w^{8}}{1045094400 \\, m^{4} t^{4}}$$"
      ],
      "text/plain": [
       "-1/1045094400*(14310*m^8 + 230450*m^7*t - 1538820*m^6*t^2 + 8624175*m^5*t^3 + 33251274*m^4*t^4 + 8624175*m^3*t^5 - 1538820*m^2*t^6 + 230450*m*t^7 + 14310*t^8 - 223560*m^7*w + 6413520*m^6*t*w + 6527430*m^5*t^2*w + 100906260*m^4*t^3*w + 100906260*m^3*t^4*w + 6527430*m^2*t^5*w + 6413520*m*t^6*w - 223560*t^7*w - 1968840*m^6*w^2 - 9919350*m^5*t*w^2 - 104199480*m^4*t^2*w^2 - 77541450*m^3*t^3*w^2 - 104199480*m^2*t^4*w^2 - 9919350*m*t^5*w^2 - 1968840*t^6*w^2 + 10652040*m^5*w^3 - 136993080*m^4*t*w^3 - 571382700*m^3*t^2*w^3 - 571382700*m^2*t^3*w^3 - 136993080*m*t^4*w^3 + 10652040*t^5*w^3 + 110062260*m^4*w^4 - 100087050*m^3*t*w^4 - 473870250*m^2*t^2*w^4 - 100087050*m*t^3*w^4 + 110062260*t^4*w^4 + 319946760*m^3*w^5 + 425588940*m^2*t*w^5 + 425588940*m*t^2*w^5 + 319946760*t^3*w^5 + 430421040*m^2*w^6 + 682758300*m*t*w^6 + 430421040*t^2*w^6 + 277518960*m*w^7 + 277518960*t*w^7 + 69379740*w^8)/(m^4*t^4)"
      ]
     },
     "execution_count": 326,
     "metadata": {},
     "output_type": "execute_result"
    }
   ],
   "source": [
    "pretty(deg0(Verlinde_Num(5)(x=exp(t),y=exp(m)))-deg0((chi*(chi-1)*(chi-2)*(chi-3)*(chi-4)/120)(x=exp(t),y=exp(m))))"
   ]
  },
  {
   "cell_type": "code",
   "execution_count": 329,
   "metadata": {},
   "outputs": [
    {
     "data": {
      "text/html": [
       "<html><script type=\"math/tex; mode=display\">\\newcommand{\\Bold}[1]{\\mathbf{#1}}-\\frac{6621750 \\, m^{10} - 458264125 \\, m^{9} t - 879623250 \\, m^{8} t^{2} + 1020093206 \\, m^{7} t^{3} - 73367964450 \\, m^{6} t^{4} - 241663954455 \\, m^{5} t^{5} - 73367964450 \\, m^{4} t^{6} + 1020093206 \\, m^{3} t^{7} - 879623250 \\, m^{2} t^{8} - 458264125 \\, m t^{9} + 6621750 \\, t^{10} + 89496000 \\, m^{9} w + 641124000 \\, m^{8} t w - 68563440000 \\, m^{7} t^{2} w - 85753859400 \\, m^{6} t^{3} w - 510410965680 \\, m^{5} t^{4} w - 510410965680 \\, m^{4} t^{5} w - 85753859400 \\, m^{3} t^{6} w - 68563440000 \\, m^{2} t^{7} w + 641124000 \\, m t^{8} w + 89496000 \\, t^{9} w - 895554000 \\, m^{8} w^{2} + 38902644000 \\, m^{7} t w^{2} + 30891069000 \\, m^{6} t^{2} w^{2} + 1236822907320 \\, m^{5} t^{3} w^{2} + 1891811081160 \\, m^{4} t^{4} w^{2} + 1236822907320 \\, m^{3} t^{5} w^{2} + 30891069000 \\, m^{2} t^{6} w^{2} + 38902644000 \\, m t^{7} w^{2} - 895554000 \\, t^{8} w^{2} - 5934852000 \\, m^{7} w^{3} - 58679082000 \\, m^{6} t w^{3} + 612610614000 \\, m^{5} t^{2} w^{3} + 4518397477440 \\, m^{4} t^{3} w^{3} + 4518397477440 \\, m^{3} t^{4} w^{3} + 612610614000 \\, m^{2} t^{5} w^{3} - 58679082000 \\, m t^{6} w^{3} - 5934852000 \\, t^{7} w^{3} + 43184295000 \\, m^{6} w^{4} - 1178355717000 \\, m^{5} t w^{4} - 1884322440000 \\, m^{4} t^{2} w^{4} - 111207761280 \\, m^{3} t^{3} w^{4} - 1884322440000 \\, m^{2} t^{4} w^{4} - 1178355717000 \\, m t^{5} w^{4} + 43184295000 \\, t^{6} w^{4} + 424256540400 \\, m^{5} w^{5} - 2827107360000 \\, m^{4} t w^{5} - 7235044740000 \\, m^{3} t^{2} w^{5} - 7235044740000 \\, m^{2} t^{3} w^{5} - 2827107360000 \\, m t^{4} w^{5} + 424256540400 \\, t^{5} w^{5} + 1391898816000 \\, m^{4} w^{6} - 1471397004000 \\, m^{3} t w^{6} - 4604071626000 \\, m^{2} t^{2} w^{6} - 1471397004000 \\, m t^{3} w^{6} + 1391898816000 \\, t^{4} w^{6} + 2343218328000 \\, m^{3} w^{7} + 2410058772000 \\, m^{2} t w^{7} + 2410058772000 \\, m t^{2} w^{7} + 2343218328000 \\, t^{3} w^{7} + 2175027525000 \\, m^{2} w^{8} + 3195155997000 \\, m t w^{8} + 2175027525000 \\, t^{2} w^{8} + 1059481962000 \\, m w^{9} + 1059481962000 \\, t w^{9} + 211896392400 \\, w^{10}}{6897623040000 \\, m^{5} t^{5}}</script></html>"
      ],
      "text/latex": [
       "$$\\newcommand{\\Bold}[1]{\\mathbf{#1}}-\\frac{6621750 \\, m^{10} - 458264125 \\, m^{9} t - 879623250 \\, m^{8} t^{2} + 1020093206 \\, m^{7} t^{3} - 73367964450 \\, m^{6} t^{4} - 241663954455 \\, m^{5} t^{5} - 73367964450 \\, m^{4} t^{6} + 1020093206 \\, m^{3} t^{7} - 879623250 \\, m^{2} t^{8} - 458264125 \\, m t^{9} + 6621750 \\, t^{10} + 89496000 \\, m^{9} w + 641124000 \\, m^{8} t w - 68563440000 \\, m^{7} t^{2} w - 85753859400 \\, m^{6} t^{3} w - 510410965680 \\, m^{5} t^{4} w - 510410965680 \\, m^{4} t^{5} w - 85753859400 \\, m^{3} t^{6} w - 68563440000 \\, m^{2} t^{7} w + 641124000 \\, m t^{8} w + 89496000 \\, t^{9} w - 895554000 \\, m^{8} w^{2} + 38902644000 \\, m^{7} t w^{2} + 30891069000 \\, m^{6} t^{2} w^{2} + 1236822907320 \\, m^{5} t^{3} w^{2} + 1891811081160 \\, m^{4} t^{4} w^{2} + 1236822907320 \\, m^{3} t^{5} w^{2} + 30891069000 \\, m^{2} t^{6} w^{2} + 38902644000 \\, m t^{7} w^{2} - 895554000 \\, t^{8} w^{2} - 5934852000 \\, m^{7} w^{3} - 58679082000 \\, m^{6} t w^{3} + 612610614000 \\, m^{5} t^{2} w^{3} + 4518397477440 \\, m^{4} t^{3} w^{3} + 4518397477440 \\, m^{3} t^{4} w^{3} + 612610614000 \\, m^{2} t^{5} w^{3} - 58679082000 \\, m t^{6} w^{3} - 5934852000 \\, t^{7} w^{3} + 43184295000 \\, m^{6} w^{4} - 1178355717000 \\, m^{5} t w^{4} - 1884322440000 \\, m^{4} t^{2} w^{4} - 111207761280 \\, m^{3} t^{3} w^{4} - 1884322440000 \\, m^{2} t^{4} w^{4} - 1178355717000 \\, m t^{5} w^{4} + 43184295000 \\, t^{6} w^{4} + 424256540400 \\, m^{5} w^{5} - 2827107360000 \\, m^{4} t w^{5} - 7235044740000 \\, m^{3} t^{2} w^{5} - 7235044740000 \\, m^{2} t^{3} w^{5} - 2827107360000 \\, m t^{4} w^{5} + 424256540400 \\, t^{5} w^{5} + 1391898816000 \\, m^{4} w^{6} - 1471397004000 \\, m^{3} t w^{6} - 4604071626000 \\, m^{2} t^{2} w^{6} - 1471397004000 \\, m t^{3} w^{6} + 1391898816000 \\, t^{4} w^{6} + 2343218328000 \\, m^{3} w^{7} + 2410058772000 \\, m^{2} t w^{7} + 2410058772000 \\, m t^{2} w^{7} + 2343218328000 \\, t^{3} w^{7} + 2175027525000 \\, m^{2} w^{8} + 3195155997000 \\, m t w^{8} + 2175027525000 \\, t^{2} w^{8} + 1059481962000 \\, m w^{9} + 1059481962000 \\, t w^{9} + 211896392400 \\, w^{10}}{6897623040000 \\, m^{5} t^{5}}$$"
      ],
      "text/plain": [
       "-1/6897623040000*(6621750*m^10 - 458264125*m^9*t - 879623250*m^8*t^2 + 1020093206*m^7*t^3 - 73367964450*m^6*t^4 - 241663954455*m^5*t^5 - 73367964450*m^4*t^6 + 1020093206*m^3*t^7 - 879623250*m^2*t^8 - 458264125*m*t^9 + 6621750*t^10 + 89496000*m^9*w + 641124000*m^8*t*w - 68563440000*m^7*t^2*w - 85753859400*m^6*t^3*w - 510410965680*m^5*t^4*w - 510410965680*m^4*t^5*w - 85753859400*m^3*t^6*w - 68563440000*m^2*t^7*w + 641124000*m*t^8*w + 89496000*t^9*w - 895554000*m^8*w^2 + 38902644000*m^7*t*w^2 + 30891069000*m^6*t^2*w^2 + 1236822907320*m^5*t^3*w^2 + 1891811081160*m^4*t^4*w^2 + 1236822907320*m^3*t^5*w^2 + 30891069000*m^2*t^6*w^2 + 38902644000*m*t^7*w^2 - 895554000*t^8*w^2 - 5934852000*m^7*w^3 - 58679082000*m^6*t*w^3 + 612610614000*m^5*t^2*w^3 + 4518397477440*m^4*t^3*w^3 + 4518397477440*m^3*t^4*w^3 + 612610614000*m^2*t^5*w^3 - 58679082000*m*t^6*w^3 - 5934852000*t^7*w^3 + 43184295000*m^6*w^4 - 1178355717000*m^5*t*w^4 - 1884322440000*m^4*t^2*w^4 - 111207761280*m^3*t^3*w^4 - 1884322440000*m^2*t^4*w^4 - 1178355717000*m*t^5*w^4 + 43184295000*t^6*w^4 + 424256540400*m^5*w^5 - 2827107360000*m^4*t*w^5 - 7235044740000*m^3*t^2*w^5 - 7235044740000*m^2*t^3*w^5 - 2827107360000*m*t^4*w^5 + 424256540400*t^5*w^5 + 1391898816000*m^4*w^6 - 1471397004000*m^3*t*w^6 - 4604071626000*m^2*t^2*w^6 - 1471397004000*m*t^3*w^6 + 1391898816000*t^4*w^6 + 2343218328000*m^3*w^7 + 2410058772000*m^2*t*w^7 + 2410058772000*m*t^2*w^7 + 2343218328000*t^3*w^7 + 2175027525000*m^2*w^8 + 3195155997000*m*t*w^8 + 2175027525000*t^2*w^8 + 1059481962000*m*w^9 + 1059481962000*t*w^9 + 211896392400*w^10)/(m^5*t^5)"
      ]
     },
     "execution_count": 329,
     "metadata": {},
     "output_type": "execute_result"
    }
   ],
   "source": [
    "pretty(deg0(Verlinde_Num(6)(x=exp(t),y=exp(m)))-deg0((chi*(chi-1)*(chi-2)*(chi-3)*(chi-4)*(chi-5)/720)(x=exp(t),y=exp(m))))"
   ]
  },
  {
   "cell_type": "markdown",
   "metadata": {},
   "source": [
    "The terms containing $mt$ in the numerator do not match, which means the difference is a rational polynomial with denominator $m^2t^2$, whereas the invariants have demonimator $m^3t^3$. This suggests we are missing some universal series with exponents being $\\int_{S^{[n]}}c_2(S)=tm/tm$.\n",
    "\n",
    "ALSO, here I am treating the exponent as K-theoretic class, and taking degree 0 after everything. This does not agree with the proof in which we convert the exponent to cohomological classes first."
   ]
  },
  {
   "cell_type": "markdown",
   "metadata": {},
   "source": [
    "# Virtual invariants"
   ]
  },
  {
   "cell_type": "markdown",
   "metadata": {},
   "source": [
    "Compare with universal series from [Khilb], which claims\n",
    "$$\\sum q^n\\int_{[S^{[n]}]^{\\text{vir}}}c(L^{[n]})=(1-z)^{-c_1(L)K}=(1-z)^{(m+t)w/mt} $$\n",
    "for\n",
    "$$q=\\frac{z}{z-1} $$"
   ]
  },
  {
   "cell_type": "code",
   "execution_count": 71,
   "metadata": {},
   "outputs": [
    {
     "data": {
      "text/html": [
       "<html><script type=\"math/tex; mode=display\">\\newcommand{\\Bold}[1]{\\mathbf{#1}}\\frac{{\\left(m t + m w + t w\\right)} {\\left(m + t\\right)} w}{2 \\, m^{2} t^{2}}</script></html>"
      ],
      "text/latex": [
       "$$\\newcommand{\\Bold}[1]{\\mathbf{#1}}\\frac{{\\left(m t + m w + t w\\right)} {\\left(m + t\\right)} w}{2 \\, m^{2} t^{2}}$$"
      ],
      "text/plain": [
       "1/2*(m*t + m*w + t*w)*(m + t)*w/(m^2*t^2)"
      ]
     },
     "execution_count": 71,
     "metadata": {},
     "output_type": "execute_result"
    }
   ],
   "source": [
    "deg0(Chern_Num_vir(2))"
   ]
  },
  {
   "cell_type": "code",
   "execution_count": 25,
   "metadata": {},
   "outputs": [
    {
     "data": {
      "text/html": [
       "<html><script type=\"math/tex; mode=display\">\\newcommand{\\Bold}[1]{\\mathbf{#1}}\\frac{{\\left(2 \\, m t + m w + t w\\right)} {\\left(m t + m w + t w\\right)} {\\left(m + t\\right)} w}{6 \\, m^{3} t^{3}}</script></html>"
      ],
      "text/latex": [
       "$$\\newcommand{\\Bold}[1]{\\mathbf{#1}}\\frac{{\\left(2 \\, m t + m w + t w\\right)} {\\left(m t + m w + t w\\right)} {\\left(m + t\\right)} w}{6 \\, m^{3} t^{3}}$$"
      ],
      "text/plain": [
       "1/6*(2*m*t + m*w + t*w)*(m*t + m*w + t*w)*(m + t)*w/(m^3*t^3)"
      ]
     },
     "execution_count": 25,
     "metadata": {},
     "output_type": "execute_result"
    }
   ],
   "source": [
    "deg0(Chern_Num_vir(3))"
   ]
  },
  {
   "cell_type": "code",
   "execution_count": 48,
   "metadata": {},
   "outputs": [],
   "source": [
    "def var_change(k):\n",
    "    return degn(pretty(sum(deg0(Chern_Num_vir(i))*b^i for i in range(1,k+1)))(b=-b/(1-b)),k)"
   ]
  },
  {
   "cell_type": "code",
   "execution_count": 49,
   "metadata": {},
   "outputs": [
    {
     "data": {
      "text/html": [
       "<html><script type=\"math/tex; mode=display\">\\newcommand{\\Bold}[1]{\\mathbf{#1}}-\\frac{{\\left(m + t\\right)} w}{m t}</script></html>"
      ],
      "text/latex": [
       "$$\\newcommand{\\Bold}[1]{\\mathbf{#1}}-\\frac{{\\left(m + t\\right)} w}{m t}$$"
      ],
      "text/plain": [
       "-(m + t)*w/(m*t)"
      ]
     },
     "execution_count": 49,
     "metadata": {},
     "output_type": "execute_result"
    }
   ],
   "source": [
    "pretty(var_change(1))"
   ]
  },
  {
   "cell_type": "code",
   "execution_count": 51,
   "metadata": {},
   "outputs": [
    {
     "data": {
      "text/html": [
       "<html><script type=\"math/tex; mode=display\">\\newcommand{\\Bold}[1]{\\mathbf{#1}}-\\frac{{\\left(m t - m w - t w\\right)} {\\left(m + t\\right)} w}{2 \\, m^{2} t^{2}}</script></html>"
      ],
      "text/latex": [
       "$$\\newcommand{\\Bold}[1]{\\mathbf{#1}}-\\frac{{\\left(m t - m w - t w\\right)} {\\left(m + t\\right)} w}{2 \\, m^{2} t^{2}}$$"
      ],
      "text/plain": [
       "-1/2*(m*t - m*w - t*w)*(m + t)*w/(m^2*t^2)"
      ]
     },
     "execution_count": 51,
     "metadata": {},
     "output_type": "execute_result"
    }
   ],
   "source": [
    "pretty(var_change(2))"
   ]
  },
  {
   "cell_type": "markdown",
   "metadata": {},
   "source": [
    "Equality holds."
   ]
  },
  {
   "cell_type": "markdown",
   "metadata": {},
   "source": [
    "For Verlinde, we have\n",
    "$$\\sum q^n\\chi(\\det(\\alpha^{[n]}))=(e^{z})^{-c_1(L)K}$$\n",
    "for $\\alpha=-L$ rank $-1$ and \n",
    "$$q=e^{-z}-1$$\n",
    "\n",
    "So\n",
    "$$(e^{z})^{c_1(L)K}=(1+q)^{c_1(L)K}=(1+q)^{-(m+t)w/mt}$$"
   ]
  },
  {
   "cell_type": "code",
   "execution_count": 18,
   "metadata": {},
   "outputs": [],
   "source": [
    "chi=Verlinde_Num_vir_inv(1)\n",
    "chi=deg0(Verlinde_Num_vir_inv(1)(x=exp(t),y=exp(m)))"
   ]
  },
  {
   "cell_type": "code",
   "execution_count": 5,
   "metadata": {},
   "outputs": [
    {
     "data": {
      "text/html": [
       "<html><script type=\"math/tex; mode=display\">\\newcommand{\\Bold}[1]{\\mathbf{#1}}-\\frac{{\\left(m + t\\right)} w}{m t}</script></html>"
      ],
      "text/latex": [
       "$$\\newcommand{\\Bold}[1]{\\mathbf{#1}}-\\frac{{\\left(m + t\\right)} w}{m t}$$"
      ],
      "text/plain": [
       "-(m + t)*w/(m*t)"
      ]
     },
     "execution_count": 5,
     "metadata": {},
     "output_type": "execute_result"
    }
   ],
   "source": [
    "deg0(Verlinde_Num_vir_inv(1)(x=exp(t),y=exp(m)))"
   ]
  },
  {
   "cell_type": "code",
   "execution_count": 41,
   "metadata": {},
   "outputs": [
    {
     "data": {
      "text/html": [
       "<html><script type=\"math/tex; mode=display\">\\newcommand{\\Bold}[1]{\\mathbf{#1}}-\\frac{{\\left(2 \\, m^{5} t - 13 \\, m^{4} t^{2} - 1010 \\, m^{3} t^{3} - 13 \\, m^{2} t^{4} + 2 \\, m t^{5}\\right)} {\\left(m + t\\right)}^{2}}{8640 \\, m^{4} t^{4}}</script></html>"
      ],
      "text/latex": [
       "$$\\newcommand{\\Bold}[1]{\\mathbf{#1}}-\\frac{{\\left(2 \\, m^{5} t - 13 \\, m^{4} t^{2} - 1010 \\, m^{3} t^{3} - 13 \\, m^{2} t^{4} + 2 \\, m t^{5}\\right)} {\\left(m + t\\right)}^{2}}{8640 \\, m^{4} t^{4}}$$"
      ],
      "text/plain": [
       "-1/8640*(2*m^5*t - 13*m^4*t^2 - 1010*m^3*t^3 - 13*m^2*t^4 + 2*m*t^5)*(m + t)^2/(m^4*t^4)"
      ]
     },
     "execution_count": 41,
     "metadata": {},
     "output_type": "execute_result"
    }
   ],
   "source": [
    "pretty(deg0(Verlinde_Num_vir_inv(4)(x=exp(t),y=exp(m)))-deg0(Chern_Num_vir(4)))(w=0)"
   ]
  },
  {
   "cell_type": "code",
   "execution_count": 48,
   "metadata": {},
   "outputs": [
    {
     "data": {
      "text/html": [
       "<html><script type=\"math/tex; mode=display\">\\newcommand{\\Bold}[1]{\\mathbf{#1}}\\frac{{\\left(19 \\, m^{6} t^{2} - 56 \\, m^{5} t^{3} - 2200 \\, m^{4} t^{4} - 56 \\, m^{3} t^{5} + 19 \\, m^{2} t^{6} + 5 \\, m^{6} t w - 40 \\, m^{5} t^{2} w - 6570 \\, m^{4} t^{3} w - 6570 \\, m^{3} t^{4} w - 40 \\, m^{2} t^{5} w + 5 \\, m t^{6} w - 5250 \\, m^{4} t^{2} w^{2} - 22800 \\, m^{3} t^{3} w^{2} - 5250 \\, m^{2} t^{4} w^{2} - 1250 \\, m^{4} t w^{3} - 29960 \\, m^{3} t^{2} w^{3} - 29960 \\, m^{2} t^{3} w^{3} - 1250 \\, m t^{4} w^{3} - 17310 \\, m^{3} t w^{4} - 34620 \\, m^{2} t^{2} w^{4} - 17310 \\, m t^{3} w^{4} - 3606 \\, m^{3} w^{5} - 10818 \\, m^{2} t w^{5} - 10818 \\, m t^{2} w^{5} - 3606 \\, t^{3} w^{5}\\right)} {\\left(m + t\\right)}^{2}}{17280 \\, m^{5} t^{5}}</script></html>"
      ],
      "text/latex": [
       "$$\\newcommand{\\Bold}[1]{\\mathbf{#1}}\\frac{{\\left(19 \\, m^{6} t^{2} - 56 \\, m^{5} t^{3} - 2200 \\, m^{4} t^{4} - 56 \\, m^{3} t^{5} + 19 \\, m^{2} t^{6} + 5 \\, m^{6} t w - 40 \\, m^{5} t^{2} w - 6570 \\, m^{4} t^{3} w - 6570 \\, m^{3} t^{4} w - 40 \\, m^{2} t^{5} w + 5 \\, m t^{6} w - 5250 \\, m^{4} t^{2} w^{2} - 22800 \\, m^{3} t^{3} w^{2} - 5250 \\, m^{2} t^{4} w^{2} - 1250 \\, m^{4} t w^{3} - 29960 \\, m^{3} t^{2} w^{3} - 29960 \\, m^{2} t^{3} w^{3} - 1250 \\, m t^{4} w^{3} - 17310 \\, m^{3} t w^{4} - 34620 \\, m^{2} t^{2} w^{4} - 17310 \\, m t^{3} w^{4} - 3606 \\, m^{3} w^{5} - 10818 \\, m^{2} t w^{5} - 10818 \\, m t^{2} w^{5} - 3606 \\, t^{3} w^{5}\\right)} {\\left(m + t\\right)}^{2}}{17280 \\, m^{5} t^{5}}$$"
      ],
      "text/plain": [
       "1/17280*(19*m^6*t^2 - 56*m^5*t^3 - 2200*m^4*t^4 - 56*m^3*t^5 + 19*m^2*t^6 + 5*m^6*t*w - 40*m^5*t^2*w - 6570*m^4*t^3*w - 6570*m^3*t^4*w - 40*m^2*t^5*w + 5*m*t^6*w - 5250*m^4*t^2*w^2 - 22800*m^3*t^3*w^2 - 5250*m^2*t^4*w^2 - 1250*m^4*t*w^3 - 29960*m^3*t^2*w^3 - 29960*m^2*t^3*w^3 - 1250*m*t^4*w^3 - 17310*m^3*t*w^4 - 34620*m^2*t^2*w^4 - 17310*m*t^3*w^4 - 3606*m^3*w^5 - 10818*m^2*t*w^5 - 10818*m*t^2*w^5 - 3606*t^3*w^5)*(m + t)^2/(m^5*t^5)"
      ]
     },
     "execution_count": 48,
     "metadata": {},
     "output_type": "execute_result"
    }
   ],
   "source": [
    "pretty(deg0(Verlinde_Num_vir_inv(5)(x=exp(t),y=exp(m)))+deg0(Chern_Num_vir(5)))"
   ]
  },
  {
   "cell_type": "code",
   "execution_count": 11,
   "metadata": {},
   "outputs": [
    {
     "data": {
      "text/html": [
       "<html><script type=\"math/tex; mode=display\">\\newcommand{\\Bold}[1]{\\mathbf{#1}}\\frac{{\\left(m^{2} t + m t^{2} + 6 \\, m t w + 12 \\, m w^{2} + 12 \\, t w^{2}\\right)} {\\left(m + t\\right)}}{12 \\, m^{2} t^{2}}</script></html>"
      ],
      "text/latex": [
       "$$\\newcommand{\\Bold}[1]{\\mathbf{#1}}\\frac{{\\left(m^{2} t + m t^{2} + 6 \\, m t w + 12 \\, m w^{2} + 12 \\, t w^{2}\\right)} {\\left(m + t\\right)}}{12 \\, m^{2} t^{2}}$$"
      ],
      "text/plain": [
       "1/12*(m^2*t + m*t^2 + 6*m*t*w + 12*m*w^2 + 12*t*w^2)*(m + t)/(m^2*t^2)"
      ]
     },
     "execution_count": 11,
     "metadata": {},
     "output_type": "execute_result"
    }
   ],
   "source": [
    "deg0((chi*(chi-1)/2)(x=exp(t),y=exp(m)))"
   ]
  },
  {
   "cell_type": "code",
   "execution_count": 7,
   "metadata": {},
   "outputs": [
    {
     "data": {
      "text/html": [
       "<html><script type=\"math/tex; mode=display\">\\newcommand{\\Bold}[1]{\\mathbf{#1}}\\frac{{\\left(m^{2} t + m t^{2} + 6 \\, m t w + 12 \\, m w^{2} + 12 \\, t w^{2}\\right)} {\\left(m + t\\right)}}{12 \\, m^{2} t^{2}}</script></html>"
      ],
      "text/latex": [
       "$$\\newcommand{\\Bold}[1]{\\mathbf{#1}}\\frac{{\\left(m^{2} t + m t^{2} + 6 \\, m t w + 12 \\, m w^{2} + 12 \\, t w^{2}\\right)} {\\left(m + t\\right)}}{12 \\, m^{2} t^{2}}$$"
      ],
      "text/plain": [
       "1/12*(m^2*t + m*t^2 + 6*m*t*w + 12*m*w^2 + 12*t*w^2)*(m + t)/(m^2*t^2)"
      ]
     },
     "execution_count": 7,
     "metadata": {},
     "output_type": "execute_result"
    }
   ],
   "source": [
    "deg0(Verlinde_Num_vir_inv(2)(x=exp(t),y=exp(m)))"
   ]
  },
  {
   "cell_type": "code",
   "execution_count": 19,
   "metadata": {},
   "outputs": [
    {
     "data": {
      "text/html": [
       "<html><script type=\"math/tex; mode=display\">\\newcommand{\\Bold}[1]{\\mathbf{#1}}-\\frac{{\\left(m t + 6 \\, w^{2}\\right)} {\\left(m + t\\right)}^{2}}{12 \\, m^{2} t^{2}}</script></html>"
      ],
      "text/latex": [
       "$$\\newcommand{\\Bold}[1]{\\mathbf{#1}}-\\frac{{\\left(m t + 6 \\, w^{2}\\right)} {\\left(m + t\\right)}^{2}}{12 \\, m^{2} t^{2}}$$"
      ],
      "text/plain": [
       "-1/12*(m*t + 6*w^2)*(m + t)^2/(m^2*t^2)"
      ]
     },
     "execution_count": 19,
     "metadata": {},
     "output_type": "execute_result"
    }
   ],
   "source": [
    "pretty(deg0((chi*(chi-1)/2)(x=exp(t),y=exp(m)))-deg0(Verlinde_Num_vir_inv(2)(x=exp(t),y=exp(m))))"
   ]
  },
  {
   "cell_type": "code",
   "execution_count": 205,
   "metadata": {},
   "outputs": [
    {
     "data": {
      "text/html": [
       "<html><script type=\"math/tex; mode=display\">\\newcommand{\\Bold}[1]{\\mathbf{#1}}-\\frac{{\\left(m^{2} t + m t^{2} + 4 \\, m t w + 6 \\, m w^{2} + 6 \\, t w^{2}\\right)} {\\left(2 \\, m t + 3 \\, m w + 3 \\, t w\\right)} {\\left(m + t\\right)}}{24 \\, m^{3} t^{3}}</script></html>"
      ],
      "text/latex": [
       "$$\\newcommand{\\Bold}[1]{\\mathbf{#1}}-\\frac{{\\left(m^{2} t + m t^{2} + 4 \\, m t w + 6 \\, m w^{2} + 6 \\, t w^{2}\\right)} {\\left(2 \\, m t + 3 \\, m w + 3 \\, t w\\right)} {\\left(m + t\\right)}}{24 \\, m^{3} t^{3}}$$"
      ],
      "text/plain": [
       "-1/24*(m^2*t + m*t^2 + 4*m*t*w + 6*m*w^2 + 6*t*w^2)*(2*m*t + 3*m*w + 3*t*w)*(m + t)/(m^3*t^3)"
      ]
     },
     "execution_count": 205,
     "metadata": {},
     "output_type": "execute_result"
    }
   ],
   "source": [
    "deg0((chi*(chi-1)*(chi-2)/6)(x=exp(t),y=exp(m)))"
   ]
  },
  {
   "cell_type": "code",
   "execution_count": 13,
   "metadata": {},
   "outputs": [
    {
     "data": {
      "text/html": [
       "<html><script type=\"math/tex; mode=display\">\\newcommand{\\Bold}[1]{\\mathbf{#1}}-\\frac{{\\left(5 \\, m^{3} t^{2} + 5 \\, m^{2} t^{3} + 6 \\, m^{3} t w + 28 \\, m^{2} t^{2} w + 6 \\, m t^{3} w + 54 \\, m^{2} t w^{2} + 54 \\, m t^{2} w^{2} + 36 \\, m^{2} w^{3} + 72 \\, m t w^{3} + 36 \\, t^{2} w^{3}\\right)} {\\left(m + t\\right)}}{48 \\, m^{3} t^{3}}</script></html>"
      ],
      "text/latex": [
       "$$\\newcommand{\\Bold}[1]{\\mathbf{#1}}-\\frac{{\\left(5 \\, m^{3} t^{2} + 5 \\, m^{2} t^{3} + 6 \\, m^{3} t w + 28 \\, m^{2} t^{2} w + 6 \\, m t^{3} w + 54 \\, m^{2} t w^{2} + 54 \\, m t^{2} w^{2} + 36 \\, m^{2} w^{3} + 72 \\, m t w^{3} + 36 \\, t^{2} w^{3}\\right)} {\\left(m + t\\right)}}{48 \\, m^{3} t^{3}}$$"
      ],
      "text/plain": [
       "-1/48*(5*m^3*t^2 + 5*m^2*t^3 + 6*m^3*t*w + 28*m^2*t^2*w + 6*m*t^3*w + 54*m^2*t*w^2 + 54*m*t^2*w^2 + 36*m^2*w^3 + 72*m*t*w^3 + 36*t^2*w^3)*(m + t)/(m^3*t^3)"
      ]
     },
     "execution_count": 13,
     "metadata": {},
     "output_type": "execute_result"
    }
   ],
   "source": [
    "deg0(Verlinde_Num_vir_inv(3)(x=exp(t),y=exp(m)))"
   ]
  },
  {
   "cell_type": "code",
   "execution_count": 20,
   "metadata": {},
   "outputs": [
    {
     "data": {
      "text/html": [
       "<html><script type=\"math/tex; mode=display\">\\newcommand{\\Bold}[1]{\\mathbf{#1}}-\\frac{{\\left(5 \\, m^{2} t^{2} + 6 \\, m^{2} t w + 6 \\, m t^{2} w + 30 \\, m t w^{2} + 28 \\, m w^{3} + 28 \\, t w^{3}\\right)} {\\left(m + t\\right)}^{2}}{48 \\, m^{3} t^{3}}</script></html>"
      ],
      "text/latex": [
       "$$\\newcommand{\\Bold}[1]{\\mathbf{#1}}-\\frac{{\\left(5 \\, m^{2} t^{2} + 6 \\, m^{2} t w + 6 \\, m t^{2} w + 30 \\, m t w^{2} + 28 \\, m w^{3} + 28 \\, t w^{3}\\right)} {\\left(m + t\\right)}^{2}}{48 \\, m^{3} t^{3}}$$"
      ],
      "text/plain": [
       "-1/48*(5*m^2*t^2 + 6*m^2*t*w + 6*m*t^2*w + 30*m*t*w^2 + 28*m*w^3 + 28*t*w^3)*(m + t)^2/(m^3*t^3)"
      ]
     },
     "execution_count": 20,
     "metadata": {},
     "output_type": "execute_result"
    }
   ],
   "source": [
    "pretty(deg0(Verlinde_Num_vir_inv(3)(x=exp(t),y=exp(m)))-deg0((chi*(chi-1)*(chi-2)/6)(x=exp(t),y=exp(m))))"
   ]
  },
  {
   "cell_type": "code",
   "execution_count": 22,
   "metadata": {},
   "outputs": [
    {
     "data": {
      "text/html": [
       "<html><script type=\"math/tex; mode=display\">\\newcommand{\\Bold}[1]{\\mathbf{#1}}-\\frac{{\\left(2 \\, m^{5} t - 13 \\, m^{4} t^{2} - 1010 \\, m^{3} t^{3} - 13 \\, m^{2} t^{4} + 2 \\, m t^{5} - 2160 \\, m^{3} t^{2} w - 2160 \\, m^{2} t^{3} w - 960 \\, m^{3} t w^{2} - 7800 \\, m^{2} t^{2} w^{2} - 960 \\, m t^{3} w^{2} - 9360 \\, m^{2} t w^{3} - 9360 \\, m t^{2} w^{3} - 3480 \\, m^{2} w^{4} - 6960 \\, m t w^{4} - 3480 \\, t^{2} w^{4}\\right)} {\\left(m + t\\right)}^{2}}{8640 \\, m^{4} t^{4}}</script></html>"
      ],
      "text/latex": [
       "$$\\newcommand{\\Bold}[1]{\\mathbf{#1}}-\\frac{{\\left(2 \\, m^{5} t - 13 \\, m^{4} t^{2} - 1010 \\, m^{3} t^{3} - 13 \\, m^{2} t^{4} + 2 \\, m t^{5} - 2160 \\, m^{3} t^{2} w - 2160 \\, m^{2} t^{3} w - 960 \\, m^{3} t w^{2} - 7800 \\, m^{2} t^{2} w^{2} - 960 \\, m t^{3} w^{2} - 9360 \\, m^{2} t w^{3} - 9360 \\, m t^{2} w^{3} - 3480 \\, m^{2} w^{4} - 6960 \\, m t w^{4} - 3480 \\, t^{2} w^{4}\\right)} {\\left(m + t\\right)}^{2}}{8640 \\, m^{4} t^{4}}$$"
      ],
      "text/plain": [
       "-1/8640*(2*m^5*t - 13*m^4*t^2 - 1010*m^3*t^3 - 13*m^2*t^4 + 2*m*t^5 - 2160*m^3*t^2*w - 2160*m^2*t^3*w - 960*m^3*t*w^2 - 7800*m^2*t^2*w^2 - 960*m*t^3*w^2 - 9360*m^2*t*w^3 - 9360*m*t^2*w^3 - 3480*m^2*w^4 - 6960*m*t*w^4 - 3480*t^2*w^4)*(m + t)^2/(m^4*t^4)"
      ]
     },
     "execution_count": 22,
     "metadata": {},
     "output_type": "execute_result"
    }
   ],
   "source": [
    "pretty(deg0(Verlinde_Num_vir_inv(4)(x=exp(t),y=exp(m)))-deg0((chi*(chi-1)*(chi-2)*(chi-3)/24)(x=exp(t),y=exp(m))))"
   ]
  },
  {
   "cell_type": "markdown",
   "metadata": {},
   "source": [
    "Again, equality does not hold after $n=3$, but difference is multiple of $mt$."
   ]
  },
  {
   "cell_type": "markdown",
   "metadata": {},
   "source": [
    "On the exponent, sometimes we have $\\chi(\\cdot)$. In equivariant case this is a K-theory class and lives in $\\prod^\\infty_{i=0} A_T^i(S)$. But in compact case it is just a number by Bott-residue formula. This might be the reason the universal series does not work for non-compact case. Maybe is reason why we differ by multiples of $mt$."
   ]
  },
  {
   "cell_type": "markdown",
   "metadata": {},
   "source": [
    "For virtual Segre number, we have\n",
    "$$\\sum q^n\\int_{[S^{[n]}]^{\\text{vir}}}s(L^{[n]})=(1-z)^{c_1(L)K}\\left(\\frac{1-2z}{(1-z)^2}\\right)^{K^2} $$\n",
    "for\n",
    "$$q=z(z-1) $$"
   ]
  },
  {
   "cell_type": "code",
   "execution_count": 363,
   "metadata": {},
   "outputs": [],
   "source": [
    "def var_change(k):\n",
    "    return degn(pretty(sum(deg0(Segre_Num_vir(i))*b^i for i in range(1,k+1)))(b=-b*(1-b)),k)"
   ]
  },
  {
   "cell_type": "code",
   "execution_count": 365,
   "metadata": {},
   "outputs": [
    {
     "data": {
      "text/html": [
       "<html><script type=\"math/tex; mode=display\">\\newcommand{\\Bold}[1]{\\mathbf{#1}}-\\frac{{\\left(2 \\, m^{2} t + 2 \\, m t^{2} - m t w - 3 \\, m w^{2} - 3 \\, t w^{2}\\right)} {\\left(m + t\\right)}}{2 \\, m^{2} t^{2}}</script></html>"
      ],
      "text/latex": [
       "$$\\newcommand{\\Bold}[1]{\\mathbf{#1}}-\\frac{{\\left(2 \\, m^{2} t + 2 \\, m t^{2} - m t w - 3 \\, m w^{2} - 3 \\, t w^{2}\\right)} {\\left(m + t\\right)}}{2 \\, m^{2} t^{2}}$$"
      ],
      "text/plain": [
       "-1/2*(2*m^2*t + 2*m*t^2 - m*t*w - 3*m*w^2 - 3*t*w^2)*(m + t)/(m^2*t^2)"
      ]
     },
     "execution_count": 365,
     "metadata": {},
     "output_type": "execute_result"
    }
   ],
   "source": [
    "pretty(var_change(2))"
   ]
  },
  {
   "cell_type": "code",
   "execution_count": 372,
   "metadata": {},
   "outputs": [
    {
     "data": {
      "text/html": [
       "<html><script type=\"math/tex; mode=display\">\\newcommand{\\Bold}[1]{\\mathbf{#1}}\\frac{{\\left(2 \\, m^{2} t + 2 \\, m t^{2} - m t w - m w^{2} - t w^{2}\\right)} {\\left(m + t\\right)}}{2 \\, m^{2} t^{2}}</script></html>"
      ],
      "text/latex": [
       "$$\\newcommand{\\Bold}[1]{\\mathbf{#1}}\\frac{{\\left(2 \\, m^{2} t + 2 \\, m t^{2} - m t w - m w^{2} - t w^{2}\\right)} {\\left(m + t\\right)}}{2 \\, m^{2} t^{2}}$$"
      ],
      "text/plain": [
       "1/2*(2*m^2*t + 2*m*t^2 - m*t*w - m*w^2 - t*w^2)*(m + t)/(m^2*t^2)"
      ]
     },
     "execution_count": 372,
     "metadata": {},
     "output_type": "execute_result"
    }
   ],
   "source": [
    "K=-(m+t)\n",
    "pretty((K* (w^2 *(-K) + w*(m*t) + 2 *K*(m*t)))/(2* (m*t)^2))"
   ]
  },
  {
   "cell_type": "markdown",
   "metadata": {},
   "source": [
    "does not match."
   ]
  },
  {
   "cell_type": "markdown",
   "metadata": {},
   "source": [
    "For non-virtual Segre number, we look at 1d torus so that $K_S=0$, \n",
    "$$\\sum q^n\\int_{[S^{[n]}]}s(L^{[n]})=A_1^{\\chi(\\det(L))}A_2^{\\frac12\\chi(\\mathcal{O}_S)} $$\n",
    "for \n",
    "$$q=-y(1+2y)^{-3}$$\n",
    "$$A_1=(1+2y)(1-y)^2, A_2=\\frac{1}{(1+2y)^4(1-y)^4(1-4y)}$$"
   ]
  },
  {
   "cell_type": "code",
   "execution_count": 27,
   "metadata": {},
   "outputs": [],
   "source": [
    "def var_change(k):\n",
    "    return degn(pretty(sum(deg0(Segre_Num(i))*b^i for i in range(1,k+1)))(b=-b*(1+2*b)^(-3)),k)"
   ]
  },
  {
   "cell_type": "code",
   "execution_count": 38,
   "metadata": {},
   "outputs": [
    {
     "data": {
      "text/html": [
       "<html><script type=\"math/tex; mode=display\">\\newcommand{\\Bold}[1]{\\mathbf{#1}}-\\frac{e^{\\left(-w\\right)}}{x + \\frac{1}{x} - 2}</script></html>"
      ],
      "text/latex": [
       "$$\\newcommand{\\Bold}[1]{\\mathbf{#1}}-\\frac{e^{\\left(-w\\right)}}{x + \\frac{1}{x} - 2}$$"
      ],
      "text/plain": [
       "-e^(-w)/(x + 1/x - 2)"
      ]
     },
     "execution_count": 38,
     "metadata": {},
     "output_type": "execute_result"
    }
   ],
   "source": [
    "chi1= Verlinde_Num(1)(y=1/x,w=-w)\n",
    "chi1"
   ]
  },
  {
   "cell_type": "code",
   "execution_count": 39,
   "metadata": {},
   "outputs": [
    {
     "data": {
      "text/html": [
       "<html><script type=\"math/tex; mode=display\">\\newcommand{\\Bold}[1]{\\mathbf{#1}}-\\frac{1}{2 \\, {\\left(x + \\frac{1}{x} - 2\\right)}}</script></html>"
      ],
      "text/latex": [
       "$$\\newcommand{\\Bold}[1]{\\mathbf{#1}}-\\frac{1}{2 \\, {\\left(x + \\frac{1}{x} - 2\\right)}}$$"
      ],
      "text/plain": [
       "-1/2/(x + 1/x - 2)"
      ]
     },
     "execution_count": 39,
     "metadata": {},
     "output_type": "execute_result"
    }
   ],
   "source": [
    "chi2= Verlinde_Num(1)(w=0,y=1/x)/2\n",
    "chi2"
   ]
  },
  {
   "cell_type": "code",
   "execution_count": 41,
   "metadata": {},
   "outputs": [
    {
     "data": {
      "text/html": [
       "<html><script type=\"math/tex; mode=display\">\\newcommand{\\Bold}[1]{\\mathbf{#1}}\\frac{t^{2} + 3 \\, w^{2}}{2 \\, t^{2}}</script></html>"
      ],
      "text/latex": [
       "$$\\newcommand{\\Bold}[1]{\\mathbf{#1}}\\frac{t^{2} + 3 \\, w^{2}}{2 \\, t^{2}}$$"
      ],
      "text/plain": [
       "1/2*(t^2 + 3*w^2)/t^2"
      ]
     },
     "execution_count": 41,
     "metadata": {},
     "output_type": "execute_result"
    }
   ],
   "source": [
    "deg0((-3*(chi1-6*chi2))(x=exp(t)))"
   ]
  },
  {
   "cell_type": "code",
   "execution_count": 46,
   "metadata": {},
   "outputs": [
    {
     "data": {
      "text/html": [
       "<html><script type=\"math/tex; mode=display\">\\newcommand{\\Bold}[1]{\\mathbf{#1}}\\frac{t^{4} - 2 \\, t^{2} w^{2} + 5 \\, w^{4}}{2 \\, t^{4}}</script></html>"
      ],
      "text/latex": [
       "$$\\newcommand{\\Bold}[1]{\\mathbf{#1}}\\frac{t^{4} - 2 \\, t^{2} w^{2} + 5 \\, w^{4}}{2 \\, t^{4}}$$"
      ],
      "text/plain": [
       "1/2*(t^4 - 2*t^2*w^2 + 5*w^4)/t^4"
      ]
     },
     "execution_count": 46,
     "metadata": {},
     "output_type": "execute_result"
    }
   ],
   "source": [
    "pretty(var_change(2)(m=-t))"
   ]
  },
  {
   "cell_type": "markdown",
   "metadata": {},
   "source": [
    "does not match."
   ]
  },
  {
   "cell_type": "markdown",
   "metadata": {},
   "source": [
    "# Master partition function"
   ]
  },
  {
   "cell_type": "markdown",
   "metadata": {},
   "source": [
    "We compare the master partition equation with its universal series and check the limits.\n",
    "$$I_{S,\\alpha}(w,z)=\\sum_{|\\lambda|=n}(-w)^n\\frac{\\prod_{(c,r)\\in\\lambda}x^cy^r\\prod_{i=1}^{\\text{rank}\\alpha}\\left(1-ze^{v_i}x^{-c}y^{-r}\\right)}{\\text{ch}(\\Lambda^\\bullet T_\\lambda^\\vee)}$$"
   ]
  },
  {
   "cell_type": "markdown",
   "metadata": {},
   "source": [
    "Identity (1.2) says\n",
    "$$V_n(L;q)=\\sum_{|\\lambda|=n} q^n \\frac{\\text{ch}(\\text{det}L^{[n]})}{\\text{ch}(\\Lambda^\\bullet T_\\lambda^\\vee)}$$\n",
    "$$=I_{S,L+\\mathcal{O}_S}(-qz^2,-z)|_{\\deg z=0}$$\n"
   ]
  },
  {
   "cell_type": "code",
   "execution_count": 541,
   "metadata": {},
   "outputs": [
    {
     "data": {
      "text/html": [
       "<html><script type=\"math/tex; mode=display\">\\newcommand{\\Bold}[1]{\\mathbf{#1}}\\frac{{\\left(x^{5} y^{3} + x^{4} y^{4} + x^{3} y^{5} + x^{5} y^{2} + x^{4} y^{3} + x^{3} y^{4} + x^{2} y^{5} + x^{6} + x^{5} y + 2 \\, x^{4} y^{2} + 2 \\, x^{3} y^{3} + 2 \\, x^{2} y^{4} + x y^{5} + y^{6} + x^{4} y + x^{3} y^{2} + x^{2} y^{3} + x y^{4} + x^{3} y + x^{2} y^{2} + x y^{3}\\right)} x^{4} y^{4} e^{\\left(4 \\, w\\right)}}{{\\left(x^{2} + x + 1\\right)} {\\left(x^{2} + 1\\right)} {\\left(y^{2} + y + 1\\right)} {\\left(y^{2} + 1\\right)} {\\left(x + 1\\right)}^{2} {\\left(x - 1\\right)}^{4} {\\left(y + 1\\right)}^{2} {\\left(y - 1\\right)}^{4}}</script></html>"
      ],
      "text/latex": [
       "$$\\newcommand{\\Bold}[1]{\\mathbf{#1}}\\frac{{\\left(x^{5} y^{3} + x^{4} y^{4} + x^{3} y^{5} + x^{5} y^{2} + x^{4} y^{3} + x^{3} y^{4} + x^{2} y^{5} + x^{6} + x^{5} y + 2 \\, x^{4} y^{2} + 2 \\, x^{3} y^{3} + 2 \\, x^{2} y^{4} + x y^{5} + y^{6} + x^{4} y + x^{3} y^{2} + x^{2} y^{3} + x y^{4} + x^{3} y + x^{2} y^{2} + x y^{3}\\right)} x^{4} y^{4} e^{\\left(4 \\, w\\right)}}{{\\left(x^{2} + x + 1\\right)} {\\left(x^{2} + 1\\right)} {\\left(y^{2} + y + 1\\right)} {\\left(y^{2} + 1\\right)} {\\left(x + 1\\right)}^{2} {\\left(x - 1\\right)}^{4} {\\left(y + 1\\right)}^{2} {\\left(y - 1\\right)}^{4}}$$"
      ],
      "text/plain": [
       "(x^5*y^3 + x^4*y^4 + x^3*y^5 + x^5*y^2 + x^4*y^3 + x^3*y^4 + x^2*y^5 + x^6 + x^5*y + 2*x^4*y^2 + 2*x^3*y^3 + 2*x^2*y^4 + x*y^5 + y^6 + x^4*y + x^3*y^2 + x^2*y^3 + x*y^4 + x^3*y + x^2*y^2 + x*y^3)*x^4*y^4*e^(4*w)/((x^2 + x + 1)*(x^2 + 1)*(y^2 + y + 1)*(y^2 + 1)*(x + 1)^2*(x - 1)^4*(y + 1)^2*(y - 1)^4)"
      ]
     },
     "execution_count": 541,
     "metadata": {},
     "output_type": "execute_result"
    }
   ],
   "source": [
    "pretty(degn(Master_Partition_rank_2(4)(v=0,z=1/z)*(-1)^4*z^(2*4),0,z))"
   ]
  },
  {
   "cell_type": "code",
   "execution_count": 542,
   "metadata": {},
   "outputs": [
    {
     "data": {
      "text/html": [
       "<html><script type=\"math/tex; mode=display\">\\newcommand{\\Bold}[1]{\\mathbf{#1}}\\frac{{\\left(x^{5} y^{3} + x^{4} y^{4} + x^{3} y^{5} + x^{5} y^{2} + x^{4} y^{3} + x^{3} y^{4} + x^{2} y^{5} + x^{6} + x^{5} y + 2 \\, x^{4} y^{2} + 2 \\, x^{3} y^{3} + 2 \\, x^{2} y^{4} + x y^{5} + y^{6} + x^{4} y + x^{3} y^{2} + x^{2} y^{3} + x y^{4} + x^{3} y + x^{2} y^{2} + x y^{3}\\right)} x^{4} y^{4} e^{\\left(4 \\, w\\right)}}{{\\left(x^{2} + x + 1\\right)} {\\left(x^{2} + 1\\right)} {\\left(y^{2} + y + 1\\right)} {\\left(y^{2} + 1\\right)} {\\left(x + 1\\right)}^{2} {\\left(x - 1\\right)}^{4} {\\left(y + 1\\right)}^{2} {\\left(y - 1\\right)}^{4}}</script></html>"
      ],
      "text/latex": [
       "$$\\newcommand{\\Bold}[1]{\\mathbf{#1}}\\frac{{\\left(x^{5} y^{3} + x^{4} y^{4} + x^{3} y^{5} + x^{5} y^{2} + x^{4} y^{3} + x^{3} y^{4} + x^{2} y^{5} + x^{6} + x^{5} y + 2 \\, x^{4} y^{2} + 2 \\, x^{3} y^{3} + 2 \\, x^{2} y^{4} + x y^{5} + y^{6} + x^{4} y + x^{3} y^{2} + x^{2} y^{3} + x y^{4} + x^{3} y + x^{2} y^{2} + x y^{3}\\right)} x^{4} y^{4} e^{\\left(4 \\, w\\right)}}{{\\left(x^{2} + x + 1\\right)} {\\left(x^{2} + 1\\right)} {\\left(y^{2} + y + 1\\right)} {\\left(y^{2} + 1\\right)} {\\left(x + 1\\right)}^{2} {\\left(x - 1\\right)}^{4} {\\left(y + 1\\right)}^{2} {\\left(y - 1\\right)}^{4}}$$"
      ],
      "text/plain": [
       "(x^5*y^3 + x^4*y^4 + x^3*y^5 + x^5*y^2 + x^4*y^3 + x^3*y^4 + x^2*y^5 + x^6 + x^5*y + 2*x^4*y^2 + 2*x^3*y^3 + 2*x^2*y^4 + x*y^5 + y^6 + x^4*y + x^3*y^2 + x^2*y^3 + x*y^4 + x^3*y + x^2*y^2 + x*y^3)*x^4*y^4*e^(4*w)/((x^2 + x + 1)*(x^2 + 1)*(y^2 + y + 1)*(y^2 + 1)*(x + 1)^2*(x - 1)^4*(y + 1)^2*(y - 1)^4)"
      ]
     },
     "execution_count": 542,
     "metadata": {},
     "output_type": "execute_result"
    }
   ],
   "source": [
    "pretty(Verlinde_Num(4))"
   ]
  },
  {
   "cell_type": "markdown",
   "metadata": {},
   "source": [
    "matches."
   ]
  },
  {
   "cell_type": "code",
   "execution_count": 88,
   "metadata": {},
   "outputs": [
    {
     "data": {
      "text/html": [
       "<html><script type=\"math/tex; mode=display\">\\newcommand{\\Bold}[1]{\\mathbf{#1}}-\\frac{v w}{m t}</script></html>"
      ],
      "text/latex": [
       "$$\\newcommand{\\Bold}[1]{\\mathbf{#1}}-\\frac{v w}{m t}$$"
      ],
      "text/plain": [
       "-v*w/(m*t)"
      ]
     },
     "execution_count": 88,
     "metadata": {},
     "output_type": "execute_result"
    }
   ],
   "source": [
    "pretty(pretty(Master_Partition_rank_2(1))(z=1)(x=exp(-t*z),y=exp(-m*z),v=-v*z,w=-w*z).taylor(z,0,0))"
   ]
  },
  {
   "cell_type": "markdown",
   "metadata": {},
   "source": [
    "Identity (1.2) says\n",
    "$$C_n(V+W;q)=I_{S,V+W}(-(1+\\epsilon)^{2}q,\\frac{1}{1+\\epsilon})|_{\\deg \\epsilon=0}$$"
   ]
  },
  {
   "cell_type": "code",
   "execution_count": 519,
   "metadata": {},
   "outputs": [
    {
     "data": {
      "text/html": [
       "<html><script type=\"math/tex; mode=display\">\\newcommand{\\Bold}[1]{\\mathbf{#1}}\\frac{{\\left(2 \\, m t - v w - v - w - 1\\right)} {\\left(m t - v w - v - w - 1\\right)} {\\left(v + 1\\right)} {\\left(w + 1\\right)}}{6 \\, m^{3} t^{3}}</script></html>"
      ],
      "text/latex": [
       "$$\\newcommand{\\Bold}[1]{\\mathbf{#1}}\\frac{{\\left(2 \\, m t - v w - v - w - 1\\right)} {\\left(m t - v w - v - w - 1\\right)} {\\left(v + 1\\right)} {\\left(w + 1\\right)}}{6 \\, m^{3} t^{3}}$$"
      ],
      "text/plain": [
       "1/6*(2*m*t - v*w - v - w - 1)*(m*t - v*w - v - w - 1)*(v + 1)*(w + 1)/(m^3*t^3)"
      ]
     },
     "execution_count": 519,
     "metadata": {},
     "output_type": "execute_result"
    }
   ],
   "source": [
    "pretty(degn(Master_Partition_rank_2(3)(x=exp(-t*z),y=exp(-m*z),v=-v*z,w=-w*z,z=1/(1+z))*((-1)^3*(1+z)^(2*3)),0,z))"
   ]
  },
  {
   "cell_type": "code",
   "execution_count": 515,
   "metadata": {
    "scrolled": true
   },
   "outputs": [
    {
     "data": {
      "text/html": [
       "<html><script type=\"math/tex; mode=display\">\\newcommand{\\Bold}[1]{\\mathbf{#1}}\\frac{{\\left(2 \\, m t - v w - v - w - 1\\right)} {\\left(m t - v w - v - w - 1\\right)} {\\left(v + 1\\right)} {\\left(w + 1\\right)}}{6 \\, m^{3} t^{3}}</script></html>"
      ],
      "text/latex": [
       "$$\\newcommand{\\Bold}[1]{\\mathbf{#1}}\\frac{{\\left(2 \\, m t - v w - v - w - 1\\right)} {\\left(m t - v w - v - w - 1\\right)} {\\left(v + 1\\right)} {\\left(w + 1\\right)}}{6 \\, m^{3} t^{3}}$$"
      ],
      "text/plain": [
       "1/6*(2*m*t - v*w - v - w - 1)*(m*t - v*w - v - w - 1)*(v + 1)*(w + 1)/(m^3*t^3)"
      ]
     },
     "execution_count": 515,
     "metadata": {},
     "output_type": "execute_result"
    }
   ],
   "source": [
    "pretty(Chern_Num_rank_2(3))"
   ]
  },
  {
   "cell_type": "markdown",
   "metadata": {},
   "source": [
    "matches."
   ]
  },
  {
   "cell_type": "markdown",
   "metadata": {},
   "source": [
    "Apply Theorem 1.1 $k=2$, and get\n",
    "$$I_{S,\\alpha}(w,z)=G_0^{c_2(\\alpha)}G_1^{\\chi(\\det(\\alpha))}G_2^{\\frac12\\chi(\\mathcal{O}_S)}$$\n",
    "for \n",
    "$$w=\\frac{u(1-u)}{v(1-v)}, z=\\frac{v}{(1-u)}$$\n",
    "$$G_0=\\frac{(1-u-v)}{1-v}, G_1=\\frac{1}{1-u}, G_2=(1-u/v)^2$$\n",
    "We write it in terms of power series $u,v$ and look at the coefficients of $\\frac {u^n}{v^n}$ for $n>0$. The degree 0 term of $G_0,G_1$ are just 1, and the degree 0 term of $G_2^{\\frac12}$ is $(1-\\frac uv)$. Therefore the non-trivial degree 0 term on the right hand side can only come from $G_2$. In particular, the coefficient of $\\frac {u^n}{v^n}$ is \n",
    "$$(-1)^n{\\chi(\\mathcal{O}_S) \\choose n}$$\n",
    "\n",
    "On the left hand side, The degree 0 term of $w$ is $\\frac uv$, and the degree 0 term of $[w^n]I_{S,\\alpha}(w,z)$ is independent of $\\alpha$ (as expected since RHS does not depend on $\\alpha$) and independent of $u$ and $v$. Therefore the $\\frac {u^n}{v^n}$ term comes only from the degree 0 part of $w^n$. So comparing both sides, we have\n",
    "$$[w^n]I_{S,\\alpha}(w,z) = (-1)^n{\\chi(\\mathcal{O}_S) \\choose n}=(-1)^n{\\frac{c_1(T_S)^2+c_2(T_S)}{12e(T_S)} \\choose n}=(-1)^n{\\frac{t^2+3tm+m^2}{12tm} \\choose n} $$"
   ]
  },
  {
   "cell_type": "code",
   "execution_count": 449,
   "metadata": {},
   "outputs": [],
   "source": [
    "u=var('u')\n",
    "v=var('v')"
   ]
  },
  {
   "cell_type": "code",
   "execution_count": 451,
   "metadata": {},
   "outputs": [
    {
     "data": {
      "text/html": [
       "<html><script type=\"math/tex; mode=display\">\\newcommand{\\Bold}[1]{\\mathbf{#1}}\\frac{3 \\, m^{4} - 55 \\, m^{2} t^{2} + 3 \\, t^{4}}{1440 \\, m^{2} t^{2}}</script></html>"
      ],
      "text/latex": [
       "$$\\newcommand{\\Bold}[1]{\\mathbf{#1}}\\frac{3 \\, m^{4} - 55 \\, m^{2} t^{2} + 3 \\, t^{4}}{1440 \\, m^{2} t^{2}}$$"
      ],
      "text/plain": [
       "1/1440*(3*m^4 - 55*m^2*t^2 + 3*t^4)/(m^2*t^2)"
      ]
     },
     "execution_count": 451,
     "metadata": {},
     "output_type": "execute_result"
    }
   ],
   "source": [
    "(deg0((Master_Partition_rank_2(2)(z=v/(1-u)))(x=exp(t),y=exp(m))))(u=u*b,v=v*b).taylor(b,0,0)"
   ]
  },
  {
   "cell_type": "code",
   "execution_count": 499,
   "metadata": {},
   "outputs": [
    {
     "data": {
      "text/html": [
       "<html><script type=\"math/tex; mode=display\">\\newcommand{\\Bold}[1]{\\mathbf{#1}}\\frac{{\\left(m^{2} + 3 \\, m t + t^{2}\\right)} {\\left(m^{2} - 9 \\, m t + t^{2}\\right)}}{288 \\, m^{2} t^{2}}</script></html>"
      ],
      "text/latex": [
       "$$\\newcommand{\\Bold}[1]{\\mathbf{#1}}\\frac{{\\left(m^{2} + 3 \\, m t + t^{2}\\right)} {\\left(m^{2} - 9 \\, m t + t^{2}\\right)}}{288 \\, m^{2} t^{2}}$$"
      ],
      "text/plain": [
       "1/288*(m^2 + 3*m*t + t^2)*(m^2 - 9*m*t + t^2)/(m^2*t^2)"
      ]
     },
     "execution_count": 499,
     "metadata": {},
     "output_type": "execute_result"
    }
   ],
   "source": [
    "chi=deg0(measure_unsymmetrized(x+y)(x=exp(t),y=exp(m)))\n",
    "pretty(chi*(chi-1)/2)"
   ]
  },
  {
   "cell_type": "markdown",
   "metadata": {},
   "source": [
    "does not match. BUT if we use K-theoretic $\\chi$, then it matches to $n=2$ and as before, matches when we mod out $mt$ in numerator."
   ]
  },
  {
   "cell_type": "code",
   "execution_count": 501,
   "metadata": {},
   "outputs": [
    {
     "data": {
      "text/html": [
       "<html><script type=\"math/tex; mode=display\">\\newcommand{\\Bold}[1]{\\mathbf{#1}}\\frac{3 \\, m^{4} - 55 \\, m^{2} t^{2} + 3 \\, t^{4}}{1440 \\, m^{2} t^{2}}</script></html>"
      ],
      "text/latex": [
       "$$\\newcommand{\\Bold}[1]{\\mathbf{#1}}\\frac{3 \\, m^{4} - 55 \\, m^{2} t^{2} + 3 \\, t^{4}}{1440 \\, m^{2} t^{2}}$$"
      ],
      "text/plain": [
       "1/1440*(3*m^4 - 55*m^2*t^2 + 3*t^4)/(m^2*t^2)"
      ]
     },
     "execution_count": 501,
     "metadata": {},
     "output_type": "execute_result"
    }
   ],
   "source": [
    "chi=measure_unsymmetrized(x+y)\n",
    "deg0((chi*(chi-1)/2)(x=exp(t),y=exp(m)))"
   ]
  },
  {
   "cell_type": "code",
   "execution_count": 456,
   "metadata": {
    "scrolled": true
   },
   "outputs": [
    {
     "data": {
      "text/html": [
       "<html><script type=\"math/tex; mode=display\">\\newcommand{\\Bold}[1]{\\mathbf{#1}}-\\frac{1}{12} \\, b t - \\frac{1}{b t} - \\frac{1}{b^{2} t^{2}} - \\frac{5}{12}</script></html>"
      ],
      "text/latex": [
       "$$\\newcommand{\\Bold}[1]{\\mathbf{#1}}-\\frac{1}{12} \\, b t - \\frac{1}{b t} - \\frac{1}{b^{2} t^{2}} - \\frac{5}{12}$$"
      ],
      "text/plain": [
       "-1/12*b*t - 1/(b*t) - 1/(b^2*t^2) - 5/12"
      ]
     },
     "execution_count": 456,
     "metadata": {},
     "output_type": "execute_result"
    }
   ],
   "source": [
    "(pretty(Master_Partition_rank_2(1))(z=0)(x=exp(t*b),y=exp(t*b))).taylor(b,0,1)"
   ]
  },
  {
   "cell_type": "code",
   "execution_count": 504,
   "metadata": {
    "scrolled": true
   },
   "outputs": [
    {
     "data": {
      "text/html": [
       "<html><script type=\"math/tex; mode=display\">\\newcommand{\\Bold}[1]{\\mathbf{#1}}\\frac{1}{24} \\, b {\\left(m + t\\right)} + \\frac{m^{2} + 3 \\, m t + t^{2}}{12 \\, m t} + \\frac{m + t}{2 \\, b m t} + \\frac{1}{b^{2} m t}</script></html>"
      ],
      "text/latex": [
       "$$\\newcommand{\\Bold}[1]{\\mathbf{#1}}\\frac{1}{24} \\, b {\\left(m + t\\right)} + \\frac{m^{2} + 3 \\, m t + t^{2}}{12 \\, m t} + \\frac{m + t}{2 \\, b m t} + \\frac{1}{b^{2} m t}$$"
      ],
      "text/plain": [
       "1/24*b*(m + t) + 1/12*(m^2 + 3*m*t + t^2)/(m*t) + 1/2*(m + t)/(b*m*t) + 1/(b^2*m*t)"
      ]
     },
     "execution_count": 504,
     "metadata": {},
     "output_type": "execute_result"
    }
   ],
   "source": [
    "(measure_unsymmetrized(x+y)(x=exp(t*b),y=exp(m*b))).taylor(b,0,1)"
   ]
  },
  {
   "cell_type": "markdown",
   "metadata": {},
   "source": [
    "# Projective case"
   ]
  },
  {
   "cell_type": "markdown",
   "metadata": {},
   "source": [
    "Checked for $S=\\mathbb{P}^2=\\{[x:y:z]\\}$ and tested the identities $(3.1)$-$(3.4)$. $T=\\{(x,y,z):xyz=1\\}$ is the 2d-torus. We try checking the Verlinde number:\n",
    "The 2d-torus $\\{(a_1,a_2,a_3):a_1a_2a_3=1\\}$ acts on $\\mathbb{P}^2$ by scaling. 3 fixed points are $[0:0:1],[0:1:0],[1:0:0]$. The tangent spaces at those points are \n",
    "$$t_1^{(1)}=2a_1+a_2, t_2^{(1)}=a_1+2a_2$$\n",
    "$$t_1^{(2)}=a_1-a_2, t_2^{(2)}=-a_1-2a_2$$\n",
    "$$t_1^{(3)}=a_2-a_1, t_2^{(3)}=-2a_1-a_2$$\n",
    "Let $L$ be the trivial bundle, with trivial weight. We test the universal series for Verlinde number in this case."
   ]
  },
  {
   "cell_type": "markdown",
   "metadata": {},
   "source": [
    "We have \n",
    "$$\\sum(-y)^n\\chi(S^{[n]},\\det(L^{[n]}))=(1-y)^{\\chi(\\det L)} $$\n",
    "So the coefficient at $n$ is\n",
    "$${\\chi(L)\\choose n} $$\n",
    "Since $L$ is trivial, by Riemann-Roch,\n",
    "$$\\chi(L)=\\int_S\\text{td}(S) $$\n",
    "$$=\\int_S\\frac{c_1^2(S)+c_2(S)}{12}$$\n",
    "$$=\\frac1{12}\\left(3+\\sum_{i=1}^3\\frac{(t_1^{(i)}+t_2^{(i)})^2}{t_1^{(i)}t_2^{(i)}}\\right)$$ \n",
    "$$=1$$ \n",
    "as expected"
   ]
  },
  {
   "cell_type": "markdown",
   "metadata": {},
   "source": [
    "On the other hand,"
   ]
  },
  {
   "cell_type": "code",
   "execution_count": 363,
   "metadata": {},
   "outputs": [
    {
     "data": {
      "text/html": [
       "<html><script type=\"math/tex; mode=display\">\\newcommand{\\Bold}[1]{\\mathbf{#1}}1</script></html>"
      ],
      "text/latex": [
       "$$\\newcommand{\\Bold}[1]{\\mathbf{#1}}1$$"
      ],
      "text/plain": [
       "1"
      ]
     },
     "execution_count": 363,
     "metadata": {},
     "output_type": "execute_result"
    }
   ],
   "source": [
    "def Verlinde_Num(n):\n",
    "    total=0\n",
    "    for p in Partitions(n):\n",
    "        add=measure_unsymmetrized(tangent(p))*\\\n",
    "            determinant_vb(p,n)(w=0)\n",
    "        total+=add\n",
    "    return total\n",
    "n=1\n",
    "S1= 1+sum(Verlinde_Num(i+1)(x=exp(2*t+m),y=exp(t+2*m))*b^(i+1) for i in range(n))\n",
    "S2= 1+sum(Verlinde_Num(i+1)(x=exp(t-m),y=exp(-t-2*m))*b^(i+1) for i in range(n))\n",
    "S3= 1+sum(Verlinde_Num(i+1)(x=exp(m-t),y=exp(-2*t-m))*b^(i+1) for i in range(n))\n",
    "S=degn(S1*S2*S3,n)\n",
    "S"
   ]
  },
  {
   "cell_type": "markdown",
   "metadata": {},
   "source": [
    "The numbers are good for $n=1,2,3,4,5$."
   ]
  },
  {
   "cell_type": "markdown",
   "metadata": {},
   "source": [
    "Let $\\alpha=T_S$. The chern number is \n",
    "$$\\sum q^n\\int_{S^{[n]}}c_{2n}(T_S^{[n]})=(1+q)^{c_2(T_S)}$$\n",
    "where\n",
    "$$\\int_{S} c_2(T_S)=3 $$"
   ]
  },
  {
   "cell_type": "code",
   "execution_count": 294,
   "metadata": {},
   "outputs": [
    {
     "data": {
      "text/html": [
       "<html><script type=\"math/tex; mode=display\">\\newcommand{\\Bold}[1]{\\mathbf{#1}}3</script></html>"
      ],
      "text/latex": [
       "$$\\newcommand{\\Bold}[1]{\\mathbf{#1}}3$$"
      ],
      "text/plain": [
       "3"
      ]
     },
     "execution_count": 294,
     "metadata": {},
     "output_type": "execute_result"
    }
   ],
   "source": [
    "def Chern_Num(n):\n",
    "    total=0\n",
    "    for p in Partitions(n):\n",
    "        add=top_chern(-tangent(p))*total_chern_vb_rank_2(p)\n",
    "        total+=add\n",
    "    return total\n",
    "n=2\n",
    "S1=1+ sum((Chern_Num(i+1)(w=t,v=m))(t=2*t+m,m=t+2*m)*b^(i+1) for i in range(n))\n",
    "S2=1+ sum((Chern_Num(i+1)(w=t,v=m))(t=t-m,m=-t-2*m)*b^(i+1) for i in range(n))\n",
    "S3=1+ sum((Chern_Num(i+1)(w=t,v=m))(t=m-t,m=-2*t-m)*b^(i+1) for i in range(n))\n",
    "S=degn(S1*S2*S3,n)\n",
    "S"
   ]
  },
  {
   "cell_type": "markdown",
   "metadata": {},
   "source": [
    "The Chern number formula works correctly."
   ]
  },
  {
   "cell_type": "markdown",
   "metadata": {},
   "source": [
    "Next we test the segre number: \n",
    "Let $L$ be the trivial bundle with no weights. We have\n",
    "$$\\sum q^n\\int_{[S^{[n]}]}s(L^{[n]})=A_1^{L^2}A_2^{\\chi(0)}A_3^{LK}A_4^{K^2} $$\n",
    "for \n",
    "$$q=t(1+2t)^{2}$$\n",
    "$$A_2=\\frac{(1+2t)^{3/2}}{(1+6t)^{1/2}}$$\n",
    "$$A_4=\\frac{4(1+2t)^{1/2}(1+6t)^{1/2}}{((1+2t)^{1/2}+(1+6t)^{1/2})^2}$$\n",
    "where \n",
    "$$K^2=9, LK=0, \\chi(0)=1, L^2=0$$\n",
    "So should have \n",
    "$$1 - 3 t^2 + 40 t^3 - 294 t^4 + 1776 t^5 + O(t^6)$$"
   ]
  },
  {
   "cell_type": "code",
   "execution_count": 392,
   "metadata": {},
   "outputs": [
    {
     "data": {
      "text/html": [
       "<html><script type=\"math/tex; mode=display\">\\newcommand{\\Bold}[1]{\\mathbf{#1}}64</script></html>"
      ],
      "text/latex": [
       "$$\\newcommand{\\Bold}[1]{\\mathbf{#1}}64$$"
      ],
      "text/plain": [
       "64"
      ]
     },
     "execution_count": 392,
     "metadata": {},
     "output_type": "execute_result"
    }
   ],
   "source": [
    "def Segre_Num(n):\n",
    "    total=0\n",
    "    for p in Partitions(n):\n",
    "        add=top_chern(-tangent(p))*total_segre_vb(p)(w=w)\n",
    "        total+=add\n",
    "    return total\n",
    "def Se(n):\n",
    "    S1=1+ sum(SR(Segre_Num(i+1))(t=2*t+m,m=t+2*m)*b^(i+1) for i in range(n))\n",
    "    S2=1+ sum(SR(Segre_Num(i+1))(t=t-m,m=-t-2*m)*b^(i+1) for i in range(n))\n",
    "    S3=1+ sum(SR(Segre_Num(i+1))(t=m-t,m=-2*t-m)*b^(i+1) for i in range(n))\n",
    "    S=degn(S1*S2*S3,n)\n",
    "    return pretty(S)\n",
    "Se(3)(w=t)(m=0,t=0)"
   ]
  },
  {
   "cell_type": "code",
   "execution_count": 367,
   "metadata": {},
   "outputs": [],
   "source": [
    "def var_change(k):\n",
    "    return degn(pretty(1+sum(SR(Se(i))(m=0,t=0)*b^i for i in range(1,k+1)))(b=b*(1+2*b)^(2)),k)"
   ]
  },
  {
   "cell_type": "code",
   "execution_count": 373,
   "metadata": {},
   "outputs": [
    {
     "data": {
      "text/html": [
       "<html><script type=\"math/tex; mode=display\">\\newcommand{\\Bold}[1]{\\mathbf{#1}}1776</script></html>"
      ],
      "text/latex": [
       "$$\\newcommand{\\Bold}[1]{\\mathbf{#1}}1776$$"
      ],
      "text/plain": [
       "1776"
      ]
     },
     "execution_count": 373,
     "metadata": {},
     "output_type": "execute_result"
    }
   ],
   "source": [
    "var_change(5)"
   ]
  },
  {
   "cell_type": "markdown",
   "metadata": {},
   "source": [
    "Correct."
   ]
  },
  {
   "cell_type": "markdown",
   "metadata": {},
   "source": [
    "# Reason for not working for $\\mathbb{C}^2$\n",
    "In proposition 3.6, we take log then degree 0, which works because degree <0 part is 0 in the compact case, but this does not work for non-compact, and we need to add in the terms in $H_{-1,-1}$, etc."
   ]
  },
  {
   "cell_type": "markdown",
   "metadata": {},
   "source": [
    "Since we have tested that the compact formula works for Chern number rank 2 even for the non-compact case, we can use this to do some initial computation for the universal series for the non-compact case:\n",
    "$$\\sum q^n\\int_{S^{[n]}}c(\\alpha^{[n]})=(1+q)^{\\int_Sc(\\alpha)}=(1+q)^{\\int_Sc_0(\\alpha)}(1+q)^{\\int_Sc_1(\\alpha)}(1+q)^{\\int_Sc_2(\\alpha)}$$"
   ]
  },
  {
   "cell_type": "markdown",
   "metadata": {},
   "source": [
    "This means if we prove the above, then we get the DT-number as a special case\n",
    "$$\\sum q^n\\int_{S^{[n]}}1=(1+q)^{\\int_Sc(\\alpha)}=(1+q)^{\\int_S1}$$\n",
    "$$\\int_{S^{[n]}}1={\\frac{1}{tm}\\choose n}_{\\deg=-n}=\\frac{1}{n!(mt)^n}$$"
   ]
  },
  {
   "cell_type": "code",
   "execution_count": 403,
   "metadata": {},
   "outputs": [
    {
     "data": {
      "text/html": [
       "<html><script type=\"math/tex; mode=display\">\\newcommand{\\Bold}[1]{\\mathbf{#1}}\\frac{1}{6 \\, m^{3} t^{3}}</script></html>"
      ],
      "text/latex": [
       "$$\\newcommand{\\Bold}[1]{\\mathbf{#1}}\\frac{1}{6 \\, m^{3} t^{3}}$$"
      ],
      "text/plain": [
       "1/6/(m^3*t^3)"
      ]
     },
     "execution_count": 403,
     "metadata": {},
     "output_type": "execute_result"
    }
   ],
   "source": [
    "pretty(DT_Num(3))"
   ]
  },
  {
   "cell_type": "code",
   "execution_count": 17,
   "metadata": {},
   "outputs": [
    {
     "data": {
      "text/html": [
       "<html><script type=\"math/tex; mode=display\">\\newcommand{\\Bold}[1]{\\mathbf{#1}}\\frac{{\\left(m + t\\right)}^{4}}{24 \\, m^{4} t^{4}}</script></html>"
      ],
      "text/latex": [
       "$$\\newcommand{\\Bold}[1]{\\mathbf{#1}}\\frac{{\\left(m + t\\right)}^{4}}{24 \\, m^{4} t^{4}}$$"
      ],
      "text/plain": [
       "1/24*(m + t)^4/(m^4*t^4)"
      ]
     },
     "execution_count": 17,
     "metadata": {},
     "output_type": "execute_result"
    }
   ],
   "source": [
    "pretty(DT_Num_vir(4))"
   ]
  },
  {
   "cell_type": "markdown",
   "metadata": {},
   "source": [
    "Can apply this to Nekrasov's conjecture?"
   ]
  },
  {
   "cell_type": "code",
   "execution_count": 3,
   "metadata": {},
   "outputs": [
    {
     "data": {
      "text/html": [
       "<html><script type=\"math/tex; mode=display\">\\newcommand{\\Bold}[1]{\\mathbf{#1}}-\\frac{{\\left(2 \\, m^{2} t + 2 \\, m t^{2} - 3 \\, m t v - m v^{2} - t v^{2} - 3 \\, m t w - 4 \\, m v w - 4 \\, t v w - m w^{2} - t w^{2}\\right)} {\\left(m + t\\right)}}{2 \\, m^{2} t^{2}}</script></html>"
      ],
      "text/latex": [
       "$$\\newcommand{\\Bold}[1]{\\mathbf{#1}}-\\frac{{\\left(2 \\, m^{2} t + 2 \\, m t^{2} - 3 \\, m t v - m v^{2} - t v^{2} - 3 \\, m t w - 4 \\, m v w - 4 \\, t v w - m w^{2} - t w^{2}\\right)} {\\left(m + t\\right)}}{2 \\, m^{2} t^{2}}$$"
      ],
      "text/plain": [
       "-1/2*(2*m^2*t + 2*m*t^2 - 3*m*t*v - m*v^2 - t*v^2 - 3*m*t*w - 4*m*v*w - 4*t*v*w - m*w^2 - t*w^2)*(m + t)/(m^2*t^2)"
      ]
     },
     "execution_count": 3,
     "metadata": {},
     "output_type": "execute_result"
    }
   ],
   "source": [
    "deg0((Chern_Num_vir_rank_2(2)))"
   ]
  },
  {
   "cell_type": "code",
   "execution_count": 17,
   "metadata": {},
   "outputs": [
    {
     "data": {
      "text/html": [
       "<html><script type=\"math/tex; mode=display\">\\newcommand{\\Bold}[1]{\\mathbf{#1}}-\\frac{{\\left(m^{2} t + m t^{2} - 6 \\, m t - 12 \\, m - 12 \\, t\\right)} {\\left(m + t\\right)}}{m^{2} t^{2}}</script></html>"
      ],
      "text/latex": [
       "$$\\newcommand{\\Bold}[1]{\\mathbf{#1}}-\\frac{{\\left(m^{2} t + m t^{2} - 6 \\, m t - 12 \\, m - 12 \\, t\\right)} {\\left(m + t\\right)}}{m^{2} t^{2}}$$"
      ],
      "text/plain": [
       "-(m^2*t + m*t^2 - 6*m*t - 12*m - 12*t)*(m + t)/(m^2*t^2)"
      ]
     },
     "execution_count": 17,
     "metadata": {},
     "output_type": "execute_result"
    }
   ],
   "source": [
    "deg0((Chern_Num_vir_rank_2(2)))(v=2,w=2)"
   ]
  },
  {
   "cell_type": "code",
   "execution_count": 9,
   "metadata": {},
   "outputs": [
    {
     "data": {
      "text/html": [
       "<html><script type=\"math/tex; mode=display\">\\newcommand{\\Bold}[1]{\\mathbf{#1}}-\\frac{{\\left(12 \\, m^{2} t + 12 \\, m t^{2} - 10 \\, m t v - m v^{2} - t v^{2} - 10 \\, m t w - 8 \\, m v w - 8 \\, t v w - m w^{2} - t w^{2}\\right)} {\\left(2 \\, m t + m v + t v + m w + t w\\right)} {\\left(m + t\\right)}}{6 \\, m^{3} t^{3}}</script></html>"
      ],
      "text/latex": [
       "$$\\newcommand{\\Bold}[1]{\\mathbf{#1}}-\\frac{{\\left(12 \\, m^{2} t + 12 \\, m t^{2} - 10 \\, m t v - m v^{2} - t v^{2} - 10 \\, m t w - 8 \\, m v w - 8 \\, t v w - m w^{2} - t w^{2}\\right)} {\\left(2 \\, m t + m v + t v + m w + t w\\right)} {\\left(m + t\\right)}}{6 \\, m^{3} t^{3}}$$"
      ],
      "text/plain": [
       "-1/6*(12*m^2*t + 12*m*t^2 - 10*m*t*v - m*v^2 - t*v^2 - 10*m*t*w - 8*m*v*w - 8*t*v*w - m*w^2 - t*w^2)*(2*m*t + m*v + t*v + m*w + t*w)*(m + t)/(m^3*t^3)"
      ]
     },
     "execution_count": 9,
     "metadata": {},
     "output_type": "execute_result"
    }
   ],
   "source": [
    "deg0((Chern_Num_vir_rank_2(3)))"
   ]
  },
  {
   "cell_type": "code",
   "execution_count": 6,
   "metadata": {},
   "outputs": [
    {
     "data": {
      "text/html": [
       "<html><script type=\"math/tex; mode=display\">\\newcommand{\\Bold}[1]{\\mathbf{#1}}-\\frac{7 \\, {\\left(5 \\, t^{9} + 6 \\, t^{7} v^{2} + 12 \\, t^{7} v w + 6 \\, t^{7} w^{2}\\right)}}{3 \\, t^{9}}</script></html>"
      ],
      "text/latex": [
       "$$\\newcommand{\\Bold}[1]{\\mathbf{#1}}-\\frac{7 \\, {\\left(5 \\, t^{9} + 6 \\, t^{7} v^{2} + 12 \\, t^{7} v w + 6 \\, t^{7} w^{2}\\right)}}{3 \\, t^{9}}$$"
      ],
      "text/plain": [
       "-7/3*(5*t^9 + 6*t^7*v^2 + 12*t^7*v*w + 6*t^7*w^2)/t^9"
      ]
     },
     "execution_count": 6,
     "metadata": {},
     "output_type": "execute_result"
    }
   ],
   "source": [
    "deg0((Verlinde_Num_vir_rank_2(3))(x=exp(t),y=exp(m))/(m+t))(m=-t)"
   ]
  },
  {
   "cell_type": "code",
   "execution_count": 23,
   "metadata": {},
   "outputs": [
    {
     "data": {
      "text/html": [
       "<html><script type=\"math/tex; mode=display\">\\newcommand{\\Bold}[1]{\\mathbf{#1}}\\frac{{\\left(24 \\, m^{4} t - 117 \\, m^{3} t^{2} - 117 \\, m^{2} t^{3} + 24 \\, m t^{4} - 138 \\, m^{3} t w - 116 \\, m^{2} t^{2} w - 138 \\, m t^{3} w + 162 \\, m^{2} t w^{2} + 162 \\, m t^{2} w^{2} + 36 \\, m^{2} w^{3} + 72 \\, m t w^{3} + 36 \\, t^{2} w^{3}\\right)} {\\left(m + t\\right)}}{48 \\, m^{3} t^{3}}</script></html>"
      ],
      "text/latex": [
       "$$\\newcommand{\\Bold}[1]{\\mathbf{#1}}\\frac{{\\left(24 \\, m^{4} t - 117 \\, m^{3} t^{2} - 117 \\, m^{2} t^{3} + 24 \\, m t^{4} - 138 \\, m^{3} t w - 116 \\, m^{2} t^{2} w - 138 \\, m t^{3} w + 162 \\, m^{2} t w^{2} + 162 \\, m t^{2} w^{2} + 36 \\, m^{2} w^{3} + 72 \\, m t w^{3} + 36 \\, t^{2} w^{3}\\right)} {\\left(m + t\\right)}}{48 \\, m^{3} t^{3}}$$"
      ],
      "text/plain": [
       "1/48*(24*m^4*t - 117*m^3*t^2 - 117*m^2*t^3 + 24*m*t^4 - 138*m^3*t*w - 116*m^2*t^2*w - 138*m*t^3*w + 162*m^2*t*w^2 + 162*m*t^2*w^2 + 36*m^2*w^3 + 72*m*t*w^3 + 36*t^2*w^3)*(m + t)/(m^3*t^3)"
      ]
     },
     "execution_count": 23,
     "metadata": {},
     "output_type": "execute_result"
    }
   ],
   "source": [
    "deg0((Verlinde_Num_vir(3))(x=exp(t),y=exp(m)))"
   ]
  },
  {
   "cell_type": "code",
   "execution_count": 15,
   "metadata": {},
   "outputs": [
    {
     "data": {
      "text/html": [
       "<html><script type=\"math/tex; mode=display\">\\newcommand{\\Bold}[1]{\\mathbf{#1}}\\frac{{\\left(2 \\, m^{5} t - 13 \\, m^{4} t^{2} - 1010 \\, m^{3} t^{3} - 13 \\, m^{2} t^{4} + 2 \\, m t^{5} - 2160 \\, m^{3} t^{2} w - 2160 \\, m^{2} t^{3} w - 960 \\, m^{3} t w^{2} - 7800 \\, m^{2} t^{2} w^{2} - 960 \\, m t^{3} w^{2} - 9360 \\, m^{2} t w^{3} - 9360 \\, m t^{2} w^{3} - 3480 \\, m^{2} w^{4} - 6960 \\, m t w^{4} - 3480 \\, t^{2} w^{4}\\right)} {\\left(m + t\\right)}^{2}}{8640 \\, m^{4} t^{4}}</script></html>"
      ],
      "text/latex": [
       "$$\\newcommand{\\Bold}[1]{\\mathbf{#1}}\\frac{{\\left(2 \\, m^{5} t - 13 \\, m^{4} t^{2} - 1010 \\, m^{3} t^{3} - 13 \\, m^{2} t^{4} + 2 \\, m t^{5} - 2160 \\, m^{3} t^{2} w - 2160 \\, m^{2} t^{3} w - 960 \\, m^{3} t w^{2} - 7800 \\, m^{2} t^{2} w^{2} - 960 \\, m t^{3} w^{2} - 9360 \\, m^{2} t w^{3} - 9360 \\, m t^{2} w^{3} - 3480 \\, m^{2} w^{4} - 6960 \\, m t w^{4} - 3480 \\, t^{2} w^{4}\\right)} {\\left(m + t\\right)}^{2}}{8640 \\, m^{4} t^{4}}$$"
      ],
      "text/plain": [
       "1/8640*(2*m^5*t - 13*m^4*t^2 - 1010*m^3*t^3 - 13*m^2*t^4 + 2*m*t^5 - 2160*m^3*t^2*w - 2160*m^2*t^3*w - 960*m^3*t*w^2 - 7800*m^2*t^2*w^2 - 960*m*t^3*w^2 - 9360*m^2*t*w^3 - 9360*m*t^2*w^3 - 3480*m^2*w^4 - 6960*m*t*w^4 - 3480*t^2*w^4)*(m + t)^2/(m^4*t^4)"
      ]
     },
     "execution_count": 15,
     "metadata": {},
     "output_type": "execute_result"
    }
   ],
   "source": [
    "pretty(deg0((Chern_Num_vir(4)))-deg0((Verlinde_Num_vir_inv(4))(x=exp(t),y=exp(m))))"
   ]
  },
  {
   "cell_type": "code",
   "execution_count": 31,
   "metadata": {},
   "outputs": [
    {
     "data": {
      "text/html": [
       "<html><script type=\"math/tex; mode=display\">\\newcommand{\\Bold}[1]{\\mathbf{#1}}\\frac{{\\left(m t - 6 \\, v^{2} - 6 \\, w^{2}\\right)} {\\left(m + t\\right)}^{2}}{12 \\, m^{2} t^{2}}</script></html>"
      ],
      "text/latex": [
       "$$\\newcommand{\\Bold}[1]{\\mathbf{#1}}\\frac{{\\left(m t - 6 \\, v^{2} - 6 \\, w^{2}\\right)} {\\left(m + t\\right)}^{2}}{12 \\, m^{2} t^{2}}$$"
      ],
      "text/plain": [
       "1/12*(m*t - 6*v^2 - 6*w^2)*(m + t)^2/(m^2*t^2)"
      ]
     },
     "execution_count": 31,
     "metadata": {},
     "output_type": "execute_result"
    }
   ],
   "source": [
    "pretty(deg0(pretty(Verlinde_Num_vir_rank_2(2))(x=exp(t),y=exp(m)))-deg0(pretty(Segre_Num_vir_rank_2(2))))"
   ]
  },
  {
   "cell_type": "code",
   "execution_count": 33,
   "metadata": {},
   "outputs": [
    {
     "data": {
      "text/html": [
       "<html><script type=\"math/tex; mode=display\">\\newcommand{\\Bold}[1]{\\mathbf{#1}}0</script></html>"
      ],
      "text/latex": [
       "$$\\newcommand{\\Bold}[1]{\\mathbf{#1}}0$$"
      ],
      "text/plain": [
       "0"
      ]
     },
     "execution_count": 33,
     "metadata": {},
     "output_type": "execute_result"
    }
   ],
   "source": [
    "pretty(deg0(pretty(Verlinde_Num_vir_rank_2(1))(x=exp(t),y=exp(m)))+deg0(pretty(Segre_Num_vir_rank_2(1))))"
   ]
  },
  {
   "cell_type": "code",
   "execution_count": 24,
   "metadata": {
    "scrolled": true
   },
   "outputs": [
    {
     "data": {
      "text/html": [
       "<html><script type=\"math/tex; mode=display\">\\newcommand{\\Bold}[1]{\\mathbf{#1}}\\frac{{\\left(m^{3} + 3 \\, m^{2} t + 3 \\, m t^{2} + t^{3} - m^{2} v - 3 \\, m t v - t^{2} v - m^{2} w - 3 \\, m t w - t^{2} w + m v w + t v w - 2 \\, m^{2} - 6 \\, m t - 2 \\, t^{2} + m v + t v + m w + t w + m + t\\right)} {\\left(m + t\\right)}}{2 \\, {\\left(m - v - 1\\right)} {\\left(m - w - 1\\right)} m^{2} {\\left(t - v - 1\\right)} {\\left(t - w - 1\\right)} t^{2} {\\left(v + 1\\right)} {\\left(w + 1\\right)}}</script></html>"
      ],
      "text/latex": [
       "$$\\newcommand{\\Bold}[1]{\\mathbf{#1}}\\frac{{\\left(m^{3} + 3 \\, m^{2} t + 3 \\, m t^{2} + t^{3} - m^{2} v - 3 \\, m t v - t^{2} v - m^{2} w - 3 \\, m t w - t^{2} w + m v w + t v w - 2 \\, m^{2} - 6 \\, m t - 2 \\, t^{2} + m v + t v + m w + t w + m + t\\right)} {\\left(m + t\\right)}}{2 \\, {\\left(m - v - 1\\right)} {\\left(m - w - 1\\right)} m^{2} {\\left(t - v - 1\\right)} {\\left(t - w - 1\\right)} t^{2} {\\left(v + 1\\right)} {\\left(w + 1\\right)}}$$"
      ],
      "text/plain": [
       "1/2*(m^3 + 3*m^2*t + 3*m*t^2 + t^3 - m^2*v - 3*m*t*v - t^2*v - m^2*w - 3*m*t*w - t^2*w + m*v*w + t*v*w - 2*m^2 - 6*m*t - 2*t^2 + m*v + t*v + m*w + t*w + m + t)*(m + t)/((m - v - 1)*(m - w - 1)*m^2*(t - v - 1)*(t - w - 1)*t^2*(v + 1)*(w + 1))"
      ]
     },
     "execution_count": 24,
     "metadata": {},
     "output_type": "execute_result"
    }
   ],
   "source": [
    "pretty(Segre_Num_vir_rank_2(2))"
   ]
  },
  {
   "cell_type": "code",
   "execution_count": 30,
   "metadata": {},
   "outputs": [
    {
     "data": {
      "text/html": [
       "<html><script type=\"math/tex; mode=display\">\\newcommand{\\Bold}[1]{\\mathbf{#1}}-\\frac{{\\left(e^{\\left(3 \\, m\\right)} - e^{\\left(4 \\, m + 2 \\, t\\right)} - e^{\\left(3 \\, m + 3 \\, t\\right)} - e^{\\left(2 \\, m + 4 \\, t\\right)} + e^{\\left(2 \\, m + 2 \\, t\\right)} + e^{\\left(2 \\, m + t\\right)} + e^{\\left(m + 2 \\, t\\right)} - e^{m} + e^{\\left(3 \\, t\\right)} - e^{t}\\right)} {\\left(e^{\\left(m + t\\right)} - 1\\right)} e^{\\left(-2 \\, m - 2 \\, t + 2 \\, v + 2 \\, w\\right)}}{{\\left(e^{m} + 1\\right)} {\\left(e^{m} - 1\\right)}^{2} {\\left(e^{t} + 1\\right)} {\\left(e^{t} - 1\\right)}^{2}}</script></html>"
      ],
      "text/latex": [
       "$$\\newcommand{\\Bold}[1]{\\mathbf{#1}}-\\frac{{\\left(e^{\\left(3 \\, m\\right)} - e^{\\left(4 \\, m + 2 \\, t\\right)} - e^{\\left(3 \\, m + 3 \\, t\\right)} - e^{\\left(2 \\, m + 4 \\, t\\right)} + e^{\\left(2 \\, m + 2 \\, t\\right)} + e^{\\left(2 \\, m + t\\right)} + e^{\\left(m + 2 \\, t\\right)} - e^{m} + e^{\\left(3 \\, t\\right)} - e^{t}\\right)} {\\left(e^{\\left(m + t\\right)} - 1\\right)} e^{\\left(-2 \\, m - 2 \\, t + 2 \\, v + 2 \\, w\\right)}}{{\\left(e^{m} + 1\\right)} {\\left(e^{m} - 1\\right)}^{2} {\\left(e^{t} + 1\\right)} {\\left(e^{t} - 1\\right)}^{2}}$$"
      ],
      "text/plain": [
       "-(e^(3*m) - e^(4*m + 2*t) - e^(3*m + 3*t) - e^(2*m + 4*t) + e^(2*m + 2*t) + e^(2*m + t) + e^(m + 2*t) - e^m + e^(3*t) - e^t)*(e^(m + t) - 1)*e^(-2*m - 2*t + 2*v + 2*w)/((e^m + 1)*(e^m - 1)^2*(e^t + 1)*(e^t - 1)^2)"
      ]
     },
     "execution_count": 30,
     "metadata": {},
     "output_type": "execute_result"
    }
   ],
   "source": [
    "pretty(Verlinde_Num_vir_rank_2(2))(x=exp(t),y=exp(m))"
   ]
  }
 ],
 "metadata": {
  "kernelspec": {
   "display_name": "SageMath 9.3",
   "language": "sage",
   "name": "sagemath"
  },
  "language_info": {
   "codemirror_mode": {
    "name": "ipython",
    "version": 3
   },
   "file_extension": ".py",
   "mimetype": "text/x-python",
   "name": "python",
   "nbconvert_exporter": "python",
   "pygments_lexer": "ipython3",
   "version": "3.7.10"
  }
 },
 "nbformat": 4,
 "nbformat_minor": 4
}
