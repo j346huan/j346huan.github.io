{
 "cells": [
  {
   "cell_type": "code",
   "execution_count": 1,
   "metadata": {},
   "outputs": [],
   "source": [
    "reset()\n",
    "%display latex\n",
    "Partitions.options.latex=\"list\"\n",
    "load(\"setup.sage\")\n",
    "\n",
    "KT_vars = ['x','y','z1','z2','z3','z4','z5','v1','v2','v3','v4','v5']\n",
    "KT_ring = LaurentPolynomialRing(QQ, KT_vars)\n",
    "\n",
    "coho_vars = ['t','m','l1','l2','l3','l4','l5','w1','w2','w3','w4','w5']\n",
    "coho_ring = LaurentPolynomialRing(QQ, coho_vars)\n",
    "\n",
    "\n",
    "x,y,z1,z2,z3,z4,z5,v1,v2,v3,v4,v5=KT_ring.gens()\n",
    "t,m,l1,l2,l3,l4,l5,w1,w2,w3,w4,w5= coho_ring.gens()\n",
    "b=var('b')\n",
    "'''   w=SR.var('w',5)   '''\n",
    "v=[v1,v2,v3,v4,v5]\n",
    "w=[w1,w2,w3,w4,w5]\n",
    "L=var('l')\n",
    "z=[z1,z2,z3,z4,z5]\n",
    "\n",
    "\n",
    "def character(p,x=x,y=y):\n",
    "    return sum(y^(-r) * x^(-c) for r, c in p.cells())\n",
    "\n",
    "def character_vb(p, w,x=x,y=y):\n",
    "    Q = character(p,x,y)\n",
    "    return sum(Q * x^(w[2*i]) * y^(w[2*i+1]) for i in range(len(w)/2))\n",
    "\n",
    "def dual(f):\n",
    "    R = f.parent()\n",
    "    g= R.zero()\n",
    "    for exp, coeff in f.dict().items():\n",
    "        g+= R({exp.emul(-1): coeff})\n",
    "    return g\n",
    "\n",
    "def tangent(p,x=x,y=y):\n",
    "    total=0\n",
    "    for r,c in p.cells():\n",
    "        arm=p[r]-c-1\n",
    "        leg=p.conjugate()[c]-r-1\n",
    "        total+=y^(-leg)*x^(arm+1)+y^(leg+1)*x^(-arm)\n",
    "    return total\n",
    "\n",
    "def canonical_bundle(p,x=x,y=y):\n",
    "    return character_vb(p, (-1,-1),x,y)\n",
    "\n",
    "\n",
    "def structure_sheaf(p,x=x,y=y):\n",
    "    return character_vb(p, (0,0),x,y)\n",
    "\n",
    "def top_chern(f):\n",
    "    numer, denom = [], []\n",
    "    for coeff, mon in list(f):\n",
    "        wt = from_monomial(mon)\n",
    "        #if wt==0:\n",
    "            #continue\n",
    "        if coeff > 0:\n",
    "            numer += (coeff) * [wt]\n",
    "        elif coeff < 0:\n",
    "            denom += (-coeff) * [wt]\n",
    "    \n",
    "    return coho_ring.fraction_field()(prod(numer) / prod(denom))\n",
    "\n",
    "def determinant(f):\n",
    "    if f in ZZ:\n",
    "        return 1\n",
    "    else:\n",
    "        return prod((mon)^coeff for coeff, mon in f)\n",
    "\n",
    "def from_monomial(m):\n",
    "    return sum(m.degree(KT_ring.gen(i)) * coho_ring.gen(i) for i in range(len(coho_ring.gens())))\n",
    "\n",
    "def from_character(f):\n",
    "    numer, denom = [], []\n",
    "\n",
    "    for coeff, mon in list(f):\n",
    "        wt = from_monomial(mon)\n",
    "        if coeff > 0:\n",
    "            numer += (coeff) * [wt]\n",
    "        elif coeff < 0:\n",
    "            denom += (-coeff) * [wt]\n",
    "    return numer, denom\n",
    "\n",
    "def measure_unsymmetrized(f, inv=True):\n",
    "    \"\"\"\n",
    "    computes 1/(1-x^-1) for K-thy class x. If inv=false, returns 1/(1-x)\n",
    "    \"\"\"\n",
    "    R = f.parent()\n",
    "    \n",
    "    if f.parent() is ZZ:\n",
    "        L = [(ZZ(f), 1)]\n",
    "    else:\n",
    "        L = list(f)\n",
    "\n",
    "    numer, denom = R.one(), R.one()\n",
    "    for coeff, monomial in L:\n",
    "        if inv:\n",
    "            term = 1 - monomial^-1\n",
    "        else:\n",
    "            term = 1 - monomial\n",
    "        if monomial==1:\n",
    "            term = 0\n",
    "        if coeff < 0:\n",
    "            numer *= term ** (-coeff)\n",
    "        elif coeff > 0:\n",
    "            denom *= term ** coeff\n",
    "    return numer / denom\n",
    "\n",
    "\n",
    "\n",
    "def degn(f,n,b=b):\n",
    "    g=f.taylor(b,0,n+2)\n",
    "    L=g.coefficients(b)\n",
    "    for i in range(len(L)):\n",
    "        if L[i][1]==n:\n",
    "            return L[i][0]\n",
    "    return 0\n",
    "\n",
    "    "
   ]
  },
  {
   "cell_type": "code",
   "execution_count": 2,
   "metadata": {
    "scrolled": true
   },
   "outputs": [],
   "source": [
    "def partitions(Sum, K):\n",
    "    '''computes fixed components of Quot by CC^* action.'''\n",
    "    total=[]\n",
    "    def ptn(Sum, K, lst, total):\n",
    "        if K == 0:\n",
    "            if Sum == 0:\n",
    "                total+=[lst]\n",
    "            return\n",
    "        for i in range(0, min(Sum + 1, Sum + 1)):\n",
    "            ptn(Sum - i, K - 1, lst + [i],total)\n",
    "    ptn(Sum,K,[],total)\n",
    "    return total\n",
    "\n",
    "\n",
    "def fixed_locus(n, N):\n",
    "    '''gives list of fixed points of Hilb^n1 x Hilb^n2 x ... x Hilb^nN, input (n1,n2,...,nN)'''\n",
    "    total=[]\n",
    "    ptns=partitions(n,N)\n",
    "    for j in range(len(ptns)):\n",
    "        ptn=ptns[j]\n",
    "        lst=[]\n",
    "        for i in range(N):\n",
    "            lst+=[Partitions(ptn[i]).list()]\n",
    "        total+=[p for p in itertools.product(*lst)]\n",
    "    return total\n",
    "\n",
    "def Nvir(Z):\n",
    "    '''virtual normal bundle of quot scheme at (Z_1,...,Z_N)'''\n",
    "    total=0\n",
    "    for i in range(len(Z)):\n",
    "        for j in range(len(Z)):\n",
    "            total+=(1-character(Z[i],x=x^-1,y=y^-1)*(1-x)*(1-y))*character(Z[j],x=x,y=y)*(z[j]/z[i])\n",
    "    return total\n",
    "\n",
    "\n",
    "def total_chern_quot(Z,rank):\n",
    "    total=1\n",
    "    for i in range(len(Z)):\n",
    "        Q = character(Z[i],x,y)*(z[i])\n",
    "        roots = []\n",
    "        for coeff, mon in list(Q):\n",
    "            wt = from_monomial(mon)\n",
    "            for i in range(rank):\n",
    "                roots += (coeff) * [wt+w[i]]\n",
    "        total *= prod((1+r) for r in roots)\n",
    "    return total\n",
    "\n",
    "def top_chern_quot(Z):\n",
    "    total=1\n",
    "    for i in range(len(Z)):\n",
    "        Q = character(Z[i],x,y)*(z[i])\n",
    "        roots = []\n",
    "        for coeff, mon in list(Q):\n",
    "            wt = from_monomial(mon)\n",
    "            for i in range(rank):\n",
    "                roots += (coeff) * [wt+w[i]]\n",
    "        total *= prod((r) for r in roots)\n",
    "    return total\n",
    "\n",
    "def Chern_Num_quot(n,N,rank):\n",
    "    total=0\n",
    "    for Z in fixed_locus(n,N):\n",
    "        add=top_chern(-Nvir(Z))*total_chern_quot(Z,rank)\n",
    "        total+=add\n",
    "    return total\n",
    "\n",
    "def DT_quot(n,N):\n",
    "    total=0\n",
    "    for Z in fixed_locus(n,N):\n",
    "        add=top_chern(-Nvir(Z))\n",
    "        total+=add\n",
    "    return total\n",
    "\n",
    "def total_segre_quot(Z,rank):\n",
    "    total=1\n",
    "    for i in range(len(Z)):\n",
    "        Q = character(Z[i],x,y)*(z[i])\n",
    "        roots = []\n",
    "        for coeff, mon in list(Q):\n",
    "            wt = from_monomial(mon)\n",
    "            for i in range(rank):\n",
    "                roots += (coeff) * [wt+w[i]]\n",
    "        total *= prod(1/(1+r) for r in roots)\n",
    "    return total\n",
    "\n",
    "def Segre_Num_quot(n,N,rank):\n",
    "    total=0\n",
    "    for Z in fixed_locus(n,N):\n",
    "        add=top_chern(-Nvir(Z))*total_segre_quot(Z,rank)\n",
    "        total+=add\n",
    "        print(\"added\")\n",
    "    return total\n",
    "\n",
    "\n",
    "def determinant_quot(Z,n,rank):\n",
    "    det=1\n",
    "    for i in range(len(Z)):\n",
    "        Q = character(Z[i],x,y)*(z[i])\n",
    "        det *= determinant(Q)\n",
    "    return (det^rank)*((prod(v[i] for i in range(rank)))^n)\n",
    "\n",
    "def Verlinde_Num_quot(n,N,rank):\n",
    "    total=0\n",
    "    for Z in fixed_locus(n,N):\n",
    "        add=measure_unsymmetrized(Nvir(Z))*\\\n",
    "            determinant_quot(Z,n,rank)\n",
    "        total+=add\n",
    "    return total\n",
    "\n",
    "def Verlinde_Num_quot_inv(n,N,rank):\n",
    "    total=0\n",
    "    for Z in fixed_locus(n,N):\n",
    "        add=measure_unsymmetrized(Nvir(Z))*\\\n",
    "            (1/determinant_quot(Z,n,rank))\n",
    "        total+=add\n",
    "    return total\n",
    "\n",
    "\n",
    "def deg0(f):\n",
    "    if f==0: \n",
    "        return 0\n",
    "    return degn(f(t=b*t,m=b*m,\n",
    "                         l1=b*l1,l2=b*l2,l3=b*l3,l4=b*l4,l5=b*l5,\n",
    "                         w1=b*w1,w2=b*w2,w3=b*w3,w4=b*w4,w5=b*w5),0)\n",
    "\n",
    "def deg02(f):\n",
    "    if f==0: \n",
    "        return 0\n",
    "    return pretty(degn(f(t=b*t,m=b*m,w=b*w,v=b*v),0))\n",
    "\n",
    "def set_exp(f):\n",
    "    for i in range(len(KT_vars)):\n",
    "        f=SR(f).subs(KT_ring.gens()[i]==exp(coho_ring.gens()[i]))\n",
    "    return f\n",
    "def simplify_weight(f):\n",
    "    return f(l1=0,l2=l1,l3=2*l1,l4=3*l1,l5=4*l5)\n",
    "\n",
    "def symmetrize(f):\n",
    "    if f in ZZ:\n",
    "        return f\n",
    "    return f(l1=w1,l2=w2,l3=w3,l4=w4,l5=w5,w1=l1,w2=l2,w3=l3,w4=l4,w5=l5)\n",
    "\n",
    "\n",
    "def symmetrizeK(f):\n",
    "    if f in ZZ:\n",
    "        return f\n",
    "    return f(z1=v1,z2=v2,z3=v3,z4=v4,z5=v5,v1=z1,v2=z2,v3=z3,v4=z4,v5=z5)\n",
    "\n",
    "def all_check(start,finish):\n",
    "    # check for n,N,r, up to r=5\n",
    "    with open(\"symmetry2d-segre-checked.txt\") as f:\n",
    "        lines = f.read().splitlines()\n",
    "    if len(lines)==0:\n",
    "        n,N,r=[0,0,0]\n",
    "    else:\n",
    "        last_checked=lines[len(lines)-1]\n",
    "        n,N,r=[int(a) for a in last_checked.split(\",\")]\n",
    "    for i in range(start,finish+1):\n",
    "        for j in range(1,4):\n",
    "            for k in range(1,4):\n",
    "                n,N,r=[i,j,k]\n",
    "                if k<j:\n",
    "                    continue\n",
    "                if j<k:\n",
    "                    print(\"checking segre sym: n=\"+str(n)+\", N=\"+str(N)+\", r=\"+str(r))\n",
    "                    if str(n)+','+str(N)+','+str(r) in lines:\n",
    "                        print(\"n=\"+str(n)+\", N=\"+str(N)+\", r=\"+str(r)+\" already checked\")\n",
    "                    else:\n",
    "                        S1=Segre_Num_quot(n,N,r)\n",
    "                        S2=Segre_Num_quot(n,r,N)\n",
    "                        print(\"comparing\")\n",
    "                        diff=S1*(-1)^(n*N)-symmetrize(S2)*(-1)^(n*r)\n",
    "                        if diff==0:\n",
    "                            writeline(\"symmetry2d-segre-checked.txt\",str(n)+','+str(N)+','+str(r))\n",
    "                            print(\"checked\")\n",
    "                        else:\n",
    "                            print(\"failed\")\n",
    "                              \n",
    "        print(\"all checked for: n=\"+str(i))\n",
    "                        \n",
    "                    \n",
    "def writeline(file,s):\n",
    "    g = open(file, \"a\")\n",
    "    g.write(s+\"\\n\")\n",
    "    g.close()\n",
    "                \n",
    "                \n",
    "def clear_all_files():\n",
    "    open('SV2d-checked.txt', 'w').close()\n",
    "    open('symmetry2d-segre-checked.txt', 'w').close()\n",
    "    open('symmetry2d-Verlinde-checked.txt', 'w').close()\n",
    "    open('verlinde2d-out.txt', 'w').close()\n",
    "    open('segre2d-out.txt', 'w').close()\n",
    "    open('SV2d-out.txt', 'w').close()\n",
    "            \n",
    "\n",
    "def check_nek(N,nlimit):\n",
    "    with open(\"nek2d-checked.txt\") as f:\n",
    "        lines = f.read().splitlines()\n",
    "    for n in range(1,nlimit+1):\n",
    "        print(\"checking n=\"+str(n)+\", N=\"+str(N))\n",
    "        if str(n)+','+str(N) in lines:\n",
    "            print(\"n=\"+str(n)+\", N=\"+str(N)+\" already checked\")\n",
    "        else:\n",
    "            a=Chern_Num_quot(n,N,N-1)\n",
    "            b=(m+t)^n/factorial(n)/(m*t)^n\n",
    "            if a==b:\n",
    "                writeline(\"nek2d-checked.txt\",str(n)+','+str(N))\n",
    "                print(\"checked\")\n",
    "            else:\n",
    "                print(\"failed\")"
   ]
  },
  {
   "cell_type": "code",
   "execution_count": 21,
   "metadata": {},
   "outputs": [
    {
     "name": "stdout",
     "output_type": "stream",
     "text": [
      "checking n=1, N=1\n",
      "n=1, N=1 already checked\n",
      "checking n=2, N=1\n",
      "n=2, N=1 already checked\n",
      "checking n=3, N=1\n",
      "n=3, N=1 already checked\n",
      "checking n=4, N=1\n",
      "n=4, N=1 already checked\n",
      "checking n=5, N=1\n",
      "n=5, N=1 already checked\n",
      "checking n=6, N=1\n",
      "n=6, N=1 already checked\n",
      "checking n=7, N=1\n",
      "n=7, N=1 already checked\n",
      "checking n=8, N=1\n",
      "n=8, N=1 already checked\n",
      "checking n=9, N=1\n",
      "n=9, N=1 already checked\n",
      "checking n=10, N=1\n",
      "n=10, N=1 already checked\n",
      "checking n=11, N=1\n",
      "n=11, N=1 already checked\n",
      "checking n=12, N=1\n",
      "n=12, N=1 already checked\n",
      "checking n=13, N=1\n",
      "n=13, N=1 already checked\n",
      "checking n=14, N=1\n",
      "n=14, N=1 already checked\n",
      "checking n=15, N=1\n",
      "n=15, N=1 already checked\n",
      "checking n=16, N=1\n",
      "n=16, N=1 already checked\n",
      "checking n=17, N=1\n",
      "n=17, N=1 already checked\n",
      "checking n=18, N=1\n",
      "n=18, N=1 already checked\n",
      "checking n=19, N=1\n",
      "n=19, N=1 already checked\n",
      "checking n=20, N=1\n",
      "n=20, N=1 already checked\n"
     ]
    }
   ],
   "source": [
    "check_nek(1,20)"
   ]
  },
  {
   "cell_type": "code",
   "execution_count": 24,
   "metadata": {},
   "outputs": [
    {
     "name": "stdout",
     "output_type": "stream",
     "text": [
      "checking n=1, N=2\n",
      "n=1, N=2 already checked\n",
      "checking n=2, N=2\n",
      "n=2, N=2 already checked\n",
      "checking n=3, N=2\n",
      "n=3, N=2 already checked\n",
      "checking n=4, N=2\n",
      "n=4, N=2 already checked\n",
      "checking n=5, N=2\n",
      "n=5, N=2 already checked\n",
      "checking n=6, N=2\n",
      "n=6, N=2 already checked\n",
      "checking n=7, N=2\n",
      "n=7, N=2 already checked\n"
     ]
    }
   ],
   "source": [
    "check_nek(2,7)"
   ]
  },
  {
   "cell_type": "code",
   "execution_count": null,
   "metadata": {},
   "outputs": [
    {
     "name": "stdout",
     "output_type": "stream",
     "text": [
      "checking n=1, N=3\n",
      "checked\n",
      "checking n=2, N=3\n",
      "checked\n",
      "checking n=3, N=3\n",
      "checked\n",
      "checking n=4, N=3\n",
      "checked\n",
      "checking n=5, N=3\n"
     ]
    }
   ],
   "source": [
    "check_nek(3,5)"
   ]
  },
  {
   "cell_type": "code",
   "execution_count": 5,
   "metadata": {},
   "outputs": [
    {
     "name": "stdout",
     "output_type": "stream",
     "text": [
      "checking n=1, N=4\n",
      "checked\n",
      "checking n=2, N=4\n",
      "checked\n",
      "checking n=3, N=4\n"
     ]
    },
    {
     "ename": "KeyboardInterrupt",
     "evalue": "",
     "output_type": "error",
     "traceback": [
      "\u001b[0;31m---------------------------------------------------------------------------\u001b[0m",
      "\u001b[0;31mKeyboardInterrupt\u001b[0m                         Traceback (most recent call last)",
      "\u001b[0;32m/opt/sagemath-9.3/local/lib/python3.7/site-packages/sage/all_cmdline.py\u001b[0m in \u001b[0;36m<module>\u001b[0;34m\u001b[0m\n\u001b[0;32m----> 1\u001b[0;31m \u001b[0mcheck_nek\u001b[0m\u001b[0;34m(\u001b[0m\u001b[0mInteger\u001b[0m\u001b[0;34m(\u001b[0m\u001b[0;36m4\u001b[0m\u001b[0;34m)\u001b[0m\u001b[0;34m,\u001b[0m\u001b[0mInteger\u001b[0m\u001b[0;34m(\u001b[0m\u001b[0;36m3\u001b[0m\u001b[0;34m)\u001b[0m\u001b[0;34m)\u001b[0m\u001b[0;34m\u001b[0m\u001b[0;34m\u001b[0m\u001b[0m\n\u001b[0m",
      "\u001b[0;32m/opt/sagemath-9.3/local/lib/python3.7/site-packages/sage/all_cmdline.py\u001b[0m in \u001b[0;36mcheck_nek\u001b[0;34m(N, nlimit)\u001b[0m\n\u001b[1;32m    201\u001b[0m             \u001b[0mprint\u001b[0m\u001b[0;34m(\u001b[0m\u001b[0;34m\"n=\"\u001b[0m\u001b[0;34m+\u001b[0m\u001b[0mstr\u001b[0m\u001b[0;34m(\u001b[0m\u001b[0mn\u001b[0m\u001b[0;34m)\u001b[0m\u001b[0;34m+\u001b[0m\u001b[0;34m\", N=\"\u001b[0m\u001b[0;34m+\u001b[0m\u001b[0mstr\u001b[0m\u001b[0;34m(\u001b[0m\u001b[0mN\u001b[0m\u001b[0;34m)\u001b[0m\u001b[0;34m+\u001b[0m\u001b[0;34m\" already checked\"\u001b[0m\u001b[0;34m)\u001b[0m\u001b[0;34m\u001b[0m\u001b[0;34m\u001b[0m\u001b[0m\n\u001b[1;32m    202\u001b[0m         \u001b[0;32melse\u001b[0m\u001b[0;34m:\u001b[0m\u001b[0;34m\u001b[0m\u001b[0;34m\u001b[0m\u001b[0m\n\u001b[0;32m--> 203\u001b[0;31m             \u001b[0ma\u001b[0m\u001b[0;34m=\u001b[0m\u001b[0mChern_Num_quot\u001b[0m\u001b[0;34m(\u001b[0m\u001b[0mn\u001b[0m\u001b[0;34m,\u001b[0m\u001b[0mN\u001b[0m\u001b[0;34m,\u001b[0m\u001b[0mN\u001b[0m\u001b[0;34m-\u001b[0m\u001b[0mInteger\u001b[0m\u001b[0;34m(\u001b[0m\u001b[0;36m1\u001b[0m\u001b[0;34m)\u001b[0m\u001b[0;34m)\u001b[0m\u001b[0;34m\u001b[0m\u001b[0;34m\u001b[0m\u001b[0m\n\u001b[0m\u001b[1;32m    204\u001b[0m             \u001b[0mb\u001b[0m\u001b[0;34m=\u001b[0m\u001b[0;34m(\u001b[0m\u001b[0mm\u001b[0m\u001b[0;34m+\u001b[0m\u001b[0mt\u001b[0m\u001b[0;34m)\u001b[0m\u001b[0;34m**\u001b[0m\u001b[0mn\u001b[0m\u001b[0;34m/\u001b[0m\u001b[0mfactorial\u001b[0m\u001b[0;34m(\u001b[0m\u001b[0mn\u001b[0m\u001b[0;34m)\u001b[0m\u001b[0;34m/\u001b[0m\u001b[0;34m(\u001b[0m\u001b[0mm\u001b[0m\u001b[0;34m*\u001b[0m\u001b[0mt\u001b[0m\u001b[0;34m)\u001b[0m\u001b[0;34m**\u001b[0m\u001b[0mn\u001b[0m\u001b[0;34m\u001b[0m\u001b[0;34m\u001b[0m\u001b[0m\n\u001b[1;32m    205\u001b[0m             \u001b[0;32mif\u001b[0m \u001b[0ma\u001b[0m\u001b[0;34m==\u001b[0m\u001b[0mb\u001b[0m\u001b[0;34m:\u001b[0m\u001b[0;34m\u001b[0m\u001b[0;34m\u001b[0m\u001b[0m\n",
      "\u001b[0;32m/opt/sagemath-9.3/local/lib/python3.7/site-packages/sage/all_cmdline.py\u001b[0m in \u001b[0;36mChern_Num_quot\u001b[0;34m(n, N, rank)\u001b[0m\n\u001b[1;32m     62\u001b[0m     \u001b[0;32mfor\u001b[0m \u001b[0mZ\u001b[0m \u001b[0;32min\u001b[0m \u001b[0mfixed_locus\u001b[0m\u001b[0;34m(\u001b[0m\u001b[0mn\u001b[0m\u001b[0;34m,\u001b[0m\u001b[0mN\u001b[0m\u001b[0;34m)\u001b[0m\u001b[0;34m:\u001b[0m\u001b[0;34m\u001b[0m\u001b[0;34m\u001b[0m\u001b[0m\n\u001b[1;32m     63\u001b[0m         \u001b[0madd\u001b[0m\u001b[0;34m=\u001b[0m\u001b[0mtop_chern\u001b[0m\u001b[0;34m(\u001b[0m\u001b[0;34m-\u001b[0m\u001b[0mNvir\u001b[0m\u001b[0;34m(\u001b[0m\u001b[0mZ\u001b[0m\u001b[0;34m)\u001b[0m\u001b[0;34m)\u001b[0m\u001b[0;34m*\u001b[0m\u001b[0mtotal_chern_quot\u001b[0m\u001b[0;34m(\u001b[0m\u001b[0mZ\u001b[0m\u001b[0;34m,\u001b[0m\u001b[0mrank\u001b[0m\u001b[0;34m)\u001b[0m\u001b[0;34m\u001b[0m\u001b[0;34m\u001b[0m\u001b[0m\n\u001b[0;32m---> 64\u001b[0;31m         \u001b[0mtotal\u001b[0m\u001b[0;34m+=\u001b[0m\u001b[0madd\u001b[0m\u001b[0;34m\u001b[0m\u001b[0;34m\u001b[0m\u001b[0m\n\u001b[0m\u001b[1;32m     65\u001b[0m     \u001b[0;32mreturn\u001b[0m \u001b[0mtotal\u001b[0m\u001b[0;34m\u001b[0m\u001b[0;34m\u001b[0m\u001b[0m\n\u001b[1;32m     66\u001b[0m \u001b[0;34m\u001b[0m\u001b[0m\n",
      "\u001b[0;32m/opt/sagemath-9.3/local/lib/python3.7/site-packages/sage/structure/element.pyx\u001b[0m in \u001b[0;36msage.structure.element.Element.__add__ (build/cythonized/sage/structure/element.c:10954)\u001b[0;34m()\u001b[0m\n\u001b[1;32m   1227\u001b[0m         \u001b[0mcdef\u001b[0m \u001b[0mint\u001b[0m \u001b[0mcl\u001b[0m \u001b[0;34m=\u001b[0m \u001b[0mclassify_elements\u001b[0m\u001b[0;34m(\u001b[0m\u001b[0mleft\u001b[0m\u001b[0;34m,\u001b[0m \u001b[0mright\u001b[0m\u001b[0;34m)\u001b[0m\u001b[0;34m\u001b[0m\u001b[0;34m\u001b[0m\u001b[0m\n\u001b[1;32m   1228\u001b[0m         \u001b[0;32mif\u001b[0m \u001b[0mHAVE_SAME_PARENT\u001b[0m\u001b[0;34m(\u001b[0m\u001b[0mcl\u001b[0m\u001b[0;34m)\u001b[0m\u001b[0;34m:\u001b[0m\u001b[0;34m\u001b[0m\u001b[0;34m\u001b[0m\u001b[0m\n\u001b[0;32m-> 1229\u001b[0;31m             \u001b[0;32mreturn\u001b[0m \u001b[0;34m(\u001b[0m\u001b[0;34m<\u001b[0m\u001b[0mElement\u001b[0m\u001b[0;34m>\u001b[0m\u001b[0mleft\u001b[0m\u001b[0;34m)\u001b[0m\u001b[0;34m.\u001b[0m\u001b[0m_add_\u001b[0m\u001b[0;34m(\u001b[0m\u001b[0mright\u001b[0m\u001b[0;34m)\u001b[0m\u001b[0;34m\u001b[0m\u001b[0;34m\u001b[0m\u001b[0m\n\u001b[0m\u001b[1;32m   1230\u001b[0m         \u001b[0;31m# Left and right are Sage elements => use coercion model\u001b[0m\u001b[0;34m\u001b[0m\u001b[0;34m\u001b[0m\u001b[0;34m\u001b[0m\u001b[0m\n\u001b[1;32m   1231\u001b[0m         \u001b[0;32mif\u001b[0m \u001b[0mBOTH_ARE_ELEMENT\u001b[0m\u001b[0;34m(\u001b[0m\u001b[0mcl\u001b[0m\u001b[0;34m)\u001b[0m\u001b[0;34m:\u001b[0m\u001b[0;34m\u001b[0m\u001b[0;34m\u001b[0m\u001b[0m\n",
      "\u001b[0;32m/opt/sagemath-9.3/local/lib/python3.7/site-packages/sage/rings/fraction_field_element.pyx\u001b[0m in \u001b[0;36msage.rings.fraction_field_element.FractionFieldElement._add_ (build/cythonized/sage/rings/fraction_field_element.c:6814)\u001b[0;34m()\u001b[0m\n\u001b[1;32m    607\u001b[0m                     \u001b[0;32melse\u001b[0m\u001b[0;34m:\u001b[0m\u001b[0;34m\u001b[0m\u001b[0;34m\u001b[0m\u001b[0m\n\u001b[1;32m    608\u001b[0m                         \u001b[0mtden\u001b[0m \u001b[0;34m=\u001b[0m \u001b[0mself\u001b[0m\u001b[0;34m.\u001b[0m\u001b[0m__denominator\u001b[0m \u001b[0;34m*\u001b[0m \u001b[0msden\u001b[0m\u001b[0;34m\u001b[0m\u001b[0;34m\u001b[0m\u001b[0m\n\u001b[0;32m--> 609\u001b[0;31m                         \u001b[0me\u001b[0m    \u001b[0;34m=\u001b[0m \u001b[0mtnum\u001b[0m\u001b[0;34m.\u001b[0m\u001b[0mgcd\u001b[0m\u001b[0;34m(\u001b[0m\u001b[0md\u001b[0m\u001b[0;34m)\u001b[0m\u001b[0;34m\u001b[0m\u001b[0;34m\u001b[0m\u001b[0m\n\u001b[0m\u001b[1;32m    610\u001b[0m                         \u001b[0;32mif\u001b[0m \u001b[0;32mnot\u001b[0m \u001b[0me\u001b[0m\u001b[0;34m.\u001b[0m\u001b[0mis_unit\u001b[0m\u001b[0;34m(\u001b[0m\u001b[0;34m)\u001b[0m\u001b[0;34m:\u001b[0m\u001b[0;34m\u001b[0m\u001b[0;34m\u001b[0m\u001b[0m\n\u001b[1;32m    611\u001b[0m                             \u001b[0mtnum\u001b[0m \u001b[0;34m=\u001b[0m \u001b[0mtnum\u001b[0m \u001b[0;34m//\u001b[0m \u001b[0me\u001b[0m\u001b[0;34m\u001b[0m\u001b[0;34m\u001b[0m\u001b[0m\n",
      "\u001b[0;32m/opt/sagemath-9.3/local/lib/python3.7/site-packages/sage/structure/element.pyx\u001b[0m in \u001b[0;36msage.structure.element.coerce_binop.new_method (build/cythonized/sage/structure/element.c:28006)\u001b[0;34m()\u001b[0m\n\u001b[1;32m   4410\u001b[0m     \u001b[0;32mdef\u001b[0m \u001b[0mnew_method\u001b[0m\u001b[0;34m(\u001b[0m\u001b[0mself\u001b[0m\u001b[0;34m,\u001b[0m \u001b[0mother\u001b[0m\u001b[0;34m,\u001b[0m \u001b[0;34m*\u001b[0m\u001b[0margs\u001b[0m\u001b[0;34m,\u001b[0m \u001b[0;34m**\u001b[0m\u001b[0mkwargs\u001b[0m\u001b[0;34m)\u001b[0m\u001b[0;34m:\u001b[0m\u001b[0;34m\u001b[0m\u001b[0;34m\u001b[0m\u001b[0m\n\u001b[1;32m   4411\u001b[0m         \u001b[0;32mif\u001b[0m \u001b[0mhave_same_parent\u001b[0m\u001b[0;34m(\u001b[0m\u001b[0mself\u001b[0m\u001b[0;34m,\u001b[0m \u001b[0mother\u001b[0m\u001b[0;34m)\u001b[0m\u001b[0;34m:\u001b[0m\u001b[0;34m\u001b[0m\u001b[0;34m\u001b[0m\u001b[0m\n\u001b[0;32m-> 4412\u001b[0;31m             \u001b[0;32mreturn\u001b[0m \u001b[0mmethod\u001b[0m\u001b[0;34m(\u001b[0m\u001b[0mself\u001b[0m\u001b[0;34m,\u001b[0m \u001b[0mother\u001b[0m\u001b[0;34m,\u001b[0m \u001b[0;34m*\u001b[0m\u001b[0margs\u001b[0m\u001b[0;34m,\u001b[0m \u001b[0;34m**\u001b[0m\u001b[0mkwargs\u001b[0m\u001b[0;34m)\u001b[0m\u001b[0;34m\u001b[0m\u001b[0;34m\u001b[0m\u001b[0m\n\u001b[0m\u001b[1;32m   4413\u001b[0m         \u001b[0;32melse\u001b[0m\u001b[0;34m:\u001b[0m\u001b[0;34m\u001b[0m\u001b[0;34m\u001b[0m\u001b[0m\n\u001b[1;32m   4414\u001b[0m             \u001b[0ma\u001b[0m\u001b[0;34m,\u001b[0m \u001b[0mb\u001b[0m \u001b[0;34m=\u001b[0m \u001b[0mcoercion_model\u001b[0m\u001b[0;34m.\u001b[0m\u001b[0mcanonical_coercion\u001b[0m\u001b[0;34m(\u001b[0m\u001b[0mself\u001b[0m\u001b[0;34m,\u001b[0m \u001b[0mother\u001b[0m\u001b[0;34m)\u001b[0m\u001b[0;34m\u001b[0m\u001b[0;34m\u001b[0m\u001b[0m\n",
      "\u001b[0;32m/opt/sagemath-9.3/local/lib/python3.7/site-packages/sage/rings/polynomial/multi_polynomial_libsingular.pyx\u001b[0m in \u001b[0;36msage.rings.polynomial.multi_polynomial_libsingular.MPolynomial_libsingular.gcd (build/cythonized/sage/rings/polynomial/multi_polynomial_libsingular.cpp:37446)\u001b[0;34m()\u001b[0m\n\u001b[1;32m   4851\u001b[0m             \u001b[0;34m+\u001b[0m \u001b[0msingular_polynomial_length_bounded\u001b[0m\u001b[0;34m(\u001b[0m\u001b[0m_right\u001b[0m\u001b[0;34m.\u001b[0m\u001b[0m_poly\u001b[0m\u001b[0;34m,\u001b[0m\u001b[0;36m20\u001b[0m\u001b[0;34m)\u001b[0m\u001b[0;34m\u001b[0m\u001b[0;34m\u001b[0m\u001b[0m\n\u001b[1;32m   4852\u001b[0m         \u001b[0;32mif\u001b[0m \u001b[0mcount\u001b[0m \u001b[0;34m>=\u001b[0m \u001b[0;36m20\u001b[0m\u001b[0;34m:\u001b[0m\u001b[0;34m\u001b[0m\u001b[0;34m\u001b[0m\u001b[0m\n\u001b[0;32m-> 4853\u001b[0;31m             \u001b[0msig_on\u001b[0m\u001b[0;34m(\u001b[0m\u001b[0;34m)\u001b[0m\u001b[0;34m\u001b[0m\u001b[0;34m\u001b[0m\u001b[0m\n\u001b[0m\u001b[1;32m   4854\u001b[0m         \u001b[0m_res\u001b[0m \u001b[0;34m=\u001b[0m \u001b[0msingclap_gcd\u001b[0m\u001b[0;34m(\u001b[0m\u001b[0mp_Copy\u001b[0m\u001b[0;34m(\u001b[0m\u001b[0mself\u001b[0m\u001b[0;34m.\u001b[0m\u001b[0m_poly\u001b[0m\u001b[0;34m,\u001b[0m \u001b[0m_ring\u001b[0m\u001b[0;34m)\u001b[0m\u001b[0;34m,\u001b[0m \u001b[0mp_Copy\u001b[0m\u001b[0;34m(\u001b[0m\u001b[0m_right\u001b[0m\u001b[0;34m.\u001b[0m\u001b[0m_poly\u001b[0m\u001b[0;34m,\u001b[0m \u001b[0m_ring\u001b[0m\u001b[0;34m)\u001b[0m\u001b[0;34m,\u001b[0m \u001b[0m_ring\u001b[0m \u001b[0;34m)\u001b[0m\u001b[0;34m\u001b[0m\u001b[0;34m\u001b[0m\u001b[0m\n\u001b[1;32m   4855\u001b[0m         \u001b[0;32mif\u001b[0m \u001b[0mcount\u001b[0m \u001b[0;34m>=\u001b[0m \u001b[0;36m20\u001b[0m\u001b[0;34m:\u001b[0m\u001b[0;34m\u001b[0m\u001b[0;34m\u001b[0m\u001b[0m\n",
      "\u001b[0;31mKeyboardInterrupt\u001b[0m: "
     ]
    }
   ],
   "source": [
    "check_nek(4,3)"
   ]
  },
  {
   "cell_type": "code",
   "execution_count": 3,
   "metadata": {},
   "outputs": [
    {
     "name": "stdout",
     "output_type": "stream",
     "text": [
      "checking n=1, N=5\n",
      "n=1, N=5 already checked\n",
      "checking n=2, N=5\n",
      "checked\n"
     ]
    }
   ],
   "source": [
    "check_nek(5,2)"
   ]
  },
  {
   "cell_type": "code",
   "execution_count": 14,
   "metadata": {
    "scrolled": true
   },
   "outputs": [
    {
     "name": "stdout",
     "output_type": "stream",
     "text": [
      "checking segre sym: n=1, N=1, r=2\n",
      "n=1, N=1, r=2 already checked\n",
      "all checked for: n=1\n",
      "checking segre sym: n=2, N=1, r=2\n",
      "n=2, N=1, r=2 already checked\n",
      "all checked for: n=2\n",
      "checking segre sym: n=3, N=1, r=2\n",
      "n=3, N=1, r=2 already checked\n",
      "all checked for: n=3\n",
      "checking segre sym: n=4, N=1, r=2\n",
      "n=4, N=1, r=2 already checked\n",
      "all checked for: n=4\n",
      "checking segre sym: n=5, N=1, r=2\n",
      "checked\n",
      "all checked for: n=5\n"
     ]
    }
   ],
   "source": [
    "all_check(1,5)"
   ]
  },
  {
   "cell_type": "code",
   "execution_count": null,
   "metadata": {},
   "outputs": [
    {
     "name": "stdout",
     "output_type": "stream",
     "text": [
      "checking segre sym: n=1, N=1, r=2\n",
      "n=1, N=1, r=2 already checked\n",
      "checking segre sym: n=1, N=1, r=3\n",
      "n=1, N=1, r=3 already checked\n",
      "checking segre sym: n=1, N=2, r=3\n",
      "n=1, N=2, r=3 already checked\n",
      "all checked for: n=1\n",
      "checking segre sym: n=2, N=1, r=2\n",
      "n=2, N=1, r=2 already checked\n",
      "checking segre sym: n=2, N=1, r=3\n",
      "n=2, N=1, r=3 already checked\n",
      "checking segre sym: n=2, N=2, r=3\n",
      "n=2, N=2, r=3 already checked\n",
      "all checked for: n=2\n",
      "checking segre sym: n=3, N=1, r=2\n",
      "n=3, N=1, r=2 already checked\n",
      "checking segre sym: n=3, N=1, r=3\n",
      "n=3, N=1, r=3 already checked\n",
      "checking segre sym: n=3, N=2, r=3\n",
      "added\n",
      "added\n",
      "added\n",
      "added\n",
      "added\n",
      "added\n",
      "added\n",
      "added\n",
      "added\n",
      "added\n",
      "added\n",
      "added\n",
      "added\n",
      "added\n",
      "added\n",
      "added\n",
      "added\n",
      "added\n",
      "added\n",
      "added\n",
      "added\n",
      "added\n",
      "added\n",
      "added\n",
      "added\n",
      "added\n",
      "added\n",
      "added\n",
      "added\n",
      "added\n",
      "added\n",
      "added\n",
      "comparing\n"
     ]
    }
   ],
   "source": [
    "all_check(1,4)"
   ]
  },
  {
   "cell_type": "code",
   "execution_count": 235,
   "metadata": {},
   "outputs": [
    {
     "name": "stdout",
     "output_type": "stream",
     "text": [
      "checking: n+N+r=4\n",
      "checking segre sym: n=1, N=1, r=2\n",
      "checked\n",
      "checking verlinde sym: n=1, N=1, r=2\n",
      "checked\n",
      "checking S/V: n=1, N=1, r=2\n",
      "checked\n",
      "checking S/V: n=2, N=1, r=1\n",
      "checked\n",
      "all checked for: n+N+r=4\n"
     ]
    }
   ],
   "source": [
    "clear_all_files()\n",
    "all_check(4)"
   ]
  },
  {
   "cell_type": "code",
   "execution_count": 236,
   "metadata": {
    "scrolled": true
   },
   "outputs": [
    {
     "name": "stdout",
     "output_type": "stream",
     "text": [
      "checking: n+N+r=5\n",
      "checking segre sym: n=1, N=1, r=3\n",
      "checked\n",
      "checking verlinde sym: n=1, N=1, r=3\n",
      "checked\n",
      "checking S/V: n=1, N=1, r=3\n",
      "checked\n",
      "checking S/V: n=1, N=2, r=2\n",
      "checked\n",
      "checking segre sym: n=2, N=1, r=2\n",
      "checked\n",
      "checking verlinde sym: n=2, N=1, r=2\n",
      "checked\n",
      "checking S/V: n=2, N=1, r=2\n",
      "checked\n",
      "checking S/V: n=3, N=1, r=1\n",
      "checked\n",
      "all checked for: n+N+r=5\n"
     ]
    }
   ],
   "source": [
    "all_check(5)"
   ]
  },
  {
   "cell_type": "code",
   "execution_count": 237,
   "metadata": {},
   "outputs": [
    {
     "name": "stdout",
     "output_type": "stream",
     "text": [
      "checking: n+N+r=6\n",
      "checking segre sym: n=1, N=1, r=4\n",
      "checked\n",
      "checking verlinde sym: n=1, N=1, r=4\n",
      "checked\n",
      "checking S/V: n=1, N=1, r=4\n",
      "checked\n",
      "checking segre sym: n=1, N=2, r=3\n",
      "checked\n",
      "checking verlinde sym: n=1, N=2, r=3\n",
      "checked\n",
      "checking S/V: n=1, N=2, r=3\n",
      "checked\n",
      "checking segre sym: n=2, N=1, r=3\n",
      "checked\n",
      "checking verlinde sym: n=2, N=1, r=3\n",
      "checked\n",
      "checking S/V: n=2, N=1, r=3\n",
      "checked\n",
      "checking S/V: n=2, N=2, r=2\n",
      "checked\n",
      "checking segre sym: n=3, N=1, r=2\n",
      "checked\n",
      "checking verlinde sym: n=3, N=1, r=2\n",
      "checked\n",
      "checking S/V: n=3, N=1, r=2\n",
      "checked\n",
      "checking S/V: n=4, N=1, r=1\n",
      "checked\n",
      "all checked for: n+N+r=6\n"
     ]
    }
   ],
   "source": [
    "all_check(6)"
   ]
  },
  {
   "cell_type": "code",
   "execution_count": 14,
   "metadata": {},
   "outputs": [
    {
     "name": "stdout",
     "output_type": "stream",
     "text": [
      "checking: n+N+r=7\n",
      "n=1, N=1, r=5 already checked\n",
      "n=1, N=2, r=4 already checked\n",
      "n=1, N=3, r=3 already checked\n",
      "n=2, N=1, r=4 already checked\n",
      "n=2, N=2, r=3 already checked\n",
      "checking segre sym: n=3, N=1, r=3\n",
      "checked\n",
      "checking segre sym: n=4, N=1, r=2\n",
      "checked\n",
      "all checked for: n+N+r=7\n"
     ]
    }
   ],
   "source": [
    "all_check(7)"
   ]
  },
  {
   "cell_type": "code",
   "execution_count": null,
   "metadata": {},
   "outputs": [
    {
     "name": "stdout",
     "output_type": "stream",
     "text": [
      "checking: n+N+r=8\n",
      "checking segre sym: n=1, N=2, r=5\n",
      "checked\n",
      "checking segre sym: n=1, N=3, r=4\n",
      "checked\n",
      "checking segre sym: n=2, N=1, r=5\n"
     ]
    }
   ],
   "source": [
    "all_check(8)"
   ]
  },
  {
   "cell_type": "code",
   "execution_count": null,
   "metadata": {},
   "outputs": [],
   "source": [
    "all_check(9)"
   ]
  },
  {
   "cell_type": "code",
   "execution_count": null,
   "metadata": {},
   "outputs": [],
   "source": [
    "all_check(10)"
   ]
  },
  {
   "cell_type": "code",
   "execution_count": null,
   "metadata": {},
   "outputs": [],
   "source": [
    "all_check(11)"
   ]
  },
  {
   "cell_type": "code",
   "execution_count": null,
   "metadata": {},
   "outputs": [],
   "source": [
    "all_check(12)"
   ]
  },
  {
   "cell_type": "code",
   "execution_count": null,
   "metadata": {},
   "outputs": [],
   "source": [
    "all_check(13)"
   ]
  },
  {
   "cell_type": "code",
   "execution_count": null,
   "metadata": {},
   "outputs": [],
   "source": [
    "all_check(14)"
   ]
  },
  {
   "cell_type": "code",
   "execution_count": null,
   "metadata": {},
   "outputs": [],
   "source": [
    "all_check(15)"
   ]
  },
  {
   "cell_type": "code",
   "execution_count": 231,
   "metadata": {},
   "outputs": [
    {
     "data": {
      "text/html": [
       "<html><script type=\"math/tex; mode=display\">\\newcommand{\\Bold}[1]{\\mathbf{#1}}\\left[\\left(m t + 2 \\, w_{1}^{2} - 4 \\, w_{1} w_{2} + 2 \\, w_{2}^{2}, 1\\right), \\left(m + t, 2\\right), \\left(-1, 1\\right)\\right]</script></html>"
      ],
      "text/latex": [
       "$$\\newcommand{\\Bold}[1]{\\mathbf{#1}}\\left[\\left(m t + 2 \\, w_{1}^{2} - 4 \\, w_{1} w_{2} + 2 \\, w_{2}^{2}, 1\\right), \\left(m + t, 2\\right), \\left(-1, 1\\right)\\right]$$"
      ],
      "text/plain": [
       "[(m*t + 2*w1^2 - 4*w1*w2 + 2*w2^2, 1), (m + t, 2), (-1, 1)]"
      ]
     },
     "execution_count": 231,
     "metadata": {},
     "output_type": "execute_result"
    }
   ],
   "source": [
    "deg0(set_exp(Verlinde_Num_quot(2,1,2)-symmetrizeK(Verlinde_Num_quot(2,2,1)))).numerator().factor_list()"
   ]
  },
  {
   "cell_type": "code",
   "execution_count": 188,
   "metadata": {},
   "outputs": [
    {
     "data": {
      "text/html": [
       "<html><script type=\"math/tex; mode=display\">\\newcommand{\\Bold}[1]{\\mathbf{#1}}2</script></html>"
      ],
      "text/latex": [
       "$$\\newcommand{\\Bold}[1]{\\mathbf{#1}}2$$"
      ],
      "text/plain": [
       "2"
      ]
     },
     "execution_count": 188,
     "metadata": {},
     "output_type": "execute_result"
    }
   ],
   "source": [
    "with open(\"symmetry2d-segre-checked.txt\") as f:\n",
    "        lines = f.read().splitlines()\n",
    "len(lines)"
   ]
  },
  {
   "cell_type": "code",
   "execution_count": 298,
   "metadata": {
    "scrolled": true
   },
   "outputs": [
    {
     "data": {
      "text/html": [
       "<html><script type=\"math/tex; mode=display\">\\newcommand{\\Bold}[1]{\\mathbf{#1}}0</script></html>"
      ],
      "text/latex": [
       "$$\\newcommand{\\Bold}[1]{\\mathbf{#1}}0$$"
      ],
      "text/plain": [
       "0"
      ]
     },
     "execution_count": 298,
     "metadata": {},
     "output_type": "execute_result"
    }
   ],
   "source": [
    "Verlinde_Num_quot_inv(3,4)"
   ]
  },
  {
   "cell_type": "code",
   "execution_count": 95,
   "metadata": {},
   "outputs": [
    {
     "data": {
      "text/html": [
       "<html><script type=\"math/tex; mode=display\">\\newcommand{\\Bold}[1]{\\mathbf{#1}}\\frac{{\\left(m + t\\right)}^{2}}{2 \\, m^{2} t^{2}}</script></html>"
      ],
      "text/latex": [
       "$$\\newcommand{\\Bold}[1]{\\mathbf{#1}}\\frac{{\\left(m + t\\right)}^{2}}{2 \\, m^{2} t^{2}}$$"
      ],
      "text/plain": [
       "1/2*(m + t)^2/(m^2*t^2)"
      ]
     },
     "execution_count": 95,
     "metadata": {},
     "output_type": "execute_result"
    }
   ],
   "source": [
    "pretty(Chern_Num_quot(2,2))"
   ]
  },
  {
   "cell_type": "code",
   "execution_count": 70,
   "metadata": {},
   "outputs": [
    {
     "data": {
      "text/html": [
       "<html><script type=\"math/tex; mode=display\">\\newcommand{\\Bold}[1]{\\mathbf{#1}}\\frac{{\\left(m + t\\right)}^{3}}{6 \\, m^{3} t^{3}}</script></html>"
      ],
      "text/latex": [
       "$$\\newcommand{\\Bold}[1]{\\mathbf{#1}}\\frac{{\\left(m + t\\right)}^{3}}{6 \\, m^{3} t^{3}}$$"
      ],
      "text/plain": [
       "1/6*(m + t)^3/(m^3*t^3)"
      ]
     },
     "execution_count": 70,
     "metadata": {},
     "output_type": "execute_result"
    }
   ],
   "source": [
    "pretty(Chern_Num_quot(3,2))"
   ]
  },
  {
   "cell_type": "code",
   "execution_count": 88,
   "metadata": {},
   "outputs": [
    {
     "data": {
      "text/html": [
       "<html><script type=\"math/tex; mode=display\">\\newcommand{\\Bold}[1]{\\mathbf{#1}}\\frac{{\\left(m + t\\right)}^{4}}{24 \\, m^{4} t^{4}}</script></html>"
      ],
      "text/latex": [
       "$$\\newcommand{\\Bold}[1]{\\mathbf{#1}}\\frac{{\\left(m + t\\right)}^{4}}{24 \\, m^{4} t^{4}}$$"
      ],
      "text/plain": [
       "1/24*(m + t)^4/(m^4*t^4)"
      ]
     },
     "execution_count": 88,
     "metadata": {},
     "output_type": "execute_result"
    }
   ],
   "source": [
    "pretty(Chern_Num_quot(4,2))"
   ]
  },
  {
   "cell_type": "code",
   "execution_count": 346,
   "metadata": {},
   "outputs": [
    {
     "data": {
      "text/html": [
       "<html><script type=\"math/tex; mode=display\">\\newcommand{\\Bold}[1]{\\mathbf{#1}}\\frac{m + t}{m t}</script></html>"
      ],
      "text/latex": [
       "$$\\newcommand{\\Bold}[1]{\\mathbf{#1}}\\frac{m + t}{m t}$$"
      ],
      "text/plain": [
       "(m + t)/(m*t)"
      ]
     },
     "execution_count": 346,
     "metadata": {},
     "output_type": "execute_result"
    }
   ],
   "source": [
    "pretty(Chern_Num_quot(1,4,3))"
   ]
  },
  {
   "cell_type": "code",
   "execution_count": 295,
   "metadata": {},
   "outputs": [
    {
     "data": {
      "text/html": [
       "<html><script type=\"math/tex; mode=display\">\\newcommand{\\Bold}[1]{\\mathbf{#1}}\\frac{{\\left(12 \\, m^{4} t^{2} + 22 \\, m^{3} t^{3} + 12 \\, m^{2} t^{4} - 24 \\, m^{3} t^{2} - 24 \\, m^{2} t^{3} - 6 \\, m^{3} t - 2 \\, m^{2} t^{2} - 6 \\, m t^{3} + 6 \\, m^{2} t + 6 \\, m t^{2} + m^{2} + 2 \\, m t + t^{2}\\right)} {\\left(m + t\\right)}}{6 \\, m^{3} t^{3}}</script></html>"
      ],
      "text/latex": [
       "$$\\newcommand{\\Bold}[1]{\\mathbf{#1}}\\frac{{\\left(12 \\, m^{4} t^{2} + 22 \\, m^{3} t^{3} + 12 \\, m^{2} t^{4} - 24 \\, m^{3} t^{2} - 24 \\, m^{2} t^{3} - 6 \\, m^{3} t - 2 \\, m^{2} t^{2} - 6 \\, m t^{3} + 6 \\, m^{2} t + 6 \\, m t^{2} + m^{2} + 2 \\, m t + t^{2}\\right)} {\\left(m + t\\right)}}{6 \\, m^{3} t^{3}}$$"
      ],
      "text/plain": [
       "1/6*(12*m^4*t^2 + 22*m^3*t^3 + 12*m^2*t^4 - 24*m^3*t^2 - 24*m^2*t^3 - 6*m^3*t - 2*m^2*t^2 - 6*m*t^3 + 6*m^2*t + 6*m*t^2 + m^2 + 2*m*t + t^2)*(m + t)/(m^3*t^3)"
      ]
     },
     "execution_count": 295,
     "metadata": {},
     "output_type": "execute_result"
    }
   ],
   "source": [
    "pretty(Chern_Num_quot(3,1)(l1=0,l2=0,w1=0,w2=0))"
   ]
  },
  {
   "cell_type": "code",
   "execution_count": 385,
   "metadata": {},
   "outputs": [
    {
     "name": "stdout",
     "output_type": "stream",
     "text": [
      "([], [3])\n",
      "(l2 - t + w1)*(l2 - 2*t + w1)*(l2 + w1)\n",
      "([], [2, 1])\n",
      "(l2 - m + w1)*(l2 - t + w1)*(l2 + w1)\n",
      "([], [1, 1, 1])\n",
      "(l2 - m + w1)*(l2 - 2*m + w1)*(l2 + w1)\n",
      "([1], [2])\n",
      "(l1 + w1)*(l2 - t + w1)*(l2 + w1)\n",
      "([1], [1, 1])\n",
      "(l1 + w1)*(l2 - m + w1)*(l2 + w1)\n",
      "([2], [1])\n",
      "(l1 - t + w1)*(l1 + w1)*(l2 + w1)\n",
      "([1, 1], [1])\n",
      "(l1 - m + w1)*(l1 + w1)*(l2 + w1)\n",
      "([3], [])\n",
      "(l1 - t + w1)*(l1 - 2*t + w1)*(l1 + w1)\n",
      "([2, 1], [])\n",
      "(l1 - m + w1)*(l1 - t + w1)*(l1 + w1)\n",
      "([1, 1, 1], [])\n",
      "(l1 - m + w1)*(l1 - 2*m + w1)*(l1 + w1)\n"
     ]
    },
    {
     "data": {
      "text/html": [
       "<html><script type=\"math/tex; mode=display\">\\newcommand{\\Bold}[1]{\\mathbf{#1}}\\frac{{\\left(m + t\\right)}^{3}}{6 \\, m^{3} t^{3}}</script></html>"
      ],
      "text/latex": [
       "$$\\newcommand{\\Bold}[1]{\\mathbf{#1}}\\frac{{\\left(m + t\\right)}^{3}}{6 \\, m^{3} t^{3}}$$"
      ],
      "text/plain": [
       "1/6*(m + t)^3/(m^3*t^3)"
      ]
     },
     "execution_count": 385,
     "metadata": {},
     "output_type": "execute_result"
    }
   ],
   "source": [
    "pretty(Chern_Num_quot(3,2))"
   ]
  },
  {
   "cell_type": "markdown",
   "metadata": {},
   "source": [
    "# RANK 2\n"
   ]
  },
  {
   "cell_type": "code",
   "execution_count": 259,
   "metadata": {},
   "outputs": [
    {
     "data": {
      "text/html": [
       "<html><script type=\"math/tex; mode=display\">\\newcommand{\\Bold}[1]{\\mathbf{#1}}-\\frac{v_{1}^{2} v_{2}^{2} z_{1}^{4} {\\left(e^{\\left(3 \\, m\\right)} - e^{\\left(4 \\, m + 2 \\, t\\right)} - e^{\\left(3 \\, m + 3 \\, t\\right)} - e^{\\left(2 \\, m + 4 \\, t\\right)} + e^{\\left(2 \\, m + 2 \\, t\\right)} + e^{\\left(2 \\, m + t\\right)} + e^{\\left(m + 2 \\, t\\right)} - e^{m} + e^{\\left(3 \\, t\\right)} - e^{t}\\right)} {\\left(e^{\\left(m + t\\right)} - 1\\right)} e^{\\left(-2 \\, m - 2 \\, t\\right)}}{{\\left(e^{m} + 1\\right)} {\\left(e^{m} - 1\\right)}^{2} {\\left(e^{t} + 1\\right)} {\\left(e^{t} - 1\\right)}^{2}}</script></html>"
      ],
      "text/latex": [
       "$$\\newcommand{\\Bold}[1]{\\mathbf{#1}}-\\frac{v_{1}^{2} v_{2}^{2} z_{1}^{4} {\\left(e^{\\left(3 \\, m\\right)} - e^{\\left(4 \\, m + 2 \\, t\\right)} - e^{\\left(3 \\, m + 3 \\, t\\right)} - e^{\\left(2 \\, m + 4 \\, t\\right)} + e^{\\left(2 \\, m + 2 \\, t\\right)} + e^{\\left(2 \\, m + t\\right)} + e^{\\left(m + 2 \\, t\\right)} - e^{m} + e^{\\left(3 \\, t\\right)} - e^{t}\\right)} {\\left(e^{\\left(m + t\\right)} - 1\\right)} e^{\\left(-2 \\, m - 2 \\, t\\right)}}{{\\left(e^{m} + 1\\right)} {\\left(e^{m} - 1\\right)}^{2} {\\left(e^{t} + 1\\right)} {\\left(e^{t} - 1\\right)}^{2}}$$"
      ],
      "text/plain": [
       "-v1^2*v2^2*z1^4*(e^(3*m) - e^(4*m + 2*t) - e^(3*m + 3*t) - e^(2*m + 4*t) + e^(2*m + 2*t) + e^(2*m + t) + e^(m + 2*t) - e^m + e^(3*t) - e^t)*(e^(m + t) - 1)*e^(-2*m - 2*t)/((e^m + 1)*(e^m - 1)^2*(e^t + 1)*(e^t - 1)^2)"
      ]
     },
     "execution_count": 259,
     "metadata": {},
     "output_type": "execute_result"
    }
   ],
   "source": [
    "pretty(Verlinde_Num_quot(2,1))(x=exp(t),y=exp(m),z=exp(l))"
   ]
  },
  {
   "cell_type": "code",
   "execution_count": 23,
   "metadata": {},
   "outputs": [
    {
     "data": {
      "text/html": [
       "<html><script type=\"math/tex; mode=display\">\\newcommand{\\Bold}[1]{\\mathbf{#1}}\\frac{{\\left(m t - 6 \\, v^{2} - 6 \\, w^{2}\\right)} {\\left(m + t\\right)}^{2}}{12 \\, m^{2} t^{2}}</script></html>"
      ],
      "text/latex": [
       "$$\\newcommand{\\Bold}[1]{\\mathbf{#1}}\\frac{{\\left(m t - 6 \\, v^{2} - 6 \\, w^{2}\\right)} {\\left(m + t\\right)}^{2}}{12 \\, m^{2} t^{2}}$$"
      ],
      "text/plain": [
       "1/12*(m*t - 6*v^2 - 6*w^2)*(m + t)^2/(m^2*t^2)"
      ]
     },
     "execution_count": 23,
     "metadata": {},
     "output_type": "execute_result"
    }
   ],
   "source": [
    "pretty(deg0(pretty(Verlinde_Num_quot_2(2,1))(x=exp(t),y=exp(m),z=exp(l)))-deg0(pretty(Segre_Num_quot_2(2, 1))))"
   ]
  },
  {
   "cell_type": "code",
   "execution_count": 24,
   "metadata": {},
   "outputs": [
    {
     "data": {
      "text/html": [
       "<html><script type=\"math/tex; mode=display\">\\newcommand{\\Bold}[1]{\\mathbf{#1}}-\\frac{{\\left(2 \\, l^{2} - 3 \\, m t + 12 \\, l v + 14 \\, v^{2} + 12 \\, l w - 4 \\, v w + 14 \\, w^{2}\\right)} {\\left(m + t\\right)}^{2}}{4 \\, m^{2} t^{2}}</script></html>"
      ],
      "text/latex": [
       "$$\\newcommand{\\Bold}[1]{\\mathbf{#1}}-\\frac{{\\left(2 \\, l^{2} - 3 \\, m t + 12 \\, l v + 14 \\, v^{2} + 12 \\, l w - 4 \\, v w + 14 \\, w^{2}\\right)} {\\left(m + t\\right)}^{2}}{4 \\, m^{2} t^{2}}$$"
      ],
      "text/plain": [
       "-1/4*(2*l^2 - 3*m*t + 12*l*v + 14*v^2 + 12*l*w - 4*v*w + 14*w^2)*(m + t)^2/(m^2*t^2)"
      ]
     },
     "execution_count": 24,
     "metadata": {},
     "output_type": "execute_result"
    }
   ],
   "source": [
    "pretty(deg0(pretty(Verlinde_Num_quot_2(2,2))(x=exp(t),y=exp(m),z=exp(l)))-deg0(pretty(Segre_Num_quot_2(2, 2))))"
   ]
  },
  {
   "cell_type": "code",
   "execution_count": 63,
   "metadata": {},
   "outputs": [
    {
     "data": {
      "text/html": [
       "<html><script type=\"math/tex; mode=display\">\\newcommand{\\Bold}[1]{\\mathbf{#1}}-\\frac{3 \\, {\\left(l^{2} - m t + 6 \\, l v + 4 \\, v^{2} + 6 \\, l w - 2 \\, v w + 4 \\, w^{2}\\right)} {\\left(m + t\\right)}^{2}}{m^{2} t^{2}}</script></html>"
      ],
      "text/latex": [
       "$$\\newcommand{\\Bold}[1]{\\mathbf{#1}}-\\frac{3 \\, {\\left(l^{2} - m t + 6 \\, l v + 4 \\, v^{2} + 6 \\, l w - 2 \\, v w + 4 \\, w^{2}\\right)} {\\left(m + t\\right)}^{2}}{m^{2} t^{2}}$$"
      ],
      "text/plain": [
       "-3*(l^2 - m*t + 6*l*v + 4*v^2 + 6*l*w - 2*v*w + 4*w^2)*(m + t)^2/(m^2*t^2)"
      ]
     },
     "execution_count": 63,
     "metadata": {},
     "output_type": "execute_result"
    }
   ],
   "source": [
    "pretty(deg0(pretty(Verlinde_Num_quot_2(2,3))(x=exp(t),y=exp(m),z=exp(l)))-deg0(pretty(Segre_Num_quot_2(2, 3))))"
   ]
  },
  {
   "cell_type": "code",
   "execution_count": 33,
   "metadata": {},
   "outputs": [
    {
     "data": {
      "text/html": [
       "<html><script type=\"math/tex; mode=display\">\\newcommand{\\Bold}[1]{\\mathbf{#1}}-\\frac{{\\left(72 \\, m^{3} t + 83 \\, m^{2} t^{2} + 72 \\, m t^{3} - 150 \\, m^{2} t v - 150 \\, m t^{2} v + 114 \\, m t v^{2} + 44 \\, m v^{3} + 44 \\, t v^{3} - 150 \\, m^{2} t w - 150 \\, m t^{2} w + 36 \\, m t v w + 36 \\, m v^{2} w + 36 \\, t v^{2} w + 114 \\, m t w^{2} + 36 \\, m v w^{2} + 36 \\, t v w^{2} + 44 \\, m w^{3} + 44 \\, t w^{3}\\right)} {\\left(m + t\\right)}^{2}}{48 \\, m^{3} t^{3}}</script></html>"
      ],
      "text/latex": [
       "$$\\newcommand{\\Bold}[1]{\\mathbf{#1}}-\\frac{{\\left(72 \\, m^{3} t + 83 \\, m^{2} t^{2} + 72 \\, m t^{3} - 150 \\, m^{2} t v - 150 \\, m t^{2} v + 114 \\, m t v^{2} + 44 \\, m v^{3} + 44 \\, t v^{3} - 150 \\, m^{2} t w - 150 \\, m t^{2} w + 36 \\, m t v w + 36 \\, m v^{2} w + 36 \\, t v^{2} w + 114 \\, m t w^{2} + 36 \\, m v w^{2} + 36 \\, t v w^{2} + 44 \\, m w^{3} + 44 \\, t w^{3}\\right)} {\\left(m + t\\right)}^{2}}{48 \\, m^{3} t^{3}}$$"
      ],
      "text/plain": [
       "-1/48*(72*m^3*t + 83*m^2*t^2 + 72*m*t^3 - 150*m^2*t*v - 150*m*t^2*v + 114*m*t*v^2 + 44*m*v^3 + 44*t*v^3 - 150*m^2*t*w - 150*m*t^2*w + 36*m*t*v*w + 36*m*v^2*w + 36*t*v^2*w + 114*m*t*w^2 + 36*m*v*w^2 + 36*t*v*w^2 + 44*m*w^3 + 44*t*w^3)*(m + t)^2/(m^3*t^3)"
      ]
     },
     "execution_count": 33,
     "metadata": {},
     "output_type": "execute_result"
    }
   ],
   "source": [
    "pretty(deg0(pretty(Verlinde_Num_quot_2(3,1))(x=exp(t),y=exp(m),z=exp(l)))+deg0(pretty(Segre_Num_quot_2(3,1))))"
   ]
  },
  {
   "cell_type": "code",
   "execution_count": 62,
   "metadata": {},
   "outputs": [
    {
     "data": {
      "text/html": [
       "<html><script type=\"math/tex; mode=display\">\\newcommand{\\Bold}[1]{\\mathbf{#1}}-\\frac{{\\left(2 \\, l^{3} m + 2 \\, l^{3} t + 3 \\, l^{2} m t - 42 \\, l m^{2} t + 12 \\, m^{3} t - 42 \\, l m t^{2} - 7 \\, m^{2} t^{2} + 12 \\, m t^{3} + 24 \\, l^{2} m w + 24 \\, l^{2} t w + 66 \\, l m t w - 84 \\, m^{2} t w - 84 \\, m t^{2} w + 60 \\, l m w^{2} + 60 \\, l t w^{2} + 66 \\, m t w^{2} + 40 \\, m w^{3} + 40 \\, t w^{3}\\right)} {\\left(m + t\\right)}^{2}}{12 \\, m^{3} t^{3}}</script></html>"
      ],
      "text/latex": [
       "$$\\newcommand{\\Bold}[1]{\\mathbf{#1}}-\\frac{{\\left(2 \\, l^{3} m + 2 \\, l^{3} t + 3 \\, l^{2} m t - 42 \\, l m^{2} t + 12 \\, m^{3} t - 42 \\, l m t^{2} - 7 \\, m^{2} t^{2} + 12 \\, m t^{3} + 24 \\, l^{2} m w + 24 \\, l^{2} t w + 66 \\, l m t w - 84 \\, m^{2} t w - 84 \\, m t^{2} w + 60 \\, l m w^{2} + 60 \\, l t w^{2} + 66 \\, m t w^{2} + 40 \\, m w^{3} + 40 \\, t w^{3}\\right)} {\\left(m + t\\right)}^{2}}{12 \\, m^{3} t^{3}}$$"
      ],
      "text/plain": [
       "-1/12*(2*l^3*m + 2*l^3*t + 3*l^2*m*t - 42*l*m^2*t + 12*m^3*t - 42*l*m*t^2 - 7*m^2*t^2 + 12*m*t^3 + 24*l^2*m*w + 24*l^2*t*w + 66*l*m*t*w - 84*m^2*t*w - 84*m*t^2*w + 60*l*m*w^2 + 60*l*t*w^2 + 66*m*t*w^2 + 40*m*w^3 + 40*t*w^3)*(m + t)^2/(m^3*t^3)"
      ]
     },
     "execution_count": 62,
     "metadata": {},
     "output_type": "execute_result"
    }
   ],
   "source": [
    "pretty(deg0(pretty(Verlinde_Num_quot(3,2))(x=exp(t),y=exp(m),z=exp(l)))-deg0(pretty(Segre_Num_quot(3,2))))"
   ]
  },
  {
   "cell_type": "code",
   "execution_count": 394,
   "metadata": {},
   "outputs": [
    {
     "data": {
      "text/html": [
       "<html><script type=\"math/tex; mode=display\">\\newcommand{\\Bold}[1]{\\mathbf{#1}}\\frac{m + t}{m t}</script></html>"
      ],
      "text/latex": [
       "$$\\newcommand{\\Bold}[1]{\\mathbf{#1}}\\frac{m + t}{m t}$$"
      ],
      "text/plain": [
       "(m + t)/(m*t)"
      ]
     },
     "execution_count": 394,
     "metadata": {},
     "output_type": "execute_result"
    }
   ],
   "source": [
    "pretty(Chern_Num_quot(1,3))"
   ]
  },
  {
   "cell_type": "code",
   "execution_count": 269,
   "metadata": {},
   "outputs": [
    {
     "data": {
      "text/html": [
       "<html><script type=\"math/tex; mode=display\">\\newcommand{\\Bold}[1]{\\mathbf{#1}}\\frac{{\\left(m + t\\right)}^{2}}{2 \\, m^{2} t^{2}}</script></html>"
      ],
      "text/latex": [
       "$$\\newcommand{\\Bold}[1]{\\mathbf{#1}}\\frac{{\\left(m + t\\right)}^{2}}{2 \\, m^{2} t^{2}}$$"
      ],
      "text/plain": [
       "1/2*(m + t)^2/(m^2*t^2)"
      ]
     },
     "execution_count": 269,
     "metadata": {},
     "output_type": "execute_result"
    }
   ],
   "source": [
    "pretty(Chern_Num_quot(2,3))"
   ]
  },
  {
   "cell_type": "code",
   "execution_count": 61,
   "metadata": {},
   "outputs": [
    {
     "data": {
      "text/html": [
       "<html><script type=\"math/tex; mode=display\">\\newcommand{\\Bold}[1]{\\mathbf{#1}}\\frac{{\\left(m + t\\right)}^{3}}{6 \\, m^{3} t^{3}}</script></html>"
      ],
      "text/latex": [
       "$$\\newcommand{\\Bold}[1]{\\mathbf{#1}}\\frac{{\\left(m + t\\right)}^{3}}{6 \\, m^{3} t^{3}}$$"
      ],
      "text/plain": [
       "1/6*(m + t)^3/(m^3*t^3)"
      ]
     },
     "execution_count": 61,
     "metadata": {},
     "output_type": "execute_result"
    }
   ],
   "source": [
    "pretty(Chern_Num_quot_2(3,3))"
   ]
  },
  {
   "cell_type": "code",
   "execution_count": 393,
   "metadata": {},
   "outputs": [
    {
     "data": {
      "text/html": [
       "<html><script type=\"math/tex; mode=display\">\\newcommand{\\Bold}[1]{\\mathbf{#1}}0</script></html>"
      ],
      "text/latex": [
       "$$\\newcommand{\\Bold}[1]{\\mathbf{#1}}0$$"
      ],
      "text/plain": [
       "0"
      ]
     },
     "execution_count": 393,
     "metadata": {},
     "output_type": "execute_result"
    }
   ],
   "source": [
    "pretty(Chern_Num_quot(1,4))"
   ]
  },
  {
   "cell_type": "code",
   "execution_count": 397,
   "metadata": {},
   "outputs": [
    {
     "data": {
      "text/html": [
       "<html><script type=\"math/tex; mode=display\">\\newcommand{\\Bold}[1]{\\mathbf{#1}}0</script></html>"
      ],
      "text/latex": [
       "$$\\newcommand{\\Bold}[1]{\\mathbf{#1}}0$$"
      ],
      "text/plain": [
       "0"
      ]
     },
     "execution_count": 397,
     "metadata": {},
     "output_type": "execute_result"
    }
   ],
   "source": [
    "pretty(Chern_Num_quot(1,5))"
   ]
  }
 ],
 "metadata": {
  "kernelspec": {
   "display_name": "SageMath 9.3",
   "language": "sage",
   "name": "sagemath"
  },
  "language_info": {
   "codemirror_mode": {
    "name": "ipython",
    "version": 3
   },
   "file_extension": ".py",
   "mimetype": "text/x-python",
   "name": "python",
   "nbconvert_exporter": "python",
   "pygments_lexer": "ipython3",
   "version": "3.7.10"
  }
 },
 "nbformat": 4,
 "nbformat_minor": 4
}
