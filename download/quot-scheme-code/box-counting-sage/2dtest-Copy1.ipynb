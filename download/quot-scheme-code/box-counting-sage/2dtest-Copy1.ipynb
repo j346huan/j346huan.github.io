{
 "cells": [
  {
   "cell_type": "code",
   "execution_count": 159,
   "metadata": {},
   "outputs": [],
   "source": [
    "reset()\n",
    "%display latex\n",
    "Partitions.options.latex=\"list\"\n",
    "load(\"setup.sage\")\n",
    "\n",
    "\n",
    "rank=1\n",
    "\n",
    "\n",
    "KT_vars = ['x','y']\n",
    "KT_ring = LaurentPolynomialRing(QQ, KT_vars)\n",
    "\n",
    "coho_vars = ['t','m']\n",
    "coho_ring = LaurentPolynomialRing(QQ, coho_vars)\n",
    "\n",
    "x,y=KT_ring.gens()\n",
    "t,m = coho_ring.gens()\n",
    "b=var('b')\n",
    "w=SR.var('w',rank)\n",
    "\n",
    "\n",
    "def character(p,x=x,y=y):\n",
    "    return sum(y**i * x**j for i, j in p.cells())\n",
    "\n",
    "def character_vb(p, w,x=x,y=y):\n",
    "    Q = character(p,x,y)\n",
    "    return sum(Q * x^(w[2*i]) * y^(w[2*i+1]) for i in range(len(w)/2))\n",
    "\n",
    "def tangent1(p,x=x):\n",
    "    q=character(p,x,1/x)\n",
    "    q_inv=character(p,1/x,x)\n",
    "    return q+q_inv-q*q_inv*(1-x)*(1-1/x)\n",
    "\n",
    "def tangent2(p,x=x,y=y):\n",
    "    total=0\n",
    "    for b1,b2 in p.cells():\n",
    "        arm=p[b1]-b2-1\n",
    "        leg=p.conjugate()[b2]-b1-1\n",
    "        total+=x^(-leg)*y^(arm+1)+x^(leg+1)*y^(-arm)\n",
    "    return total\n",
    "\n",
    "def canonical_bundle(p,x=x,y=y):\n",
    "    return character_vb(p, (-1,-1),x,y)\n",
    "\n",
    "def canonical_bundle_red(p,x=x,y=y):\n",
    "    return character_vb(p, (-1,-1),x,y)-1\n",
    "\n",
    "def determinant(f):\n",
    "    if f in ZZ:\n",
    "        return 1\n",
    "    else:\n",
    "        return prod((mon)^coeff for coeff, mon in f)\n",
    "\n",
    "def from_monomial(m):\n",
    "    return sum(m.degree(KT_ring.gen(i)) * coho_ring.gen(i) for i in range(len(coho_ring.gens())))\n",
    "\n",
    "def from_character(f):\n",
    "    numer, denom = [], []\n",
    "\n",
    "    for coeff, mon in list(f):\n",
    "        wt = from_monomial(mon)\n",
    "        if coeff > 0:\n",
    "            numer += (coeff) * [wt]\n",
    "        elif coeff < 0:\n",
    "            denom += (-coeff) * [wt]\n",
    "    return numer, denom\n",
    "\n",
    "def top_chern(f):\n",
    "    numer, denom = [], []\n",
    "    for coeff, mon in list(f):\n",
    "        wt = from_monomial(mon)\n",
    "        #if wt==0:\n",
    "            #continue\n",
    "        if coeff > 0:\n",
    "            numer += (coeff) * [wt]\n",
    "        elif coeff < 0:\n",
    "            denom += (-coeff) * [wt]\n",
    "    \n",
    "    return coho_ring.fraction_field()(prod(numer) / prod(denom))\n",
    "\n",
    "def total_chern(f):\n",
    "    numer, denom = from_character(f)\n",
    "    new_numer=[i+1 for i in numer]\n",
    "    new_denom=[i+1 for i in denom]\n",
    "    return coho_ring.fraction_field()(prod(new_numer+[1]) / (prod(new_denom)))\n",
    "\n",
    "def chern_class(k, f):\n",
    "    roots = sum((c*[from_monomial(w)] for c, w in f), [])\n",
    "    return sum(prod(S) for S in itertools.combinations(roots, k))\n",
    "\n",
    "def Nek(f, check=False):\n",
    "    R = f.parent()\n",
    "    numer, denom = R.one(), R.one()\n",
    "    for exp, coeff in f.dict().items():\n",
    "        if exp.is_constant():\n",
    "            term = R.zero()\n",
    "        else:\n",
    "            term = R({exp: 1, exp.emul(0): -1})\n",
    "        if coeff > 0:\n",
    "            numer *= term ** (coeff)\n",
    "        elif coeff < 0:\n",
    "            denom *= term ** (-coeff)\n",
    "    return R.fraction_field()(numer) / denom\n",
    "\n",
    "def dual(f, check=False):\n",
    "    R = f.parent()\n",
    "    g=R.zero()\n",
    "    for exp, coeff in f.dict().items():\n",
    "        g+= R({exp.emul(-1): coeff})\n",
    "    return g\n",
    "\n",
    "def highest_degree_y(f):\n",
    "    R = f.parent()\n",
    "    max_deg=0\n",
    "    for exp, coeff in f.dict().items():\n",
    "        if exp[1]>max_deg:\n",
    "            max_deg = exp[1]\n",
    "    term=R.zero()\n",
    "    for exp, coeff in f.dict().items():\n",
    "        if exp[1]==max_deg:\n",
    "            term+=R({exp:coeff})\n",
    "    return term\n",
    "\n",
    "def lowest_degree_y(f):\n",
    "    R = f.parent()\n",
    "    min_deg=0\n",
    "    for exp, coeff in f.dict().items():\n",
    "        if exp[4]<min_deg:\n",
    "            min_deg = exp[4]\n",
    "    term=R.zero()\n",
    "    for exp, coeff in f.dict().items():\n",
    "        if exp[4]==min_deg:\n",
    "            term+=R({exp:coeff})\n",
    "    return term\n",
    "    \n",
    "def from_monomial(m):\n",
    "    R = m.parent()\n",
    "    if R== KT_ring:\n",
    "        return m.degree(x) * t \n",
    "\n",
    "def top_chern_vb(p):\n",
    "    Q = character(p,x,y=1/x)\n",
    "    roots = []\n",
    "    for coeff, mon in list(Q):\n",
    "        wt = from_monomial(mon)\n",
    "        roots += (coeff) * [wt+sum(w[i]*t for i in range(rank))]\n",
    "    total = prod(r for r in roots)\n",
    "    return total\n",
    "\n",
    "def total_segre_vb(p):\n",
    "    Q = character(p,x,y=1/x)\n",
    "    roots = []\n",
    "    for coeff, mon in list(Q):\n",
    "        wt = from_monomial(mon)\n",
    "        roots += (coeff) * [wt+sum(w[i]*t for i in range(rank))]\n",
    "    total = prod(1/(1+r) for r in roots)\n",
    "    return total\n",
    "    \n",
    "def determinant_vb(p,n):\n",
    "    Q = character(p,x,y=1/x)\n",
    "    det = (determinant(Q)^rank)*((SR(x)^(sum(w[i] for i in range(rank))))^n)\n",
    "    return det(x=exp(t*b))\n",
    "    \n",
    "def Chern_Num(n):\n",
    "    total=0\n",
    "    for p in Partitions(n):\n",
    "        add=(top_chern(-tangent1(p))*top_chern_vb(p)*top_chern(dual(canonical_bundle_red(p,x,1/x))))(t=t*b)\n",
    "        total+=add\n",
    "    return total\n",
    "\n",
    "def Segre_Num(n):\n",
    "    total=0\n",
    "    for p in Partitions(n):\n",
    "        add=(top_chern(-tangent1(p))*total_segre_vb(p)*top_chern(dual(canonical_bundle_red(p,x,1/x))))(t=t*b)\n",
    "        total+=add\n",
    "    return total\n",
    "\n",
    "def Verlinde_Num(n):\n",
    "    total=0\n",
    "    for p in Partitions(n):\n",
    "        add=(KTheory.measure_unsymmetrized(tangent1(p))(x=exp(t*b))*\\\n",
    "            determinant_vb(p,n)*\\\n",
    "            KTheory.measure_unsymmetrized(-canonical_bundle_red(p,x,1/x),inv=False)(x=exp(t*b))).taylor(b,0,4)\n",
    "        total+=add\n",
    "    return total\n",
    "\n",
    "def DT_Num(n):\n",
    "    total=0\n",
    "    for p in Partitions(n):\n",
    "        add=(top_chern(-tangent1(p))*top_chern(dual(canonical_bundle_red(p,x,1/x))))(t=t*b)\n",
    "        total+=add\n",
    "    return total\n",
    "\n",
    "def Verlinde_Num_inv(n):\n",
    "    total=0\n",
    "    for p in Partitions(n):\n",
    "        add=(KTheory.measure_unsymmetrized(tangent1(p))(x=exp(t*b))*\\\n",
    "            (1/determinant_vb(p,n))*\\\n",
    "            KTheory.measure_unsymmetrized(-canonical_bundle_red(p,x,1/x),inv=False)(x=exp(t*b))).taylor(b,0,4)\n",
    "        total+=add\n",
    "    return total\n",
    "        \n",
    "\n",
    "def degn(f,n):\n",
    "    g=f.taylor(b,0,n)\n",
    "    L=g.coefficients()\n",
    "    if L[len(L)-1][1]!=n:\n",
    "        return 0\n",
    "    return L[len(L)-1][0]"
   ]
  },
  {
   "cell_type": "markdown",
   "metadata": {},
   "source": [
    "We try to get the Verlinde-Segre correspondence for $\\mathbb{C}^2$."
   ]
  },
  {
   "cell_type": "markdown",
   "metadata": {},
   "source": [
    "Over $\\mathbb{C}^2$, the equivariant cohomology ring is $\\mathbb{Z}[t_1,t_2]/(t_1+t_2)=\\mathbb{Z}[t]$. The equivariant K-theory ring is $\\mathbb{Z}[x^{\\pm1}]$. The Zariski tangent space at $Z_\\pi$ is\n",
    "$$Q+\\bar Q-Q\\bar Q(1-x)(1-1/x) $$\n",
    "where $Q$ is the character of partition $\\pi$."
   ]
  },
  {
   "cell_type": "markdown",
   "metadata": {},
   "source": [
    "The virtual Segre number is \n",
    "$$\\int_{[S^{[n]}]^{\\text{vir}}} s(\\alpha^{[n]})=\\sum_{|\\pi|=n}e(-T|_Z)s(\\alpha^{[n]}|_Z)c_{\\text{top}}(K_S^{[n]}|_Z) $$"
   ]
  },
  {
   "cell_type": "markdown",
   "metadata": {},
   "source": [
    "The Verlinde number is \n",
    "$$V_n(\\alpha)= \\chi(\\det (\\alpha^{[n]}))=\\int_{[S^{[n]}]^{\\text{vir}}}\\text{td}(T^{\\text{vir}})\\text{ch}\\left( \\det (\\alpha^{[n]})\\right)$$\n",
    "$$=\\sum_{|\\pi|=n}e(-T^{\\text{vir}}|_Z)\\text{td}(T^{\\text{vir}}|_Z)\\text{ch}\\left( \\det (\\alpha^{[n]})|_Z\\right)$$\n",
    "$$=\\sum_{|\\pi|=n}\\frac{\\text{ch}(\\wedge K^{[n]}_S|_Z)}{\\text{ch}(\\wedge T^\\vee|_Z)}\\text{ch}\\left( \\det (\\alpha^{[n]})|_Z\\right) $$\n",
    "where ${\\text{ch}(\\wedge x^\\vee)}=1/(1-e^{-x})$"
   ]
  },
  {
   "cell_type": "markdown",
   "metadata": {},
   "source": [
    "Since on $\\mathbb{C}^2$, $K_S$ is trivial with no weight from the 1-d torus action, we know $K^{[n]}$ has non-trivial fixed parts, so the above invariaints are 0 (in degree 0 of $H^*_{\\mathbb{C}^*}(\\text{pt})$). Instead we take the \"reduced\" obstruction bundle:\n",
    "$$ K^{[n]}_S-\\mathcal{O}_{S^{[n]}}$$\n",
    "Now we have in degree 0 they agree for $n=1,2,3$. When $n>3$, the fixed part of $K^{[n]}$ has dimension at least 2 at some boxes, but the equality continue to hold."
   ]
  },
  {
   "cell_type": "code",
   "execution_count": 170,
   "metadata": {},
   "outputs": [],
   "source": [
    "def segre(w,n):\n",
    "    return sum(top_chern(-tangent1(p))*total_chern(-character_vb(p,w,x,1/x))*top_chern(dual(canonical_bundle_red(p,x,1/x))) for p in Partitions(n))"
   ]
  },
  {
   "cell_type": "code",
   "execution_count": 171,
   "metadata": {},
   "outputs": [
    {
     "data": {
      "text/html": [
       "<html><script type=\"math/tex; mode=display\">\\newcommand{\\Bold}[1]{\\mathbf{#1}}-\\frac{21}{2 \\, b t} + \\frac{1}{2 \\, b^{2} t^{2}} + \\frac{295}{2}</script></html>"
      ],
      "text/latex": [
       "$$\\newcommand{\\Bold}[1]{\\mathbf{#1}}-\\frac{21}{2 \\, b t} + \\frac{1}{2 \\, b^{2} t^{2}} + \\frac{295}{2}$$"
      ],
      "text/plain": [
       "-21/2/(b*t) + 1/2/(b^2*t^2) + 295/2"
      ]
     },
     "execution_count": 171,
     "metadata": {},
     "output_type": "execute_result"
    }
   ],
   "source": [
    "W=(7,0)\n",
    "N=2\n",
    "\n",
    "tc= segre(W,N)(t=b*t,m=b*(m))\n",
    "taylc = tc.taylor(b,0,0)\n",
    "taylc"
   ]
  },
  {
   "cell_type": "code",
   "execution_count": 172,
   "metadata": {},
   "outputs": [],
   "source": [
    "def Verlinde(w,n):\n",
    "    return sum(KTheory.measure_unsymmetrized(tangent1(p),inv=True)* \n",
    "               determinant(character_vb(p, w,x,1/x))*KTheory.measure_unsymmetrized(-canonical_bundle_red(p,x,1/x),inv=False)\n",
    "               for p in Partitions(n))\n"
   ]
  },
  {
   "cell_type": "code",
   "execution_count": 173,
   "metadata": {},
   "outputs": [
    {
     "data": {
      "text/html": [
       "<html><script type=\"math/tex; mode=display\">\\newcommand{\\Bold}[1]{\\mathbf{#1}}-\\frac{21}{2 \\, b t} - \\frac{3}{4 \\, b^{2} t^{2}} - \\frac{147}{2}</script></html>"
      ],
      "text/latex": [
       "$$\\newcommand{\\Bold}[1]{\\mathbf{#1}}-\\frac{21}{2 \\, b t} - \\frac{3}{4 \\, b^{2} t^{2}} - \\frac{147}{2}$$"
      ],
      "text/plain": [
       "-21/2/(b*t) - 3/4/(b^2*t^2) - 147/2"
      ]
     },
     "execution_count": 173,
     "metadata": {},
     "output_type": "execute_result"
    }
   ],
   "source": [
    "verl = Verlinde(W,N)(x=exp(t*b),y=exp(m*b))\n",
    "tayl = verl.taylor(b,0,0)\n",
    "tayl"
   ]
  },
  {
   "cell_type": "markdown",
   "metadata": {},
   "source": [
    "The degree $-1$ term for Segre is $-(w\\ /\\ nt)$:"
   ]
  },
  {
   "cell_type": "code",
   "execution_count": 70,
   "metadata": {
    "scrolled": false
   },
   "outputs": [
    {
     "data": {
      "text/html": [
       "<html><script type=\"math/tex; mode=display\">\\newcommand{\\Bold}[1]{\\mathbf{#1}}-\\frac{w_{0} + w_{1}}{2 \\, t}</script></html>"
      ],
      "text/latex": [
       "$$\\newcommand{\\Bold}[1]{\\mathbf{#1}}-\\frac{w_{0} + w_{1}}{2 \\, t}$$"
      ],
      "text/plain": [
       "-1/2*(w0 + w1)/t"
      ]
     },
     "execution_count": 70,
     "metadata": {},
     "output_type": "execute_result"
    }
   ],
   "source": [
    "pretty(degn(Chern_Num(2),-1))"
   ]
  },
  {
   "cell_type": "markdown",
   "metadata": {},
   "source": [
    "The Verlinde number is $(-1)^{n+1}(w\\ /\\ nt)$:"
   ]
  },
  {
   "cell_type": "code",
   "execution_count": 74,
   "metadata": {},
   "outputs": [
    {
     "data": {
      "text/html": [
       "<html><script type=\"math/tex; mode=display\">\\newcommand{\\Bold}[1]{\\mathbf{#1}}-\\frac{7 \\, {\\left(w_{0} + w_{1} + w_{2} + w_{3}\\right)}}{2 \\, t}</script></html>"
      ],
      "text/latex": [
       "$$\\newcommand{\\Bold}[1]{\\mathbf{#1}}-\\frac{7 \\, {\\left(w_{0} + w_{1} + w_{2} + w_{3}\\right)}}{2 \\, t}$$"
      ],
      "text/plain": [
       "-7/2*(w0 + w1 + w2 + w3)/t"
      ]
     },
     "execution_count": 74,
     "metadata": {},
     "output_type": "execute_result"
    }
   ],
   "source": [
    "pretty(degn(Verlinde_Num_inv(2),-1))"
   ]
  },
  {
   "cell_type": "markdown",
   "metadata": {},
   "source": [
    "and we indeed have correspondence when $\\text{rank}=\\pm 1$.\n",
    "When $\\text{rank}>1$, Verlinde number at degree $-1$ changes by a multiple of:\n",
    "$$V_n=\\frac{\\prod_{i=1}^{r-1}(rn-i)}{(r-1)!} $$"
   ]
  },
  {
   "cell_type": "markdown",
   "metadata": {},
   "source": [
    "Back to rank $1$, then the segre number $1/(1+x)$ is an infinite power series that has terms in other degrees."
   ]
  },
  {
   "cell_type": "markdown",
   "metadata": {},
   "source": [
    "In degree $-2$, the difference (quotient) is\n",
    "$$\\frac{V_n}{S_n}=(-1)^{n+1} \\frac{(2n-1)}{n}$$"
   ]
  },
  {
   "cell_type": "markdown",
   "metadata": {},
   "source": [
    "In degree $0$, the invariants are always polynomials in $w^2$, \n",
    "$$[w^2]S_n=(-1)^{n+1}\\cdot2\\cdot [w^2]V_{n+1} $$\n",
    "$$\\frac{[w^2]S_n}{[w^0]S_n} = \\frac{[w^2]V_{n+1}}{[w^0]V_{n+1}}, \\text{ for $n\\geq 2$ (otherwise division by 0)} $$"
   ]
  },
  {
   "cell_type": "markdown",
   "metadata": {},
   "source": [
    "Also, we have a recursive formula\n",
    "$$\\frac{[w^2]S_n}{[w^0]S_n}\\cdot \\frac{(n-1)}{n} = \\frac{[w^2]S_{n+1}}{[w^0]S_{n+1}}, n\\geq 2$$"
   ]
  },
  {
   "cell_type": "markdown",
   "metadata": {},
   "source": [
    "In degree $1$, \n",
    "$$S_n=(-1)^nV_{n+1}$$"
   ]
  },
  {
   "cell_type": "markdown",
   "metadata": {},
   "source": [
    "But is it interesting to only look at rank 1 for Verlinde number?"
   ]
  },
  {
   "cell_type": "code",
   "execution_count": 115,
   "metadata": {},
   "outputs": [
    {
     "data": {
      "text/html": [
       "<html><script type=\"math/tex; mode=display\">\\newcommand{\\Bold}[1]{\\mathbf{#1}}462 \\, w_{0}^{2} + 385</script></html>"
      ],
      "text/latex": [
       "$$\\newcommand{\\Bold}[1]{\\mathbf{#1}}462 \\, w_{0}^{2} + 385$$"
      ],
      "text/plain": [
       "462*w0^2 + 385"
      ]
     },
     "execution_count": 115,
     "metadata": {},
     "output_type": "execute_result"
    }
   ],
   "source": [
    "pretty(degn(Segre_Num(6),0))"
   ]
  },
  {
   "cell_type": "code",
   "execution_count": 97,
   "metadata": {},
   "outputs": [
    {
     "data": {
      "text/html": [
       "<html><script type=\"math/tex; mode=display\">\\newcommand{\\Bold}[1]{\\mathbf{#1}}-\\frac{1001}{25 \\, t^{2}}</script></html>"
      ],
      "text/latex": [
       "$$\\newcommand{\\Bold}[1]{\\mathbf{#1}}-\\frac{1001}{25 \\, t^{2}}$$"
      ],
      "text/plain": [
       "-1001/25/t^2"
      ]
     },
     "execution_count": 97,
     "metadata": {},
     "output_type": "execute_result"
    }
   ],
   "source": [
    "pretty(degn(Verlinde_Num(5),-2))"
   ]
  },
  {
   "cell_type": "code",
   "execution_count": 116,
   "metadata": {},
   "outputs": [
    {
     "data": {
      "text/html": [
       "<html><script type=\"math/tex; mode=display\">\\newcommand{\\Bold}[1]{\\mathbf{#1}}\\frac{9}{2} \\, w_{0}^{2} + \\frac{1}{2}</script></html>"
      ],
      "text/latex": [
       "$$\\newcommand{\\Bold}[1]{\\mathbf{#1}}\\frac{9}{2} \\, w_{0}^{2} + \\frac{1}{2}$$"
      ],
      "text/plain": [
       "9/2*w0^2 + 1/2"
      ]
     },
     "execution_count": 116,
     "metadata": {},
     "output_type": "execute_result"
    }
   ],
   "source": [
    "pretty(degn(Segre_Num(2),0)-degn(Verlinde_Num(2),0))"
   ]
  },
  {
   "cell_type": "markdown",
   "metadata": {},
   "source": [
    "# DT inv\n",
    "\n",
    "We have\n",
    "$$\\int_{[S^{[n]}]}1=(-1)^n\\frac{1}{n!t^{2n}}$$\n",
    "$$\\int_{[S^{[n]}]^{\\text{red}}}1=\\begin{cases}-\\frac1{t^2}\\text{ when $n=1$}\\\\0\\text{ else}\\end{cases}$$"
   ]
  },
  {
   "cell_type": "code",
   "execution_count": 160,
   "metadata": {},
   "outputs": [
    {
     "data": {
      "text/html": [
       "<html><script type=\"math/tex; mode=display\">\\newcommand{\\Bold}[1]{\\mathbf{#1}}0</script></html>"
      ],
      "text/latex": [
       "$$\\newcommand{\\Bold}[1]{\\mathbf{#1}}0$$"
      ],
      "text/plain": [
       "0"
      ]
     },
     "execution_count": 160,
     "metadata": {},
     "output_type": "execute_result"
    }
   ],
   "source": [
    "DT_Num(8)"
   ]
  },
  {
   "cell_type": "code",
   "execution_count": 4,
   "metadata": {},
   "outputs": [
    {
     "data": {
      "text/plain": [
       "'0x64'"
      ]
     },
     "execution_count": 4,
     "metadata": {},
     "output_type": "execute_result"
    }
   ],
   "source": [
    "str(hex(100))"
   ]
  }
 ],
 "metadata": {
  "kernelspec": {
   "display_name": "SageMath 9.3",
   "language": "sage",
   "name": "sagemath"
  },
  "language_info": {
   "codemirror_mode": {
    "name": "ipython",
    "version": 3
   },
   "file_extension": ".py",
   "mimetype": "text/x-python",
   "name": "python",
   "nbconvert_exporter": "python",
   "pygments_lexer": "ipython3",
   "version": "3.7.10"
  }
 },
 "nbformat": 4,
 "nbformat_minor": 4
}
