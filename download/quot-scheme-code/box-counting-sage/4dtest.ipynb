{
 "cells": [
  {
   "cell_type": "code",
   "execution_count": 1,
   "metadata": {},
   "outputs": [],
   "source": [
    "reset()\n",
    "%display latex\n",
    "Partitions.options.latex=\"list\"\n",
    "load(\"partition_4d.sage\")"
   ]
  },
  {
   "cell_type": "markdown",
   "metadata": {},
   "source": [
    "## 4d partitions with legs\n",
    "\n",
    "A solid (4d) partition is a sequence $\\pi=\\{\\pi_{ijk}\\}_{i,j,k\\geq 1}$ of integers (possibly infinite) satisfying\n",
    "    $$\\pi_{ijk}\\geq \\pi_{i+1,j,k}, \\pi_{i,j+1,k}, \\pi_{i,j,k+1}$$\n",
    "They can be thought as boxes in $\\mathbb{R}^4$ where $\\pi_{ijk}$ is the height in the $x_4$-axis. Given such a 4d-partition, we have 4 unique 3d-partitions that indicate its legs. It is called *curve-like* if the legs are finite, and *point-like* if it has no legs."
   ]
  },
  {
   "cell_type": "code",
   "execution_count": 2,
   "metadata": {
    "scrolled": false
   },
   "outputs": [
    {
     "data": {
      "text/html": [
       "<html><script type=\"math/tex; mode=display\">\\newcommand{\\Bold}[1]{\\mathbf{#1}}\\left[\\verb|point-like|\\phantom{\\verb!x!}\\verb|solid|\\phantom{\\verb!x!}\\verb|partition|\\phantom{\\verb!x!}\\verb|with|\\phantom{\\verb!x!}\\verb|boxes|\\phantom{\\verb!x!}\\verb|[(0,|\\phantom{\\verb!x!}\\verb|0,|\\phantom{\\verb!x!}\\verb|0,|\\phantom{\\verb!x!}\\verb|0),|\\phantom{\\verb!x!}\\verb|(0,|\\phantom{\\verb!x!}\\verb|0,|\\phantom{\\verb!x!}\\verb|1,|\\phantom{\\verb!x!}\\verb|0)]|, \\verb|point-like|\\phantom{\\verb!x!}\\verb|solid|\\phantom{\\verb!x!}\\verb|partition|\\phantom{\\verb!x!}\\verb|with|\\phantom{\\verb!x!}\\verb|boxes|\\phantom{\\verb!x!}\\verb|[(0,|\\phantom{\\verb!x!}\\verb|0,|\\phantom{\\verb!x!}\\verb|0,|\\phantom{\\verb!x!}\\verb|1),|\\phantom{\\verb!x!}\\verb|(0,|\\phantom{\\verb!x!}\\verb|0,|\\phantom{\\verb!x!}\\verb|0,|\\phantom{\\verb!x!}\\verb|0)]|, \\verb|point-like|\\phantom{\\verb!x!}\\verb|solid|\\phantom{\\verb!x!}\\verb|partition|\\phantom{\\verb!x!}\\verb|with|\\phantom{\\verb!x!}\\verb|boxes|\\phantom{\\verb!x!}\\verb|[(0,|\\phantom{\\verb!x!}\\verb|0,|\\phantom{\\verb!x!}\\verb|0,|\\phantom{\\verb!x!}\\verb|0),|\\phantom{\\verb!x!}\\verb|(1,|\\phantom{\\verb!x!}\\verb|0,|\\phantom{\\verb!x!}\\verb|0,|\\phantom{\\verb!x!}\\verb|0)]|, \\verb|point-like|\\phantom{\\verb!x!}\\verb|solid|\\phantom{\\verb!x!}\\verb|partition|\\phantom{\\verb!x!}\\verb|with|\\phantom{\\verb!x!}\\verb|boxes|\\phantom{\\verb!x!}\\verb|[(0,|\\phantom{\\verb!x!}\\verb|0,|\\phantom{\\verb!x!}\\verb|0,|\\phantom{\\verb!x!}\\verb|0),|\\phantom{\\verb!x!}\\verb|(0,|\\phantom{\\verb!x!}\\verb|1,|\\phantom{\\verb!x!}\\verb|0,|\\phantom{\\verb!x!}\\verb|0)]|\\right]</script></html>"
      ],
      "text/latex": [
       "$$\\newcommand{\\Bold}[1]{\\mathbf{#1}}\\left[\\verb|point-like|\\phantom{\\verb!x!}\\verb|solid|\\phantom{\\verb!x!}\\verb|partition|\\phantom{\\verb!x!}\\verb|with|\\phantom{\\verb!x!}\\verb|boxes|\\phantom{\\verb!x!}\\verb|[(0,|\\phantom{\\verb!x!}\\verb|0,|\\phantom{\\verb!x!}\\verb|0,|\\phantom{\\verb!x!}\\verb|0),|\\phantom{\\verb!x!}\\verb|(0,|\\phantom{\\verb!x!}\\verb|0,|\\phantom{\\verb!x!}\\verb|1,|\\phantom{\\verb!x!}\\verb|0)]|, \\verb|point-like|\\phantom{\\verb!x!}\\verb|solid|\\phantom{\\verb!x!}\\verb|partition|\\phantom{\\verb!x!}\\verb|with|\\phantom{\\verb!x!}\\verb|boxes|\\phantom{\\verb!x!}\\verb|[(0,|\\phantom{\\verb!x!}\\verb|0,|\\phantom{\\verb!x!}\\verb|0,|\\phantom{\\verb!x!}\\verb|1),|\\phantom{\\verb!x!}\\verb|(0,|\\phantom{\\verb!x!}\\verb|0,|\\phantom{\\verb!x!}\\verb|0,|\\phantom{\\verb!x!}\\verb|0)]|, \\verb|point-like|\\phantom{\\verb!x!}\\verb|solid|\\phantom{\\verb!x!}\\verb|partition|\\phantom{\\verb!x!}\\verb|with|\\phantom{\\verb!x!}\\verb|boxes|\\phantom{\\verb!x!}\\verb|[(0,|\\phantom{\\verb!x!}\\verb|0,|\\phantom{\\verb!x!}\\verb|0,|\\phantom{\\verb!x!}\\verb|0),|\\phantom{\\verb!x!}\\verb|(1,|\\phantom{\\verb!x!}\\verb|0,|\\phantom{\\verb!x!}\\verb|0,|\\phantom{\\verb!x!}\\verb|0)]|, \\verb|point-like|\\phantom{\\verb!x!}\\verb|solid|\\phantom{\\verb!x!}\\verb|partition|\\phantom{\\verb!x!}\\verb|with|\\phantom{\\verb!x!}\\verb|boxes|\\phantom{\\verb!x!}\\verb|[(0,|\\phantom{\\verb!x!}\\verb|0,|\\phantom{\\verb!x!}\\verb|0,|\\phantom{\\verb!x!}\\verb|0),|\\phantom{\\verb!x!}\\verb|(0,|\\phantom{\\verb!x!}\\verb|1,|\\phantom{\\verb!x!}\\verb|0,|\\phantom{\\verb!x!}\\verb|0)]|\\right]$$"
      ],
      "text/plain": [
       "[point-like solid partition with boxes [(0, 0, 0, 0), (0, 0, 1, 0)],\n",
       " point-like solid partition with boxes [(0, 0, 0, 1), (0, 0, 0, 0)],\n",
       " point-like solid partition with boxes [(0, 0, 0, 0), (1, 0, 0, 0)],\n",
       " point-like solid partition with boxes [(0, 0, 0, 0), (0, 1, 0, 0)]]"
      ]
     },
     "execution_count": 2,
     "metadata": {},
     "output_type": "execute_result"
    }
   ],
   "source": [
    "pP4ds = Partitions4d()\n",
    "pP4d = list(pP4ds.with_num_boxes(2))\n",
    "Ex = pP4d[2]\n",
    "pP4d"
   ]
  },
  {
   "cell_type": "markdown",
   "metadata": {},
   "source": [
    "The following is an example with legs of size 2 in $x_1$ direction, 1 in $x_2$ direction, 3 in $x_4$ direction:"
   ]
  },
  {
   "cell_type": "code",
   "execution_count": 3,
   "metadata": {
    "scrolled": true
   },
   "outputs": [
    {
     "data": {
      "text/html": [
       "<html><script type=\"math/tex; mode=display\">\\newcommand{\\Bold}[1]{\\mathbf{#1}}\\verb|curve-like|\\phantom{\\verb!x!}\\verb|solid|\\phantom{\\verb!x!}\\verb|partition|\\phantom{\\verb!x!}\\verb|with|\\phantom{\\verb!x!}\\verb|legs|\\phantom{\\verb!x!}\\verb|3d|\\phantom{\\verb!x!}\\verb|partition|\\phantom{\\verb!x!}\\verb|with|\\phantom{\\verb!x!}\\verb|boxes|\\phantom{\\verb!x!}\\verb|[(1,|\\phantom{\\verb!x!}\\verb|0,|\\phantom{\\verb!x!}\\verb|0),|\\phantom{\\verb!x!}\\verb|(0,|\\phantom{\\verb!x!}\\verb|1,|\\phantom{\\verb!x!}\\verb|0),|\\phantom{\\verb!x!}\\verb|(0,|\\phantom{\\verb!x!}\\verb|0,|\\phantom{\\verb!x!}\\verb|0),|\\phantom{\\verb!x!}\\verb|(0,|\\phantom{\\verb!x!}\\verb|0,|\\phantom{\\verb!x!}\\verb|1)],|\\phantom{\\verb!x!}\\verb|3d|\\phantom{\\verb!x!}\\verb|partition|\\phantom{\\verb!x!}\\verb|with|\\phantom{\\verb!x!}\\verb|boxes|\\phantom{\\verb!x!}\\verb|[(1,|\\phantom{\\verb!x!}\\verb|0,|\\phantom{\\verb!x!}\\verb|0),|\\phantom{\\verb!x!}\\verb|(0,|\\phantom{\\verb!x!}\\verb|1,|\\phantom{\\verb!x!}\\verb|0),|\\phantom{\\verb!x!}\\verb|(0,|\\phantom{\\verb!x!}\\verb|0,|\\phantom{\\verb!x!}\\verb|0),|\\phantom{\\verb!x!}\\verb|(2,|\\phantom{\\verb!x!}\\verb|0,|\\phantom{\\verb!x!}\\verb|0)],|\\phantom{\\verb!x!}\\verb|3d|\\phantom{\\verb!x!}\\verb|partition|\\phantom{\\verb!x!}\\verb|with|\\phantom{\\verb!x!}\\verb|boxes|\\phantom{\\verb!x!}\\verb|[(1,|\\phantom{\\verb!x!}\\verb|0,|\\phantom{\\verb!x!}\\verb|0),|\\phantom{\\verb!x!}\\verb|(3,|\\phantom{\\verb!x!}\\verb|0,|\\phantom{\\verb!x!}\\verb|0),|\\phantom{\\verb!x!}\\verb|(0,|\\phantom{\\verb!x!}\\verb|0,|\\phantom{\\verb!x!}\\verb|0),|\\phantom{\\verb!x!}\\verb|(2,|\\phantom{\\verb!x!}\\verb|0,|\\phantom{\\verb!x!}\\verb|0)],|\\phantom{\\verb!x!}\\verb|3d|\\phantom{\\verb!x!}\\verb|partition|\\phantom{\\verb!x!}\\verb|with|\\phantom{\\verb!x!}\\verb|boxes|\\phantom{\\verb!x!}\\verb|[(0,|\\phantom{\\verb!x!}\\verb|0,|\\phantom{\\verb!x!}\\verb|0),|\\phantom{\\verb!x!}\\verb|(0,|\\phantom{\\verb!x!}\\verb|0,|\\phantom{\\verb!x!}\\verb|1),|\\phantom{\\verb!x!}\\verb|(0,|\\phantom{\\verb!x!}\\verb|0,|\\phantom{\\verb!x!}\\verb|2),|\\phantom{\\verb!x!}\\verb|(0,|\\phantom{\\verb!x!}\\verb|0,|\\phantom{\\verb!x!}\\verb|3)]|\\phantom{\\verb!x!}\\verb|and|\\phantom{\\verb!x!}\\verb|extra|\\phantom{\\verb!x!}\\verb|boxes|\\phantom{\\verb!x!}\\verb|[(1,|\\phantom{\\verb!x!}\\verb|0,|\\phantom{\\verb!x!}\\verb|1,|\\phantom{\\verb!x!}\\verb|1),|\\phantom{\\verb!x!}\\verb|(0,|\\phantom{\\verb!x!}\\verb|1,|\\phantom{\\verb!x!}\\verb|2,|\\phantom{\\verb!x!}\\verb|0),|\\phantom{\\verb!x!}\\verb|(1,|\\phantom{\\verb!x!}\\verb|0,|\\phantom{\\verb!x!}\\verb|2,|\\phantom{\\verb!x!}\\verb|1)]|</script></html>"
      ],
      "text/latex": [
       "$$\\newcommand{\\Bold}[1]{\\mathbf{#1}}\\verb|curve-like|\\phantom{\\verb!x!}\\verb|solid|\\phantom{\\verb!x!}\\verb|partition|\\phantom{\\verb!x!}\\verb|with|\\phantom{\\verb!x!}\\verb|legs|\\phantom{\\verb!x!}\\verb|3d|\\phantom{\\verb!x!}\\verb|partition|\\phantom{\\verb!x!}\\verb|with|\\phantom{\\verb!x!}\\verb|boxes|\\phantom{\\verb!x!}\\verb|[(1,|\\phantom{\\verb!x!}\\verb|0,|\\phantom{\\verb!x!}\\verb|0),|\\phantom{\\verb!x!}\\verb|(0,|\\phantom{\\verb!x!}\\verb|1,|\\phantom{\\verb!x!}\\verb|0),|\\phantom{\\verb!x!}\\verb|(0,|\\phantom{\\verb!x!}\\verb|0,|\\phantom{\\verb!x!}\\verb|0),|\\phantom{\\verb!x!}\\verb|(0,|\\phantom{\\verb!x!}\\verb|0,|\\phantom{\\verb!x!}\\verb|1)],|\\phantom{\\verb!x!}\\verb|3d|\\phantom{\\verb!x!}\\verb|partition|\\phantom{\\verb!x!}\\verb|with|\\phantom{\\verb!x!}\\verb|boxes|\\phantom{\\verb!x!}\\verb|[(1,|\\phantom{\\verb!x!}\\verb|0,|\\phantom{\\verb!x!}\\verb|0),|\\phantom{\\verb!x!}\\verb|(0,|\\phantom{\\verb!x!}\\verb|1,|\\phantom{\\verb!x!}\\verb|0),|\\phantom{\\verb!x!}\\verb|(0,|\\phantom{\\verb!x!}\\verb|0,|\\phantom{\\verb!x!}\\verb|0),|\\phantom{\\verb!x!}\\verb|(2,|\\phantom{\\verb!x!}\\verb|0,|\\phantom{\\verb!x!}\\verb|0)],|\\phantom{\\verb!x!}\\verb|3d|\\phantom{\\verb!x!}\\verb|partition|\\phantom{\\verb!x!}\\verb|with|\\phantom{\\verb!x!}\\verb|boxes|\\phantom{\\verb!x!}\\verb|[(1,|\\phantom{\\verb!x!}\\verb|0,|\\phantom{\\verb!x!}\\verb|0),|\\phantom{\\verb!x!}\\verb|(3,|\\phantom{\\verb!x!}\\verb|0,|\\phantom{\\verb!x!}\\verb|0),|\\phantom{\\verb!x!}\\verb|(0,|\\phantom{\\verb!x!}\\verb|0,|\\phantom{\\verb!x!}\\verb|0),|\\phantom{\\verb!x!}\\verb|(2,|\\phantom{\\verb!x!}\\verb|0,|\\phantom{\\verb!x!}\\verb|0)],|\\phantom{\\verb!x!}\\verb|3d|\\phantom{\\verb!x!}\\verb|partition|\\phantom{\\verb!x!}\\verb|with|\\phantom{\\verb!x!}\\verb|boxes|\\phantom{\\verb!x!}\\verb|[(0,|\\phantom{\\verb!x!}\\verb|0,|\\phantom{\\verb!x!}\\verb|0),|\\phantom{\\verb!x!}\\verb|(0,|\\phantom{\\verb!x!}\\verb|0,|\\phantom{\\verb!x!}\\verb|1),|\\phantom{\\verb!x!}\\verb|(0,|\\phantom{\\verb!x!}\\verb|0,|\\phantom{\\verb!x!}\\verb|2),|\\phantom{\\verb!x!}\\verb|(0,|\\phantom{\\verb!x!}\\verb|0,|\\phantom{\\verb!x!}\\verb|3)]|\\phantom{\\verb!x!}\\verb|and|\\phantom{\\verb!x!}\\verb|extra|\\phantom{\\verb!x!}\\verb|boxes|\\phantom{\\verb!x!}\\verb|[(1,|\\phantom{\\verb!x!}\\verb|0,|\\phantom{\\verb!x!}\\verb|1,|\\phantom{\\verb!x!}\\verb|1),|\\phantom{\\verb!x!}\\verb|(0,|\\phantom{\\verb!x!}\\verb|1,|\\phantom{\\verb!x!}\\verb|2,|\\phantom{\\verb!x!}\\verb|0),|\\phantom{\\verb!x!}\\verb|(1,|\\phantom{\\verb!x!}\\verb|0,|\\phantom{\\verb!x!}\\verb|2,|\\phantom{\\verb!x!}\\verb|1)]|$$"
      ],
      "text/plain": [
       "curve-like solid partition with legs 3d partition with boxes [(1, 0, 0), (0, 1, 0), (0, 0, 0), (0, 0, 1)], 3d partition with boxes [(1, 0, 0), (0, 1, 0), (0, 0, 0), (2, 0, 0)], 3d partition with boxes [(1, 0, 0), (3, 0, 0), (0, 0, 0), (2, 0, 0)], 3d partition with boxes [(0, 0, 0), (0, 0, 1), (0, 0, 2), (0, 0, 3)] and extra boxes [(1, 0, 1, 1), (0, 1, 2, 0), (1, 0, 2, 1)]"
      ]
     },
     "execution_count": 3,
     "metadata": {},
     "output_type": "execute_result"
    }
   ],
   "source": [
    "P3ds = Partitions3d([])\n",
    "X = list(P3ds.with_num_boxes(4))[0]\n",
    "Y = list(P3ds.with_num_boxes(4))[1]\n",
    "Z = list(P3ds.with_num_boxes(4))[2]\n",
    "W = list(P3ds.with_num_boxes(4))[3]\n",
    "P4ds = Partitions4d(X,Y,Z,W)\n",
    "P4d = list(P4ds.with_num_boxes(3))\n",
    "P4d[5]"
   ]
  },
  {
   "cell_type": "markdown",
   "metadata": {},
   "source": [
    "Computation gets extremely slow after $n=6$. Need to improve `.with_num_boxes()` so that it doesn't calculate addable boxes every time."
   ]
  },
  {
   "cell_type": "markdown",
   "metadata": {},
   "source": [
    "`character(x1,x2,x3,x4)` computes \n",
    "$$Q_\\pi:=\\sum_{i,j,k\\geq 1}\\sum_{l=1}^{\\pi_{ij}}x_1^{i-1}x_2^{j-1}x_3^{k-1}x_4^{l-1}$$"
   ]
  },
  {
   "cell_type": "code",
   "execution_count": 4,
   "metadata": {
    "scrolled": false
   },
   "outputs": [
    {
     "data": {
      "text/html": [
       "<html><script type=\"math/tex; mode=display\">\\newcommand{\\Bold}[1]{\\mathbf{#1}}x_{1} + 1</script></html>"
      ],
      "text/latex": [
       "$$\\newcommand{\\Bold}[1]{\\mathbf{#1}}x_{1} + 1$$"
      ],
      "text/plain": [
       "x1 + 1"
      ]
     },
     "execution_count": 4,
     "metadata": {},
     "output_type": "execute_result"
    }
   ],
   "source": [
    "pretty(Ex.character())"
   ]
  },
  {
   "cell_type": "markdown",
   "metadata": {},
   "source": [
    "There is no $(x_3-1)$ in the denominator because there is no leg in the $x_3$ direction. We can plot the 4d boxes such that their colors indicate the height in the $x_4$ axis, red means there is an leg (infinite) in the $x_4$ direction."
   ]
  },
  {
   "cell_type": "code",
   "execution_count": 5,
   "metadata": {},
   "outputs": [
    {
     "data": {
      "text/html": [
       "\n",
       "<iframe srcdoc=\"<!DOCTYPE html>\n",
       "<html>\n",
       "<head>\n",
       "<title></title>\n",
       "<meta charset=&quot;utf-8&quot;>\n",
       "<meta name=viewport content=&quot;width=device-width, user-scalable=no, minimum-scale=1.0, maximum-scale=1.0&quot;>\n",
       "<style>\n",
       "\n",
       "    body { margin: 0px; overflow: hidden; }\n",
       "\n",
       "    #menu-container { position: absolute; bottom: 30px; right: 40px; cursor: default; }\n",
       "\n",
       "    #menu-message { position: absolute; bottom: 0px; right: 0px; white-space: nowrap;\n",
       "                    display: none; background-color: #F5F5F5; padding: 10px; }\n",
       "\n",
       "    #menu-content { position: absolute; bottom: 0px; right: 0px;\n",
       "                    display: none; background-color: #F5F5F5; border-bottom: 1px solid black;\n",
       "                    border-right: 1px solid black; border-left: 1px solid black; }\n",
       "\n",
       "    #menu-content div { border-top: 1px solid black; padding: 10px; white-space: nowrap; }\n",
       "\n",
       "    #menu-content div:hover { background-color: #FEFEFE; }\n",
       "\n",
       "    .dark-theme #menu-container { color: white; }\n",
       "\n",
       "    .dark-theme #menu-message { background-color: #181818; }\n",
       "\n",
       "    .dark-theme #menu-content { background-color: #181818; border-color: white; }\n",
       "\n",
       "    .dark-theme #menu-content div { border-color: white; }\n",
       "\n",
       "    .dark-theme #menu-content div:hover { background-color: #303030; }\n",
       "\n",
       "</style>\n",
       "\n",
       "</head>\n",
       "\n",
       "<body>\n",
       "\n",
       "<script src=&quot;/nbextensions/threejs/build/three.min.js&quot;></script>\n",
       "<script>\n",
       "  if ( !window.THREE ) document.write(' \\\n",
       "<script src=&quot;https://cdn.jsdelivr.net/gh/sagemath/threejs-sage@r122/build/three.min.js&quot;><\\/script> \\\n",
       "            ');\n",
       "</script>\n",
       "        \n",
       "<script>\n",
       "\n",
       "    var options = {&quot;animate&quot;: false, &quot;animationControls&quot;: true, &quot;aspectRatio&quot;: [1.0, 1.0, 1.0], &quot;autoPlay&quot;: true, &quot;axes&quot;: true, &quot;axesLabels&quot;: false, &quot;axesLabelsStyle&quot;: null, &quot;decimals&quot;: 2, &quot;delay&quot;: 20, &quot;frame&quot;: false, &quot;loop&quot;: true, &quot;projection&quot;: &quot;perspective&quot;, &quot;theme&quot;: &quot;light&quot;, &quot;viewpoint&quot;: false};\n",
       "    var animate = options.animate;\n",
       "\n",
       "    if ( options.theme === 'dark' )\n",
       "        document.body.className = 'dark-theme';\n",
       "\n",
       "    var scene = new THREE.Scene();\n",
       "\n",
       "    var renderer = new THREE.WebGLRenderer( { antialias: true, preserveDrawingBuffer: true } );\n",
       "    renderer.setPixelRatio( window.devicePixelRatio );\n",
       "    renderer.setSize( window.innerWidth, window.innerHeight );\n",
       "    renderer.setClearColor( options.theme === 'dark' ? 0 : 0xffffff, 1 );\n",
       "    document.body.appendChild( renderer.domElement );\n",
       "\n",
       "    var b = [{&quot;x&quot;:-0.5, &quot;y&quot;:-0.5, &quot;z&quot;:-0.5}, {&quot;x&quot;:11.0, &quot;y&quot;:11.0, &quot;z&quot;:11.0}]; // bounds\n",
       "\n",
       "    if ( b[0].x === b[1].x ) {\n",
       "        b[0].x -= 1;\n",
       "        b[1].x += 1;\n",
       "    }\n",
       "    if ( b[0].y === b[1].y ) {\n",
       "        b[0].y -= 1;\n",
       "        b[1].y += 1;\n",
       "    }\n",
       "    if ( b[0].z === b[1].z ) {\n",
       "        b[0].z -= 1;\n",
       "        b[1].z += 1;\n",
       "    }\n",
       "\n",
       "    var rRange = Math.sqrt( Math.pow( b[1].x - b[0].x, 2 )\n",
       "                            + Math.pow( b[1].y - b[0].y, 2 ) );\n",
       "    var xRange = b[1].x - b[0].x;\n",
       "    var yRange = b[1].y - b[0].y;\n",
       "    var zRange = b[1].z - b[0].z;\n",
       "\n",
       "    var ar = options.aspectRatio;\n",
       "    var a = [ ar[0], ar[1], ar[2] ]; // aspect multipliers\n",
       "    var autoAspect = 2.5;\n",
       "    if ( zRange > autoAspect * rRange && a[2] === 1 ) a[2] = autoAspect * rRange / zRange;\n",
       "\n",
       "    // Distance from (xMid,yMid,zMid) to any corner of the bounding box, after applying aspectRatio\n",
       "    var midToCorner = Math.sqrt( a[0]*a[0]*xRange*xRange + a[1]*a[1]*yRange*yRange + a[2]*a[2]*zRange*zRange ) / 2;\n",
       "\n",
       "    var xMid = ( b[0].x + b[1].x ) / 2;\n",
       "    var yMid = ( b[0].y + b[1].y ) / 2;\n",
       "    var zMid = ( b[0].z + b[1].z ) / 2;\n",
       "\n",
       "    var box = new THREE.Geometry();\n",
       "    box.vertices.push( new THREE.Vector3( a[0]*b[0].x, a[1]*b[0].y, a[2]*b[0].z ) );\n",
       "    box.vertices.push( new THREE.Vector3( a[0]*b[1].x, a[1]*b[1].y, a[2]*b[1].z ) );\n",
       "    var boxMesh = new THREE.Line( box );\n",
       "    var boxColor = options.theme === 'dark' ? 'white' : 'black';\n",
       "    if ( options.frame ) scene.add( new THREE.BoxHelper( boxMesh, boxColor ) );\n",
       "\n",
       "    if ( options.axesLabels ) {\n",
       "\n",
       "        var d = options.decimals; // decimals\n",
       "        var offsetRatio = 0.1;\n",
       "        var al = options.axesLabels;\n",
       "        var als = options.axesLabelsStyle || [{}, {}, {}];\n",
       "\n",
       "        var offset = offsetRatio * a[1]*( b[1].y - b[0].y );\n",
       "        var xm = xMid.toFixed(d);\n",
       "        if ( /^-0.?0*$/.test(xm) ) xm = xm.substr(1);\n",
       "        addLabel( al[0] + '=' + xm, a[0]*xMid, a[1]*b[1].y+offset, a[2]*b[0].z, als[0] );\n",
       "        addLabel( ( b[0].x ).toFixed(d), a[0]*b[0].x, a[1]*b[1].y+offset, a[2]*b[0].z, als[0] );\n",
       "        addLabel( ( b[1].x ).toFixed(d), a[0]*b[1].x, a[1]*b[1].y+offset, a[2]*b[0].z, als[0] );\n",
       "\n",
       "        var offset = offsetRatio * a[0]*( b[1].x - b[0].x );\n",
       "        var ym = yMid.toFixed(d);\n",
       "        if ( /^-0.?0*$/.test(ym) ) ym = ym.substr(1);\n",
       "        addLabel( al[1] + '=' + ym, a[0]*b[1].x+offset, a[1]*yMid, a[2]*b[0].z, als[1] );\n",
       "        addLabel( ( b[0].y ).toFixed(d), a[0]*b[1].x+offset, a[1]*b[0].y, a[2]*b[0].z, als[1] );\n",
       "        addLabel( ( b[1].y ).toFixed(d), a[0]*b[1].x+offset, a[1]*b[1].y, a[2]*b[0].z, als[1] );\n",
       "\n",
       "        var offset = offsetRatio * a[1]*( b[1].y - b[0].y );\n",
       "        var zm = zMid.toFixed(d);\n",
       "        if ( /^-0.?0*$/.test(zm) ) zm = zm.substr(1);\n",
       "        addLabel( al[2] + '=' + zm, a[0]*b[1].x, a[1]*b[0].y-offset, a[2]*zMid, als[2] );\n",
       "        addLabel( ( b[0].z ).toFixed(d), a[0]*b[1].x, a[1]*b[0].y-offset, a[2]*b[0].z, als[2] );\n",
       "        addLabel( ( b[1].z ).toFixed(d), a[0]*b[1].x, a[1]*b[0].y-offset, a[2]*b[1].z, als[2] );\n",
       "\n",
       "    }\n",
       "\n",
       "    function addLabel( text, x, y, z, style ) {\n",
       "\n",
       "        var color = style.color || 'black';\n",
       "        var fontSize = style.fontSize || 14;\n",
       "        var fontFamily = style.fontFamily || 'monospace';\n",
       "        var fontStyle = style.fontStyle || 'normal';\n",
       "        var fontWeight = style.fontWeight || 'normal';\n",
       "        var opacity = style.opacity || 1;\n",
       "\n",
       "        if ( options.theme === 'dark' )\n",
       "            if ( color === 'black' || color === '#000000' )\n",
       "                color = 'white';\n",
       "\n",
       "        if ( Array.isArray( fontStyle ) ) {\n",
       "            fontFamily = fontFamily.map( function( f ) {\n",
       "                // Need to put quotes around fonts that have whitespace in their names.\n",
       "                return /\\s/.test( f ) ? '&quot;' + f + '&quot;' : f;\n",
       "            }).join(', ');\n",
       "        }\n",
       "\n",
       "        var canvas = document.createElement( 'canvas' );\n",
       "        var context = canvas.getContext( '2d' );\n",
       "        var pixelRatio = Math.round( window.devicePixelRatio );\n",
       "\n",
       "        // For example: italic bold 20px &quot;Times New Roman&quot;, Georgia, serif\n",
       "        var font = [fontStyle, fontWeight, fontSize + 'px', fontFamily].join(' ');\n",
       "\n",
       "        context.font = font;\n",
       "        var width = context.measureText( text ).width;\n",
       "        var height = fontSize;\n",
       "\n",
       "        // The dimensions of the canvas's underlying image data need to be powers\n",
       "        // of two in order for the resulting texture to support mipmapping.\n",
       "        canvas.width = THREE.MathUtils.ceilPowerOfTwo( width * pixelRatio );\n",
       "        canvas.height = THREE.MathUtils.ceilPowerOfTwo( height * pixelRatio );\n",
       "\n",
       "        // Re-compute the unscaled dimensions after the power of two conversion.\n",
       "        width = canvas.width / pixelRatio;\n",
       "        height = canvas.height / pixelRatio;\n",
       "\n",
       "        canvas.style.width = width + 'px';\n",
       "        canvas.style.height = height + 'px';\n",
       "\n",
       "        context.scale( pixelRatio, pixelRatio );\n",
       "        context.fillStyle = color;\n",
       "        context.font = font; // Must be set again after measureText.\n",
       "        context.textAlign = 'center';\n",
       "        context.textBaseline = 'middle';\n",
       "        context.fillText( text, width/2, height/2 );\n",
       "\n",
       "        var texture = new THREE.Texture( canvas );\n",
       "        texture.needsUpdate = true;\n",
       "\n",
       "        var materialOptions = { map: texture, sizeAttenuation: false, depthWrite: false };\n",
       "        if ( opacity < 1 ) {\n",
       "            // Setting opacity=1 would cause the texture's alpha component to be\n",
       "            // discarded, giving the text a black background instead of the\n",
       "            // background being transparent.\n",
       "            materialOptions.opacity = opacity;\n",
       "        }\n",
       "        var sprite = new THREE.Sprite( new THREE.SpriteMaterial( materialOptions ) );\n",
       "        sprite.position.set( x, y, z );\n",
       "\n",
       "        // Scaling factor, chosen somewhat arbitrarily so that the size of the text\n",
       "        // is consistent with previously generated plots.\n",
       "        var scale = 1/625;\n",
       "        if ( options.projection === 'orthographic' ) {\n",
       "            scale = midToCorner/256; // Needs to scale along with the plot itself.\n",
       "        }\n",
       "        sprite.scale.set( scale * width, scale * height, 1 );\n",
       "\n",
       "        scene.add( sprite );\n",
       "\n",
       "        return sprite;\n",
       "\n",
       "    }\n",
       "\n",
       "    if ( options.axes ) scene.add( new THREE.AxesHelper( Math.min( a[0]*b[1].x, a[1]*b[1].y, a[2]*b[1].z ) ) );\n",
       "\n",
       "    var camera = createCamera();\n",
       "    camera.up.set( 0, 0, 1 );\n",
       "    camera.position.set( a[0]*xMid, a[1]*yMid, a[2]*zMid );\n",
       "\n",
       "    var offset = new THREE.Vector3( a[0]*xRange, a[1]*yRange, a[2]*zRange );\n",
       "\n",
       "    if ( options.viewpoint ) {\n",
       "\n",
       "        var aa = options.viewpoint;\n",
       "        var axis = new THREE.Vector3( aa[0][0], aa[0][1], aa[0][2] ).normalize();\n",
       "        var angle = aa[1] * Math.PI / 180;\n",
       "        var q = new THREE.Quaternion().setFromAxisAngle( axis, angle ).inverse();\n",
       "\n",
       "        offset.set( 0, 0, offset.length() );\n",
       "        offset.applyQuaternion( q );\n",
       "\n",
       "    }\n",
       "\n",
       "    camera.position.add( offset );\n",
       "\n",
       "    function createCamera() {\n",
       "\n",
       "        var aspect = window.innerWidth / window.innerHeight;\n",
       "\n",
       "        // Scale the near and far clipping planes along with the overall plot size.\n",
       "        var nearClip = 0.01 * midToCorner;\n",
       "        var farClip = 100 * midToCorner;\n",
       "\n",
       "        if ( options.projection === 'orthographic' ) {\n",
       "            var camera = new THREE.OrthographicCamera( -1, 1, 1, -1, -farClip, farClip );\n",
       "            updateCameraAspect( camera, aspect );\n",
       "            return camera;\n",
       "        }\n",
       "\n",
       "        return new THREE.PerspectiveCamera( 45, aspect, nearClip, farClip );\n",
       "\n",
       "    }\n",
       "\n",
       "    function updateCameraAspect( camera, aspect ) {\n",
       "\n",
       "        if ( camera.isPerspectiveCamera ) {\n",
       "            camera.aspect = aspect;\n",
       "        } else if ( camera.isOrthographicCamera ) {\n",
       "            // Fit the camera frustum to the bounding box's diagonal so that the entire plot fits\n",
       "            // within at the default zoom level and camera position.\n",
       "            if ( aspect > 1 ) { // Wide window\n",
       "                camera.top = midToCorner;\n",
       "                camera.right = midToCorner * aspect;\n",
       "            } else { // Tall or square window\n",
       "                camera.top = midToCorner / aspect;\n",
       "                camera.right = midToCorner;\n",
       "            }\n",
       "            camera.bottom = -camera.top;\n",
       "            camera.left = -camera.right;\n",
       "        }\n",
       "\n",
       "        camera.updateProjectionMatrix();\n",
       "\n",
       "    }\n",
       "\n",
       "    var lights = [{&quot;x&quot;:-5, &quot;y&quot;:3, &quot;z&quot;:0, &quot;color&quot;:&quot;#7f7f7f&quot;, &quot;parent&quot;:&quot;camera&quot;}];\n",
       "    for ( var i=0 ; i < lights.length ; i++ ) {\n",
       "        var light = new THREE.DirectionalLight( lights[i].color, 1 );\n",
       "        light.position.set( a[0]*lights[i].x, a[1]*lights[i].y, a[2]*lights[i].z );\n",
       "        if ( lights[i].parent === 'camera' ) {\n",
       "            light.target.position.set( a[0]*xMid, a[1]*yMid, a[2]*zMid );\n",
       "            scene.add( light.target );\n",
       "            camera.add( light );\n",
       "        } else scene.add( light );\n",
       "    }\n",
       "    scene.add( camera );\n",
       "\n",
       "    var ambient = {&quot;color&quot;:&quot;#7f7f7f&quot;};\n",
       "    scene.add( new THREE.AmbientLight( ambient.color, 1 ) );\n",
       "\n",
       "    var controls = new THREE.OrbitControls( camera, renderer.domElement );\n",
       "    controls.target.set( a[0]*xMid, a[1]*yMid, a[2]*zMid );\n",
       "    controls.addEventListener( 'change', function() { if ( !animate ) render(); } );\n",
       "\n",
       "    window.addEventListener( 'resize', function() {\n",
       "\n",
       "        renderer.setSize( window.innerWidth, window.innerHeight );\n",
       "        updateCameraAspect( camera, window.innerWidth / window.innerHeight );\n",
       "        if ( window.rescaleFatLines ) rescaleFatLines();\n",
       "        if ( !animate ) render();\n",
       "\n",
       "    } );\n",
       "\n",
       "    var texts = [];\n",
       "    for ( var i=0 ; i < texts.length ; i++ ) addText( texts[i] );\n",
       "\n",
       "    function addText( json ) {\n",
       "        var sprite = addLabel( json.text, a[0]*json.x, a[1]*json.y, a[2]*json.z, json );\n",
       "        sprite.userData = json;\n",
       "    }\n",
       "\n",
       "    var points = [];\n",
       "    for ( var i=0 ; i < points.length ; i++ ) addPoint( points[i] );\n",
       "\n",
       "    function addPoint( json ) {\n",
       "\n",
       "        var geometry = new THREE.Geometry();\n",
       "        var v = json.point;\n",
       "        geometry.vertices.push( new THREE.Vector3( a[0]*v[0], a[1]*v[1], a[2]*v[2] ) );\n",
       "\n",
       "        var canvas = document.createElement( 'canvas' );\n",
       "        canvas.width = 128;\n",
       "        canvas.height = 128;\n",
       "\n",
       "        var context = canvas.getContext( '2d' );\n",
       "        context.arc( 64, 64, 64, 0, 2 * Math.PI );\n",
       "        context.fillStyle = json.color;\n",
       "        context.fill();\n",
       "\n",
       "        var texture = new THREE.Texture( canvas );\n",
       "        texture.needsUpdate = true;\n",
       "\n",
       "        var transparent = json.opacity < 1 ? true : false;\n",
       "        var size = camera.isOrthographicCamera ? json.size : json.size/100;\n",
       "        var material = new THREE.PointsMaterial( { size: size, map: texture,\n",
       "                                                   transparent: transparent, opacity: json.opacity,\n",
       "                                                   alphaTest: .1 } );\n",
       "\n",
       "        var c = new THREE.Vector3();\n",
       "        geometry.computeBoundingBox();\n",
       "        geometry.boundingBox.getCenter( c );\n",
       "        geometry.translate( -c.x, -c.y, -c.z );\n",
       "\n",
       "        var mesh = new THREE.Points( geometry, material );\n",
       "        mesh.position.set( c.x, c.y, c.z );\n",
       "        mesh.userData = json;\n",
       "        scene.add( mesh );\n",
       "\n",
       "    }\n",
       "\n",
       "    var lines = [];\n",
       "    for ( var i=0 ; i < lines.length ; i++ ) addLine( lines[i] );\n",
       "\n",
       "    function addLine( json ) {\n",
       "\n",
       "        var geometry = new THREE.Geometry();\n",
       "        for ( var i=0 ; i < json.points.length ; i++ ) {\n",
       "            var v = json.points[i];\n",
       "            geometry.vertices.push( new THREE.Vector3( a[0]*v[0], a[1]*v[1], a[2]*v[2] ) );\n",
       "        }\n",
       "\n",
       "        var c = new THREE.Vector3();\n",
       "        geometry.computeBoundingBox();\n",
       "        geometry.boundingBox.getCenter( c );\n",
       "        geometry.translate( -c.x, -c.y, -c.z );\n",
       "\n",
       "        var transparent = json.opacity < 1 ? true : false;\n",
       "        var materialOptions = { color: json.color, linewidth: json.linewidth,\n",
       "                                transparent: transparent, opacity: json.opacity };\n",
       "\n",
       "        var mesh;\n",
       "        if ( json.linewidth > 1 && window.createFatLineStrip ) {\n",
       "            mesh = createFatLineStrip( geometry, materialOptions );\n",
       "        } else {\n",
       "            var material = new THREE.LineBasicMaterial( materialOptions );\n",
       "            mesh = new THREE.Line( geometry, material );\n",
       "        }\n",
       "\n",
       "        mesh.position.set( c.x, c.y, c.z );\n",
       "        mesh.userData = json;\n",
       "        scene.add( mesh );\n",
       "\n",
       "    }\n",
       "\n",
       "    var surfaces = [{&quot;vertices&quot;: [{&quot;x&quot;: 10.46, &quot;y&quot;: 0.0, &quot;z&quot;: 6.404902759540658e-16}, {&quot;x&quot;: 10.46, &quot;y&quot;: 0.018541019662496848, &quot;z&quot;: -0.05706339097770857}, {&quot;x&quot;: 10.46, &quot;y&quot;: 0.06, &quot;z&quot;: 6.404902759540658e-16}, {&quot;x&quot;: 10.46, &quot;y&quot;: -0.04854101966249684, &quot;z&quot;: -0.03526711513754775}, {&quot;x&quot;: 10.46, &quot;y&quot;: -0.04854101966249685, &quot;z&quot;: 0.035267115137549016}, {&quot;x&quot;: 10.46, &quot;y&quot;: 0.018541019662496834, &quot;z&quot;: 0.057063390977709856}, {&quot;x&quot;: 3.494124955467277e-18, &quot;y&quot;: 0.018541019662496848, &quot;z&quot;: -0.05706339097770921}, {&quot;x&quot;: 0.0, &quot;y&quot;: 0.06, &quot;z&quot;: 0.0}, {&quot;x&quot;: 2.15948798341799e-18, &quot;y&quot;: -0.04854101966249684, &quot;z&quot;: -0.03526711513754839}, {&quot;x&quot;: -2.1594879834179893e-18, &quot;y&quot;: -0.04854101966249685, &quot;z&quot;: 0.03526711513754838}, {&quot;x&quot;: -3.494124955467277e-18, &quot;y&quot;: 0.018541019662496834, &quot;z&quot;: 0.05706339097770922}, {&quot;x&quot;: 0.0, &quot;y&quot;: 0.0, &quot;z&quot;: 0.0}], &quot;faces&quot;: [[0, 1, 2], [0, 3, 1], [0, 4, 3], [0, 5, 4], [0, 2, 5], [2, 1, 6, 7], [1, 3, 8, 6], [3, 4, 9, 8], [4, 5, 10, 9], [5, 2, 7, 10], [7, 6, 11], [6, 8, 11], [8, 9, 11], [9, 10, 11], [10, 7, 11]], &quot;color&quot;: &quot;#000000&quot;, &quot;opacity&quot;: 1.0}, {&quot;vertices&quot;: [{&quot;x&quot;: 11.0, &quot;y&quot;: 0.0, &quot;z&quot;: 6.735557395310443e-16}, {&quot;x&quot;: 10.46, &quot;y&quot;: 0.16443818237566815, &quot;z&quot;: -0.07321259575364339}, {&quot;x&quot;: 10.46, &quot;y&quot;: 0.18, &quot;z&quot;: 6.404902759540658e-16}, {&quot;x&quot;: 10.46, &quot;y&quot;: 0.12044350914459448, &quot;z&quot;: -0.13376606858593032}, {&quot;x&quot;: 10.46, &quot;y&quot;: 0.05562305898749054, &quot;z&quot;: -0.171190172933127}, {&quot;x&quot;: 10.46, &quot;y&quot;: -0.0188151233881776, &quot;z&quot;: -0.17901394116628858}, {&quot;x&quot;: 10.46, &quot;y&quot;: -0.08999999999999996, &quot;z&quot;: -0.15588457268119832}, {&quot;x&quot;: 10.46, &quot;y&quot;: -0.1456230589874905, &quot;z&quot;: -0.10580134541264455}, {&quot;x&quot;: 10.46, &quot;y&quot;: -0.17606656813208502, &quot;z&quot;: -0.037424104347196036}, {&quot;x&quot;: 10.46, &quot;y&quot;: -0.17606656813208502, &quot;z&quot;: 0.03742410434719727}, {&quot;x&quot;: 10.46, &quot;y&quot;: -0.14562305898749053, &quot;z&quot;: 0.10580134541264578}, {&quot;x&quot;: 10.46, &quot;y&quot;: -0.09000000000000008, &quot;z&quot;: 0.15588457268119957}, {&quot;x&quot;: 10.46, &quot;y&quot;: -0.01881512338817776, &quot;z&quot;: 0.17901394116628983}, {&quot;x&quot;: 10.46, &quot;y&quot;: 0.0556230589874905, &quot;z&quot;: 0.1711901729331283}, {&quot;x&quot;: 10.46, &quot;y&quot;: 0.12044350914459452, &quot;z&quot;: 0.13376606858593157}, {&quot;x&quot;: 10.46, &quot;y&quot;: 0.16443818237566818, &quot;z&quot;: 0.07321259575364467}, {&quot;x&quot;: 10.46, &quot;y&quot;: 0.0, &quot;z&quot;: 6.404902759540658e-16}], &quot;faces&quot;: [[0, 1, 2], [0, 3, 1], [0, 4, 3], [0, 5, 4], [0, 6, 5], [0, 7, 6], [0, 8, 7], [0, 9, 8], [0, 10, 9], [0, 11, 10], [0, 12, 11], [0, 13, 12], [0, 14, 13], [0, 15, 14], [0, 2, 15], [2, 1, 16], [1, 3, 16], [3, 4, 16], [4, 5, 16], [5, 6, 16], [6, 7, 16], [7, 8, 16], [8, 9, 16], [9, 10, 16], [10, 11, 16], [11, 12, 16], [12, 13, 16], [13, 14, 16], [14, 15, 16], [15, 2, 16]], &quot;color&quot;: &quot;#000000&quot;, &quot;opacity&quot;: 1.0}, {&quot;vertices&quot;: [{&quot;x&quot;: 0.0, &quot;y&quot;: 10.46, &quot;z&quot;: 6.404902759540658e-16}, {&quot;x&quot;: 0.05706339097770921, &quot;y&quot;: 10.46, &quot;z&quot;: -0.018541019662496206}, {&quot;x&quot;: 0.0, &quot;y&quot;: 10.46, &quot;z&quot;: -0.05999999999999936}, {&quot;x&quot;: 0.03526711513754839, &quot;y&quot;: 10.46, &quot;z&quot;: 0.04854101966249748}, {&quot;x&quot;: -0.03526711513754838, &quot;y&quot;: 10.46, &quot;z&quot;: 0.048541019662497485}, {&quot;x&quot;: -0.05706339097770922, &quot;y&quot;: 10.46, &quot;z&quot;: -0.018541019662496192}, {&quot;x&quot;: 0.05706339097770921, &quot;y&quot;: 1.1353100191302452e-18, &quot;z&quot;: -0.018541019662496848}, {&quot;x&quot;: 0.0, &quot;y&quot;: 3.673940397442059e-18, &quot;z&quot;: -0.06}, {&quot;x&quot;: 0.03526711513754839, &quot;y&quot;: -2.9722802178512746e-18, &quot;z&quot;: 0.04854101966249684}, {&quot;x&quot;: -0.03526711513754838, &quot;y&quot;: -2.972280217851275e-18, &quot;z&quot;: 0.04854101966249685}, {&quot;x&quot;: -0.05706339097770922, &quot;y&quot;: 1.1353100191302444e-18, &quot;z&quot;: -0.018541019662496834}, {&quot;x&quot;: 0.0, &quot;y&quot;: 0.0, &quot;z&quot;: 0.0}], &quot;faces&quot;: [[0, 1, 2], [0, 3, 1], [0, 4, 3], [0, 5, 4], [0, 2, 5], [2, 1, 6, 7], [1, 3, 8, 6], [3, 4, 9, 8], [4, 5, 10, 9], [5, 2, 7, 10], [7, 6, 11], [6, 8, 11], [8, 9, 11], [9, 10, 11], [10, 7, 11]], &quot;color&quot;: &quot;#000000&quot;, &quot;opacity&quot;: 1.0}, {&quot;vertices&quot;: [{&quot;x&quot;: 0.0, &quot;y&quot;: 11.0, &quot;z&quot;: 6.735557395310443e-16}, {&quot;x&quot;: 0.07321259575364403, &quot;y&quot;: 10.46, &quot;z&quot;: -0.1644381823756675}, {&quot;x&quot;: 0.0, &quot;y&quot;: 10.46, &quot;z&quot;: -0.17999999999999935}, {&quot;x&quot;: 0.13376606858593096, &quot;y&quot;: 10.46, &quot;z&quot;: -0.12044350914459384}, {&quot;x&quot;: 0.17119017293312763, &quot;y&quot;: 10.46, &quot;z&quot;: -0.0556230589874899}, {&quot;x&quot;: 0.17901394116628921, &quot;y&quot;: 10.46, &quot;z&quot;: 0.018815123388178243}, {&quot;x&quot;: 0.15588457268119896, &quot;y&quot;: 10.46, &quot;z&quot;: 0.0900000000000006}, {&quot;x&quot;: 0.10580134541264519, &quot;y&quot;: 10.46, &quot;z&quot;: 0.14562305898749114}, {&quot;x&quot;: 0.037424104347196674, &quot;y&quot;: 10.46, &quot;z&quot;: 0.17606656813208565}, {&quot;x&quot;: -0.03742410434719663, &quot;y&quot;: 10.46, &quot;z&quot;: 0.17606656813208565}, {&quot;x&quot;: -0.10580134541264515, &quot;y&quot;: 10.46, &quot;z&quot;: 0.14562305898749117}, {&quot;x&quot;: -0.15588457268119893, &quot;y&quot;: 10.46, &quot;z&quot;: 0.09000000000000072}, {&quot;x&quot;: -0.1790139411662892, &quot;y&quot;: 10.46, &quot;z&quot;: 0.018815123388178402}, {&quot;x&quot;: -0.17119017293312766, &quot;y&quot;: 10.46, &quot;z&quot;: -0.055623058987489864}, {&quot;x&quot;: -0.13376606858593093, &quot;y&quot;: 10.46, &quot;z&quot;: -0.12044350914459388}, {&quot;x&quot;: -0.07321259575364403, &quot;y&quot;: 10.46, &quot;z&quot;: -0.16443818237566754}, {&quot;x&quot;: 0.0, &quot;y&quot;: 10.46, &quot;z&quot;: 6.404902759540658e-16}], &quot;faces&quot;: [[0, 1, 2], [0, 3, 1], [0, 4, 3], [0, 5, 4], [0, 6, 5], [0, 7, 6], [0, 8, 7], [0, 9, 8], [0, 10, 9], [0, 11, 10], [0, 12, 11], [0, 13, 12], [0, 14, 13], [0, 15, 14], [0, 2, 15], [2, 1, 16], [1, 3, 16], [3, 4, 16], [4, 5, 16], [5, 6, 16], [6, 7, 16], [7, 8, 16], [8, 9, 16], [9, 10, 16], [10, 11, 16], [11, 12, 16], [12, 13, 16], [13, 14, 16], [14, 15, 16], [15, 2, 16]], &quot;color&quot;: &quot;#000000&quot;, &quot;opacity&quot;: 1.0}, {&quot;vertices&quot;: [{&quot;x&quot;: 0.0, &quot;y&quot;: 0.0, &quot;z&quot;: 10.46}, {&quot;x&quot;: 0.05706339097770921, &quot;y&quot;: 0.018541019662496848, &quot;z&quot;: 10.46}, {&quot;x&quot;: 0.0, &quot;y&quot;: 0.06, &quot;z&quot;: 10.46}, {&quot;x&quot;: 0.03526711513754839, &quot;y&quot;: -0.04854101966249684, &quot;z&quot;: 10.46}, {&quot;x&quot;: -0.03526711513754838, &quot;y&quot;: -0.04854101966249685, &quot;z&quot;: 10.46}, {&quot;x&quot;: -0.05706339097770922, &quot;y&quot;: 0.018541019662496834, &quot;z&quot;: 10.46}, {&quot;x&quot;: 0.05706339097770921, &quot;y&quot;: 0.018541019662496848, &quot;z&quot;: 0.0}, {&quot;x&quot;: 0.0, &quot;y&quot;: 0.06, &quot;z&quot;: 0.0}, {&quot;x&quot;: 0.03526711513754839, &quot;y&quot;: -0.04854101966249684, &quot;z&quot;: 0.0}, {&quot;x&quot;: -0.03526711513754838, &quot;y&quot;: -0.04854101966249685, &quot;z&quot;: 0.0}, {&quot;x&quot;: -0.05706339097770922, &quot;y&quot;: 0.018541019662496834, &quot;z&quot;: 0.0}, {&quot;x&quot;: 0.0, &quot;y&quot;: 0.0, &quot;z&quot;: 0.0}], &quot;faces&quot;: [[0, 1, 2], [0, 3, 1], [0, 4, 3], [0, 5, 4], [0, 2, 5], [2, 1, 6, 7], [1, 3, 8, 6], [3, 4, 9, 8], [4, 5, 10, 9], [5, 2, 7, 10], [7, 6, 11], [6, 8, 11], [8, 9, 11], [9, 10, 11], [10, 7, 11]], &quot;color&quot;: &quot;#000000&quot;, &quot;opacity&quot;: 1.0}, {&quot;vertices&quot;: [{&quot;x&quot;: 0.0, &quot;y&quot;: 0.0, &quot;z&quot;: 11.0}, {&quot;x&quot;: 0.07321259575364403, &quot;y&quot;: 0.16443818237566815, &quot;z&quot;: 10.46}, {&quot;x&quot;: 0.0, &quot;y&quot;: 0.18, &quot;z&quot;: 10.46}, {&quot;x&quot;: 0.13376606858593096, &quot;y&quot;: 0.12044350914459448, &quot;z&quot;: 10.46}, {&quot;x&quot;: 0.17119017293312763, &quot;y&quot;: 0.05562305898749054, &quot;z&quot;: 10.46}, {&quot;x&quot;: 0.17901394116628921, &quot;y&quot;: -0.0188151233881776, &quot;z&quot;: 10.46}, {&quot;x&quot;: 0.15588457268119896, &quot;y&quot;: -0.08999999999999996, &quot;z&quot;: 10.46}, {&quot;x&quot;: 0.10580134541264519, &quot;y&quot;: -0.1456230589874905, &quot;z&quot;: 10.46}, {&quot;x&quot;: 0.037424104347196674, &quot;y&quot;: -0.17606656813208502, &quot;z&quot;: 10.46}, {&quot;x&quot;: -0.03742410434719663, &quot;y&quot;: -0.17606656813208502, &quot;z&quot;: 10.46}, {&quot;x&quot;: -0.10580134541264515, &quot;y&quot;: -0.14562305898749053, &quot;z&quot;: 10.46}, {&quot;x&quot;: -0.15588457268119893, &quot;y&quot;: -0.09000000000000008, &quot;z&quot;: 10.46}, {&quot;x&quot;: -0.1790139411662892, &quot;y&quot;: -0.01881512338817776, &quot;z&quot;: 10.46}, {&quot;x&quot;: -0.17119017293312766, &quot;y&quot;: 0.0556230589874905, &quot;z&quot;: 10.46}, {&quot;x&quot;: -0.13376606858593093, &quot;y&quot;: 0.12044350914459452, &quot;z&quot;: 10.46}, {&quot;x&quot;: -0.07321259575364403, &quot;y&quot;: 0.16443818237566818, &quot;z&quot;: 10.46}, {&quot;x&quot;: 0.0, &quot;y&quot;: 0.0, &quot;z&quot;: 10.46}], &quot;faces&quot;: [[0, 1, 2], [0, 3, 1], [0, 4, 3], [0, 5, 4], [0, 6, 5], [0, 7, 6], [0, 8, 7], [0, 9, 8], [0, 10, 9], [0, 11, 10], [0, 12, 11], [0, 13, 12], [0, 14, 13], [0, 15, 14], [0, 2, 15], [2, 1, 16], [1, 3, 16], [3, 4, 16], [4, 5, 16], [5, 6, 16], [6, 7, 16], [7, 8, 16], [8, 9, 16], [9, 10, 16], [10, 11, 16], [11, 12, 16], [12, 13, 16], [13, 14, 16], [14, 15, 16], [15, 2, 16]], &quot;color&quot;: &quot;#000000&quot;, &quot;opacity&quot;: 1.0}, {&quot;vertices&quot;: [{&quot;x&quot;: 0.5, &quot;y&quot;: 0.5, &quot;z&quot;: 0.5}, {&quot;x&quot;: -0.5, &quot;y&quot;: 0.5, &quot;z&quot;: 0.5}, {&quot;x&quot;: -0.5, &quot;y&quot;: -0.5, &quot;z&quot;: 0.5}, {&quot;x&quot;: 0.5, &quot;y&quot;: -0.5, &quot;z&quot;: 0.5}], &quot;faces&quot;: [[0, 1, 2, 3]], &quot;color&quot;: &quot;#00ff00&quot;, &quot;opacity&quot;: 0.3}, {&quot;vertices&quot;: [{&quot;x&quot;: 0.5, &quot;y&quot;: 0.5, &quot;z&quot;: 0.5}, {&quot;x&quot;: 0.5, &quot;y&quot;: 0.5, &quot;z&quot;: -0.5}, {&quot;x&quot;: -0.5, &quot;y&quot;: 0.5, &quot;z&quot;: -0.5}, {&quot;x&quot;: -0.5, &quot;y&quot;: 0.5, &quot;z&quot;: 0.5}], &quot;faces&quot;: [[0, 1, 2, 3]], &quot;color&quot;: &quot;#00ff00&quot;, &quot;opacity&quot;: 0.3}, {&quot;vertices&quot;: [{&quot;x&quot;: 0.5, &quot;y&quot;: 0.5, &quot;z&quot;: 0.5}, {&quot;x&quot;: 0.5, &quot;y&quot;: -0.5, &quot;z&quot;: 0.5}, {&quot;x&quot;: 0.5, &quot;y&quot;: -0.5, &quot;z&quot;: -0.5}, {&quot;x&quot;: 0.5, &quot;y&quot;: 0.5, &quot;z&quot;: -0.5}], &quot;faces&quot;: [[0, 1, 2, 3]], &quot;color&quot;: &quot;#00ff00&quot;, &quot;opacity&quot;: 0.3}, {&quot;vertices&quot;: [{&quot;x&quot;: -0.5, &quot;y&quot;: 0.5, &quot;z&quot;: -0.5}, {&quot;x&quot;: 0.5, &quot;y&quot;: 0.5, &quot;z&quot;: -0.5}, {&quot;x&quot;: 0.5, &quot;y&quot;: -0.5, &quot;z&quot;: -0.5}, {&quot;x&quot;: -0.5, &quot;y&quot;: -0.5, &quot;z&quot;: -0.5}], &quot;faces&quot;: [[0, 1, 2, 3]], &quot;color&quot;: &quot;#00ff00&quot;, &quot;opacity&quot;: 0.3}, {&quot;vertices&quot;: [{&quot;x&quot;: 0.5, &quot;y&quot;: -0.5, &quot;z&quot;: -0.5}, {&quot;x&quot;: 0.5, &quot;y&quot;: -0.5, &quot;z&quot;: 0.5}, {&quot;x&quot;: -0.5, &quot;y&quot;: -0.5, &quot;z&quot;: 0.5}, {&quot;x&quot;: -0.5, &quot;y&quot;: -0.5, &quot;z&quot;: -0.5}], &quot;faces&quot;: [[0, 1, 2, 3]], &quot;color&quot;: &quot;#00ff00&quot;, &quot;opacity&quot;: 0.3}, {&quot;vertices&quot;: [{&quot;x&quot;: -0.5, &quot;y&quot;: -0.5, &quot;z&quot;: 0.5}, {&quot;x&quot;: -0.5, &quot;y&quot;: 0.5, &quot;z&quot;: 0.5}, {&quot;x&quot;: -0.5, &quot;y&quot;: 0.5, &quot;z&quot;: -0.5}, {&quot;x&quot;: -0.5, &quot;y&quot;: -0.5, &quot;z&quot;: -0.5}], &quot;faces&quot;: [[0, 1, 2, 3]], &quot;color&quot;: &quot;#00ff00&quot;, &quot;opacity&quot;: 0.3}, {&quot;vertices&quot;: [{&quot;x&quot;: 1.5, &quot;y&quot;: 0.5, &quot;z&quot;: 0.5}, {&quot;x&quot;: 0.5, &quot;y&quot;: 0.5, &quot;z&quot;: 0.5}, {&quot;x&quot;: 0.5, &quot;y&quot;: -0.5, &quot;z&quot;: 0.5}, {&quot;x&quot;: 1.5, &quot;y&quot;: -0.5, &quot;z&quot;: 0.5}], &quot;faces&quot;: [[0, 1, 2, 3]], &quot;color&quot;: &quot;#00ff00&quot;, &quot;opacity&quot;: 0.3}, {&quot;vertices&quot;: [{&quot;x&quot;: 1.5, &quot;y&quot;: 0.5, &quot;z&quot;: 0.5}, {&quot;x&quot;: 1.5, &quot;y&quot;: 0.5, &quot;z&quot;: -0.5}, {&quot;x&quot;: 0.5, &quot;y&quot;: 0.5, &quot;z&quot;: -0.5}, {&quot;x&quot;: 0.5, &quot;y&quot;: 0.5, &quot;z&quot;: 0.5}], &quot;faces&quot;: [[0, 1, 2, 3]], &quot;color&quot;: &quot;#00ff00&quot;, &quot;opacity&quot;: 0.3}, {&quot;vertices&quot;: [{&quot;x&quot;: 1.5, &quot;y&quot;: 0.5, &quot;z&quot;: 0.5}, {&quot;x&quot;: 1.5, &quot;y&quot;: -0.5, &quot;z&quot;: 0.5}, {&quot;x&quot;: 1.5, &quot;y&quot;: -0.5, &quot;z&quot;: -0.5}, {&quot;x&quot;: 1.5, &quot;y&quot;: 0.5, &quot;z&quot;: -0.5}], &quot;faces&quot;: [[0, 1, 2, 3]], &quot;color&quot;: &quot;#00ff00&quot;, &quot;opacity&quot;: 0.3}, {&quot;vertices&quot;: [{&quot;x&quot;: 0.5, &quot;y&quot;: 0.5, &quot;z&quot;: -0.5}, {&quot;x&quot;: 1.5, &quot;y&quot;: 0.5, &quot;z&quot;: -0.5}, {&quot;x&quot;: 1.5, &quot;y&quot;: -0.5, &quot;z&quot;: -0.5}, {&quot;x&quot;: 0.5, &quot;y&quot;: -0.5, &quot;z&quot;: -0.5}], &quot;faces&quot;: [[0, 1, 2, 3]], &quot;color&quot;: &quot;#00ff00&quot;, &quot;opacity&quot;: 0.3}, {&quot;vertices&quot;: [{&quot;x&quot;: 1.5, &quot;y&quot;: -0.5, &quot;z&quot;: -0.5}, {&quot;x&quot;: 1.5, &quot;y&quot;: -0.5, &quot;z&quot;: 0.5}, {&quot;x&quot;: 0.5, &quot;y&quot;: -0.5, &quot;z&quot;: 0.5}, {&quot;x&quot;: 0.5, &quot;y&quot;: -0.5, &quot;z&quot;: -0.5}], &quot;faces&quot;: [[0, 1, 2, 3]], &quot;color&quot;: &quot;#00ff00&quot;, &quot;opacity&quot;: 0.3}, {&quot;vertices&quot;: [{&quot;x&quot;: 0.5, &quot;y&quot;: -0.5, &quot;z&quot;: 0.5}, {&quot;x&quot;: 0.5, &quot;y&quot;: 0.5, &quot;z&quot;: 0.5}, {&quot;x&quot;: 0.5, &quot;y&quot;: 0.5, &quot;z&quot;: -0.5}, {&quot;x&quot;: 0.5, &quot;y&quot;: -0.5, &quot;z&quot;: -0.5}], &quot;faces&quot;: [[0, 1, 2, 3]], &quot;color&quot;: &quot;#00ff00&quot;, &quot;opacity&quot;: 0.3}];\n",
       "    for ( var i=0 ; i < surfaces.length ; i++ ) addSurface( surfaces[i] );\n",
       "\n",
       "    function addSurface( json ) {\n",
       "\n",
       "        var useFaceColors = 'faceColors' in json ? true : false;\n",
       "\n",
       "        var geometry = new THREE.Geometry();\n",
       "        for ( var i=0 ; i < json.vertices.length ; i++ ) {\n",
       "            var v = json.vertices[i];\n",
       "            geometry.vertices.push( new THREE.Vector3( a[0]*v.x, a[1]*v.y, a[2]*v.z ) );\n",
       "        }\n",
       "        for ( var i=0 ; i < json.faces.length ; i++ ) {\n",
       "            var f = json.faces[i];\n",
       "            for ( var j=0 ; j < f.length - 2 ; j++ ) {\n",
       "                var face = new THREE.Face3( f[0], f[j+1], f[j+2] );\n",
       "                if ( useFaceColors ) face.color.set( json.faceColors[i] );\n",
       "                geometry.faces.push( face );\n",
       "            }\n",
       "        }\n",
       "        geometry.computeVertexNormals();\n",
       "\n",
       "        var side = json.singleSide ? THREE.FrontSide : THREE.DoubleSide;\n",
       "        var transparent = json.opacity < 1 ? true : false;\n",
       "        var depthWrite = 'depthWrite' in json ? json.depthWrite : !transparent;\n",
       "        var flatShading = json.useFlatShading ? json.useFlatShading : false;\n",
       "\n",
       "        var material = new THREE.MeshPhongMaterial( { side: side,\n",
       "                                     color: useFaceColors ? 'white' : json.color,\n",
       "                                     vertexColors: useFaceColors ? THREE.FaceColors : THREE.NoColors,\n",
       "                                     transparent: transparent, opacity: json.opacity,\n",
       "                                     shininess: 20, flatShading: flatShading,\n",
       "                                     depthWrite: depthWrite } );\n",
       "\n",
       "        var c = new THREE.Vector3();\n",
       "        geometry.computeBoundingBox();\n",
       "        geometry.boundingBox.getCenter( c );\n",
       "        geometry.translate( -c.x, -c.y, -c.z );\n",
       "\n",
       "        var mesh = new THREE.Mesh( geometry, material );\n",
       "        mesh.position.set( c.x, c.y, c.z );\n",
       "        if ( transparent && json.renderOrder ) mesh.renderOrder = json.renderOrder;\n",
       "        mesh.userData = json;\n",
       "        scene.add( mesh );\n",
       "\n",
       "        if ( json.showMeshGrid ) addSurfaceMeshGrid( json );\n",
       "\n",
       "    }\n",
       "\n",
       "    function addSurfaceMeshGrid( json ) {\n",
       "\n",
       "        var geometry = new THREE.Geometry();\n",
       "\n",
       "        for ( var i=0 ; i < json.faces.length ; i++ ) {\n",
       "            var f = json.faces[i];\n",
       "            for ( var j=0 ; j < f.length ; j++ ) {\n",
       "                var k = j === f.length-1 ? 0 : j+1;\n",
       "                var v1 = json.vertices[f[j]];\n",
       "                var v2 = json.vertices[f[k]];\n",
       "                // vertices in opposite directions on neighboring faces\n",
       "                var nudge = f[j] < f[k] ? .0005*zRange : -.0005*zRange;\n",
       "                geometry.vertices.push( new THREE.Vector3( a[0]*v1.x, a[1]*v1.y, a[2]*(v1.z+nudge) ) );\n",
       "                geometry.vertices.push( new THREE.Vector3( a[0]*v2.x, a[1]*v2.y, a[2]*(v2.z+nudge) ) );\n",
       "            }\n",
       "        }\n",
       "\n",
       "        var c = new THREE.Vector3();\n",
       "        geometry.computeBoundingBox();\n",
       "        geometry.boundingBox.getCenter( c );\n",
       "        geometry.translate( -c.x, -c.y, -c.z );\n",
       "\n",
       "        var gridColor = options.theme === 'dark' ? 'white' : 'black';\n",
       "        var linewidth = json.linewidth || 1;\n",
       "        var materialOptions = { color: gridColor, linewidth: linewidth };\n",
       "\n",
       "        var mesh;\n",
       "        if ( linewidth > 1 && window.createFatLineSegments ) {\n",
       "            mesh = createFatLineSegments( geometry, materialOptions );\n",
       "        } else {\n",
       "            var material = new THREE.LineBasicMaterial( materialOptions );\n",
       "            mesh = new THREE.LineSegments( geometry, material );\n",
       "        }\n",
       "\n",
       "        mesh.position.set( c.x, c.y, c.z );\n",
       "        mesh.userData = json;\n",
       "        scene.add( mesh );\n",
       "\n",
       "    }\n",
       "\n",
       "    function render() {\n",
       "\n",
       "        if ( window.updateAnimation ) animate = updateAnimation();\n",
       "        if ( animate ) requestAnimationFrame( render );\n",
       "\n",
       "        renderer.render( scene, camera );\n",
       "\n",
       "    }\n",
       "\n",
       "    render();\n",
       "    controls.update();\n",
       "    if ( !animate ) render();\n",
       "\n",
       "\n",
       "    // menu functions\n",
       "\n",
       "    function toggleMenu() {\n",
       "\n",
       "        var m = document.getElementById( 'menu-content' );\n",
       "        if ( m.style.display === 'block' ) m.style.display = 'none'\n",
       "        else m.style.display = 'block';\n",
       "\n",
       "    }\n",
       "\n",
       "\n",
       "    function saveAsPNG() {\n",
       "\n",
       "        var a = document.body.appendChild( document.createElement( 'a' ) );\n",
       "        a.href = renderer.domElement.toDataURL( 'image/png' );\n",
       "        a.download = 'screenshot';\n",
       "        a.click();\n",
       "\n",
       "    }\n",
       "\n",
       "    function saveAsHTML() {\n",
       "\n",
       "        toggleMenu(); // otherwise visible in output\n",
       "        event.stopPropagation();\n",
       "\n",
       "        var blob = new Blob( [ '<!DOCTYPE html>\\n' + document.documentElement.outerHTML ] );\n",
       "        var a = document.body.appendChild( document.createElement( 'a' ) );\n",
       "        a.href = window.URL.createObjectURL( blob );\n",
       "        a.download = suggestFilename();\n",
       "        a.click();\n",
       "\n",
       "        function suggestFilename() {\n",
       "            if ( !document.title ) {\n",
       "                return 'graphic.html';\n",
       "            } else if ( /\\.html?$/i.test( document.title ) ) {\n",
       "                return document.title; // already ends in .htm or .html\n",
       "            } else {\n",
       "                return document.title + '.html';\n",
       "            }\n",
       "        }\n",
       "\n",
       "    }\n",
       "\n",
       "    function getViewpoint() {\n",
       "\n",
       "        function roundTo( x, n ) { return +x.toFixed(n); }\n",
       "\n",
       "        var v = camera.quaternion.inverse();\n",
       "        var r = Math.sqrt( v.x*v.x + v.y*v.y + v.z*v.z );\n",
       "        var axis = [ roundTo( v.x / r, 4 ), roundTo( v.y / r, 4 ), roundTo( v.z / r, 4 ) ];\n",
       "        var angle = roundTo( 2 * Math.atan2( r, v.w ) * 180 / Math.PI, 2 );\n",
       "\n",
       "        var textArea = document.createElement( 'textarea' );\n",
       "        textArea.textContent = JSON.stringify( axis ) + ',' + angle;\n",
       "        textArea.style.csstext = 'position: absolute; top: -100%';\n",
       "        document.body.append( textArea );\n",
       "        textArea.select();\n",
       "        document.execCommand( 'copy' );\n",
       "\n",
       "        var m = document.getElementById( 'menu-message' );\n",
       "        m.innerHTML = 'Viewpoint copied to clipboard';\n",
       "        m.style.display = 'block';\n",
       "        setTimeout( function() { m.style.display = 'none'; }, 2000 );\n",
       "\n",
       "    }\n",
       "\n",
       "</script>\n",
       "\n",
       "<div id=&quot;menu-container&quot; onclick=&quot;toggleMenu()&quot;>&#x24d8;\n",
       "<div id=&quot;menu-message&quot;></div>\n",
       "<div id=&quot;menu-content&quot;>\n",
       "<div onclick=&quot;saveAsPNG()&quot;>Save as PNG</div>\n",
       "<div onclick=&quot;saveAsHTML()&quot;>Save as HTML</div>\n",
       "<div onclick=&quot;getViewpoint()&quot;>Get Viewpoint</div>\n",
       "<div>Close Menu</div>\n",
       "</div></div>\n",
       "\n",
       "\n",
       "</body>\n",
       "</html>\n",
       "\"\n",
       "        width=\"100%\"\n",
       "        height=\"400\"\n",
       "        style=\"border: 0;\">\n",
       "</iframe>\n"
      ],
      "text/plain": [
       "Graphics3d Object"
      ]
     },
     "metadata": {},
     "output_type": "display_data"
    }
   ],
   "source": [
    "Ex.plot()"
   ]
  },
  {
   "cell_type": "markdown",
   "metadata": {},
   "source": [
    "## Nekrasov genus\n",
    "We try to compute the Nekrasov genus using formula from Remark 0.4 of CKM:\n",
    "$$I_{n}(\\alpha,y)=\\sum_{|Z|=n}(-1)^{o(Z)}\\frac{\\text{ch}(\\sqrt{K^\\text{vir}|_Z}^{\\frac12})}{\\text{ch}(\\wedge^\\bullet \\sqrt{T^\\text{vir}|_Z}^\\vee)}\n",
    "\\text{ch}\\left(\\frac{\\wedge^\\bullet}{\\text{det}^{\\frac12}} \\alpha^{[n]}|_Z\\otimes y^{-1}\\right)$$\n",
    "\n",
    "### Virtual tangent space\n",
    "First we compute the equivariant K-theory class of the virtual tangent space and its square root using `Vertex4d.Tvir` and `Vertex4d.sqrtTvir(partition)`, giving us\n",
    "$$\\mathsf{V_\\pi}=Q + \\frac{\\bar{Q}}{x_1x_2x_3x_4} - Q \\bar{Q} \\frac{(1-x_1)(1-x_2)(1-x_3)(1-x_4)} {x_1x_2x_3x_4}\\in K_{(\\mathbb{C}^4)^*}^*(\\mathrm{pt})$$\\\n",
    "$$\\mathsf{v}_\\pi=\\mathsf{v}_\\pi^{(4)}=Q - \\bar{P}_{123}Q\\bar{Q}\\in K_{\\mathsf{T}}^*(\\mathrm{pt})$$\n",
    "where $P_{123}=(1-x_1)(1-x_2)(1-x_3)$."
   ]
  },
  {
   "cell_type": "code",
   "execution_count": 3,
   "metadata": {
    "scrolled": true
   },
   "outputs": [
    {
     "data": {
      "text/html": [
       "<html><script type=\"math/tex; mode=display\">\\newcommand{\\Bold}[1]{\\mathbf{#1}}-x_{2}^{2} x_{4} + 2 x_{2}^{2} - x_{2}^{2} x_{4}^{-1} + x_{2} + 2 x_{4} - 2 + 2 x_{4}^{-1} + x_{2}^{-1} - x_{2}^{-2} x_{4} + 2 x_{2}^{-2} - x_{2}^{-2} x_{4}^{-1}</script></html>"
      ],
      "text/latex": [
       "$$\\newcommand{\\Bold}[1]{\\mathbf{#1}}-x_{2}^{2} x_{4} + 2 x_{2}^{2} - x_{2}^{2} x_{4}^{-1} + x_{2} + 2 x_{4} - 2 + 2 x_{4}^{-1} + x_{2}^{-1} - x_{2}^{-2} x_{4} + 2 x_{2}^{-2} - x_{2}^{-2} x_{4}^{-1}$$"
      ],
      "text/plain": [
       "-x2^2*x4 + 2*x2^2 - x2^2*x4^-1 + x2 + 2*x4 - 2 + 2*x4^-1 + x2^-1 - x2^-2*x4 + 2*x2^-2 - x2^-2*x4^-1"
      ]
     },
     "execution_count": 3,
     "metadata": {},
     "output_type": "execute_result"
    }
   ],
   "source": [
    "load(\"vertex_4d.sage\")\n",
    "EasyEx=Partition4d([(0,0,0,0),(1,0,0,0)])\n",
    "T = Vertex4d.Tvir(EasyEx,x1,x2,x3,x4,true)\n",
    "sqrtT = Vertex4d.sqrtTvir(EasyEx)\n",
    "T(x1=x2^-1,x3=x4^-1)"
   ]
  },
  {
   "cell_type": "code",
   "execution_count": 4,
   "metadata": {},
   "outputs": [
    {
     "data": {
      "text/html": [
       "<html><script type=\"math/tex; mode=display\">\\newcommand{\\Bold}[1]{\\mathbf{#1}}x_{1} + 1</script></html>"
      ],
      "text/latex": [
       "$$\\newcommand{\\Bold}[1]{\\mathbf{#1}}x_{1} + 1$$"
      ],
      "text/plain": [
       "x1 + 1"
      ]
     },
     "execution_count": 4,
     "metadata": {},
     "output_type": "execute_result"
    }
   ],
   "source": [
    "EasyEx.character()(x2=x1^-1,x4=x3^-1)"
   ]
  },
  {
   "cell_type": "code",
   "execution_count": 5,
   "metadata": {},
   "outputs": [
    {
     "data": {
      "text/html": [
       "<html><script type=\"math/tex; mode=display\">\\newcommand{\\Bold}[1]{\\mathbf{#1}}x_{1} + 2 + x_{1}^{-1}</script></html>"
      ],
      "text/latex": [
       "$$\\newcommand{\\Bold}[1]{\\mathbf{#1}}x_{1} + 2 + x_{1}^{-1}$$"
      ],
      "text/plain": [
       "x1 + 2 + x1^-1"
      ]
     },
     "execution_count": 5,
     "metadata": {},
     "output_type": "execute_result"
    }
   ],
   "source": [
    "(EasyEx.character()*EasyEx.character(x1^-1, x2^-1, x3^-1, x4^-1))(x2=x1^-1,x4=x3^-1)"
   ]
  },
  {
   "cell_type": "code",
   "execution_count": 100,
   "metadata": {},
   "outputs": [
    {
     "data": {
      "text/html": [
       "<html><script type=\"math/tex; mode=display\">\\newcommand{\\Bold}[1]{\\mathbf{#1}}x_{1} x_{3} - 2 x_{1} - 2 x_{3} + x_{1} x_{3}^{-1} + 4 + x_{1}^{-1} x_{3} - 2 x_{3}^{-1} - 2 x_{1}^{-1} + x_{1}^{-1} x_{3}^{-1}</script></html>"
      ],
      "text/latex": [
       "$$\\newcommand{\\Bold}[1]{\\mathbf{#1}}x_{1} x_{3} - 2 x_{1} - 2 x_{3} + x_{1} x_{3}^{-1} + 4 + x_{1}^{-1} x_{3} - 2 x_{3}^{-1} - 2 x_{1}^{-1} + x_{1}^{-1} x_{3}^{-1}$$"
      ],
      "text/plain": [
       "x1*x3 - 2*x1 - 2*x3 + x1*x3^-1 + 4 + x1^-1*x3 - 2*x3^-1 - 2*x1^-1 + x1^-1*x3^-1"
      ]
     },
     "execution_count": 100,
     "metadata": {},
     "output_type": "execute_result"
    }
   ],
   "source": [
    "((1-x1)*(1-x2)*(1-x3)*(1-x4))(x2=x1^-1,x4=x3^-1)"
   ]
  },
  {
   "cell_type": "code",
   "execution_count": 6,
   "metadata": {},
   "outputs": [
    {
     "data": {
      "text/html": [
       "<html><script type=\"math/tex; mode=display\">\\newcommand{\\Bold}[1]{\\mathbf{#1}}x_{2}^{2} x_{4} - 2 x_{2}^{2} + x_{2}^{2} x_{4}^{-1} - 2 x_{4} + 4 - 2 x_{4}^{-1} + x_{2}^{-2} x_{4} - 2 x_{2}^{-2} + x_{2}^{-2} x_{4}^{-1}</script></html>"
      ],
      "text/latex": [
       "$$\\newcommand{\\Bold}[1]{\\mathbf{#1}}x_{2}^{2} x_{4} - 2 x_{2}^{2} + x_{2}^{2} x_{4}^{-1} - 2 x_{4} + 4 - 2 x_{4}^{-1} + x_{2}^{-2} x_{4} - 2 x_{2}^{-2} + x_{2}^{-2} x_{4}^{-1}$$"
      ],
      "text/plain": [
       "x2^2*x4 - 2*x2^2 + x2^2*x4^-1 - 2*x4 + 4 - 2*x4^-1 + x2^-2*x4 - 2*x2^-2 + x2^-2*x4^-1"
      ]
     },
     "execution_count": 6,
     "metadata": {},
     "output_type": "execute_result"
    }
   ],
   "source": [
    "((1-x1)*(1-x2)*(1-x3)*(1-x4))(x1=x2^-1,x3=x4^-1)*(EasyEx.character()*EasyEx.character(x1^-1, x2^-1, x3^-1, x4^-1))(x1=x2^-1,x3=x4^-1)"
   ]
  },
  {
   "cell_type": "markdown",
   "metadata": {},
   "source": [
    "`KTheory4d.NekBracket` computes the Nekrasov bracket\n",
    "$$\\text{ch}\\left(\\frac{\\wedge^\\bullet}{\\text{det}^{\\frac12}} L^\\vee\\right)=e^{c_1(L)/2}-e^{-c_1(L)/2}$$"
   ]
  },
  {
   "cell_type": "code",
   "execution_count": 27,
   "metadata": {},
   "outputs": [
    {
     "data": {
      "text/html": [
       "<html><script type=\"math/tex; mode=display\">\\newcommand{\\Bold}[1]{\\mathbf{#1}}-\\frac{8 \\, {\\left(3 \\, t_{1} + 2 \\, t_{2} + t_{3}\\right)} {\\left(3 \\, t_{1} + t_{2} + 2 \\, t_{3}\\right)} {\\left(2 \\, t_{1} + 3 \\, t_{2} + t_{3}\\right)} {\\left(2 \\, t_{1} - t_{2} + t_{3}\\right)} {\\left(t_{1} + 3 \\, t_{2} + 2 \\, t_{3}\\right)} {\\left(t_{1} + t_{2}\\right)}^{3} {\\left(t_{1} - 2 \\, t_{2} - t_{3}\\right)} {\\left(t_{1} + t_{3}\\right)}^{3} {\\left(t_{2} + t_{3}\\right)}^{3}}{{\\left(3 \\, t_{1} + 2 \\, t_{2} + 2 \\, t_{3}\\right)} {\\left(3 \\, t_{1} + t_{2} + t_{3}\\right)} {\\left(2 \\, t_{1} + 3 \\, t_{2} + 2 \\, t_{3}\\right)} {\\left(2 \\, t_{1} + 2 \\, t_{2} + t_{3}\\right)} {\\left(2 \\, t_{1} - t_{2}\\right)} {\\left(2 \\, t_{1} + t_{3}\\right)} {\\left(t_{1} + 3 \\, t_{2} + t_{3}\\right)} {\\left(t_{1} + t_{2} + 2 \\, t_{3}\\right)} {\\left(t_{1} + t_{2} + t_{3}\\right)}^{2} {\\left(t_{1} - 2 \\, t_{2}\\right)} {\\left(t_{1} - t_{3}\\right)} t_{1}^{2} {\\left(2 \\, t_{2} + t_{3}\\right)} {\\left(t_{2} - t_{3}\\right)} t_{2}^{2} t_{3}}</script></html>"
      ],
      "text/latex": [
       "$$\\newcommand{\\Bold}[1]{\\mathbf{#1}}-\\frac{8 \\, {\\left(3 \\, t_{1} + 2 \\, t_{2} + t_{3}\\right)} {\\left(3 \\, t_{1} + t_{2} + 2 \\, t_{3}\\right)} {\\left(2 \\, t_{1} + 3 \\, t_{2} + t_{3}\\right)} {\\left(2 \\, t_{1} - t_{2} + t_{3}\\right)} {\\left(t_{1} + 3 \\, t_{2} + 2 \\, t_{3}\\right)} {\\left(t_{1} + t_{2}\\right)}^{3} {\\left(t_{1} - 2 \\, t_{2} - t_{3}\\right)} {\\left(t_{1} + t_{3}\\right)}^{3} {\\left(t_{2} + t_{3}\\right)}^{3}}{{\\left(3 \\, t_{1} + 2 \\, t_{2} + 2 \\, t_{3}\\right)} {\\left(3 \\, t_{1} + t_{2} + t_{3}\\right)} {\\left(2 \\, t_{1} + 3 \\, t_{2} + 2 \\, t_{3}\\right)} {\\left(2 \\, t_{1} + 2 \\, t_{2} + t_{3}\\right)} {\\left(2 \\, t_{1} - t_{2}\\right)} {\\left(2 \\, t_{1} + t_{3}\\right)} {\\left(t_{1} + 3 \\, t_{2} + t_{3}\\right)} {\\left(t_{1} + t_{2} + 2 \\, t_{3}\\right)} {\\left(t_{1} + t_{2} + t_{3}\\right)}^{2} {\\left(t_{1} - 2 \\, t_{2}\\right)} {\\left(t_{1} - t_{3}\\right)} t_{1}^{2} {\\left(2 \\, t_{2} + t_{3}\\right)} {\\left(t_{2} - t_{3}\\right)} t_{2}^{2} t_{3}}$$"
      ],
      "text/plain": [
       "-8*(3*t1 + 2*t2 + t3)*(3*t1 + t2 + 2*t3)*(2*t1 + 3*t2 + t3)*(2*t1 - t2 + t3)*(t1 + 3*t2 + 2*t3)*(t1 + t2)^3*(t1 - 2*t2 - t3)*(t1 + t3)^3*(t2 + t3)^3/((3*t1 + 2*t2 + 2*t3)*(3*t1 + t2 + t3)*(2*t1 + 3*t2 + 2*t3)*(2*t1 + 2*t2 + t3)*(2*t1 - t2)*(2*t1 + t3)*(t1 + 3*t2 + t3)*(t1 + t2 + 2*t3)*(t1 + t2 + t3)^2*(t1 - 2*t2)*(t1 - t3)*t1^2*(2*t2 + t3)*(t2 - t3)*t2^2*t3)"
      ]
     },
     "execution_count": 27,
     "metadata": {},
     "output_type": "execute_result"
    }
   ],
   "source": [
    "pretty(Cohomology4d.top_chern(-sqrtT))"
   ]
  },
  {
   "cell_type": "markdown",
   "metadata": {},
   "source": [
    "where $u_i=x_i^{1/2}$. This indeed lives in $\\mathbb{Q}(x_1,...,x_4)/(x_1x_2x_3x_4-1)$ by Prop 1.15 in CKM. The number of terms in denominator and numerators grow exponentially to the number of terms in the input.\n",
    "### Vector bundle\n",
    "An $(\\mathbb{C}^*)^4$ equivariant vector bundle of rank $r$ is of form \n",
    "$$\\bigotimes_{i=1}^r\\mathcal{O}_X\\otimes x^{d_i}$$\n",
    "for some characters $d_i=(d_{i1},...,d_{i4})$. It is $T$-equivariant if $d_1+...+d_4=0$. Let $\\alpha$ be such a vector bundle. The K-theory class for $\\alpha^{[n]}|_Z$ is\n",
    "$$\\sum_{j=1}^r\\prod_{i=1}^3x_i^{d_{ij}}Q_Z=\\sum_{j=1}^r\\sum_{u\\in\\pi}\\prod_{i=1}^3x_i^{d_{ij}+u_i}\\in K_0^\\mathsf{T}(\\mathrm{pt})=\\mathbb{Z}[t_1^{\\pm1},...,t_4^{\\pm1}]/(t_1...t_4=1)$$\n",
    "<font color='red'> Can not set the weights as variables because they appear in the exponent and sage can only have integers as exponents\n",
    "<font color='black'>    \n",
    "Apply `KTheory4d.NekBracket` to $(\\alpha\\otimes y^{-1})^\\vee$ and we get\n",
    "$$\\text{ch}\\left(\\frac{\\wedge^\\bullet}{\\text{det}^{\\frac12}} \\alpha^{[n]}|_Z\\otimes y^{-1}\\right)=\\prod_{j=1}^r\\prod_{u\\in\\pi}y^{\\frac12}x_i^{-\\frac12\\sum_i(d_{ij}+u_i)}-y^{-\\frac12}x_i^{\\frac12\\sum_i(d_{ij}+u_i)}$$\n",
    "which we see is a Laurent polynomial in $u=x^{1/2}, w=y^{1/2}$. "
   ]
  },
  {
   "cell_type": "code",
   "execution_count": 85,
   "metadata": {
    "scrolled": true
   },
   "outputs": [
    {
     "data": {
      "text/html": [
       "<html><script type=\"math/tex; mode=display\">\\newcommand{\\Bold}[1]{\\mathbf{#1}}u_{1}^{8} u_{2}^{20} u_{3}^{28} w^{-8} - u_{1}^{8} u_{2}^{18} u_{3}^{24} w^{-6} - u_{1}^{8} u_{2}^{16} u_{3}^{24} w^{-6} - u_{1}^{6} u_{2}^{18} u_{3}^{24} w^{-6} - u_{1}^{6} u_{2}^{16} u_{3}^{24} w^{-6} + u_{1}^{8} u_{2}^{14} u_{3}^{20} w^{-4} + u_{1}^{6} u_{2}^{16} u_{3}^{20} w^{-4} + 2 u_{1}^{6} u_{2}^{14} u_{3}^{20} w^{-4} + u_{1}^{6} u_{2}^{12} u_{3}^{20} w^{-4} + u_{1}^{4} u_{2}^{14} u_{3}^{20} w^{-4} - u_{1}^{6} u_{2}^{14} u_{3}^{18} w^{-6} - u_{1}^{6} u_{2}^{12} u_{3}^{16} w^{-2} - u_{1}^{6} u_{2}^{12} u_{3}^{18} w^{-6} - u_{1}^{4} u_{2}^{14} u_{3}^{18} w^{-6} - u_{1}^{6} u_{2}^{10} u_{3}^{16} w^{-2} - u_{1}^{4} u_{2}^{12} u_{3}^{16} w^{-2} - u_{1}^{4} u_{2}^{12} u_{3}^{18} w^{-6} + u_{1}^{6} u_{2}^{12} u_{3}^{14} w^{-4} - u_{1}^{4} u_{2}^{10} u_{3}^{16} w^{-2} + 2 u_{1}^{6} u_{2}^{10} u_{3}^{14} w^{-4} + 2 u_{1}^{4} u_{2}^{12} u_{3}^{14} w^{-4} + u_{1}^{6} u_{2}^{8} u_{3}^{14} w^{-4} + 4 u_{1}^{4} u_{2}^{10} u_{3}^{14} w^{-4} + u_{1}^{2} u_{2}^{12} u_{3}^{14} w^{-4} + u_{1}^{4} u_{2}^{8} u_{3}^{12} + 2 u_{1}^{4} u_{2}^{8} u_{3}^{14} w^{-4} + 2 u_{1}^{2} u_{2}^{10} u_{3}^{14} w^{-4} - u_{1}^{6} u_{2}^{8} u_{3}^{10} w^{-2} - u_{1}^{4} u_{2}^{10} u_{3}^{10} w^{-2} + u_{1}^{2} u_{2}^{8} u_{3}^{14} w^{-4} - u_{1}^{6} u_{2}^{6} u_{3}^{10} w^{-2} - 4 u_{1}^{4} u_{2}^{8} u_{3}^{10} w^{-2} - u_{1}^{2} u_{2}^{10} u_{3}^{10} w^{-2} - 4 u_{1}^{4} u_{2}^{6} u_{3}^{10} w^{-2} - 4 u_{1}^{2} u_{2}^{8} u_{3}^{10} w^{-2} - u_{1}^{4} u_{2}^{4} u_{3}^{10} w^{-2} - 4 u_{1}^{2} u_{2}^{6} u_{3}^{10} w^{-2} - u_{2}^{8} u_{3}^{10} w^{-2} + u_{1}^{4} u_{2}^{6} u_{3}^{6} + u_{1}^{4} u_{2}^{6} u_{3}^{8} w^{-4} + u_{1}^{2} u_{2}^{8} u_{3}^{8} w^{-4} - u_{1}^{2} u_{2}^{4} u_{3}^{10} w^{-2} - u_{2}^{6} u_{3}^{10} w^{-2} + 2 u_{1}^{4} u_{2}^{4} u_{3}^{6} + 2 u_{1}^{2} u_{2}^{6} u_{3}^{6} + 2 u_{1}^{2} u_{2}^{6} u_{3}^{8} w^{-4} + u_{1}^{4} u_{2}^{2} u_{3}^{6} + 4 u_{1}^{2} u_{2}^{4} u_{3}^{6} + u_{2}^{6} u_{3}^{6} + u_{1}^{2} u_{2}^{4} u_{3}^{8} w^{-4} + u_{2}^{6} u_{3}^{8} w^{-4} - u_{1}^{4} u_{2}^{4} u_{3}^{4} w^{-2} - u_{1}^{2} u_{2}^{6} u_{3}^{4} w^{-2} + 2 u_{1}^{2} u_{2}^{2} u_{3}^{6} + 2 u_{2}^{4} u_{3}^{6} - u_{1}^{4} u_{2}^{2} u_{3}^{4} w^{-2} - 4 u_{1}^{2} u_{2}^{4} u_{3}^{4} w^{-2} - u_{2}^{6} u_{3}^{4} w^{-2} + u_{2}^{2} u_{3}^{6} - u_{1}^{2} u_{2}^{2} u_{3}^{2} w^{2} - 4 u_{1}^{2} u_{2}^{2} u_{3}^{4} w^{-2} - 4 u_{2}^{4} u_{3}^{4} w^{-2} - u_{1}^{2} u_{3}^{2} w^{2} - u_{2}^{2} u_{3}^{2} w^{2} - u_{1}^{2} u_{3}^{4} w^{-2} - 4 u_{2}^{2} u_{3}^{4} w^{-2} - u_{1}^{-2} u_{2}^{4} u_{3}^{4} w^{-2} + u_{1}^{4} + 2 u_{1}^{2} u_{2}^{2} + u_{2}^{4} - u_{3}^{2} w^{2} - u_{3}^{4} w^{-2} - u_{1}^{-2} u_{2}^{2} u_{3}^{4} w^{-2} + 4 u_{1}^{2} + 4 u_{2}^{2} + 2 u_{1}^{2} u_{2}^{-2} + 8 + 2 u_{1}^{-2} u_{2}^{2} + 4 u_{2}^{-2} + 4 u_{1}^{-2} - u_{1}^{2} u_{2}^{-2} u_{3}^{-4} w^{2} - u_{3}^{-4} w^{2} - u_{3}^{-2} w^{-2} + u_{2}^{-4} + 2 u_{1}^{-2} u_{2}^{-2} + u_{1}^{-4} - u_{1}^{2} u_{2}^{-4} u_{3}^{-4} w^{2} - 4 u_{2}^{-2} u_{3}^{-4} w^{2} - u_{1}^{-2} u_{3}^{-4} w^{2} - u_{2}^{-2} u_{3}^{-2} w^{-2} - u_{1}^{-2} u_{3}^{-2} w^{-2} - 4 u_{2}^{-4} u_{3}^{-4} w^{2} - 4 u_{1}^{-2} u_{2}^{-2} u_{3}^{-4} w^{2} - u_{1}^{-2} u_{2}^{-2} u_{3}^{-2} w^{-2} + u_{2}^{-2} u_{3}^{-6} - u_{2}^{-6} u_{3}^{-4} w^{2} - 4 u_{1}^{-2} u_{2}^{-4} u_{3}^{-4} w^{2} - u_{1}^{-4} u_{2}^{-2} u_{3}^{-4} w^{2} + 2 u_{2}^{-4} u_{3}^{-6} + 2 u_{1}^{-2} u_{2}^{-2} u_{3}^{-6} - u_{1}^{-2} u_{2}^{-6} u_{3}^{-4} w^{2} - u_{1}^{-4} u_{2}^{-4} u_{3}^{-4} w^{2} + u_{2}^{-6} u_{3}^{-8} w^{4} + u_{1}^{-2} u_{2}^{-4} u_{3}^{-8} w^{4} + u_{2}^{-6} u_{3}^{-6} + 4 u_{1}^{-2} u_{2}^{-4} u_{3}^{-6} + u_{1}^{-4} u_{2}^{-2} u_{3}^{-6} + 2 u_{1}^{-2} u_{2}^{-6} u_{3}^{-8} w^{4} + 2 u_{1}^{-2} u_{2}^{-6} u_{3}^{-6} + 2 u_{1}^{-4} u_{2}^{-4} u_{3}^{-6} - u_{2}^{-6} u_{3}^{-10} w^{2} - u_{1}^{-2} u_{2}^{-4} u_{3}^{-10} w^{2} + u_{1}^{-2} u_{2}^{-8} u_{3}^{-8} w^{4} + u_{1}^{-4} u_{2}^{-6} u_{3}^{-8} w^{4} + u_{1}^{-4} u_{2}^{-6} u_{3}^{-6} - u_{2}^{-8} u_{3}^{-10} w^{2} - 4 u_{1}^{-2} u_{2}^{-6} u_{3}^{-10} w^{2} - u_{1}^{-4} u_{2}^{-4} u_{3}^{-10} w^{2} - 4 u_{1}^{-2} u_{2}^{-8} u_{3}^{-10} w^{2} - 4 u_{1}^{-4} u_{2}^{-6} u_{3}^{-10} w^{2} - u_{1}^{-2} u_{2}^{-10} u_{3}^{-10} w^{2} - 4 u_{1}^{-4} u_{2}^{-8} u_{3}^{-10} w^{2} - u_{1}^{-6} u_{2}^{-6} u_{3}^{-10} w^{2} + u_{1}^{-2} u_{2}^{-8} u_{3}^{-14} w^{4} - u_{1}^{-4} u_{2}^{-10} u_{3}^{-10} w^{2} - u_{1}^{-6} u_{2}^{-8} u_{3}^{-10} w^{2} + 2 u_{1}^{-2} u_{2}^{-10} u_{3}^{-14} w^{4} + 2 u_{1}^{-4} u_{2}^{-8} u_{3}^{-14} w^{4} + u_{1}^{-4} u_{2}^{-8} u_{3}^{-12} + u_{1}^{-2} u_{2}^{-12} u_{3}^{-14} w^{4} + 4 u_{1}^{-4} u_{2}^{-10} u_{3}^{-14} w^{4} + u_{1}^{-6} u_{2}^{-8} u_{3}^{-14} w^{4} + 2 u_{1}^{-4} u_{2}^{-12} u_{3}^{-14} w^{4} + 2 u_{1}^{-6} u_{2}^{-10} u_{3}^{-14} w^{4} - u_{1}^{-4} u_{2}^{-10} u_{3}^{-16} w^{2} + u_{1}^{-6} u_{2}^{-12} u_{3}^{-14} w^{4} - u_{1}^{-4} u_{2}^{-12} u_{3}^{-18} w^{6} - u_{1}^{-4} u_{2}^{-12} u_{3}^{-16} w^{2} - u_{1}^{-6} u_{2}^{-10} u_{3}^{-16} w^{2} - u_{1}^{-4} u_{2}^{-14} u_{3}^{-18} w^{6} - u_{1}^{-6} u_{2}^{-12} u_{3}^{-18} w^{6} - u_{1}^{-6} u_{2}^{-12} u_{3}^{-16} w^{2} - u_{1}^{-6} u_{2}^{-14} u_{3}^{-18} w^{6} + u_{1}^{-4} u_{2}^{-14} u_{3}^{-20} w^{4} + u_{1}^{-6} u_{2}^{-12} u_{3}^{-20} w^{4} + 2 u_{1}^{-6} u_{2}^{-14} u_{3}^{-20} w^{4} + u_{1}^{-6} u_{2}^{-16} u_{3}^{-20} w^{4} + u_{1}^{-8} u_{2}^{-14} u_{3}^{-20} w^{4} - u_{1}^{-6} u_{2}^{-16} u_{3}^{-24} w^{6} - u_{1}^{-6} u_{2}^{-18} u_{3}^{-24} w^{6} - u_{1}^{-8} u_{2}^{-16} u_{3}^{-24} w^{6} - u_{1}^{-8} u_{2}^{-18} u_{3}^{-24} w^{6} + u_{1}^{-8} u_{2}^{-20} u_{3}^{-28} w^{8}</script></html>"
      ],
      "text/latex": [
       "$$\\newcommand{\\Bold}[1]{\\mathbf{#1}}u_{1}^{8} u_{2}^{20} u_{3}^{28} w^{-8} - u_{1}^{8} u_{2}^{18} u_{3}^{24} w^{-6} - u_{1}^{8} u_{2}^{16} u_{3}^{24} w^{-6} - u_{1}^{6} u_{2}^{18} u_{3}^{24} w^{-6} - u_{1}^{6} u_{2}^{16} u_{3}^{24} w^{-6} + u_{1}^{8} u_{2}^{14} u_{3}^{20} w^{-4} + u_{1}^{6} u_{2}^{16} u_{3}^{20} w^{-4} + 2 u_{1}^{6} u_{2}^{14} u_{3}^{20} w^{-4} + u_{1}^{6} u_{2}^{12} u_{3}^{20} w^{-4} + u_{1}^{4} u_{2}^{14} u_{3}^{20} w^{-4} - u_{1}^{6} u_{2}^{14} u_{3}^{18} w^{-6} - u_{1}^{6} u_{2}^{12} u_{3}^{16} w^{-2} - u_{1}^{6} u_{2}^{12} u_{3}^{18} w^{-6} - u_{1}^{4} u_{2}^{14} u_{3}^{18} w^{-6} - u_{1}^{6} u_{2}^{10} u_{3}^{16} w^{-2} - u_{1}^{4} u_{2}^{12} u_{3}^{16} w^{-2} - u_{1}^{4} u_{2}^{12} u_{3}^{18} w^{-6} + u_{1}^{6} u_{2}^{12} u_{3}^{14} w^{-4} - u_{1}^{4} u_{2}^{10} u_{3}^{16} w^{-2} + 2 u_{1}^{6} u_{2}^{10} u_{3}^{14} w^{-4} + 2 u_{1}^{4} u_{2}^{12} u_{3}^{14} w^{-4} + u_{1}^{6} u_{2}^{8} u_{3}^{14} w^{-4} + 4 u_{1}^{4} u_{2}^{10} u_{3}^{14} w^{-4} + u_{1}^{2} u_{2}^{12} u_{3}^{14} w^{-4} + u_{1}^{4} u_{2}^{8} u_{3}^{12} + 2 u_{1}^{4} u_{2}^{8} u_{3}^{14} w^{-4} + 2 u_{1}^{2} u_{2}^{10} u_{3}^{14} w^{-4} - u_{1}^{6} u_{2}^{8} u_{3}^{10} w^{-2} - u_{1}^{4} u_{2}^{10} u_{3}^{10} w^{-2} + u_{1}^{2} u_{2}^{8} u_{3}^{14} w^{-4} - u_{1}^{6} u_{2}^{6} u_{3}^{10} w^{-2} - 4 u_{1}^{4} u_{2}^{8} u_{3}^{10} w^{-2} - u_{1}^{2} u_{2}^{10} u_{3}^{10} w^{-2} - 4 u_{1}^{4} u_{2}^{6} u_{3}^{10} w^{-2} - 4 u_{1}^{2} u_{2}^{8} u_{3}^{10} w^{-2} - u_{1}^{4} u_{2}^{4} u_{3}^{10} w^{-2} - 4 u_{1}^{2} u_{2}^{6} u_{3}^{10} w^{-2} - u_{2}^{8} u_{3}^{10} w^{-2} + u_{1}^{4} u_{2}^{6} u_{3}^{6} + u_{1}^{4} u_{2}^{6} u_{3}^{8} w^{-4} + u_{1}^{2} u_{2}^{8} u_{3}^{8} w^{-4} - u_{1}^{2} u_{2}^{4} u_{3}^{10} w^{-2} - u_{2}^{6} u_{3}^{10} w^{-2} + 2 u_{1}^{4} u_{2}^{4} u_{3}^{6} + 2 u_{1}^{2} u_{2}^{6} u_{3}^{6} + 2 u_{1}^{2} u_{2}^{6} u_{3}^{8} w^{-4} + u_{1}^{4} u_{2}^{2} u_{3}^{6} + 4 u_{1}^{2} u_{2}^{4} u_{3}^{6} + u_{2}^{6} u_{3}^{6} + u_{1}^{2} u_{2}^{4} u_{3}^{8} w^{-4} + u_{2}^{6} u_{3}^{8} w^{-4} - u_{1}^{4} u_{2}^{4} u_{3}^{4} w^{-2} - u_{1}^{2} u_{2}^{6} u_{3}^{4} w^{-2} + 2 u_{1}^{2} u_{2}^{2} u_{3}^{6} + 2 u_{2}^{4} u_{3}^{6} - u_{1}^{4} u_{2}^{2} u_{3}^{4} w^{-2} - 4 u_{1}^{2} u_{2}^{4} u_{3}^{4} w^{-2} - u_{2}^{6} u_{3}^{4} w^{-2} + u_{2}^{2} u_{3}^{6} - u_{1}^{2} u_{2}^{2} u_{3}^{2} w^{2} - 4 u_{1}^{2} u_{2}^{2} u_{3}^{4} w^{-2} - 4 u_{2}^{4} u_{3}^{4} w^{-2} - u_{1}^{2} u_{3}^{2} w^{2} - u_{2}^{2} u_{3}^{2} w^{2} - u_{1}^{2} u_{3}^{4} w^{-2} - 4 u_{2}^{2} u_{3}^{4} w^{-2} - u_{1}^{-2} u_{2}^{4} u_{3}^{4} w^{-2} + u_{1}^{4} + 2 u_{1}^{2} u_{2}^{2} + u_{2}^{4} - u_{3}^{2} w^{2} - u_{3}^{4} w^{-2} - u_{1}^{-2} u_{2}^{2} u_{3}^{4} w^{-2} + 4 u_{1}^{2} + 4 u_{2}^{2} + 2 u_{1}^{2} u_{2}^{-2} + 8 + 2 u_{1}^{-2} u_{2}^{2} + 4 u_{2}^{-2} + 4 u_{1}^{-2} - u_{1}^{2} u_{2}^{-2} u_{3}^{-4} w^{2} - u_{3}^{-4} w^{2} - u_{3}^{-2} w^{-2} + u_{2}^{-4} + 2 u_{1}^{-2} u_{2}^{-2} + u_{1}^{-4} - u_{1}^{2} u_{2}^{-4} u_{3}^{-4} w^{2} - 4 u_{2}^{-2} u_{3}^{-4} w^{2} - u_{1}^{-2} u_{3}^{-4} w^{2} - u_{2}^{-2} u_{3}^{-2} w^{-2} - u_{1}^{-2} u_{3}^{-2} w^{-2} - 4 u_{2}^{-4} u_{3}^{-4} w^{2} - 4 u_{1}^{-2} u_{2}^{-2} u_{3}^{-4} w^{2} - u_{1}^{-2} u_{2}^{-2} u_{3}^{-2} w^{-2} + u_{2}^{-2} u_{3}^{-6} - u_{2}^{-6} u_{3}^{-4} w^{2} - 4 u_{1}^{-2} u_{2}^{-4} u_{3}^{-4} w^{2} - u_{1}^{-4} u_{2}^{-2} u_{3}^{-4} w^{2} + 2 u_{2}^{-4} u_{3}^{-6} + 2 u_{1}^{-2} u_{2}^{-2} u_{3}^{-6} - u_{1}^{-2} u_{2}^{-6} u_{3}^{-4} w^{2} - u_{1}^{-4} u_{2}^{-4} u_{3}^{-4} w^{2} + u_{2}^{-6} u_{3}^{-8} w^{4} + u_{1}^{-2} u_{2}^{-4} u_{3}^{-8} w^{4} + u_{2}^{-6} u_{3}^{-6} + 4 u_{1}^{-2} u_{2}^{-4} u_{3}^{-6} + u_{1}^{-4} u_{2}^{-2} u_{3}^{-6} + 2 u_{1}^{-2} u_{2}^{-6} u_{3}^{-8} w^{4} + 2 u_{1}^{-2} u_{2}^{-6} u_{3}^{-6} + 2 u_{1}^{-4} u_{2}^{-4} u_{3}^{-6} - u_{2}^{-6} u_{3}^{-10} w^{2} - u_{1}^{-2} u_{2}^{-4} u_{3}^{-10} w^{2} + u_{1}^{-2} u_{2}^{-8} u_{3}^{-8} w^{4} + u_{1}^{-4} u_{2}^{-6} u_{3}^{-8} w^{4} + u_{1}^{-4} u_{2}^{-6} u_{3}^{-6} - u_{2}^{-8} u_{3}^{-10} w^{2} - 4 u_{1}^{-2} u_{2}^{-6} u_{3}^{-10} w^{2} - u_{1}^{-4} u_{2}^{-4} u_{3}^{-10} w^{2} - 4 u_{1}^{-2} u_{2}^{-8} u_{3}^{-10} w^{2} - 4 u_{1}^{-4} u_{2}^{-6} u_{3}^{-10} w^{2} - u_{1}^{-2} u_{2}^{-10} u_{3}^{-10} w^{2} - 4 u_{1}^{-4} u_{2}^{-8} u_{3}^{-10} w^{2} - u_{1}^{-6} u_{2}^{-6} u_{3}^{-10} w^{2} + u_{1}^{-2} u_{2}^{-8} u_{3}^{-14} w^{4} - u_{1}^{-4} u_{2}^{-10} u_{3}^{-10} w^{2} - u_{1}^{-6} u_{2}^{-8} u_{3}^{-10} w^{2} + 2 u_{1}^{-2} u_{2}^{-10} u_{3}^{-14} w^{4} + 2 u_{1}^{-4} u_{2}^{-8} u_{3}^{-14} w^{4} + u_{1}^{-4} u_{2}^{-8} u_{3}^{-12} + u_{1}^{-2} u_{2}^{-12} u_{3}^{-14} w^{4} + 4 u_{1}^{-4} u_{2}^{-10} u_{3}^{-14} w^{4} + u_{1}^{-6} u_{2}^{-8} u_{3}^{-14} w^{4} + 2 u_{1}^{-4} u_{2}^{-12} u_{3}^{-14} w^{4} + 2 u_{1}^{-6} u_{2}^{-10} u_{3}^{-14} w^{4} - u_{1}^{-4} u_{2}^{-10} u_{3}^{-16} w^{2} + u_{1}^{-6} u_{2}^{-12} u_{3}^{-14} w^{4} - u_{1}^{-4} u_{2}^{-12} u_{3}^{-18} w^{6} - u_{1}^{-4} u_{2}^{-12} u_{3}^{-16} w^{2} - u_{1}^{-6} u_{2}^{-10} u_{3}^{-16} w^{2} - u_{1}^{-4} u_{2}^{-14} u_{3}^{-18} w^{6} - u_{1}^{-6} u_{2}^{-12} u_{3}^{-18} w^{6} - u_{1}^{-6} u_{2}^{-12} u_{3}^{-16} w^{2} - u_{1}^{-6} u_{2}^{-14} u_{3}^{-18} w^{6} + u_{1}^{-4} u_{2}^{-14} u_{3}^{-20} w^{4} + u_{1}^{-6} u_{2}^{-12} u_{3}^{-20} w^{4} + 2 u_{1}^{-6} u_{2}^{-14} u_{3}^{-20} w^{4} + u_{1}^{-6} u_{2}^{-16} u_{3}^{-20} w^{4} + u_{1}^{-8} u_{2}^{-14} u_{3}^{-20} w^{4} - u_{1}^{-6} u_{2}^{-16} u_{3}^{-24} w^{6} - u_{1}^{-6} u_{2}^{-18} u_{3}^{-24} w^{6} - u_{1}^{-8} u_{2}^{-16} u_{3}^{-24} w^{6} - u_{1}^{-8} u_{2}^{-18} u_{3}^{-24} w^{6} + u_{1}^{-8} u_{2}^{-20} u_{3}^{-28} w^{8}$$"
      ],
      "text/plain": [
       "u1^8*u2^20*u3^28*w^-8 - u1^8*u2^18*u3^24*w^-6 - u1^8*u2^16*u3^24*w^-6 - u1^6*u2^18*u3^24*w^-6 - u1^6*u2^16*u3^24*w^-6 + u1^8*u2^14*u3^20*w^-4 + u1^6*u2^16*u3^20*w^-4 + 2*u1^6*u2^14*u3^20*w^-4 + u1^6*u2^12*u3^20*w^-4 + u1^4*u2^14*u3^20*w^-4 - u1^6*u2^14*u3^18*w^-6 - u1^6*u2^12*u3^16*w^-2 - u1^6*u2^12*u3^18*w^-6 - u1^4*u2^14*u3^18*w^-6 - u1^6*u2^10*u3^16*w^-2 - u1^4*u2^12*u3^16*w^-2 - u1^4*u2^12*u3^18*w^-6 + u1^6*u2^12*u3^14*w^-4 - u1^4*u2^10*u3^16*w^-2 + 2*u1^6*u2^10*u3^14*w^-4 + 2*u1^4*u2^12*u3^14*w^-4 + u1^6*u2^8*u3^14*w^-4 + 4*u1^4*u2^10*u3^14*w^-4 + u1^2*u2^12*u3^14*w^-4 + u1^4*u2^8*u3^12 + 2*u1^4*u2^8*u3^14*w^-4 + 2*u1^2*u2^10*u3^14*w^-4 - u1^6*u2^8*u3^10*w^-2 - u1^4*u2^10*u3^10*w^-2 + u1^2*u2^8*u3^14*w^-4 - u1^6*u2^6*u3^10*w^-2 - 4*u1^4*u2^8*u3^10*w^-2 - u1^2*u2^10*u3^10*w^-2 - 4*u1^4*u2^6*u3^10*w^-2 - 4*u1^2*u2^8*u3^10*w^-2 - u1^4*u2^4*u3^10*w^-2 - 4*u1^2*u2^6*u3^10*w^-2 - u2^8*u3^10*w^-2 + u1^4*u2^6*u3^6 + u1^4*u2^6*u3^8*w^-4 + u1^2*u2^8*u3^8*w^-4 - u1^2*u2^4*u3^10*w^-2 - u2^6*u3^10*w^-2 + 2*u1^4*u2^4*u3^6 + 2*u1^2*u2^6*u3^6 + 2*u1^2*u2^6*u3^8*w^-4 + u1^4*u2^2*u3^6 + 4*u1^2*u2^4*u3^6 + u2^6*u3^6 + u1^2*u2^4*u3^8*w^-4 + u2^6*u3^8*w^-4 - u1^4*u2^4*u3^4*w^-2 - u1^2*u2^6*u3^4*w^-2 + 2*u1^2*u2^2*u3^6 + 2*u2^4*u3^6 - u1^4*u2^2*u3^4*w^-2 - 4*u1^2*u2^4*u3^4*w^-2 - u2^6*u3^4*w^-2 + u2^2*u3^6 - u1^2*u2^2*u3^2*w^2 - 4*u1^2*u2^2*u3^4*w^-2 - 4*u2^4*u3^4*w^-2 - u1^2*u3^2*w^2 - u2^2*u3^2*w^2 - u1^2*u3^4*w^-2 - 4*u2^2*u3^4*w^-2 - u1^-2*u2^4*u3^4*w^-2 + u1^4 + 2*u1^2*u2^2 + u2^4 - u3^2*w^2 - u3^4*w^-2 - u1^-2*u2^2*u3^4*w^-2 + 4*u1^2 + 4*u2^2 + 2*u1^2*u2^-2 + 8 + 2*u1^-2*u2^2 + 4*u2^-2 + 4*u1^-2 - u1^2*u2^-2*u3^-4*w^2 - u3^-4*w^2 - u3^-2*w^-2 + u2^-4 + 2*u1^-2*u2^-2 + u1^-4 - u1^2*u2^-4*u3^-4*w^2 - 4*u2^-2*u3^-4*w^2 - u1^-2*u3^-4*w^2 - u2^-2*u3^-2*w^-2 - u1^-2*u3^-2*w^-2 - 4*u2^-4*u3^-4*w^2 - 4*u1^-2*u2^-2*u3^-4*w^2 - u1^-2*u2^-2*u3^-2*w^-2 + u2^-2*u3^-6 - u2^-6*u3^-4*w^2 - 4*u1^-2*u2^-4*u3^-4*w^2 - u1^-4*u2^-2*u3^-4*w^2 + 2*u2^-4*u3^-6 + 2*u1^-2*u2^-2*u3^-6 - u1^-2*u2^-6*u3^-4*w^2 - u1^-4*u2^-4*u3^-4*w^2 + u2^-6*u3^-8*w^4 + u1^-2*u2^-4*u3^-8*w^4 + u2^-6*u3^-6 + 4*u1^-2*u2^-4*u3^-6 + u1^-4*u2^-2*u3^-6 + 2*u1^-2*u2^-6*u3^-8*w^4 + 2*u1^-2*u2^-6*u3^-6 + 2*u1^-4*u2^-4*u3^-6 - u2^-6*u3^-10*w^2 - u1^-2*u2^-4*u3^-10*w^2 + u1^-2*u2^-8*u3^-8*w^4 + u1^-4*u2^-6*u3^-8*w^4 + u1^-4*u2^-6*u3^-6 - u2^-8*u3^-10*w^2 - 4*u1^-2*u2^-6*u3^-10*w^2 - u1^-4*u2^-4*u3^-10*w^2 - 4*u1^-2*u2^-8*u3^-10*w^2 - 4*u1^-4*u2^-6*u3^-10*w^2 - u1^-2*u2^-10*u3^-10*w^2 - 4*u1^-4*u2^-8*u3^-10*w^2 - u1^-6*u2^-6*u3^-10*w^2 + u1^-2*u2^-8*u3^-14*w^4 - u1^-4*u2^-10*u3^-10*w^2 - u1^-6*u2^-8*u3^-10*w^2 + 2*u1^-2*u2^-10*u3^-14*w^4 + 2*u1^-4*u2^-8*u3^-14*w^4 + u1^-4*u2^-8*u3^-12 + u1^-2*u2^-12*u3^-14*w^4 + 4*u1^-4*u2^-10*u3^-14*w^4 + u1^-6*u2^-8*u3^-14*w^4 + 2*u1^-4*u2^-12*u3^-14*w^4 + 2*u1^-6*u2^-10*u3^-14*w^4 - u1^-4*u2^-10*u3^-16*w^2 + u1^-6*u2^-12*u3^-14*w^4 - u1^-4*u2^-12*u3^-18*w^6 - u1^-4*u2^-12*u3^-16*w^2 - u1^-6*u2^-10*u3^-16*w^2 - u1^-4*u2^-14*u3^-18*w^6 - u1^-6*u2^-12*u3^-18*w^6 - u1^-6*u2^-12*u3^-16*w^2 - u1^-6*u2^-14*u3^-18*w^6 + u1^-4*u2^-14*u3^-20*w^4 + u1^-6*u2^-12*u3^-20*w^4 + 2*u1^-6*u2^-14*u3^-20*w^4 + u1^-6*u2^-16*u3^-20*w^4 + u1^-8*u2^-14*u3^-20*w^4 - u1^-6*u2^-16*u3^-24*w^6 - u1^-6*u2^-18*u3^-24*w^6 - u1^-8*u2^-16*u3^-24*w^6 - u1^-8*u2^-18*u3^-24*w^6 + u1^-8*u2^-20*u3^-28*w^8"
      ]
     },
     "execution_count": 85,
     "metadata": {},
     "output_type": "execute_result"
    }
   ],
   "source": [
    "d11,d12,d13,d21,d22,d23= 0,1,2,1,3,5\n",
    "Weight = (d11,d12,d13,d21,d22,d23)\n",
    "\n",
    "d11,d12,d13,d21,d22,d23= 0,0,0,0,0,0\n",
    "EasyWeightRank2 = (d11,d12,d13,d21,d22,d23)\n",
    "\n",
    "Alpha=VectorBundle4d.character(EasyEx, Weight)\n",
    "\n",
    "EasyWeight = (0,0,0)\n",
    "EasyAlpha=VectorBundle4d.character(EasyEx, EasyWeight)\n",
    "\n",
    "WeightRank1 = (2,-1,-3)\n",
    "\n",
    "Rational_to_Laurent(KTheory4d.NekBracket(KTheory4d.dual(Alpha*Default4d.y^(-1))), sqrt=True)"
   ]
  },
  {
   "cell_type": "markdown",
   "metadata": {},
   "source": [
    "### Canonical signs\n",
    "`partition.sign(i)` returns the sign from Monavari. It is defined to be $(-1)^{\\sigma_i(\\pi)}$ where\n",
    "$$\\sigma_i(\\pi)=|\\pi|+\\#\\{(a_1,...,a_4): a_j=a_k=a_l<a_i\\}$$\n",
    "such that $\\{i,j,k,l\\}=\\{1,2,3,4\\}$. It is cannonical in the sense that the resulting euler class $(-1)^{\\sigma_i(\\pi)}e(-\\mathsf{v}_\\pi^{(i)})$ is independent of $i$. Here we use default $i=4$ because of the way we defined $\\mathsf{v_\\pi}$."
   ]
  },
  {
   "cell_type": "code",
   "execution_count": 9,
   "metadata": {},
   "outputs": [
    {
     "data": {
      "text/html": [
       "<html><script type=\"math/tex; mode=display\">\\newcommand{\\Bold}[1]{\\mathbf{#1}}1</script></html>"
      ],
      "text/latex": [
       "$$\\newcommand{\\Bold}[1]{\\mathbf{#1}}1$$"
      ],
      "text/plain": [
       "1"
      ]
     },
     "execution_count": 9,
     "metadata": {},
     "output_type": "execute_result"
    }
   ],
   "source": [
    "Ex.sign()"
   ]
  },
  {
   "cell_type": "markdown",
   "metadata": {},
   "source": [
    "Combining all of the above, we obtain the Nekrasov genus of $\\alpha$:"
   ]
  },
  {
   "cell_type": "code",
   "execution_count": 10,
   "metadata": {
    "scrolled": true
   },
   "outputs": [
    {
     "data": {
      "text/html": [
       "<html><script type=\"math/tex; mode=display\">\\newcommand{\\Bold}[1]{\\mathbf{#1}}-u_{1} u_{2}^{2} u_{3}^{3} w^{-1} + u_{1}^{-1} u_{2}^{-2} u_{3}^{-3} w</script></html>"
      ],
      "text/latex": [
       "$$\\newcommand{\\Bold}[1]{\\mathbf{#1}}-u_{1} u_{2}^{2} u_{3}^{3} w^{-1} + u_{1}^{-1} u_{2}^{-2} u_{3}^{-3} w$$"
      ],
      "text/plain": [
       "-u1*u2^2*u3^3*w^-1 + u1^-1*u2^-2*u3^-3*w"
      ]
     },
     "execution_count": 10,
     "metadata": {},
     "output_type": "execute_result"
    }
   ],
   "source": [
    "EasyNek = sum( SP.sign()*\\\n",
    "    KTheory4d.NekBracket(KTheory4d.dual(VectorBundle4d.character(SP, EasyWeight)*Default4d.y^(-1)))\\\n",
    "    *KTheory4d.NekBracket(-Vertex4d.sqrtTvir(SP)) for SP in list(pP4ds.with_num_boxes(1)))\n",
    "pretty(EasyNek)\n",
    "\n",
    "Rational_to_Laurent(KTheory4d.NekBracket(KTheory4d.dual(VectorBundle4d.character(EasyEx, (1,2,3))*Default4d.y^(-1))),true)"
   ]
  },
  {
   "cell_type": "markdown",
   "metadata": {},
   "source": [
    "This is when $\\alpha$ is the trivial line bundle with no additional weight. When $n=3$, the string contains $1.61$ million characters."
   ]
  },
  {
   "cell_type": "code",
   "execution_count": 11,
   "metadata": {
    "scrolled": true
   },
   "outputs": [
    {
     "data": {
      "text/html": [
       "<html><script type=\"math/tex; mode=display\">\\newcommand{\\Bold}[1]{\\mathbf{#1}}\\frac{-u_{1}^{6} u_{2}^{8} u_{3}^{10} + u_{1}^{6} u_{2}^{6} u_{3}^{8} + u_{1}^{4} u_{2}^{8} u_{3}^{8} + u_{1}^{4} u_{2}^{6} u_{3}^{10} - u_{1}^{4} u_{2}^{6} u_{3}^{6} - u_{1}^{4} u_{2}^{4} u_{3}^{8} - u_{1}^{2} u_{2}^{6} u_{3}^{8} + u_{1}^{4} u_{2}^{4} u_{3}^{4} w^{2} + u_{1}^{2} u_{2}^{4} u_{3}^{6} - u_{1}^{4} u_{2}^{2} u_{3}^{2} w^{2} - u_{1}^{2} u_{2}^{4} u_{3}^{2} w^{2} - u_{1}^{2} u_{2}^{2} u_{3}^{4} w^{2} + u_{1}^{2} u_{2}^{2} w^{2} + u_{1}^{2} u_{3}^{2} w^{2} + u_{2}^{2} u_{3}^{2} w^{2} - w^{2}}{u_{1}^{5} u_{2}^{6} u_{3}^{7} w - u_{1}^{5} u_{2}^{6} u_{3}^{5} w - u_{1}^{5} u_{2}^{4} u_{3}^{7} w - u_{1}^{3} u_{2}^{6} u_{3}^{7} w + u_{1}^{5} u_{2}^{4} u_{3}^{5} w + u_{1}^{3} u_{2}^{6} u_{3}^{5} w + u_{1}^{3} u_{2}^{4} u_{3}^{7} w - 2 u_{1}^{3} u_{2}^{4} u_{3}^{5} w + u_{1}^{3} u_{2}^{4} u_{3}^{3} w + u_{1}^{3} u_{2}^{2} u_{3}^{5} w + u_{1} u_{2}^{4} u_{3}^{5} w - u_{1}^{3} u_{2}^{2} u_{3}^{3} w - u_{1} u_{2}^{4} u_{3}^{3} w - u_{1} u_{2}^{2} u_{3}^{5} w + u_{1} u_{2}^{2} u_{3}^{3} w}</script></html>"
      ],
      "text/latex": [
       "$$\\newcommand{\\Bold}[1]{\\mathbf{#1}}\\frac{-u_{1}^{6} u_{2}^{8} u_{3}^{10} + u_{1}^{6} u_{2}^{6} u_{3}^{8} + u_{1}^{4} u_{2}^{8} u_{3}^{8} + u_{1}^{4} u_{2}^{6} u_{3}^{10} - u_{1}^{4} u_{2}^{6} u_{3}^{6} - u_{1}^{4} u_{2}^{4} u_{3}^{8} - u_{1}^{2} u_{2}^{6} u_{3}^{8} + u_{1}^{4} u_{2}^{4} u_{3}^{4} w^{2} + u_{1}^{2} u_{2}^{4} u_{3}^{6} - u_{1}^{4} u_{2}^{2} u_{3}^{2} w^{2} - u_{1}^{2} u_{2}^{4} u_{3}^{2} w^{2} - u_{1}^{2} u_{2}^{2} u_{3}^{4} w^{2} + u_{1}^{2} u_{2}^{2} w^{2} + u_{1}^{2} u_{3}^{2} w^{2} + u_{2}^{2} u_{3}^{2} w^{2} - w^{2}}{u_{1}^{5} u_{2}^{6} u_{3}^{7} w - u_{1}^{5} u_{2}^{6} u_{3}^{5} w - u_{1}^{5} u_{2}^{4} u_{3}^{7} w - u_{1}^{3} u_{2}^{6} u_{3}^{7} w + u_{1}^{5} u_{2}^{4} u_{3}^{5} w + u_{1}^{3} u_{2}^{6} u_{3}^{5} w + u_{1}^{3} u_{2}^{4} u_{3}^{7} w - 2 u_{1}^{3} u_{2}^{4} u_{3}^{5} w + u_{1}^{3} u_{2}^{4} u_{3}^{3} w + u_{1}^{3} u_{2}^{2} u_{3}^{5} w + u_{1} u_{2}^{4} u_{3}^{5} w - u_{1}^{3} u_{2}^{2} u_{3}^{3} w - u_{1} u_{2}^{4} u_{3}^{3} w - u_{1} u_{2}^{2} u_{3}^{5} w + u_{1} u_{2}^{2} u_{3}^{3} w}$$"
      ],
      "text/plain": [
       "(-u1^6*u2^8*u3^10 + u1^6*u2^6*u3^8 + u1^4*u2^8*u3^8 + u1^4*u2^6*u3^10 - u1^4*u2^6*u3^6 - u1^4*u2^4*u3^8 - u1^2*u2^6*u3^8 + u1^4*u2^4*u3^4*w^2 + u1^2*u2^4*u3^6 - u1^4*u2^2*u3^2*w^2 - u1^2*u2^4*u3^2*w^2 - u1^2*u2^2*u3^4*w^2 + u1^2*u2^2*w^2 + u1^2*u3^2*w^2 + u2^2*u3^2*w^2 - w^2)/(u1^5*u2^6*u3^7*w - u1^5*u2^6*u3^5*w - u1^5*u2^4*u3^7*w - u1^3*u2^6*u3^7*w + u1^5*u2^4*u3^5*w + u1^3*u2^6*u3^5*w + u1^3*u2^4*u3^7*w - 2*u1^3*u2^4*u3^5*w + u1^3*u2^4*u3^3*w + u1^3*u2^2*u3^5*w + u1*u2^4*u3^5*w - u1^3*u2^2*u3^3*w - u1*u2^4*u3^3*w - u1*u2^2*u3^5*w + u1*u2^2*u3^3*w)"
      ]
     },
     "execution_count": 11,
     "metadata": {},
     "output_type": "execute_result"
    }
   ],
   "source": [
    "NekEx= Vertex4d.Nek((1,2,3),1)\n",
    "NekEx"
   ]
  },
  {
   "cell_type": "markdown",
   "metadata": {},
   "source": [
    "## Cohomological limit\n",
    "We take limit of\n",
    "$$(1-y^{-1})^{n-rn} I_n(\\alpha,y)$$"
   ]
  },
  {
   "cell_type": "code",
   "execution_count": 12,
   "metadata": {
    "scrolled": true
   },
   "outputs": [
    {
     "data": {
      "text/html": [
       "<html><script type=\"math/tex; mode=display\">\\newcommand{\\Bold}[1]{\\mathbf{#1}}-\\frac{{\\left(u_{1} u_{2}^{2} u_{3}^{3} + w\\right)} {\\left(u_{1} u_{2}^{2} u_{3}^{3} - w\\right)} {\\left(u_{1} u_{2} + 1\\right)} {\\left(u_{1} u_{2} - 1\\right)} {\\left(u_{1} u_{3} + 1\\right)} {\\left(u_{1} u_{3} - 1\\right)} {\\left(u_{2} u_{3} + 1\\right)} {\\left(u_{2} u_{3} - 1\\right)}}{{\\left(u_{1} u_{2} u_{3} + 1\\right)} {\\left(u_{1} u_{2} u_{3} - 1\\right)} {\\left(u_{1} + 1\\right)} {\\left(u_{1} - 1\\right)} u_{1} {\\left(u_{2} + 1\\right)} {\\left(u_{2} - 1\\right)} u_{2}^{2} {\\left(u_{3} + 1\\right)} {\\left(u_{3} - 1\\right)} u_{3}^{3} w}</script></html>"
      ],
      "text/latex": [
       "$$\\newcommand{\\Bold}[1]{\\mathbf{#1}}-\\frac{{\\left(u_{1} u_{2}^{2} u_{3}^{3} + w\\right)} {\\left(u_{1} u_{2}^{2} u_{3}^{3} - w\\right)} {\\left(u_{1} u_{2} + 1\\right)} {\\left(u_{1} u_{2} - 1\\right)} {\\left(u_{1} u_{3} + 1\\right)} {\\left(u_{1} u_{3} - 1\\right)} {\\left(u_{2} u_{3} + 1\\right)} {\\left(u_{2} u_{3} - 1\\right)}}{{\\left(u_{1} u_{2} u_{3} + 1\\right)} {\\left(u_{1} u_{2} u_{3} - 1\\right)} {\\left(u_{1} + 1\\right)} {\\left(u_{1} - 1\\right)} u_{1} {\\left(u_{2} + 1\\right)} {\\left(u_{2} - 1\\right)} u_{2}^{2} {\\left(u_{3} + 1\\right)} {\\left(u_{3} - 1\\right)} u_{3}^{3} w}$$"
      ],
      "text/plain": [
       "-(u1*u2^2*u3^3 + w)*(u1*u2^2*u3^3 - w)*(u1*u2 + 1)*(u1*u2 - 1)*(u1*u3 + 1)*(u1*u3 - 1)*(u2*u3 + 1)*(u2*u3 - 1)/((u1*u2*u3 + 1)*(u1*u2*u3 - 1)*(u1 + 1)*(u1 - 1)*u1*(u2 + 1)*(u2 - 1)*u2^2*(u3 + 1)*(u3 - 1)*u3^3*w)"
      ]
     },
     "execution_count": 12,
     "metadata": {},
     "output_type": "execute_result"
    }
   ],
   "source": [
    "def NekLimit(weight,n):\n",
    "    r=len(weight)/3\n",
    "    return Vertex4d.Nek(weight,n)*((1-Default4d.w^(-2))^(n-r*n))\n",
    "\n",
    "limit=NekLimit((1,2,3),1)\n",
    "pretty(limit)"
   ]
  },
  {
   "cell_type": "markdown",
   "metadata": {},
   "source": [
    "To do so, we convert it into cohomology classes, mod out $H^{>0}_{\\mathsf{T}}(\\text{pt})$, then take $m\\rightarrow0$ and get\n",
    "$$\\lim_{y\\rightarrow 1}(1-y^{-1})^{n-rn} I_n(\\alpha,y)$$\n",
    "<font color='red'>need better algorithm for rank $>1$"
   ]
  },
  {
   "cell_type": "code",
   "execution_count": 13,
   "metadata": {},
   "outputs": [
    {
     "data": {
      "text/html": [
       "<html><script type=\"math/tex; mode=display\">\\newcommand{\\Bold}[1]{\\mathbf{#1}}-\\frac{{\\left(t_{1} + 2 \\, t_{2} + 3 \\, t_{3}\\right)} {\\left(t_{1} + t_{2}\\right)} {\\left(t_{1} + t_{3}\\right)} {\\left(t_{2} + t_{3}\\right)}}{{\\left(t_{1} + t_{2} + t_{3}\\right)} t_{1} t_{2} t_{3}}</script></html>"
      ],
      "text/latex": [
       "$$\\newcommand{\\Bold}[1]{\\mathbf{#1}}-\\frac{{\\left(t_{1} + 2 \\, t_{2} + 3 \\, t_{3}\\right)} {\\left(t_{1} + t_{2}\\right)} {\\left(t_{1} + t_{3}\\right)} {\\left(t_{2} + t_{3}\\right)}}{{\\left(t_{1} + t_{2} + t_{3}\\right)} t_{1} t_{2} t_{3}}$$"
      ],
      "text/plain": [
       "-(t1 + 2*t2 + 3*t3)*(t1 + t2)*(t1 + t3)*(t2 + t3)/((t1 + t2 + t3)*t1*t2*t3)"
      ]
     },
     "execution_count": 13,
     "metadata": {},
     "output_type": "execute_result"
    }
   ],
   "source": [
    "u1,u2,u3,w=Default4d.u1,Default4d.u2,Default4d.u3,Default4d.w\n",
    "t1,t2,t3,m=Default4d.t1,Default4d.t2,Default4d.t3,Default4d.m\n",
    "\n",
    "def modCoho(numer, denom):\n",
    "    denom_deg = sum(list(denom.dict().items())[0][0][i] for i in range (4))\n",
    "    new_numer = {exp: coeff for exp, coeff in numer.dict().items() if sum(exp[i] for i in range(4)) -denom_deg==0}\n",
    "    return numer.parent()(new_numer)/denom\n",
    "\n",
    "def sqrtKT_to_Coho(f,prec):\n",
    "    numer = Cohomology4d.from_character_to_coho(Default4d.sqrtKT_ring(f.numerator()),prec)\n",
    "    denom = Cohomology4d.from_character_to_coho(Default4d.sqrtKT_ring(f.denominator()),prec)\n",
    "    if denom==0:\n",
    "        raise ValueError(\"not enough precision\")\n",
    "    return modCoho(numer, denom)\n",
    "\n",
    "pretty(sqrtKT_to_Coho(limit,4))"
   ]
  },
  {
   "cell_type": "markdown",
   "metadata": {},
   "source": [
    "## Segre number\n",
    "`Cohomology4d.top_chern(.)` gives the top chern class $\\sqrt{e}(-T^{\\text{vir}}|_Z)$ and `Cohomology4d.top_chern(k,.)` computes the $k$-th chern class, giving $c_n(\\alpha)\\in H_{\\mathsf{T}}^*(\\mathrm{pt})_{\\mathrm{loc}}$. We get\n",
    "$$\\int_{[\\text{Hilb}^n(X)]^{\\text{vir}}}c_n(\\alpha^{[n]})=\\sum_{|\\pi|=n}(-1)^{\\sigma(\\pi)}\\sqrt{e}(-T^{\\text{vir}}|_Z)\\cdot c_n(\\alpha^{[n]})$$"
   ]
  },
  {
   "cell_type": "code",
   "execution_count": 14,
   "metadata": {},
   "outputs": [
    {
     "data": {
      "text/html": [
       "<html><script type=\"math/tex; mode=display\">\\newcommand{\\Bold}[1]{\\mathbf{#1}}0</script></html>"
      ],
      "text/latex": [
       "$$\\newcommand{\\Bold}[1]{\\mathbf{#1}}0$$"
      ],
      "text/plain": [
       "0"
      ]
     },
     "execution_count": 14,
     "metadata": {},
     "output_type": "execute_result"
    }
   ],
   "source": [
    "def Chern(weight,n):\n",
    "    return sum( SP.sign()*\\\n",
    "                Cohomology4d.chern_class(n,VectorBundle4d.character(SP, weight))*\\\n",
    "                Cohomology4d.top_chern(-Vertex4d.sqrtTvir(SP)) for SP in list(pP4ds.with_num_boxes(n)))\n",
    "\n",
    "Chern(EasyWeight,1)\n"
   ]
  },
  {
   "cell_type": "markdown",
   "metadata": {},
   "source": [
    "which agrees with $(-1)^n$ times the class we obtained from Nekrasov genus.\n",
    "\n",
    "Similarly we can compute the Segre number\n",
    "$$\\int_{[\\text{Hilb}^n(X)]^{\\text{vir}}}s_n(\\alpha^{[n]})$$"
   ]
  },
  {
   "cell_type": "code",
   "execution_count": 86,
   "metadata": {},
   "outputs": [
    {
     "data": {
      "text/html": [
       "<html><script type=\"math/tex; mode=display\">\\newcommand{\\Bold}[1]{\\mathbf{#1}}-\\frac{{\\left(5 \\, t_{1}^{7} t_{2}^{2} + 64 \\, t_{1}^{6} t_{2}^{3} + 311 \\, t_{1}^{5} t_{2}^{4} + 698 \\, t_{1}^{4} t_{2}^{5} + 694 \\, t_{1}^{3} t_{2}^{6} + 248 \\, t_{1}^{2} t_{2}^{7} + 10 \\, t_{1}^{7} t_{2} t_{3} + 87 \\, t_{1}^{6} t_{2}^{2} t_{3} + 408 \\, t_{1}^{5} t_{2}^{3} t_{3} + 1013 \\, t_{1}^{4} t_{2}^{4} t_{3} + 1596 \\, t_{1}^{3} t_{2}^{5} t_{3} + 1410 \\, t_{1}^{2} t_{2}^{6} t_{3} + 496 \\, t_{1} t_{2}^{7} t_{3} + 5 \\, t_{1}^{7} t_{3}^{2} + 126 \\, t_{1}^{6} t_{2} t_{3}^{2} + 285 \\, t_{1}^{5} t_{2}^{2} t_{3}^{2} - 940 \\, t_{1}^{4} t_{2}^{3} t_{3}^{2} - 1234 \\, t_{1}^{3} t_{2}^{4} t_{3}^{2} + 2124 \\, t_{1}^{2} t_{2}^{5} t_{3}^{2} + 2502 \\, t_{1} t_{2}^{6} t_{3}^{2} + 248 \\, t_{2}^{7} t_{3}^{2} + 103 \\, t_{1}^{6} t_{3}^{3} + 690 \\, t_{1}^{5} t_{2} t_{3}^{3} - 1237 \\, t_{1}^{4} t_{2}^{2} t_{3}^{3} - 5352 \\, t_{1}^{3} t_{2}^{3} t_{3}^{3} - 142 \\, t_{1}^{2} t_{2}^{4} t_{3}^{3} + 5172 \\, t_{1} t_{2}^{5} t_{3}^{3} + 1786 \\, t_{2}^{6} t_{3}^{3} + 782 \\, t_{1}^{5} t_{3}^{4} + 1748 \\, t_{1}^{4} t_{2} t_{3}^{4} - 1927 \\, t_{1}^{3} t_{2}^{2} t_{3}^{4} + 56 \\, t_{1}^{2} t_{2}^{3} t_{3}^{4} + 7175 \\, t_{1} t_{2}^{4} t_{3}^{4} + 5066 \\, t_{2}^{5} t_{3}^{4} + 2570 \\, t_{1}^{4} t_{3}^{5} + 4470 \\, t_{1}^{3} t_{2} t_{3}^{5} + 5751 \\, t_{1}^{2} t_{2}^{2} t_{3}^{5} + 8952 \\, t_{1} t_{2}^{3} t_{3}^{5} + 7061 \\, t_{2}^{4} t_{3}^{5} + 3181 \\, t_{1}^{3} t_{3}^{6} + 5886 \\, t_{1}^{2} t_{2} t_{3}^{6} + 7533 \\, t_{1} t_{2}^{2} t_{3}^{6} + 4828 \\, t_{2}^{3} t_{3}^{6} + 1295 \\, t_{1}^{2} t_{3}^{7} + 2590 \\, t_{1} t_{2} t_{3}^{7} + 1295 \\, t_{2}^{2} t_{3}^{7}\\right)} {\\left(t_{1} + t_{2}\\right)} {\\left(t_{1} + t_{3}\\right)} {\\left(t_{2} + t_{3}\\right)}}{3 \\, {\\left(t_{1} + t_{2} + t_{3}\\right)}^{3} t_{1}^{3} t_{2}^{3} t_{3}^{3}}</script></html>"
      ],
      "text/latex": [
       "$$\\newcommand{\\Bold}[1]{\\mathbf{#1}}-\\frac{{\\left(5 \\, t_{1}^{7} t_{2}^{2} + 64 \\, t_{1}^{6} t_{2}^{3} + 311 \\, t_{1}^{5} t_{2}^{4} + 698 \\, t_{1}^{4} t_{2}^{5} + 694 \\, t_{1}^{3} t_{2}^{6} + 248 \\, t_{1}^{2} t_{2}^{7} + 10 \\, t_{1}^{7} t_{2} t_{3} + 87 \\, t_{1}^{6} t_{2}^{2} t_{3} + 408 \\, t_{1}^{5} t_{2}^{3} t_{3} + 1013 \\, t_{1}^{4} t_{2}^{4} t_{3} + 1596 \\, t_{1}^{3} t_{2}^{5} t_{3} + 1410 \\, t_{1}^{2} t_{2}^{6} t_{3} + 496 \\, t_{1} t_{2}^{7} t_{3} + 5 \\, t_{1}^{7} t_{3}^{2} + 126 \\, t_{1}^{6} t_{2} t_{3}^{2} + 285 \\, t_{1}^{5} t_{2}^{2} t_{3}^{2} - 940 \\, t_{1}^{4} t_{2}^{3} t_{3}^{2} - 1234 \\, t_{1}^{3} t_{2}^{4} t_{3}^{2} + 2124 \\, t_{1}^{2} t_{2}^{5} t_{3}^{2} + 2502 \\, t_{1} t_{2}^{6} t_{3}^{2} + 248 \\, t_{2}^{7} t_{3}^{2} + 103 \\, t_{1}^{6} t_{3}^{3} + 690 \\, t_{1}^{5} t_{2} t_{3}^{3} - 1237 \\, t_{1}^{4} t_{2}^{2} t_{3}^{3} - 5352 \\, t_{1}^{3} t_{2}^{3} t_{3}^{3} - 142 \\, t_{1}^{2} t_{2}^{4} t_{3}^{3} + 5172 \\, t_{1} t_{2}^{5} t_{3}^{3} + 1786 \\, t_{2}^{6} t_{3}^{3} + 782 \\, t_{1}^{5} t_{3}^{4} + 1748 \\, t_{1}^{4} t_{2} t_{3}^{4} - 1927 \\, t_{1}^{3} t_{2}^{2} t_{3}^{4} + 56 \\, t_{1}^{2} t_{2}^{3} t_{3}^{4} + 7175 \\, t_{1} t_{2}^{4} t_{3}^{4} + 5066 \\, t_{2}^{5} t_{3}^{4} + 2570 \\, t_{1}^{4} t_{3}^{5} + 4470 \\, t_{1}^{3} t_{2} t_{3}^{5} + 5751 \\, t_{1}^{2} t_{2}^{2} t_{3}^{5} + 8952 \\, t_{1} t_{2}^{3} t_{3}^{5} + 7061 \\, t_{2}^{4} t_{3}^{5} + 3181 \\, t_{1}^{3} t_{3}^{6} + 5886 \\, t_{1}^{2} t_{2} t_{3}^{6} + 7533 \\, t_{1} t_{2}^{2} t_{3}^{6} + 4828 \\, t_{2}^{3} t_{3}^{6} + 1295 \\, t_{1}^{2} t_{3}^{7} + 2590 \\, t_{1} t_{2} t_{3}^{7} + 1295 \\, t_{2}^{2} t_{3}^{7}\\right)} {\\left(t_{1} + t_{2}\\right)} {\\left(t_{1} + t_{3}\\right)} {\\left(t_{2} + t_{3}\\right)}}{3 \\, {\\left(t_{1} + t_{2} + t_{3}\\right)}^{3} t_{1}^{3} t_{2}^{3} t_{3}^{3}}$$"
      ],
      "text/plain": [
       "-1/3*(5*t1^7*t2^2 + 64*t1^6*t2^3 + 311*t1^5*t2^4 + 698*t1^4*t2^5 + 694*t1^3*t2^6 + 248*t1^2*t2^7 + 10*t1^7*t2*t3 + 87*t1^6*t2^2*t3 + 408*t1^5*t2^3*t3 + 1013*t1^4*t2^4*t3 + 1596*t1^3*t2^5*t3 + 1410*t1^2*t2^6*t3 + 496*t1*t2^7*t3 + 5*t1^7*t3^2 + 126*t1^6*t2*t3^2 + 285*t1^5*t2^2*t3^2 - 940*t1^4*t2^3*t3^2 - 1234*t1^3*t2^4*t3^2 + 2124*t1^2*t2^5*t3^2 + 2502*t1*t2^6*t3^2 + 248*t2^7*t3^2 + 103*t1^6*t3^3 + 690*t1^5*t2*t3^3 - 1237*t1^4*t2^2*t3^3 - 5352*t1^3*t2^3*t3^3 - 142*t1^2*t2^4*t3^3 + 5172*t1*t2^5*t3^3 + 1786*t2^6*t3^3 + 782*t1^5*t3^4 + 1748*t1^4*t2*t3^4 - 1927*t1^3*t2^2*t3^4 + 56*t1^2*t2^3*t3^4 + 7175*t1*t2^4*t3^4 + 5066*t2^5*t3^4 + 2570*t1^4*t3^5 + 4470*t1^3*t2*t3^5 + 5751*t1^2*t2^2*t3^5 + 8952*t1*t2^3*t3^5 + 7061*t2^4*t3^5 + 3181*t1^3*t3^6 + 5886*t1^2*t2*t3^6 + 7533*t1*t2^2*t3^6 + 4828*t2^3*t3^6 + 1295*t1^2*t3^7 + 2590*t1*t2*t3^7 + 1295*t2^2*t3^7)*(t1 + t2)*(t1 + t3)*(t2 + t3)/((t1 + t2 + t3)^3*t1^3*t2^3*t3^3)"
      ]
     },
     "execution_count": 86,
     "metadata": {},
     "output_type": "execute_result"
    }
   ],
   "source": [
    "def Segre(weight,n):\n",
    "    return sum( SP.sign()*\\\n",
    "                Cohomology4d.segre_class(n,VectorBundle4d.character(SP, weight))*\\\n",
    "                Cohomology4d.top_chern(-Vertex4d.sqrtTvir(SP)) for SP in list(pP4ds.with_num_boxes(n)))\n",
    "\n",
    "pretty(Segre(Weight,3))"
   ]
  },
  {
   "cell_type": "markdown",
   "metadata": {},
   "source": [
    "This vanishes when $\\alpha$ is trivial."
   ]
  },
  {
   "cell_type": "markdown",
   "metadata": {},
   "source": [
    "## Verlinde number\n",
    "The Verlinde number is defined by \n",
    "$$V_n(\\alpha)=\\chi^{\\text{vir}}(\\text{Hilb}^n(X),\\det (\\alpha^{[n]}))=\\int_{[\\text{Hilb}^n(X)]^{\\text{vir}}}\\sqrt{\\text{Td}}(T^{\\text{vir}})\\text{ch}(E^{\\frac12})\\text{ch}(\\det (\\alpha^{[n]})) $$\n",
    "$$=\\sum_{|Z|=n}(-1)^{o(Z)}\\frac{1}{\\text{ch}(\\wedge^\\bullet \\sqrt{T^\\text{vir}|_Z}^\\vee)}\n",
    "\\text{ch}\\left( \\det (\\alpha^{[n]})|_Z\\right)  $$\n",
    "where $E=\\det \\mathcal{O}_X^{[n]}$ and we use \n",
    "$$\\text{ch}(\\sqrt{K^\\text{vir}|_Z}^{\\frac12})=\\text{ch}(\\det(\\overline{Q-\\bar{P}_{123}Q\\bar{Q}})^{\\frac12}))=\\text{ch}(\\det(\\bar Q)^{\\frac12}))=\\frac1{\\text{ch}(E^{\\frac12})}$$\n",
    "\n",
    "The method `KTheory.measure_unsymmetrized(L)` computes \n",
    "$$\\frac{1}{1-e^{-c_1(L)}}=\\frac{1}{\\text{ch}(\\wedge^\\bullet L^\\vee)}$$\n",
    "The result is a K-theory class, we put it in cohomology and separate out degree zero part."
   ]
  },
  {
   "cell_type": "code",
   "execution_count": 16,
   "metadata": {
    "scrolled": false
   },
   "outputs": [
    {
     "data": {
      "text/html": [
       "<html><script type=\"math/tex; mode=display\">\\newcommand{\\Bold}[1]{\\mathbf{#1}}\\frac{48 \\, t_{1}^{8} t_{2}^{2} + 24 \\, t_{1}^{7} t_{2}^{3} - 336 \\, t_{1}^{6} t_{2}^{4} - 264 \\, t_{1}^{5} t_{2}^{5} + 528 \\, t_{1}^{4} t_{2}^{6} + 672 \\, t_{1}^{3} t_{2}^{7} + 192 \\, t_{1}^{2} t_{2}^{8} + 96 \\, t_{1}^{8} t_{2} t_{3} - 148 \\, t_{1}^{7} t_{2}^{2} t_{3} - 1618 \\, t_{1}^{6} t_{2}^{3} t_{3} - 1318 \\, t_{1}^{5} t_{2}^{4} t_{3} + 2462 \\, t_{1}^{4} t_{2}^{5} t_{3} + 4322 \\, t_{1}^{3} t_{2}^{6} t_{3} + 2300 \\, t_{1}^{2} t_{2}^{7} t_{3} + 384 \\, t_{1} t_{2}^{8} t_{3} + 48 \\, t_{1}^{8} t_{3}^{2} - 436 \\, t_{1}^{7} t_{2} t_{3}^{2} - 2660 \\, t_{1}^{6} t_{2}^{2} t_{3}^{2} - 1775 \\, t_{1}^{5} t_{2}^{3} t_{3}^{2} + 4582 \\, t_{1}^{4} t_{2}^{4} t_{3}^{2} + 11221 \\, t_{1}^{3} t_{2}^{5} t_{3}^{2} + 10300 \\, t_{1}^{2} t_{2}^{6} t_{3}^{2} + 3452 \\, t_{1} t_{2}^{7} t_{3}^{2} + 192 \\, t_{2}^{8} t_{3}^{2} - 264 \\, t_{1}^{7} t_{3}^{3} - 2266 \\, t_{1}^{6} t_{2} t_{3}^{3} - 803 \\, t_{1}^{5} t_{2}^{2} t_{3}^{3} + 5974 \\, t_{1}^{4} t_{2}^{3} t_{3}^{3} + 17530 \\, t_{1}^{3} t_{2}^{4} t_{3}^{3} + 24397 \\, t_{1}^{2} t_{2}^{5} t_{3}^{3} + 13394 \\, t_{1} t_{2}^{6} t_{3}^{3} + 1824 \\, t_{2}^{7} t_{3}^{3} - 624 \\, t_{1}^{6} t_{3}^{4} + 2462 \\, t_{1}^{5} t_{2} t_{3}^{4} + 13474 \\, t_{1}^{4} t_{2}^{2} t_{3}^{4} + 26494 \\, t_{1}^{3} t_{2}^{3} t_{3}^{4} + 38782 \\, t_{1}^{2} t_{2}^{4} t_{3}^{4} + 29462 \\, t_{1} t_{2}^{5} t_{3}^{4} + 6864 \\, t_{2}^{6} t_{3}^{4} + 2256 \\, t_{1}^{5} t_{3}^{5} + 16502 \\, t_{1}^{4} t_{2} t_{3}^{5} + 34261 \\, t_{1}^{3} t_{2}^{2} t_{3}^{5} + 46465 \\, t_{1}^{2} t_{2}^{3} t_{3}^{5} + 39722 \\, t_{1} t_{2}^{4} t_{3}^{5} + 12984 \\, t_{2}^{5} t_{3}^{5} + 6288 \\, t_{1}^{4} t_{3}^{6} + 22574 \\, t_{1}^{3} t_{2} t_{3}^{6} + 35356 \\, t_{1}^{2} t_{2}^{2} t_{3}^{6} + 32294 \\, t_{1} t_{2}^{3} t_{3}^{6} + 12912 \\, t_{2}^{4} t_{3}^{6} + 4920 \\, t_{1}^{3} t_{3}^{7} + 12668 \\, t_{1}^{2} t_{2} t_{3}^{7} + 14108 \\, t_{1} t_{2}^{2} t_{3}^{7} + 6360 \\, t_{2}^{3} t_{3}^{7} + 1200 \\, t_{1}^{2} t_{3}^{8} + 2400 \\, t_{1} t_{2} t_{3}^{8} + 1200 \\, t_{2}^{2} t_{3}^{8}}{24 \\, {\\left(2 \\, t_{1} + t_{2} + t_{3}\\right)} {\\left(t_{1} + 2 \\, t_{2} + t_{3}\\right)} {\\left(t_{1} + t_{2} + 2 \\, t_{3}\\right)} {\\left(t_{1} + t_{2} + t_{3}\\right)} t_{1}^{2} t_{2}^{2} t_{3}^{2}}</script></html>"
      ],
      "text/latex": [
       "$$\\newcommand{\\Bold}[1]{\\mathbf{#1}}\\frac{48 \\, t_{1}^{8} t_{2}^{2} + 24 \\, t_{1}^{7} t_{2}^{3} - 336 \\, t_{1}^{6} t_{2}^{4} - 264 \\, t_{1}^{5} t_{2}^{5} + 528 \\, t_{1}^{4} t_{2}^{6} + 672 \\, t_{1}^{3} t_{2}^{7} + 192 \\, t_{1}^{2} t_{2}^{8} + 96 \\, t_{1}^{8} t_{2} t_{3} - 148 \\, t_{1}^{7} t_{2}^{2} t_{3} - 1618 \\, t_{1}^{6} t_{2}^{3} t_{3} - 1318 \\, t_{1}^{5} t_{2}^{4} t_{3} + 2462 \\, t_{1}^{4} t_{2}^{5} t_{3} + 4322 \\, t_{1}^{3} t_{2}^{6} t_{3} + 2300 \\, t_{1}^{2} t_{2}^{7} t_{3} + 384 \\, t_{1} t_{2}^{8} t_{3} + 48 \\, t_{1}^{8} t_{3}^{2} - 436 \\, t_{1}^{7} t_{2} t_{3}^{2} - 2660 \\, t_{1}^{6} t_{2}^{2} t_{3}^{2} - 1775 \\, t_{1}^{5} t_{2}^{3} t_{3}^{2} + 4582 \\, t_{1}^{4} t_{2}^{4} t_{3}^{2} + 11221 \\, t_{1}^{3} t_{2}^{5} t_{3}^{2} + 10300 \\, t_{1}^{2} t_{2}^{6} t_{3}^{2} + 3452 \\, t_{1} t_{2}^{7} t_{3}^{2} + 192 \\, t_{2}^{8} t_{3}^{2} - 264 \\, t_{1}^{7} t_{3}^{3} - 2266 \\, t_{1}^{6} t_{2} t_{3}^{3} - 803 \\, t_{1}^{5} t_{2}^{2} t_{3}^{3} + 5974 \\, t_{1}^{4} t_{2}^{3} t_{3}^{3} + 17530 \\, t_{1}^{3} t_{2}^{4} t_{3}^{3} + 24397 \\, t_{1}^{2} t_{2}^{5} t_{3}^{3} + 13394 \\, t_{1} t_{2}^{6} t_{3}^{3} + 1824 \\, t_{2}^{7} t_{3}^{3} - 624 \\, t_{1}^{6} t_{3}^{4} + 2462 \\, t_{1}^{5} t_{2} t_{3}^{4} + 13474 \\, t_{1}^{4} t_{2}^{2} t_{3}^{4} + 26494 \\, t_{1}^{3} t_{2}^{3} t_{3}^{4} + 38782 \\, t_{1}^{2} t_{2}^{4} t_{3}^{4} + 29462 \\, t_{1} t_{2}^{5} t_{3}^{4} + 6864 \\, t_{2}^{6} t_{3}^{4} + 2256 \\, t_{1}^{5} t_{3}^{5} + 16502 \\, t_{1}^{4} t_{2} t_{3}^{5} + 34261 \\, t_{1}^{3} t_{2}^{2} t_{3}^{5} + 46465 \\, t_{1}^{2} t_{2}^{3} t_{3}^{5} + 39722 \\, t_{1} t_{2}^{4} t_{3}^{5} + 12984 \\, t_{2}^{5} t_{3}^{5} + 6288 \\, t_{1}^{4} t_{3}^{6} + 22574 \\, t_{1}^{3} t_{2} t_{3}^{6} + 35356 \\, t_{1}^{2} t_{2}^{2} t_{3}^{6} + 32294 \\, t_{1} t_{2}^{3} t_{3}^{6} + 12912 \\, t_{2}^{4} t_{3}^{6} + 4920 \\, t_{1}^{3} t_{3}^{7} + 12668 \\, t_{1}^{2} t_{2} t_{3}^{7} + 14108 \\, t_{1} t_{2}^{2} t_{3}^{7} + 6360 \\, t_{2}^{3} t_{3}^{7} + 1200 \\, t_{1}^{2} t_{3}^{8} + 2400 \\, t_{1} t_{2} t_{3}^{8} + 1200 \\, t_{2}^{2} t_{3}^{8}}{24 \\, {\\left(2 \\, t_{1} + t_{2} + t_{3}\\right)} {\\left(t_{1} + 2 \\, t_{2} + t_{3}\\right)} {\\left(t_{1} + t_{2} + 2 \\, t_{3}\\right)} {\\left(t_{1} + t_{2} + t_{3}\\right)} t_{1}^{2} t_{2}^{2} t_{3}^{2}}$$"
      ],
      "text/plain": [
       "1/24*(48*t1^8*t2^2 + 24*t1^7*t2^3 - 336*t1^6*t2^4 - 264*t1^5*t2^5 + 528*t1^4*t2^6 + 672*t1^3*t2^7 + 192*t1^2*t2^8 + 96*t1^8*t2*t3 - 148*t1^7*t2^2*t3 - 1618*t1^6*t2^3*t3 - 1318*t1^5*t2^4*t3 + 2462*t1^4*t2^5*t3 + 4322*t1^3*t2^6*t3 + 2300*t1^2*t2^7*t3 + 384*t1*t2^8*t3 + 48*t1^8*t3^2 - 436*t1^7*t2*t3^2 - 2660*t1^6*t2^2*t3^2 - 1775*t1^5*t2^3*t3^2 + 4582*t1^4*t2^4*t3^2 + 11221*t1^3*t2^5*t3^2 + 10300*t1^2*t2^6*t3^2 + 3452*t1*t2^7*t3^2 + 192*t2^8*t3^2 - 264*t1^7*t3^3 - 2266*t1^6*t2*t3^3 - 803*t1^5*t2^2*t3^3 + 5974*t1^4*t2^3*t3^3 + 17530*t1^3*t2^4*t3^3 + 24397*t1^2*t2^5*t3^3 + 13394*t1*t2^6*t3^3 + 1824*t2^7*t3^3 - 624*t1^6*t3^4 + 2462*t1^5*t2*t3^4 + 13474*t1^4*t2^2*t3^4 + 26494*t1^3*t2^3*t3^4 + 38782*t1^2*t2^4*t3^4 + 29462*t1*t2^5*t3^4 + 6864*t2^6*t3^4 + 2256*t1^5*t3^5 + 16502*t1^4*t2*t3^5 + 34261*t1^3*t2^2*t3^5 + 46465*t1^2*t2^3*t3^5 + 39722*t1*t2^4*t3^5 + 12984*t2^5*t3^5 + 6288*t1^4*t3^6 + 22574*t1^3*t2*t3^6 + 35356*t1^2*t2^2*t3^6 + 32294*t1*t2^3*t3^6 + 12912*t2^4*t3^6 + 4920*t1^3*t3^7 + 12668*t1^2*t2*t3^7 + 14108*t1*t2^2*t3^7 + 6360*t2^3*t3^7 + 1200*t1^2*t3^8 + 2400*t1*t2*t3^8 + 1200*t2^2*t3^8)/((2*t1 + t2 + t3)*(t1 + 2*t2 + t3)*(t1 + t2 + 2*t3)*(t1 + t2 + t3)*t1^2*t2^2*t3^2)"
      ]
     },
     "execution_count": 16,
     "metadata": {},
     "output_type": "execute_result"
    }
   ],
   "source": [
    "def KT_to_Coho(f,prec):\n",
    "    numer = Cohomology4d.from_character_to_coho(Default4d.KT_ring(f.numerator()),prec)\n",
    "    denom = Cohomology4d.from_character_to_coho(Default4d.KT_ring(f.denominator()),prec)\n",
    "    if denom==0:\n",
    "        raise ValueError(\"not enough precision\")\n",
    "    return modCoho(numer, denom)\n",
    "\n",
    "verl=Vertex4d.Verlinde(EasyWeight,2)\n",
    "\n",
    "def newV1(SP,prec):\n",
    "    return Cohomology4d.measure_unsymmetrized_coho(Vertex4d.sqrtTvir(SP),prec)\n",
    "\n",
    "def newV2(SP,weight):\n",
    "    return Cohomology4d.from_character_to_coho(KTheory.determinant(VectorBundle4d.character(SP, weight)),3)\n",
    "\n",
    "def newVerlinde(weight,n,prec):\n",
    "    return sum( SP.sign()*newV1(SP,prec)*newV2(SP,weight) for SP in list(pP4ds.with_num_boxes(n)))\n",
    "\n",
    "v_prec = newVerlinde(Weight,2,8)\n",
    "new_verl = modCoho(v_prec.numerator(),v_prec.denominator())\n",
    "pretty(new_verl)"
   ]
  },
  {
   "cell_type": "markdown",
   "metadata": {},
   "source": [
    "We look at an example partition when $n=2$, Here the term \n",
    "$$\\frac{1}{\\text{ch}(\\wedge^\\bullet \\sqrt{T^\\text{vir}|_Z}^\\vee)}$$\n",
    "becomes the following"
   ]
  },
  {
   "cell_type": "code",
   "execution_count": 17,
   "metadata": {},
   "outputs": [
    {
     "data": {
      "text/html": [
       "<html><script type=\"math/tex; mode=display\">\\newcommand{\\Bold}[1]{\\mathbf{#1}}\\frac{{\\left(x_{1}^{2} x_{2} - 1\\right)} {\\left(x_{1}^{2} x_{3} - 1\\right)} {\\left(x_{1} x_{2} - 1\\right)} {\\left(x_{1} x_{3} - 1\\right)} {\\left(x_{2} x_{3} - x_{1}\\right)} {\\left(x_{2} x_{3} - 1\\right)} x_{1}}{{\\left(x_{1}^{2} x_{2} x_{3} - 1\\right)} {\\left(x_{1} x_{2} x_{3} - 1\\right)} {\\left(x_{1} - x_{2}\\right)} {\\left(x_{1} - x_{3}\\right)} {\\left(x_{1} + 1\\right)} {\\left(x_{1} - 1\\right)}^{2} {\\left(x_{2} - 1\\right)} {\\left(x_{3} - 1\\right)}}</script></html>"
      ],
      "text/latex": [
       "$$\\newcommand{\\Bold}[1]{\\mathbf{#1}}\\frac{{\\left(x_{1}^{2} x_{2} - 1\\right)} {\\left(x_{1}^{2} x_{3} - 1\\right)} {\\left(x_{1} x_{2} - 1\\right)} {\\left(x_{1} x_{3} - 1\\right)} {\\left(x_{2} x_{3} - x_{1}\\right)} {\\left(x_{2} x_{3} - 1\\right)} x_{1}}{{\\left(x_{1}^{2} x_{2} x_{3} - 1\\right)} {\\left(x_{1} x_{2} x_{3} - 1\\right)} {\\left(x_{1} - x_{2}\\right)} {\\left(x_{1} - x_{3}\\right)} {\\left(x_{1} + 1\\right)} {\\left(x_{1} - 1\\right)}^{2} {\\left(x_{2} - 1\\right)} {\\left(x_{3} - 1\\right)}}$$"
      ],
      "text/plain": [
       "(x1^2*x2 - 1)*(x1^2*x3 - 1)*(x1*x2 - 1)*(x1*x3 - 1)*(x2*x3 - x1)*(x2*x3 - 1)*x1/((x1^2*x2*x3 - 1)*(x1*x2*x3 - 1)*(x1 - x2)*(x1 - x3)*(x1 + 1)*(x1 - 1)^2*(x2 - 1)*(x3 - 1))"
      ]
     },
     "execution_count": 17,
     "metadata": {},
     "output_type": "execute_result"
    }
   ],
   "source": [
    "v1 = pretty(KTheory.measure_unsymmetrized(Vertex4d.sqrtTvir(Ex)))\n",
    "v1"
   ]
  },
  {
   "cell_type": "markdown",
   "metadata": {},
   "source": [
    "Observe if we take the degree $-n$ part of this in cohomology, we simply get \n",
    "$$ \\sqrt e\\left(-{T^\\text{vir}|_Z} \\right) $$\n",
    "On the other hand, \n",
    "$$\\text{ch}\\left( \\det (\\alpha^{[n]})|_Z\\right)  $$\n",
    "is just multiplying all the weights together, giving us"
   ]
  },
  {
   "cell_type": "code",
   "execution_count": 18,
   "metadata": {},
   "outputs": [
    {
     "data": {
      "text/html": [
       "<html><script type=\"math/tex; mode=display\">\\newcommand{\\Bold}[1]{\\mathbf{#1}}x_{1}</script></html>"
      ],
      "text/latex": [
       "$$\\newcommand{\\Bold}[1]{\\mathbf{#1}}x_{1}$$"
      ],
      "text/plain": [
       "x1"
      ]
     },
     "execution_count": 18,
     "metadata": {},
     "output_type": "execute_result"
    }
   ],
   "source": [
    "KTheory.determinant(VectorBundle4d.character(Ex, EasyWeight))"
   ]
  },
  {
   "cell_type": "code",
   "execution_count": 19,
   "metadata": {},
   "outputs": [
    {
     "data": {
      "text/html": [
       "<html><script type=\"math/tex; mode=display\">\\newcommand{\\Bold}[1]{\\mathbf{#1}}\\frac{{\\left(x_{1}^{2} x_{2} - 1\\right)} {\\left(x_{1}^{2} x_{3} - 1\\right)} {\\left(x_{1} x_{2} - 1\\right)} {\\left(x_{1} x_{3} - 1\\right)} {\\left(x_{2} x_{3} - x_{1}\\right)} {\\left(x_{2} x_{3} - 1\\right)} x_{1}^{2}}{{\\left(x_{1}^{2} x_{2} x_{3} - 1\\right)} {\\left(x_{1} x_{2} x_{3} - 1\\right)} {\\left(x_{1} - x_{2}\\right)} {\\left(x_{1} - x_{3}\\right)} {\\left(x_{1} + 1\\right)} {\\left(x_{1} - 1\\right)}^{2} {\\left(x_{2} - 1\\right)} {\\left(x_{3} - 1\\right)}}</script></html>"
      ],
      "text/latex": [
       "$$\\newcommand{\\Bold}[1]{\\mathbf{#1}}\\frac{{\\left(x_{1}^{2} x_{2} - 1\\right)} {\\left(x_{1}^{2} x_{3} - 1\\right)} {\\left(x_{1} x_{2} - 1\\right)} {\\left(x_{1} x_{3} - 1\\right)} {\\left(x_{2} x_{3} - x_{1}\\right)} {\\left(x_{2} x_{3} - 1\\right)} x_{1}^{2}}{{\\left(x_{1}^{2} x_{2} x_{3} - 1\\right)} {\\left(x_{1} x_{2} x_{3} - 1\\right)} {\\left(x_{1} - x_{2}\\right)} {\\left(x_{1} - x_{3}\\right)} {\\left(x_{1} + 1\\right)} {\\left(x_{1} - 1\\right)}^{2} {\\left(x_{2} - 1\\right)} {\\left(x_{3} - 1\\right)}}$$"
      ],
      "text/plain": [
       "(x1^2*x2 - 1)*(x1^2*x3 - 1)*(x1*x2 - 1)*(x1*x3 - 1)*(x2*x3 - x1)*(x2*x3 - 1)*x1^2/((x1^2*x2*x3 - 1)*(x1*x2*x3 - 1)*(x1 - x2)*(x1 - x3)*(x1 + 1)*(x1 - 1)^2*(x2 - 1)*(x3 - 1))"
      ]
     },
     "execution_count": 19,
     "metadata": {},
     "output_type": "execute_result"
    }
   ],
   "source": [
    "pretty(Ex.sign()* \n",
    " KTheory.measure_unsymmetrized(Vertex4d.sqrtTvir(Ex))* \n",
    " KTheory.determinant(VectorBundle4d.character(Ex, EasyWeight)))"
   ]
  },
  {
   "cell_type": "markdown",
   "metadata": {},
   "source": [
    "## Nekrasov's conjecture\n",
    "We want to check\n",
    "$$\\mathsf{V}^{\\text{DT}}_{\\phi\\phi\\phi\\phi}(x, y, q) = \\text{Exp}(\\mathcal{F}(x, y; q))$$\n",
    "for\n",
    "$$\\mathcal{F}=\\frac{[x_1x_2][x_1x_3][x_2x_3][y]}{[x_1][x_2][x_3][x_4][y^{1/2}q][y^{1/2}q^{-1}]}$$\n",
    "We simplify\n",
    "$$\\frac{[x_1x_2][x_1x_3][x_2x_3]}{[x_1][x_2][x_3][x_4]}=-\\frac{(x_1x_2-1)(x_1x_3-1)(x_2x_3-1)}{(x_1x_2x_3-1)(x_1-1)(x_2-1)(x_3-1)}$$\n",
    "$$\\frac{[y]}{[y^{1/2}q][y^{1/2}q^{-1}]}=\\sum_{n=1}^\\infty (y^{-\\frac n2}-y^{\\frac n2})q^n$$"
   ]
  },
  {
   "cell_type": "code",
   "execution_count": 20,
   "metadata": {},
   "outputs": [
    {
     "data": {
      "text/html": [
       "<html><script type=\"math/tex; mode=display\">\\newcommand{\\Bold}[1]{\\mathbf{#1}}-\\frac{{\\left(x_{1} x_{2} - 1\\right)} {\\left(x_{1} x_{3} - 1\\right)} {\\left(x_{2} x_{3} - 1\\right)}}{{\\left(x_{1} x_{2} x_{3} - 1\\right)} {\\left(x_{1} - 1\\right)} {\\left(x_{2} - 1\\right)} {\\left(x_{3} - 1\\right)}}</script></html>"
      ],
      "text/latex": [
       "$$\\newcommand{\\Bold}[1]{\\mathbf{#1}}-\\frac{{\\left(x_{1} x_{2} - 1\\right)} {\\left(x_{1} x_{3} - 1\\right)} {\\left(x_{2} x_{3} - 1\\right)}}{{\\left(x_{1} x_{2} x_{3} - 1\\right)} {\\left(x_{1} - 1\\right)} {\\left(x_{2} - 1\\right)} {\\left(x_{3} - 1\\right)}}$$"
      ],
      "text/plain": [
       "-(x1*x2 - 1)*(x1*x3 - 1)*(x2*x3 - 1)/((x1*x2*x3 - 1)*(x1 - 1)*(x2 - 1)*(x3 - 1))"
      ]
     },
     "execution_count": 20,
     "metadata": {},
     "output_type": "execute_result"
    }
   ],
   "source": [
    "x1,x2,x3,x4,y,v=Default4d.KT_ring.gens()\n",
    "u1,u2,u3,u4,w,sqrtv = Default4d.sqrtKT_ring.gens()\n",
    "q=Default4d.series_ring.gen()\n",
    "\n",
    "F1 = -(x1*x2-1)*(x1*x3-1)*(x2*x3-1)/((x1*x2*x3-1)*(x1-1)*(x2-1)*(x3-1))\n",
    "pretty(F1)"
   ]
  },
  {
   "cell_type": "code",
   "execution_count": 21,
   "metadata": {
    "scrolled": true
   },
   "outputs": [
    {
     "data": {
      "text/html": [
       "<html><script type=\"math/tex; mode=display\">\\newcommand{\\Bold}[1]{\\mathbf{#1}}\\left(\\frac{x_{1}^{2} x_{2}^{2} x_{3}^{2} w^{2} - x_{1}^{2} x_{2}^{2} x_{3}^{2} - x_{1}^{2} x_{2} x_{3} w^{2} - x_{1} x_{2}^{2} x_{3} w^{2} - x_{1} x_{2} x_{3}^{2} w^{2} + x_{1}^{2} x_{2} x_{3} + x_{1} x_{2}^{2} x_{3} + x_{1} x_{2} x_{3}^{2} + x_{1} x_{2} w^{2} + x_{1} x_{3} w^{2} + x_{2} x_{3} w^{2} - x_{1} x_{2} - x_{1} x_{3} - x_{2} x_{3} - w^{2} + 1}{x_{1}^{2} x_{2}^{2} x_{3}^{2} w - x_{1}^{2} x_{2}^{2} x_{3} w - x_{1}^{2} x_{2} x_{3}^{2} w - x_{1} x_{2}^{2} x_{3}^{2} w + x_{1}^{2} x_{2} x_{3} w + x_{1} x_{2}^{2} x_{3} w + x_{1} x_{2} x_{3}^{2} w - 2 x_{1} x_{2} x_{3} w + x_{1} x_{2} w + x_{1} x_{3} w + x_{2} x_{3} w - x_{1} w - x_{2} w - x_{3} w + w}\\right)q</script></html>"
      ],
      "text/latex": [
       "$$\\newcommand{\\Bold}[1]{\\mathbf{#1}}\\left(\\frac{x_{1}^{2} x_{2}^{2} x_{3}^{2} w^{2} - x_{1}^{2} x_{2}^{2} x_{3}^{2} - x_{1}^{2} x_{2} x_{3} w^{2} - x_{1} x_{2}^{2} x_{3} w^{2} - x_{1} x_{2} x_{3}^{2} w^{2} + x_{1}^{2} x_{2} x_{3} + x_{1} x_{2}^{2} x_{3} + x_{1} x_{2} x_{3}^{2} + x_{1} x_{2} w^{2} + x_{1} x_{3} w^{2} + x_{2} x_{3} w^{2} - x_{1} x_{2} - x_{1} x_{3} - x_{2} x_{3} - w^{2} + 1}{x_{1}^{2} x_{2}^{2} x_{3}^{2} w - x_{1}^{2} x_{2}^{2} x_{3} w - x_{1}^{2} x_{2} x_{3}^{2} w - x_{1} x_{2}^{2} x_{3}^{2} w + x_{1}^{2} x_{2} x_{3} w + x_{1} x_{2}^{2} x_{3} w + x_{1} x_{2} x_{3}^{2} w - 2 x_{1} x_{2} x_{3} w + x_{1} x_{2} w + x_{1} x_{3} w + x_{2} x_{3} w - x_{1} w - x_{2} w - x_{3} w + w}\\right)q$$"
      ],
      "text/plain": [
       "((x1^2*x2^2*x3^2*w^2 - x1^2*x2^2*x3^2 - x1^2*x2*x3*w^2 - x1*x2^2*x3*w^2 - x1*x2*x3^2*w^2 + x1^2*x2*x3 + x1*x2^2*x3 + x1*x2*x3^2 + x1*x2*w^2 + x1*x3*w^2 + x2*x3*w^2 - x1*x2 - x1*x3 - x2*x3 - w^2 + 1)/(x1^2*x2^2*x3^2*w - x1^2*x2^2*x3*w - x1^2*x2*x3^2*w - x1*x2^2*x3^2*w + x1^2*x2*x3*w + x1*x2^2*x3*w + x1*x2*x3^2*w - 2*x1*x2*x3*w + x1*x2*w + x1*x3*w + x2*x3*w - x1*w - x2*w - x3*w + w))*q"
      ]
     },
     "execution_count": 21,
     "metadata": {},
     "output_type": "execute_result"
    }
   ],
   "source": [
    "def NekRHS(prec):\n",
    "    return F1*sum((v^(-n-1)-v^(n+1))*q^(n+1) for n in range(prec))\n",
    "\n",
    "NekRHS(1)"
   ]
  },
  {
   "cell_type": "code",
   "execution_count": 22,
   "metadata": {},
   "outputs": [
    {
     "data": {
      "text/html": [
       "<html><script type=\"math/tex; mode=display\">\\newcommand{\\Bold}[1]{\\mathbf{#1}}\\frac{{\\left(x_{1} x_{2} - 1\\right)} {\\left(x_{1} x_{3} - 1\\right)} {\\left(x_{2} x_{3} - 1\\right)} {\\left(w + 1\\right)} {\\left(w - 1\\right)}}{{\\left(x_{1} x_{2} x_{3} - 1\\right)} w {\\left(x_{1} - 1\\right)} {\\left(x_{2} - 1\\right)} {\\left(x_{3} - 1\\right)}}</script></html>"
      ],
      "text/latex": [
       "$$\\newcommand{\\Bold}[1]{\\mathbf{#1}}\\frac{{\\left(x_{1} x_{2} - 1\\right)} {\\left(x_{1} x_{3} - 1\\right)} {\\left(x_{2} x_{3} - 1\\right)} {\\left(w + 1\\right)} {\\left(w - 1\\right)}}{{\\left(x_{1} x_{2} x_{3} - 1\\right)} w {\\left(x_{1} - 1\\right)} {\\left(x_{2} - 1\\right)} {\\left(x_{3} - 1\\right)}}$$"
      ],
      "text/plain": [
       "(x1*x2 - 1)*(x1*x3 - 1)*(x2*x3 - 1)*(w + 1)*(w - 1)/((x1*x2*x3 - 1)*w*(x1 - 1)*(x2 - 1)*(x3 - 1))"
      ]
     },
     "execution_count": 22,
     "metadata": {},
     "output_type": "execute_result"
    }
   ],
   "source": [
    "RHS = list(KTheory.plethexp(NekRHS(1),2))[1]\n",
    "pretty(RHS)"
   ]
  },
  {
   "cell_type": "markdown",
   "metadata": {},
   "source": [
    "On the left hand side, we have \n",
    "$$[q^n]\\mathsf{V}^{\\text{DT}}_{\\phi\\phi\\phi\\phi}(t, y, q) =\\sum_{|\\pi|=n}(-1)^{\\sigma(\\pi)}[-\\tilde{\\mathsf{v}}^{DT}_{\\pi}]$$\n",
    "where\n",
    "$$[-\\tilde{\\mathsf{v}}^{DT}_{\\pi}]=[-\\mathsf{v}_\\pi+y\\bar{Q}_\\pi]=\\left[-\\sqrt{T^{\\text{vir}}|_Z}\\right]\\cdot \\mathcal{N}_y(\\mathcal{O}_X^{[n]}|_Z)$$\n",
    "So we in fact have\n",
    "$$\\mathsf{V}^{\\text{DT}}_{\\phi\\phi\\phi\\phi}(t, y, q)= \\sum_n I_{n}(\\mathcal{O}_X,y)q^n$$"
   ]
  },
  {
   "cell_type": "code",
   "execution_count": 23,
   "metadata": {},
   "outputs": [
    {
     "data": {
      "text/html": [
       "<html><script type=\"math/tex; mode=display\">\\newcommand{\\Bold}[1]{\\mathbf{#1}}\\frac{{\\left(x_{1} x_{2} - 1\\right)} {\\left(x_{1} x_{3} - 1\\right)} {\\left(x_{2} x_{3} - 1\\right)} {\\left(w + 1\\right)} {\\left(w - 1\\right)}}{{\\left(x_{1} x_{2} x_{3} - 1\\right)} w {\\left(x_{1} - 1\\right)} {\\left(x_{2} - 1\\right)} {\\left(x_{3} - 1\\right)}}</script></html>"
      ],
      "text/latex": [
       "$$\\newcommand{\\Bold}[1]{\\mathbf{#1}}\\frac{{\\left(x_{1} x_{2} - 1\\right)} {\\left(x_{1} x_{3} - 1\\right)} {\\left(x_{2} x_{3} - 1\\right)} {\\left(w + 1\\right)} {\\left(w - 1\\right)}}{{\\left(x_{1} x_{2} x_{3} - 1\\right)} w {\\left(x_{1} - 1\\right)} {\\left(x_{2} - 1\\right)} {\\left(x_{3} - 1\\right)}}$$"
      ],
      "text/plain": [
       "(x1*x2 - 1)*(x1*x3 - 1)*(x2*x3 - 1)*(w + 1)*(w - 1)/((x1*x2*x3 - 1)*w*(x1 - 1)*(x2 - 1)*(x3 - 1))"
      ]
     },
     "execution_count": 23,
     "metadata": {},
     "output_type": "execute_result"
    }
   ],
   "source": [
    "sqrtNek = Vertex4d.Nek(EasyWeight,1)\n",
    "LHS=KTheory4d.sqrt_to_original(Default4d.sqrtKT_ring(sqrtNek.numerator()))/\\\n",
    "KTheory4d.sqrt_to_original(Default4d.sqrtKT_ring(sqrtNek.denominator()))\n",
    "\n",
    "\n",
    "\n",
    "numer = Cohomology4d.from_character_to_coho(Default4d.KT_ring(LHS.numerator()),8)\n",
    "denom = Cohomology4d.from_character_to_coho(Default4d.KT_ring(LHS.denominator()),8)\n",
    "\n",
    "nekcoho=numer/denom\n",
    "pretty(nekcoho)\n",
    "pretty(LHS)\n"
   ]
  },
  {
   "cell_type": "markdown",
   "metadata": {},
   "source": [
    "This shows the two sides are equal."
   ]
  },
  {
   "cell_type": "code",
   "execution_count": 24,
   "metadata": {},
   "outputs": [
    {
     "data": {
      "text/html": [
       "<html><script type=\"math/tex; mode=display\">\\newcommand{\\Bold}[1]{\\mathbf{#1}}\\mathrm{True}</script></html>"
      ],
      "text/latex": [
       "$$\\newcommand{\\Bold}[1]{\\mathbf{#1}}\\mathrm{True}$$"
      ],
      "text/plain": [
       "True"
      ]
     },
     "execution_count": 24,
     "metadata": {},
     "output_type": "execute_result"
    }
   ],
   "source": [
    "def NekCheck(n):\n",
    "    sqrtNek = Vertex4d.Nek(EasyWeight,n)\n",
    "    return list(KTheory.plethexp(NekRHS(n),n+1))[n] == KTheory4d.sqrt_to_original(Default4d.sqrtKT_ring(sqrtNek.numerator()))/\\\n",
    "KTheory4d.sqrt_to_original(Default4d.sqrtKT_ring(sqrtNek.denominator()))\n",
    "\n",
    "NekCheck(2)"
   ]
  },
  {
   "cell_type": "markdown",
   "metadata": {},
   "source": [
    "## Segre number using total Chern class\n",
    "Compute\n",
    "$$\\int_{[X^{[n]}]^{\\text{vir}}}c(\\alpha^{[n]\\vee})$$"
   ]
  },
  {
   "cell_type": "code",
   "execution_count": 61,
   "metadata": {},
   "outputs": [
    {
     "data": {
      "text/html": [
       "<html><script type=\"math/tex; mode=display\">\\newcommand{\\Bold}[1]{\\mathbf{#1}}-\\frac{{\\left(5 \\, t_{1}^{2} t_{2} t_{3} + 5 \\, t_{1} t_{2}^{2} t_{3} + 5 \\, t_{1} t_{2} t_{3}^{2} - t_{1}^{2} t_{2} - t_{1} t_{2}^{2} - t_{1}^{2} t_{3} - 2 \\, t_{1} t_{2} t_{3} - t_{2}^{2} t_{3} - t_{1} t_{3}^{2} - t_{2} t_{3}^{2}\\right)} {\\left(t_{1} + t_{2}\\right)} {\\left(t_{1} + t_{3}\\right)} {\\left(t_{2} + t_{3}\\right)}}{2 \\, {\\left(t_{1} + t_{2} + t_{3}\\right)}^{2} t_{1}^{2} t_{2}^{2} t_{3}^{2}}</script></html>"
      ],
      "text/latex": [
       "$$\\newcommand{\\Bold}[1]{\\mathbf{#1}}-\\frac{{\\left(5 \\, t_{1}^{2} t_{2} t_{3} + 5 \\, t_{1} t_{2}^{2} t_{3} + 5 \\, t_{1} t_{2} t_{3}^{2} - t_{1}^{2} t_{2} - t_{1} t_{2}^{2} - t_{1}^{2} t_{3} - 2 \\, t_{1} t_{2} t_{3} - t_{2}^{2} t_{3} - t_{1} t_{3}^{2} - t_{2} t_{3}^{2}\\right)} {\\left(t_{1} + t_{2}\\right)} {\\left(t_{1} + t_{3}\\right)} {\\left(t_{2} + t_{3}\\right)}}{2 \\, {\\left(t_{1} + t_{2} + t_{3}\\right)}^{2} t_{1}^{2} t_{2}^{2} t_{3}^{2}}$$"
      ],
      "text/plain": [
       "-1/2*(5*t1^2*t2*t3 + 5*t1*t2^2*t3 + 5*t1*t2*t3^2 - t1^2*t2 - t1*t2^2 - t1^2*t3 - 2*t1*t2*t3 - t2^2*t3 - t1*t3^2 - t2*t3^2)*(t1 + t2)*(t1 + t3)*(t2 + t3)/((t1 + t2 + t3)^2*t1^2*t2^2*t3^2)"
      ]
     },
     "execution_count": 61,
     "metadata": {},
     "output_type": "execute_result"
    }
   ],
   "source": [
    "pretty(Vertex4d.Total_Chern((0,0,0),2))"
   ]
  },
  {
   "cell_type": "markdown",
   "metadata": {},
   "source": [
    "On the other hand, we take \n",
    "$$\\lim_{b\\rightarrow 0}I_n(\\alpha,y)|_{y=e^{bm},t_i=e^{b\\lambda_i}}$$"
   ]
  },
  {
   "cell_type": "code",
   "execution_count": 26,
   "metadata": {
    "scrolled": true
   },
   "outputs": [
    {
     "data": {
      "text/html": [
       "t1^2*t2*m + t1*t2^2*m + t1^2*t3*m + 2*t1*t2*t3*m + t2^2*t3*m + t1*t3^2*m + t2*t3^2*m"
      ],
      "text/plain": [
       "'t1^2*t2*m + t1*t2^2*m + t1^2*t3*m + 2*t1*t2*t3*m + t2^2*t3*m + t1*t3^2*m + t2*t3^2*m'"
      ]
     },
     "execution_count": 26,
     "metadata": {},
     "output_type": "execute_result"
    }
   ],
   "source": [
    "WeightTest = (0,0,0)\n",
    "sqrtNek = Vertex4d.Nek(WeightTest,1)\n",
    "ktnek = KTheory4d.sqrt_to_original(Default4d.sqrtKT_ring(sqrtNek.numerator()))/\\\n",
    "KTheory4d.sqrt_to_original(Default4d.sqrtKT_ring(sqrtNek.denominator()))\n",
    "\n",
    "\n",
    "numer = Cohomology4d.from_character_to_coho(Default4d.KT_ring(ktnek.numerator())*Default4d.v^(-4),4)\n",
    "numer.__str__()"
   ]
  },
  {
   "cell_type": "code",
   "execution_count": 27,
   "metadata": {
    "scrolled": true
   },
   "outputs": [
    {
     "data": {
      "text/html": [
       "<html><script type=\"math/tex; mode=display\">\\newcommand{\\Bold}[1]{\\mathbf{#1}}t_{1}^{2} t_{2} t_{3} + t_{1} t_{2}^{2} t_{3} + t_{1} t_{2} t_{3}^{2}</script></html>"
      ],
      "text/latex": [
       "$$\\newcommand{\\Bold}[1]{\\mathbf{#1}}t_{1}^{2} t_{2} t_{3} + t_{1} t_{2}^{2} t_{3} + t_{1} t_{2} t_{3}^{2}$$"
      ],
      "text/plain": [
       "t1^2*t2*t3 + t1*t2^2*t3 + t1*t2*t3^2"
      ]
     },
     "execution_count": 27,
     "metadata": {},
     "output_type": "execute_result"
    }
   ],
   "source": [
    "denom = Cohomology4d.from_character_to_coho(Default4d.KT_ring(ktnek.denominator())*Default4d.v^(-4),4)\n",
    "denom"
   ]
  },
  {
   "cell_type": "code",
   "execution_count": 28,
   "metadata": {},
   "outputs": [
    {
     "data": {
      "text/html": [
       "<html><script type=\"math/tex; mode=display\">\\newcommand{\\Bold}[1]{\\mathbf{#1}}\\frac{{\\left(t_{1} + t_{2}\\right)} {\\left(t_{1} + t_{3}\\right)} {\\left(t_{2} + t_{3}\\right)}}{{\\left(t_{1} + t_{2} + t_{3}\\right)} t_{1} t_{2} t_{3}}</script></html>"
      ],
      "text/latex": [
       "$$\\newcommand{\\Bold}[1]{\\mathbf{#1}}\\frac{{\\left(t_{1} + t_{2}\\right)} {\\left(t_{1} + t_{3}\\right)} {\\left(t_{2} + t_{3}\\right)}}{{\\left(t_{1} + t_{2} + t_{3}\\right)} t_{1} t_{2} t_{3}}$$"
      ],
      "text/plain": [
       "(t1 + t2)*(t1 + t3)*(t2 + t3)/((t1 + t2 + t3)*t1*t2*t3)"
      ]
     },
     "execution_count": 28,
     "metadata": {},
     "output_type": "execute_result"
    }
   ],
   "source": [
    "pretty(numer(m=1)/denom)"
   ]
  },
  {
   "cell_type": "markdown",
   "metadata": {},
   "source": [
    "It seems\n",
    "$$\\int_{[X^{[n]}]^{\\text{vir}}}c(\\alpha^{[n]\\vee})Q^n=\\lim_{b\\rightarrow 0}I_n(\\alpha,y)q^n|_{y=e^{b},t_i=e^{b\\lambda_i},Q=b^{r-1}q}$$\n",
    "This can be obtained by setting $m=1$ in CKM Theorem 0.12."
   ]
  },
  {
   "cell_type": "markdown",
   "metadata": {},
   "source": [
    "## Nekrasov conjecture with insertion\n",
    "\n",
    "We try to get a formula for $I_n(\\alpha, y)$ in form of $\\text{Exp}(\\mathcal{F_\\alpha}(x, y; q))$.\n",
    "\n",
    "When rank $=1$, $\\mathcal{F}_\\alpha$ is \n",
    "$$\\frac{[x_1x_2][x_1x_3][x_2x_3][y\\alpha]}{[x_1][x_2][x_3][x_4][(y\\alpha)^{1/2}q][(y\\alpha)^{1/2}q^{-1}]}$$\n",
    "(Theorem 1.13)"
   ]
  },
  {
   "cell_type": "code",
   "execution_count": 29,
   "metadata": {},
   "outputs": [
    {
     "data": {
      "text/html": [
       "<html><script type=\"math/tex; mode=display\">\\newcommand{\\Bold}[1]{\\mathbf{#1}}\\frac{{\\left(u_{1} u_{2} + 1\\right)} {\\left(u_{1} u_{2} - 1\\right)} {\\left(u_{1} u_{3} + 1\\right)} {\\left(u_{1} u_{3} - 1\\right)} {\\left(u_{2} u_{3} + 1\\right)} {\\left(u_{2} u_{3} - 1\\right)} {\\left(w + 1\\right)}^{2} {\\left(w - 1\\right)}^{2}}{{\\left(u_{1} u_{2} u_{3} + 1\\right)} {\\left(u_{1} u_{2} u_{3} - 1\\right)} {\\left(u_{1} + 1\\right)} {\\left(u_{1} - 1\\right)} {\\left(u_{2} + 1\\right)} {\\left(u_{2} - 1\\right)} {\\left(u_{3} + 1\\right)} {\\left(u_{3} - 1\\right)} w^{2}}</script></html>"
      ],
      "text/latex": [
       "$$\\newcommand{\\Bold}[1]{\\mathbf{#1}}\\frac{{\\left(u_{1} u_{2} + 1\\right)} {\\left(u_{1} u_{2} - 1\\right)} {\\left(u_{1} u_{3} + 1\\right)} {\\left(u_{1} u_{3} - 1\\right)} {\\left(u_{2} u_{3} + 1\\right)} {\\left(u_{2} u_{3} - 1\\right)} {\\left(w + 1\\right)}^{2} {\\left(w - 1\\right)}^{2}}{{\\left(u_{1} u_{2} u_{3} + 1\\right)} {\\left(u_{1} u_{2} u_{3} - 1\\right)} {\\left(u_{1} + 1\\right)} {\\left(u_{1} - 1\\right)} {\\left(u_{2} + 1\\right)} {\\left(u_{2} - 1\\right)} {\\left(u_{3} + 1\\right)} {\\left(u_{3} - 1\\right)} w^{2}}$$"
      ],
      "text/plain": [
       "(u1*u2 + 1)*(u1*u2 - 1)*(u1*u3 + 1)*(u1*u3 - 1)*(u2*u3 + 1)*(u2*u3 - 1)*(w + 1)^2*(w - 1)^2/((u1*u2*u3 + 1)*(u1*u2*u3 - 1)*(u1 + 1)*(u1 - 1)*(u2 + 1)*(u2 - 1)*(u3 + 1)*(u3 - 1)*w^2)"
      ]
     },
     "execution_count": 29,
     "metadata": {},
     "output_type": "execute_result"
    }
   ],
   "source": [
    "WeightTest = (0,0,0,0,0,0)\n",
    "\n",
    "sqrtNek = Vertex4d.Nek(WeightTest,1)\n",
    "pretty(sqrtNek)"
   ]
  },
  {
   "cell_type": "code",
   "execution_count": 30,
   "metadata": {},
   "outputs": [
    {
     "data": {
      "text/html": [
       "<html><script type=\"math/tex; mode=display\">\\newcommand{\\Bold}[1]{\\mathbf{#1}}\\left[\\left(2, 1\\right)\\right]</script></html>"
      ],
      "text/latex": [
       "$$\\newcommand{\\Bold}[1]{\\mathbf{#1}}\\left[\\left(2, 1\\right)\\right]$$"
      ],
      "text/plain": [
       "[(2, 1)]"
      ]
     },
     "execution_count": 30,
     "metadata": {},
     "output_type": "execute_result"
    }
   ],
   "source": [
    "Weight_dual=()\n",
    "for i in range(len(WeightTest)):\n",
    "    Weight_dual += (WeightTest[i]*-1,) \n",
    "sqrtWeight_inv = Default4d.sqrtKT_ring(VectorBundle4d.character(EasyEx,Weight_dual).dict())\n",
    "list(sqrtWeight_inv)"
   ]
  },
  {
   "cell_type": "code",
   "execution_count": 31,
   "metadata": {
    "scrolled": true
   },
   "outputs": [
    {
     "data": {
      "text/html": [
       "<html><script type=\"math/tex; mode=display\">\\newcommand{\\Bold}[1]{\\mathbf{#1}}\\frac{{\\left(u_{1} u_{2} + 1\\right)} {\\left(u_{1} u_{2} - 1\\right)} {\\left(u_{1} u_{3} + 1\\right)} {\\left(u_{1} u_{3} - 1\\right)} {\\left(u_{2} u_{3} + 1\\right)} {\\left(u_{2} u_{3} - 1\\right)} {\\left(w + 1\\right)} {\\left(w - 1\\right)}}{{\\left(u_{1} u_{2} u_{3} + 1\\right)} {\\left(u_{1} u_{2} u_{3} - 1\\right)} {\\left(u_{1} + 1\\right)} {\\left(u_{1} - 1\\right)} {\\left(u_{2} + 1\\right)} {\\left(u_{2} - 1\\right)} {\\left(u_{3} + 1\\right)} {\\left(u_{3} - 1\\right)} w}</script></html>"
      ],
      "text/latex": [
       "$$\\newcommand{\\Bold}[1]{\\mathbf{#1}}\\frac{{\\left(u_{1} u_{2} + 1\\right)} {\\left(u_{1} u_{2} - 1\\right)} {\\left(u_{1} u_{3} + 1\\right)} {\\left(u_{1} u_{3} - 1\\right)} {\\left(u_{2} u_{3} + 1\\right)} {\\left(u_{2} u_{3} - 1\\right)} {\\left(w + 1\\right)} {\\left(w - 1\\right)}}{{\\left(u_{1} u_{2} u_{3} + 1\\right)} {\\left(u_{1} u_{2} u_{3} - 1\\right)} {\\left(u_{1} + 1\\right)} {\\left(u_{1} - 1\\right)} {\\left(u_{2} + 1\\right)} {\\left(u_{2} - 1\\right)} {\\left(u_{3} + 1\\right)} {\\left(u_{3} - 1\\right)} w}$$"
      ],
      "text/plain": [
       "(u1*u2 + 1)*(u1*u2 - 1)*(u1*u3 + 1)*(u1*u3 - 1)*(u2*u3 + 1)*(u2*u3 - 1)*(w + 1)*(w - 1)/((u1*u2*u3 + 1)*(u1*u2*u3 - 1)*(u1 + 1)*(u1 - 1)*(u2 + 1)*(u2 - 1)*(u3 + 1)*(u3 - 1)*w)"
      ]
     },
     "execution_count": 31,
     "metadata": {},
     "output_type": "execute_result"
    }
   ],
   "source": [
    "F1 = -(u1^2*u2^2-1)*(u1^2*u3^2-1)*(u2^2*u3^2-1)/((u1^2*u2^2*u3^2-1)*(u1^2-1)*(u2^2-1)*(u3^2-1))\n",
    "qq=Default4d.sqrtseries_ring.gen()\n",
    "\n",
    "def NekRHS2(weight,prec):\n",
    "    l = list(weight)\n",
    "    F2=0\n",
    "    for n in range(prec):\n",
    "        new_coeff = prod((w*l[i][1]^l[i][0])^(-n-1)-(w*l[i][1]^l[i][0])^(n+1) for i in range(len(l)))\n",
    "        F2+=new_coeff*qq^(n+1)\n",
    "    return F1*F2\n",
    "\n",
    "\n",
    "RHS2 = KTheory.plethexp(NekRHS2(sqrtWeight_inv,1),2)[1]\n",
    "pretty(RHS2)"
   ]
  },
  {
   "cell_type": "code",
   "execution_count": 32,
   "metadata": {},
   "outputs": [
    {
     "data": {
      "text/html": [
       "<html><script type=\"math/tex; mode=display\">\\newcommand{\\Bold}[1]{\\mathbf{#1}}\\mathrm{False}</script></html>"
      ],
      "text/latex": [
       "$$\\newcommand{\\Bold}[1]{\\mathbf{#1}}\\mathrm{False}$$"
      ],
      "text/plain": [
       "False"
      ]
     },
     "execution_count": 32,
     "metadata": {},
     "output_type": "execute_result"
    }
   ],
   "source": [
    "def NekCheck2(weight,n):\n",
    "    Weight_dual=()\n",
    "    for i in range(len(WeightTest)):\n",
    "        Weight_dual += (WeightTest[i]*-1,) \n",
    "    sqrtWeight_inv = Default4d.sqrtKT_ring(VectorBundle4d.character(EasyEx,Weight_dual).dict())\n",
    "    return list(KTheory.plethexp(NekRHS2(sqrtWeight_inv,n),n+1))[n] == Vertex4d.Nek(weight,n)\n",
    "\n",
    "NekCheck2(WeightTest,1)"
   ]
  },
  {
   "cell_type": "markdown",
   "metadata": {},
   "source": [
    "After multiple tests I did not find any nice formula for rank $>1$."
   ]
  },
  {
   "cell_type": "markdown",
   "metadata": {},
   "source": [
    "## Theorem 5.6 when $M=1$, $r$ odd"
   ]
  },
  {
   "cell_type": "markdown",
   "metadata": {},
   "source": [
    "We want to check\n",
    "$$\\sum_{n}I_n(\\alpha,y)q^n = U\\left[\\frac{(y-1)^2 u}{(y-u)^2}\\right]^{\\frac12\\int_Xc_1(\\alpha)c_3(X)} $$\n",
    "\n",
    "$$ q= \\frac{(u-1)u^b}{(y^{1/2}-y^{-1/2}u)^r}=\\frac{v(v+1)}{(y^{1/2}-y^{-1/2}-y^{-1/2}v)^3}$$\n",
    "for $r=2b+1=3$."
   ]
  },
  {
   "cell_type": "markdown",
   "metadata": {},
   "source": [
    "Use the fact \n",
    "$$\\log U(f(t))= \\sum_{n>0}\\sum_{l|n}{l^2}f_nt^n$$ \n",
    "where $\\log(f)=\\sum_{n>0} f_nt^n$. We have \n",
    "$$\\log \\frac{(y-1)^2 u}{(y-u)^2}=\\sum_{n>0}\\frac{2(u-1)^n}{n(y-1)^n}=\\sum_{n>0}\\frac{2v^n}{n(y-1)^n}$$\n",
    "so\n",
    "$$\\log U\\left[\\frac{(y-1)^2 u}{(y-u)^2}\\right]^{\\frac12\\int_Xc_1(\\alpha)c_3(X)}={\\frac12\\int_Xc_1(\\alpha)c_3(X)}\\sum_{n>0}\\sum_{l|n}l^2\\frac{2v^n}{n(y-1)^n}$$\n",
    "$$=-\\frac{(d_1\\lambda_1+...+d_3\\lambda_3)(\\lambda_1+\\lambda_2)(\\lambda_1+\\lambda_3)(\\lambda_2+\\lambda_3)}{\\lambda_1\\lambda_2\\lambda_3(\\lambda_1+\\lambda_2+\\lambda_3)}\\sum_{n>0}\\sum_{l|n}l^2\\frac{v^n}{n(y-1)^n}$$\n",
    "where $\\alpha$ is a $T$-equivar line bundle with weights $(d_1,d_2,d_3)$.\n",
    "Finally we can extract compare the two sides by exponentiating the above and substituting $q= \\frac{(u-1)u^b}{(y^{1/2}-y^{-1/2}u)^r}$."
   ]
  },
  {
   "cell_type": "code",
   "execution_count": 8,
   "metadata": {},
   "outputs": [
    {
     "data": {
      "text/html": [
       "<html><script type=\"math/tex; mode=display\">\\newcommand{\\Bold}[1]{\\mathbf{#1}}-\\frac{3 \\, {\\left(4 \\, t_{1} + 5 \\, t_{2} + 6 \\, t_{3}\\right)} {\\left(t_{1} + t_{2}\\right)} {\\left(t_{1} + t_{3}\\right)} {\\left(t_{2} + t_{3}\\right)}}{m {\\left(t_{1} + t_{2} + t_{3}\\right)} t_{1} t_{2} t_{3}}</script></html>"
      ],
      "text/latex": [
       "$$\\newcommand{\\Bold}[1]{\\mathbf{#1}}-\\frac{3 \\, {\\left(4 \\, t_{1} + 5 \\, t_{2} + 6 \\, t_{3}\\right)} {\\left(t_{1} + t_{2}\\right)} {\\left(t_{1} + t_{3}\\right)} {\\left(t_{2} + t_{3}\\right)}}{m {\\left(t_{1} + t_{2} + t_{3}\\right)} t_{1} t_{2} t_{3}}$$"
      ],
      "text/plain": [
       "-3*(4*t1 + 5*t2 + 6*t3)*(t1 + t2)*(t1 + t3)*(t2 + t3)/(m*(t1 + t2 + t3)*t1*t2*t3)"
      ]
     },
     "execution_count": 8,
     "metadata": {},
     "output_type": "execute_result"
    }
   ],
   "source": [
    "x1,x2,x3,x4,y,v=Default4d.KT_ring.gens()\n",
    "u1,u2,u3,u4,w,sqrtv = Default4d.sqrtKT_ring.gens()\n",
    "t1,t2,t3,t4,m,halfm = Default4d.coho_ring.gens()\n",
    "q=Default4d.cohoseries_ring.gen()\n",
    "\n",
    "WeightTest = (1,2,3,4,5,6,7,8,9)\n",
    "C1A=sum(WeightTest[3*i]*t1+WeightTest[3*i+1]*t2+WeightTest[3*i+2]*t3 for i in range(len(WeightTest)/3))\n",
    "\n",
    "\n",
    "def f_U(n):\n",
    "    new_y=sum(m^(k+1)/factorial(k+1) for k in range(1))\n",
    "    return q^n/(n*new_y^n)\n",
    "log_U = KTheory4d.log_universal_transformation(f_U,2)\n",
    "C3X = -(t1+t2)*(t1+t3)*(t2+t3)/((t1+t2+t3)*t1*t2*t3)\n",
    "pretty(KTheory4d.series_exp(log_U*C1A*C3X,2)[1])"
   ]
  },
  {
   "cell_type": "markdown",
   "metadata": {},
   "source": [
    "# Extracting Verlinde number from top $y$ degree of Nekrasov genus"
   ]
  },
  {
   "cell_type": "markdown",
   "metadata": {},
   "source": [
    "We know ($\\alpha$ vector bundle rank $a$)\n",
    "$$[y^{\\mp\\frac n2(2a+1)}]I_n(L_\\alpha\\oplus \\det(\\mathcal{O}_X^{[n]})^{\\oplus 2a},y)=V_n^{\\pm\\frac12}(\\alpha)$$"
   ]
  },
  {
   "cell_type": "markdown",
   "metadata": {},
   "source": [
    "where \n",
    "$$V_n^{\\frac12}(\\alpha)=\\sum_{|\\pi|=n}\\hat\\chi^\\text{vir}(\\text{det}^{\\frac12}(L_\\alpha^{[n]}|_Z)\\otimes \\det(\\mathcal{O}_X^{[n]})^a) $$\n",
    "$$=\\sum_{|\\pi|=n}\\text{ch}\\left(\\frac{\\wedge^\\bullet}{\\text{det}^{\\frac12}} \\sqrt{T^{\\text{vir}}|_Z}^\\vee\\right)\\text{ch}(\\text{det}^{\\frac12}(L_\\alpha^{[n]}|_Z)\\text{ch}(\\det(\\mathcal{O}_X^{[n]}))^a $$\n",
    "where $L_\\alpha=\\det(\\alpha)$."
   ]
  },
  {
   "cell_type": "markdown",
   "metadata": {},
   "source": [
    "First we compute square root Verlinde number."
   ]
  },
  {
   "cell_type": "code",
   "execution_count": 14,
   "metadata": {
    "scrolled": true
   },
   "outputs": [
    {
     "data": {
      "text/html": [
       "<html><script type=\"math/tex; mode=display\">\\newcommand{\\Bold}[1]{\\mathbf{#1}}\\frac{{\\left(u_{1}^{14} u_{2}^{14} u_{3}^{14} - u_{1}^{16} u_{2}^{12} u_{3}^{12} - u_{1}^{14} u_{2}^{14} u_{3}^{12} - u_{1}^{12} u_{2}^{16} u_{3}^{12} - u_{1}^{14} u_{2}^{12} u_{3}^{14} - u_{1}^{12} u_{2}^{14} u_{3}^{14} - u_{1}^{12} u_{2}^{12} u_{3}^{16} - u_{1}^{14} u_{2}^{14} u_{3}^{10} - u_{1}^{14} u_{2}^{10} u_{3}^{14} - u_{1}^{10} u_{2}^{14} u_{3}^{14} + u_{1}^{16} u_{2}^{12} u_{3}^{8} + u_{1}^{14} u_{2}^{14} u_{3}^{8} + u_{1}^{12} u_{2}^{16} u_{3}^{8} + u_{1}^{14} u_{2}^{12} u_{3}^{10} + u_{1}^{12} u_{2}^{14} u_{3}^{10} + u_{1}^{16} u_{2}^{8} u_{3}^{12} + u_{1}^{14} u_{2}^{10} u_{3}^{12} + 3 \\, u_{1}^{12} u_{2}^{12} u_{3}^{12} + u_{1}^{10} u_{2}^{14} u_{3}^{12} + u_{1}^{8} u_{2}^{16} u_{3}^{12} + u_{1}^{14} u_{2}^{8} u_{3}^{14} + u_{1}^{12} u_{2}^{10} u_{3}^{14} + u_{1}^{10} u_{2}^{12} u_{3}^{14} + u_{1}^{8} u_{2}^{14} u_{3}^{14} + u_{1}^{12} u_{2}^{8} u_{3}^{16} + u_{1}^{8} u_{2}^{12} u_{3}^{16} + u_{1}^{14} u_{2}^{10} u_{3}^{10} + 2 \\, u_{1}^{12} u_{2}^{12} u_{3}^{10} + u_{1}^{10} u_{2}^{14} u_{3}^{10} + 2 \\, u_{1}^{12} u_{2}^{10} u_{3}^{12} + 2 \\, u_{1}^{10} u_{2}^{12} u_{3}^{12} + u_{1}^{10} u_{2}^{10} u_{3}^{14} - u_{1}^{16} u_{2}^{8} u_{3}^{8} - u_{1}^{14} u_{2}^{10} u_{3}^{8} - 2 \\, u_{1}^{12} u_{2}^{12} u_{3}^{8} - u_{1}^{10} u_{2}^{14} u_{3}^{8} - u_{1}^{8} u_{2}^{16} u_{3}^{8} - u_{1}^{14} u_{2}^{8} u_{3}^{10} - 3 \\, u_{1}^{12} u_{2}^{10} u_{3}^{10} - 3 \\, u_{1}^{10} u_{2}^{12} u_{3}^{10} - u_{1}^{8} u_{2}^{14} u_{3}^{10} - 2 \\, u_{1}^{12} u_{2}^{8} u_{3}^{12} - 3 \\, u_{1}^{10} u_{2}^{10} u_{3}^{12} - 2 \\, u_{1}^{8} u_{2}^{12} u_{3}^{12} - u_{1}^{10} u_{2}^{8} u_{3}^{14} - u_{1}^{8} u_{2}^{10} u_{3}^{14} - u_{1}^{8} u_{2}^{8} u_{3}^{16} - u_{1}^{12} u_{2}^{12} u_{3}^{6} - u_{1}^{12} u_{2}^{10} u_{3}^{8} - u_{1}^{10} u_{2}^{12} u_{3}^{8} - u_{1}^{12} u_{2}^{8} u_{3}^{10} - u_{1}^{8} u_{2}^{12} u_{3}^{10} - u_{1}^{12} u_{2}^{6} u_{3}^{12} - u_{1}^{10} u_{2}^{8} u_{3}^{12} - u_{1}^{8} u_{2}^{10} u_{3}^{12} - u_{1}^{6} u_{2}^{12} u_{3}^{12} + u_{1}^{12} u_{2}^{10} u_{3}^{6} + u_{1}^{10} u_{2}^{12} u_{3}^{6} + u_{1}^{12} u_{2}^{8} u_{3}^{8} + u_{1}^{10} u_{2}^{10} u_{3}^{8} + u_{1}^{8} u_{2}^{12} u_{3}^{8} + u_{1}^{12} u_{2}^{6} u_{3}^{10} + u_{1}^{10} u_{2}^{8} u_{3}^{10} + u_{1}^{8} u_{2}^{10} u_{3}^{10} + u_{1}^{6} u_{2}^{12} u_{3}^{10} + u_{1}^{10} u_{2}^{6} u_{3}^{12} + u_{1}^{8} u_{2}^{8} u_{3}^{12} + u_{1}^{6} u_{2}^{10} u_{3}^{12} + u_{1}^{12} u_{2}^{8} u_{3}^{6} + 2 \\, u_{1}^{10} u_{2}^{10} u_{3}^{6} + u_{1}^{8} u_{2}^{12} u_{3}^{6} + u_{1}^{12} u_{2}^{6} u_{3}^{8} + 4 \\, u_{1}^{10} u_{2}^{8} u_{3}^{8} + 4 \\, u_{1}^{8} u_{2}^{10} u_{3}^{8} + u_{1}^{6} u_{2}^{12} u_{3}^{8} + 2 \\, u_{1}^{10} u_{2}^{6} u_{3}^{10} + 4 \\, u_{1}^{8} u_{2}^{8} u_{3}^{10} + 2 \\, u_{1}^{6} u_{2}^{10} u_{3}^{10} + u_{1}^{8} u_{2}^{6} u_{3}^{12} + u_{1}^{6} u_{2}^{8} u_{3}^{12} - u_{1}^{12} u_{2}^{8} u_{3}^{4} - u_{1}^{10} u_{2}^{10} u_{3}^{4} - u_{1}^{8} u_{2}^{12} u_{3}^{4} - u_{1}^{12} u_{2}^{6} u_{3}^{6} - 3 \\, u_{1}^{10} u_{2}^{8} u_{3}^{6} - 3 \\, u_{1}^{8} u_{2}^{10} u_{3}^{6} - u_{1}^{6} u_{2}^{12} u_{3}^{6} - u_{1}^{12} u_{2}^{4} u_{3}^{8} - 3 \\, u_{1}^{10} u_{2}^{6} u_{3}^{8} - 8 \\, u_{1}^{8} u_{2}^{8} u_{3}^{8} - 3 \\, u_{1}^{6} u_{2}^{10} u_{3}^{8} - u_{1}^{4} u_{2}^{12} u_{3}^{8} - u_{1}^{10} u_{2}^{4} u_{3}^{10} - 3 \\, u_{1}^{8} u_{2}^{6} u_{3}^{10} - 3 \\, u_{1}^{6} u_{2}^{8} u_{3}^{10} - u_{1}^{4} u_{2}^{10} u_{3}^{10} - u_{1}^{8} u_{2}^{4} u_{3}^{12} - u_{1}^{6} u_{2}^{6} u_{3}^{12} - u_{1}^{4} u_{2}^{8} u_{3}^{12} - u_{1}^{10} u_{2}^{6} u_{3}^{6} - u_{1}^{6} u_{2}^{10} u_{3}^{6} - u_{1}^{6} u_{2}^{6} u_{3}^{10} + u_{1}^{12} u_{2}^{4} u_{3}^{4} + u_{1}^{10} u_{2}^{6} u_{3}^{4} + 3 \\, u_{1}^{8} u_{2}^{8} u_{3}^{4} + u_{1}^{6} u_{2}^{10} u_{3}^{4} + u_{1}^{4} u_{2}^{12} u_{3}^{4} + u_{1}^{10} u_{2}^{4} u_{3}^{6} + u_{1}^{8} u_{2}^{6} u_{3}^{6} + u_{1}^{6} u_{2}^{8} u_{3}^{6} + u_{1}^{4} u_{2}^{10} u_{3}^{6} + 3 \\, u_{1}^{8} u_{2}^{4} u_{3}^{8} + u_{1}^{6} u_{2}^{6} u_{3}^{8} + 3 \\, u_{1}^{4} u_{2}^{8} u_{3}^{8} + u_{1}^{6} u_{2}^{4} u_{3}^{10} + u_{1}^{4} u_{2}^{6} u_{3}^{10} + u_{1}^{4} u_{2}^{4} u_{3}^{12} + u_{1}^{8} u_{2}^{8} u_{3}^{2} + 2 \\, u_{1}^{8} u_{2}^{6} u_{3}^{4} + 2 \\, u_{1}^{6} u_{2}^{8} u_{3}^{4} + 2 \\, u_{1}^{8} u_{2}^{4} u_{3}^{6} + 4 \\, u_{1}^{6} u_{2}^{6} u_{3}^{6} + 2 \\, u_{1}^{4} u_{2}^{8} u_{3}^{6} + u_{1}^{8} u_{2}^{2} u_{3}^{8} + 2 \\, u_{1}^{6} u_{2}^{4} u_{3}^{8} + 2 \\, u_{1}^{4} u_{2}^{6} u_{3}^{8} + u_{1}^{2} u_{2}^{8} u_{3}^{8} - u_{1}^{8} u_{2}^{6} u_{3}^{2} - u_{1}^{6} u_{2}^{8} u_{3}^{2} - 2 \\, u_{1}^{8} u_{2}^{4} u_{3}^{4} - 3 \\, u_{1}^{6} u_{2}^{6} u_{3}^{4} - 2 \\, u_{1}^{4} u_{2}^{8} u_{3}^{4} - u_{1}^{8} u_{2}^{2} u_{3}^{6} - 3 \\, u_{1}^{6} u_{2}^{4} u_{3}^{6} - 3 \\, u_{1}^{4} u_{2}^{6} u_{3}^{6} - u_{1}^{2} u_{2}^{8} u_{3}^{6} - u_{1}^{6} u_{2}^{2} u_{3}^{8} - 2 \\, u_{1}^{4} u_{2}^{4} u_{3}^{8} - u_{1}^{2} u_{2}^{6} u_{3}^{8} - u_{1}^{8} u_{2}^{4} u_{3}^{2} - u_{1}^{4} u_{2}^{8} u_{3}^{2} - u_{1}^{8} u_{2}^{2} u_{3}^{4} - u_{1}^{6} u_{2}^{4} u_{3}^{4} - u_{1}^{4} u_{2}^{6} u_{3}^{4} - u_{1}^{2} u_{2}^{8} u_{3}^{4} - u_{1}^{4} u_{2}^{4} u_{3}^{6} - u_{1}^{4} u_{2}^{2} u_{3}^{8} - u_{1}^{2} u_{2}^{4} u_{3}^{8} + u_{1}^{8} u_{2}^{2} u_{3}^{2} + u_{1}^{6} u_{2}^{4} u_{3}^{2} + u_{1}^{4} u_{2}^{6} u_{3}^{2} + u_{1}^{2} u_{2}^{8} u_{3}^{2} + u_{1}^{6} u_{2}^{2} u_{3}^{4} + u_{1}^{4} u_{2}^{4} u_{3}^{4} + u_{1}^{2} u_{2}^{6} u_{3}^{4} + u_{1}^{4} u_{2}^{2} u_{3}^{6} + u_{1}^{2} u_{2}^{4} u_{3}^{6} + u_{1}^{2} u_{2}^{2} u_{3}^{8} + u_{1}^{4} u_{2}^{4} u_{3}^{2} + u_{1}^{4} u_{2}^{2} u_{3}^{4} + u_{1}^{2} u_{2}^{4} u_{3}^{4} - u_{1}^{4} u_{2}^{4} - u_{1}^{4} u_{2}^{2} u_{3}^{2} - u_{1}^{2} u_{2}^{4} u_{3}^{2} - u_{1}^{4} u_{3}^{4} - u_{1}^{2} u_{2}^{2} u_{3}^{4} - u_{2}^{4} u_{3}^{4} + u_{1}^{4} + u_{2}^{4} + u_{3}^{4} - 1\\right)} {\\left(u_{1} u_{2} + 1\\right)} {\\left(u_{1} u_{2} - 1\\right)} {\\left(u_{1} u_{3} + 1\\right)} {\\left(u_{1} u_{3} - 1\\right)} {\\left(u_{2} u_{3} + 1\\right)} {\\left(u_{2} u_{3} - 1\\right)} u_{1}^{6} u_{2}^{10} u_{3}^{14}}{{\\left(u_{1}^{2} u_{2}^{2} u_{3}^{2} + 1\\right)} {\\left(u_{1} u_{2} u_{3} + 1\\right)}^{2} {\\left(u_{1} u_{2} u_{3} - 1\\right)}^{2} {\\left(u_{1}^{2} + 1\\right)} {\\left(u_{2}^{2} + 1\\right)} {\\left(u_{3}^{2} + 1\\right)} {\\left(u_{1} + 1\\right)}^{2} {\\left(u_{1} - 1\\right)}^{2} {\\left(u_{2} + 1\\right)}^{2} {\\left(u_{2} - 1\\right)}^{2} {\\left(u_{3} + 1\\right)}^{2} {\\left(u_{3} - 1\\right)}^{2}}</script></html>"
      ],
      "text/latex": [
       "$$\\newcommand{\\Bold}[1]{\\mathbf{#1}}\\frac{{\\left(u_{1}^{14} u_{2}^{14} u_{3}^{14} - u_{1}^{16} u_{2}^{12} u_{3}^{12} - u_{1}^{14} u_{2}^{14} u_{3}^{12} - u_{1}^{12} u_{2}^{16} u_{3}^{12} - u_{1}^{14} u_{2}^{12} u_{3}^{14} - u_{1}^{12} u_{2}^{14} u_{3}^{14} - u_{1}^{12} u_{2}^{12} u_{3}^{16} - u_{1}^{14} u_{2}^{14} u_{3}^{10} - u_{1}^{14} u_{2}^{10} u_{3}^{14} - u_{1}^{10} u_{2}^{14} u_{3}^{14} + u_{1}^{16} u_{2}^{12} u_{3}^{8} + u_{1}^{14} u_{2}^{14} u_{3}^{8} + u_{1}^{12} u_{2}^{16} u_{3}^{8} + u_{1}^{14} u_{2}^{12} u_{3}^{10} + u_{1}^{12} u_{2}^{14} u_{3}^{10} + u_{1}^{16} u_{2}^{8} u_{3}^{12} + u_{1}^{14} u_{2}^{10} u_{3}^{12} + 3 \\, u_{1}^{12} u_{2}^{12} u_{3}^{12} + u_{1}^{10} u_{2}^{14} u_{3}^{12} + u_{1}^{8} u_{2}^{16} u_{3}^{12} + u_{1}^{14} u_{2}^{8} u_{3}^{14} + u_{1}^{12} u_{2}^{10} u_{3}^{14} + u_{1}^{10} u_{2}^{12} u_{3}^{14} + u_{1}^{8} u_{2}^{14} u_{3}^{14} + u_{1}^{12} u_{2}^{8} u_{3}^{16} + u_{1}^{8} u_{2}^{12} u_{3}^{16} + u_{1}^{14} u_{2}^{10} u_{3}^{10} + 2 \\, u_{1}^{12} u_{2}^{12} u_{3}^{10} + u_{1}^{10} u_{2}^{14} u_{3}^{10} + 2 \\, u_{1}^{12} u_{2}^{10} u_{3}^{12} + 2 \\, u_{1}^{10} u_{2}^{12} u_{3}^{12} + u_{1}^{10} u_{2}^{10} u_{3}^{14} - u_{1}^{16} u_{2}^{8} u_{3}^{8} - u_{1}^{14} u_{2}^{10} u_{3}^{8} - 2 \\, u_{1}^{12} u_{2}^{12} u_{3}^{8} - u_{1}^{10} u_{2}^{14} u_{3}^{8} - u_{1}^{8} u_{2}^{16} u_{3}^{8} - u_{1}^{14} u_{2}^{8} u_{3}^{10} - 3 \\, u_{1}^{12} u_{2}^{10} u_{3}^{10} - 3 \\, u_{1}^{10} u_{2}^{12} u_{3}^{10} - u_{1}^{8} u_{2}^{14} u_{3}^{10} - 2 \\, u_{1}^{12} u_{2}^{8} u_{3}^{12} - 3 \\, u_{1}^{10} u_{2}^{10} u_{3}^{12} - 2 \\, u_{1}^{8} u_{2}^{12} u_{3}^{12} - u_{1}^{10} u_{2}^{8} u_{3}^{14} - u_{1}^{8} u_{2}^{10} u_{3}^{14} - u_{1}^{8} u_{2}^{8} u_{3}^{16} - u_{1}^{12} u_{2}^{12} u_{3}^{6} - u_{1}^{12} u_{2}^{10} u_{3}^{8} - u_{1}^{10} u_{2}^{12} u_{3}^{8} - u_{1}^{12} u_{2}^{8} u_{3}^{10} - u_{1}^{8} u_{2}^{12} u_{3}^{10} - u_{1}^{12} u_{2}^{6} u_{3}^{12} - u_{1}^{10} u_{2}^{8} u_{3}^{12} - u_{1}^{8} u_{2}^{10} u_{3}^{12} - u_{1}^{6} u_{2}^{12} u_{3}^{12} + u_{1}^{12} u_{2}^{10} u_{3}^{6} + u_{1}^{10} u_{2}^{12} u_{3}^{6} + u_{1}^{12} u_{2}^{8} u_{3}^{8} + u_{1}^{10} u_{2}^{10} u_{3}^{8} + u_{1}^{8} u_{2}^{12} u_{3}^{8} + u_{1}^{12} u_{2}^{6} u_{3}^{10} + u_{1}^{10} u_{2}^{8} u_{3}^{10} + u_{1}^{8} u_{2}^{10} u_{3}^{10} + u_{1}^{6} u_{2}^{12} u_{3}^{10} + u_{1}^{10} u_{2}^{6} u_{3}^{12} + u_{1}^{8} u_{2}^{8} u_{3}^{12} + u_{1}^{6} u_{2}^{10} u_{3}^{12} + u_{1}^{12} u_{2}^{8} u_{3}^{6} + 2 \\, u_{1}^{10} u_{2}^{10} u_{3}^{6} + u_{1}^{8} u_{2}^{12} u_{3}^{6} + u_{1}^{12} u_{2}^{6} u_{3}^{8} + 4 \\, u_{1}^{10} u_{2}^{8} u_{3}^{8} + 4 \\, u_{1}^{8} u_{2}^{10} u_{3}^{8} + u_{1}^{6} u_{2}^{12} u_{3}^{8} + 2 \\, u_{1}^{10} u_{2}^{6} u_{3}^{10} + 4 \\, u_{1}^{8} u_{2}^{8} u_{3}^{10} + 2 \\, u_{1}^{6} u_{2}^{10} u_{3}^{10} + u_{1}^{8} u_{2}^{6} u_{3}^{12} + u_{1}^{6} u_{2}^{8} u_{3}^{12} - u_{1}^{12} u_{2}^{8} u_{3}^{4} - u_{1}^{10} u_{2}^{10} u_{3}^{4} - u_{1}^{8} u_{2}^{12} u_{3}^{4} - u_{1}^{12} u_{2}^{6} u_{3}^{6} - 3 \\, u_{1}^{10} u_{2}^{8} u_{3}^{6} - 3 \\, u_{1}^{8} u_{2}^{10} u_{3}^{6} - u_{1}^{6} u_{2}^{12} u_{3}^{6} - u_{1}^{12} u_{2}^{4} u_{3}^{8} - 3 \\, u_{1}^{10} u_{2}^{6} u_{3}^{8} - 8 \\, u_{1}^{8} u_{2}^{8} u_{3}^{8} - 3 \\, u_{1}^{6} u_{2}^{10} u_{3}^{8} - u_{1}^{4} u_{2}^{12} u_{3}^{8} - u_{1}^{10} u_{2}^{4} u_{3}^{10} - 3 \\, u_{1}^{8} u_{2}^{6} u_{3}^{10} - 3 \\, u_{1}^{6} u_{2}^{8} u_{3}^{10} - u_{1}^{4} u_{2}^{10} u_{3}^{10} - u_{1}^{8} u_{2}^{4} u_{3}^{12} - u_{1}^{6} u_{2}^{6} u_{3}^{12} - u_{1}^{4} u_{2}^{8} u_{3}^{12} - u_{1}^{10} u_{2}^{6} u_{3}^{6} - u_{1}^{6} u_{2}^{10} u_{3}^{6} - u_{1}^{6} u_{2}^{6} u_{3}^{10} + u_{1}^{12} u_{2}^{4} u_{3}^{4} + u_{1}^{10} u_{2}^{6} u_{3}^{4} + 3 \\, u_{1}^{8} u_{2}^{8} u_{3}^{4} + u_{1}^{6} u_{2}^{10} u_{3}^{4} + u_{1}^{4} u_{2}^{12} u_{3}^{4} + u_{1}^{10} u_{2}^{4} u_{3}^{6} + u_{1}^{8} u_{2}^{6} u_{3}^{6} + u_{1}^{6} u_{2}^{8} u_{3}^{6} + u_{1}^{4} u_{2}^{10} u_{3}^{6} + 3 \\, u_{1}^{8} u_{2}^{4} u_{3}^{8} + u_{1}^{6} u_{2}^{6} u_{3}^{8} + 3 \\, u_{1}^{4} u_{2}^{8} u_{3}^{8} + u_{1}^{6} u_{2}^{4} u_{3}^{10} + u_{1}^{4} u_{2}^{6} u_{3}^{10} + u_{1}^{4} u_{2}^{4} u_{3}^{12} + u_{1}^{8} u_{2}^{8} u_{3}^{2} + 2 \\, u_{1}^{8} u_{2}^{6} u_{3}^{4} + 2 \\, u_{1}^{6} u_{2}^{8} u_{3}^{4} + 2 \\, u_{1}^{8} u_{2}^{4} u_{3}^{6} + 4 \\, u_{1}^{6} u_{2}^{6} u_{3}^{6} + 2 \\, u_{1}^{4} u_{2}^{8} u_{3}^{6} + u_{1}^{8} u_{2}^{2} u_{3}^{8} + 2 \\, u_{1}^{6} u_{2}^{4} u_{3}^{8} + 2 \\, u_{1}^{4} u_{2}^{6} u_{3}^{8} + u_{1}^{2} u_{2}^{8} u_{3}^{8} - u_{1}^{8} u_{2}^{6} u_{3}^{2} - u_{1}^{6} u_{2}^{8} u_{3}^{2} - 2 \\, u_{1}^{8} u_{2}^{4} u_{3}^{4} - 3 \\, u_{1}^{6} u_{2}^{6} u_{3}^{4} - 2 \\, u_{1}^{4} u_{2}^{8} u_{3}^{4} - u_{1}^{8} u_{2}^{2} u_{3}^{6} - 3 \\, u_{1}^{6} u_{2}^{4} u_{3}^{6} - 3 \\, u_{1}^{4} u_{2}^{6} u_{3}^{6} - u_{1}^{2} u_{2}^{8} u_{3}^{6} - u_{1}^{6} u_{2}^{2} u_{3}^{8} - 2 \\, u_{1}^{4} u_{2}^{4} u_{3}^{8} - u_{1}^{2} u_{2}^{6} u_{3}^{8} - u_{1}^{8} u_{2}^{4} u_{3}^{2} - u_{1}^{4} u_{2}^{8} u_{3}^{2} - u_{1}^{8} u_{2}^{2} u_{3}^{4} - u_{1}^{6} u_{2}^{4} u_{3}^{4} - u_{1}^{4} u_{2}^{6} u_{3}^{4} - u_{1}^{2} u_{2}^{8} u_{3}^{4} - u_{1}^{4} u_{2}^{4} u_{3}^{6} - u_{1}^{4} u_{2}^{2} u_{3}^{8} - u_{1}^{2} u_{2}^{4} u_{3}^{8} + u_{1}^{8} u_{2}^{2} u_{3}^{2} + u_{1}^{6} u_{2}^{4} u_{3}^{2} + u_{1}^{4} u_{2}^{6} u_{3}^{2} + u_{1}^{2} u_{2}^{8} u_{3}^{2} + u_{1}^{6} u_{2}^{2} u_{3}^{4} + u_{1}^{4} u_{2}^{4} u_{3}^{4} + u_{1}^{2} u_{2}^{6} u_{3}^{4} + u_{1}^{4} u_{2}^{2} u_{3}^{6} + u_{1}^{2} u_{2}^{4} u_{3}^{6} + u_{1}^{2} u_{2}^{2} u_{3}^{8} + u_{1}^{4} u_{2}^{4} u_{3}^{2} + u_{1}^{4} u_{2}^{2} u_{3}^{4} + u_{1}^{2} u_{2}^{4} u_{3}^{4} - u_{1}^{4} u_{2}^{4} - u_{1}^{4} u_{2}^{2} u_{3}^{2} - u_{1}^{2} u_{2}^{4} u_{3}^{2} - u_{1}^{4} u_{3}^{4} - u_{1}^{2} u_{2}^{2} u_{3}^{4} - u_{2}^{4} u_{3}^{4} + u_{1}^{4} + u_{2}^{4} + u_{3}^{4} - 1\\right)} {\\left(u_{1} u_{2} + 1\\right)} {\\left(u_{1} u_{2} - 1\\right)} {\\left(u_{1} u_{3} + 1\\right)} {\\left(u_{1} u_{3} - 1\\right)} {\\left(u_{2} u_{3} + 1\\right)} {\\left(u_{2} u_{3} - 1\\right)} u_{1}^{6} u_{2}^{10} u_{3}^{14}}{{\\left(u_{1}^{2} u_{2}^{2} u_{3}^{2} + 1\\right)} {\\left(u_{1} u_{2} u_{3} + 1\\right)}^{2} {\\left(u_{1} u_{2} u_{3} - 1\\right)}^{2} {\\left(u_{1}^{2} + 1\\right)} {\\left(u_{2}^{2} + 1\\right)} {\\left(u_{3}^{2} + 1\\right)} {\\left(u_{1} + 1\\right)}^{2} {\\left(u_{1} - 1\\right)}^{2} {\\left(u_{2} + 1\\right)}^{2} {\\left(u_{2} - 1\\right)}^{2} {\\left(u_{3} + 1\\right)}^{2} {\\left(u_{3} - 1\\right)}^{2}}$$"
      ],
      "text/plain": [
       "(u1^14*u2^14*u3^14 - u1^16*u2^12*u3^12 - u1^14*u2^14*u3^12 - u1^12*u2^16*u3^12 - u1^14*u2^12*u3^14 - u1^12*u2^14*u3^14 - u1^12*u2^12*u3^16 - u1^14*u2^14*u3^10 - u1^14*u2^10*u3^14 - u1^10*u2^14*u3^14 + u1^16*u2^12*u3^8 + u1^14*u2^14*u3^8 + u1^12*u2^16*u3^8 + u1^14*u2^12*u3^10 + u1^12*u2^14*u3^10 + u1^16*u2^8*u3^12 + u1^14*u2^10*u3^12 + 3*u1^12*u2^12*u3^12 + u1^10*u2^14*u3^12 + u1^8*u2^16*u3^12 + u1^14*u2^8*u3^14 + u1^12*u2^10*u3^14 + u1^10*u2^12*u3^14 + u1^8*u2^14*u3^14 + u1^12*u2^8*u3^16 + u1^8*u2^12*u3^16 + u1^14*u2^10*u3^10 + 2*u1^12*u2^12*u3^10 + u1^10*u2^14*u3^10 + 2*u1^12*u2^10*u3^12 + 2*u1^10*u2^12*u3^12 + u1^10*u2^10*u3^14 - u1^16*u2^8*u3^8 - u1^14*u2^10*u3^8 - 2*u1^12*u2^12*u3^8 - u1^10*u2^14*u3^8 - u1^8*u2^16*u3^8 - u1^14*u2^8*u3^10 - 3*u1^12*u2^10*u3^10 - 3*u1^10*u2^12*u3^10 - u1^8*u2^14*u3^10 - 2*u1^12*u2^8*u3^12 - 3*u1^10*u2^10*u3^12 - 2*u1^8*u2^12*u3^12 - u1^10*u2^8*u3^14 - u1^8*u2^10*u3^14 - u1^8*u2^8*u3^16 - u1^12*u2^12*u3^6 - u1^12*u2^10*u3^8 - u1^10*u2^12*u3^8 - u1^12*u2^8*u3^10 - u1^8*u2^12*u3^10 - u1^12*u2^6*u3^12 - u1^10*u2^8*u3^12 - u1^8*u2^10*u3^12 - u1^6*u2^12*u3^12 + u1^12*u2^10*u3^6 + u1^10*u2^12*u3^6 + u1^12*u2^8*u3^8 + u1^10*u2^10*u3^8 + u1^8*u2^12*u3^8 + u1^12*u2^6*u3^10 + u1^10*u2^8*u3^10 + u1^8*u2^10*u3^10 + u1^6*u2^12*u3^10 + u1^10*u2^6*u3^12 + u1^8*u2^8*u3^12 + u1^6*u2^10*u3^12 + u1^12*u2^8*u3^6 + 2*u1^10*u2^10*u3^6 + u1^8*u2^12*u3^6 + u1^12*u2^6*u3^8 + 4*u1^10*u2^8*u3^8 + 4*u1^8*u2^10*u3^8 + u1^6*u2^12*u3^8 + 2*u1^10*u2^6*u3^10 + 4*u1^8*u2^8*u3^10 + 2*u1^6*u2^10*u3^10 + u1^8*u2^6*u3^12 + u1^6*u2^8*u3^12 - u1^12*u2^8*u3^4 - u1^10*u2^10*u3^4 - u1^8*u2^12*u3^4 - u1^12*u2^6*u3^6 - 3*u1^10*u2^8*u3^6 - 3*u1^8*u2^10*u3^6 - u1^6*u2^12*u3^6 - u1^12*u2^4*u3^8 - 3*u1^10*u2^6*u3^8 - 8*u1^8*u2^8*u3^8 - 3*u1^6*u2^10*u3^8 - u1^4*u2^12*u3^8 - u1^10*u2^4*u3^10 - 3*u1^8*u2^6*u3^10 - 3*u1^6*u2^8*u3^10 - u1^4*u2^10*u3^10 - u1^8*u2^4*u3^12 - u1^6*u2^6*u3^12 - u1^4*u2^8*u3^12 - u1^10*u2^6*u3^6 - u1^6*u2^10*u3^6 - u1^6*u2^6*u3^10 + u1^12*u2^4*u3^4 + u1^10*u2^6*u3^4 + 3*u1^8*u2^8*u3^4 + u1^6*u2^10*u3^4 + u1^4*u2^12*u3^4 + u1^10*u2^4*u3^6 + u1^8*u2^6*u3^6 + u1^6*u2^8*u3^6 + u1^4*u2^10*u3^6 + 3*u1^8*u2^4*u3^8 + u1^6*u2^6*u3^8 + 3*u1^4*u2^8*u3^8 + u1^6*u2^4*u3^10 + u1^4*u2^6*u3^10 + u1^4*u2^4*u3^12 + u1^8*u2^8*u3^2 + 2*u1^8*u2^6*u3^4 + 2*u1^6*u2^8*u3^4 + 2*u1^8*u2^4*u3^6 + 4*u1^6*u2^6*u3^6 + 2*u1^4*u2^8*u3^6 + u1^8*u2^2*u3^8 + 2*u1^6*u2^4*u3^8 + 2*u1^4*u2^6*u3^8 + u1^2*u2^8*u3^8 - u1^8*u2^6*u3^2 - u1^6*u2^8*u3^2 - 2*u1^8*u2^4*u3^4 - 3*u1^6*u2^6*u3^4 - 2*u1^4*u2^8*u3^4 - u1^8*u2^2*u3^6 - 3*u1^6*u2^4*u3^6 - 3*u1^4*u2^6*u3^6 - u1^2*u2^8*u3^6 - u1^6*u2^2*u3^8 - 2*u1^4*u2^4*u3^8 - u1^2*u2^6*u3^8 - u1^8*u2^4*u3^2 - u1^4*u2^8*u3^2 - u1^8*u2^2*u3^4 - u1^6*u2^4*u3^4 - u1^4*u2^6*u3^4 - u1^2*u2^8*u3^4 - u1^4*u2^4*u3^6 - u1^4*u2^2*u3^8 - u1^2*u2^4*u3^8 + u1^8*u2^2*u3^2 + u1^6*u2^4*u3^2 + u1^4*u2^6*u3^2 + u1^2*u2^8*u3^2 + u1^6*u2^2*u3^4 + u1^4*u2^4*u3^4 + u1^2*u2^6*u3^4 + u1^4*u2^2*u3^6 + u1^2*u2^4*u3^6 + u1^2*u2^2*u3^8 + u1^4*u2^4*u3^2 + u1^4*u2^2*u3^4 + u1^2*u2^4*u3^4 - u1^4*u2^4 - u1^4*u2^2*u3^2 - u1^2*u2^4*u3^2 - u1^4*u3^4 - u1^2*u2^2*u3^4 - u2^4*u3^4 + u1^4 + u2^4 + u3^4 - 1)*(u1*u2 + 1)*(u1*u2 - 1)*(u1*u3 + 1)*(u1*u3 - 1)*(u2*u3 + 1)*(u2*u3 - 1)*u1^6*u2^10*u3^14/((u1^2*u2^2*u3^2 + 1)*(u1*u2*u3 + 1)^2*(u1*u2*u3 - 1)^2*(u1^2 + 1)*(u2^2 + 1)*(u3^2 + 1)*(u1 + 1)^2*(u1 - 1)^2*(u2 + 1)^2*(u2 - 1)^2*(u3 + 1)^2*(u3 - 1)^2)"
      ]
     },
     "execution_count": 14,
     "metadata": {},
     "output_type": "execute_result"
    }
   ],
   "source": [
    "Weight = (1,2,3,4,5,6)\n",
    "pretty(Vertex4d.sqrtVerlinde(Weight,2))"
   ]
  },
  {
   "cell_type": "markdown",
   "metadata": {},
   "source": [
    "\n",
    "\n",
    "On the other hand, we take the lowest degree in $y$ for the Nekrasov genus, and get"
   ]
  },
  {
   "cell_type": "code",
   "execution_count": 13,
   "metadata": {
    "scrolled": false
   },
   "outputs": [
    {
     "data": {
      "text/html": [
       "<html><script type=\"math/tex; mode=display\">\\newcommand{\\Bold}[1]{\\mathbf{#1}}\\frac{{\\left(u_{1}^{14} u_{2}^{14} u_{3}^{14} - u_{1}^{16} u_{2}^{12} u_{3}^{12} - u_{1}^{14} u_{2}^{14} u_{3}^{12} - u_{1}^{12} u_{2}^{16} u_{3}^{12} - u_{1}^{14} u_{2}^{12} u_{3}^{14} - u_{1}^{12} u_{2}^{14} u_{3}^{14} - u_{1}^{12} u_{2}^{12} u_{3}^{16} - u_{1}^{14} u_{2}^{14} u_{3}^{10} - u_{1}^{14} u_{2}^{10} u_{3}^{14} - u_{1}^{10} u_{2}^{14} u_{3}^{14} + u_{1}^{16} u_{2}^{12} u_{3}^{8} + u_{1}^{14} u_{2}^{14} u_{3}^{8} + u_{1}^{12} u_{2}^{16} u_{3}^{8} + u_{1}^{14} u_{2}^{12} u_{3}^{10} + u_{1}^{12} u_{2}^{14} u_{3}^{10} + u_{1}^{16} u_{2}^{8} u_{3}^{12} + u_{1}^{14} u_{2}^{10} u_{3}^{12} + 3 \\, u_{1}^{12} u_{2}^{12} u_{3}^{12} + u_{1}^{10} u_{2}^{14} u_{3}^{12} + u_{1}^{8} u_{2}^{16} u_{3}^{12} + u_{1}^{14} u_{2}^{8} u_{3}^{14} + u_{1}^{12} u_{2}^{10} u_{3}^{14} + u_{1}^{10} u_{2}^{12} u_{3}^{14} + u_{1}^{8} u_{2}^{14} u_{3}^{14} + u_{1}^{12} u_{2}^{8} u_{3}^{16} + u_{1}^{8} u_{2}^{12} u_{3}^{16} + u_{1}^{14} u_{2}^{10} u_{3}^{10} + 2 \\, u_{1}^{12} u_{2}^{12} u_{3}^{10} + u_{1}^{10} u_{2}^{14} u_{3}^{10} + 2 \\, u_{1}^{12} u_{2}^{10} u_{3}^{12} + 2 \\, u_{1}^{10} u_{2}^{12} u_{3}^{12} + u_{1}^{10} u_{2}^{10} u_{3}^{14} - u_{1}^{16} u_{2}^{8} u_{3}^{8} - u_{1}^{14} u_{2}^{10} u_{3}^{8} - 2 \\, u_{1}^{12} u_{2}^{12} u_{3}^{8} - u_{1}^{10} u_{2}^{14} u_{3}^{8} - u_{1}^{8} u_{2}^{16} u_{3}^{8} - u_{1}^{14} u_{2}^{8} u_{3}^{10} - 3 \\, u_{1}^{12} u_{2}^{10} u_{3}^{10} - 3 \\, u_{1}^{10} u_{2}^{12} u_{3}^{10} - u_{1}^{8} u_{2}^{14} u_{3}^{10} - 2 \\, u_{1}^{12} u_{2}^{8} u_{3}^{12} - 3 \\, u_{1}^{10} u_{2}^{10} u_{3}^{12} - 2 \\, u_{1}^{8} u_{2}^{12} u_{3}^{12} - u_{1}^{10} u_{2}^{8} u_{3}^{14} - u_{1}^{8} u_{2}^{10} u_{3}^{14} - u_{1}^{8} u_{2}^{8} u_{3}^{16} - u_{1}^{12} u_{2}^{12} u_{3}^{6} - u_{1}^{12} u_{2}^{10} u_{3}^{8} - u_{1}^{10} u_{2}^{12} u_{3}^{8} - u_{1}^{12} u_{2}^{8} u_{3}^{10} - u_{1}^{8} u_{2}^{12} u_{3}^{10} - u_{1}^{12} u_{2}^{6} u_{3}^{12} - u_{1}^{10} u_{2}^{8} u_{3}^{12} - u_{1}^{8} u_{2}^{10} u_{3}^{12} - u_{1}^{6} u_{2}^{12} u_{3}^{12} + u_{1}^{12} u_{2}^{10} u_{3}^{6} + u_{1}^{10} u_{2}^{12} u_{3}^{6} + u_{1}^{12} u_{2}^{8} u_{3}^{8} + u_{1}^{10} u_{2}^{10} u_{3}^{8} + u_{1}^{8} u_{2}^{12} u_{3}^{8} + u_{1}^{12} u_{2}^{6} u_{3}^{10} + u_{1}^{10} u_{2}^{8} u_{3}^{10} + u_{1}^{8} u_{2}^{10} u_{3}^{10} + u_{1}^{6} u_{2}^{12} u_{3}^{10} + u_{1}^{10} u_{2}^{6} u_{3}^{12} + u_{1}^{8} u_{2}^{8} u_{3}^{12} + u_{1}^{6} u_{2}^{10} u_{3}^{12} + u_{1}^{12} u_{2}^{8} u_{3}^{6} + 2 \\, u_{1}^{10} u_{2}^{10} u_{3}^{6} + u_{1}^{8} u_{2}^{12} u_{3}^{6} + u_{1}^{12} u_{2}^{6} u_{3}^{8} + 4 \\, u_{1}^{10} u_{2}^{8} u_{3}^{8} + 4 \\, u_{1}^{8} u_{2}^{10} u_{3}^{8} + u_{1}^{6} u_{2}^{12} u_{3}^{8} + 2 \\, u_{1}^{10} u_{2}^{6} u_{3}^{10} + 4 \\, u_{1}^{8} u_{2}^{8} u_{3}^{10} + 2 \\, u_{1}^{6} u_{2}^{10} u_{3}^{10} + u_{1}^{8} u_{2}^{6} u_{3}^{12} + u_{1}^{6} u_{2}^{8} u_{3}^{12} - u_{1}^{12} u_{2}^{8} u_{3}^{4} - u_{1}^{10} u_{2}^{10} u_{3}^{4} - u_{1}^{8} u_{2}^{12} u_{3}^{4} - u_{1}^{12} u_{2}^{6} u_{3}^{6} - 3 \\, u_{1}^{10} u_{2}^{8} u_{3}^{6} - 3 \\, u_{1}^{8} u_{2}^{10} u_{3}^{6} - u_{1}^{6} u_{2}^{12} u_{3}^{6} - u_{1}^{12} u_{2}^{4} u_{3}^{8} - 3 \\, u_{1}^{10} u_{2}^{6} u_{3}^{8} - 8 \\, u_{1}^{8} u_{2}^{8} u_{3}^{8} - 3 \\, u_{1}^{6} u_{2}^{10} u_{3}^{8} - u_{1}^{4} u_{2}^{12} u_{3}^{8} - u_{1}^{10} u_{2}^{4} u_{3}^{10} - 3 \\, u_{1}^{8} u_{2}^{6} u_{3}^{10} - 3 \\, u_{1}^{6} u_{2}^{8} u_{3}^{10} - u_{1}^{4} u_{2}^{10} u_{3}^{10} - u_{1}^{8} u_{2}^{4} u_{3}^{12} - u_{1}^{6} u_{2}^{6} u_{3}^{12} - u_{1}^{4} u_{2}^{8} u_{3}^{12} - u_{1}^{10} u_{2}^{6} u_{3}^{6} - u_{1}^{6} u_{2}^{10} u_{3}^{6} - u_{1}^{6} u_{2}^{6} u_{3}^{10} + u_{1}^{12} u_{2}^{4} u_{3}^{4} + u_{1}^{10} u_{2}^{6} u_{3}^{4} + 3 \\, u_{1}^{8} u_{2}^{8} u_{3}^{4} + u_{1}^{6} u_{2}^{10} u_{3}^{4} + u_{1}^{4} u_{2}^{12} u_{3}^{4} + u_{1}^{10} u_{2}^{4} u_{3}^{6} + u_{1}^{8} u_{2}^{6} u_{3}^{6} + u_{1}^{6} u_{2}^{8} u_{3}^{6} + u_{1}^{4} u_{2}^{10} u_{3}^{6} + 3 \\, u_{1}^{8} u_{2}^{4} u_{3}^{8} + u_{1}^{6} u_{2}^{6} u_{3}^{8} + 3 \\, u_{1}^{4} u_{2}^{8} u_{3}^{8} + u_{1}^{6} u_{2}^{4} u_{3}^{10} + u_{1}^{4} u_{2}^{6} u_{3}^{10} + u_{1}^{4} u_{2}^{4} u_{3}^{12} + u_{1}^{8} u_{2}^{8} u_{3}^{2} + 2 \\, u_{1}^{8} u_{2}^{6} u_{3}^{4} + 2 \\, u_{1}^{6} u_{2}^{8} u_{3}^{4} + 2 \\, u_{1}^{8} u_{2}^{4} u_{3}^{6} + 4 \\, u_{1}^{6} u_{2}^{6} u_{3}^{6} + 2 \\, u_{1}^{4} u_{2}^{8} u_{3}^{6} + u_{1}^{8} u_{2}^{2} u_{3}^{8} + 2 \\, u_{1}^{6} u_{2}^{4} u_{3}^{8} + 2 \\, u_{1}^{4} u_{2}^{6} u_{3}^{8} + u_{1}^{2} u_{2}^{8} u_{3}^{8} - u_{1}^{8} u_{2}^{6} u_{3}^{2} - u_{1}^{6} u_{2}^{8} u_{3}^{2} - 2 \\, u_{1}^{8} u_{2}^{4} u_{3}^{4} - 3 \\, u_{1}^{6} u_{2}^{6} u_{3}^{4} - 2 \\, u_{1}^{4} u_{2}^{8} u_{3}^{4} - u_{1}^{8} u_{2}^{2} u_{3}^{6} - 3 \\, u_{1}^{6} u_{2}^{4} u_{3}^{6} - 3 \\, u_{1}^{4} u_{2}^{6} u_{3}^{6} - u_{1}^{2} u_{2}^{8} u_{3}^{6} - u_{1}^{6} u_{2}^{2} u_{3}^{8} - 2 \\, u_{1}^{4} u_{2}^{4} u_{3}^{8} - u_{1}^{2} u_{2}^{6} u_{3}^{8} - u_{1}^{8} u_{2}^{4} u_{3}^{2} - u_{1}^{4} u_{2}^{8} u_{3}^{2} - u_{1}^{8} u_{2}^{2} u_{3}^{4} - u_{1}^{6} u_{2}^{4} u_{3}^{4} - u_{1}^{4} u_{2}^{6} u_{3}^{4} - u_{1}^{2} u_{2}^{8} u_{3}^{4} - u_{1}^{4} u_{2}^{4} u_{3}^{6} - u_{1}^{4} u_{2}^{2} u_{3}^{8} - u_{1}^{2} u_{2}^{4} u_{3}^{8} + u_{1}^{8} u_{2}^{2} u_{3}^{2} + u_{1}^{6} u_{2}^{4} u_{3}^{2} + u_{1}^{4} u_{2}^{6} u_{3}^{2} + u_{1}^{2} u_{2}^{8} u_{3}^{2} + u_{1}^{6} u_{2}^{2} u_{3}^{4} + u_{1}^{4} u_{2}^{4} u_{3}^{4} + u_{1}^{2} u_{2}^{6} u_{3}^{4} + u_{1}^{4} u_{2}^{2} u_{3}^{6} + u_{1}^{2} u_{2}^{4} u_{3}^{6} + u_{1}^{2} u_{2}^{2} u_{3}^{8} + u_{1}^{4} u_{2}^{4} u_{3}^{2} + u_{1}^{4} u_{2}^{2} u_{3}^{4} + u_{1}^{2} u_{2}^{4} u_{3}^{4} - u_{1}^{4} u_{2}^{4} - u_{1}^{4} u_{2}^{2} u_{3}^{2} - u_{1}^{2} u_{2}^{4} u_{3}^{2} - u_{1}^{4} u_{3}^{4} - u_{1}^{2} u_{2}^{2} u_{3}^{4} - u_{2}^{4} u_{3}^{4} + u_{1}^{4} + u_{2}^{4} + u_{3}^{4} - 1\\right)} {\\left(u_{1} u_{2} + 1\\right)} {\\left(u_{1} u_{2} - 1\\right)} {\\left(u_{1} u_{3} + 1\\right)} {\\left(u_{1} u_{3} - 1\\right)} {\\left(u_{2} u_{3} + 1\\right)} {\\left(u_{2} u_{3} - 1\\right)} u_{1}^{6} u_{2}^{10} u_{3}^{14}}{{\\left(u_{1}^{2} u_{2}^{2} u_{3}^{2} + 1\\right)} {\\left(u_{1} u_{2} u_{3} + 1\\right)}^{2} {\\left(u_{1} u_{2} u_{3} - 1\\right)}^{2} {\\left(u_{1}^{2} + 1\\right)} {\\left(u_{2}^{2} + 1\\right)} {\\left(u_{3}^{2} + 1\\right)} {\\left(u_{1} + 1\\right)}^{2} {\\left(u_{1} - 1\\right)}^{2} {\\left(u_{2} + 1\\right)}^{2} {\\left(u_{2} - 1\\right)}^{2} {\\left(u_{3} + 1\\right)}^{2} {\\left(u_{3} - 1\\right)}^{2}}</script></html>"
      ],
      "text/latex": [
       "$$\\newcommand{\\Bold}[1]{\\mathbf{#1}}\\frac{{\\left(u_{1}^{14} u_{2}^{14} u_{3}^{14} - u_{1}^{16} u_{2}^{12} u_{3}^{12} - u_{1}^{14} u_{2}^{14} u_{3}^{12} - u_{1}^{12} u_{2}^{16} u_{3}^{12} - u_{1}^{14} u_{2}^{12} u_{3}^{14} - u_{1}^{12} u_{2}^{14} u_{3}^{14} - u_{1}^{12} u_{2}^{12} u_{3}^{16} - u_{1}^{14} u_{2}^{14} u_{3}^{10} - u_{1}^{14} u_{2}^{10} u_{3}^{14} - u_{1}^{10} u_{2}^{14} u_{3}^{14} + u_{1}^{16} u_{2}^{12} u_{3}^{8} + u_{1}^{14} u_{2}^{14} u_{3}^{8} + u_{1}^{12} u_{2}^{16} u_{3}^{8} + u_{1}^{14} u_{2}^{12} u_{3}^{10} + u_{1}^{12} u_{2}^{14} u_{3}^{10} + u_{1}^{16} u_{2}^{8} u_{3}^{12} + u_{1}^{14} u_{2}^{10} u_{3}^{12} + 3 \\, u_{1}^{12} u_{2}^{12} u_{3}^{12} + u_{1}^{10} u_{2}^{14} u_{3}^{12} + u_{1}^{8} u_{2}^{16} u_{3}^{12} + u_{1}^{14} u_{2}^{8} u_{3}^{14} + u_{1}^{12} u_{2}^{10} u_{3}^{14} + u_{1}^{10} u_{2}^{12} u_{3}^{14} + u_{1}^{8} u_{2}^{14} u_{3}^{14} + u_{1}^{12} u_{2}^{8} u_{3}^{16} + u_{1}^{8} u_{2}^{12} u_{3}^{16} + u_{1}^{14} u_{2}^{10} u_{3}^{10} + 2 \\, u_{1}^{12} u_{2}^{12} u_{3}^{10} + u_{1}^{10} u_{2}^{14} u_{3}^{10} + 2 \\, u_{1}^{12} u_{2}^{10} u_{3}^{12} + 2 \\, u_{1}^{10} u_{2}^{12} u_{3}^{12} + u_{1}^{10} u_{2}^{10} u_{3}^{14} - u_{1}^{16} u_{2}^{8} u_{3}^{8} - u_{1}^{14} u_{2}^{10} u_{3}^{8} - 2 \\, u_{1}^{12} u_{2}^{12} u_{3}^{8} - u_{1}^{10} u_{2}^{14} u_{3}^{8} - u_{1}^{8} u_{2}^{16} u_{3}^{8} - u_{1}^{14} u_{2}^{8} u_{3}^{10} - 3 \\, u_{1}^{12} u_{2}^{10} u_{3}^{10} - 3 \\, u_{1}^{10} u_{2}^{12} u_{3}^{10} - u_{1}^{8} u_{2}^{14} u_{3}^{10} - 2 \\, u_{1}^{12} u_{2}^{8} u_{3}^{12} - 3 \\, u_{1}^{10} u_{2}^{10} u_{3}^{12} - 2 \\, u_{1}^{8} u_{2}^{12} u_{3}^{12} - u_{1}^{10} u_{2}^{8} u_{3}^{14} - u_{1}^{8} u_{2}^{10} u_{3}^{14} - u_{1}^{8} u_{2}^{8} u_{3}^{16} - u_{1}^{12} u_{2}^{12} u_{3}^{6} - u_{1}^{12} u_{2}^{10} u_{3}^{8} - u_{1}^{10} u_{2}^{12} u_{3}^{8} - u_{1}^{12} u_{2}^{8} u_{3}^{10} - u_{1}^{8} u_{2}^{12} u_{3}^{10} - u_{1}^{12} u_{2}^{6} u_{3}^{12} - u_{1}^{10} u_{2}^{8} u_{3}^{12} - u_{1}^{8} u_{2}^{10} u_{3}^{12} - u_{1}^{6} u_{2}^{12} u_{3}^{12} + u_{1}^{12} u_{2}^{10} u_{3}^{6} + u_{1}^{10} u_{2}^{12} u_{3}^{6} + u_{1}^{12} u_{2}^{8} u_{3}^{8} + u_{1}^{10} u_{2}^{10} u_{3}^{8} + u_{1}^{8} u_{2}^{12} u_{3}^{8} + u_{1}^{12} u_{2}^{6} u_{3}^{10} + u_{1}^{10} u_{2}^{8} u_{3}^{10} + u_{1}^{8} u_{2}^{10} u_{3}^{10} + u_{1}^{6} u_{2}^{12} u_{3}^{10} + u_{1}^{10} u_{2}^{6} u_{3}^{12} + u_{1}^{8} u_{2}^{8} u_{3}^{12} + u_{1}^{6} u_{2}^{10} u_{3}^{12} + u_{1}^{12} u_{2}^{8} u_{3}^{6} + 2 \\, u_{1}^{10} u_{2}^{10} u_{3}^{6} + u_{1}^{8} u_{2}^{12} u_{3}^{6} + u_{1}^{12} u_{2}^{6} u_{3}^{8} + 4 \\, u_{1}^{10} u_{2}^{8} u_{3}^{8} + 4 \\, u_{1}^{8} u_{2}^{10} u_{3}^{8} + u_{1}^{6} u_{2}^{12} u_{3}^{8} + 2 \\, u_{1}^{10} u_{2}^{6} u_{3}^{10} + 4 \\, u_{1}^{8} u_{2}^{8} u_{3}^{10} + 2 \\, u_{1}^{6} u_{2}^{10} u_{3}^{10} + u_{1}^{8} u_{2}^{6} u_{3}^{12} + u_{1}^{6} u_{2}^{8} u_{3}^{12} - u_{1}^{12} u_{2}^{8} u_{3}^{4} - u_{1}^{10} u_{2}^{10} u_{3}^{4} - u_{1}^{8} u_{2}^{12} u_{3}^{4} - u_{1}^{12} u_{2}^{6} u_{3}^{6} - 3 \\, u_{1}^{10} u_{2}^{8} u_{3}^{6} - 3 \\, u_{1}^{8} u_{2}^{10} u_{3}^{6} - u_{1}^{6} u_{2}^{12} u_{3}^{6} - u_{1}^{12} u_{2}^{4} u_{3}^{8} - 3 \\, u_{1}^{10} u_{2}^{6} u_{3}^{8} - 8 \\, u_{1}^{8} u_{2}^{8} u_{3}^{8} - 3 \\, u_{1}^{6} u_{2}^{10} u_{3}^{8} - u_{1}^{4} u_{2}^{12} u_{3}^{8} - u_{1}^{10} u_{2}^{4} u_{3}^{10} - 3 \\, u_{1}^{8} u_{2}^{6} u_{3}^{10} - 3 \\, u_{1}^{6} u_{2}^{8} u_{3}^{10} - u_{1}^{4} u_{2}^{10} u_{3}^{10} - u_{1}^{8} u_{2}^{4} u_{3}^{12} - u_{1}^{6} u_{2}^{6} u_{3}^{12} - u_{1}^{4} u_{2}^{8} u_{3}^{12} - u_{1}^{10} u_{2}^{6} u_{3}^{6} - u_{1}^{6} u_{2}^{10} u_{3}^{6} - u_{1}^{6} u_{2}^{6} u_{3}^{10} + u_{1}^{12} u_{2}^{4} u_{3}^{4} + u_{1}^{10} u_{2}^{6} u_{3}^{4} + 3 \\, u_{1}^{8} u_{2}^{8} u_{3}^{4} + u_{1}^{6} u_{2}^{10} u_{3}^{4} + u_{1}^{4} u_{2}^{12} u_{3}^{4} + u_{1}^{10} u_{2}^{4} u_{3}^{6} + u_{1}^{8} u_{2}^{6} u_{3}^{6} + u_{1}^{6} u_{2}^{8} u_{3}^{6} + u_{1}^{4} u_{2}^{10} u_{3}^{6} + 3 \\, u_{1}^{8} u_{2}^{4} u_{3}^{8} + u_{1}^{6} u_{2}^{6} u_{3}^{8} + 3 \\, u_{1}^{4} u_{2}^{8} u_{3}^{8} + u_{1}^{6} u_{2}^{4} u_{3}^{10} + u_{1}^{4} u_{2}^{6} u_{3}^{10} + u_{1}^{4} u_{2}^{4} u_{3}^{12} + u_{1}^{8} u_{2}^{8} u_{3}^{2} + 2 \\, u_{1}^{8} u_{2}^{6} u_{3}^{4} + 2 \\, u_{1}^{6} u_{2}^{8} u_{3}^{4} + 2 \\, u_{1}^{8} u_{2}^{4} u_{3}^{6} + 4 \\, u_{1}^{6} u_{2}^{6} u_{3}^{6} + 2 \\, u_{1}^{4} u_{2}^{8} u_{3}^{6} + u_{1}^{8} u_{2}^{2} u_{3}^{8} + 2 \\, u_{1}^{6} u_{2}^{4} u_{3}^{8} + 2 \\, u_{1}^{4} u_{2}^{6} u_{3}^{8} + u_{1}^{2} u_{2}^{8} u_{3}^{8} - u_{1}^{8} u_{2}^{6} u_{3}^{2} - u_{1}^{6} u_{2}^{8} u_{3}^{2} - 2 \\, u_{1}^{8} u_{2}^{4} u_{3}^{4} - 3 \\, u_{1}^{6} u_{2}^{6} u_{3}^{4} - 2 \\, u_{1}^{4} u_{2}^{8} u_{3}^{4} - u_{1}^{8} u_{2}^{2} u_{3}^{6} - 3 \\, u_{1}^{6} u_{2}^{4} u_{3}^{6} - 3 \\, u_{1}^{4} u_{2}^{6} u_{3}^{6} - u_{1}^{2} u_{2}^{8} u_{3}^{6} - u_{1}^{6} u_{2}^{2} u_{3}^{8} - 2 \\, u_{1}^{4} u_{2}^{4} u_{3}^{8} - u_{1}^{2} u_{2}^{6} u_{3}^{8} - u_{1}^{8} u_{2}^{4} u_{3}^{2} - u_{1}^{4} u_{2}^{8} u_{3}^{2} - u_{1}^{8} u_{2}^{2} u_{3}^{4} - u_{1}^{6} u_{2}^{4} u_{3}^{4} - u_{1}^{4} u_{2}^{6} u_{3}^{4} - u_{1}^{2} u_{2}^{8} u_{3}^{4} - u_{1}^{4} u_{2}^{4} u_{3}^{6} - u_{1}^{4} u_{2}^{2} u_{3}^{8} - u_{1}^{2} u_{2}^{4} u_{3}^{8} + u_{1}^{8} u_{2}^{2} u_{3}^{2} + u_{1}^{6} u_{2}^{4} u_{3}^{2} + u_{1}^{4} u_{2}^{6} u_{3}^{2} + u_{1}^{2} u_{2}^{8} u_{3}^{2} + u_{1}^{6} u_{2}^{2} u_{3}^{4} + u_{1}^{4} u_{2}^{4} u_{3}^{4} + u_{1}^{2} u_{2}^{6} u_{3}^{4} + u_{1}^{4} u_{2}^{2} u_{3}^{6} + u_{1}^{2} u_{2}^{4} u_{3}^{6} + u_{1}^{2} u_{2}^{2} u_{3}^{8} + u_{1}^{4} u_{2}^{4} u_{3}^{2} + u_{1}^{4} u_{2}^{2} u_{3}^{4} + u_{1}^{2} u_{2}^{4} u_{3}^{4} - u_{1}^{4} u_{2}^{4} - u_{1}^{4} u_{2}^{2} u_{3}^{2} - u_{1}^{2} u_{2}^{4} u_{3}^{2} - u_{1}^{4} u_{3}^{4} - u_{1}^{2} u_{2}^{2} u_{3}^{4} - u_{2}^{4} u_{3}^{4} + u_{1}^{4} + u_{2}^{4} + u_{3}^{4} - 1\\right)} {\\left(u_{1} u_{2} + 1\\right)} {\\left(u_{1} u_{2} - 1\\right)} {\\left(u_{1} u_{3} + 1\\right)} {\\left(u_{1} u_{3} - 1\\right)} {\\left(u_{2} u_{3} + 1\\right)} {\\left(u_{2} u_{3} - 1\\right)} u_{1}^{6} u_{2}^{10} u_{3}^{14}}{{\\left(u_{1}^{2} u_{2}^{2} u_{3}^{2} + 1\\right)} {\\left(u_{1} u_{2} u_{3} + 1\\right)}^{2} {\\left(u_{1} u_{2} u_{3} - 1\\right)}^{2} {\\left(u_{1}^{2} + 1\\right)} {\\left(u_{2}^{2} + 1\\right)} {\\left(u_{3}^{2} + 1\\right)} {\\left(u_{1} + 1\\right)}^{2} {\\left(u_{1} - 1\\right)}^{2} {\\left(u_{2} + 1\\right)}^{2} {\\left(u_{2} - 1\\right)}^{2} {\\left(u_{3} + 1\\right)}^{2} {\\left(u_{3} - 1\\right)}^{2}}$$"
      ],
      "text/plain": [
       "(u1^14*u2^14*u3^14 - u1^16*u2^12*u3^12 - u1^14*u2^14*u3^12 - u1^12*u2^16*u3^12 - u1^14*u2^12*u3^14 - u1^12*u2^14*u3^14 - u1^12*u2^12*u3^16 - u1^14*u2^14*u3^10 - u1^14*u2^10*u3^14 - u1^10*u2^14*u3^14 + u1^16*u2^12*u3^8 + u1^14*u2^14*u3^8 + u1^12*u2^16*u3^8 + u1^14*u2^12*u3^10 + u1^12*u2^14*u3^10 + u1^16*u2^8*u3^12 + u1^14*u2^10*u3^12 + 3*u1^12*u2^12*u3^12 + u1^10*u2^14*u3^12 + u1^8*u2^16*u3^12 + u1^14*u2^8*u3^14 + u1^12*u2^10*u3^14 + u1^10*u2^12*u3^14 + u1^8*u2^14*u3^14 + u1^12*u2^8*u3^16 + u1^8*u2^12*u3^16 + u1^14*u2^10*u3^10 + 2*u1^12*u2^12*u3^10 + u1^10*u2^14*u3^10 + 2*u1^12*u2^10*u3^12 + 2*u1^10*u2^12*u3^12 + u1^10*u2^10*u3^14 - u1^16*u2^8*u3^8 - u1^14*u2^10*u3^8 - 2*u1^12*u2^12*u3^8 - u1^10*u2^14*u3^8 - u1^8*u2^16*u3^8 - u1^14*u2^8*u3^10 - 3*u1^12*u2^10*u3^10 - 3*u1^10*u2^12*u3^10 - u1^8*u2^14*u3^10 - 2*u1^12*u2^8*u3^12 - 3*u1^10*u2^10*u3^12 - 2*u1^8*u2^12*u3^12 - u1^10*u2^8*u3^14 - u1^8*u2^10*u3^14 - u1^8*u2^8*u3^16 - u1^12*u2^12*u3^6 - u1^12*u2^10*u3^8 - u1^10*u2^12*u3^8 - u1^12*u2^8*u3^10 - u1^8*u2^12*u3^10 - u1^12*u2^6*u3^12 - u1^10*u2^8*u3^12 - u1^8*u2^10*u3^12 - u1^6*u2^12*u3^12 + u1^12*u2^10*u3^6 + u1^10*u2^12*u3^6 + u1^12*u2^8*u3^8 + u1^10*u2^10*u3^8 + u1^8*u2^12*u3^8 + u1^12*u2^6*u3^10 + u1^10*u2^8*u3^10 + u1^8*u2^10*u3^10 + u1^6*u2^12*u3^10 + u1^10*u2^6*u3^12 + u1^8*u2^8*u3^12 + u1^6*u2^10*u3^12 + u1^12*u2^8*u3^6 + 2*u1^10*u2^10*u3^6 + u1^8*u2^12*u3^6 + u1^12*u2^6*u3^8 + 4*u1^10*u2^8*u3^8 + 4*u1^8*u2^10*u3^8 + u1^6*u2^12*u3^8 + 2*u1^10*u2^6*u3^10 + 4*u1^8*u2^8*u3^10 + 2*u1^6*u2^10*u3^10 + u1^8*u2^6*u3^12 + u1^6*u2^8*u3^12 - u1^12*u2^8*u3^4 - u1^10*u2^10*u3^4 - u1^8*u2^12*u3^4 - u1^12*u2^6*u3^6 - 3*u1^10*u2^8*u3^6 - 3*u1^8*u2^10*u3^6 - u1^6*u2^12*u3^6 - u1^12*u2^4*u3^8 - 3*u1^10*u2^6*u3^8 - 8*u1^8*u2^8*u3^8 - 3*u1^6*u2^10*u3^8 - u1^4*u2^12*u3^8 - u1^10*u2^4*u3^10 - 3*u1^8*u2^6*u3^10 - 3*u1^6*u2^8*u3^10 - u1^4*u2^10*u3^10 - u1^8*u2^4*u3^12 - u1^6*u2^6*u3^12 - u1^4*u2^8*u3^12 - u1^10*u2^6*u3^6 - u1^6*u2^10*u3^6 - u1^6*u2^6*u3^10 + u1^12*u2^4*u3^4 + u1^10*u2^6*u3^4 + 3*u1^8*u2^8*u3^4 + u1^6*u2^10*u3^4 + u1^4*u2^12*u3^4 + u1^10*u2^4*u3^6 + u1^8*u2^6*u3^6 + u1^6*u2^8*u3^6 + u1^4*u2^10*u3^6 + 3*u1^8*u2^4*u3^8 + u1^6*u2^6*u3^8 + 3*u1^4*u2^8*u3^8 + u1^6*u2^4*u3^10 + u1^4*u2^6*u3^10 + u1^4*u2^4*u3^12 + u1^8*u2^8*u3^2 + 2*u1^8*u2^6*u3^4 + 2*u1^6*u2^8*u3^4 + 2*u1^8*u2^4*u3^6 + 4*u1^6*u2^6*u3^6 + 2*u1^4*u2^8*u3^6 + u1^8*u2^2*u3^8 + 2*u1^6*u2^4*u3^8 + 2*u1^4*u2^6*u3^8 + u1^2*u2^8*u3^8 - u1^8*u2^6*u3^2 - u1^6*u2^8*u3^2 - 2*u1^8*u2^4*u3^4 - 3*u1^6*u2^6*u3^4 - 2*u1^4*u2^8*u3^4 - u1^8*u2^2*u3^6 - 3*u1^6*u2^4*u3^6 - 3*u1^4*u2^6*u3^6 - u1^2*u2^8*u3^6 - u1^6*u2^2*u3^8 - 2*u1^4*u2^4*u3^8 - u1^2*u2^6*u3^8 - u1^8*u2^4*u3^2 - u1^4*u2^8*u3^2 - u1^8*u2^2*u3^4 - u1^6*u2^4*u3^4 - u1^4*u2^6*u3^4 - u1^2*u2^8*u3^4 - u1^4*u2^4*u3^6 - u1^4*u2^2*u3^8 - u1^2*u2^4*u3^8 + u1^8*u2^2*u3^2 + u1^6*u2^4*u3^2 + u1^4*u2^6*u3^2 + u1^2*u2^8*u3^2 + u1^6*u2^2*u3^4 + u1^4*u2^4*u3^4 + u1^2*u2^6*u3^4 + u1^4*u2^2*u3^6 + u1^2*u2^4*u3^6 + u1^2*u2^2*u3^8 + u1^4*u2^4*u3^2 + u1^4*u2^2*u3^4 + u1^2*u2^4*u3^4 - u1^4*u2^4 - u1^4*u2^2*u3^2 - u1^2*u2^4*u3^2 - u1^4*u3^4 - u1^2*u2^2*u3^4 - u2^4*u3^4 + u1^4 + u2^4 + u3^4 - 1)*(u1*u2 + 1)*(u1*u2 - 1)*(u1*u3 + 1)*(u1*u3 - 1)*(u2*u3 + 1)*(u2*u3 - 1)*u1^6*u2^10*u3^14/((u1^2*u2^2*u3^2 + 1)*(u1*u2*u3 + 1)^2*(u1*u2*u3 - 1)^2*(u1^2 + 1)*(u2^2 + 1)*(u3^2 + 1)*(u1 + 1)^2*(u1 - 1)^2*(u2 + 1)^2*(u2 - 1)^2*(u3 + 1)^2*(u3 - 1)^2)"
      ]
     },
     "execution_count": 13,
     "metadata": {},
     "output_type": "execute_result"
    }
   ],
   "source": [
    "NekNumer = KTheory4d.lowest_degree_y(Vertex4d.Nek_with_det(Weight,2).numerator())(w=1)\n",
    "NekDenom = Vertex4d.Nek_with_det(Weight,2).denominator()(w=1)\n",
    "pretty(NekNumer/NekDenom)"
   ]
  },
  {
   "cell_type": "markdown",
   "metadata": {},
   "source": [
    "To obtain the Verlinde number, we use\n",
    "$$V^{1/2}(\\alpha;q)^2=V(\\alpha;q)$$\n",
    "However, the proof of this uses Proposition 4.13, and this does not hold over $\\mathbb{C}^4$."
   ]
  },
  {
   "cell_type": "code",
   "execution_count": 29,
   "metadata": {},
   "outputs": [
    {
     "data": {
      "text/html": [
       "<html><script type=\"math/tex; mode=display\">\\newcommand{\\Bold}[1]{\\mathbf{#1}}\\frac{{\\left(u_{1}^{14} u_{2}^{14} u_{3}^{14} - u_{1}^{16} u_{2}^{12} u_{3}^{12} - u_{1}^{14} u_{2}^{14} u_{3}^{12} - u_{1}^{12} u_{2}^{16} u_{3}^{12} - u_{1}^{14} u_{2}^{12} u_{3}^{14} - u_{1}^{12} u_{2}^{14} u_{3}^{14} - u_{1}^{12} u_{2}^{12} u_{3}^{16} - u_{1}^{14} u_{2}^{14} u_{3}^{10} - u_{1}^{14} u_{2}^{10} u_{3}^{14} - u_{1}^{10} u_{2}^{14} u_{3}^{14} + u_{1}^{16} u_{2}^{12} u_{3}^{8} + u_{1}^{14} u_{2}^{14} u_{3}^{8} + u_{1}^{12} u_{2}^{16} u_{3}^{8} + u_{1}^{14} u_{2}^{12} u_{3}^{10} + u_{1}^{12} u_{2}^{14} u_{3}^{10} + u_{1}^{16} u_{2}^{8} u_{3}^{12} + u_{1}^{14} u_{2}^{10} u_{3}^{12} + 3 \\, u_{1}^{12} u_{2}^{12} u_{3}^{12} + u_{1}^{10} u_{2}^{14} u_{3}^{12} + u_{1}^{8} u_{2}^{16} u_{3}^{12} + u_{1}^{14} u_{2}^{8} u_{3}^{14} + u_{1}^{12} u_{2}^{10} u_{3}^{14} + u_{1}^{10} u_{2}^{12} u_{3}^{14} + u_{1}^{8} u_{2}^{14} u_{3}^{14} + u_{1}^{12} u_{2}^{8} u_{3}^{16} + u_{1}^{8} u_{2}^{12} u_{3}^{16} + u_{1}^{14} u_{2}^{10} u_{3}^{10} + 2 \\, u_{1}^{12} u_{2}^{12} u_{3}^{10} + u_{1}^{10} u_{2}^{14} u_{3}^{10} + 2 \\, u_{1}^{12} u_{2}^{10} u_{3}^{12} + 2 \\, u_{1}^{10} u_{2}^{12} u_{3}^{12} + u_{1}^{10} u_{2}^{10} u_{3}^{14} - u_{1}^{16} u_{2}^{8} u_{3}^{8} - u_{1}^{14} u_{2}^{10} u_{3}^{8} - 2 \\, u_{1}^{12} u_{2}^{12} u_{3}^{8} - u_{1}^{10} u_{2}^{14} u_{3}^{8} - u_{1}^{8} u_{2}^{16} u_{3}^{8} - u_{1}^{14} u_{2}^{8} u_{3}^{10} - 3 \\, u_{1}^{12} u_{2}^{10} u_{3}^{10} - 3 \\, u_{1}^{10} u_{2}^{12} u_{3}^{10} - u_{1}^{8} u_{2}^{14} u_{3}^{10} - 2 \\, u_{1}^{12} u_{2}^{8} u_{3}^{12} - 3 \\, u_{1}^{10} u_{2}^{10} u_{3}^{12} - 2 \\, u_{1}^{8} u_{2}^{12} u_{3}^{12} - u_{1}^{10} u_{2}^{8} u_{3}^{14} - u_{1}^{8} u_{2}^{10} u_{3}^{14} - u_{1}^{8} u_{2}^{8} u_{3}^{16} - u_{1}^{12} u_{2}^{12} u_{3}^{6} - u_{1}^{12} u_{2}^{10} u_{3}^{8} - u_{1}^{10} u_{2}^{12} u_{3}^{8} - u_{1}^{12} u_{2}^{8} u_{3}^{10} - u_{1}^{8} u_{2}^{12} u_{3}^{10} - u_{1}^{12} u_{2}^{6} u_{3}^{12} - u_{1}^{10} u_{2}^{8} u_{3}^{12} - u_{1}^{8} u_{2}^{10} u_{3}^{12} - u_{1}^{6} u_{2}^{12} u_{3}^{12} + u_{1}^{12} u_{2}^{10} u_{3}^{6} + u_{1}^{10} u_{2}^{12} u_{3}^{6} + u_{1}^{12} u_{2}^{8} u_{3}^{8} + u_{1}^{10} u_{2}^{10} u_{3}^{8} + u_{1}^{8} u_{2}^{12} u_{3}^{8} + u_{1}^{12} u_{2}^{6} u_{3}^{10} + u_{1}^{10} u_{2}^{8} u_{3}^{10} + u_{1}^{8} u_{2}^{10} u_{3}^{10} + u_{1}^{6} u_{2}^{12} u_{3}^{10} + u_{1}^{10} u_{2}^{6} u_{3}^{12} + u_{1}^{8} u_{2}^{8} u_{3}^{12} + u_{1}^{6} u_{2}^{10} u_{3}^{12} + u_{1}^{12} u_{2}^{8} u_{3}^{6} + 2 \\, u_{1}^{10} u_{2}^{10} u_{3}^{6} + u_{1}^{8} u_{2}^{12} u_{3}^{6} + u_{1}^{12} u_{2}^{6} u_{3}^{8} + 4 \\, u_{1}^{10} u_{2}^{8} u_{3}^{8} + 4 \\, u_{1}^{8} u_{2}^{10} u_{3}^{8} + u_{1}^{6} u_{2}^{12} u_{3}^{8} + 2 \\, u_{1}^{10} u_{2}^{6} u_{3}^{10} + 4 \\, u_{1}^{8} u_{2}^{8} u_{3}^{10} + 2 \\, u_{1}^{6} u_{2}^{10} u_{3}^{10} + u_{1}^{8} u_{2}^{6} u_{3}^{12} + u_{1}^{6} u_{2}^{8} u_{3}^{12} - u_{1}^{12} u_{2}^{8} u_{3}^{4} - u_{1}^{10} u_{2}^{10} u_{3}^{4} - u_{1}^{8} u_{2}^{12} u_{3}^{4} - u_{1}^{12} u_{2}^{6} u_{3}^{6} - 3 \\, u_{1}^{10} u_{2}^{8} u_{3}^{6} - 3 \\, u_{1}^{8} u_{2}^{10} u_{3}^{6} - u_{1}^{6} u_{2}^{12} u_{3}^{6} - u_{1}^{12} u_{2}^{4} u_{3}^{8} - 3 \\, u_{1}^{10} u_{2}^{6} u_{3}^{8} - 8 \\, u_{1}^{8} u_{2}^{8} u_{3}^{8} - 3 \\, u_{1}^{6} u_{2}^{10} u_{3}^{8} - u_{1}^{4} u_{2}^{12} u_{3}^{8} - u_{1}^{10} u_{2}^{4} u_{3}^{10} - 3 \\, u_{1}^{8} u_{2}^{6} u_{3}^{10} - 3 \\, u_{1}^{6} u_{2}^{8} u_{3}^{10} - u_{1}^{4} u_{2}^{10} u_{3}^{10} - u_{1}^{8} u_{2}^{4} u_{3}^{12} - u_{1}^{6} u_{2}^{6} u_{3}^{12} - u_{1}^{4} u_{2}^{8} u_{3}^{12} - u_{1}^{10} u_{2}^{6} u_{3}^{6} - u_{1}^{6} u_{2}^{10} u_{3}^{6} - u_{1}^{6} u_{2}^{6} u_{3}^{10} + u_{1}^{12} u_{2}^{4} u_{3}^{4} + u_{1}^{10} u_{2}^{6} u_{3}^{4} + 3 \\, u_{1}^{8} u_{2}^{8} u_{3}^{4} + u_{1}^{6} u_{2}^{10} u_{3}^{4} + u_{1}^{4} u_{2}^{12} u_{3}^{4} + u_{1}^{10} u_{2}^{4} u_{3}^{6} + u_{1}^{8} u_{2}^{6} u_{3}^{6} + u_{1}^{6} u_{2}^{8} u_{3}^{6} + u_{1}^{4} u_{2}^{10} u_{3}^{6} + 3 \\, u_{1}^{8} u_{2}^{4} u_{3}^{8} + u_{1}^{6} u_{2}^{6} u_{3}^{8} + 3 \\, u_{1}^{4} u_{2}^{8} u_{3}^{8} + u_{1}^{6} u_{2}^{4} u_{3}^{10} + u_{1}^{4} u_{2}^{6} u_{3}^{10} + u_{1}^{4} u_{2}^{4} u_{3}^{12} + u_{1}^{8} u_{2}^{8} u_{3}^{2} + 2 \\, u_{1}^{8} u_{2}^{6} u_{3}^{4} + 2 \\, u_{1}^{6} u_{2}^{8} u_{3}^{4} + 2 \\, u_{1}^{8} u_{2}^{4} u_{3}^{6} + 4 \\, u_{1}^{6} u_{2}^{6} u_{3}^{6} + 2 \\, u_{1}^{4} u_{2}^{8} u_{3}^{6} + u_{1}^{8} u_{2}^{2} u_{3}^{8} + 2 \\, u_{1}^{6} u_{2}^{4} u_{3}^{8} + 2 \\, u_{1}^{4} u_{2}^{6} u_{3}^{8} + u_{1}^{2} u_{2}^{8} u_{3}^{8} - u_{1}^{8} u_{2}^{6} u_{3}^{2} - u_{1}^{6} u_{2}^{8} u_{3}^{2} - 2 \\, u_{1}^{8} u_{2}^{4} u_{3}^{4} - 3 \\, u_{1}^{6} u_{2}^{6} u_{3}^{4} - 2 \\, u_{1}^{4} u_{2}^{8} u_{3}^{4} - u_{1}^{8} u_{2}^{2} u_{3}^{6} - 3 \\, u_{1}^{6} u_{2}^{4} u_{3}^{6} - 3 \\, u_{1}^{4} u_{2}^{6} u_{3}^{6} - u_{1}^{2} u_{2}^{8} u_{3}^{6} - u_{1}^{6} u_{2}^{2} u_{3}^{8} - 2 \\, u_{1}^{4} u_{2}^{4} u_{3}^{8} - u_{1}^{2} u_{2}^{6} u_{3}^{8} - u_{1}^{8} u_{2}^{4} u_{3}^{2} - u_{1}^{4} u_{2}^{8} u_{3}^{2} - u_{1}^{8} u_{2}^{2} u_{3}^{4} - u_{1}^{6} u_{2}^{4} u_{3}^{4} - u_{1}^{4} u_{2}^{6} u_{3}^{4} - u_{1}^{2} u_{2}^{8} u_{3}^{4} - u_{1}^{4} u_{2}^{4} u_{3}^{6} - u_{1}^{4} u_{2}^{2} u_{3}^{8} - u_{1}^{2} u_{2}^{4} u_{3}^{8} + u_{1}^{8} u_{2}^{2} u_{3}^{2} + u_{1}^{6} u_{2}^{4} u_{3}^{2} + u_{1}^{4} u_{2}^{6} u_{3}^{2} + u_{1}^{2} u_{2}^{8} u_{3}^{2} + u_{1}^{6} u_{2}^{2} u_{3}^{4} + u_{1}^{4} u_{2}^{4} u_{3}^{4} + u_{1}^{2} u_{2}^{6} u_{3}^{4} + u_{1}^{4} u_{2}^{2} u_{3}^{6} + u_{1}^{2} u_{2}^{4} u_{3}^{6} + u_{1}^{2} u_{2}^{2} u_{3}^{8} + u_{1}^{4} u_{2}^{4} u_{3}^{2} + u_{1}^{4} u_{2}^{2} u_{3}^{4} + u_{1}^{2} u_{2}^{4} u_{3}^{4} - u_{1}^{4} u_{2}^{4} - u_{1}^{4} u_{2}^{2} u_{3}^{2} - u_{1}^{2} u_{2}^{4} u_{3}^{2} - u_{1}^{4} u_{3}^{4} - u_{1}^{2} u_{2}^{2} u_{3}^{4} - u_{2}^{4} u_{3}^{4} + u_{1}^{4} + u_{2}^{4} + u_{3}^{4} - 1\\right)} {\\left(u_{1} u_{2} + 1\\right)} {\\left(u_{1} u_{2} - 1\\right)} {\\left(u_{1} u_{3} + 1\\right)} {\\left(u_{1} u_{3} - 1\\right)} {\\left(u_{2} u_{3} + 1\\right)} {\\left(u_{2} u_{3} - 1\\right)} u_{1}^{16} u_{2}^{24} u_{3}^{32}}{{\\left(u_{1}^{2} u_{2}^{2} u_{3}^{2} + 1\\right)} {\\left(u_{1} u_{2} u_{3} + 1\\right)}^{2} {\\left(u_{1} u_{2} u_{3} - 1\\right)}^{2} {\\left(u_{1}^{2} + 1\\right)} {\\left(u_{2}^{2} + 1\\right)} {\\left(u_{3}^{2} + 1\\right)} {\\left(u_{1} + 1\\right)}^{2} {\\left(u_{1} - 1\\right)}^{2} {\\left(u_{2} + 1\\right)}^{2} {\\left(u_{2} - 1\\right)}^{2} {\\left(u_{3} + 1\\right)}^{2} {\\left(u_{3} - 1\\right)}^{2}}</script></html>"
      ],
      "text/latex": [
       "$$\\newcommand{\\Bold}[1]{\\mathbf{#1}}\\frac{{\\left(u_{1}^{14} u_{2}^{14} u_{3}^{14} - u_{1}^{16} u_{2}^{12} u_{3}^{12} - u_{1}^{14} u_{2}^{14} u_{3}^{12} - u_{1}^{12} u_{2}^{16} u_{3}^{12} - u_{1}^{14} u_{2}^{12} u_{3}^{14} - u_{1}^{12} u_{2}^{14} u_{3}^{14} - u_{1}^{12} u_{2}^{12} u_{3}^{16} - u_{1}^{14} u_{2}^{14} u_{3}^{10} - u_{1}^{14} u_{2}^{10} u_{3}^{14} - u_{1}^{10} u_{2}^{14} u_{3}^{14} + u_{1}^{16} u_{2}^{12} u_{3}^{8} + u_{1}^{14} u_{2}^{14} u_{3}^{8} + u_{1}^{12} u_{2}^{16} u_{3}^{8} + u_{1}^{14} u_{2}^{12} u_{3}^{10} + u_{1}^{12} u_{2}^{14} u_{3}^{10} + u_{1}^{16} u_{2}^{8} u_{3}^{12} + u_{1}^{14} u_{2}^{10} u_{3}^{12} + 3 \\, u_{1}^{12} u_{2}^{12} u_{3}^{12} + u_{1}^{10} u_{2}^{14} u_{3}^{12} + u_{1}^{8} u_{2}^{16} u_{3}^{12} + u_{1}^{14} u_{2}^{8} u_{3}^{14} + u_{1}^{12} u_{2}^{10} u_{3}^{14} + u_{1}^{10} u_{2}^{12} u_{3}^{14} + u_{1}^{8} u_{2}^{14} u_{3}^{14} + u_{1}^{12} u_{2}^{8} u_{3}^{16} + u_{1}^{8} u_{2}^{12} u_{3}^{16} + u_{1}^{14} u_{2}^{10} u_{3}^{10} + 2 \\, u_{1}^{12} u_{2}^{12} u_{3}^{10} + u_{1}^{10} u_{2}^{14} u_{3}^{10} + 2 \\, u_{1}^{12} u_{2}^{10} u_{3}^{12} + 2 \\, u_{1}^{10} u_{2}^{12} u_{3}^{12} + u_{1}^{10} u_{2}^{10} u_{3}^{14} - u_{1}^{16} u_{2}^{8} u_{3}^{8} - u_{1}^{14} u_{2}^{10} u_{3}^{8} - 2 \\, u_{1}^{12} u_{2}^{12} u_{3}^{8} - u_{1}^{10} u_{2}^{14} u_{3}^{8} - u_{1}^{8} u_{2}^{16} u_{3}^{8} - u_{1}^{14} u_{2}^{8} u_{3}^{10} - 3 \\, u_{1}^{12} u_{2}^{10} u_{3}^{10} - 3 \\, u_{1}^{10} u_{2}^{12} u_{3}^{10} - u_{1}^{8} u_{2}^{14} u_{3}^{10} - 2 \\, u_{1}^{12} u_{2}^{8} u_{3}^{12} - 3 \\, u_{1}^{10} u_{2}^{10} u_{3}^{12} - 2 \\, u_{1}^{8} u_{2}^{12} u_{3}^{12} - u_{1}^{10} u_{2}^{8} u_{3}^{14} - u_{1}^{8} u_{2}^{10} u_{3}^{14} - u_{1}^{8} u_{2}^{8} u_{3}^{16} - u_{1}^{12} u_{2}^{12} u_{3}^{6} - u_{1}^{12} u_{2}^{10} u_{3}^{8} - u_{1}^{10} u_{2}^{12} u_{3}^{8} - u_{1}^{12} u_{2}^{8} u_{3}^{10} - u_{1}^{8} u_{2}^{12} u_{3}^{10} - u_{1}^{12} u_{2}^{6} u_{3}^{12} - u_{1}^{10} u_{2}^{8} u_{3}^{12} - u_{1}^{8} u_{2}^{10} u_{3}^{12} - u_{1}^{6} u_{2}^{12} u_{3}^{12} + u_{1}^{12} u_{2}^{10} u_{3}^{6} + u_{1}^{10} u_{2}^{12} u_{3}^{6} + u_{1}^{12} u_{2}^{8} u_{3}^{8} + u_{1}^{10} u_{2}^{10} u_{3}^{8} + u_{1}^{8} u_{2}^{12} u_{3}^{8} + u_{1}^{12} u_{2}^{6} u_{3}^{10} + u_{1}^{10} u_{2}^{8} u_{3}^{10} + u_{1}^{8} u_{2}^{10} u_{3}^{10} + u_{1}^{6} u_{2}^{12} u_{3}^{10} + u_{1}^{10} u_{2}^{6} u_{3}^{12} + u_{1}^{8} u_{2}^{8} u_{3}^{12} + u_{1}^{6} u_{2}^{10} u_{3}^{12} + u_{1}^{12} u_{2}^{8} u_{3}^{6} + 2 \\, u_{1}^{10} u_{2}^{10} u_{3}^{6} + u_{1}^{8} u_{2}^{12} u_{3}^{6} + u_{1}^{12} u_{2}^{6} u_{3}^{8} + 4 \\, u_{1}^{10} u_{2}^{8} u_{3}^{8} + 4 \\, u_{1}^{8} u_{2}^{10} u_{3}^{8} + u_{1}^{6} u_{2}^{12} u_{3}^{8} + 2 \\, u_{1}^{10} u_{2}^{6} u_{3}^{10} + 4 \\, u_{1}^{8} u_{2}^{8} u_{3}^{10} + 2 \\, u_{1}^{6} u_{2}^{10} u_{3}^{10} + u_{1}^{8} u_{2}^{6} u_{3}^{12} + u_{1}^{6} u_{2}^{8} u_{3}^{12} - u_{1}^{12} u_{2}^{8} u_{3}^{4} - u_{1}^{10} u_{2}^{10} u_{3}^{4} - u_{1}^{8} u_{2}^{12} u_{3}^{4} - u_{1}^{12} u_{2}^{6} u_{3}^{6} - 3 \\, u_{1}^{10} u_{2}^{8} u_{3}^{6} - 3 \\, u_{1}^{8} u_{2}^{10} u_{3}^{6} - u_{1}^{6} u_{2}^{12} u_{3}^{6} - u_{1}^{12} u_{2}^{4} u_{3}^{8} - 3 \\, u_{1}^{10} u_{2}^{6} u_{3}^{8} - 8 \\, u_{1}^{8} u_{2}^{8} u_{3}^{8} - 3 \\, u_{1}^{6} u_{2}^{10} u_{3}^{8} - u_{1}^{4} u_{2}^{12} u_{3}^{8} - u_{1}^{10} u_{2}^{4} u_{3}^{10} - 3 \\, u_{1}^{8} u_{2}^{6} u_{3}^{10} - 3 \\, u_{1}^{6} u_{2}^{8} u_{3}^{10} - u_{1}^{4} u_{2}^{10} u_{3}^{10} - u_{1}^{8} u_{2}^{4} u_{3}^{12} - u_{1}^{6} u_{2}^{6} u_{3}^{12} - u_{1}^{4} u_{2}^{8} u_{3}^{12} - u_{1}^{10} u_{2}^{6} u_{3}^{6} - u_{1}^{6} u_{2}^{10} u_{3}^{6} - u_{1}^{6} u_{2}^{6} u_{3}^{10} + u_{1}^{12} u_{2}^{4} u_{3}^{4} + u_{1}^{10} u_{2}^{6} u_{3}^{4} + 3 \\, u_{1}^{8} u_{2}^{8} u_{3}^{4} + u_{1}^{6} u_{2}^{10} u_{3}^{4} + u_{1}^{4} u_{2}^{12} u_{3}^{4} + u_{1}^{10} u_{2}^{4} u_{3}^{6} + u_{1}^{8} u_{2}^{6} u_{3}^{6} + u_{1}^{6} u_{2}^{8} u_{3}^{6} + u_{1}^{4} u_{2}^{10} u_{3}^{6} + 3 \\, u_{1}^{8} u_{2}^{4} u_{3}^{8} + u_{1}^{6} u_{2}^{6} u_{3}^{8} + 3 \\, u_{1}^{4} u_{2}^{8} u_{3}^{8} + u_{1}^{6} u_{2}^{4} u_{3}^{10} + u_{1}^{4} u_{2}^{6} u_{3}^{10} + u_{1}^{4} u_{2}^{4} u_{3}^{12} + u_{1}^{8} u_{2}^{8} u_{3}^{2} + 2 \\, u_{1}^{8} u_{2}^{6} u_{3}^{4} + 2 \\, u_{1}^{6} u_{2}^{8} u_{3}^{4} + 2 \\, u_{1}^{8} u_{2}^{4} u_{3}^{6} + 4 \\, u_{1}^{6} u_{2}^{6} u_{3}^{6} + 2 \\, u_{1}^{4} u_{2}^{8} u_{3}^{6} + u_{1}^{8} u_{2}^{2} u_{3}^{8} + 2 \\, u_{1}^{6} u_{2}^{4} u_{3}^{8} + 2 \\, u_{1}^{4} u_{2}^{6} u_{3}^{8} + u_{1}^{2} u_{2}^{8} u_{3}^{8} - u_{1}^{8} u_{2}^{6} u_{3}^{2} - u_{1}^{6} u_{2}^{8} u_{3}^{2} - 2 \\, u_{1}^{8} u_{2}^{4} u_{3}^{4} - 3 \\, u_{1}^{6} u_{2}^{6} u_{3}^{4} - 2 \\, u_{1}^{4} u_{2}^{8} u_{3}^{4} - u_{1}^{8} u_{2}^{2} u_{3}^{6} - 3 \\, u_{1}^{6} u_{2}^{4} u_{3}^{6} - 3 \\, u_{1}^{4} u_{2}^{6} u_{3}^{6} - u_{1}^{2} u_{2}^{8} u_{3}^{6} - u_{1}^{6} u_{2}^{2} u_{3}^{8} - 2 \\, u_{1}^{4} u_{2}^{4} u_{3}^{8} - u_{1}^{2} u_{2}^{6} u_{3}^{8} - u_{1}^{8} u_{2}^{4} u_{3}^{2} - u_{1}^{4} u_{2}^{8} u_{3}^{2} - u_{1}^{8} u_{2}^{2} u_{3}^{4} - u_{1}^{6} u_{2}^{4} u_{3}^{4} - u_{1}^{4} u_{2}^{6} u_{3}^{4} - u_{1}^{2} u_{2}^{8} u_{3}^{4} - u_{1}^{4} u_{2}^{4} u_{3}^{6} - u_{1}^{4} u_{2}^{2} u_{3}^{8} - u_{1}^{2} u_{2}^{4} u_{3}^{8} + u_{1}^{8} u_{2}^{2} u_{3}^{2} + u_{1}^{6} u_{2}^{4} u_{3}^{2} + u_{1}^{4} u_{2}^{6} u_{3}^{2} + u_{1}^{2} u_{2}^{8} u_{3}^{2} + u_{1}^{6} u_{2}^{2} u_{3}^{4} + u_{1}^{4} u_{2}^{4} u_{3}^{4} + u_{1}^{2} u_{2}^{6} u_{3}^{4} + u_{1}^{4} u_{2}^{2} u_{3}^{6} + u_{1}^{2} u_{2}^{4} u_{3}^{6} + u_{1}^{2} u_{2}^{2} u_{3}^{8} + u_{1}^{4} u_{2}^{4} u_{3}^{2} + u_{1}^{4} u_{2}^{2} u_{3}^{4} + u_{1}^{2} u_{2}^{4} u_{3}^{4} - u_{1}^{4} u_{2}^{4} - u_{1}^{4} u_{2}^{2} u_{3}^{2} - u_{1}^{2} u_{2}^{4} u_{3}^{2} - u_{1}^{4} u_{3}^{4} - u_{1}^{2} u_{2}^{2} u_{3}^{4} - u_{2}^{4} u_{3}^{4} + u_{1}^{4} + u_{2}^{4} + u_{3}^{4} - 1\\right)} {\\left(u_{1} u_{2} + 1\\right)} {\\left(u_{1} u_{2} - 1\\right)} {\\left(u_{1} u_{3} + 1\\right)} {\\left(u_{1} u_{3} - 1\\right)} {\\left(u_{2} u_{3} + 1\\right)} {\\left(u_{2} u_{3} - 1\\right)} u_{1}^{16} u_{2}^{24} u_{3}^{32}}{{\\left(u_{1}^{2} u_{2}^{2} u_{3}^{2} + 1\\right)} {\\left(u_{1} u_{2} u_{3} + 1\\right)}^{2} {\\left(u_{1} u_{2} u_{3} - 1\\right)}^{2} {\\left(u_{1}^{2} + 1\\right)} {\\left(u_{2}^{2} + 1\\right)} {\\left(u_{3}^{2} + 1\\right)} {\\left(u_{1} + 1\\right)}^{2} {\\left(u_{1} - 1\\right)}^{2} {\\left(u_{2} + 1\\right)}^{2} {\\left(u_{2} - 1\\right)}^{2} {\\left(u_{3} + 1\\right)}^{2} {\\left(u_{3} - 1\\right)}^{2}}$$"
      ],
      "text/plain": [
       "(u1^14*u2^14*u3^14 - u1^16*u2^12*u3^12 - u1^14*u2^14*u3^12 - u1^12*u2^16*u3^12 - u1^14*u2^12*u3^14 - u1^12*u2^14*u3^14 - u1^12*u2^12*u3^16 - u1^14*u2^14*u3^10 - u1^14*u2^10*u3^14 - u1^10*u2^14*u3^14 + u1^16*u2^12*u3^8 + u1^14*u2^14*u3^8 + u1^12*u2^16*u3^8 + u1^14*u2^12*u3^10 + u1^12*u2^14*u3^10 + u1^16*u2^8*u3^12 + u1^14*u2^10*u3^12 + 3*u1^12*u2^12*u3^12 + u1^10*u2^14*u3^12 + u1^8*u2^16*u3^12 + u1^14*u2^8*u3^14 + u1^12*u2^10*u3^14 + u1^10*u2^12*u3^14 + u1^8*u2^14*u3^14 + u1^12*u2^8*u3^16 + u1^8*u2^12*u3^16 + u1^14*u2^10*u3^10 + 2*u1^12*u2^12*u3^10 + u1^10*u2^14*u3^10 + 2*u1^12*u2^10*u3^12 + 2*u1^10*u2^12*u3^12 + u1^10*u2^10*u3^14 - u1^16*u2^8*u3^8 - u1^14*u2^10*u3^8 - 2*u1^12*u2^12*u3^8 - u1^10*u2^14*u3^8 - u1^8*u2^16*u3^8 - u1^14*u2^8*u3^10 - 3*u1^12*u2^10*u3^10 - 3*u1^10*u2^12*u3^10 - u1^8*u2^14*u3^10 - 2*u1^12*u2^8*u3^12 - 3*u1^10*u2^10*u3^12 - 2*u1^8*u2^12*u3^12 - u1^10*u2^8*u3^14 - u1^8*u2^10*u3^14 - u1^8*u2^8*u3^16 - u1^12*u2^12*u3^6 - u1^12*u2^10*u3^8 - u1^10*u2^12*u3^8 - u1^12*u2^8*u3^10 - u1^8*u2^12*u3^10 - u1^12*u2^6*u3^12 - u1^10*u2^8*u3^12 - u1^8*u2^10*u3^12 - u1^6*u2^12*u3^12 + u1^12*u2^10*u3^6 + u1^10*u2^12*u3^6 + u1^12*u2^8*u3^8 + u1^10*u2^10*u3^8 + u1^8*u2^12*u3^8 + u1^12*u2^6*u3^10 + u1^10*u2^8*u3^10 + u1^8*u2^10*u3^10 + u1^6*u2^12*u3^10 + u1^10*u2^6*u3^12 + u1^8*u2^8*u3^12 + u1^6*u2^10*u3^12 + u1^12*u2^8*u3^6 + 2*u1^10*u2^10*u3^6 + u1^8*u2^12*u3^6 + u1^12*u2^6*u3^8 + 4*u1^10*u2^8*u3^8 + 4*u1^8*u2^10*u3^8 + u1^6*u2^12*u3^8 + 2*u1^10*u2^6*u3^10 + 4*u1^8*u2^8*u3^10 + 2*u1^6*u2^10*u3^10 + u1^8*u2^6*u3^12 + u1^6*u2^8*u3^12 - u1^12*u2^8*u3^4 - u1^10*u2^10*u3^4 - u1^8*u2^12*u3^4 - u1^12*u2^6*u3^6 - 3*u1^10*u2^8*u3^6 - 3*u1^8*u2^10*u3^6 - u1^6*u2^12*u3^6 - u1^12*u2^4*u3^8 - 3*u1^10*u2^6*u3^8 - 8*u1^8*u2^8*u3^8 - 3*u1^6*u2^10*u3^8 - u1^4*u2^12*u3^8 - u1^10*u2^4*u3^10 - 3*u1^8*u2^6*u3^10 - 3*u1^6*u2^8*u3^10 - u1^4*u2^10*u3^10 - u1^8*u2^4*u3^12 - u1^6*u2^6*u3^12 - u1^4*u2^8*u3^12 - u1^10*u2^6*u3^6 - u1^6*u2^10*u3^6 - u1^6*u2^6*u3^10 + u1^12*u2^4*u3^4 + u1^10*u2^6*u3^4 + 3*u1^8*u2^8*u3^4 + u1^6*u2^10*u3^4 + u1^4*u2^12*u3^4 + u1^10*u2^4*u3^6 + u1^8*u2^6*u3^6 + u1^6*u2^8*u3^6 + u1^4*u2^10*u3^6 + 3*u1^8*u2^4*u3^8 + u1^6*u2^6*u3^8 + 3*u1^4*u2^8*u3^8 + u1^6*u2^4*u3^10 + u1^4*u2^6*u3^10 + u1^4*u2^4*u3^12 + u1^8*u2^8*u3^2 + 2*u1^8*u2^6*u3^4 + 2*u1^6*u2^8*u3^4 + 2*u1^8*u2^4*u3^6 + 4*u1^6*u2^6*u3^6 + 2*u1^4*u2^8*u3^6 + u1^8*u2^2*u3^8 + 2*u1^6*u2^4*u3^8 + 2*u1^4*u2^6*u3^8 + u1^2*u2^8*u3^8 - u1^8*u2^6*u3^2 - u1^6*u2^8*u3^2 - 2*u1^8*u2^4*u3^4 - 3*u1^6*u2^6*u3^4 - 2*u1^4*u2^8*u3^4 - u1^8*u2^2*u3^6 - 3*u1^6*u2^4*u3^6 - 3*u1^4*u2^6*u3^6 - u1^2*u2^8*u3^6 - u1^6*u2^2*u3^8 - 2*u1^4*u2^4*u3^8 - u1^2*u2^6*u3^8 - u1^8*u2^4*u3^2 - u1^4*u2^8*u3^2 - u1^8*u2^2*u3^4 - u1^6*u2^4*u3^4 - u1^4*u2^6*u3^4 - u1^2*u2^8*u3^4 - u1^4*u2^4*u3^6 - u1^4*u2^2*u3^8 - u1^2*u2^4*u3^8 + u1^8*u2^2*u3^2 + u1^6*u2^4*u3^2 + u1^4*u2^6*u3^2 + u1^2*u2^8*u3^2 + u1^6*u2^2*u3^4 + u1^4*u2^4*u3^4 + u1^2*u2^6*u3^4 + u1^4*u2^2*u3^6 + u1^2*u2^4*u3^6 + u1^2*u2^2*u3^8 + u1^4*u2^4*u3^2 + u1^4*u2^2*u3^4 + u1^2*u2^4*u3^4 - u1^4*u2^4 - u1^4*u2^2*u3^2 - u1^2*u2^4*u3^2 - u1^4*u3^4 - u1^2*u2^2*u3^4 - u2^4*u3^4 + u1^4 + u2^4 + u3^4 - 1)*(u1*u2 + 1)*(u1*u2 - 1)*(u1*u3 + 1)*(u1*u3 - 1)*(u2*u3 + 1)*(u2*u3 - 1)*u1^16*u2^24*u3^32/((u1^2*u2^2*u3^2 + 1)*(u1*u2*u3 + 1)^2*(u1*u2*u3 - 1)^2*(u1^2 + 1)*(u2^2 + 1)*(u3^2 + 1)*(u1 + 1)^2*(u1 - 1)^2*(u2 + 1)^2*(u2 - 1)^2*(u3 + 1)^2*(u3 - 1)^2)"
      ]
     },
     "execution_count": 29,
     "metadata": {},
     "output_type": "execute_result"
    }
   ],
   "source": [
    "pretty(Vertex4d.Verlinde(Weight,2)(u1^2,u2^2,u3^2,0,0,0))"
   ]
  },
  {
   "cell_type": "markdown",
   "metadata": {},
   "source": [
    "It seems the difference is by $(\\det^{\\frac12}\\alpha)^n$"
   ]
  },
  {
   "cell_type": "markdown",
   "metadata": {},
   "source": [
    "We can check\n",
    "$$[y^{\\text{min}}]I_n(\\alpha^{[n]},y)=\\hat\\chi^{\\text{vir}}(\\text{det}^{\\frac12}(\\alpha^{[n]}))$$"
   ]
  },
  {
   "cell_type": "code",
   "execution_count": 33,
   "metadata": {
    "scrolled": true
   },
   "outputs": [
    {
     "data": {
      "text/html": [
       "<html><script type=\"math/tex; mode=display\">\\newcommand{\\Bold}[1]{\\mathbf{#1}}\\mathrm{True}</script></html>"
      ],
      "text/latex": [
       "$$\\newcommand{\\Bold}[1]{\\mathbf{#1}}\\mathrm{True}$$"
      ],
      "text/plain": [
       "True"
      ]
     },
     "execution_count": 33,
     "metadata": {},
     "output_type": "execute_result"
    }
   ],
   "source": [
    "NekNumer = KTheory4d.lowest_degree_y(Vertex4d.Nek(Weight,2).numerator())(w=1)\n",
    "NekDenom = Vertex4d.Nek(Weight,2).denominator()(w=1)\n",
    "pretty(NekNumer/NekDenom).__str__()==pretty(Vertex4d.Verlinde2(Weight,2)).__str__()"
   ]
  },
  {
   "cell_type": "markdown",
   "metadata": {},
   "source": [
    "# Compare Verlinde with (total) Segre number"
   ]
  },
  {
   "cell_type": "markdown",
   "metadata": {},
   "source": [
    "To begin, we use the rank 1 bundle with no weight, expressed as `(0,0,0)`. The first chern class is trivial when there is one box, but not when there are more boxes."
   ]
  },
  {
   "cell_type": "code",
   "execution_count": 4,
   "metadata": {},
   "outputs": [
    {
     "data": {
      "text/html": [
       "<html><script type=\"math/tex; mode=display\">\\newcommand{\\Bold}[1]{\\mathbf{#1}}\\frac{{\\left(t_{1} + t_{2}\\right)} {\\left(t_{1} + t_{3}\\right)} {\\left(t_{2} + t_{3}\\right)}}{{\\left(t_{1} + t_{2} + t_{3}\\right)} t_{1} t_{2} t_{3}}</script></html>"
      ],
      "text/latex": [
       "$$\\newcommand{\\Bold}[1]{\\mathbf{#1}}\\frac{{\\left(t_{1} + t_{2}\\right)} {\\left(t_{1} + t_{3}\\right)} {\\left(t_{2} + t_{3}\\right)}}{{\\left(t_{1} + t_{2} + t_{3}\\right)} t_{1} t_{2} t_{3}}$$"
      ],
      "text/plain": [
       "(t1 + t2)*(t1 + t3)*(t2 + t3)/((t1 + t2 + t3)*t1*t2*t3)"
      ]
     },
     "execution_count": 4,
     "metadata": {},
     "output_type": "execute_result"
    }
   ],
   "source": [
    "x1,x2,x3,x4,y,v=Default4d.KT_ring.gens()\n",
    "u1,u2,u3,u4,w,sqrtv = Default4d.sqrtKT_ring.gens()\n",
    "t1,t2,t3,t4,m,halfm = Default4d.coho_ring.gens()\n",
    "q=Default4d.cohoseries_ring.gen()\n",
    "\n",
    "Weight=(0,0,0)\n",
    "tc = Vertex4d.Total_Chern(Weight,1)\n",
    "pretty(tc)"
   ]
  },
  {
   "cell_type": "code",
   "execution_count": 5,
   "metadata": {},
   "outputs": [
    {
     "data": {
      "text/html": [
       "<html><script type=\"math/tex; mode=display\">\\newcommand{\\Bold}[1]{\\mathbf{#1}}\\frac{{\\left(t_{1} + t_{2}\\right)} {\\left(t_{1} + t_{3}\\right)} {\\left(t_{2} + t_{3}\\right)}}{b {\\left(t_{1} + t_{2} + t_{3}\\right)} t_{1} t_{2} t_{3}}</script></html>"
      ],
      "text/latex": [
       "$$\\newcommand{\\Bold}[1]{\\mathbf{#1}}\\frac{{\\left(t_{1} + t_{2}\\right)} {\\left(t_{1} + t_{3}\\right)} {\\left(t_{2} + t_{3}\\right)}}{b {\\left(t_{1} + t_{2} + t_{3}\\right)} t_{1} t_{2} t_{3}}$$"
      ],
      "text/plain": [
       "(t1 + t2)*(t1 + t3)*(t2 + t3)/(b*(t1 + t2 + t3)*t1*t2*t3)"
      ]
     },
     "execution_count": 5,
     "metadata": {},
     "output_type": "execute_result"
    }
   ],
   "source": [
    "b=var('b')\n",
    "verl = Vertex4d.Verlinde((0,0,0),1)(exp(t1*b),exp(t2*b),exp(t3*b),0,0,0)\n",
    "pretty(verl.taylor(b,0,1))\n"
   ]
  },
  {
   "cell_type": "markdown",
   "metadata": {},
   "source": [
    "We get the desired term when restricting to degree $-1$.\n",
    "\n",
    "When $n=2$,"
   ]
  },
  {
   "cell_type": "code",
   "execution_count": 41,
   "metadata": {},
   "outputs": [
    {
     "data": {
      "text/html": [
       "<html><script type=\"math/tex; mode=display\">\\newcommand{\\Bold}[1]{\\mathbf{#1}}-\\frac{{\\left(5 \\, t_{1}^{2} t_{2} t_{3} + 5 \\, t_{1} t_{2}^{2} t_{3} + 5 \\, t_{1} t_{2} t_{3}^{2} - t_{1}^{2} t_{2} - t_{1} t_{2}^{2} - t_{1}^{2} t_{3} - 2 \\, t_{1} t_{2} t_{3} - t_{2}^{2} t_{3} - t_{1} t_{3}^{2} - t_{2} t_{3}^{2}\\right)} {\\left(t_{1} + t_{2}\\right)} {\\left(t_{1} + t_{3}\\right)} {\\left(t_{2} + t_{3}\\right)}}{2 \\, {\\left(t_{1} + t_{2} + t_{3}\\right)}^{2} t_{1}^{2} t_{2}^{2} t_{3}^{2}}</script></html>"
      ],
      "text/latex": [
       "$$\\newcommand{\\Bold}[1]{\\mathbf{#1}}-\\frac{{\\left(5 \\, t_{1}^{2} t_{2} t_{3} + 5 \\, t_{1} t_{2}^{2} t_{3} + 5 \\, t_{1} t_{2} t_{3}^{2} - t_{1}^{2} t_{2} - t_{1} t_{2}^{2} - t_{1}^{2} t_{3} - 2 \\, t_{1} t_{2} t_{3} - t_{2}^{2} t_{3} - t_{1} t_{3}^{2} - t_{2} t_{3}^{2}\\right)} {\\left(t_{1} + t_{2}\\right)} {\\left(t_{1} + t_{3}\\right)} {\\left(t_{2} + t_{3}\\right)}}{2 \\, {\\left(t_{1} + t_{2} + t_{3}\\right)}^{2} t_{1}^{2} t_{2}^{2} t_{3}^{2}}$$"
      ],
      "text/plain": [
       "-1/2*(5*t1^2*t2*t3 + 5*t1*t2^2*t3 + 5*t1*t2*t3^2 - t1^2*t2 - t1*t2^2 - t1^2*t3 - 2*t1*t2*t3 - t2^2*t3 - t1*t3^2 - t2*t3^2)*(t1 + t2)*(t1 + t3)*(t2 + t3)/((t1 + t2 + t3)^2*t1^2*t2^2*t3^2)"
      ]
     },
     "execution_count": 41,
     "metadata": {},
     "output_type": "execute_result"
    }
   ],
   "source": [
    "tc2 = Vertex4d.Total_Chern(Weight,2)\n",
    "pretty(tc2)"
   ]
  },
  {
   "cell_type": "code",
   "execution_count": 42,
   "metadata": {},
   "outputs": [
    {
     "data": {
      "text/html": [
       "<html><script type=\"math/tex; mode=display\">\\newcommand{\\Bold}[1]{\\mathbf{#1}}\\frac{{\\left(5 \\, b t_{1}^{2} t_{2} t_{3} + 5 \\, b t_{1} t_{2}^{2} t_{3} + 5 \\, b t_{1} t_{2} t_{3}^{2} + t_{1}^{2} t_{2} + t_{1} t_{2}^{2} + t_{1}^{2} t_{3} + 2 \\, t_{1} t_{2} t_{3} + t_{2}^{2} t_{3} + t_{1} t_{3}^{2} + t_{2} t_{3}^{2}\\right)} {\\left(t_{1} + t_{2}\\right)} {\\left(t_{1} + t_{3}\\right)} {\\left(t_{2} + t_{3}\\right)}}{2 \\, b^{2} {\\left(t_{1} + t_{2} + t_{3}\\right)}^{2} t_{1}^{2} t_{2}^{2} t_{3}^{2}}</script></html>"
      ],
      "text/latex": [
       "$$\\newcommand{\\Bold}[1]{\\mathbf{#1}}\\frac{{\\left(5 \\, b t_{1}^{2} t_{2} t_{3} + 5 \\, b t_{1} t_{2}^{2} t_{3} + 5 \\, b t_{1} t_{2} t_{3}^{2} + t_{1}^{2} t_{2} + t_{1} t_{2}^{2} + t_{1}^{2} t_{3} + 2 \\, t_{1} t_{2} t_{3} + t_{2}^{2} t_{3} + t_{1} t_{3}^{2} + t_{2} t_{3}^{2}\\right)} {\\left(t_{1} + t_{2}\\right)} {\\left(t_{1} + t_{3}\\right)} {\\left(t_{2} + t_{3}\\right)}}{2 \\, b^{2} {\\left(t_{1} + t_{2} + t_{3}\\right)}^{2} t_{1}^{2} t_{2}^{2} t_{3}^{2}}$$"
      ],
      "text/plain": [
       "1/2*(5*b*t1^2*t2*t3 + 5*b*t1*t2^2*t3 + 5*b*t1*t2*t3^2 + t1^2*t2 + t1*t2^2 + t1^2*t3 + 2*t1*t2*t3 + t2^2*t3 + t1*t3^2 + t2*t3^2)*(t1 + t2)*(t1 + t3)*(t2 + t3)/(b^2*(t1 + t2 + t3)^2*t1^2*t2^2*t3^2)"
      ]
     },
     "execution_count": 42,
     "metadata": {},
     "output_type": "execute_result"
    }
   ],
   "source": [
    "ts2 = Vertex4d.Total_Segre(Weight,2)(t1=t1*b,t2=t2*b,t3=t3*b)\n",
    "pretty(ts2.taylor(b,0,0))"
   ]
  },
  {
   "cell_type": "code",
   "execution_count": 43,
   "metadata": {},
   "outputs": [
    {
     "data": {
      "text/html": [
       "<html><script type=\"math/tex; mode=display\">\\newcommand{\\Bold}[1]{\\mathbf{#1}}-\\frac{{\\left(15 \\, b t_{1}^{2} t_{2} t_{3} + 15 \\, b t_{1} t_{2}^{2} t_{3} + 15 \\, b t_{1} t_{2} t_{3}^{2} - 2 \\, t_{1}^{2} t_{2} - 2 \\, t_{1} t_{2}^{2} - 2 \\, t_{1}^{2} t_{3} - 4 \\, t_{1} t_{2} t_{3} - 2 \\, t_{2}^{2} t_{3} - 2 \\, t_{1} t_{3}^{2} - 2 \\, t_{2} t_{3}^{2}\\right)} {\\left(t_{1} + t_{2}\\right)} {\\left(t_{1} + t_{3}\\right)} {\\left(t_{2} + t_{3}\\right)}}{4 \\, b^{2} {\\left(t_{1} + t_{2} + t_{3}\\right)}^{2} t_{1}^{2} t_{2}^{2} t_{3}^{2}}</script></html>"
      ],
      "text/latex": [
       "$$\\newcommand{\\Bold}[1]{\\mathbf{#1}}-\\frac{{\\left(15 \\, b t_{1}^{2} t_{2} t_{3} + 15 \\, b t_{1} t_{2}^{2} t_{3} + 15 \\, b t_{1} t_{2} t_{3}^{2} - 2 \\, t_{1}^{2} t_{2} - 2 \\, t_{1} t_{2}^{2} - 2 \\, t_{1}^{2} t_{3} - 4 \\, t_{1} t_{2} t_{3} - 2 \\, t_{2}^{2} t_{3} - 2 \\, t_{1} t_{3}^{2} - 2 \\, t_{2} t_{3}^{2}\\right)} {\\left(t_{1} + t_{2}\\right)} {\\left(t_{1} + t_{3}\\right)} {\\left(t_{2} + t_{3}\\right)}}{4 \\, b^{2} {\\left(t_{1} + t_{2} + t_{3}\\right)}^{2} t_{1}^{2} t_{2}^{2} t_{3}^{2}}$$"
      ],
      "text/plain": [
       "-1/4*(15*b*t1^2*t2*t3 + 15*b*t1*t2^2*t3 + 15*b*t1*t2*t3^2 - 2*t1^2*t2 - 2*t1*t2^2 - 2*t1^2*t3 - 4*t1*t2*t3 - 2*t2^2*t3 - 2*t1*t3^2 - 2*t2*t3^2)*(t1 + t2)*(t1 + t3)*(t2 + t3)/(b^2*(t1 + t2 + t3)^2*t1^2*t2^2*t3^2)"
      ]
     },
     "execution_count": 43,
     "metadata": {},
     "output_type": "execute_result"
    }
   ],
   "source": [
    "verl2=Vertex4d.Verlinde((0,0,0),2)(exp(t1*b),exp(t2*b),exp(t3*b),0,0,0)\n",
    "pretty(verl2.taylor(b,0,0))"
   ]
  },
  {
   "cell_type": "markdown",
   "metadata": {},
   "source": [
    "We see in degree $-2$, this does not agree with the segre number:"
   ]
  },
  {
   "cell_type": "markdown",
   "metadata": {},
   "source": [
    "Using segre class seems to be unrelated. To simplify computation, we set $t_i=1$."
   ]
  },
  {
   "cell_type": "code",
   "execution_count": 61,
   "metadata": {},
   "outputs": [
    {
     "data": {
      "text/html": [
       "<html><script type=\"math/tex; mode=display\">\\newcommand{\\Bold}[1]{\\mathbf{#1}}-\\frac{20}{3}</script></html>"
      ],
      "text/latex": [
       "$$\\newcommand{\\Bold}[1]{\\mathbf{#1}}-\\frac{20}{3}$$"
      ],
      "text/plain": [
       "-20/3"
      ]
     },
     "execution_count": 61,
     "metadata": {},
     "output_type": "execute_result"
    }
   ],
   "source": [
    "tc2 = Vertex4d.Total_Chern(Weight,2)(t1=b,t2=b,t3=b)\n",
    "(tc2*b^2).diff(b).limit(b=0)"
   ]
  },
  {
   "cell_type": "code",
   "execution_count": 62,
   "metadata": {},
   "outputs": [
    {
     "data": {
      "text/html": [
       "<html><script type=\"math/tex; mode=display\">\\newcommand{\\Bold}[1]{\\mathbf{#1}}-10</script></html>"
      ],
      "text/latex": [
       "$$\\newcommand{\\Bold}[1]{\\mathbf{#1}}-10$$"
      ],
      "text/plain": [
       "-10"
      ]
     },
     "execution_count": 62,
     "metadata": {},
     "output_type": "execute_result"
    }
   ],
   "source": [
    "verl2=Vertex4d.Verlinde((0,0,0),2)(exp(b),exp(b),exp(b),0,0,0)\n",
    "(verl2*b^2).diff(b).limit(b=0)"
   ]
  },
  {
   "cell_type": "markdown",
   "metadata": {},
   "source": [
    "See what happens when $n=3$,"
   ]
  },
  {
   "cell_type": "code",
   "execution_count": 59,
   "metadata": {
    "scrolled": true
   },
   "outputs": [
    {
     "data": {
      "text/html": [
       "<html><script type=\"math/tex; mode=display\">\\newcommand{\\Bold}[1]{\\mathbf{#1}}\\frac{256}{81}</script></html>"
      ],
      "text/latex": [
       "$$\\newcommand{\\Bold}[1]{\\mathbf{#1}}\\frac{256}{81}$$"
      ],
      "text/plain": [
       "256/81"
      ]
     },
     "execution_count": 59,
     "metadata": {},
     "output_type": "execute_result"
    }
   ],
   "source": [
    "tc3 = Vertex4d.Total_Chern(Weight,3)(t1=b,t2=b,t3=b)\n",
    "(tc3*b^3).limit(b=0)"
   ]
  },
  {
   "cell_type": "code",
   "execution_count": 60,
   "metadata": {},
   "outputs": [
    {
     "data": {
      "text/html": [
       "<html><script type=\"math/tex; mode=display\">\\newcommand{\\Bold}[1]{\\mathbf{#1}}-\\frac{160}{9}</script></html>"
      ],
      "text/latex": [
       "$$\\newcommand{\\Bold}[1]{\\mathbf{#1}}-\\frac{160}{9}$$"
      ],
      "text/plain": [
       "-160/9"
      ]
     },
     "execution_count": 60,
     "metadata": {},
     "output_type": "execute_result"
    }
   ],
   "source": [
    "(tc3*b^3).diff(b).limit(b=0)"
   ]
  },
  {
   "cell_type": "code",
   "execution_count": 57,
   "metadata": {},
   "outputs": [
    {
     "data": {
      "text/html": [
       "<html><script type=\"math/tex; mode=display\">\\newcommand{\\Bold}[1]{\\mathbf{#1}}-\\frac{464}{81}</script></html>"
      ],
      "text/latex": [
       "$$\\newcommand{\\Bold}[1]{\\mathbf{#1}}-\\frac{464}{81}$$"
      ],
      "text/plain": [
       "-464/81"
      ]
     },
     "execution_count": 57,
     "metadata": {},
     "output_type": "execute_result"
    }
   ],
   "source": [
    "pretty(tc3)(1,1,1)"
   ]
  },
  {
   "cell_type": "code",
   "execution_count": 51,
   "metadata": {},
   "outputs": [
    {
     "data": {
      "text/html": [
       "<html><script type=\"math/tex; mode=display\">\\newcommand{\\Bold}[1]{\\mathbf{#1}}\\frac{256}{81}</script></html>"
      ],
      "text/latex": [
       "$$\\newcommand{\\Bold}[1]{\\mathbf{#1}}\\frac{256}{81}$$"
      ],
      "text/plain": [
       "256/81"
      ]
     },
     "execution_count": 51,
     "metadata": {},
     "output_type": "execute_result"
    }
   ],
   "source": [
    "verl3=Vertex4d.Verlinde((0,0,0),3)(exp(b),exp(b),exp(b),0,0,0)\n",
    "(verl3*b^3).limit(b=0)"
   ]
  },
  {
   "cell_type": "code",
   "execution_count": 56,
   "metadata": {},
   "outputs": [
    {
     "data": {
      "text/html": [
       "<html><script type=\"math/tex; mode=display\">\\newcommand{\\Bold}[1]{\\mathbf{#1}}-\\frac{80}{3}</script></html>"
      ],
      "text/latex": [
       "$$\\newcommand{\\Bold}[1]{\\mathbf{#1}}-\\frac{80}{3}$$"
      ],
      "text/plain": [
       "-80/3"
      ]
     },
     "execution_count": 56,
     "metadata": {},
     "output_type": "execute_result"
    }
   ],
   "source": [
    "(verl3*b^3).diff(b).limit(b=0)"
   ]
  },
  {
   "cell_type": "markdown",
   "metadata": {},
   "source": [
    "There seems to be a difference by a factor of $2/3$?"
   ]
  },
  {
   "cell_type": "code",
   "execution_count": 63,
   "metadata": {},
   "outputs": [
    {
     "data": {
      "text/html": [
       "<html><script type=\"math/tex; mode=display\">\\newcommand{\\Bold}[1]{\\mathbf{#1}}-\\frac{320}{9}</script></html>"
      ],
      "text/latex": [
       "$$\\newcommand{\\Bold}[1]{\\mathbf{#1}}-\\frac{320}{9}$$"
      ],
      "text/plain": [
       "-320/9"
      ]
     },
     "execution_count": 63,
     "metadata": {},
     "output_type": "execute_result"
    }
   ],
   "source": [
    "verl4=Vertex4d.Verlinde((0,0,0),4)(exp(b),exp(b),exp(b),0,0,0)\n",
    "(verl4*b^4).diff(b).limit(b=0)"
   ]
  },
  {
   "cell_type": "code",
   "execution_count": 64,
   "metadata": {},
   "outputs": [
    {
     "data": {
      "text/html": [
       "<html><script type=\"math/tex; mode=display\">\\newcommand{\\Bold}[1]{\\mathbf{#1}}-\\frac{640}{27}</script></html>"
      ],
      "text/latex": [
       "$$\\newcommand{\\Bold}[1]{\\mathbf{#1}}-\\frac{640}{27}$$"
      ],
      "text/plain": [
       "-640/27"
      ]
     },
     "execution_count": 64,
     "metadata": {},
     "output_type": "execute_result"
    }
   ],
   "source": [
    "tc4 = Vertex4d.Total_Chern(Weight,4)(t1=b,t2=b,t3=b)\n",
    "(tc4*b^4).diff(b).limit(b=0)"
   ]
  },
  {
   "cell_type": "markdown",
   "metadata": {},
   "source": [
    "At least for $n\\leq 4$. Is this factor dependent on weight?\n",
    "\n",
    "Try weight $(1,2,3)$ when $n=1$"
   ]
  },
  {
   "cell_type": "code",
   "execution_count": 7,
   "metadata": {},
   "outputs": [
    {
     "data": {
      "text/html": [
       "<html><script type=\"math/tex; mode=display\">\\newcommand{\\Bold}[1]{\\mathbf{#1}}\\frac{{\\left(t_{1} + 2 \\, t_{2} + 3 \\, t_{3} + 1\\right)} {\\left(t_{1} + t_{2}\\right)} {\\left(t_{1} + t_{3}\\right)} {\\left(t_{2} + t_{3}\\right)}}{{\\left(t_{1} + t_{2} + t_{3}\\right)} t_{1} t_{2} t_{3}}</script></html>"
      ],
      "text/latex": [
       "$$\\newcommand{\\Bold}[1]{\\mathbf{#1}}\\frac{{\\left(t_{1} + 2 \\, t_{2} + 3 \\, t_{3} + 1\\right)} {\\left(t_{1} + t_{2}\\right)} {\\left(t_{1} + t_{3}\\right)} {\\left(t_{2} + t_{3}\\right)}}{{\\left(t_{1} + t_{2} + t_{3}\\right)} t_{1} t_{2} t_{3}}$$"
      ],
      "text/plain": [
       "(t1 + 2*t2 + 3*t3 + 1)*(t1 + t2)*(t1 + t3)*(t2 + t3)/((t1 + t2 + t3)*t1*t2*t3)"
      ]
     },
     "execution_count": 7,
     "metadata": {},
     "output_type": "execute_result"
    }
   ],
   "source": [
    "Weight1=(1,2,3)\n",
    "tc = Vertex4d.Total_Chern(Weight1,1)\n",
    "pretty(tc)"
   ]
  },
  {
   "cell_type": "code",
   "execution_count": 14,
   "metadata": {},
   "outputs": [
    {
     "data": {
      "text/html": [
       "<html><script type=\"math/tex; mode=display\">\\newcommand{\\Bold}[1]{\\mathbf{#1}}\\frac{{\\left(b t_{1} + 2 \\, b t_{2} + 3 \\, b t_{3} + 1\\right)} {\\left(t_{1} + t_{2}\\right)} {\\left(t_{1} + t_{3}\\right)} {\\left(t_{2} + t_{3}\\right)}}{b {\\left(t_{1} + t_{2} + t_{3}\\right)} t_{1} t_{2} t_{3}}</script></html>"
      ],
      "text/latex": [
       "$$\\newcommand{\\Bold}[1]{\\mathbf{#1}}\\frac{{\\left(b t_{1} + 2 \\, b t_{2} + 3 \\, b t_{3} + 1\\right)} {\\left(t_{1} + t_{2}\\right)} {\\left(t_{1} + t_{3}\\right)} {\\left(t_{2} + t_{3}\\right)}}{b {\\left(t_{1} + t_{2} + t_{3}\\right)} t_{1} t_{2} t_{3}}$$"
      ],
      "text/plain": [
       "(b*t1 + 2*b*t2 + 3*b*t3 + 1)*(t1 + t2)*(t1 + t3)*(t2 + t3)/(b*(t1 + t2 + t3)*t1*t2*t3)"
      ]
     },
     "execution_count": 14,
     "metadata": {},
     "output_type": "execute_result"
    }
   ],
   "source": [
    "verl = Vertex4d.Verlinde(Weight1,1)(exp(t1*b),exp(t2*b),exp(t3*b),0,0,0)\n",
    "pretty(verl.taylor(b,0,0))"
   ]
  },
  {
   "cell_type": "markdown",
   "metadata": {},
   "source": [
    "When $n=2$"
   ]
  }
 ],
 "metadata": {
  "kernelspec": {
   "display_name": "SageMath 9.3",
   "language": "sage",
   "name": "sagemath"
  },
  "language_info": {
   "codemirror_mode": {
    "name": "ipython",
    "version": 3
   },
   "file_extension": ".py",
   "mimetype": "text/x-python",
   "name": "python",
   "nbconvert_exporter": "python",
   "pygments_lexer": "ipython3",
   "version": "3.7.10"
  }
 },
 "nbformat": 4,
 "nbformat_minor": 4
}
