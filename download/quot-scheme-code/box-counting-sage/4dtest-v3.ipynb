{
 "cells": [
  {
   "cell_type": "code",
   "execution_count": 1,
   "metadata": {},
   "outputs": [],
   "source": [
    "reset()\n",
    "%display latex\n",
    "Partitions.options.latex=\"list\"\n",
    "load(\"partition_4d.sage\")"
   ]
  },
  {
   "cell_type": "code",
   "execution_count": 2,
   "metadata": {},
   "outputs": [
    {
     "data": {
      "text/html": [
       "<html><script type=\"math/tex; mode=display\">\\newcommand{\\Bold}[1]{\\mathbf{#1}}\\verb|point-like|\\phantom{\\verb!x!}\\verb|solid|\\phantom{\\verb!x!}\\verb|partition|\\phantom{\\verb!x!}\\verb|with|\\phantom{\\verb!x!}\\verb|boxes|\\phantom{\\verb!x!}\\verb|[(0,|\\phantom{\\verb!x!}\\verb|0,|\\phantom{\\verb!x!}\\verb|0,|\\phantom{\\verb!x!}\\verb|0),|\\phantom{\\verb!x!}\\verb|(1,|\\phantom{\\verb!x!}\\verb|0,|\\phantom{\\verb!x!}\\verb|0,|\\phantom{\\verb!x!}\\verb|0)]|</script></html>"
      ],
      "text/latex": [
       "$$\\newcommand{\\Bold}[1]{\\mathbf{#1}}\\verb|point-like|\\phantom{\\verb!x!}\\verb|solid|\\phantom{\\verb!x!}\\verb|partition|\\phantom{\\verb!x!}\\verb|with|\\phantom{\\verb!x!}\\verb|boxes|\\phantom{\\verb!x!}\\verb|[(0,|\\phantom{\\verb!x!}\\verb|0,|\\phantom{\\verb!x!}\\verb|0,|\\phantom{\\verb!x!}\\verb|0),|\\phantom{\\verb!x!}\\verb|(1,|\\phantom{\\verb!x!}\\verb|0,|\\phantom{\\verb!x!}\\verb|0,|\\phantom{\\verb!x!}\\verb|0)]|$$"
      ],
      "text/plain": [
       "point-like solid partition with boxes [(0, 0, 0, 0), (1, 0, 0, 0)]"
      ]
     },
     "execution_count": 2,
     "metadata": {},
     "output_type": "execute_result"
    }
   ],
   "source": [
    "pP4ds = Partitions4d()\n",
    "pP4d = list(pP4ds.with_num_boxes(2))\n",
    "Ex = pP4d[2]\n",
    "Ex"
   ]
  },
  {
   "cell_type": "code",
   "execution_count": 3,
   "metadata": {},
   "outputs": [],
   "source": [
    "load(\"vertex_4d.sage\")\n",
    "EasyEx=Partition4d([(0,0,0,0)])\n",
    "x1,x2,x3,x4,y,v=Default4d.KT_ring.gens()\n",
    "u1,u2,u3,u4,w,sqrtv = Default4d.sqrtKT_ring.gens()\n",
    "t1,t2,t3,t4,m,halfm = Default4d.coho_ring.gens()\n",
    "q=Default4d.cohoseries_ring.gen()\n",
    "b=var('b')"
   ]
  },
  {
   "cell_type": "markdown",
   "metadata": {},
   "source": [
    "# Symmetry in Segre numbers"
   ]
  },
  {
   "cell_type": "markdown",
   "metadata": {},
   "source": [
    "We check the symmetry in \n",
    "$$\\int_{[X^{[n]}]}s_n(\\alpha^{[n]})$$\n",
    "where the rank of $\\alpha$ is equal to $a+1$ and $-a$ for some $a>0$."
   ]
  },
  {
   "cell_type": "markdown",
   "metadata": {},
   "source": [
    "First we try $a=1$ where $\\alpha=(\\mathcal{O}_X\\otimes x_1)^{\\oplus2}$ versus $\\alpha=-\\mathcal{O}_X\\otimes x_1$"
   ]
  },
  {
   "cell_type": "code",
   "execution_count": 5,
   "metadata": {},
   "outputs": [],
   "source": [
    "def deg0(f):\n",
    "    g=f.taylor(b,0,0)\n",
    "    L=g.coefficients()\n",
    "    return L[len(L)-1][0]\n",
    "\n"
   ]
  },
  {
   "cell_type": "code",
   "execution_count": 10,
   "metadata": {},
   "outputs": [
    {
     "data": {
      "text/html": [
       "<html><script type=\"math/tex; mode=display\">\\newcommand{\\Bold}[1]{\\mathbf{#1}}\\frac{3 \\, {\\left(t_{1}^{2} t_{2} + t_{1} t_{2}^{2} + t_{1}^{2} t_{3} - 3 \\, t_{1} t_{2} t_{3} - 4 \\, t_{2}^{2} t_{3} + t_{1} t_{3}^{2} - 4 \\, t_{2} t_{3}^{2}\\right)} {\\left(t_{1} + t_{2}\\right)} {\\left(t_{1} + t_{3}\\right)} {\\left(t_{2} + t_{3}\\right)}}{{\\left(t_{1} + t_{2} + t_{3}\\right)}^{2} t_{2}^{2} t_{3}^{2}}</script></html>"
      ],
      "text/latex": [
       "$$\\newcommand{\\Bold}[1]{\\mathbf{#1}}\\frac{3 \\, {\\left(t_{1}^{2} t_{2} + t_{1} t_{2}^{2} + t_{1}^{2} t_{3} - 3 \\, t_{1} t_{2} t_{3} - 4 \\, t_{2}^{2} t_{3} + t_{1} t_{3}^{2} - 4 \\, t_{2} t_{3}^{2}\\right)} {\\left(t_{1} + t_{2}\\right)} {\\left(t_{1} + t_{3}\\right)} {\\left(t_{2} + t_{3}\\right)}}{{\\left(t_{1} + t_{2} + t_{3}\\right)}^{2} t_{2}^{2} t_{3}^{2}}$$"
      ],
      "text/plain": [
       "3*(t1^2*t2 + t1*t2^2 + t1^2*t3 - 3*t1*t2*t3 - 4*t2^2*t3 + t1*t3^2 - 4*t2*t3^2)*(t1 + t2)*(t1 + t3)*(t2 + t3)/((t1 + t2 + t3)^2*t2^2*t3^2)"
      ]
     },
     "execution_count": 10,
     "metadata": {},
     "output_type": "execute_result"
    }
   ],
   "source": [
    "c2 = Vertex4d.Chern_Num((1,0,0,1,0,0),2)(t1*b,t2*b,t3*b,t4*b,0,0)\n",
    "pretty(c2.taylor(b,0,5))"
   ]
  },
  {
   "cell_type": "code",
   "execution_count": 11,
   "metadata": {},
   "outputs": [
    {
     "data": {
      "text/html": [
       "<html><script type=\"math/tex; mode=display\">\\newcommand{\\Bold}[1]{\\mathbf{#1}}\\frac{3 \\, {\\left(t_{1}^{2} t_{2} + t_{1} t_{2}^{2} + t_{1}^{2} t_{3} - 3 \\, t_{1} t_{2} t_{3} - 4 \\, t_{2}^{2} t_{3} + t_{1} t_{3}^{2} - 4 \\, t_{2} t_{3}^{2}\\right)} {\\left(t_{1} + t_{2}\\right)} {\\left(t_{1} + t_{3}\\right)} {\\left(t_{2} + t_{3}\\right)}}{2 \\, {\\left(t_{1} + t_{2} + t_{3}\\right)}^{2} t_{2}^{2} t_{3}^{2}}</script></html>"
      ],
      "text/latex": [
       "$$\\newcommand{\\Bold}[1]{\\mathbf{#1}}\\frac{3 \\, {\\left(t_{1}^{2} t_{2} + t_{1} t_{2}^{2} + t_{1}^{2} t_{3} - 3 \\, t_{1} t_{2} t_{3} - 4 \\, t_{2}^{2} t_{3} + t_{1} t_{3}^{2} - 4 \\, t_{2} t_{3}^{2}\\right)} {\\left(t_{1} + t_{2}\\right)} {\\left(t_{1} + t_{3}\\right)} {\\left(t_{2} + t_{3}\\right)}}{2 \\, {\\left(t_{1} + t_{2} + t_{3}\\right)}^{2} t_{2}^{2} t_{3}^{2}}$$"
      ],
      "text/plain": [
       "3/2*(t1^2*t2 + t1*t2^2 + t1^2*t3 - 3*t1*t2*t3 - 4*t2^2*t3 + t1*t3^2 - 4*t2*t3^2)*(t1 + t2)*(t1 + t3)*(t2 + t3)/((t1 + t2 + t3)^2*t2^2*t3^2)"
      ]
     },
     "execution_count": 11,
     "metadata": {},
     "output_type": "execute_result"
    }
   ],
   "source": [
    "s1 = Vertex4d.Total_Segre((1,0,0),2)(t1*b,t2*b,t3*b,t4*b,0,0)\n",
    "pretty(deg0(s1.taylor(b,0,5)))"
   ]
  },
  {
   "cell_type": "code",
   "execution_count": 12,
   "metadata": {},
   "outputs": [
    {
     "data": {
      "text/html": [
       "<html><script type=\"math/tex; mode=display\">\\newcommand{\\Bold}[1]{\\mathbf{#1}}\\frac{10 \\, {\\left(t_{1}^{4} t_{2}^{2} + 2 \\, t_{1}^{3} t_{2}^{3} + t_{1}^{2} t_{2}^{4} + 2 \\, t_{1}^{4} t_{2} t_{3} - 9 \\, t_{1}^{3} t_{2}^{2} t_{3} - 24 \\, t_{1}^{2} t_{2}^{3} t_{3} - 13 \\, t_{1} t_{2}^{4} t_{3} + t_{1}^{4} t_{3}^{2} - 9 \\, t_{1}^{3} t_{2} t_{3}^{2} - 30 \\, t_{1}^{2} t_{2}^{2} t_{3}^{2} - 14 \\, t_{1} t_{2}^{3} t_{3}^{2} + 6 \\, t_{2}^{4} t_{3}^{2} + 2 \\, t_{1}^{3} t_{3}^{3} - 24 \\, t_{1}^{2} t_{2} t_{3}^{3} - 14 \\, t_{1} t_{2}^{2} t_{3}^{3} + 12 \\, t_{2}^{3} t_{3}^{3} + t_{1}^{2} t_{3}^{4} - 13 \\, t_{1} t_{2} t_{3}^{4} + 6 \\, t_{2}^{2} t_{3}^{4}\\right)} {\\left(t_{1} + t_{2}\\right)} {\\left(t_{1} + t_{3}\\right)} {\\left(t_{2} + t_{3}\\right)}}{3 \\, {\\left(t_{1} + t_{2} + t_{3}\\right)}^{3} t_{2}^{3} t_{3}^{3}}</script></html>"
      ],
      "text/latex": [
       "$$\\newcommand{\\Bold}[1]{\\mathbf{#1}}\\frac{10 \\, {\\left(t_{1}^{4} t_{2}^{2} + 2 \\, t_{1}^{3} t_{2}^{3} + t_{1}^{2} t_{2}^{4} + 2 \\, t_{1}^{4} t_{2} t_{3} - 9 \\, t_{1}^{3} t_{2}^{2} t_{3} - 24 \\, t_{1}^{2} t_{2}^{3} t_{3} - 13 \\, t_{1} t_{2}^{4} t_{3} + t_{1}^{4} t_{3}^{2} - 9 \\, t_{1}^{3} t_{2} t_{3}^{2} - 30 \\, t_{1}^{2} t_{2}^{2} t_{3}^{2} - 14 \\, t_{1} t_{2}^{3} t_{3}^{2} + 6 \\, t_{2}^{4} t_{3}^{2} + 2 \\, t_{1}^{3} t_{3}^{3} - 24 \\, t_{1}^{2} t_{2} t_{3}^{3} - 14 \\, t_{1} t_{2}^{2} t_{3}^{3} + 12 \\, t_{2}^{3} t_{3}^{3} + t_{1}^{2} t_{3}^{4} - 13 \\, t_{1} t_{2} t_{3}^{4} + 6 \\, t_{2}^{2} t_{3}^{4}\\right)} {\\left(t_{1} + t_{2}\\right)} {\\left(t_{1} + t_{3}\\right)} {\\left(t_{2} + t_{3}\\right)}}{3 \\, {\\left(t_{1} + t_{2} + t_{3}\\right)}^{3} t_{2}^{3} t_{3}^{3}}$$"
      ],
      "text/plain": [
       "10/3*(t1^4*t2^2 + 2*t1^3*t2^3 + t1^2*t2^4 + 2*t1^4*t2*t3 - 9*t1^3*t2^2*t3 - 24*t1^2*t2^3*t3 - 13*t1*t2^4*t3 + t1^4*t3^2 - 9*t1^3*t2*t3^2 - 30*t1^2*t2^2*t3^2 - 14*t1*t2^3*t3^2 + 6*t2^4*t3^2 + 2*t1^3*t3^3 - 24*t1^2*t2*t3^3 - 14*t1*t2^2*t3^3 + 12*t2^3*t3^3 + t1^2*t3^4 - 13*t1*t2*t3^4 + 6*t2^2*t3^4)*(t1 + t2)*(t1 + t3)*(t2 + t3)/((t1 + t2 + t3)^3*t2^3*t3^3)"
      ]
     },
     "execution_count": 12,
     "metadata": {},
     "output_type": "execute_result"
    }
   ],
   "source": [
    "c2 = Vertex4d.Chern_Num((1,0,0,1,0,0),3)(t1*b,t2*b,t3*b,t4*b,0,0)\n",
    "pretty(c2.taylor(b,0,5))"
   ]
  },
  {
   "cell_type": "code",
   "execution_count": 13,
   "metadata": {},
   "outputs": [
    {
     "data": {
      "text/html": [
       "<html><script type=\"math/tex; mode=display\">\\newcommand{\\Bold}[1]{\\mathbf{#1}}-\\frac{{\\left(5 \\, t_{1}^{6} t_{2}^{2} + 10 \\, t_{1}^{5} t_{2}^{3} + 5 \\, t_{1}^{4} t_{2}^{4} + 10 \\, t_{1}^{6} t_{2} t_{3} - 51 \\, t_{1}^{5} t_{2}^{2} t_{3} - 138 \\, t_{1}^{4} t_{2}^{3} t_{3} - 89 \\, t_{1}^{3} t_{2}^{4} t_{3} - 18 \\, t_{1}^{2} t_{2}^{5} t_{3} - 6 \\, t_{1} t_{2}^{6} t_{3} + 5 \\, t_{1}^{6} t_{3}^{2} - 51 \\, t_{1}^{5} t_{2} t_{3}^{2} - 186 \\, t_{1}^{4} t_{2}^{2} t_{3}^{2} - 142 \\, t_{1}^{3} t_{2}^{3} t_{3}^{2} - 42 \\, t_{1}^{2} t_{2}^{4} t_{3}^{2} - 36 \\, t_{1} t_{2}^{5} t_{3}^{2} - 6 \\, t_{2}^{6} t_{3}^{2} + 10 \\, t_{1}^{5} t_{3}^{3} - 138 \\, t_{1}^{4} t_{2} t_{3}^{3} - 142 \\, t_{1}^{3} t_{2}^{2} t_{3}^{3} - 48 \\, t_{1}^{2} t_{2}^{3} t_{3}^{3} - 72 \\, t_{1} t_{2}^{4} t_{3}^{3} - 18 \\, t_{2}^{5} t_{3}^{3} + 5 \\, t_{1}^{4} t_{3}^{4} - 89 \\, t_{1}^{3} t_{2} t_{3}^{4} - 42 \\, t_{1}^{2} t_{2}^{2} t_{3}^{4} - 72 \\, t_{1} t_{2}^{3} t_{3}^{4} - 24 \\, t_{2}^{4} t_{3}^{4} - 18 \\, t_{1}^{2} t_{2} t_{3}^{5} - 36 \\, t_{1} t_{2}^{2} t_{3}^{5} - 18 \\, t_{2}^{3} t_{3}^{5} - 6 \\, t_{1} t_{2} t_{3}^{6} - 6 \\, t_{2}^{2} t_{3}^{6}\\right)} {\\left(t_{1} + t_{2}\\right)} {\\left(t_{1} + t_{3}\\right)} {\\left(t_{2} + t_{3}\\right)}}{3 \\, {\\left(t_{1} + t_{2} + t_{3}\\right)}^{3} t_{1}^{2} t_{2}^{3} t_{3}^{3}}</script></html>"
      ],
      "text/latex": [
       "$$\\newcommand{\\Bold}[1]{\\mathbf{#1}}-\\frac{{\\left(5 \\, t_{1}^{6} t_{2}^{2} + 10 \\, t_{1}^{5} t_{2}^{3} + 5 \\, t_{1}^{4} t_{2}^{4} + 10 \\, t_{1}^{6} t_{2} t_{3} - 51 \\, t_{1}^{5} t_{2}^{2} t_{3} - 138 \\, t_{1}^{4} t_{2}^{3} t_{3} - 89 \\, t_{1}^{3} t_{2}^{4} t_{3} - 18 \\, t_{1}^{2} t_{2}^{5} t_{3} - 6 \\, t_{1} t_{2}^{6} t_{3} + 5 \\, t_{1}^{6} t_{3}^{2} - 51 \\, t_{1}^{5} t_{2} t_{3}^{2} - 186 \\, t_{1}^{4} t_{2}^{2} t_{3}^{2} - 142 \\, t_{1}^{3} t_{2}^{3} t_{3}^{2} - 42 \\, t_{1}^{2} t_{2}^{4} t_{3}^{2} - 36 \\, t_{1} t_{2}^{5} t_{3}^{2} - 6 \\, t_{2}^{6} t_{3}^{2} + 10 \\, t_{1}^{5} t_{3}^{3} - 138 \\, t_{1}^{4} t_{2} t_{3}^{3} - 142 \\, t_{1}^{3} t_{2}^{2} t_{3}^{3} - 48 \\, t_{1}^{2} t_{2}^{3} t_{3}^{3} - 72 \\, t_{1} t_{2}^{4} t_{3}^{3} - 18 \\, t_{2}^{5} t_{3}^{3} + 5 \\, t_{1}^{4} t_{3}^{4} - 89 \\, t_{1}^{3} t_{2} t_{3}^{4} - 42 \\, t_{1}^{2} t_{2}^{2} t_{3}^{4} - 72 \\, t_{1} t_{2}^{3} t_{3}^{4} - 24 \\, t_{2}^{4} t_{3}^{4} - 18 \\, t_{1}^{2} t_{2} t_{3}^{5} - 36 \\, t_{1} t_{2}^{2} t_{3}^{5} - 18 \\, t_{2}^{3} t_{3}^{5} - 6 \\, t_{1} t_{2} t_{3}^{6} - 6 \\, t_{2}^{2} t_{3}^{6}\\right)} {\\left(t_{1} + t_{2}\\right)} {\\left(t_{1} + t_{3}\\right)} {\\left(t_{2} + t_{3}\\right)}}{3 \\, {\\left(t_{1} + t_{2} + t_{3}\\right)}^{3} t_{1}^{2} t_{2}^{3} t_{3}^{3}}$$"
      ],
      "text/plain": [
       "-1/3*(5*t1^6*t2^2 + 10*t1^5*t2^3 + 5*t1^4*t2^4 + 10*t1^6*t2*t3 - 51*t1^5*t2^2*t3 - 138*t1^4*t2^3*t3 - 89*t1^3*t2^4*t3 - 18*t1^2*t2^5*t3 - 6*t1*t2^6*t3 + 5*t1^6*t3^2 - 51*t1^5*t2*t3^2 - 186*t1^4*t2^2*t3^2 - 142*t1^3*t2^3*t3^2 - 42*t1^2*t2^4*t3^2 - 36*t1*t2^5*t3^2 - 6*t2^6*t3^2 + 10*t1^5*t3^3 - 138*t1^4*t2*t3^3 - 142*t1^3*t2^2*t3^3 - 48*t1^2*t2^3*t3^3 - 72*t1*t2^4*t3^3 - 18*t2^5*t3^3 + 5*t1^4*t3^4 - 89*t1^3*t2*t3^4 - 42*t1^2*t2^2*t3^4 - 72*t1*t2^3*t3^4 - 24*t2^4*t3^4 - 18*t1^2*t2*t3^5 - 36*t1*t2^2*t3^5 - 18*t2^3*t3^5 - 6*t1*t2*t3^6 - 6*t2^2*t3^6)*(t1 + t2)*(t1 + t3)*(t2 + t3)/((t1 + t2 + t3)^3*t1^2*t2^3*t3^3)"
      ]
     },
     "execution_count": 13,
     "metadata": {},
     "output_type": "execute_result"
    }
   ],
   "source": [
    "s1 = Vertex4d.Total_Segre((1,0,0),3)(t1*b,t2*b,t3*b,t4*b,0,0)\n",
    "pretty(deg0(s1.taylor(b,0,5)))"
   ]
  },
  {
   "cell_type": "code",
   "execution_count": 14,
   "metadata": {},
   "outputs": [],
   "source": [
    "s1_numer = pretty(s1).numerator()"
   ]
  },
  {
   "cell_type": "code",
   "execution_count": 15,
   "metadata": {},
   "outputs": [],
   "source": [
    "s1_denom = taylor_reciprocal(pretty(s1).denominator(),3,b)"
   ]
  },
  {
   "cell_type": "code",
   "execution_count": 16,
   "metadata": {},
   "outputs": [
    {
     "data": {
      "text/html": [
       "<html><script type=\"math/tex; mode=display\">\\newcommand{\\Bold}[1]{\\mathbf{#1}}-\\frac{{\\left(5 \\, t_{1}^{6} t_{2}^{2} + 10 \\, t_{1}^{5} t_{2}^{3} + 5 \\, t_{1}^{4} t_{2}^{4} + 10 \\, t_{1}^{6} t_{2} t_{3} - 51 \\, t_{1}^{5} t_{2}^{2} t_{3} - 138 \\, t_{1}^{4} t_{2}^{3} t_{3} - 89 \\, t_{1}^{3} t_{2}^{4} t_{3} - 18 \\, t_{1}^{2} t_{2}^{5} t_{3} - 6 \\, t_{1} t_{2}^{6} t_{3} + 5 \\, t_{1}^{6} t_{3}^{2} - 51 \\, t_{1}^{5} t_{2} t_{3}^{2} - 186 \\, t_{1}^{4} t_{2}^{2} t_{3}^{2} - 142 \\, t_{1}^{3} t_{2}^{3} t_{3}^{2} - 42 \\, t_{1}^{2} t_{2}^{4} t_{3}^{2} - 36 \\, t_{1} t_{2}^{5} t_{3}^{2} - 6 \\, t_{2}^{6} t_{3}^{2} + 10 \\, t_{1}^{5} t_{3}^{3} - 138 \\, t_{1}^{4} t_{2} t_{3}^{3} - 142 \\, t_{1}^{3} t_{2}^{2} t_{3}^{3} - 48 \\, t_{1}^{2} t_{2}^{3} t_{3}^{3} - 72 \\, t_{1} t_{2}^{4} t_{3}^{3} - 18 \\, t_{2}^{5} t_{3}^{3} + 5 \\, t_{1}^{4} t_{3}^{4} - 89 \\, t_{1}^{3} t_{2} t_{3}^{4} - 42 \\, t_{1}^{2} t_{2}^{2} t_{3}^{4} - 72 \\, t_{1} t_{2}^{3} t_{3}^{4} - 24 \\, t_{2}^{4} t_{3}^{4} - 18 \\, t_{1}^{2} t_{2} t_{3}^{5} - 36 \\, t_{1} t_{2}^{2} t_{3}^{5} - 18 \\, t_{2}^{3} t_{3}^{5} - 6 \\, t_{1} t_{2} t_{3}^{6} - 6 \\, t_{2}^{2} t_{3}^{6}\\right)} {\\left(t_{1} + t_{2}\\right)} {\\left(t_{1} + t_{3}\\right)} {\\left(t_{2} + t_{3}\\right)}}{3 \\, {\\left(t_{1} + t_{2} + t_{3}\\right)}^{3} t_{1}^{2} t_{2}^{3} t_{3}^{3}}</script></html>"
      ],
      "text/latex": [
       "$$\\newcommand{\\Bold}[1]{\\mathbf{#1}}-\\frac{{\\left(5 \\, t_{1}^{6} t_{2}^{2} + 10 \\, t_{1}^{5} t_{2}^{3} + 5 \\, t_{1}^{4} t_{2}^{4} + 10 \\, t_{1}^{6} t_{2} t_{3} - 51 \\, t_{1}^{5} t_{2}^{2} t_{3} - 138 \\, t_{1}^{4} t_{2}^{3} t_{3} - 89 \\, t_{1}^{3} t_{2}^{4} t_{3} - 18 \\, t_{1}^{2} t_{2}^{5} t_{3} - 6 \\, t_{1} t_{2}^{6} t_{3} + 5 \\, t_{1}^{6} t_{3}^{2} - 51 \\, t_{1}^{5} t_{2} t_{3}^{2} - 186 \\, t_{1}^{4} t_{2}^{2} t_{3}^{2} - 142 \\, t_{1}^{3} t_{2}^{3} t_{3}^{2} - 42 \\, t_{1}^{2} t_{2}^{4} t_{3}^{2} - 36 \\, t_{1} t_{2}^{5} t_{3}^{2} - 6 \\, t_{2}^{6} t_{3}^{2} + 10 \\, t_{1}^{5} t_{3}^{3} - 138 \\, t_{1}^{4} t_{2} t_{3}^{3} - 142 \\, t_{1}^{3} t_{2}^{2} t_{3}^{3} - 48 \\, t_{1}^{2} t_{2}^{3} t_{3}^{3} - 72 \\, t_{1} t_{2}^{4} t_{3}^{3} - 18 \\, t_{2}^{5} t_{3}^{3} + 5 \\, t_{1}^{4} t_{3}^{4} - 89 \\, t_{1}^{3} t_{2} t_{3}^{4} - 42 \\, t_{1}^{2} t_{2}^{2} t_{3}^{4} - 72 \\, t_{1} t_{2}^{3} t_{3}^{4} - 24 \\, t_{2}^{4} t_{3}^{4} - 18 \\, t_{1}^{2} t_{2} t_{3}^{5} - 36 \\, t_{1} t_{2}^{2} t_{3}^{5} - 18 \\, t_{2}^{3} t_{3}^{5} - 6 \\, t_{1} t_{2} t_{3}^{6} - 6 \\, t_{2}^{2} t_{3}^{6}\\right)} {\\left(t_{1} + t_{2}\\right)} {\\left(t_{1} + t_{3}\\right)} {\\left(t_{2} + t_{3}\\right)}}{3 \\, {\\left(t_{1} + t_{2} + t_{3}\\right)}^{3} t_{1}^{2} t_{2}^{3} t_{3}^{3}}$$"
      ],
      "text/plain": [
       "-1/3*(5*t1^6*t2^2 + 10*t1^5*t2^3 + 5*t1^4*t2^4 + 10*t1^6*t2*t3 - 51*t1^5*t2^2*t3 - 138*t1^4*t2^3*t3 - 89*t1^3*t2^4*t3 - 18*t1^2*t2^5*t3 - 6*t1*t2^6*t3 + 5*t1^6*t3^2 - 51*t1^5*t2*t3^2 - 186*t1^4*t2^2*t3^2 - 142*t1^3*t2^3*t3^2 - 42*t1^2*t2^4*t3^2 - 36*t1*t2^5*t3^2 - 6*t2^6*t3^2 + 10*t1^5*t3^3 - 138*t1^4*t2*t3^3 - 142*t1^3*t2^2*t3^3 - 48*t1^2*t2^3*t3^3 - 72*t1*t2^4*t3^3 - 18*t2^5*t3^3 + 5*t1^4*t3^4 - 89*t1^3*t2*t3^4 - 42*t1^2*t2^2*t3^4 - 72*t1*t2^3*t3^4 - 24*t2^4*t3^4 - 18*t1^2*t2*t3^5 - 36*t1*t2^2*t3^5 - 18*t2^3*t3^5 - 6*t1*t2*t3^6 - 6*t2^2*t3^6)*(t1 + t2)*(t1 + t3)*(t2 + t3)/((t1 + t2 + t3)^3*t1^2*t2^3*t3^3)"
      ]
     },
     "execution_count": 16,
     "metadata": {},
     "output_type": "execute_result"
    }
   ],
   "source": [
    "pretty(deg0(s1_numer*s1_denom))"
   ]
  }
 ],
 "metadata": {
  "kernelspec": {
   "display_name": "SageMath 9.3",
   "language": "sage",
   "name": "sagemath"
  },
  "language_info": {
   "codemirror_mode": {
    "name": "ipython",
    "version": 3
   },
   "file_extension": ".py",
   "mimetype": "text/x-python",
   "name": "python",
   "nbconvert_exporter": "python",
   "pygments_lexer": "ipython3",
   "version": "3.7.10"
  }
 },
 "nbformat": 4,
 "nbformat_minor": 4
}
