{
 "cells": [
  {
   "cell_type": "code",
   "execution_count": 1,
   "metadata": {},
   "outputs": [],
   "source": [
    "reset()\n",
    "%display latex\n",
    "Partitions.options.latex=\"list\"\n",
    "load(\"setup.sage\")"
   ]
  },
  {
   "cell_type": "markdown",
   "metadata": {},
   "source": [
    "We try to get the Verlinde-Segre correspondence for $\\mathbb{C}^2$."
   ]
  },
  {
   "cell_type": "markdown",
   "metadata": {},
   "source": [
    "Over $\\mathbb{C}^2$, the equivariant cohomology ring is $\\mathbb{Z}[t_1,t_2]/(t_1+t_2)=\\mathbb{Z}[t]$. The equivariant K-theory ring is $\\mathbb{Z}[x^{\\pm1}]$. The tangent space at $Z_\\pi$ is\n",
    "$$Q+\\bar Q-Q\\bar Q(1-x)(1-1/x) $$\n",
    "where $Q$ is the character of partition $\\pi$."
   ]
  },
  {
   "cell_type": "markdown",
   "metadata": {},
   "source": [
    "The Segre number is \n",
    "$$\\int_{[X^{[n]}]} c(\\alpha^{[n]})=\\sum_{|\\pi|=n}e(-T|_Z)c(\\alpha^{[n]}|_Z) $$"
   ]
  },
  {
   "cell_type": "markdown",
   "metadata": {},
   "source": [
    "The Verlinde number is \n",
    "$$V_n(\\alpha)= \\chi(\\det (\\alpha^{[n]}))=\\int_{[X^{[n]}]}\\text{td}(T)\\text{ch}\\left( \\det (\\alpha^{[n]})\\right)$$\n",
    "$$=\\sum_{|\\pi|=n}e(-T|_Z)\\text{td}(T|_Z)\\text{ch}\\left( \\det (\\alpha^{[n]})|_Z\\right)$$\n",
    "$$=\\sum_{|\\pi|=n}\\frac{1}{\\text{ch}(\\wedge T^\\vee|_Z)}\\text{ch}\\left( \\det (\\alpha^{[n]})|_Z\\right) $$\n",
    "where ${\\text{ch}(\\wedge x^\\vee)}=1/(1-e^{-x})$"
   ]
  },
  {
   "cell_type": "code",
   "execution_count": 2,
   "metadata": {
    "scrolled": true
   },
   "outputs": [],
   "source": [
    "KT_vars = ['x','y']\n",
    "KT_ring = LaurentPolynomialRing(QQ, KT_vars)\n",
    "\n",
    "coho_vars = ['t','m']\n",
    "coho_ring = LaurentPolynomialRing(QQ, coho_vars)\n",
    "\n",
    "x,y=KT_ring.gens()\n",
    "t,m = coho_ring.gens()\n",
    "b=var('b')\n",
    "\n",
    "def character(p,x=x,y=1/x):\n",
    "    return sum(y**i * x**j for i, j in p.cells())\n",
    "\n",
    "def character_vb(p, w):\n",
    "    Q = character(p)\n",
    "    return sum(Q * x^(w[i]) for i in range(len(w)))\n",
    "\n",
    "def tangent(p):\n",
    "    q=character(p,x,1/x)\n",
    "    q_inv=character(p,1/x,x)\n",
    "    return q+q_inv-q*q_inv*(1-x)*(1-1/x)\n",
    "\n",
    "\n",
    "\n",
    "def from_monomial(m):\n",
    "    return sum(m.degree(KT_ring.gen(i)) * coho_ring.gen(i) for i in range(len(coho_ring.gens())))\n",
    "\n",
    "def from_character(f):\n",
    "    numer, denom = [], []\n",
    "\n",
    "    for coeff, mon in list(f):\n",
    "        wt = from_monomial(mon)\n",
    "        if coeff > 0:\n",
    "            numer += (coeff) * [wt]\n",
    "        elif coeff < 0:\n",
    "            denom += (-coeff) * [wt]\n",
    "    return numer, denom\n",
    "    \n",
    "def top_chern(f):\n",
    "    numer, denom = from_character(f)\n",
    "    return coho_ring.fraction_field()(prod(numer) / prod(denom))\n",
    "    \n",
    "def total_chern(f):\n",
    "    numer, denom = from_character(f)\n",
    "    new_numer=[i+1 for i in numer]\n",
    "    new_denom=[i+1 for i in denom]\n",
    "    return coho_ring.fraction_field()(prod(new_numer+[1]) / (prod(new_denom)))\n",
    "\n",
    "def Nek(f, check=False):\n",
    "    R = f.parent()\n",
    "    numer, denom = R.one(), R.one()\n",
    "    for exp, coeff in f.dict().items():\n",
    "        if exp.is_constant():\n",
    "            term = R.zero()\n",
    "        else:\n",
    "            term = R({exp: 1, exp.emul(0): -1})\n",
    "        if coeff > 0:\n",
    "            numer *= term ** (coeff)\n",
    "        elif coeff < 0:\n",
    "            denom *= term ** (-coeff)\n",
    "    return R.fraction_field()(numer) / denom\n",
    "    \n",
    "def dual(f, check=False):\n",
    "    R = f.parent()\n",
    "    g=R.zero()\n",
    "    for exp, coeff in f.dict().items():\n",
    "        g+= R({exp.emul(-1): coeff})\n",
    "    return g\n",
    "\n",
    "def highest_degree_y(f):\n",
    "    R = f.parent()\n",
    "    max_deg=0\n",
    "    for exp, coeff in f.dict().items():\n",
    "        if exp[1]>max_deg:\n",
    "            max_deg = exp[1]\n",
    "    term=R.zero()\n",
    "    for exp, coeff in f.dict().items():\n",
    "        if exp[1]==max_deg:\n",
    "            term+=R({exp:coeff})\n",
    "    return term\n",
    "\n",
    "def lowest_degree_y(f):\n",
    "        R = f.parent()\n",
    "        min_deg=0\n",
    "        for exp, coeff in f.dict().items():\n",
    "            if exp[4]<min_deg:\n",
    "                min_deg = exp[4]\n",
    "        term=R.zero()\n",
    "        for exp, coeff in f.dict().items():\n",
    "            if exp[4]==min_deg:\n",
    "                term+=R({exp:coeff})\n",
    "        return term\n",
    "    "
   ]
  },
  {
   "cell_type": "code",
   "execution_count": 4,
   "metadata": {},
   "outputs": [],
   "source": [
    "def Total_Chern(w,n):\n",
    "    return sum(top_chern(-tangent(p))*total_chern(character_vb(p,w)) for p in Partitions(n))"
   ]
  },
  {
   "cell_type": "code",
   "execution_count": null,
   "metadata": {},
   "outputs": [],
   "source": [
    "W=(1,2,-2,3)\n",
    "N=4\n",
    "\n",
    "tc= Total_Chern(W,N)(t=b*t)\n",
    "taylc = tc.taylor(b,0,0)\n",
    "taylc"
   ]
  },
  {
   "cell_type": "code",
   "execution_count": 53,
   "metadata": {},
   "outputs": [],
   "source": [
    "def Verlinde(w,n):\n",
    "    return sum(KTheory.measure_unsymmetrized(tangent(p))* \n",
    "               KTheory.determinant(character_vb(p, w))\n",
    "               for p in Partitions(n))\n"
   ]
  },
  {
   "cell_type": "code",
   "execution_count": 67,
   "metadata": {},
   "outputs": [
    {
     "data": {
      "text/html": [
       "<html><script type=\"math/tex; mode=display\">\\newcommand{\\Bold}[1]{\\mathbf{#1}}\\frac{84844393}{1296 \\, b t} + \\frac{1932564959}{145152 \\, b^{2} t^{2}} + \\frac{886511}{360 \\, b^{3} t^{3}} + \\frac{7068877}{17280 \\, b^{4} t^{4}} + \\frac{533}{9 \\, b^{5} t^{5}} + \\frac{1045}{144 \\, b^{6} t^{6}} + \\frac{2}{3 \\, b^{7} t^{7}} + \\frac{1}{24 \\, b^{8} t^{8}} + \\frac{25612326139717}{87091200}</script></html>"
      ],
      "text/latex": [
       "$$\\newcommand{\\Bold}[1]{\\mathbf{#1}}\\frac{84844393}{1296 \\, b t} + \\frac{1932564959}{145152 \\, b^{2} t^{2}} + \\frac{886511}{360 \\, b^{3} t^{3}} + \\frac{7068877}{17280 \\, b^{4} t^{4}} + \\frac{533}{9 \\, b^{5} t^{5}} + \\frac{1045}{144 \\, b^{6} t^{6}} + \\frac{2}{3 \\, b^{7} t^{7}} + \\frac{1}{24 \\, b^{8} t^{8}} + \\frac{25612326139717}{87091200}$$"
      ],
      "text/plain": [
       "84844393/1296/(b*t) + 1932564959/145152/(b^2*t^2) + 886511/360/(b^3*t^3) + 7068877/17280/(b^4*t^4) + 533/9/(b^5*t^5) + 1045/144/(b^6*t^6) + 2/3/(b^7*t^7) + 1/24/(b^8*t^8) + 25612326139717/87091200"
      ]
     },
     "execution_count": 67,
     "metadata": {},
     "output_type": "execute_result"
    }
   ],
   "source": [
    "verl = Verlinde(W,N)(exp(t*b),0)\n",
    "tayl = verl.taylor(b,0,0)\n",
    "tayl"
   ]
  },
  {
   "cell_type": "code",
   "execution_count": 59,
   "metadata": {
    "scrolled": false
   },
   "outputs": [
    {
     "data": {
      "text/html": [
       "<html><script type=\"math/tex; mode=display\">\\newcommand{\\Bold}[1]{\\mathbf{#1}}\\frac{551 \\, b^{2} t^{2} + 1080 \\, b t + 780}{1440 \\, b^{2} t^{2}}</script></html>"
      ],
      "text/latex": [
       "$$\\newcommand{\\Bold}[1]{\\mathbf{#1}}\\frac{551 \\, b^{2} t^{2} + 1080 \\, b t + 780}{1440 \\, b^{2} t^{2}}$$"
      ],
      "text/plain": [
       "1/1440*(551*b^2*t^2 + 1080*b*t + 780)/(b^2*t^2)"
      ]
     },
     "execution_count": 59,
     "metadata": {},
     "output_type": "execute_result"
    }
   ],
   "source": [
    "pretty(tayl-tc)"
   ]
  },
  {
   "cell_type": "markdown",
   "metadata": {},
   "source": [
    "Nekrasov genus is\n",
    "\n",
    "$$\\sum_{|\\pi|=n}\\frac{1}{\\text{ch}(\\wedge T^\\vee|_Z)}\\text{ch}\\left(\\frac{\\wedge}{\\det} \\alpha^{[n]}|_Z\\otimes y^{-1}\\right)$$\n",
    "\n",
    "where \n",
    "\n",
    "$$\\text{ch}\\left(\\frac{\\wedge}{\\det} L^\\vee\\right)=e^{c_1(L)}-1$$\n",
    "\n",
    "so\n",
    "\n",
    "$$\\mathcal{N}_y(x)=y/x-1$$"
   ]
  },
  {
   "cell_type": "code",
   "execution_count": 319,
   "metadata": {},
   "outputs": [],
   "source": [
    "def Nek_Genus_dual(w,n):\n",
    "    return sum(KTheory.measure_unsymmetrized(tangent(p))* \n",
    "               Nek(dual(character_vb(p, w))*y)\n",
    "               for p in Partitions(n))"
   ]
  },
  {
   "cell_type": "code",
   "execution_count": 344,
   "metadata": {
    "scrolled": true
   },
   "outputs": [
    {
     "data": {
      "text/html": [
       "<html><script type=\"math/tex; mode=display\">\\newcommand{\\Bold}[1]{\\mathbf{#1}}\\frac{x^{24} + x^{18} + 2 x^{17} + 3 x^{16} + 2 x^{15} + 2 x^{14} + 2 x^{12} + 2 x^{10} + 2 x^{9} + 3 x^{8} + 2 x^{7} + x^{6} + 1}{x^{22} - 2 x^{21} - x^{20} + 2 x^{19} + x^{18} + 4 x^{17} - 4 x^{16} - 4 x^{15} - 2 x^{14} + 10 x^{12} - 2 x^{10} - 4 x^{9} - 4 x^{8} + 4 x^{7} + x^{6} + 2 x^{5} - x^{4} - 2 x^{3} + x^{2}}</script></html>"
      ],
      "text/latex": [
       "$$\\newcommand{\\Bold}[1]{\\mathbf{#1}}\\frac{x^{24} + x^{18} + 2 x^{17} + 3 x^{16} + 2 x^{15} + 2 x^{14} + 2 x^{12} + 2 x^{10} + 2 x^{9} + 3 x^{8} + 2 x^{7} + x^{6} + 1}{x^{22} - 2 x^{21} - x^{20} + 2 x^{19} + x^{18} + 4 x^{17} - 4 x^{16} - 4 x^{15} - 2 x^{14} + 10 x^{12} - 2 x^{10} - 4 x^{9} - 4 x^{8} + 4 x^{7} + x^{6} + 2 x^{5} - x^{4} - 2 x^{3} + x^{2}}$$"
      ],
      "text/plain": [
       "(x^24 + x^18 + 2*x^17 + 3*x^16 + 2*x^15 + 2*x^14 + 2*x^12 + 2*x^10 + 2*x^9 + 3*x^8 + 2*x^7 + x^6 + 1)/(x^22 - 2*x^21 - x^20 + 2*x^19 + x^18 + 4*x^17 - 4*x^16 - 4*x^15 - 2*x^14 + 10*x^12 - 2*x^10 - 4*x^9 - 4*x^8 + 4*x^7 + x^6 + 2*x^5 - x^4 - 2*x^3 + x^2)"
      ]
     },
     "execution_count": 344,
     "metadata": {},
     "output_type": "execute_result"
    }
   ],
   "source": [
    "W_dual= tuple(-w for w in W)\n",
    "nek = (highest_degree_y(Nek_Genus(W_dual,N).numerator())(y=1)/Nek_Genus(W_dual,N).denominator())\n",
    "nek"
   ]
  },
  {
   "cell_type": "code",
   "execution_count": 342,
   "metadata": {
    "scrolled": true
   },
   "outputs": [
    {
     "data": {
      "text/html": [
       "<html><script type=\"math/tex; mode=display\">\\newcommand{\\Bold}[1]{\\mathbf{#1}}\\frac{x^{24} + x^{18} + 2 x^{17} + 3 x^{16} + 2 x^{15} + 2 x^{14} + 2 x^{12} + 2 x^{10} + 2 x^{9} + 3 x^{8} + 2 x^{7} + x^{6} + 1}{x^{22} - 2 x^{21} - x^{20} + 2 x^{19} + x^{18} + 4 x^{17} - 4 x^{16} - 4 x^{15} - 2 x^{14} + 10 x^{12} - 2 x^{10} - 4 x^{9} - 4 x^{8} + 4 x^{7} + x^{6} + 2 x^{5} - x^{4} - 2 x^{3} + x^{2}}</script></html>"
      ],
      "text/latex": [
       "$$\\newcommand{\\Bold}[1]{\\mathbf{#1}}\\frac{x^{24} + x^{18} + 2 x^{17} + 3 x^{16} + 2 x^{15} + 2 x^{14} + 2 x^{12} + 2 x^{10} + 2 x^{9} + 3 x^{8} + 2 x^{7} + x^{6} + 1}{x^{22} - 2 x^{21} - x^{20} + 2 x^{19} + x^{18} + 4 x^{17} - 4 x^{16} - 4 x^{15} - 2 x^{14} + 10 x^{12} - 2 x^{10} - 4 x^{9} - 4 x^{8} + 4 x^{7} + x^{6} + 2 x^{5} - x^{4} - 2 x^{3} + x^{2}}$$"
      ],
      "text/plain": [
       "(x^24 + x^18 + 2*x^17 + 3*x^16 + 2*x^15 + 2*x^14 + 2*x^12 + 2*x^10 + 2*x^9 + 3*x^8 + 2*x^7 + x^6 + 1)/(x^22 - 2*x^21 - x^20 + 2*x^19 + x^18 + 4*x^17 - 4*x^16 - 4*x^15 - 2*x^14 + 10*x^12 - 2*x^10 - 4*x^9 - 4*x^8 + 4*x^7 + x^6 + 2*x^5 - x^4 - 2*x^3 + x^2)"
      ]
     },
     "execution_count": 342,
     "metadata": {},
     "output_type": "execute_result"
    }
   ],
   "source": [
    "Verlinde(W,N)"
   ]
  },
  {
   "cell_type": "markdown",
   "metadata": {},
   "source": [
    "We see Verlinde number of $\\alpha$ is max degree in $y$ of Nekrasov genus of $\\alpha^\\vee$."
   ]
  }
 ],
 "metadata": {
  "kernelspec": {
   "display_name": "SageMath 9.3",
   "language": "sage",
   "name": "sagemath"
  },
  "language_info": {
   "codemirror_mode": {
    "name": "ipython",
    "version": 3
   },
   "file_extension": ".py",
   "mimetype": "text/x-python",
   "name": "python",
   "nbconvert_exporter": "python",
   "pygments_lexer": "ipython3",
   "version": "3.7.10"
  }
 },
 "nbformat": 4,
 "nbformat_minor": 4
}
