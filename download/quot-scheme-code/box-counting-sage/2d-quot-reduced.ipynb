{
 "cells": [
  {
   "cell_type": "code",
   "execution_count": 1,
   "metadata": {},
   "outputs": [],
   "source": [
    "reset()\n",
    "%display latex\n",
    "Partitions.options.latex=\"list\"\n",
    "load(\"setup.sage\")\n",
    "\n",
    "KT_vars = ['x','y','z','z1','z2','z3','z4','z5']\n",
    "KT_ring = LaurentPolynomialRing(QQ, KT_vars)\n",
    "\n",
    "coho_vars = ['t','m','l','l1','l2','l3','l4','l5']\n",
    "coho_ring = LaurentPolynomialRing(QQ, coho_vars)\n",
    "\n",
    "x,y,zz,z1,z2,z3,z4,z5=KT_ring.gens()\n",
    "t,m,ll,l1,l2,l3,l4,l5= coho_ring.gens()\n",
    "b=var('b')\n",
    "W=var('w')\n",
    "V=var('v')\n",
    "L=var('l')\n",
    "z=[z1,z2,z3,z4,z5]\n",
    "\n",
    "\n",
    "\n",
    "def character(p,x=x,y=y):\n",
    "    return sum(y^(-r) * x^(-c) for r, c in p.cells())\n",
    "\n",
    "def character_vb(p, w,x=x,y=y):\n",
    "    Q = character(p,x,y)\n",
    "    return sum(Q * x^(w[2*i]) * y^(w[2*i+1]) for i in range(len(w)/2))\n",
    "\n",
    "def dual(f):\n",
    "    R = f.parent()\n",
    "    g= R.zero()\n",
    "    for exp, coeff in f.dict().items():\n",
    "        g+= R({exp.emul(-1): coeff})\n",
    "    return g\n",
    "\n",
    "def tangent(p,x=x,y=y):\n",
    "    total=0\n",
    "    for r,c in p.cells():\n",
    "        arm=p[r]-c-1\n",
    "        leg=p.conjugate()[c]-r-1\n",
    "        total+=y^(-leg)*x^(arm+1)+y^(leg+1)*x^(-arm)\n",
    "    return total\n",
    "\n",
    "def canonical_bundle(p,x=x,y=y):\n",
    "    return character_vb(p, (-1,-1),x,y)\n",
    "\n",
    "\n",
    "def structure_sheaf(p,x=x,y=y):\n",
    "    return character_vb(p, (0,0),x,y)\n",
    "\n",
    "def top_chern(f):\n",
    "    numer, denom = [], []\n",
    "    for coeff, mon in list(f):\n",
    "        wt = from_monomial(mon)\n",
    "        #if wt==0:\n",
    "            #continue\n",
    "        if coeff > 0:\n",
    "            numer += (coeff) * [wt]\n",
    "        elif coeff < 0:\n",
    "            denom += (-coeff) * [wt]\n",
    "    \n",
    "    return coho_ring.fraction_field()(prod(numer) / prod(denom))\n",
    "\n",
    "def determinant(f):\n",
    "    if f in ZZ:\n",
    "        return 1\n",
    "    else:\n",
    "        return prod((mon)^coeff for coeff, mon in f)\n",
    "\n",
    "def from_monomial(m):\n",
    "    return sum(m.degree(KT_ring.gen(i)) * coho_ring.gen(i) for i in range(len(coho_ring.gens())))\n",
    "\n",
    "def from_character(f):\n",
    "    numer, denom = [], []\n",
    "\n",
    "    for coeff, mon in list(f):\n",
    "        wt = from_monomial(mon)\n",
    "        if coeff > 0:\n",
    "            numer += (coeff) * [wt]\n",
    "        elif coeff < 0:\n",
    "            denom += (-coeff) * [wt]\n",
    "    return numer, denom\n",
    "\n",
    "def measure_unsymmetrized(f, inv=True):\n",
    "    \"\"\"\n",
    "    computes 1/(1-x^-1) for K-thy class x. If inv=false, returns 1/(1-x)\n",
    "    \"\"\"\n",
    "    R = f.parent()\n",
    "    \n",
    "    if f.parent() is ZZ:\n",
    "        L = [(ZZ(f), 1)]\n",
    "    else:\n",
    "        L = list(f)\n",
    "\n",
    "    numer, denom = R.one(), R.one()\n",
    "    for coeff, monomial in L:\n",
    "        if inv:\n",
    "            term = 1 - monomial^-1\n",
    "        else:\n",
    "            term = 1 - monomial\n",
    "        if monomial==1:\n",
    "            term = 0\n",
    "        if coeff < 0:\n",
    "            numer *= term ** (-coeff)\n",
    "        elif coeff > 0:\n",
    "            denom *= term ** coeff\n",
    "    return numer / denom\n",
    "\n",
    "def total_chern(f):\n",
    "    numer, denom = from_character(f)\n",
    "    new_numer=[i+1 for i in numer]\n",
    "    new_denom=[i+1 for i in denom]\n",
    "    return coho_ring.fraction_field()(prod(new_numer+[1]) / (prod(new_denom)))\n",
    "\n",
    "\n",
    "def total_chern_vb(p):\n",
    "    Q = character(p,x,y)\n",
    "    roots = []\n",
    "    vb_weight = W\n",
    "    for coeff, mon in list(Q):\n",
    "        wt = from_monomial(mon)\n",
    "        roots += (coeff) * [wt+vb_weight]\n",
    "    total = prod((1+r) for r in roots)\n",
    "    return total\n",
    "\n",
    "def total_segre_vb(p):\n",
    "    Q = character(p,x,y)\n",
    "    roots = []\n",
    "    vb_weight = W\n",
    "    for coeff, mon in list(Q):\n",
    "        wt = from_monomial(mon)\n",
    "        roots += (coeff) * [wt+vb_weight]\n",
    "    total = prod(1/(1+r) for r in roots)\n",
    "    return total\n",
    "\n",
    "def determinant_vb(p,n):\n",
    "    Q = character(p,x,y)\n",
    "    det = determinant(Q)*(exp(W*n))\n",
    "    return det\n",
    "\n",
    "def determinant_vb_rank_2(p,n):\n",
    "    Q = character(p,x,y=1/x)\n",
    "    det = (determinant(Q)^2)*(exp((W+V)*n))\n",
    "    return det\n",
    "\n",
    "def total_chern_vb_rank_2(p):\n",
    "    Q = character(p,x,y)\n",
    "    roots = []\n",
    "    for coeff, mon in list(Q):\n",
    "        wt = from_monomial(mon)\n",
    "        roots += (coeff) * [wt+W]\n",
    "        roots += (coeff) * [wt+V]\n",
    "    total = prod((1+r) for r in roots)\n",
    "    return total\n",
    "\n",
    "def Chern_Num(n):\n",
    "    total=0\n",
    "    for p in Partitions(n):\n",
    "        add=top_chern(-tangent(p))*total_chern_vb(p)\n",
    "        total+=add\n",
    "    return total\n",
    "\n",
    "def Chern_Num_rank_2(n):\n",
    "    total=0\n",
    "    for p in Partitions(n):\n",
    "        add=top_chern(-tangent(p))*total_chern_vb_rank_2(p)\n",
    "        total+=add\n",
    "    return total\n",
    "\n",
    "def Chern_Num_vir(n):\n",
    "    total=0\n",
    "    for p in Partitions(n):\n",
    "        add=top_chern(-tangent(p))*total_chern_vb(p)*top_chern(dual(canonical_bundle(p,x,y)))\n",
    "        total+=add\n",
    "    return total\n",
    "\n",
    "def Chern_Num_vir_rank_2(n):\n",
    "    total=0\n",
    "    for p in Partitions(n):\n",
    "        add=top_chern(-tangent(p))*total_chern_vb_rank_2(p)*top_chern(dual(canonical_bundle(p,x,y)))\n",
    "        total+=add\n",
    "    return total\n",
    "\n",
    "def Segre_Num(n):\n",
    "    total=0\n",
    "    for p in Partitions(n):\n",
    "        add=top_chern(-tangent(p))*total_segre_vb(p)\n",
    "        total+=add\n",
    "    return total\n",
    "\n",
    "def Segre_Num_vir(n):\n",
    "    total=0\n",
    "    for p in Partitions(n):\n",
    "        add=top_chern(-tangent(p))*total_segre_vb(p)*top_chern(dual(canonical_bundle(p,x,y)))\n",
    "        total+=add\n",
    "    return total\n",
    "\n",
    "\n",
    "def Verlinde_Num(n):\n",
    "    total=0\n",
    "    for p in Partitions(n):\n",
    "        add=measure_unsymmetrized(tangent(p))*\\\n",
    "            determinant_vb(p,n)\n",
    "        total+=add\n",
    "    return total\n",
    "\n",
    "\n",
    "\n",
    "def Verlinde_Num_inv(n):\n",
    "    total=0\n",
    "    for p in Partitions(n):\n",
    "        add=measure_unsymmetrized(tangent(p))*\\\n",
    "            (1/determinant_vb(p,n))\n",
    "        total+=add\n",
    "    return total\n",
    "\n",
    "\n",
    "\n",
    "def Verlinde_Num_vir(n):\n",
    "    total=0\n",
    "    for p in Partitions(n):\n",
    "        add=measure_unsymmetrized(tangent(p)-dual(canonical_bundle(p,x,y)))*\\\n",
    "            determinant_vb(p,n)\n",
    "        total+=add\n",
    "    return total\n",
    "\n",
    "def Verlinde_Num_vir_rank_2(n):\n",
    "    total=0\n",
    "    for p in Partitions(n):\n",
    "        add=measure_unsymmetrized(tangent(p)-dual(canonical_bundle(p,x,y)))*\\\n",
    "            determinant_vb_rank_2(p,n)\n",
    "        total+=add\n",
    "    return total\n",
    "\n",
    "def Verlinde_Num_vir_inv(n):\n",
    "    total=0\n",
    "    for p in Partitions(n):\n",
    "        add=measure_unsymmetrized(tangent(p))*\\\n",
    "            (1/determinant_vb(p,n))*\\\n",
    "            measure_unsymmetrized(-canonical_bundle(p,x,y),inv=False)\n",
    "        total+=add\n",
    "    return total\n",
    "\n",
    "def measure_z_vb_1(p):\n",
    "    f = character_vb_rank_1(p,x,y)\n",
    "    L = f.expand().operands()\n",
    "    if p.size()==1:\n",
    "        L=[exp(W),]\n",
    "    total=1\n",
    "    for monomial in L:\n",
    "        term = 1 - monomial*z\n",
    "        total*=term\n",
    "    return total\n",
    "\n",
    "def custom_invariant(n):\n",
    "    total=0\n",
    "    for p in Partitions(n):\n",
    "        add=measure_unsymmetrized(tangent(p)-dual(canonical_bundle(p,x,y)))*\\\n",
    "            determinant(dual(character_vb(p,(0,0),x,y)))*\\\n",
    "            measure_z_vb_1(p)\n",
    "        total+=add\n",
    "    return (-1)^n*total\n",
    "\n",
    "def character_vb_rank_2(p,x=x,y=y):\n",
    "    Q = character(p,x,y)\n",
    "    return Q * (exp(W)+exp(V))\n",
    "\n",
    "def character_vb_rank_1(p,x=x,y=y):\n",
    "    Q = character(p,x,y)\n",
    "    return Q * (exp(W))\n",
    "\n",
    "\n",
    "def measure_z_vb(p):\n",
    "    f = character_vb_rank_2(p,x,y)\n",
    "    L = f.expand().operands()\n",
    "    total=1\n",
    "    for monomial in L:\n",
    "        term = 1 - monomial*z\n",
    "        total*=term\n",
    "    return total\n",
    "\n",
    "def Master_Partition_rank_2(n):\n",
    "    total=0\n",
    "    for p in Partitions(n):\n",
    "        add=determinant(dual(character_vb(p,(0,0),x,y)))*\\\n",
    "            measure_unsymmetrized(tangent(p))*\\\n",
    "            measure_z_vb(p)\n",
    "        total+=add\n",
    "    return (-1)^n*total\n",
    "\n",
    "def DT_Num(n):\n",
    "    total=0\n",
    "    for p in Partitions(n):\n",
    "        add=top_chern(-tangent(p))\n",
    "        total+=add\n",
    "    return total\n",
    "\n",
    "def DT_Num_vir(n):\n",
    "    total=0\n",
    "    for p in Partitions(n):\n",
    "        add=top_chern(-tangent(p))*top_chern(dual(canonical_bundle(p,x,y)))\n",
    "        total+=add\n",
    "    return total\n",
    "\n",
    "def degn(f,n,b=b):\n",
    "    g=f.taylor(b,0,n+2)\n",
    "    L=g.coefficients(b)\n",
    "    for i in range(len(L)):\n",
    "        if L[i][1]==n:\n",
    "            return L[i][0]\n",
    "    return 0\n",
    "\n",
    "def set_exp(f):\n",
    "    for i in range(len(KT_vars)):\n",
    "        f=SR(f).subs(KT_ring.gens()[i]==exp(coho_ring.gens()[i]))\n",
    "    return f"
   ]
  },
  {
   "cell_type": "code",
   "execution_count": 9,
   "metadata": {},
   "outputs": [
    {
     "data": {
      "text/html": [
       "<html><script type=\"math/tex; mode=display\">\\newcommand{\\Bold}[1]{\\mathbf{#1}}x^{5} + x^{2} + x - 1 + x^{-1} + x^{-2} + x^{-5}</script></html>"
      ],
      "text/latex": [
       "$$\\newcommand{\\Bold}[1]{\\mathbf{#1}}x^{5} + x^{2} + x - 1 + x^{-1} + x^{-2} + x^{-5}$$"
      ],
      "text/plain": [
       "x^5 + x^2 + x - 1 + x^-1 + x^-2 + x^-5"
      ]
     },
     "execution_count": 9,
     "metadata": {},
     "output_type": "execute_result"
    }
   ],
   "source": [
    "p=Partition([3,1,1])\n",
    "tangent(p,x,1/x)-dual(canonical_bundle(p,x,1/x))"
   ]
  },
  {
   "cell_type": "code",
   "execution_count": 8,
   "metadata": {},
   "outputs": [
    {
     "data": {
      "text/html": [
       "<html><script type=\"math/tex; mode=display\">\\newcommand{\\Bold}[1]{\\mathbf{#1}}x^{5} + x^{2} + x - 1 + x^{-1} + x^{-2} + x^{-5}</script></html>"
      ],
      "text/latex": [
       "$$\\newcommand{\\Bold}[1]{\\mathbf{#1}}x^{5} + x^{2} + x - 1 + x^{-1} + x^{-2} + x^{-5}$$"
      ],
      "text/plain": [
       "x^5 + x^2 + x - 1 + x^-1 + x^-2 + x^-5"
      ]
     },
     "execution_count": 8,
     "metadata": {},
     "output_type": "execute_result"
    }
   ],
   "source": [
    "(1-character(p,x=x^-1,y=x)*(1-x)*(1-1/x))*character(p,x=x,y=x^-1)"
   ]
  },
  {
   "cell_type": "code",
   "execution_count": 38,
   "metadata": {},
   "outputs": [
    {
     "data": {
      "text/html": [
       "<html><script type=\"math/tex; mode=display\">\\newcommand{\\Bold}[1]{\\mathbf{#1}}\\left[[5], [4, 1], [3, 2], [3, 1, 1], [2, 2, 1], [2, 1, 1, 1], [1, 1, 1, 1, 1]\\right]</script></html>"
      ],
      "text/latex": [
       "$$\\newcommand{\\Bold}[1]{\\mathbf{#1}}\\left[[5], [4, 1], [3, 2], [3, 1, 1], [2, 2, 1], [2, 1, 1, 1], [1, 1, 1, 1, 1]\\right]$$"
      ],
      "text/plain": [
       "[[5], [4, 1], [3, 2], [3, 1, 1], [2, 2, 1], [2, 1, 1, 1], [1, 1, 1, 1, 1]]"
      ]
     },
     "execution_count": 38,
     "metadata": {},
     "output_type": "execute_result"
    }
   ],
   "source": [
    "Partitions(5).list()"
   ]
  },
  {
   "cell_type": "code",
   "execution_count": 2,
   "metadata": {
    "scrolled": true
   },
   "outputs": [],
   "source": [
    "def partitions(Sum, K):\n",
    "    '''computes fixed components of Quot by CC^* action.'''\n",
    "    total=[]\n",
    "    def ptn(Sum, K, lst, total):\n",
    "        if K == 0:\n",
    "            if Sum == 0:\n",
    "                total+=[lst]\n",
    "            return\n",
    "        for i in range(0, min(Sum + 1, Sum + 1)):\n",
    "            ptn(Sum - i, K - 1, lst + [i],total)\n",
    "    ptn(Sum,K,[],total)\n",
    "    return total\n",
    "\n",
    "\n",
    "def fixed_locus(n, N):\n",
    "    '''gives list of fixed points of Hilb^n1 x Hilb^n2 x ... x Hilb^nN, input (n1,n2,...,nN)'''\n",
    "    total=[]\n",
    "    ptns=partitions(n,N)\n",
    "    for j in range(len(ptns)):\n",
    "        ptn=ptns[j]\n",
    "        lst=[]\n",
    "        for i in range(N):\n",
    "            lst+=[Partitions(ptn[i]).list()]\n",
    "        total+=[p for p in itertools.product(*lst)]\n",
    "    return total\n",
    "\n",
    "def Nvir(Z):\n",
    "    '''virtual normal bundle of quot scheme at (Z_1,...,Z_N)'''\n",
    "    total=0\n",
    "    for i in range(len(Z)):\n",
    "        for j in range(len(Z)):\n",
    "            total+=(1-character(Z[i],x=x^-1,y=x)*(1-x)*(1-1/x))*character(Z[j],x=x,y=x^-1)*(zz^(j-i))\n",
    "    return total+1\n",
    "\n",
    "\n",
    "def total_chern_quot(Z):\n",
    "    total=1\n",
    "    for i in range(len(Z)):\n",
    "        Q = character(Z[i],x,1/x)*(zz^i)\n",
    "        roots = []\n",
    "        vb_weight = W\n",
    "        for coeff, mon in list(Q):\n",
    "            wt = from_monomial(mon)\n",
    "            roots += (coeff) * [wt+vb_weight]\n",
    "        total *= prod((1+r) for r in roots)\n",
    "    return total\n",
    "\n",
    "def Chern_Num_quot(n,N):\n",
    "    total=0\n",
    "    for Z in fixed_locus(n,N):\n",
    "        add=top_chern(-Nvir(Z))*total_chern_quot(Z)\n",
    "        total+=add\n",
    "    return total\n",
    "\n",
    "def total_segre_quot(Z):\n",
    "    total=1\n",
    "    for i in range(len(Z)):\n",
    "        Q = character(Z[i],x,1/x)*(zz^i)\n",
    "        roots = []\n",
    "        vb_weight = W\n",
    "        for coeff, mon in list(Q):\n",
    "            wt = from_monomial(mon)\n",
    "            roots += (coeff) * [wt+vb_weight]\n",
    "        total *= prod(1/(1+r) for r in roots)\n",
    "    return total\n",
    "\n",
    "def Segre_Num_quot(n,N):\n",
    "    total=0\n",
    "    for Z in fixed_locus(n,N):\n",
    "        add=top_chern(-Nvir(Z))*total_segre_quot(Z)\n",
    "        total+=add\n",
    "    return total\n",
    "\n",
    "\n",
    "def determinant_quot(Z,n):\n",
    "    det=1\n",
    "    for i in range(len(Z)):\n",
    "        Q = character(Z[i],x,1/x)*(zz^i)\n",
    "        det *= determinant(Q)\n",
    "    return det*(exp(W*n))\n",
    "\n",
    "def Verlinde_Num_quot(n,N):\n",
    "    total=0\n",
    "    for Z in fixed_locus(n,N):\n",
    "        add=measure_unsymmetrized(Nvir(Z))*\\\n",
    "            determinant_quot(Z,n)\n",
    "        total+=add\n",
    "    return total\n",
    "\n",
    "def Verlinde_Num_quot_inv(n,N):\n",
    "    total=0\n",
    "    for Z in fixed_locus(n,N):\n",
    "        add=measure_unsymmetrized(Nvir(Z))*\\\n",
    "            (1/determinant_quot(Z,n))\n",
    "        total+=add\n",
    "    return total\n",
    "\n",
    "\n",
    "def deg0(f):\n",
    "    if f==0: \n",
    "        return 0\n",
    "    return pretty(degn(f(t=b*t,m=b*m,w=b*w,v=b*v,l=b*l,l1=b*l1,l2=b*l2,l3=b*l3,l4=b*l4,l5=b*l5),0))\n",
    "\n",
    "def degN(f,n):\n",
    "    if f==0: \n",
    "        return 0\n",
    "    return pretty(degn(f(t=b*t,m=b*m,w=b*w,v=b*v,l=b*l,l1=b*l1,l2=b*l2,l3=b*l3,l4=b*l4,l5=b*l5),n))\n",
    "\n",
    "\n",
    "def deg1(f):\n",
    "    if f==0: \n",
    "        return 0\n",
    "    return pretty(degn(f(t=b*t,m=b*m,w=b*w,v=b*v,l=b*l,l1=b*l1,l2=b*l2,l3=b*l3,l4=b*l4,l5=b*l5),-1))\n",
    "\n",
    "def total_chern_quot_2(Z):\n",
    "    total=1\n",
    "    for i in range(len(Z)):\n",
    "        Q = character(Z[i],x,1/x)*(zz^i)\n",
    "        roots = []\n",
    "        for coeff, mon in list(Q):\n",
    "            wt = from_monomial(mon)\n",
    "            roots += (coeff) * [wt+w]\n",
    "            roots += (coeff) * [wt+V]\n",
    "        total *= prod((1+r) for r in roots)\n",
    "    return total\n",
    "\n",
    "def Chern_Num_quot_2(n,N):\n",
    "    total=0\n",
    "    for Z in fixed_locus(n,N):\n",
    "        add=top_chern(-Nvir(Z))*total_chern_quot_2(Z)\n",
    "        total+=add\n",
    "    return total\n",
    "\n",
    "\n",
    "def total_segre_quot_2(Z):\n",
    "    total=1\n",
    "    for i in range(len(Z)):\n",
    "        Q = character(Z[i],x,1/x)*(zz^i)\n",
    "        roots = []\n",
    "        vb_weight = W\n",
    "        for coeff, mon in list(Q):\n",
    "            wt = from_monomial(mon)\n",
    "            roots += (coeff) * [wt+w]\n",
    "            roots += (coeff) * [wt+V]\n",
    "        total *= prod(1/(1+r) for r in roots)\n",
    "    return total\n",
    "\n",
    "def Segre_Num_quot_2(n,N):\n",
    "    total=0\n",
    "    for Z in fixed_locus(n,N):\n",
    "        add=top_chern(-Nvir(Z))*total_segre_quot_2(Z)\n",
    "        total+=add\n",
    "    return total\n",
    "\n",
    "def determinant_quot_2(Z,n):\n",
    "    det=1\n",
    "    for i in range(len(Z)):\n",
    "        Q = character(Z[i],x,1/x)*(zz^i)\n",
    "        det *= determinant(Q)\n",
    "    return det^2*(exp((W+V)*n))\n",
    "\n",
    "def Verlinde_Num_quot_2(n,N):\n",
    "    total=0\n",
    "    for Z in fixed_locus(n,N):\n",
    "        add=measure_unsymmetrized(Nvir(Z))*\\\n",
    "            determinant_quot_2(Z,n)\n",
    "        total+=add\n",
    "    return total\n",
    "\n",
    "def Verlinde_Num_quot_2_inv(n,N):\n",
    "    total=0\n",
    "    for Z in fixed_locus(n,N):\n",
    "        add=measure_unsymmetrized(Nvir(Z))*\\\n",
    "            (1/determinant_quot_2(Z,n))\n",
    "        total+=add\n",
    "    return total\n",
    "\n",
    "def all_check(start,finish):\n",
    "    # check for n,N,r, up to r=5\n",
    "    with open(\"symmetry2d-segre-checked.txt\") as f:\n",
    "        lines = f.read().splitlines()\n",
    "    if len(lines)==0:\n",
    "        n,N,r=[0,0,0]\n",
    "    else:\n",
    "        last_checked=lines[len(lines)-1]\n",
    "        n,N,r=[int(a) for a in last_checked.split(\",\")]\n",
    "    for i in range(start,finish+1):\n",
    "        for j in range(1,4):\n",
    "            for k in range(1,4):\n",
    "                n,N,r=[i,j,k]\n",
    "                if k<j:\n",
    "                    continue\n",
    "                if j<k:\n",
    "                    print(\"checking segre sym: n=\"+str(n)+\", N=\"+str(N)+\", r=\"+str(r))\n",
    "                    if str(n)+','+str(N)+','+str(r) in lines:\n",
    "                        print(\"n=\"+str(n)+\", N=\"+str(N)+\", r=\"+str(r)+\" already checked\")\n",
    "                    else:\n",
    "                        S1=Segre_Num_quot(n,N,r)\n",
    "                        S2=Segre_Num_quot(n,r,N)\n",
    "                        print(\"comparing\")\n",
    "                        diff=S1*(-1)^(n*N)-symmetrize(S2)*(-1)^(n*r)\n",
    "                        if diff==0:\n",
    "                            writeline(\"symmetry2d-segre-checked.txt\",str(n)+','+str(N)+','+str(r))\n",
    "                            print(\"checked\")\n",
    "                        else:\n",
    "                            print(\"failed\")\n",
    "                              \n",
    "        print(\"all checked for: n=\"+str(i))\n",
    "                        \n",
    "                    \n",
    "def writeline(file,s):\n",
    "    g = open(file, \"a\")\n",
    "    g.write(s+\"\\n\")\n",
    "    g.close()\n",
    "                \n",
    "                \n",
    "def clear_all_files():\n",
    "    open('V2d-red-checked.txt', 'w').close()"
   ]
  },
  {
   "cell_type": "code",
   "execution_count": 4,
   "metadata": {},
   "outputs": [
    {
     "data": {
      "text/html": [
       "<html><script type=\"math/tex; mode=display\">\\newcommand{\\Bold}[1]{\\mathbf{#1}}-\\frac{w^{2}}{t^{2}}</script></html>"
      ],
      "text/latex": [
       "$$\\newcommand{\\Bold}[1]{\\mathbf{#1}}-\\frac{w^{2}}{t^{2}}$$"
      ],
      "text/plain": [
       "-w^2/t^2"
      ]
     },
     "execution_count": 4,
     "metadata": {},
     "output_type": "execute_result"
    }
   ],
   "source": [
    "deg0(pretty(Segre_Num_quot(1, 1)))"
   ]
  },
  {
   "cell_type": "code",
   "execution_count": 5,
   "metadata": {},
   "outputs": [
    {
     "data": {
      "text/html": [
       "<html><script type=\"math/tex; mode=display\">\\newcommand{\\Bold}[1]{\\mathbf{#1}}\\frac{t^{2} + 6 \\, w^{2}}{2 \\, t^{2}}</script></html>"
      ],
      "text/latex": [
       "$$\\newcommand{\\Bold}[1]{\\mathbf{#1}}\\frac{t^{2} + 6 \\, w^{2}}{2 \\, t^{2}}$$"
      ],
      "text/plain": [
       "1/2*(t^2 + 6*w^2)/t^2"
      ]
     },
     "execution_count": 5,
     "metadata": {},
     "output_type": "execute_result"
    }
   ],
   "source": [
    "deg0(pretty(Segre_Num_quot(2, 1)))"
   ]
  },
  {
   "cell_type": "code",
   "execution_count": 6,
   "metadata": {},
   "outputs": [
    {
     "data": {
      "text/html": [
       "<html><script type=\"math/tex; mode=display\">\\newcommand{\\Bold}[1]{\\mathbf{#1}}-\\frac{10 \\, {\\left(t^{2} + 3 \\, w^{2}\\right)}}{3 \\, t^{2}}</script></html>"
      ],
      "text/latex": [
       "$$\\newcommand{\\Bold}[1]{\\mathbf{#1}}-\\frac{10 \\, {\\left(t^{2} + 3 \\, w^{2}\\right)}}{3 \\, t^{2}}$$"
      ],
      "text/plain": [
       "-10/3*(t^2 + 3*w^2)/t^2"
      ]
     },
     "execution_count": 6,
     "metadata": {},
     "output_type": "execute_result"
    }
   ],
   "source": [
    "deg0(pretty(Segre_Num_quot(3, 1)))"
   ]
  },
  {
   "cell_type": "code",
   "execution_count": 9,
   "metadata": {},
   "outputs": [
    {
     "data": {
      "text/html": [
       "<html><script type=\"math/tex; mode=display\">\\newcommand{\\Bold}[1]{\\mathbf{#1}}-\\frac{w + 1}{t^{2}}</script></html>"
      ],
      "text/latex": [
       "$$\\newcommand{\\Bold}[1]{\\mathbf{#1}}-\\frac{w + 1}{t^{2}}$$"
      ],
      "text/plain": [
       "-(w + 1)/t^2"
      ]
     },
     "execution_count": 9,
     "metadata": {},
     "output_type": "execute_result"
    }
   ],
   "source": [
    "pretty(Chern_Num_quot(1, 1))"
   ]
  },
  {
   "cell_type": "code",
   "execution_count": 10,
   "metadata": {},
   "outputs": [
    {
     "data": {
      "text/html": [
       "<html><script type=\"math/tex; mode=display\">\\newcommand{\\Bold}[1]{\\mathbf{#1}}-\\frac{w + 1}{2 \\, t^{2}}</script></html>"
      ],
      "text/latex": [
       "$$\\newcommand{\\Bold}[1]{\\mathbf{#1}}-\\frac{w + 1}{2 \\, t^{2}}$$"
      ],
      "text/plain": [
       "-1/2*(w + 1)/t^2"
      ]
     },
     "execution_count": 10,
     "metadata": {},
     "output_type": "execute_result"
    }
   ],
   "source": [
    "pretty(Chern_Num_quot(2, 1))"
   ]
  },
  {
   "cell_type": "code",
   "execution_count": 11,
   "metadata": {},
   "outputs": [
    {
     "data": {
      "text/html": [
       "<html><script type=\"math/tex; mode=display\">\\newcommand{\\Bold}[1]{\\mathbf{#1}}-\\frac{w + 1}{t^{2}}</script></html>"
      ],
      "text/latex": [
       "$$\\newcommand{\\Bold}[1]{\\mathbf{#1}}-\\frac{w + 1}{t^{2}}$$"
      ],
      "text/plain": [
       "-(w + 1)/t^2"
      ]
     },
     "execution_count": 11,
     "metadata": {},
     "output_type": "execute_result"
    }
   ],
   "source": [
    "pretty(Chern_Num_quot(1, 1))"
   ]
  },
  {
   "cell_type": "code",
   "execution_count": 7,
   "metadata": {},
   "outputs": [
    {
     "data": {
      "text/html": [
       "<html><script type=\"math/tex; mode=display\">\\newcommand{\\Bold}[1]{\\mathbf{#1}}\\left[\\left([], [], [2]\\right), \\left([], [], [1, 1]\\right), \\left([], [1], [1]\\right), \\left([], [2], []\\right), \\left([], [1, 1], []\\right), \\left([1], [], [1]\\right), \\left([1], [1], []\\right), \\left([2], [], []\\right), \\left([1, 1], [], []\\right)\\right]</script></html>"
      ],
      "text/latex": [
       "$$\\newcommand{\\Bold}[1]{\\mathbf{#1}}\\left[\\left([], [], [2]\\right), \\left([], [], [1, 1]\\right), \\left([], [1], [1]\\right), \\left([], [2], []\\right), \\left([], [1, 1], []\\right), \\left([1], [], [1]\\right), \\left([1], [1], []\\right), \\left([2], [], []\\right), \\left([1, 1], [], []\\right)\\right]$$"
      ],
      "text/plain": [
       "[([], [], [2]),\n",
       " ([], [], [1, 1]),\n",
       " ([], [1], [1]),\n",
       " ([], [2], []),\n",
       " ([], [1, 1], []),\n",
       " ([1], [], [1]),\n",
       " ([1], [1], []),\n",
       " ([2], [], []),\n",
       " ([1, 1], [], [])]"
      ]
     },
     "execution_count": 7,
     "metadata": {},
     "output_type": "execute_result"
    }
   ],
   "source": [
    "fixed_locus(2,3)"
   ]
  },
  {
   "cell_type": "code",
   "execution_count": 64,
   "metadata": {
    "scrolled": false
   },
   "outputs": [
    {
     "data": {
      "text/html": [
       "<html><script type=\"math/tex; mode=display\">\\newcommand{\\Bold}[1]{\\mathbf{#1}}-\\frac{l_{1} + l_{2} + 2 \\, w}{t^{2}}</script></html>"
      ],
      "text/latex": [
       "$$\\newcommand{\\Bold}[1]{\\mathbf{#1}}-\\frac{l_{1} + l_{2} + 2 \\, w}{t^{2}}$$"
      ],
      "text/plain": [
       "-(l1 + l2 + 2*w)/t^2"
      ]
     },
     "execution_count": 64,
     "metadata": {},
     "output_type": "execute_result"
    }
   ],
   "source": [
    "deg1(pretty(Verlinde_Num_quot(1,2))(x=exp(t),y=exp(m),z1=exp(l1),z2=exp(l2)))"
   ]
  },
  {
   "cell_type": "code",
   "execution_count": 65,
   "metadata": {},
   "outputs": [
    {
     "data": {
      "text/html": [
       "<html><script type=\"math/tex; mode=display\">\\newcommand{\\Bold}[1]{\\mathbf{#1}}-\\frac{l_{1} + l_{2} + 2 \\, w}{t^{2}}</script></html>"
      ],
      "text/latex": [
       "$$\\newcommand{\\Bold}[1]{\\mathbf{#1}}-\\frac{l_{1} + l_{2} + 2 \\, w}{t^{2}}$$"
      ],
      "text/plain": [
       "-(l1 + l2 + 2*w)/t^2"
      ]
     },
     "execution_count": 65,
     "metadata": {},
     "output_type": "execute_result"
    }
   ],
   "source": [
    "deg1(pretty(Segre_Num_quot(1, 2)))"
   ]
  },
  {
   "cell_type": "code",
   "execution_count": 30,
   "metadata": {
    "scrolled": false
   },
   "outputs": [
    {
     "data": {
      "text/html": [
       "<html><script type=\"math/tex; mode=display\">\\newcommand{\\Bold}[1]{\\mathbf{#1}}-\\frac{3 \\, {\\left(l + w\\right)}}{t^{2}}</script></html>"
      ],
      "text/latex": [
       "$$\\newcommand{\\Bold}[1]{\\mathbf{#1}}-\\frac{3 \\, {\\left(l + w\\right)}}{t^{2}}$$"
      ],
      "text/plain": [
       "-3*(l + w)/t^2"
      ]
     },
     "execution_count": 30,
     "metadata": {},
     "output_type": "execute_result"
    }
   ],
   "source": [
    "deg1(pretty(Verlinde_Num_quot(1,3))(x=exp(t),y=exp(m),z=exp(l)))"
   ]
  },
  {
   "cell_type": "code",
   "execution_count": 29,
   "metadata": {},
   "outputs": [
    {
     "data": {
      "text/html": [
       "<html><script type=\"math/tex; mode=display\">\\newcommand{\\Bold}[1]{\\mathbf{#1}}\\frac{3 \\, {\\left(l + w\\right)}}{t^{2}}</script></html>"
      ],
      "text/latex": [
       "$$\\newcommand{\\Bold}[1]{\\mathbf{#1}}\\frac{3 \\, {\\left(l + w\\right)}}{t^{2}}$$"
      ],
      "text/plain": [
       "3*(l + w)/t^2"
      ]
     },
     "execution_count": 29,
     "metadata": {},
     "output_type": "execute_result"
    }
   ],
   "source": [
    "deg1(pretty(Segre_Num_quot(1, 3)))"
   ]
  },
  {
   "cell_type": "code",
   "execution_count": 19,
   "metadata": {},
   "outputs": [
    {
     "data": {
      "text/html": [
       "<html><script type=\"math/tex; mode=display\">\\newcommand{\\Bold}[1]{\\mathbf{#1}}-\\frac{3 \\, w}{2 \\, t^{2}}</script></html>"
      ],
      "text/latex": [
       "$$\\newcommand{\\Bold}[1]{\\mathbf{#1}}-\\frac{3 \\, w}{2 \\, t^{2}}$$"
      ],
      "text/plain": [
       "-3/2*w/t^2"
      ]
     },
     "execution_count": 19,
     "metadata": {},
     "output_type": "execute_result"
    }
   ],
   "source": [
    "deg1(pretty(Verlinde_Num_quot(2,1))(x=exp(t),y=exp(m),z=exp(l)))"
   ]
  },
  {
   "cell_type": "code",
   "execution_count": 20,
   "metadata": {},
   "outputs": [
    {
     "data": {
      "text/html": [
       "<html><script type=\"math/tex; mode=display\">\\newcommand{\\Bold}[1]{\\mathbf{#1}}-\\frac{3 \\, w}{2 \\, t^{2}}</script></html>"
      ],
      "text/latex": [
       "$$\\newcommand{\\Bold}[1]{\\mathbf{#1}}-\\frac{3 \\, w}{2 \\, t^{2}}$$"
      ],
      "text/plain": [
       "-3/2*w/t^2"
      ]
     },
     "execution_count": 20,
     "metadata": {},
     "output_type": "execute_result"
    }
   ],
   "source": [
    "deg1(pretty(Segre_Num_quot(2, 1)))"
   ]
  },
  {
   "cell_type": "code",
   "execution_count": 21,
   "metadata": {},
   "outputs": [
    {
     "data": {
      "text/html": [
       "<html><script type=\"math/tex; mode=display\">\\newcommand{\\Bold}[1]{\\mathbf{#1}}-\\frac{5 \\, {\\left(l + 2 \\, w\\right)}}{2 \\, t^{2}}</script></html>"
      ],
      "text/latex": [
       "$$\\newcommand{\\Bold}[1]{\\mathbf{#1}}-\\frac{5 \\, {\\left(l + 2 \\, w\\right)}}{2 \\, t^{2}}$$"
      ],
      "text/plain": [
       "-5/2*(l + 2*w)/t^2"
      ]
     },
     "execution_count": 21,
     "metadata": {},
     "output_type": "execute_result"
    }
   ],
   "source": [
    "deg1(pretty(Verlinde_Num_quot(2,2))(x=exp(t),y=exp(m),z=exp(l)))"
   ]
  },
  {
   "cell_type": "code",
   "execution_count": 22,
   "metadata": {},
   "outputs": [
    {
     "data": {
      "text/html": [
       "<html><script type=\"math/tex; mode=display\">\\newcommand{\\Bold}[1]{\\mathbf{#1}}-\\frac{5 \\, {\\left(l + 2 \\, w\\right)}}{2 \\, t^{2}}</script></html>"
      ],
      "text/latex": [
       "$$\\newcommand{\\Bold}[1]{\\mathbf{#1}}-\\frac{5 \\, {\\left(l + 2 \\, w\\right)}}{2 \\, t^{2}}$$"
      ],
      "text/plain": [
       "-5/2*(l + 2*w)/t^2"
      ]
     },
     "execution_count": 22,
     "metadata": {},
     "output_type": "execute_result"
    }
   ],
   "source": [
    "deg1(pretty(Segre_Num_quot(2, 2)))"
   ]
  },
  {
   "cell_type": "code",
   "execution_count": 32,
   "metadata": {},
   "outputs": [
    {
     "data": {
      "text/html": [
       "<html><script type=\"math/tex; mode=display\">\\newcommand{\\Bold}[1]{\\mathbf{#1}}-\\frac{21 \\, {\\left(l + w\\right)}}{2 \\, t^{2}}</script></html>"
      ],
      "text/latex": [
       "$$\\newcommand{\\Bold}[1]{\\mathbf{#1}}-\\frac{21 \\, {\\left(l + w\\right)}}{2 \\, t^{2}}$$"
      ],
      "text/plain": [
       "-21/2*(l + w)/t^2"
      ]
     },
     "execution_count": 32,
     "metadata": {},
     "output_type": "execute_result"
    }
   ],
   "source": [
    "deg1(pretty(Verlinde_Num_quot(2,3))(x=exp(t),y=exp(m),z=exp(l)))"
   ]
  },
  {
   "cell_type": "code",
   "execution_count": 31,
   "metadata": {},
   "outputs": [
    {
     "data": {
      "text/html": [
       "<html><script type=\"math/tex; mode=display\">\\newcommand{\\Bold}[1]{\\mathbf{#1}}-\\frac{21 \\, {\\left(l + w\\right)}}{2 \\, t^{2}}</script></html>"
      ],
      "text/latex": [
       "$$\\newcommand{\\Bold}[1]{\\mathbf{#1}}-\\frac{21 \\, {\\left(l + w\\right)}}{2 \\, t^{2}}$$"
      ],
      "text/plain": [
       "-21/2*(l + w)/t^2"
      ]
     },
     "execution_count": 31,
     "metadata": {},
     "output_type": "execute_result"
    }
   ],
   "source": [
    "deg1(pretty(Segre_Num_quot(2, 3)))"
   ]
  },
  {
   "cell_type": "code",
   "execution_count": 34,
   "metadata": {},
   "outputs": [
    {
     "data": {
      "text/html": [
       "<html><script type=\"math/tex; mode=display\">\\newcommand{\\Bold}[1]{\\mathbf{#1}}-\\frac{9 \\, {\\left(3 \\, l + 2 \\, w\\right)}}{t^{2}}</script></html>"
      ],
      "text/latex": [
       "$$\\newcommand{\\Bold}[1]{\\mathbf{#1}}-\\frac{9 \\, {\\left(3 \\, l + 2 \\, w\\right)}}{t^{2}}$$"
      ],
      "text/plain": [
       "-9*(3*l + 2*w)/t^2"
      ]
     },
     "execution_count": 34,
     "metadata": {},
     "output_type": "execute_result"
    }
   ],
   "source": [
    "deg1(pretty(Verlinde_Num_quot(2,4))(x=exp(t),y=exp(m),z=exp(l)))"
   ]
  },
  {
   "cell_type": "code",
   "execution_count": 33,
   "metadata": {},
   "outputs": [
    {
     "data": {
      "text/html": [
       "<html><script type=\"math/tex; mode=display\">\\newcommand{\\Bold}[1]{\\mathbf{#1}}-\\frac{9 \\, {\\left(3 \\, l + 2 \\, w\\right)}}{t^{2}}</script></html>"
      ],
      "text/latex": [
       "$$\\newcommand{\\Bold}[1]{\\mathbf{#1}}-\\frac{9 \\, {\\left(3 \\, l + 2 \\, w\\right)}}{t^{2}}$$"
      ],
      "text/plain": [
       "-9*(3*l + 2*w)/t^2"
      ]
     },
     "execution_count": 33,
     "metadata": {},
     "output_type": "execute_result"
    }
   ],
   "source": [
    "deg1(pretty(Segre_Num_quot(2, 4)))"
   ]
  },
  {
   "cell_type": "code",
   "execution_count": 36,
   "metadata": {
    "scrolled": false
   },
   "outputs": [
    {
     "data": {
      "text/html": [
       "<html><script type=\"math/tex; mode=display\">\\newcommand{\\Bold}[1]{\\mathbf{#1}}-\\frac{10 \\, w}{3 \\, t^{2}}</script></html>"
      ],
      "text/latex": [
       "$$\\newcommand{\\Bold}[1]{\\mathbf{#1}}-\\frac{10 \\, w}{3 \\, t^{2}}$$"
      ],
      "text/plain": [
       "-10/3*w/t^2"
      ]
     },
     "execution_count": 36,
     "metadata": {},
     "output_type": "execute_result"
    }
   ],
   "source": [
    "deg1(pretty(Verlinde_Num_quot(3,1))(x=exp(t),y=exp(m),z=exp(l)))"
   ]
  },
  {
   "cell_type": "code",
   "execution_count": 35,
   "metadata": {},
   "outputs": [
    {
     "data": {
      "text/html": [
       "<html><script type=\"math/tex; mode=display\">\\newcommand{\\Bold}[1]{\\mathbf{#1}}\\frac{10 \\, w}{3 \\, t^{2}}</script></html>"
      ],
      "text/latex": [
       "$$\\newcommand{\\Bold}[1]{\\mathbf{#1}}\\frac{10 \\, w}{3 \\, t^{2}}$$"
      ],
      "text/plain": [
       "10/3*w/t^2"
      ]
     },
     "execution_count": 35,
     "metadata": {},
     "output_type": "execute_result"
    }
   ],
   "source": [
    "deg1(pretty(Segre_Num_quot(3, 1)))"
   ]
  },
  {
   "cell_type": "code",
   "execution_count": 37,
   "metadata": {},
   "outputs": [
    {
     "data": {
      "text/html": [
       "<html><script type=\"math/tex; mode=display\">\\newcommand{\\Bold}[1]{\\mathbf{#1}}-\\frac{28 \\, {\\left(l + 2 \\, w\\right)}}{3 \\, t^{2}}</script></html>"
      ],
      "text/latex": [
       "$$\\newcommand{\\Bold}[1]{\\mathbf{#1}}-\\frac{28 \\, {\\left(l + 2 \\, w\\right)}}{3 \\, t^{2}}$$"
      ],
      "text/plain": [
       "-28/3*(l + 2*w)/t^2"
      ]
     },
     "execution_count": 37,
     "metadata": {},
     "output_type": "execute_result"
    }
   ],
   "source": [
    "deg1(pretty(Verlinde_Num_quot(3,2))(x=exp(t),y=exp(m),z=exp(l)))"
   ]
  },
  {
   "cell_type": "code",
   "execution_count": 43,
   "metadata": {
    "scrolled": true
   },
   "outputs": [
    {
     "data": {
      "text/html": [
       "<html><script type=\"math/tex; mode=display\">\\newcommand{\\Bold}[1]{\\mathbf{#1}}-\\frac{28 \\, {\\left(l + 2 \\, w\\right)}}{3 \\, t^{2}}</script></html>"
      ],
      "text/latex": [
       "$$\\newcommand{\\Bold}[1]{\\mathbf{#1}}-\\frac{28 \\, {\\left(l + 2 \\, w\\right)}}{3 \\, t^{2}}$$"
      ],
      "text/plain": [
       "-28/3*(l + 2*w)/t^2"
      ]
     },
     "execution_count": 43,
     "metadata": {},
     "output_type": "execute_result"
    }
   ],
   "source": [
    "deg1(pretty(Segre_Num_quot(3, 2)))"
   ]
  },
  {
   "cell_type": "code",
   "execution_count": 39,
   "metadata": {},
   "outputs": [
    {
     "data": {
      "text/html": [
       "<html><script type=\"math/tex; mode=display\">\\newcommand{\\Bold}[1]{\\mathbf{#1}}-\\frac{55 \\, {\\left(l + w\\right)}}{t^{2}}</script></html>"
      ],
      "text/latex": [
       "$$\\newcommand{\\Bold}[1]{\\mathbf{#1}}-\\frac{55 \\, {\\left(l + w\\right)}}{t^{2}}$$"
      ],
      "text/plain": [
       "-55*(l + w)/t^2"
      ]
     },
     "execution_count": 39,
     "metadata": {},
     "output_type": "execute_result"
    }
   ],
   "source": [
    "deg1(pretty(Verlinde_Num_quot(3,3))(x=exp(t),y=exp(m),z=exp(l)))"
   ]
  },
  {
   "cell_type": "code",
   "execution_count": 44,
   "metadata": {
    "scrolled": true
   },
   "outputs": [
    {
     "data": {
      "text/html": [
       "<html><script type=\"math/tex; mode=display\">\\newcommand{\\Bold}[1]{\\mathbf{#1}}\\frac{55 \\, {\\left(l + w\\right)}}{t^{2}}</script></html>"
      ],
      "text/latex": [
       "$$\\newcommand{\\Bold}[1]{\\mathbf{#1}}\\frac{55 \\, {\\left(l + w\\right)}}{t^{2}}$$"
      ],
      "text/plain": [
       "55*(l + w)/t^2"
      ]
     },
     "execution_count": 44,
     "metadata": {},
     "output_type": "execute_result"
    }
   ],
   "source": [
    "deg1(pretty(Segre_Num_quot(3, 3)))"
   ]
  },
  {
   "cell_type": "code",
   "execution_count": 42,
   "metadata": {},
   "outputs": [
    {
     "data": {
      "text/html": [
       "<html><script type=\"math/tex; mode=display\">\\newcommand{\\Bold}[1]{\\mathbf{#1}}-\\frac{165 \\, {\\left(l + 2 \\, w\\right)}}{4 \\, t^{2}}</script></html>"
      ],
      "text/latex": [
       "$$\\newcommand{\\Bold}[1]{\\mathbf{#1}}-\\frac{165 \\, {\\left(l + 2 \\, w\\right)}}{4 \\, t^{2}}$$"
      ],
      "text/plain": [
       "-165/4*(l + 2*w)/t^2"
      ]
     },
     "execution_count": 42,
     "metadata": {},
     "output_type": "execute_result"
    }
   ],
   "source": [
    "deg1(pretty(Verlinde_Num_quot(4,2))(x=exp(t),y=exp(m),z=exp(l)))"
   ]
  },
  {
   "cell_type": "code",
   "execution_count": 45,
   "metadata": {
    "scrolled": true
   },
   "outputs": [
    {
     "data": {
      "text/html": [
       "<html><script type=\"math/tex; mode=display\">\\newcommand{\\Bold}[1]{\\mathbf{#1}}-\\frac{165 \\, {\\left(l + 2 \\, w\\right)}}{4 \\, t^{2}}</script></html>"
      ],
      "text/latex": [
       "$$\\newcommand{\\Bold}[1]{\\mathbf{#1}}-\\frac{165 \\, {\\left(l + 2 \\, w\\right)}}{4 \\, t^{2}}$$"
      ],
      "text/plain": [
       "-165/4*(l + 2*w)/t^2"
      ]
     },
     "execution_count": 45,
     "metadata": {},
     "output_type": "execute_result"
    }
   ],
   "source": [
    "deg1(pretty(Segre_Num_quot(4, 2)))"
   ]
  },
  {
   "cell_type": "code",
   "execution_count": 46,
   "metadata": {},
   "outputs": [
    {
     "data": {
      "text/html": [
       "<html><script type=\"math/tex; mode=display\">\\newcommand{\\Bold}[1]{\\mathbf{#1}}-\\frac{1365 \\, {\\left(l + w\\right)}}{4 \\, t^{2}}</script></html>"
      ],
      "text/latex": [
       "$$\\newcommand{\\Bold}[1]{\\mathbf{#1}}-\\frac{1365 \\, {\\left(l + w\\right)}}{4 \\, t^{2}}$$"
      ],
      "text/plain": [
       "-1365/4*(l + w)/t^2"
      ]
     },
     "execution_count": 46,
     "metadata": {},
     "output_type": "execute_result"
    }
   ],
   "source": [
    "deg1(pretty(Verlinde_Num_quot(4,3))(x=exp(t),y=exp(m),z=exp(l)))"
   ]
  },
  {
   "cell_type": "code",
   "execution_count": 47,
   "metadata": {
    "scrolled": true
   },
   "outputs": [
    {
     "data": {
      "text/html": [
       "<html><script type=\"math/tex; mode=display\">\\newcommand{\\Bold}[1]{\\mathbf{#1}}-\\frac{1365 \\, {\\left(l + w\\right)}}{4 \\, t^{2}}</script></html>"
      ],
      "text/latex": [
       "$$\\newcommand{\\Bold}[1]{\\mathbf{#1}}-\\frac{1365 \\, {\\left(l + w\\right)}}{4 \\, t^{2}}$$"
      ],
      "text/plain": [
       "-1365/4*(l + w)/t^2"
      ]
     },
     "execution_count": 47,
     "metadata": {},
     "output_type": "execute_result"
    }
   ],
   "source": [
    "deg1(pretty(Segre_Num_quot(4, 3)))"
   ]
  },
  {
   "cell_type": "markdown",
   "metadata": {},
   "source": [
    "# RANK 2\n"
   ]
  },
  {
   "cell_type": "code",
   "execution_count": 53,
   "metadata": {},
   "outputs": [
    {
     "data": {
      "text/html": [
       "<html><script type=\"math/tex; mode=display\">\\newcommand{\\Bold}[1]{\\mathbf{#1}}-\\frac{35 \\, {\\left(l + v + w\\right)}}{2 \\, t^{2}}</script></html>"
      ],
      "text/latex": [
       "$$\\newcommand{\\Bold}[1]{\\mathbf{#1}}-\\frac{35 \\, {\\left(l + v + w\\right)}}{2 \\, t^{2}}$$"
      ],
      "text/plain": [
       "-35/2*(l + v + w)/t^2"
      ]
     },
     "execution_count": 53,
     "metadata": {},
     "output_type": "execute_result"
    }
   ],
   "source": [
    "deg1(pretty(Verlinde_Num_quot_2(2,2))(x=exp(t),y=exp(m),z=exp(l)))"
   ]
  },
  {
   "cell_type": "code",
   "execution_count": 52,
   "metadata": {},
   "outputs": [
    {
     "data": {
      "text/html": [
       "<html><script type=\"math/tex; mode=display\">\\newcommand{\\Bold}[1]{\\mathbf{#1}}-\\frac{35 \\, {\\left(l + v + w\\right)}}{2 \\, t^{2}}</script></html>"
      ],
      "text/latex": [
       "$$\\newcommand{\\Bold}[1]{\\mathbf{#1}}-\\frac{35 \\, {\\left(l + v + w\\right)}}{2 \\, t^{2}}$$"
      ],
      "text/plain": [
       "-35/2*(l + v + w)/t^2"
      ]
     },
     "execution_count": 52,
     "metadata": {},
     "output_type": "execute_result"
    }
   ],
   "source": [
    "deg1(pretty(Segre_Num_quot_2(2, 2)))"
   ]
  },
  {
   "cell_type": "code",
   "execution_count": 110,
   "metadata": {},
   "outputs": [
    {
     "data": {
      "text/html": [
       "<html><script type=\"math/tex; mode=display\">\\newcommand{\\Bold}[1]{\\mathbf{#1}}-\\frac{1001 \\, {\\left(2 \\, l_{1} + 2 \\, l_{2} + 2 \\, l_{3} + 3 \\, v + 3 \\, w\\right)}}{3 \\, t^{2}}</script></html>"
      ],
      "text/latex": [
       "$$\\newcommand{\\Bold}[1]{\\mathbf{#1}}-\\frac{1001 \\, {\\left(2 \\, l_{1} + 2 \\, l_{2} + 2 \\, l_{3} + 3 \\, v + 3 \\, w\\right)}}{3 \\, t^{2}}$$"
      ],
      "text/plain": [
       "-1001/3*(2*l1 + 2*l2 + 2*l3 + 3*v + 3*w)/t^2"
      ]
     },
     "execution_count": 110,
     "metadata": {},
     "output_type": "execute_result"
    }
   ],
   "source": [
    "deg1(pretty(Verlinde_Num_quot_2(3,3))(x=exp(t),y=exp(m),z1=exp(l1),z2=exp(l2),z3=exp(l3)))"
   ]
  },
  {
   "cell_type": "code",
   "execution_count": 116,
   "metadata": {},
   "outputs": [
    {
     "data": {
      "text/html": [
       "<html><script type=\"math/tex; mode=display\">\\newcommand{\\Bold}[1]{\\mathbf{#1}}-\\frac{21 \\, {\\left(2 \\, l_{1} + 2 \\, l_{2} + 2 \\, l_{3} + 3 \\, v + 3 \\, w\\right)}}{t^{2}}</script></html>"
      ],
      "text/latex": [
       "$$\\newcommand{\\Bold}[1]{\\mathbf{#1}}-\\frac{21 \\, {\\left(2 \\, l_{1} + 2 \\, l_{2} + 2 \\, l_{3} + 3 \\, v + 3 \\, w\\right)}}{t^{2}}$$"
      ],
      "text/plain": [
       "-21*(2*l1 + 2*l2 + 2*l3 + 3*v + 3*w)/t^2"
      ]
     },
     "execution_count": 116,
     "metadata": {},
     "output_type": "execute_result"
    }
   ],
   "source": [
    "deg1(Segre_Num_quot_2(2, 3))"
   ]
  },
  {
   "cell_type": "code",
   "execution_count": 256,
   "metadata": {},
   "outputs": [
    {
     "data": {
      "text/html": [
       "<html><script type=\"math/tex; mode=display\">\\newcommand{\\Bold}[1]{\\mathbf{#1}}0</script></html>"
      ],
      "text/latex": [
       "$$\\newcommand{\\Bold}[1]{\\mathbf{#1}}0$$"
      ],
      "text/plain": [
       "0"
      ]
     },
     "execution_count": 256,
     "metadata": {},
     "output_type": "execute_result"
    }
   ],
   "source": [
    "degN(Segre_Num_quot_2(4, 3)*b^5,2)"
   ]
  },
  {
   "cell_type": "markdown",
   "metadata": {},
   "source": [
    "# Degree 0"
   ]
  },
  {
   "cell_type": "code",
   "execution_count": 69,
   "metadata": {},
   "outputs": [
    {
     "data": {
      "text/html": [
       "<html><script type=\"math/tex; mode=display\">\\newcommand{\\Bold}[1]{\\mathbf{#1}}-\\frac{5 \\, {\\left({\\left(6 \\, w^{2} + 1\\right)} t^{2} + 12 \\, l_{1} t w + 6 \\, l_{1}^{2}\\right)}}{6 \\, t^{2}}</script></html>"
      ],
      "text/latex": [
       "$$\\newcommand{\\Bold}[1]{\\mathbf{#1}}-\\frac{5 \\, {\\left({\\left(6 \\, w^{2} + 1\\right)} t^{2} + 12 \\, l_{1} t w + 6 \\, l_{1}^{2}\\right)}}{6 \\, t^{2}}$$"
      ],
      "text/plain": [
       "-5/6*((6*w^2 + 1)*t^2 + 12*l1*t*w + 6*l1^2)/t^2"
      ]
     },
     "execution_count": 69,
     "metadata": {},
     "output_type": "execute_result"
    }
   ],
   "source": [
    "degn(Verlinde_Num_quot(3,1)(x=exp(t*b),z1=exp(l1*b),w=w*t*b),0)"
   ]
  },
  {
   "cell_type": "code",
   "execution_count": 68,
   "metadata": {},
   "outputs": [
    {
     "data": {
      "text/html": [
       "<html><script type=\"math/tex; mode=display\">\\newcommand{\\Bold}[1]{\\mathbf{#1}}-\\frac{10 \\, {\\left(3 \\, t^{2} w^{2} + 6 \\, l_{1} t w + 3 \\, l_{1}^{2} + t^{2}\\right)}}{3 \\, t^{2}}</script></html>"
      ],
      "text/latex": [
       "$$\\newcommand{\\Bold}[1]{\\mathbf{#1}}-\\frac{10 \\, {\\left(3 \\, t^{2} w^{2} + 6 \\, l_{1} t w + 3 \\, l_{1}^{2} + t^{2}\\right)}}{3 \\, t^{2}}$$"
      ],
      "text/plain": [
       "-10/3*(3*t^2*w^2 + 6*l1*t*w + 3*l1^2 + t^2)/t^2"
      ]
     },
     "execution_count": 68,
     "metadata": {},
     "output_type": "execute_result"
    }
   ],
   "source": [
    "degn(Segre_Num_quot(3,1)(t=t*b,l1=l1*b,w=w*t*b),0)"
   ]
  },
  {
   "cell_type": "code",
   "execution_count": 86,
   "metadata": {},
   "outputs": [
    {
     "data": {
      "text/html": [
       "<html><script type=\"math/tex; mode=display\">\\newcommand{\\Bold}[1]{\\mathbf{#1}}-\\frac{1}{{\\left(l_{1} t^{2} - l_{2} t^{2}\\right)} {\\left(l_{1} + w + 1\\right)}} + \\frac{1}{{\\left(l_{1} t^{2} - l_{2} t^{2}\\right)} {\\left(l_{2} + w + 1\\right)}}</script></html>"
      ],
      "text/latex": [
       "$$\\newcommand{\\Bold}[1]{\\mathbf{#1}}-\\frac{1}{{\\left(l_{1} t^{2} - l_{2} t^{2}\\right)} {\\left(l_{1} + w + 1\\right)}} + \\frac{1}{{\\left(l_{1} t^{2} - l_{2} t^{2}\\right)} {\\left(l_{2} + w + 1\\right)}}$$"
      ],
      "text/plain": [
       "-1/((l1*t^2 - l2*t^2)*(l1 + w + 1)) + 1/((l1*t^2 - l2*t^2)*(l2 + w + 1))"
      ]
     },
     "execution_count": 86,
     "metadata": {},
     "output_type": "execute_result"
    }
   ],
   "source": [
    "Segre_Num_quot(1,2)"
   ]
  },
  {
   "cell_type": "markdown",
   "metadata": {},
   "source": [
    "Note the non-unit part ($e(T^{\\text{vir}})$) of the dernominator of each individual term contains $l_1,l_2$, but after summing up,"
   ]
  },
  {
   "cell_type": "code",
   "execution_count": 87,
   "metadata": {},
   "outputs": [
    {
     "data": {
      "text/html": [
       "<html><script type=\"math/tex; mode=display\">\\newcommand{\\Bold}[1]{\\mathbf{#1}}\\frac{1}{{\\left(l_{1} + w + 1\\right)} {\\left(l_{2} + w + 1\\right)} t^{2}}</script></html>"
      ],
      "text/latex": [
       "$$\\newcommand{\\Bold}[1]{\\mathbf{#1}}\\frac{1}{{\\left(l_{1} + w + 1\\right)} {\\left(l_{2} + w + 1\\right)} t^{2}}$$"
      ],
      "text/plain": [
       "1/((l1 + w + 1)*(l2 + w + 1)*t^2)"
      ]
     },
     "execution_count": 87,
     "metadata": {},
     "output_type": "execute_result"
    }
   ],
   "source": [
    "pretty(Segre_Num_quot(1,2))"
   ]
  },
  {
   "cell_type": "markdown",
   "metadata": {},
   "source": [
    "the non-unit part becomes $t^2$, and taking degree 0 we get something whose denominator is just $t^2$, independent of $l_1,l_2$. Namely we only get positive degrees in $l_1,l_2$, and the negative degrees vanish, as if the Quot scheme is compact. So the $\\mathbb{C}^*$ action does not see the non-compactness of individual Hilbert space in the fixed locus?"
   ]
  },
  {
   "cell_type": "code",
   "execution_count": 91,
   "metadata": {},
   "outputs": [
    {
     "data": {
      "text/html": [
       "<html><script type=\"math/tex; mode=display\">\\newcommand{\\Bold}[1]{\\mathbf{#1}}15 \\, w^{2} + 2</script></html>"
      ],
      "text/latex": [
       "$$\\newcommand{\\Bold}[1]{\\mathbf{#1}}15 \\, w^{2} + 2$$"
      ],
      "text/plain": [
       "15*w^2 + 2"
      ]
     },
     "execution_count": 91,
     "metadata": {},
     "output_type": "execute_result"
    }
   ],
   "source": [
    "pretty(degn(Segre_Num_quot(2,2)(t=t*b,l1=l1*b,l2=l2*b,w=w*t*b),0)(l1=0,l2=0))"
   ]
  },
  {
   "cell_type": "code",
   "execution_count": 96,
   "metadata": {},
   "outputs": [
    {
     "data": {
      "text/html": [
       "<html><script type=\"math/tex; mode=display\">\\newcommand{\\Bold}[1]{\\mathbf{#1}}84 \\, w^{2} + 22</script></html>"
      ],
      "text/latex": [
       "$$\\newcommand{\\Bold}[1]{\\mathbf{#1}}84 \\, w^{2} + 22$$"
      ],
      "text/plain": [
       "84*w^2 + 22"
      ]
     },
     "execution_count": 96,
     "metadata": {},
     "output_type": "execute_result"
    }
   ],
   "source": [
    "pretty(degn(Segre_Num_quot(3,2)(t=t*b,l1=l1*b,l2=l2*b,w=w*t*b),0)(l1=0,l2=0))"
   ]
  },
  {
   "cell_type": "code",
   "execution_count": 95,
   "metadata": {},
   "outputs": [
    {
     "data": {
      "text/html": [
       "<html><script type=\"math/tex; mode=display\">\\newcommand{\\Bold}[1]{\\mathbf{#1}}495 \\, w^{2} + \\frac{385}{2}</script></html>"
      ],
      "text/latex": [
       "$$\\newcommand{\\Bold}[1]{\\mathbf{#1}}495 \\, w^{2} + \\frac{385}{2}$$"
      ],
      "text/plain": [
       "495*w^2 + 385/2"
      ]
     },
     "execution_count": 95,
     "metadata": {},
     "output_type": "execute_result"
    }
   ],
   "source": [
    "pretty(degn(Segre_Num_quot(4,2)(t=t*b,l1=l1*b,l2=l2*b,w=w*t*b),0)(l1=0,l2=0))"
   ]
  },
  {
   "cell_type": "code",
   "execution_count": 104,
   "metadata": {},
   "outputs": [
    {
     "data": {
      "text/html": [
       "<html><script type=\"math/tex; mode=display\">\\newcommand{\\Bold}[1]{\\mathbf{#1}}3003 \\, w^{2} + 1547</script></html>"
      ],
      "text/latex": [
       "$$\\newcommand{\\Bold}[1]{\\mathbf{#1}}3003 \\, w^{2} + 1547$$"
      ],
      "text/plain": [
       "3003*w^2 + 1547"
      ]
     },
     "execution_count": 104,
     "metadata": {},
     "output_type": "execute_result"
    }
   ],
   "source": [
    "pretty(degn(Segre_Num_quot(5,2)(t=t*b,l1=l1*b,l2=l2*b,w=w*t*b),0)(l1=0,l2=0))"
   ]
  },
  {
   "cell_type": "code",
   "execution_count": 100,
   "metadata": {},
   "outputs": [
    {
     "data": {
      "text/html": [
       "<html><script type=\"math/tex; mode=display\">\\newcommand{\\Bold}[1]{\\mathbf{#1}}3 \\, w^{2} + \\frac{1}{2}</script></html>"
      ],
      "text/latex": [
       "$$\\newcommand{\\Bold}[1]{\\mathbf{#1}}3 \\, w^{2} + \\frac{1}{2}$$"
      ],
      "text/plain": [
       "3*w^2 + 1/2"
      ]
     },
     "execution_count": 100,
     "metadata": {},
     "output_type": "execute_result"
    }
   ],
   "source": [
    "pretty(degn(Segre_Num_quot(2,1)(t=t*b,l1=l1*b,l2=l2*b,w=w*t*b),0)(l1=0,l2=0))"
   ]
  },
  {
   "cell_type": "code",
   "execution_count": 101,
   "metadata": {},
   "outputs": [
    {
     "data": {
      "text/html": [
       "<html><script type=\"math/tex; mode=display\">\\newcommand{\\Bold}[1]{\\mathbf{#1}}-10 \\, w^{2} - \\frac{10}{3}</script></html>"
      ],
      "text/latex": [
       "$$\\newcommand{\\Bold}[1]{\\mathbf{#1}}-10 \\, w^{2} - \\frac{10}{3}$$"
      ],
      "text/plain": [
       "-10*w^2 - 10/3"
      ]
     },
     "execution_count": 101,
     "metadata": {},
     "output_type": "execute_result"
    }
   ],
   "source": [
    "pretty(degn(Segre_Num_quot(3,1)(t=t*b,l1=l1*b,l2=l2*b,w=w*t*b),0)(l1=0,l2=0))"
   ]
  },
  {
   "cell_type": "code",
   "execution_count": 102,
   "metadata": {},
   "outputs": [
    {
     "data": {
      "text/html": [
       "<html><script type=\"math/tex; mode=display\">\\newcommand{\\Bold}[1]{\\mathbf{#1}}35 \\, w^{2} + \\frac{35}{2}</script></html>"
      ],
      "text/latex": [
       "$$\\newcommand{\\Bold}[1]{\\mathbf{#1}}35 \\, w^{2} + \\frac{35}{2}$$"
      ],
      "text/plain": [
       "35*w^2 + 35/2"
      ]
     },
     "execution_count": 102,
     "metadata": {},
     "output_type": "execute_result"
    }
   ],
   "source": [
    "pretty(degn(Segre_Num_quot(4,1)(t=t*b,l1=l1*b,l2=l2*b,w=w*t*b),0)(l1=0,l2=0))"
   ]
  },
  {
   "cell_type": "code",
   "execution_count": 16,
   "metadata": {},
   "outputs": [
    {
     "data": {
      "text/html": [
       "<html><script type=\"math/tex; mode=display\">\\newcommand{\\Bold}[1]{\\mathbf{#1}}-\\frac{3 \\, w}{2 \\, t}</script></html>"
      ],
      "text/latex": [
       "$$\\newcommand{\\Bold}[1]{\\mathbf{#1}}-\\frac{3 \\, w}{2 \\, t}$$"
      ],
      "text/plain": [
       "-3/2*w/t"
      ]
     },
     "execution_count": 16,
     "metadata": {},
     "output_type": "execute_result"
    }
   ],
   "source": [
    "pretty(deg1(pretty(Verlinde_Num_quot(2,1))(x=exp(t),y=exp(m),z=exp(l)))(w=t*w,l=0))"
   ]
  },
  {
   "cell_type": "code",
   "execution_count": 17,
   "metadata": {},
   "outputs": [
    {
     "data": {
      "text/html": [
       "<html><script type=\"math/tex; mode=display\">\\newcommand{\\Bold}[1]{\\mathbf{#1}}-\\frac{10 \\, w}{3 \\, t}</script></html>"
      ],
      "text/latex": [
       "$$\\newcommand{\\Bold}[1]{\\mathbf{#1}}-\\frac{10 \\, w}{3 \\, t}$$"
      ],
      "text/plain": [
       "-10/3*w/t"
      ]
     },
     "execution_count": 17,
     "metadata": {},
     "output_type": "execute_result"
    }
   ],
   "source": [
    "pretty(deg1(pretty(Verlinde_Num_quot(3,1))(x=exp(t),y=exp(m),z=exp(l)))(w=t*w,l=0))"
   ]
  },
  {
   "cell_type": "code",
   "execution_count": 168,
   "metadata": {
    "scrolled": true
   },
   "outputs": [
    {
     "data": {
      "text/html": [
       "<html><script type=\"math/tex; mode=display\">\\newcommand{\\Bold}[1]{\\mathbf{#1}}-\\frac{3}{2} \\, w^{2}</script></html>"
      ],
      "text/latex": [
       "$$\\newcommand{\\Bold}[1]{\\mathbf{#1}}-\\frac{3}{2} \\, w^{2}$$"
      ],
      "text/plain": [
       "-3/2*w^2"
      ]
     },
     "execution_count": 168,
     "metadata": {},
     "output_type": "execute_result"
    }
   ],
   "source": [
    "pretty(deg0(pretty(Verlinde_Num_quot(2,1))(x=exp(t),y=exp(m),z=exp(l)))(w=t*w,l=0))"
   ]
  },
  {
   "cell_type": "code",
   "execution_count": 169,
   "metadata": {},
   "outputs": [
    {
     "data": {
      "text/html": [
       "<html><script type=\"math/tex; mode=display\">\\newcommand{\\Bold}[1]{\\mathbf{#1}}-5 \\, w^{2} - \\frac{5}{6}</script></html>"
      ],
      "text/latex": [
       "$$\\newcommand{\\Bold}[1]{\\mathbf{#1}}-5 \\, w^{2} - \\frac{5}{6}$$"
      ],
      "text/plain": [
       "-5*w^2 - 5/6"
      ]
     },
     "execution_count": 169,
     "metadata": {},
     "output_type": "execute_result"
    }
   ],
   "source": [
    "pretty(deg0(pretty(Verlinde_Num_quot(3,1))(x=exp(t),y=exp(m),z=exp(l)))(w=t*w,l=0))"
   ]
  },
  {
   "cell_type": "code",
   "execution_count": 170,
   "metadata": {},
   "outputs": [
    {
     "data": {
      "text/html": [
       "<html><script type=\"math/tex; mode=display\">\\newcommand{\\Bold}[1]{\\mathbf{#1}}-\\frac{35}{2} \\, w^{2} - \\frac{35}{6}</script></html>"
      ],
      "text/latex": [
       "$$\\newcommand{\\Bold}[1]{\\mathbf{#1}}-\\frac{35}{2} \\, w^{2} - \\frac{35}{6}$$"
      ],
      "text/plain": [
       "-35/2*w^2 - 35/6"
      ]
     },
     "execution_count": 170,
     "metadata": {},
     "output_type": "execute_result"
    }
   ],
   "source": [
    "pretty(deg0(pretty(Verlinde_Num_quot(4,1))(x=exp(t),y=exp(m),z=exp(l)))(w=t*w,l=0))"
   ]
  },
  {
   "cell_type": "code",
   "execution_count": 171,
   "metadata": {},
   "outputs": [
    {
     "data": {
      "text/html": [
       "<html><script type=\"math/tex; mode=display\">\\newcommand{\\Bold}[1]{\\mathbf{#1}}-63 \\, w^{2} - \\frac{63}{2}</script></html>"
      ],
      "text/latex": [
       "$$\\newcommand{\\Bold}[1]{\\mathbf{#1}}-63 \\, w^{2} - \\frac{63}{2}$$"
      ],
      "text/plain": [
       "-63*w^2 - 63/2"
      ]
     },
     "execution_count": 171,
     "metadata": {},
     "output_type": "execute_result"
    }
   ],
   "source": [
    "pretty(deg0(pretty(Verlinde_Num_quot(5,1))(x=exp(t),y=exp(m),z=exp(l)))(w=t*w,l=0))"
   ]
  },
  {
   "cell_type": "markdown",
   "metadata": {},
   "source": [
    "$N=1$, leading coeff is \n",
    "$$\\frac14\\binom{2n}{n}$$"
   ]
  },
  {
   "cell_type": "code",
   "execution_count": 155,
   "metadata": {
    "scrolled": true
   },
   "outputs": [
    {
     "data": {
      "text/html": [
       "<html><script type=\"math/tex; mode=display\">\\newcommand{\\Bold}[1]{\\mathbf{#1}}-5 \\, w^{2} + \\frac{1}{12}</script></html>"
      ],
      "text/latex": [
       "$$\\newcommand{\\Bold}[1]{\\mathbf{#1}}-5 \\, w^{2} + \\frac{1}{12}$$"
      ],
      "text/plain": [
       "-5*w^2 + 1/12"
      ]
     },
     "execution_count": 155,
     "metadata": {},
     "output_type": "execute_result"
    }
   ],
   "source": [
    "pretty(deg0(pretty(Verlinde_Num_quot(2,2))(x=exp(t),y=exp(m),z=exp(l)))(w=t*w,l=0))"
   ]
  },
  {
   "cell_type": "code",
   "execution_count": 153,
   "metadata": {},
   "outputs": [
    {
     "data": {
      "text/html": [
       "<html><script type=\"math/tex; mode=display\">\\newcommand{\\Bold}[1]{\\mathbf{#1}}-28 \\, w^{2} - \\frac{10}{3}</script></html>"
      ],
      "text/latex": [
       "$$\\newcommand{\\Bold}[1]{\\mathbf{#1}}-28 \\, w^{2} - \\frac{10}{3}$$"
      ],
      "text/plain": [
       "-28*w^2 - 10/3"
      ]
     },
     "execution_count": 153,
     "metadata": {},
     "output_type": "execute_result"
    }
   ],
   "source": [
    "pretty(deg0(pretty(Verlinde_Num_quot(3,2))(x=exp(t),y=exp(m),z=exp(l)))(w=t*w,l=0))"
   ]
  },
  {
   "cell_type": "code",
   "execution_count": 156,
   "metadata": {},
   "outputs": [
    {
     "data": {
      "text/html": [
       "<html><script type=\"math/tex; mode=display\">\\newcommand{\\Bold}[1]{\\mathbf{#1}}-165 \\, w^{2} - \\frac{165}{4}</script></html>"
      ],
      "text/latex": [
       "$$\\newcommand{\\Bold}[1]{\\mathbf{#1}}-165 \\, w^{2} - \\frac{165}{4}$$"
      ],
      "text/plain": [
       "-165*w^2 - 165/4"
      ]
     },
     "execution_count": 156,
     "metadata": {},
     "output_type": "execute_result"
    }
   ],
   "source": [
    "pretty(deg0(pretty(Verlinde_Num_quot(4,2))(x=exp(t),y=exp(m),z=exp(l)))(w=t*w,l=0))"
   ]
  },
  {
   "cell_type": "code",
   "execution_count": 157,
   "metadata": {},
   "outputs": [
    {
     "data": {
      "text/html": [
       "<html><script type=\"math/tex; mode=display\">\\newcommand{\\Bold}[1]{\\mathbf{#1}}-1001 \\, w^{2} - \\frac{2275}{6}</script></html>"
      ],
      "text/latex": [
       "$$\\newcommand{\\Bold}[1]{\\mathbf{#1}}-1001 \\, w^{2} - \\frac{2275}{6}$$"
      ],
      "text/plain": [
       "-1001*w^2 - 2275/6"
      ]
     },
     "execution_count": 157,
     "metadata": {},
     "output_type": "execute_result"
    }
   ],
   "source": [
    "pretty(deg0(pretty(Verlinde_Num_quot(5,2))(x=exp(t),y=exp(m),z=exp(l)))(w=t*w,l=0))"
   ]
  },
  {
   "cell_type": "markdown",
   "metadata": {},
   "source": [
    "$N=2$, leading coeff is \n",
    "$$\\frac13\\binom{3n}{n}$$"
   ]
  },
  {
   "cell_type": "code",
   "execution_count": 164,
   "metadata": {
    "scrolled": true
   },
   "outputs": [
    {
     "data": {
      "text/html": [
       "<html><script type=\"math/tex; mode=display\">\\newcommand{\\Bold}[1]{\\mathbf{#1}}-\\frac{21}{2} \\, w^{2} + \\frac{1}{4}</script></html>"
      ],
      "text/latex": [
       "$$\\newcommand{\\Bold}[1]{\\mathbf{#1}}-\\frac{21}{2} \\, w^{2} + \\frac{1}{4}$$"
      ],
      "text/plain": [
       "-21/2*w^2 + 1/4"
      ]
     },
     "execution_count": 164,
     "metadata": {},
     "output_type": "execute_result"
    }
   ],
   "source": [
    "pretty(deg0(pretty(Verlinde_Num_quot(2,3))(x=exp(t),y=exp(m),z=exp(l)))(w=t*w,l=0))"
   ]
  },
  {
   "cell_type": "code",
   "execution_count": 165,
   "metadata": {},
   "outputs": [
    {
     "data": {
      "text/html": [
       "<html><script type=\"math/tex; mode=display\">\\newcommand{\\Bold}[1]{\\mathbf{#1}}-\\frac{165}{2} \\, w^{2} - \\frac{33}{4}</script></html>"
      ],
      "text/latex": [
       "$$\\newcommand{\\Bold}[1]{\\mathbf{#1}}-\\frac{165}{2} \\, w^{2} - \\frac{33}{4}$$"
      ],
      "text/plain": [
       "-165/2*w^2 - 33/4"
      ]
     },
     "execution_count": 165,
     "metadata": {},
     "output_type": "execute_result"
    }
   ],
   "source": [
    "pretty(deg0(pretty(Verlinde_Num_quot(3,3))(x=exp(t),y=exp(m),z=exp(l)))(w=t*w,l=0))"
   ]
  },
  {
   "cell_type": "code",
   "execution_count": 166,
   "metadata": {},
   "outputs": [
    {
     "data": {
      "text/html": [
       "<html><script type=\"math/tex; mode=display\">\\newcommand{\\Bold}[1]{\\mathbf{#1}}-\\frac{1365}{2} \\, w^{2} - \\frac{595}{4}</script></html>"
      ],
      "text/latex": [
       "$$\\newcommand{\\Bold}[1]{\\mathbf{#1}}-\\frac{1365}{2} \\, w^{2} - \\frac{595}{4}$$"
      ],
      "text/plain": [
       "-1365/2*w^2 - 595/4"
      ]
     },
     "execution_count": 166,
     "metadata": {},
     "output_type": "execute_result"
    }
   ],
   "source": [
    "pretty(deg0(pretty(Verlinde_Num_quot(4,3))(x=exp(t),y=exp(m),z=exp(l)))(w=t*w,l=0))"
   ]
  },
  {
   "cell_type": "code",
   "execution_count": 167,
   "metadata": {},
   "outputs": [
    {
     "data": {
      "text/html": [
       "<html><script type=\"math/tex; mode=display\">\\newcommand{\\Bold}[1]{\\mathbf{#1}}-5814 \\, w^{2} - 1938</script></html>"
      ],
      "text/latex": [
       "$$\\newcommand{\\Bold}[1]{\\mathbf{#1}}-5814 \\, w^{2} - 1938$$"
      ],
      "text/plain": [
       "-5814*w^2 - 1938"
      ]
     },
     "execution_count": 167,
     "metadata": {},
     "output_type": "execute_result"
    }
   ],
   "source": [
    "pretty(deg0(pretty(Verlinde_Num_quot(5,3))(x=exp(t),y=exp(m),z=exp(l)))(w=t*w,l=0))"
   ]
  },
  {
   "cell_type": "markdown",
   "metadata": {},
   "source": [
    "$N=3$, leading coeff is \n",
    "$$\\frac38\\binom{4n}{n}$$"
   ]
  },
  {
   "cell_type": "code",
   "execution_count": 173,
   "metadata": {
    "scrolled": true
   },
   "outputs": [
    {
     "data": {
      "text/html": [
       "<html><script type=\"math/tex; mode=display\">\\newcommand{\\Bold}[1]{\\mathbf{#1}}-\\frac{1}{2} \\, {\\left(6 \\, w + 1\\right)} {\\left(6 \\, w - 1\\right)}</script></html>"
      ],
      "text/latex": [
       "$$\\newcommand{\\Bold}[1]{\\mathbf{#1}}-\\frac{1}{2} \\, {\\left(6 \\, w + 1\\right)} {\\left(6 \\, w - 1\\right)}$$"
      ],
      "text/plain": [
       "-1/2*(6*w + 1)*(6*w - 1)"
      ]
     },
     "execution_count": 173,
     "metadata": {},
     "output_type": "execute_result"
    }
   ],
   "source": [
    "pretty(deg0(pretty(Verlinde_Num_quot(2,4))(x=exp(t),y=exp(m),z=exp(l)))(w=t*w,l=0))"
   ]
  },
  {
   "cell_type": "code",
   "execution_count": 174,
   "metadata": {},
   "outputs": [
    {
     "data": {
      "text/html": [
       "<html><script type=\"math/tex; mode=display\">\\newcommand{\\Bold}[1]{\\mathbf{#1}}-182 \\, w^{2} - \\frac{49}{3}</script></html>"
      ],
      "text/latex": [
       "$$\\newcommand{\\Bold}[1]{\\mathbf{#1}}-182 \\, w^{2} - \\frac{49}{3}$$"
      ],
      "text/plain": [
       "-182*w^2 - 49/3"
      ]
     },
     "execution_count": 174,
     "metadata": {},
     "output_type": "execute_result"
    }
   ],
   "source": [
    "pretty(deg0(pretty(Verlinde_Num_quot(3,4))(x=exp(t),y=exp(m),z=exp(l)))(w=t*w,l=0))"
   ]
  },
  {
   "cell_type": "code",
   "execution_count": 175,
   "metadata": {},
   "outputs": [
    {
     "data": {
      "text/html": [
       "<html><script type=\"math/tex; mode=display\">\\newcommand{\\Bold}[1]{\\mathbf{#1}}-1938 \\, w^{2} - \\frac{779}{2}</script></html>"
      ],
      "text/latex": [
       "$$\\newcommand{\\Bold}[1]{\\mathbf{#1}}-1938 \\, w^{2} - \\frac{779}{2}$$"
      ],
      "text/plain": [
       "-1938*w^2 - 779/2"
      ]
     },
     "execution_count": 175,
     "metadata": {},
     "output_type": "execute_result"
    }
   ],
   "source": [
    "pretty(deg0(pretty(Verlinde_Num_quot(4,4))(x=exp(t),y=exp(m),z=exp(l)))(w=t*w,l=0))"
   ]
  },
  {
   "cell_type": "code",
   "execution_count": 176,
   "metadata": {},
   "outputs": [
    {
     "data": {
      "text/html": [
       "<html><script type=\"math/tex; mode=display\">\\newcommand{\\Bold}[1]{\\mathbf{#1}}-21252 \\, w^{2} - 6578</script></html>"
      ],
      "text/latex": [
       "$$\\newcommand{\\Bold}[1]{\\mathbf{#1}}-21252 \\, w^{2} - 6578$$"
      ],
      "text/plain": [
       "-21252*w^2 - 6578"
      ]
     },
     "execution_count": 176,
     "metadata": {},
     "output_type": "execute_result"
    }
   ],
   "source": [
    "pretty(deg0(pretty(Verlinde_Num_quot(5,4))(x=exp(t),y=exp(m),z=exp(l)))(w=t*w,l=0))"
   ]
  },
  {
   "cell_type": "markdown",
   "metadata": {},
   "source": [
    "$N=4$, leading coeff is \n",
    "$$\\frac25\\binom{5n}{n}$$"
   ]
  },
  {
   "cell_type": "code",
   "execution_count": 20,
   "metadata": {
    "scrolled": true
   },
   "outputs": [
    {
     "data": {
      "text/html": [
       "<html><script type=\"math/tex; mode=display\">\\newcommand{\\Bold}[1]{\\mathbf{#1}}\\frac{3}{2} \\, {\\left(v + w\\right)}^{2}</script></html>"
      ],
      "text/latex": [
       "$$\\newcommand{\\Bold}[1]{\\mathbf{#1}}\\frac{3}{2} \\, {\\left(v + w\\right)}^{2}$$"
      ],
      "text/plain": [
       "3/2*(v + w)^2"
      ]
     },
     "execution_count": 20,
     "metadata": {},
     "output_type": "execute_result"
    }
   ],
   "source": [
    "pretty(deg0(pretty(Verlinde_Num_quot_2_inv(2,1))(x=exp(t),z=exp(l)))(w=t*w,v=t*v,l=0))"
   ]
  },
  {
   "cell_type": "code",
   "execution_count": 21,
   "metadata": {},
   "outputs": [
    {
     "data": {
      "text/html": [
       "<html><script type=\"math/tex; mode=display\">\\newcommand{\\Bold}[1]{\\mathbf{#1}}-5 \\, v^{2} - 10 \\, v w - 5 \\, w^{2} - \\frac{5}{6}</script></html>"
      ],
      "text/latex": [
       "$$\\newcommand{\\Bold}[1]{\\mathbf{#1}}-5 \\, v^{2} - 10 \\, v w - 5 \\, w^{2} - \\frac{5}{6}$$"
      ],
      "text/plain": [
       "-5*v^2 - 10*v*w - 5*w^2 - 5/6"
      ]
     },
     "execution_count": 21,
     "metadata": {},
     "output_type": "execute_result"
    }
   ],
   "source": [
    "pretty(deg0(pretty(Verlinde_Num_quot_2_inv(3,1))(x=exp(t),z=exp(l)))(w=t*w,v=t*v,l=0))"
   ]
  },
  {
   "cell_type": "code",
   "execution_count": 228,
   "metadata": {},
   "outputs": [
    {
     "data": {
      "text/html": [
       "<html><script type=\"math/tex; mode=display\">\\newcommand{\\Bold}[1]{\\mathbf{#1}}\\frac{35}{2} \\, v^{2} + 35 \\, v w + \\frac{35}{2} \\, w^{2} + \\frac{35}{6}</script></html>"
      ],
      "text/latex": [
       "$$\\newcommand{\\Bold}[1]{\\mathbf{#1}}\\frac{35}{2} \\, v^{2} + 35 \\, v w + \\frac{35}{2} \\, w^{2} + \\frac{35}{6}$$"
      ],
      "text/plain": [
       "35/2*v^2 + 35*v*w + 35/2*w^2 + 35/6"
      ]
     },
     "execution_count": 228,
     "metadata": {},
     "output_type": "execute_result"
    }
   ],
   "source": [
    "pretty(deg0(pretty(Verlinde_Num_quot_2_inv(4,1))(x=exp(t),y=exp(m),z=exp(l)))(w=t*w,v=t*v,l=0))"
   ]
  },
  {
   "cell_type": "code",
   "execution_count": 225,
   "metadata": {},
   "outputs": [
    {
     "data": {
      "text/html": [
       "<html><script type=\"math/tex; mode=display\">\\newcommand{\\Bold}[1]{\\mathbf{#1}}-63 \\, v^{2} - 126 \\, v w - 63 \\, w^{2} - \\frac{63}{2}</script></html>"
      ],
      "text/latex": [
       "$$\\newcommand{\\Bold}[1]{\\mathbf{#1}}-63 \\, v^{2} - 126 \\, v w - 63 \\, w^{2} - \\frac{63}{2}$$"
      ],
      "text/plain": [
       "-63*v^2 - 126*v*w - 63*w^2 - 63/2"
      ]
     },
     "execution_count": 225,
     "metadata": {},
     "output_type": "execute_result"
    }
   ],
   "source": [
    "pretty(deg0(pretty(Verlinde_Num_quot_2_inv(5,1))(x=exp(t),y=exp(m),z=exp(l)))(w=t*w,v=t*v,l=0))"
   ]
  },
  {
   "cell_type": "markdown",
   "metadata": {},
   "source": [
    "Maybe in general\n",
    "$$-\\frac{N}{2(N+1)}\\binom{(N+1)n}{n} $$\n",
    "for rank 1. \n",
    "\n",
    "For general rank, we have\n",
    "$$-\\frac{1}{2(r+1)}\\binom{(r+1)n}{n} $$\n",
    "for $N=1$. \n",
    "\n",
    "but for general rank and general $N$, maybe\n",
    "$$-\\frac{N}{2(N+r)}\\binom{(N+r)n}{rn} $$\n",
    "Checked for rank $1,2,-1,-2$, $N=1,2,3,4,5$. Note for negative ranks, lots of them become trivial due to vanishing from before."
   ]
  },
  {
   "cell_type": "markdown",
   "metadata": {},
   "source": [
    "$r=2,N=1$\n",
    "$$\\frac{1}{6}\\binom{3n}{2n}$$\n",
    "\n",
    "$r=2,N=2$\n",
    "$$\\frac{1}{4}\\binom{4n}{2n}$$\n",
    "\n",
    "$r=2,N=3$\n",
    "$$\\frac{3}{10}\\binom{5n}{2n}$$"
   ]
  },
  {
   "cell_type": "code",
   "execution_count": 238,
   "metadata": {},
   "outputs": [
    {
     "data": {
      "text/html": [
       "<html><script type=\"math/tex; mode=display\">\\newcommand{\\Bold}[1]{\\mathbf{#1}}-\\frac{55 \\, {\\left(l + w\\right)}}{t^{2}}</script></html>"
      ],
      "text/latex": [
       "$$\\newcommand{\\Bold}[1]{\\mathbf{#1}}-\\frac{55 \\, {\\left(l + w\\right)}}{t^{2}}$$"
      ],
      "text/plain": [
       "-55*(l + w)/t^2"
      ]
     },
     "execution_count": 238,
     "metadata": {},
     "output_type": "execute_result"
    }
   ],
   "source": [
    "pretty(degN(pretty(Verlinde_Num_quot(3,3))(x=exp(t),y=exp(m),z=exp(l)),-1))"
   ]
  }
 ],
 "metadata": {
  "kernelspec": {
   "display_name": "SageMath 9.3",
   "language": "sage",
   "name": "sagemath"
  },
  "language_info": {
   "codemirror_mode": {
    "name": "ipython",
    "version": 3
   },
   "file_extension": ".py",
   "mimetype": "text/x-python",
   "name": "python",
   "nbconvert_exporter": "python",
   "pygments_lexer": "ipython3",
   "version": "3.7.10"
  }
 },
 "nbformat": 4,
 "nbformat_minor": 4
}
