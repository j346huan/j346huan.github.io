{
 "cells": [
  {
   "cell_type": "code",
   "execution_count": 89,
   "metadata": {},
   "outputs": [
    {
     "data": {
      "text/plain": [
       "Multivariate Polynomial Ring in x0, x1, x2, x3, x4, z over Rational Field"
      ]
     },
     "execution_count": 89,
     "metadata": {},
     "output_type": "execute_result"
    }
   ],
   "source": [
    "reset()\n",
    "Partitions.options.latex=\"list\"\n",
    "\n",
    "import sage.combinat\n",
    "import itertools\n",
    "\n",
    "\n",
    "Sym = SymmetricFunctions(QQ)\n",
    "\n",
    "x=SR.var('x',5)\n",
    "z=SR.var('z')\n",
    "S.<x0,x1,x2,x3,x4,z>=QQ[]\n",
    "\n",
    "e = Sym.e()\n",
    "p = Sym.p()\n",
    "m = Sym.m()\n",
    "\n",
    "h=p([2]).expand(5)\n",
    "R=h.parent()\n",
    "S"
   ]
  },
  {
   "cell_type": "code",
   "execution_count": 160,
   "metadata": {},
   "outputs": [
    {
     "data": {
      "text/plain": [
       "Multivariate Polynomial Ring in z, x0, x1, x2, x3 over Rational Field"
      ]
     },
     "execution_count": 160,
     "metadata": {},
     "output_type": "execute_result"
    }
   ],
   "source": [
    "n=5\n",
    "r=4\n",
    "k=3\n",
    "mu=Partitions(n)[0]\n",
    "h=p([0]).expand(r)\n",
    "R=h.parent()\n",
    "\n",
    "x=SR.var('x',r)\n",
    "z=SR.var('z')\n",
    "S=PolynomialRing(QQ,'z,'+','.join('x'+str(i) for i in range(r)))\n",
    "S"
   ]
  },
  {
   "cell_type": "code",
   "execution_count": 161,
   "metadata": {},
   "outputs": [],
   "source": [
    "y=SR(p(mu).expand(r)).subs({x[i]:z*(1+sum(x[i]^j/factorial(j) for j in range(1,k+1))) for i in range(r)})"
   ]
  },
  {
   "cell_type": "code",
   "execution_count": 162,
   "metadata": {},
   "outputs": [
    {
     "data": {
      "text/plain": [
       "1/7776*(x0^3 + 3*x0^2 + 6*x0 + 6)^5*z^5 + 1/7776*(x1^3 + 3*x1^2 + 6*x1 + 6)^5*z^5 + 1/7776*(x2^3 + 3*x2^2 + 6*x2 + 6)^5*z^5 + 1/7776*(x3^3 + 3*x3^2 + 6*x3 + 6)^5*z^5"
      ]
     },
     "execution_count": 162,
     "metadata": {},
     "output_type": "execute_result"
    }
   ],
   "source": [
    "y"
   ]
  },
  {
   "cell_type": "code",
   "execution_count": 163,
   "metadata": {},
   "outputs": [
    {
     "data": {
      "text/plain": [
       "Multivariate Polynomial Ring in x0, x1, x2, x3 over Rational Field"
      ]
     },
     "execution_count": 163,
     "metadata": {},
     "output_type": "execute_result"
    }
   ],
   "source": [
    "S(y)(z=n)\n",
    "R"
   ]
  },
  {
   "cell_type": "code",
   "execution_count": 164,
   "metadata": {},
   "outputs": [],
   "source": [
    "C=e(Sym.from_polynomial(R(S(y)(z=n))))"
   ]
  },
  {
   "cell_type": "code",
   "execution_count": 166,
   "metadata": {},
   "outputs": [
    {
     "name": "stdout",
     "output_type": "stream",
     "text": [
      "1562500\n",
      "1562500\n"
     ]
    }
   ],
   "source": [
    "P=Partitions(k)\n",
    "total=0\n",
    "for l in P:\n",
    "    factor =1\n",
    "    for i in l:\n",
    "        factor*=binomial(r,i)\n",
    "    add=C.coefficient(l)*factor\n",
    "    total+=add\n",
    "print(total*factorial(k))\n",
    "print(C.coefficient([])*n^k)"
   ]
  },
  {
   "cell_type": "code",
   "execution_count": 173,
   "metadata": {},
   "outputs": [],
   "source": [
    "def writeline(file,s):\n",
    "    g = open(file, \"a\")\n",
    "    g.write(s+\"\\n\")\n",
    "    g.close()\n"
   ]
  },
  {
   "cell_type": "code",
   "execution_count": 185,
   "metadata": {},
   "outputs": [],
   "source": [
    "def test_con(n,r,k):\n",
    "    with open(\"con-sym.txt\") as f:\n",
    "        lines = f.read().splitlines()\n",
    "    if str(n)+','+str(r)+','+str(k) in lines:\n",
    "        #print(\"n=\"+str(n)+\", r=\"+str(r)+\", k=\"+str(k)+\" already checked\")\n",
    "        return true\n",
    "    mu=Partitions(n)[0]\n",
    "    h=p([0]).expand(r)\n",
    "    R=h.parent()\n",
    "    x=SR.var('x',r)\n",
    "    z=SR.var('z')\n",
    "    S=PolynomialRing(QQ,'z,'+','.join('x'+str(i) for i in range(r)))\n",
    "    y=SR(p(mu).expand(r)).subs({x[i]:z*(1+sum(x[i]^j/factorial(j) for j in range(1,k+1))) for i in range(r)})\n",
    "    C=e(Sym.from_polynomial(R(S(y)(z=n))))\n",
    "    P=Partitions(k)\n",
    "    total=0\n",
    "    for l in P:\n",
    "        factor =1\n",
    "        for i in l:\n",
    "            factor*=binomial(r,i)\n",
    "        add=C.coefficient(l)*factor\n",
    "        total+=add\n",
    "    if total*factorial(k)==C.coefficient([])*n^k:\n",
    "        writeline(\"con-sym.txt\",str(n)+','+str(r)+','+str(k))\n",
    "        print('checked'+\" n=\"+str(n)+\", r=\"+str(r)+\", k=\"+str(k))\n",
    "        return true\n",
    "    else:\n",
    "        print(fail)\n",
    "        return false"
   ]
  },
  {
   "cell_type": "code",
   "execution_count": null,
   "metadata": {},
   "outputs": [
    {
     "name": "stdout",
     "output_type": "stream",
     "text": [
      "checked n=6, r=5, k=8\n",
      "checked n=6, r=6, k=8\n",
      "checked n=6, r=7, k=8\n",
      "checked n=6, r=8, k=2\n",
      "checked n=6, r=8, k=3\n",
      "checked n=6, r=8, k=4\n",
      "checked n=6, r=8, k=5\n",
      "checked n=6, r=8, k=6\n",
      "checked n=6, r=8, k=7\n",
      "checked n=6, r=8, k=8\n",
      "checked n=7, r=2, k=8\n",
      "checked n=7, r=3, k=8\n",
      "checked n=7, r=4, k=8\n",
      "checked n=7, r=5, k=8\n",
      "checked n=7, r=6, k=8\n",
      "checked n=7, r=7, k=8\n",
      "checked n=7, r=8, k=2\n",
      "checked n=7, r=8, k=3\n",
      "checked n=7, r=8, k=4\n",
      "checked n=7, r=8, k=5\n",
      "checked n=7, r=8, k=6\n",
      "checked n=7, r=8, k=7\n",
      "checked n=7, r=8, k=8\n",
      "checked n=8, r=2, k=2\n",
      "checked n=8, r=2, k=3\n",
      "checked n=8, r=2, k=4\n",
      "checked n=8, r=2, k=5\n",
      "checked n=8, r=2, k=6\n",
      "checked n=8, r=2, k=7\n"
     ]
    }
   ],
   "source": [
    "def check_top(ntop,rtop,ktop):\n",
    "    for n in range(1,ntop):\n",
    "        for r in range(2,rtop):\n",
    "            for k in range(2,ktop):\n",
    "                if not test_con(n,r,k):\n",
    "                    return\n",
    "check_top(9,9,9)"
   ]
  }
 ],
 "metadata": {
  "kernelspec": {
   "display_name": "SageMath 9.3",
   "language": "sage",
   "name": "sagemath"
  },
  "language_info": {
   "codemirror_mode": {
    "name": "ipython",
    "version": 3
   },
   "file_extension": ".py",
   "mimetype": "text/x-python",
   "name": "python",
   "nbconvert_exporter": "python",
   "pygments_lexer": "ipython3",
   "version": "3.7.10"
  }
 },
 "nbformat": 4,
 "nbformat_minor": 4
}
