{
 "cells": [
  {
   "cell_type": "code",
   "execution_count": null,
   "metadata": {},
   "outputs": [],
   "source": [
    "reset()\n",
    "%display latex\n",
    "Partitions.options.latex=\"list\""
   ]
  },
  {
   "cell_type": "markdown",
   "metadata": {},
   "source": [
    "# Demo: toric DT and PT theory\n",
    "\n",
    "For toric $3$-folds $X$, every form of Donaldson--Thomas theory breaks down into contributions from vertices and edges of the toric skeleton of $X$. Edge contributions are the same across all theories, but vertices are different.\n",
    "\n",
    "This file demonstrates how to work with these vertices and edges."
   ]
  },
  {
   "cell_type": "markdown",
   "metadata": {},
   "source": [
    "### 3d partitions with legs"
   ]
  },
  {
   "cell_type": "code",
   "execution_count": null,
   "metadata": {},
   "outputs": [],
   "source": [
    "load(\"partition_3d.sage\")"
   ]
  },
  {
   "cell_type": "markdown",
   "metadata": {},
   "source": [
    "The DT vertex, via localization, is a combinatorial sum over *3d partitions with legs*. These are implemented as `Partitions3d(lamb, mu, nu)` where $\\lambda$, $\\mu$, $\\nu$ are integer partitions specifying the profiles of the legs.\n",
    "\n",
    "Ordinary integer partitions are \"2d\" and have no infinite legs."
   ]
  },
  {
   "cell_type": "code",
   "execution_count": null,
   "metadata": {},
   "outputs": [],
   "source": [
    "PPs = Partitions3d()\n",
    "PPs"
   ]
  },
  {
   "cell_type": "markdown",
   "metadata": {},
   "source": [
    "Once legs are fixed, there is always a *minimal* 3d partition that has no extra boxes aside from those in the legs."
   ]
  },
  {
   "cell_type": "code",
   "execution_count": null,
   "metadata": {},
   "outputs": [],
   "source": [
    "PPs.minimal_element()"
   ]
  },
  {
   "cell_type": "code",
   "execution_count": null,
   "metadata": {},
   "outputs": [],
   "source": [
    "PPs.minimal_element().plot(colors=('green', 'yellow', 'white'))"
   ]
  },
  {
   "cell_type": "markdown",
   "metadata": {},
   "source": [
    "The command `PPs.with_num_boxes(n)` returns an iterator through all configurations with $n$ extra boxes on top of the minimal configuration."
   ]
  },
  {
   "cell_type": "code",
   "execution_count": null,
   "metadata": {},
   "outputs": [],
   "source": [
    "PPs2 = list(PPs.with_num_boxes(10))\n",
    "PPs2[5].plot(colors=('green', 'yellow', 'white'))\n",
    "PPs2[5]"
   ]
  },
  {
   "cell_type": "markdown",
   "metadata": {},
   "source": [
    "The command `PPs.random_elemnt_with_num_boxes(n)` returns a random element with $n$ extra boxes. It is obtained iteratively by choosing, $n$ times in a row, a random permissible place to add a new box. Each choice is uniform but the overall result is not uniformly distributed."
   ]
  },
  {
   "cell_type": "code",
   "execution_count": null,
   "metadata": {},
   "outputs": [],
   "source": [
    "PPs.random_element_with_num_boxes(25).plot(colors=('green', 'yellow', 'white'))"
   ]
  },
  {
   "cell_type": "markdown",
   "metadata": {},
   "source": [
    "Of course, when there are no legs, the result is just ordinary 3d partitions (also known as *plane partitions*). Their generating function is given by the well-known MacMahon formula.\n",
    "\n",
    "$$ M(q) = \\prod_{n > 0} \\frac{1}{(1 - q^n)^n}. $$"
   ]
  },
  {
   "cell_type": "code",
   "execution_count": null,
   "metadata": {},
   "outputs": [],
   "source": [
    "R.<q> = LaurentSeriesRing(ZZ)\n",
    "\n",
    "PPs = Partitions3d([], [], [])\n",
    "sum( q^k * len(list(PPs.with_num_boxes(k))) for k in range(10) ).add_bigoh(10)"
   ]
  },
  {
   "cell_type": "markdown",
   "metadata": {},
   "source": [
    "#### Extended example: topological vertex\n",
    "\n",
    "The *topological vertex* $C_{\\lambda,\\mu,\\nu}$ is, up to some prefactors, the generating function for 3d partitions with legs $\\lambda$, $\\mu$, $\\nu$. It has an explicit formula, first given in [Okounkov-Reshetikhin-Vafa], in terms of skew Schur functions. We can verify this formula computationally."
   ]
  },
  {
   "cell_type": "markdown",
   "metadata": {},
   "source": [
    "The following function computes the topological vertex by counting (see formula 3.23 in [ORV]). Since there are some prefactors which involve $q^{1/2}$, we make the substitution $q \\mapsto q^2$."
   ]
  },
  {
   "cell_type": "code",
   "execution_count": null,
   "metadata": {},
   "outputs": [],
   "source": [
    "def compute_topological_vertex_by_counting(lamb, mu, nu, q, n=8):\n",
    "    lamb, mu, nu = Partition(lamb), Partition(mu), Partition(nu) # in case\n",
    "\n",
    "    PPs = Partitions3d(lamb, mu, nu)\n",
    "    P = sum(q^(2*PP.volume()) for PP in PPs.up_to_num_boxes(n-1))\n",
    "    P = P.truncate_laurentseries(P.valuation() + 2*n)\n",
    "\n",
    "    partition_norm = lambda mu: sum(l^2 for l in mu)\n",
    "    return P * prod((1 - q^(2*i))^i for i in range(1, n)) * \\\n",
    "         q^(partition_norm(lamb.conjugate()) + partition_norm(mu.conjugate()) + partition_norm(nu.conjugate()))"
   ]
  },
  {
   "cell_type": "code",
   "execution_count": null,
   "metadata": {},
   "outputs": [],
   "source": [
    "compute_topological_vertex_by_counting([3,2], [1], [2], q)"
   ]
  },
  {
   "cell_type": "markdown",
   "metadata": {},
   "source": [
    "The following function implements the skew Schur function $s_{\\lambda/\\mu}(q^{-\\nu-\\rho})$ where $\\rho = (-1/2, -3/2, -5/2, \\ldots)$. The result is returned as a series in $q$ with $n$ terms of precision (default $n=8$)."
   ]
  },
  {
   "cell_type": "code",
   "execution_count": null,
   "metadata": {},
   "outputs": [],
   "source": [
    "def skew_schur_q(lamb, mu, nu, q, n=8):\n",
    "    if not lamb.contains(mu):\n",
    "        return q.parent().zero()\n",
    "    \n",
    "    s = SymmetricFunctions(ZZ).s()\n",
    "    sp = SkewPartition([lamb, mu])\n",
    "    get = lambda mu, i: mu[i] if i < len(mu) else 0\n",
    "\n",
    "    nvars = max(get(nu, 0), 1) * sum(nu) + n+2\n",
    "    f = s.skew_schur(sp).expand(nvars, 'x')\n",
    "    args = (q^(-get(nu, i) + i + 1/2) for i in range(nvars))\n",
    "    fq = q.parent()(f(*args))\n",
    "\n",
    "    return fq.truncate_laurentseries(fq.valuation() + 2*n)"
   ]
  },
  {
   "cell_type": "markdown",
   "metadata": {},
   "source": [
    "Finally, this is the [ORV] formula 3.15 for the topological vertex."
   ]
  },
  {
   "cell_type": "code",
   "execution_count": null,
   "metadata": {},
   "outputs": [],
   "source": [
    "def compute_topological_vertex_by_formula(lamb, mu, nu, q, n=8):\n",
    "    lamb, mu, nu = Partition(lamb), Partition(mu), Partition(nu) # in case\n",
    "\n",
    "    partition_kappa = lambda mu: 2 * sum(j - i for i, j in mu.cells())\n",
    "    prefactor = q^(-partition_kappa(lamb) - partition_kappa(nu)) * \\\n",
    "                skew_schur_q(nu.conjugate(), [], [], q^2, n)\n",
    "    res = sum( ( skew_schur_q(lamb.conjugate(), eta, nu, q^2, n) * \\\n",
    "                 skew_schur_q(mu, eta, nu.conjugate(), q^2, n) \n",
    "                 for k in range(lamb.size()+1) for eta in Partitions(k, outer=lamb.conjugate()) ), q.parent().zero() )\n",
    "    return prefactor * res.truncate_laurentseries(res.valuation() + 2*n)"
   ]
  },
  {
   "cell_type": "markdown",
   "metadata": {},
   "source": [
    "Test that the formula matches our counting, for randomly-selected partitions $\\lambda$, $\\mu$, $\\nu$."
   ]
  },
  {
   "cell_type": "code",
   "execution_count": null,
   "metadata": {},
   "outputs": [],
   "source": [
    "def random_partition(size_up_to=8):\n",
    "    from random import randint\n",
    "    return Partitions(randint(0, size_up_to)).random_element()\n",
    "\n",
    "lamb, mu, nu = random_partition(2), random_partition(2), random_partition(3)\n",
    "all( compute_topological_vertex_by_formula(lamb, mu, nu, q) == \n",
    "     compute_topological_vertex_by_counting(lamb, mu, nu, q) for _ in range(10) )"
   ]
  },
  {
   "cell_type": "markdown",
   "metadata": {},
   "source": [
    "### DT vertex in cohomology"
   ]
  },
  {
   "cell_type": "code",
   "execution_count": null,
   "metadata": {},
   "outputs": [],
   "source": [
    "load(\"bare_vertex.sage\")"
   ]
  },
  {
   "cell_type": "markdown",
   "metadata": {},
   "source": [
    "Let $\\Pi(\\lambda,\\mu,\\nu)$ denote the set of 3d partitions with legs $\\lambda, \\mu, \\nu$. The DT vertex is\n",
    "\n",
    "$$ V(\\lambda, \\mu, \\nu; q) = \\sum_{\\pi \\in \\Pi(\\lambda,\\mu,\\nu)} \\frac{(-q)^{|\\pi|}}{e(T_\\pi \\mathrm{Hilb}(\\mathbb{C}^3))} \\in H_{\\mathsf{T}}^*(\\mathrm{pt})_{\\mathrm{loc}}((q)). $$\n",
    "\n",
    "Here $\\mathsf{T} = (\\mathbb{C}^\\times)^3$ acts on $\\mathbb{C}^3$ by scaling; we denote the weights by $x$, $y$, and $z$. The denominator is the localization contribution of $\\pi$; it has some explicit formula given in [MNOP1]. The variable $q$ is the \"box-counting\" parameter."
   ]
  },
  {
   "cell_type": "code",
   "execution_count": null,
   "metadata": {},
   "outputs": [],
   "source": [
    "wR.<x,y,z> = LaurentPolynomialRing(QQ)\n",
    "qR.<q> = PowerSeriesRing(wR.fraction_field())"
   ]
  },
  {
   "cell_type": "markdown",
   "metadata": {},
   "source": [
    "#### Basics"
   ]
  },
  {
   "cell_type": "markdown",
   "metadata": {},
   "source": [
    "The command `BareVertex(lamb, mu, nu, Cohomology)` creates the cohomological vertex with legs $\\lambda$, $\\mu$, $\\nu$."
   ]
  },
  {
   "cell_type": "code",
   "execution_count": null,
   "metadata": {},
   "outputs": [],
   "source": [
    "V000 = BareVertex([], [], [], Cohomology)\n",
    "V000"
   ]
  },
  {
   "cell_type": "markdown",
   "metadata": {},
   "source": [
    "The command `V.series_unreduced(n, x, y, z, q)` computes the first $n$ terms, in $q$, of the vertex $V$."
   ]
  },
  {
   "cell_type": "code",
   "execution_count": null,
   "metadata": {},
   "outputs": [],
   "source": [
    "V000series = V000.series_unreduced(3, x, y, z, q)\n",
    "pretty(V000series)"
   ]
  },
  {
   "cell_type": "markdown",
   "metadata": {},
   "source": [
    "The object `Cohomology`, in `setup.sage`, is a class containing some useful cohomological methods, in particular the method `Cohomology.measure(f)` which returns the Euler class $e(f)$. For instance, $T_\\pi$ when $\\pi$ is a single box is just $x + y + z - xy - yz - xz$, and this gives the linear term above."
   ]
  },
  {
   "cell_type": "code",
   "execution_count": null,
   "metadata": {},
   "outputs": [],
   "source": [
    "-V000series.coefficients()[1] == Cohomology.measure(x + y + z - x*y - y*z - x*z)"
   ]
  },
  {
   "cell_type": "markdown",
   "metadata": {},
   "source": [
    "#### Calabi-Yau limit\n",
    "\n",
    "In the specialization $x + y + z = 0$, we have $e(T_\\pi) = 0$ by self-duality. This is called the *Calabi-Yau limit*. Hence the vertex becomes the ordinary generating function of 3d partitions (with legs), also known as the topological vertex."
   ]
  },
  {
   "cell_type": "code",
   "execution_count": null,
   "metadata": {},
   "outputs": [],
   "source": [
    "V000series(x=x, y=y, z=-x-y)"
   ]
  },
  {
   "cell_type": "markdown",
   "metadata": {},
   "source": [
    "#### Reduced vs. unreduced series\n",
    "\n",
    "Usually one wants to work with the *reduced* series $V'(\\lambda, \\mu, \\nu) = V(\\lambda,\\mu,\\nu) / V(\\emptyset, \\emptyset, \\emptyset)$. This is implemented as `V.series(n, x, y, z, q)`."
   ]
  },
  {
   "cell_type": "code",
   "execution_count": null,
   "metadata": {},
   "outputs": [],
   "source": [
    "V = BareVertex([1,1], [1], [3], Cohomology)\n",
    "pretty( V.series(2, x, y, z, q) )"
   ]
  },
  {
   "cell_type": "markdown",
   "metadata": {},
   "source": [
    "The reduced series is the one which equals with the PT vertex (to be seen later)."
   ]
  },
  {
   "cell_type": "markdown",
   "metadata": {},
   "source": [
    "#### Descendents\n",
    "\n",
    "More generally, the vertex *with descendants* (for us) is\n",
    "\n",
    "$$ V(\\lambda, \\mu, \\nu; q; f) = \\sum_{\\pi \\in \\Pi(\\lambda,\\mu,\\nu)} \\frac{(-q)^{|\\pi|} f(\\pi)}{e(T_\\pi \\mathrm{Hilb}(\\mathbb{C}^3))} \\in H_{\\mathsf{T}}^*(\\mathrm{pt})_{\\mathrm{loc}}((q)). $$\n",
    "\n",
    "where $f$ is some function of the character of $\\pi$. Usually \"descendants\" means that $f$ is a Chern character $\\mathrm{ch}_k$, and $f(\\pi)$ means $\\mathrm{ch}_k((1-x)(1-y)(1-z)\\chi_\\pi)$, but in code $f$ can in principle be any function.\n",
    "\n",
    "The Chern character $\\mathrm{ch}_k(\\mathcal{F})$ is implemented as `Cohomology.chern_character(k, F)`. Both `V.series_unreduced` and `V.series` allow descendants, using the parameter `descendant=f` where `f` must be a (Sage or Python) function."
   ]
  },
  {
   "cell_type": "markdown",
   "metadata": {},
   "source": [
    "Here is a single descendant $\\mathrm{ch}_5$ in the Calabi-Yau limit."
   ]
  },
  {
   "cell_type": "code",
   "execution_count": null,
   "metadata": {},
   "outputs": [],
   "source": [
    "V100 = BareVertex([1], [], [], Cohomology)\n",
    "ch5 = lambda F: Cohomology.chern_character(5, F)\n",
    "pretty( V100.series(3, x, y, -x-y, q, descendant=ch5) )"
   ]
  },
  {
   "cell_type": "markdown",
   "metadata": {},
   "source": [
    "**Exercise**: explain why $\\mathrm{ch}_k((1-x)(1-y)(1-z)\\chi_\\pi) = 0$ for $k < 2$, for any vertex. Then explain it geometrically using Riemann-Roch. This is why people like to write $\\mathrm{ch}_{k+2}$ in formulas instead of $\\mathrm{ch}_k$."
   ]
  },
  {
   "cell_type": "code",
   "execution_count": null,
   "metadata": {},
   "outputs": [],
   "source": [
    "ch1 = lambda F: Cohomology.chern_character(1, F)\n",
    "BareVertex([3], [1,1], [2], Cohomology).series(3, x, y, z, q, descendant=ch1)"
   ]
  },
  {
   "cell_type": "markdown",
   "metadata": {},
   "source": [
    "### DT vertex in K-theory\n",
    "\n",
    "There is also a K-theoretic vertex, using the \"K-theoretic Euler class\" $\\hat\\wedge_{-1}^\\bullet(-)^\\vee$ instead of $e(-)$:\n",
    "\n",
    "$$ V(\\lambda, \\mu, \\nu; q; f) = \\sum_{\\pi \\in \\Pi(\\lambda,\\mu,\\nu)} \\frac{(-q)^{|\\pi|} f(\\pi)}{\\hat\\wedge_{-1}^\\bullet(T_\\pi \\mathrm{Hilb}(\\mathbb{C}^3))^\\vee} \\in K_{\\mathsf{T}}^*(\\mathrm{pt})_{\\mathrm{loc}}((q)). $$"
   ]
  },
  {
   "cell_type": "code",
   "execution_count": null,
   "metadata": {},
   "outputs": [],
   "source": [
    "V000 = BareVertex([], [], [], KTheory) \n",
    "V000"
   ]
  },
  {
   "cell_type": "markdown",
   "metadata": {},
   "source": [
    "#### The Nekrasov-Okounkov symmetrization $\\hat\\wedge_{-1}^\\bullet$"
   ]
  },
  {
   "cell_type": "markdown",
   "metadata": {},
   "source": [
    "The hat on $\\hat\\wedge_{-1}^\\bullet(-)^\\vee$ means to use\n",
    "\n",
    "$$ \\hat\\wedge_{-1}^\\bullet(\\mathcal{L})^\\vee = \\wedge_{-1}^\\bullet(\\mathcal{L})^\\vee \\otimes \\mathcal{L}^{1/2} = \\mathcal{L}^{1/2} - \\mathcal{L}^{-1/2} $$\n",
    "\n",
    "instead of $\\wedge_{-1}^\\bullet(\\mathcal{L})^\\vee = 1 - \\mathcal{L}^\\vee$. One can opt out of using this symmetrization at the cost of no more nice closed-form formulas and DT/PT correspondence."
   ]
  },
  {
   "cell_type": "markdown",
   "metadata": {},
   "source": [
    "Due to the possibility of square roots, our implementation `KTheory.measure(f)` of $\\hat\\wedge_{-1}^\\bullet(\\mathcal{L})^\\vee$ actually just returns $\\mathcal{L} - \\mathcal{L}^\\vee$ instead of $\\mathcal{L}^{1/2} - \\mathcal{L}^{-1/2}$. Effectively this is a substitution $(x,y,z) \\mapsto (x^2, y^2, z^2)$"
   ]
  },
  {
   "cell_type": "code",
   "execution_count": null,
   "metadata": {},
   "outputs": [],
   "source": [
    "V000series = V000.series_unreduced(2, x, y, z, q)\n",
    "pretty(V000series)"
   ]
  },
  {
   "cell_type": "code",
   "execution_count": null,
   "metadata": {},
   "outputs": [],
   "source": [
    "-V000series.coefficients()[1] == KTheory.measure(x + y + z - x*y - x*z - y*z)"
   ]
  },
  {
   "cell_type": "markdown",
   "metadata": {},
   "source": [
    "#### Calabi-Yau and index limits\n",
    "\n",
    "Like in cohomology, the *Calabi-Yau limit* is $xyz = 1$. We often write $\\kappa = xyz$. In this limit, the K-theoretic vertex becomes the topological vertex.\n",
    "\n",
    "There is also a combinatorial notion of *refined* topological vertex, a $1$-parameter deformation of the topological vertex; see [Iqbal-Kozcaz-Vafa]. It also has a combinatorial formula in terms of skew Schur functions. \n",
    "\n",
    "It can be obtained from the fully-equivariant K-theoretic DT vertex by a so-called *index limit* [Nekrasov-Okounkov], implemented as `KTheory.index_limit(f, s, kappa)`. Here $f$ is the original equivariant function, of $x$, $y$, $z$, and $\\kappa$ is the desired resulting refined variable. The variable $s = (s_1, s_2, s_3)$ is a \"slope\" and should be set to $(N, -N-1, 1)$ for $N \\gg 0$ for the $z$-axis to be the preferred direction. (Our $\\kappa$ is [NO]'s $\\kappa^{1/2}$.)"
   ]
  },
  {
   "cell_type": "markdown",
   "metadata": {},
   "source": [
    "So that we don't have to set up different rings, let's just take $\\kappa = x$."
   ]
  },
  {
   "cell_type": "code",
   "execution_count": null,
   "metadata": {},
   "outputs": [],
   "source": [
    "N = 100000\n",
    "index_limit = lambda f: KTheory.index_limit(f, (N, -N-1, 1), x)\n",
    "V000.series_unreduced(4, x, y, z, q).map_coefficients(index_limit)"
   ]
  },
  {
   "cell_type": "markdown",
   "metadata": {},
   "source": [
    "This is, of course, a terrible way to compute the refined vertex. Just use the [IKV] formulas instead."
   ]
  },
  {
   "cell_type": "markdown",
   "metadata": {},
   "source": [
    "#### Extended example: an explicit plethystic formula for the K-theoretic $V(\\emptyset,\\emptyset,\\emptyset; q)$\n",
    "\n",
    "Let $S^\\bullet(-)$ denote the plethystic exponential. ($S^\\bullet$ is like the symmetric algebra in the same way $\\wedge_{-1}^\\bullet$ is like the exterior algebra.) Then\n",
    "\n",
    "$$ V(\\emptyset, \\emptyset, \\emptyset; q) = S^\\bullet\\left(\\frac{-q}{(1 - q\\kappa)(1 - q/\\kappa)} \\hat\\wedge_{-1}^\\bullet(T_\\pi \\mathrm{Hilb}(\\mathbb{C}^3)\\right) $$\n",
    "\n",
    "where $\\pi$ is a single box and $\\kappa = xyz$. Explicitly $T_\\pi = x + y + z - xy - yz - xz$. This formula is a $\\kappa$-deformation of the MacMahon function."
   ]
  },
  {
   "cell_type": "code",
   "execution_count": null,
   "metadata": {},
   "outputs": [],
   "source": [
    "V000.series_unreduced(4, x, y, 1/(x*y), q)"
   ]
  },
  {
   "cell_type": "markdown",
   "metadata": {},
   "source": [
    "We implement the plethystic exponential as\n",
    "\n",
    "$$ S^\\bullet(f) = \\exp\\left(\\sum_{k > 0} \\frac{\\tau_k(f)}{k}\\right) $$\n",
    "\n",
    "where $\\tau_k$ are the *Adams operations* defined by $\\tau_k(\\mathcal{L}) = \\mathcal{L}^k$ on line bundles $\\mathcal{L}$ and extended as algebra homomorphisms."
   ]
  },
  {
   "cell_type": "code",
   "execution_count": null,
   "metadata": {},
   "outputs": [],
   "source": [
    "def adams(k):\n",
    "    adams_wR = Hom(wR, wR)([x^k, y^k, z^k])\n",
    "    adams_qR = Hom(qR, qR)([q^k])\n",
    "    return adams_qR * Hom(qR, qR)(adams_wR) # lift adams_wR to Hom(qR, qR)\n",
    "\n",
    "def plethystic_exponential(f, prec):\n",
    "    g = sum(adams(k)(f)/k for k in range(1, prec)).add_bigoh(prec)\n",
    "    return sum(g^k / factorial(k) for k in range(prec))"
   ]
  },
  {
   "cell_type": "markdown",
   "metadata": {},
   "source": [
    "Sage is very detailed and thorough when it comes to morphisms."
   ]
  },
  {
   "cell_type": "code",
   "execution_count": null,
   "metadata": {},
   "outputs": [],
   "source": [
    "adams(4)"
   ]
  },
  {
   "cell_type": "markdown",
   "metadata": {},
   "source": [
    "**Exercise**: check that $S^\\bullet(q/(1-q)^2)$ really is the MacMahon function, using that $S^\\bullet(x+y) = S^\\bullet(x) S^\\bullet(y)$ is multiplicative."
   ]
  },
  {
   "cell_type": "code",
   "execution_count": null,
   "metadata": {},
   "outputs": [],
   "source": [
    "plethystic_exponential(q/(1-q)^2, 10)"
   ]
  },
  {
   "cell_type": "markdown",
   "metadata": {},
   "source": [
    "Now check the actual formula for the vertex $V(\\emptyset,\\emptyset,\\emptyset; q)$."
   ]
  },
  {
   "cell_type": "code",
   "execution_count": null,
   "metadata": {},
   "outputs": [],
   "source": [
    "kappa = x*y*z\n",
    "V000series == plethystic_exponential(-q/(1-q*kappa)/(1-q/kappa) * KTheory.measure(x+y+z - x*y-x*z-y*z), 3)"
   ]
  },
  {
   "cell_type": "markdown",
   "metadata": {},
   "source": [
    "### PT vertices\n",
    "\n",
    "All features above are implemented also for the Pandharipande--Thomas vertex `BareVertexPT`, with the same syntax. It is *much* faster to use `BareVertexPT.series` than `BareVertex.series`. The two are equal by the (conjectural) DT/PT correspondence, e.g.:"
   ]
  },
  {
   "cell_type": "code",
   "execution_count": null,
   "metadata": {},
   "outputs": [],
   "source": [
    "BareVertex([2], [1], [1], KTheory).series(3) == BareVertexPT([2], [1], [1], KTheory).series(3)"
   ]
  },
  {
   "cell_type": "markdown",
   "metadata": {},
   "source": [
    "This is *stronger* than the K-theoretic DT/PT correspondence for partition functions, which are specific convolutions of vertices."
   ]
  },
  {
   "cell_type": "markdown",
   "metadata": {},
   "source": [
    "**Remark**. To really emphasize how much more computationally-efficient PT theory is, let's time some big computations."
   ]
  },
  {
   "cell_type": "code",
   "execution_count": null,
   "metadata": {},
   "outputs": [],
   "source": [
    "%time f=BareVertex([2], [1], [1], KTheory).series(4)"
   ]
  },
  {
   "cell_type": "code",
   "execution_count": null,
   "metadata": {},
   "outputs": [],
   "source": [
    "%time f=BareVertexPT([2], [1], [1], KTheory).series(4)"
   ]
  },
  {
   "cell_type": "markdown",
   "metadata": {},
   "source": [
    "#### Combinatorics of PT configurations"
   ]
  },
  {
   "cell_type": "code",
   "execution_count": null,
   "metadata": {},
   "outputs": [],
   "source": [
    "load(\"pt_configuration.sage\")"
   ]
  },
  {
   "cell_type": "markdown",
   "metadata": {},
   "source": [
    "PT vertices are computed using the same combinatorial formula as for DT vertices, but 3d partitions are replaced by PT configurations of boxes. These are much more combinatorially involved, and contain positive-dimensional families when all three legs are non-trivial."
   ]
  },
  {
   "cell_type": "code",
   "execution_count": null,
   "metadata": {},
   "outputs": [],
   "source": [
    "PTConfigurations([2], [3], [4,2]).random_element_with_num_boxes(25).plot(colors=('green', 'yellow', 'white'))"
   ]
  },
  {
   "cell_type": "markdown",
   "metadata": {},
   "source": [
    "In the $1$-legged case, they are in some sense \"complementary\" to the $1$-legged 3d partitions of DT theory."
   ]
  },
  {
   "cell_type": "code",
   "execution_count": null,
   "metadata": {},
   "outputs": [],
   "source": [
    "PTConfigurations([], [2,2,1], []).random_element_with_num_boxes(25).plot(colors=('green', 'yellow', 'white'))"
   ]
  },
  {
   "cell_type": "markdown",
   "metadata": {},
   "source": [
    "### Edges "
   ]
  },
  {
   "cell_type": "code",
   "execution_count": null,
   "metadata": {},
   "outputs": [],
   "source": [
    "load(\"edge.sage\")"
   ]
  },
  {
   "cell_type": "markdown",
   "metadata": {},
   "source": [
    "Edge contributions are the same in any flavor of DT theory. The command `Edge(a, b, Cohomology)` creates an edge with normal bundle $\\mathcal{O}(a) \\oplus \\mathcal{O}(b)$. Similarly there is `Edge(a, b, KTheory)`."
   ]
  },
  {
   "cell_type": "code",
   "execution_count": null,
   "metadata": {},
   "outputs": [],
   "source": [
    "En1n1 = Edge(-1, -1, Cohomology)\n",
    "En1n1"
   ]
  },
  {
   "cell_type": "markdown",
   "metadata": {},
   "source": [
    "The boxes carried by the edge form an infinite cylinder of the form $\\lambda \\times \\mathbb{Z}$ for a partition $\\lambda$. The contribution of this configuration to localization is given by the command `E.term_q(lamb, x, y, z, q=q)`, where:\n",
    "\n",
    "- $x$ is the coordinate along the edge;\n",
    "- $y$ is the coordinate in the $\\mathcal{O}(a)$ direction;\n",
    "- $z$ is the coordinate in the $\\mathcal{O}(b)$ direction;\n",
    "\n",
    "and $q$ is the box-counting variable as usual, recording Euler characteristic."
   ]
  },
  {
   "cell_type": "code",
   "execution_count": null,
   "metadata": {},
   "outputs": [],
   "source": [
    "pretty( En1n1.term_q(Partition([3,1]), x, y, z, q=q) )"
   ]
  },
  {
   "cell_type": "markdown",
   "metadata": {},
   "source": [
    "### Example: K-theoretic partition function of the conifold $\\mathrm{tot}(\\mathcal{O}_{\\mathbb{P}^1}(-1) \\oplus \\mathcal{O}_{\\mathbb{P}^1}(-1))$."
   ]
  },
  {
   "cell_type": "markdown",
   "metadata": {},
   "source": [
    "Introduce a K&auml;hler variable to keep track of degree along the $\\mathbb{P}^1$."
   ]
  },
  {
   "cell_type": "code",
   "execution_count": null,
   "metadata": {},
   "outputs": [],
   "source": [
    "AR.<A> = PowerSeriesRing(qR)"
   ]
  },
  {
   "cell_type": "markdown",
   "metadata": {},
   "source": [
    "The resulting partition function will live in $K_{\\mathsf{T}}(\\mathrm{pt})_{\\text{loc}}((q))[[A]]$. We compute it up to `prec` terms of precision in both $q$ and $A$."
   ]
  },
  {
   "cell_type": "code",
   "execution_count": null,
   "metadata": {},
   "outputs": [],
   "source": [
    "def local_curve(a, b, prec):\n",
    "    qq, AA = q.add_bigoh(prec), A.add_bigoh(prec)\n",
    "    V = lambda lamb, mu, nu, x, y, z, qprec: BareVertexPT(lamb, mu, nu, KTheory).series(prec, x, y, z, qq)\n",
    "\n",
    "    return sum( V([], mu, [], x, y, z, prec) * \n",
    "                Edge(a, b, KTheory).term_q(mu, y, z, x, qq) *\n",
    "                V([], mu.conjugate(), [], z/y^b, 1/y, x/y^a, prec) *\n",
    "                AA^mu.size() for nmu in range(prec) for mu in Partitions(nmu) )\n",
    "\n",
    "pretty(local_curve(-1, -1, 3))"
   ]
  },
  {
   "cell_type": "markdown",
   "metadata": {},
   "source": [
    "**Exercise**: why are all coefficients *polynomials* in $\\kappa$? (Hint: properness and rigidity.)\n",
    "\n",
    "This is some massive pole-cancellation, since each vertex individually has many poles in various combinations of $x$, $y$, $z$."
   ]
  },
  {
   "cell_type": "markdown",
   "metadata": {},
   "source": [
    "To really emphasize the importance of properness in the exercise above, the same partition but for $\\mathcal{O}(-1) \\oplus \\mathcal{O}(0)$ is not just a function of $\\kappa$ (and doesn't have polynomial coefficients anymore)."
   ]
  },
  {
   "cell_type": "code",
   "execution_count": null,
   "metadata": {},
   "outputs": [],
   "source": [
    "pretty(local_curve(-1, 0, 2))"
   ]
  },
  {
   "cell_type": "markdown",
   "metadata": {},
   "source": [
    "**Exercise/hint for previous exercise**: why will the series above never have a pole at $y=1$?"
   ]
  }
 ],
 "metadata": {
  "kernelspec": {
   "display_name": "SageMath 9.3",
   "language": "sage",
   "name": "sagemath"
  },
  "language_info": {
   "codemirror_mode": {
    "name": "ipython",
    "version": 3
   },
   "file_extension": ".py",
   "mimetype": "text/x-python",
   "name": "python",
   "nbconvert_exporter": "python",
   "pygments_lexer": "ipython3",
   "version": "3.7.10"
  }
 },
 "nbformat": 4,
 "nbformat_minor": 2
}
