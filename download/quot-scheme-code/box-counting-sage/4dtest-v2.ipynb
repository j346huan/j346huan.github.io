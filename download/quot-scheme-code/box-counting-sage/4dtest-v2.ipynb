{
 "cells": [
  {
   "cell_type": "code",
   "execution_count": 19,
   "metadata": {},
   "outputs": [],
   "source": [
    "reset()\n",
    "%display latex\n",
    "Partitions.options.latex=\"list\"\n",
    "load(\"partition_4d.sage\")"
   ]
  },
  {
   "cell_type": "code",
   "execution_count": 20,
   "metadata": {
    "scrolled": false
   },
   "outputs": [
    {
     "data": {
      "text/html": [
       "<html><script type=\"math/tex; mode=display\">\\newcommand{\\Bold}[1]{\\mathbf{#1}}\\verb|point-like|\\phantom{\\verb!x!}\\verb|solid|\\phantom{\\verb!x!}\\verb|partition|\\phantom{\\verb!x!}\\verb|with|\\phantom{\\verb!x!}\\verb|boxes|\\phantom{\\verb!x!}\\verb|[(0,|\\phantom{\\verb!x!}\\verb|0,|\\phantom{\\verb!x!}\\verb|0,|\\phantom{\\verb!x!}\\verb|0),|\\phantom{\\verb!x!}\\verb|(1,|\\phantom{\\verb!x!}\\verb|0,|\\phantom{\\verb!x!}\\verb|0,|\\phantom{\\verb!x!}\\verb|0)]|</script></html>"
      ],
      "text/latex": [
       "$$\\newcommand{\\Bold}[1]{\\mathbf{#1}}\\verb|point-like|\\phantom{\\verb!x!}\\verb|solid|\\phantom{\\verb!x!}\\verb|partition|\\phantom{\\verb!x!}\\verb|with|\\phantom{\\verb!x!}\\verb|boxes|\\phantom{\\verb!x!}\\verb|[(0,|\\phantom{\\verb!x!}\\verb|0,|\\phantom{\\verb!x!}\\verb|0,|\\phantom{\\verb!x!}\\verb|0),|\\phantom{\\verb!x!}\\verb|(1,|\\phantom{\\verb!x!}\\verb|0,|\\phantom{\\verb!x!}\\verb|0,|\\phantom{\\verb!x!}\\verb|0)]|$$"
      ],
      "text/plain": [
       "point-like solid partition with boxes [(0, 0, 0, 0), (1, 0, 0, 0)]"
      ]
     },
     "execution_count": 20,
     "metadata": {},
     "output_type": "execute_result"
    }
   ],
   "source": [
    "pP4ds = Partitions4d()\n",
    "pP4d = list(pP4ds.with_num_boxes(2))\n",
    "Ex = pP4d[2]\n",
    "Ex"
   ]
  },
  {
   "cell_type": "code",
   "execution_count": 82,
   "metadata": {},
   "outputs": [],
   "source": [
    "load(\"vertex_4d.sage\")\n",
    "EasyEx=Partition4d([(0,0,0,0)])"
   ]
  },
  {
   "cell_type": "markdown",
   "metadata": {},
   "source": [
    "# Compare Verlinde with (total) Segre number"
   ]
  },
  {
   "cell_type": "markdown",
   "metadata": {},
   "source": [
    "To begin, we use the rank 1 bundle."
   ]
  },
  {
   "cell_type": "code",
   "execution_count": 83,
   "metadata": {},
   "outputs": [
    {
     "data": {
      "text/html": [
       "<html><script type=\"math/tex; mode=display\">\\newcommand{\\Bold}[1]{\\mathbf{#1}}\\frac{{\\left(t_{1} + t_{2}\\right)} {\\left(t_{1} + t_{3}\\right)} {\\left(t_{2} + t_{3}\\right)}}{b {\\left(t_{1} + t_{2} + t_{3}\\right)} t_{1} t_{2} t_{3}}</script></html>"
      ],
      "text/latex": [
       "$$\\newcommand{\\Bold}[1]{\\mathbf{#1}}\\frac{{\\left(t_{1} + t_{2}\\right)} {\\left(t_{1} + t_{3}\\right)} {\\left(t_{2} + t_{3}\\right)}}{b {\\left(t_{1} + t_{2} + t_{3}\\right)} t_{1} t_{2} t_{3}}$$"
      ],
      "text/plain": [
       "(t1 + t2)*(t1 + t3)*(t2 + t3)/(b*(t1 + t2 + t3)*t1*t2*t3)"
      ]
     },
     "execution_count": 83,
     "metadata": {},
     "output_type": "execute_result"
    }
   ],
   "source": [
    "x1,x2,x3,x4,y,v=Default4d.KT_ring.gens()\n",
    "u1,u2,u3,u4,w,sqrtv = Default4d.sqrtKT_ring.gens()\n",
    "t1,t2,t3,t4,m,halfm = Default4d.coho_ring.gens()\n",
    "q=Default4d.cohoseries_ring.gen()\n",
    "b=var('b')\n",
    "\n",
    "Weight=(0,0,0)\n",
    "tc = Vertex4d.Total_Chern(Weight,1)(t1*b,t2*b,t3*b,t4*b,0,0)\n",
    "pretty(tc)"
   ]
  },
  {
   "cell_type": "code",
   "execution_count": 45,
   "metadata": {
    "scrolled": true
   },
   "outputs": [
    {
     "data": {
      "text/html": [
       "<html><script type=\"math/tex; mode=display\">\\newcommand{\\Bold}[1]{\\mathbf{#1}}\\frac{{\\left(t_{1} + t_{2}\\right)} {\\left(t_{1} + t_{3}\\right)} {\\left(t_{2} + t_{3}\\right)}}{2 \\, b {\\left(t_{1} + t_{2} + t_{3}\\right)} t_{1} t_{2} t_{3}}</script></html>"
      ],
      "text/latex": [
       "$$\\newcommand{\\Bold}[1]{\\mathbf{#1}}\\frac{{\\left(t_{1} + t_{2}\\right)} {\\left(t_{1} + t_{3}\\right)} {\\left(t_{2} + t_{3}\\right)}}{2 \\, b {\\left(t_{1} + t_{2} + t_{3}\\right)} t_{1} t_{2} t_{3}}$$"
      ],
      "text/plain": [
       "1/2*(t1 + t2)*(t1 + t3)*(t2 + t3)/(b*(t1 + t2 + t3)*t1*t2*t3)"
      ]
     },
     "execution_count": 45,
     "metadata": {},
     "output_type": "execute_result"
    }
   ],
   "source": [
    "verl = Vertex4d.Verlinde(Weight,1)(exp(t1*b/2),exp(t2*b/2),exp(t3*b/2),0,0,0)\n",
    "pretty(verl.taylor(b,0,0))"
   ]
  },
  {
   "cell_type": "markdown",
   "metadata": {},
   "source": [
    "We get the desired term when restricting to degree $\\deg b\\leq 0$. The difference in degree 1 term is \n",
    "\n",
    "$$\\sum_{i=1}^r \\frac{(t_1+t_2)(t_1+t_3)(t_2+t_3)(w_1^{(i)}t_1+w_2^{(i)}t_2+w_3^{(i)}t_3)^2}{2(t_1+t_2+t_3)t_1t_2t_3} $$\n",
    "\n",
    "When $n=2$,"
   ]
  },
  {
   "cell_type": "code",
   "execution_count": 46,
   "metadata": {},
   "outputs": [
    {
     "data": {
      "text/html": [
       "<html><script type=\"math/tex; mode=display\">\\newcommand{\\Bold}[1]{\\mathbf{#1}}-\\frac{{\\left(5 \\, b t_{1}^{2} t_{2} t_{3} + 5 \\, b t_{1} t_{2}^{2} t_{3} + 5 \\, b t_{1} t_{2} t_{3}^{2} - t_{1}^{2} t_{2} - t_{1} t_{2}^{2} - t_{1}^{2} t_{3} - 2 \\, t_{1} t_{2} t_{3} - t_{2}^{2} t_{3} - t_{1} t_{3}^{2} - t_{2} t_{3}^{2}\\right)} {\\left(t_{1} + t_{2}\\right)} {\\left(t_{1} + t_{3}\\right)} {\\left(t_{2} + t_{3}\\right)}}{2 \\, b^{2} {\\left(t_{1} + t_{2} + t_{3}\\right)}^{2} t_{1}^{2} t_{2}^{2} t_{3}^{2}}</script></html>"
      ],
      "text/latex": [
       "$$\\newcommand{\\Bold}[1]{\\mathbf{#1}}-\\frac{{\\left(5 \\, b t_{1}^{2} t_{2} t_{3} + 5 \\, b t_{1} t_{2}^{2} t_{3} + 5 \\, b t_{1} t_{2} t_{3}^{2} - t_{1}^{2} t_{2} - t_{1} t_{2}^{2} - t_{1}^{2} t_{3} - 2 \\, t_{1} t_{2} t_{3} - t_{2}^{2} t_{3} - t_{1} t_{3}^{2} - t_{2} t_{3}^{2}\\right)} {\\left(t_{1} + t_{2}\\right)} {\\left(t_{1} + t_{3}\\right)} {\\left(t_{2} + t_{3}\\right)}}{2 \\, b^{2} {\\left(t_{1} + t_{2} + t_{3}\\right)}^{2} t_{1}^{2} t_{2}^{2} t_{3}^{2}}$$"
      ],
      "text/plain": [
       "-1/2*(5*b*t1^2*t2*t3 + 5*b*t1*t2^2*t3 + 5*b*t1*t2*t3^2 - t1^2*t2 - t1*t2^2 - t1^2*t3 - 2*t1*t2*t3 - t2^2*t3 - t1*t3^2 - t2*t3^2)*(t1 + t2)*(t1 + t3)*(t2 + t3)/(b^2*(t1 + t2 + t3)^2*t1^2*t2^2*t3^2)"
      ]
     },
     "execution_count": 46,
     "metadata": {},
     "output_type": "execute_result"
    }
   ],
   "source": [
    "Weight1=(0,0,0)\n",
    "\n",
    "tc2 = Vertex4d.Total_Chern(Weight1,2)(t1*b,t2*b,t3*b,t4*b,0,0)\n",
    "pretty(tc2)"
   ]
  },
  {
   "cell_type": "code",
   "execution_count": null,
   "metadata": {},
   "outputs": [],
   "source": [
    "verl2 = Vertex4d.Verlinde(Weight1,2)(exp(t1*b/2),exp(t2*b/2),exp(t3*b/2),0,0,0)\n",
    "tayl = verl2.taylor(b,0,0)\n",
    "pretty(tayl)"
   ]
  },
  {
   "cell_type": "markdown",
   "metadata": {},
   "source": [
    "We see in degree $-2$, this does not agree with the segre number:"
   ]
  },
  {
   "cell_type": "code",
   "execution_count": 48,
   "metadata": {},
   "outputs": [
    {
     "data": {
      "text/html": [
       "<html><script type=\"math/tex; mode=display\">\\newcommand{\\Bold}[1]{\\mathbf{#1}}\\frac{3 \\, {\\left(5 \\, b t_{1}^{2} t_{2} t_{3} + 5 \\, b t_{1} t_{2}^{2} t_{3} + 5 \\, b t_{1} t_{2} t_{3}^{2} - t_{1}^{2} t_{2} - t_{1} t_{2}^{2} - t_{1}^{2} t_{3} - 2 \\, t_{1} t_{2} t_{3} - t_{2}^{2} t_{3} - t_{1} t_{3}^{2} - t_{2} t_{3}^{2}\\right)} {\\left(t_{1} + t_{2}\\right)} {\\left(t_{1} + t_{3}\\right)} {\\left(t_{2} + t_{3}\\right)}}{8 \\, b^{2} {\\left(t_{1} + t_{2} + t_{3}\\right)}^{2} t_{1}^{2} t_{2}^{2} t_{3}^{2}}</script></html>"
      ],
      "text/latex": [
       "$$\\newcommand{\\Bold}[1]{\\mathbf{#1}}\\frac{3 \\, {\\left(5 \\, b t_{1}^{2} t_{2} t_{3} + 5 \\, b t_{1} t_{2}^{2} t_{3} + 5 \\, b t_{1} t_{2} t_{3}^{2} - t_{1}^{2} t_{2} - t_{1} t_{2}^{2} - t_{1}^{2} t_{3} - 2 \\, t_{1} t_{2} t_{3} - t_{2}^{2} t_{3} - t_{1} t_{3}^{2} - t_{2} t_{3}^{2}\\right)} {\\left(t_{1} + t_{2}\\right)} {\\left(t_{1} + t_{3}\\right)} {\\left(t_{2} + t_{3}\\right)}}{8 \\, b^{2} {\\left(t_{1} + t_{2} + t_{3}\\right)}^{2} t_{1}^{2} t_{2}^{2} t_{3}^{2}}$$"
      ],
      "text/plain": [
       "3/8*(5*b*t1^2*t2*t3 + 5*b*t1*t2^2*t3 + 5*b*t1*t2*t3^2 - t1^2*t2 - t1*t2^2 - t1^2*t3 - 2*t1*t2*t3 - t2^2*t3 - t1*t3^2 - t2*t3^2)*(t1 + t2)*(t1 + t3)*(t2 + t3)/(b^2*(t1 + t2 + t3)^2*t1^2*t2^2*t3^2)"
      ]
     },
     "execution_count": 48,
     "metadata": {},
     "output_type": "execute_result"
    }
   ],
   "source": [
    "pretty(tayl-tc2)"
   ]
  },
  {
   "cell_type": "markdown",
   "metadata": {},
   "source": [
    "After checking many different weights, we find the difference (at $\\deg b=-1$) is the constant term \n",
    "\n",
    "$$\\frac{5 (t_1+t_2) (t_1+t_3) (t_2+t_3)}{4(t_1+t_2+t_3)t_1t_2t_3 } $$\n",
    "\n",
    "Next we try rank $r=2$."
   ]
  },
  {
   "cell_type": "code",
   "execution_count": 55,
   "metadata": {},
   "outputs": [],
   "source": [
    "Weight2=(1,0,0)"
   ]
  },
  {
   "cell_type": "markdown",
   "metadata": {},
   "source": [
    "First we try $n=1$."
   ]
  },
  {
   "cell_type": "code",
   "execution_count": 56,
   "metadata": {},
   "outputs": [
    {
     "data": {
      "text/html": [
       "<html><script type=\"math/tex; mode=display\">\\newcommand{\\Bold}[1]{\\mathbf{#1}}\\frac{{\\left(b t_{1} + 1\\right)} {\\left(t_{1} + t_{2}\\right)} {\\left(t_{1} + t_{3}\\right)} {\\left(t_{2} + t_{3}\\right)}}{b {\\left(t_{1} + t_{2} + t_{3}\\right)} t_{1} t_{2} t_{3}}</script></html>"
      ],
      "text/latex": [
       "$$\\newcommand{\\Bold}[1]{\\mathbf{#1}}\\frac{{\\left(b t_{1} + 1\\right)} {\\left(t_{1} + t_{2}\\right)} {\\left(t_{1} + t_{3}\\right)} {\\left(t_{2} + t_{3}\\right)}}{b {\\left(t_{1} + t_{2} + t_{3}\\right)} t_{1} t_{2} t_{3}}$$"
      ],
      "text/plain": [
       "(b*t1 + 1)*(t1 + t2)*(t1 + t3)*(t2 + t3)/(b*(t1 + t2 + t3)*t1*t2*t3)"
      ]
     },
     "execution_count": 56,
     "metadata": {},
     "output_type": "execute_result"
    }
   ],
   "source": [
    "tc = Vertex4d.Total_Chern(Weight2,1)(t1*b,t2*b,t3*b,t4*b,0,0)\n",
    "pretty(tc)"
   ]
  },
  {
   "cell_type": "code",
   "execution_count": 57,
   "metadata": {},
   "outputs": [
    {
     "data": {
      "text/html": [
       "<html><script type=\"math/tex; mode=display\">\\newcommand{\\Bold}[1]{\\mathbf{#1}}\\frac{{\\left(b t_{1} + 1\\right)} {\\left(t_{1} + t_{2}\\right)} {\\left(t_{1} + t_{3}\\right)} {\\left(t_{2} + t_{3}\\right)}}{2 \\, b {\\left(t_{1} + t_{2} + t_{3}\\right)} t_{1} t_{2} t_{3}}</script></html>"
      ],
      "text/latex": [
       "$$\\newcommand{\\Bold}[1]{\\mathbf{#1}}\\frac{{\\left(b t_{1} + 1\\right)} {\\left(t_{1} + t_{2}\\right)} {\\left(t_{1} + t_{3}\\right)} {\\left(t_{2} + t_{3}\\right)}}{2 \\, b {\\left(t_{1} + t_{2} + t_{3}\\right)} t_{1} t_{2} t_{3}}$$"
      ],
      "text/plain": [
       "1/2*(b*t1 + 1)*(t1 + t2)*(t1 + t3)*(t2 + t3)/(b*(t1 + t2 + t3)*t1*t2*t3)"
      ]
     },
     "execution_count": 57,
     "metadata": {},
     "output_type": "execute_result"
    }
   ],
   "source": [
    "verl = Vertex4d.Verlinde(Weight2,1)(exp(t1*b),exp(t2*b),exp(t3*b),0,0,0)\n",
    "pretty(verl.taylor(b,0,0))"
   ]
  },
  {
   "cell_type": "markdown",
   "metadata": {},
   "source": [
    "The difference is 0 when we restrict to $\\deg b$ $\\leq 0$."
   ]
  },
  {
   "cell_type": "code",
   "execution_count": 78,
   "metadata": {},
   "outputs": [
    {
     "data": {
      "text/html": [
       "<html><script type=\"math/tex; mode=display\">\\newcommand{\\Bold}[1]{\\mathbf{#1}}\\frac{{\\left(b t_{1}^{3} t_{2} + b t_{1}^{2} t_{2}^{2} + b t_{1}^{3} t_{3} - 3 \\, b t_{1}^{2} t_{2} t_{3} - 4 \\, b t_{1} t_{2}^{2} t_{3} + b t_{1}^{2} t_{3}^{2} - 4 \\, b t_{1} t_{2} t_{3}^{2} + t_{1}^{2} t_{2} + t_{1} t_{2}^{2} + t_{1}^{2} t_{3} + 2 \\, t_{1} t_{2} t_{3} + t_{2}^{2} t_{3} + t_{1} t_{3}^{2} + t_{2} t_{3}^{2}\\right)} {\\left(b t_{1} + 1\\right)} {\\left(t_{1} + t_{2}\\right)} {\\left(t_{1} + t_{3}\\right)} {\\left(t_{2} + t_{3}\\right)}}{2 \\, b^{2} {\\left(t_{1} + t_{2} + t_{3}\\right)}^{2} t_{1}^{2} t_{2}^{2} t_{3}^{2}}</script></html>"
      ],
      "text/latex": [
       "$$\\newcommand{\\Bold}[1]{\\mathbf{#1}}\\frac{{\\left(b t_{1}^{3} t_{2} + b t_{1}^{2} t_{2}^{2} + b t_{1}^{3} t_{3} - 3 \\, b t_{1}^{2} t_{2} t_{3} - 4 \\, b t_{1} t_{2}^{2} t_{3} + b t_{1}^{2} t_{3}^{2} - 4 \\, b t_{1} t_{2} t_{3}^{2} + t_{1}^{2} t_{2} + t_{1} t_{2}^{2} + t_{1}^{2} t_{3} + 2 \\, t_{1} t_{2} t_{3} + t_{2}^{2} t_{3} + t_{1} t_{3}^{2} + t_{2} t_{3}^{2}\\right)} {\\left(b t_{1} + 1\\right)} {\\left(t_{1} + t_{2}\\right)} {\\left(t_{1} + t_{3}\\right)} {\\left(t_{2} + t_{3}\\right)}}{2 \\, b^{2} {\\left(t_{1} + t_{2} + t_{3}\\right)}^{2} t_{1}^{2} t_{2}^{2} t_{3}^{2}}$$"
      ],
      "text/plain": [
       "1/2*(b*t1^3*t2 + b*t1^2*t2^2 + b*t1^3*t3 - 3*b*t1^2*t2*t3 - 4*b*t1*t2^2*t3 + b*t1^2*t3^2 - 4*b*t1*t2*t3^2 + t1^2*t2 + t1*t2^2 + t1^2*t3 + 2*t1*t2*t3 + t2^2*t3 + t1*t3^2 + t2*t3^2)*(b*t1 + 1)*(t1 + t2)*(t1 + t3)*(t2 + t3)/(b^2*(t1 + t2 + t3)^2*t1^2*t2^2*t3^2)"
      ]
     },
     "execution_count": 78,
     "metadata": {},
     "output_type": "execute_result"
    }
   ],
   "source": [
    "tc2 = Vertex4d.Total_Chern(Weight2,2)(t1*b,t2*b,t3*b,t4*b,0,0)\n",
    "taylc=tc2.taylor(b,0,0)\n",
    "pretty(taylc)"
   ]
  },
  {
   "cell_type": "code",
   "execution_count": 84,
   "metadata": {},
   "outputs": [
    {
     "data": {
      "text/html": [
       "<html><script type=\"math/tex; mode=display\">\\newcommand{\\Bold}[1]{\\mathbf{#1}}\\frac{{\\left(8 \\, b^{2} t_{1}^{4} t_{2} + 8 \\, b^{2} t_{1}^{3} t_{2}^{2} + 8 \\, b^{2} t_{1}^{4} t_{3} - 24 \\, b^{2} t_{1}^{3} t_{2} t_{3} - 32 \\, b^{2} t_{1}^{2} t_{2}^{2} t_{3} + 8 \\, b^{2} t_{1}^{3} t_{3}^{2} - 32 \\, b^{2} t_{1}^{2} t_{2} t_{3}^{2} + 4 \\, b t_{1}^{3} t_{2} + 4 \\, b t_{1}^{2} t_{2}^{2} + 4 \\, b t_{1}^{3} t_{3} - 2 \\, b t_{1}^{2} t_{2} t_{3} - 6 \\, b t_{1} t_{2}^{2} t_{3} + 4 \\, b t_{1}^{2} t_{3}^{2} - 6 \\, b t_{1} t_{2} t_{3}^{2} + t_{1}^{2} t_{2} + t_{1} t_{2}^{2} + t_{1}^{2} t_{3} + 2 \\, t_{1} t_{2} t_{3} + t_{2}^{2} t_{3} + t_{1} t_{3}^{2} + t_{2} t_{3}^{2}\\right)} {\\left(t_{1} + t_{2}\\right)} {\\left(t_{1} + t_{3}\\right)} {\\left(t_{2} + t_{3}\\right)}}{8 \\, b^{2} {\\left(t_{1} + t_{2} + t_{3}\\right)}^{2} t_{1}^{2} t_{2}^{2} t_{3}^{2}}</script></html>"
      ],
      "text/latex": [
       "$$\\newcommand{\\Bold}[1]{\\mathbf{#1}}\\frac{{\\left(8 \\, b^{2} t_{1}^{4} t_{2} + 8 \\, b^{2} t_{1}^{3} t_{2}^{2} + 8 \\, b^{2} t_{1}^{4} t_{3} - 24 \\, b^{2} t_{1}^{3} t_{2} t_{3} - 32 \\, b^{2} t_{1}^{2} t_{2}^{2} t_{3} + 8 \\, b^{2} t_{1}^{3} t_{3}^{2} - 32 \\, b^{2} t_{1}^{2} t_{2} t_{3}^{2} + 4 \\, b t_{1}^{3} t_{2} + 4 \\, b t_{1}^{2} t_{2}^{2} + 4 \\, b t_{1}^{3} t_{3} - 2 \\, b t_{1}^{2} t_{2} t_{3} - 6 \\, b t_{1} t_{2}^{2} t_{3} + 4 \\, b t_{1}^{2} t_{3}^{2} - 6 \\, b t_{1} t_{2} t_{3}^{2} + t_{1}^{2} t_{2} + t_{1} t_{2}^{2} + t_{1}^{2} t_{3} + 2 \\, t_{1} t_{2} t_{3} + t_{2}^{2} t_{3} + t_{1} t_{3}^{2} + t_{2} t_{3}^{2}\\right)} {\\left(t_{1} + t_{2}\\right)} {\\left(t_{1} + t_{3}\\right)} {\\left(t_{2} + t_{3}\\right)}}{8 \\, b^{2} {\\left(t_{1} + t_{2} + t_{3}\\right)}^{2} t_{1}^{2} t_{2}^{2} t_{3}^{2}}$$"
      ],
      "text/plain": [
       "1/8*(8*b^2*t1^4*t2 + 8*b^2*t1^3*t2^2 + 8*b^2*t1^4*t3 - 24*b^2*t1^3*t2*t3 - 32*b^2*t1^2*t2^2*t3 + 8*b^2*t1^3*t3^2 - 32*b^2*t1^2*t2*t3^2 + 4*b*t1^3*t2 + 4*b*t1^2*t2^2 + 4*b*t1^3*t3 - 2*b*t1^2*t2*t3 - 6*b*t1*t2^2*t3 + 4*b*t1^2*t3^2 - 6*b*t1*t2*t3^2 + t1^2*t2 + t1*t2^2 + t1^2*t3 + 2*t1*t2*t3 + t2^2*t3 + t1*t3^2 + t2*t3^2)*(t1 + t2)*(t1 + t3)*(t2 + t3)/(b^2*(t1 + t2 + t3)^2*t1^2*t2^2*t3^2)"
      ]
     },
     "execution_count": 84,
     "metadata": {},
     "output_type": "execute_result"
    }
   ],
   "source": [
    "verl2 = Vertex4d.Verlinde(Weight2,2)(exp(t1*b),exp(t2*b),exp(t3*b),0,0,0)\n",
    "taylv=verl2.taylor(b,0,0)\n",
    "pretty(taylv)"
   ]
  },
  {
   "cell_type": "code",
   "execution_count": 85,
   "metadata": {},
   "outputs": [
    {
     "data": {
      "text/html": [
       "<html><script type=\"math/tex; mode=display\">\\newcommand{\\Bold}[1]{\\mathbf{#1}}\\frac{{\\left(7 \\, b t_{1}^{3} t_{2} + 7 \\, b t_{1}^{2} t_{2}^{2} + 7 \\, b t_{1}^{3} t_{3} - 21 \\, b t_{1}^{2} t_{2} t_{3} - 28 \\, b t_{1} t_{2}^{2} t_{3} + 7 \\, b t_{1}^{2} t_{3}^{2} - 28 \\, b t_{1} t_{2} t_{3}^{2} + 2 \\, t_{1}^{2} t_{2} + 2 \\, t_{1} t_{2}^{2} + 2 \\, t_{1}^{2} t_{3} - t_{1} t_{2} t_{3} - 3 \\, t_{2}^{2} t_{3} + 2 \\, t_{1} t_{3}^{2} - 3 \\, t_{2} t_{3}^{2}\\right)} {\\left(t_{1} + t_{2}\\right)} {\\left(t_{1} + t_{3}\\right)} {\\left(t_{2} + t_{3}\\right)}}{2 \\, b {\\left(t_{1} + t_{2} + t_{3}\\right)}^{2} t_{1} t_{2}^{2} t_{3}^{2}}</script></html>"
      ],
      "text/latex": [
       "$$\\newcommand{\\Bold}[1]{\\mathbf{#1}}\\frac{{\\left(7 \\, b t_{1}^{3} t_{2} + 7 \\, b t_{1}^{2} t_{2}^{2} + 7 \\, b t_{1}^{3} t_{3} - 21 \\, b t_{1}^{2} t_{2} t_{3} - 28 \\, b t_{1} t_{2}^{2} t_{3} + 7 \\, b t_{1}^{2} t_{3}^{2} - 28 \\, b t_{1} t_{2} t_{3}^{2} + 2 \\, t_{1}^{2} t_{2} + 2 \\, t_{1} t_{2}^{2} + 2 \\, t_{1}^{2} t_{3} - t_{1} t_{2} t_{3} - 3 \\, t_{2}^{2} t_{3} + 2 \\, t_{1} t_{3}^{2} - 3 \\, t_{2} t_{3}^{2}\\right)} {\\left(t_{1} + t_{2}\\right)} {\\left(t_{1} + t_{3}\\right)} {\\left(t_{2} + t_{3}\\right)}}{2 \\, b {\\left(t_{1} + t_{2} + t_{3}\\right)}^{2} t_{1} t_{2}^{2} t_{3}^{2}}$$"
      ],
      "text/plain": [
       "1/2*(7*b*t1^3*t2 + 7*b*t1^2*t2^2 + 7*b*t1^3*t3 - 21*b*t1^2*t2*t3 - 28*b*t1*t2^2*t3 + 7*b*t1^2*t3^2 - 28*b*t1*t2*t3^2 + 2*t1^2*t2 + 2*t1*t2^2 + 2*t1^2*t3 - t1*t2*t3 - 3*t2^2*t3 + 2*t1*t3^2 - 3*t2*t3^2)*(t1 + t2)*(t1 + t3)*(t2 + t3)/(b*(t1 + t2 + t3)^2*t1*t2^2*t3^2)"
      ]
     },
     "execution_count": 85,
     "metadata": {},
     "output_type": "execute_result"
    }
   ],
   "source": [
    "pretty(taylv*4-taylc)"
   ]
  },
  {
   "cell_type": "markdown",
   "metadata": {},
   "source": [
    "The extra term at $\\deg b = -1$ does not change. So the term does not depend on rank or weight."
   ]
  },
  {
   "cell_type": "code",
   "execution_count": 16,
   "metadata": {},
   "outputs": [],
   "source": [
    "Weight2=(1,2,3,4,5,6,1,2,3,4,5,6)"
   ]
  },
  {
   "cell_type": "code",
   "execution_count": 17,
   "metadata": {},
   "outputs": [
    {
     "data": {
      "text/html": [
       "<html><script type=\"math/tex; mode=display\">\\newcommand{\\Bold}[1]{\\mathbf{#1}}\\frac{{\\left(20 \\, b t_{1}^{3} t_{2} + 48 \\, b t_{1}^{2} t_{2}^{2} + 28 \\, b t_{1} t_{2}^{3} + 20 \\, b t_{1}^{3} t_{3} + 84 \\, b t_{1}^{2} t_{2} t_{3} + 92 \\, b t_{1} t_{2}^{2} t_{3} + 28 \\, b t_{2}^{3} t_{3} + 56 \\, b t_{1}^{2} t_{3}^{2} + 100 \\, b t_{1} t_{2} t_{3}^{2} + 64 \\, b t_{2}^{2} t_{3}^{2} + 36 \\, b t_{1} t_{3}^{3} + 36 \\, b t_{2} t_{3}^{3} + t_{1}^{2} t_{2} + t_{1} t_{2}^{2} + t_{1}^{2} t_{3} + 2 \\, t_{1} t_{2} t_{3} + t_{2}^{2} t_{3} + t_{1} t_{3}^{2} + t_{2} t_{3}^{2}\\right)} {\\left(t_{1} + t_{2}\\right)} {\\left(t_{1} + t_{3}\\right)} {\\left(t_{2} + t_{3}\\right)}}{2 \\, b^{2} {\\left(t_{1} + t_{2} + t_{3}\\right)}^{2} t_{1}^{2} t_{2}^{2} t_{3}^{2}}</script></html>"
      ],
      "text/latex": [
       "$$\\newcommand{\\Bold}[1]{\\mathbf{#1}}\\frac{{\\left(20 \\, b t_{1}^{3} t_{2} + 48 \\, b t_{1}^{2} t_{2}^{2} + 28 \\, b t_{1} t_{2}^{3} + 20 \\, b t_{1}^{3} t_{3} + 84 \\, b t_{1}^{2} t_{2} t_{3} + 92 \\, b t_{1} t_{2}^{2} t_{3} + 28 \\, b t_{2}^{3} t_{3} + 56 \\, b t_{1}^{2} t_{3}^{2} + 100 \\, b t_{1} t_{2} t_{3}^{2} + 64 \\, b t_{2}^{2} t_{3}^{2} + 36 \\, b t_{1} t_{3}^{3} + 36 \\, b t_{2} t_{3}^{3} + t_{1}^{2} t_{2} + t_{1} t_{2}^{2} + t_{1}^{2} t_{3} + 2 \\, t_{1} t_{2} t_{3} + t_{2}^{2} t_{3} + t_{1} t_{3}^{2} + t_{2} t_{3}^{2}\\right)} {\\left(t_{1} + t_{2}\\right)} {\\left(t_{1} + t_{3}\\right)} {\\left(t_{2} + t_{3}\\right)}}{2 \\, b^{2} {\\left(t_{1} + t_{2} + t_{3}\\right)}^{2} t_{1}^{2} t_{2}^{2} t_{3}^{2}}$$"
      ],
      "text/plain": [
       "1/2*(20*b*t1^3*t2 + 48*b*t1^2*t2^2 + 28*b*t1*t2^3 + 20*b*t1^3*t3 + 84*b*t1^2*t2*t3 + 92*b*t1*t2^2*t3 + 28*b*t2^3*t3 + 56*b*t1^2*t3^2 + 100*b*t1*t2*t3^2 + 64*b*t2^2*t3^2 + 36*b*t1*t3^3 + 36*b*t2*t3^3 + t1^2*t2 + t1*t2^2 + t1^2*t3 + 2*t1*t2*t3 + t2^2*t3 + t1*t3^2 + t2*t3^2)*(t1 + t2)*(t1 + t3)*(t2 + t3)/(b^2*(t1 + t2 + t3)^2*t1^2*t2^2*t3^2)"
      ]
     },
     "execution_count": 17,
     "metadata": {},
     "output_type": "execute_result"
    }
   ],
   "source": [
    "tc2 = Vertex4d.Total_Chern(Weight2,2)(t1*b,t2*b,t3*b,t4*b,0,0)\n",
    "taylc=tc2.taylor(b,0,-1)\n",
    "pretty(taylc)"
   ]
  },
  {
   "cell_type": "code",
   "execution_count": 18,
   "metadata": {},
   "outputs": [
    {
     "data": {
      "text/html": [
       "<html><script type=\"math/tex; mode=display\">\\newcommand{\\Bold}[1]{\\mathbf{#1}}\\frac{{\\left(40 \\, b t_{1}^{3} t_{2} + 96 \\, b t_{1}^{2} t_{2}^{2} + 56 \\, b t_{1} t_{2}^{3} + 40 \\, b t_{1}^{3} t_{3} + 163 \\, b t_{1}^{2} t_{2} t_{3} + 179 \\, b t_{1} t_{2}^{2} t_{3} + 56 \\, b t_{2}^{3} t_{3} + 112 \\, b t_{1}^{2} t_{3}^{2} + 195 \\, b t_{1} t_{2} t_{3}^{2} + 128 \\, b t_{2}^{2} t_{3}^{2} + 72 \\, b t_{1} t_{3}^{3} + 72 \\, b t_{2} t_{3}^{3} + 2 \\, t_{1}^{2} t_{2} + 2 \\, t_{1} t_{2}^{2} + 2 \\, t_{1}^{2} t_{3} + 4 \\, t_{1} t_{2} t_{3} + 2 \\, t_{2}^{2} t_{3} + 2 \\, t_{1} t_{3}^{2} + 2 \\, t_{2} t_{3}^{2}\\right)} {\\left(t_{1} + t_{2}\\right)} {\\left(t_{1} + t_{3}\\right)} {\\left(t_{2} + t_{3}\\right)}}{4 \\, b^{2} {\\left(t_{1} + t_{2} + t_{3}\\right)}^{2} t_{1}^{2} t_{2}^{2} t_{3}^{2}}</script></html>"
      ],
      "text/latex": [
       "$$\\newcommand{\\Bold}[1]{\\mathbf{#1}}\\frac{{\\left(40 \\, b t_{1}^{3} t_{2} + 96 \\, b t_{1}^{2} t_{2}^{2} + 56 \\, b t_{1} t_{2}^{3} + 40 \\, b t_{1}^{3} t_{3} + 163 \\, b t_{1}^{2} t_{2} t_{3} + 179 \\, b t_{1} t_{2}^{2} t_{3} + 56 \\, b t_{2}^{3} t_{3} + 112 \\, b t_{1}^{2} t_{3}^{2} + 195 \\, b t_{1} t_{2} t_{3}^{2} + 128 \\, b t_{2}^{2} t_{3}^{2} + 72 \\, b t_{1} t_{3}^{3} + 72 \\, b t_{2} t_{3}^{3} + 2 \\, t_{1}^{2} t_{2} + 2 \\, t_{1} t_{2}^{2} + 2 \\, t_{1}^{2} t_{3} + 4 \\, t_{1} t_{2} t_{3} + 2 \\, t_{2}^{2} t_{3} + 2 \\, t_{1} t_{3}^{2} + 2 \\, t_{2} t_{3}^{2}\\right)} {\\left(t_{1} + t_{2}\\right)} {\\left(t_{1} + t_{3}\\right)} {\\left(t_{2} + t_{3}\\right)}}{4 \\, b^{2} {\\left(t_{1} + t_{2} + t_{3}\\right)}^{2} t_{1}^{2} t_{2}^{2} t_{3}^{2}}$$"
      ],
      "text/plain": [
       "1/4*(40*b*t1^3*t2 + 96*b*t1^2*t2^2 + 56*b*t1*t2^3 + 40*b*t1^3*t3 + 163*b*t1^2*t2*t3 + 179*b*t1*t2^2*t3 + 56*b*t2^3*t3 + 112*b*t1^2*t3^2 + 195*b*t1*t2*t3^2 + 128*b*t2^2*t3^2 + 72*b*t1*t3^3 + 72*b*t2*t3^3 + 2*t1^2*t2 + 2*t1*t2^2 + 2*t1^2*t3 + 4*t1*t2*t3 + 2*t2^2*t3 + 2*t1*t3^2 + 2*t2*t3^2)*(t1 + t2)*(t1 + t3)*(t2 + t3)/(b^2*(t1 + t2 + t3)^2*t1^2*t2^2*t3^2)"
      ]
     },
     "execution_count": 18,
     "metadata": {},
     "output_type": "execute_result"
    }
   ],
   "source": [
    "verl2 = Vertex4d.Verlinde(Weight2,2)(exp(t1*b),exp(t2*b),exp(t3*b),0,0,0)\n",
    "tayl = verl2.taylor(b,0,-1)\n",
    "pretty(tayl)"
   ]
  },
  {
   "cell_type": "code",
   "execution_count": 19,
   "metadata": {},
   "outputs": [
    {
     "data": {
      "text/html": [
       "<html><script type=\"math/tex; mode=display\">\\newcommand{\\Bold}[1]{\\mathbf{#1}}-\\frac{5 \\, {\\left(t_{1} + t_{2}\\right)} {\\left(t_{1} + t_{3}\\right)} {\\left(t_{2} + t_{3}\\right)}}{4 \\, b {\\left(t_{1} + t_{2} + t_{3}\\right)} t_{1} t_{2} t_{3}}</script></html>"
      ],
      "text/latex": [
       "$$\\newcommand{\\Bold}[1]{\\mathbf{#1}}-\\frac{5 \\, {\\left(t_{1} + t_{2}\\right)} {\\left(t_{1} + t_{3}\\right)} {\\left(t_{2} + t_{3}\\right)}}{4 \\, b {\\left(t_{1} + t_{2} + t_{3}\\right)} t_{1} t_{2} t_{3}}$$"
      ],
      "text/plain": [
       "-5/4*(t1 + t2)*(t1 + t3)*(t2 + t3)/(b*(t1 + t2 + t3)*t1*t2*t3)"
      ]
     },
     "execution_count": 19,
     "metadata": {},
     "output_type": "execute_result"
    }
   ],
   "source": [
    "pretty(tayl-taylc)"
   ]
  },
  {
   "cell_type": "markdown",
   "metadata": {},
   "source": [
    "After some trail and error, we see the difference at $\\deg b=0$ is\n",
    "\n",
    "$$\\sum_{i=1}^r\\frac{(t_1+t_2)^2(t_1+t_3)^2(t_2+t_3)^2(w_1^{(i)}t_1+w_2^{(i)}t_2+w_3^{(i)}t_3)^2}{2(t_1+t_2+t_3)^2t_1^2t_2^2t_3^2}-\\frac{5(t_1+t_2)(t_1+t_3)(t_2+t_3)(w_1^{(i)}t_1+w_2^{(i)}t_2+w_3^{(i)}t_3)}{(t_1+t_2+t_3)t_1t_2t_3} $$\n",
    "\n",
    "where $w^{(i)}$, $i=1,...,r$ are the weights of $\\alpha$ (rank $r$)."
   ]
  },
  {
   "cell_type": "markdown",
   "metadata": {},
   "source": [
    "-------------------"
   ]
  },
  {
   "cell_type": "code",
   "execution_count": 20,
   "metadata": {},
   "outputs": [
    {
     "data": {
      "text/html": [
       "<html><script type=\"math/tex; mode=display\">\\newcommand{\\Bold}[1]{\\mathbf{#1}}\\frac{16 \\, {\\left(45 \\, b^{2} - 90 \\, b + 16\\right)}}{81 \\, b^{3}}</script></html>"
      ],
      "text/latex": [
       "$$\\newcommand{\\Bold}[1]{\\mathbf{#1}}\\frac{16 \\, {\\left(45 \\, b^{2} - 90 \\, b + 16\\right)}}{81 \\, b^{3}}$$"
      ],
      "text/plain": [
       "16/81*(45*b^2 - 90*b + 16)/b^3"
      ]
     },
     "execution_count": 20,
     "metadata": {},
     "output_type": "execute_result"
    }
   ],
   "source": [
    "Weight3=(0,0,0)\n",
    "tc = Vertex4d.Total_Chern(Weight3,3)(b,b,b,0,0,0)\n",
    "pretty(tc)"
   ]
  },
  {
   "cell_type": "code",
   "execution_count": 21,
   "metadata": {},
   "outputs": [
    {
     "data": {
      "text/html": [
       "<html><script type=\"math/tex; mode=display\">\\newcommand{\\Bold}[1]{\\mathbf{#1}}-\\frac{160}{9}</script></html>"
      ],
      "text/latex": [
       "$$\\newcommand{\\Bold}[1]{\\mathbf{#1}}-\\frac{160}{9}$$"
      ],
      "text/plain": [
       "-160/9"
      ]
     },
     "execution_count": 21,
     "metadata": {},
     "output_type": "execute_result"
    }
   ],
   "source": [
    "tc3 = Vertex4d.Total_Chern((0,0,0),3)(t1=1*b,t2=1*b,t3=1*b)\n",
    "(tc3*b^3).diff(b).limit(b=0)"
   ]
  },
  {
   "cell_type": "code",
   "execution_count": 22,
   "metadata": {},
   "outputs": [
    {
     "data": {
      "text/html": [
       "<html><script type=\"math/tex; mode=display\">\\newcommand{\\Bold}[1]{\\mathbf{#1}}-\\frac{80}{3}</script></html>"
      ],
      "text/latex": [
       "$$\\newcommand{\\Bold}[1]{\\mathbf{#1}}-\\frac{80}{3}$$"
      ],
      "text/plain": [
       "-80/3"
      ]
     },
     "execution_count": 22,
     "metadata": {},
     "output_type": "execute_result"
    }
   ],
   "source": [
    "verl3=Vertex4d.Verlinde((0,0,0),3)(exp(1*b),exp(1*b),exp(1*b),0,0,0)\n",
    "(verl3*b^3).diff(b).limit(b=0)"
   ]
  }
 ],
 "metadata": {
  "kernelspec": {
   "display_name": "SageMath 9.3",
   "language": "sage",
   "name": "sagemath"
  },
  "language_info": {
   "codemirror_mode": {
    "name": "ipython",
    "version": 3
   },
   "file_extension": ".py",
   "mimetype": "text/x-python",
   "name": "python",
   "nbconvert_exporter": "python",
   "pygments_lexer": "ipython3",
   "version": "3.7.10"
  }
 },
 "nbformat": 4,
 "nbformat_minor": 4
}
